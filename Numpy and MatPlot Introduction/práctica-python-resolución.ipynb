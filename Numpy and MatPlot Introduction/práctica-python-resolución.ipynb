{
 "cells": [
  {
   "cell_type": "markdown",
   "metadata": {},
   "source": [
    "# Python Científico\n",
    "### Sistemas Inteligentes"
   ]
  },
  {
   "cell_type": "markdown",
   "metadata": {},
   "source": [
    "Recuerde que a NumPy y a Matplotlib se los suele importar de la siguiente forma:"
   ]
  },
  {
   "cell_type": "code",
   "execution_count": 1,
   "metadata": {
    "collapsed": true
   },
   "outputs": [],
   "source": [
    "import numpy as np\n",
    "import matplotlib as mpl\n",
    "import matplotlib.pyplot as plt"
   ]
  },
  {
   "cell_type": "markdown",
   "metadata": {},
   "source": [
    "## EJERCICIO 1"
   ]
  },
  {
   "cell_type": "markdown",
   "metadata": {},
   "source": [
    "a) Genere el arreglo `a1` con los valores enteros entre 1 y 12 inclusive.\n"
   ]
  },
  {
   "cell_type": "code",
   "execution_count": 2,
   "metadata": {},
   "outputs": [
    {
     "data": {
      "text/plain": [
       "array([ 1,  2,  3,  4,  5,  6,  7,  8,  9, 10, 11, 12])"
      ]
     },
     "execution_count": 2,
     "metadata": {},
     "output_type": "execute_result"
    }
   ],
   "source": [
    "a1 = np.arange(1, 13)\n",
    "a1"
   ]
  },
  {
   "cell_type": "markdown",
   "metadata": {},
   "source": [
    "b) ¿Cuántas dimensione o ejes posee `a1`? Es decir, ¿qué forma tiene?"
   ]
  },
  {
   "cell_type": "code",
   "execution_count": 3,
   "metadata": {},
   "outputs": [
    {
     "data": {
      "text/plain": [
       "(12,)"
      ]
     },
     "execution_count": 3,
     "metadata": {},
     "output_type": "execute_result"
    }
   ],
   "source": [
    "a1.shape"
   ]
  },
  {
   "cell_type": "markdown",
   "metadata": {},
   "source": [
    "c) ¿Cuál es el tipo de los valores almacenados en `a1`?"
   ]
  },
  {
   "cell_type": "code",
   "execution_count": 4,
   "metadata": {},
   "outputs": [
    {
     "data": {
      "text/plain": [
       "dtype('int32')"
      ]
     },
     "execution_count": 4,
     "metadata": {},
     "output_type": "execute_result"
    }
   ],
   "source": [
    "a1.dtype"
   ]
  },
  {
   "cell_type": "code",
   "execution_count": 5,
   "metadata": {},
   "outputs": [
    {
     "data": {
      "text/plain": [
       "'int32'"
      ]
     },
     "execution_count": 5,
     "metadata": {},
     "output_type": "execute_result"
    }
   ],
   "source": [
    "a1.dtype.name"
   ]
  },
  {
   "cell_type": "code",
   "execution_count": 6,
   "metadata": {},
   "outputs": [
    {
     "data": {
      "text/plain": [
       "True"
      ]
     },
     "execution_count": 6,
     "metadata": {},
     "output_type": "execute_result"
    }
   ],
   "source": [
    "a1.dtype == np.int32"
   ]
  },
  {
   "cell_type": "markdown",
   "metadata": {},
   "source": [
    "d) Obtenga el valor de `a1` ubicado en la posición 5."
   ]
  },
  {
   "cell_type": "code",
   "execution_count": 7,
   "metadata": {},
   "outputs": [
    {
     "data": {
      "text/plain": [
       "6"
      ]
     },
     "execution_count": 7,
     "metadata": {},
     "output_type": "execute_result"
    }
   ],
   "source": [
    "a1[5]"
   ]
  },
  {
   "cell_type": "markdown",
   "metadata": {},
   "source": [
    "e) Obtenga los valores de `a1` ubicados entre las posiciones 3 y 8 inclusive."
   ]
  },
  {
   "cell_type": "code",
   "execution_count": 8,
   "metadata": {},
   "outputs": [
    {
     "data": {
      "text/plain": [
       "array([4, 5, 6, 7, 8, 9])"
      ]
     },
     "execution_count": 8,
     "metadata": {},
     "output_type": "execute_result"
    }
   ],
   "source": [
    "a1[3:9]"
   ]
  },
  {
   "cell_type": "markdown",
   "metadata": {},
   "source": [
    "f) Obtenga los valores que se encuentran en las posiciones pares de `a1`."
   ]
  },
  {
   "cell_type": "code",
   "execution_count": 9,
   "metadata": {},
   "outputs": [
    {
     "data": {
      "text/plain": [
       "array([ 1,  3,  5,  7,  9, 11])"
      ]
     },
     "execution_count": 9,
     "metadata": {},
     "output_type": "execute_result"
    }
   ],
   "source": [
    "a1[::2]"
   ]
  },
  {
   "cell_type": "markdown",
   "metadata": {},
   "source": [
    "g) Genere un nuevo arreglo `a2` resultado de multiplicar por 3 a los valores ubicados en las posiciones impares de `a1` entre la 2 y la 7 inclusive."
   ]
  },
  {
   "cell_type": "code",
   "execution_count": 10,
   "metadata": {},
   "outputs": [
    {
     "data": {
      "text/plain": [
       "array([12, 18, 24])"
      ]
     },
     "execution_count": 10,
     "metadata": {},
     "output_type": "execute_result"
    }
   ],
   "source": [
    "a2 = 3 * a1[3:8:2]\n",
    "a2"
   ]
  },
  {
   "cell_type": "markdown",
   "metadata": {},
   "source": [
    "h) Modifique el arreglo `a1` sumándole 10 a los valores ubicados entre las posiciones 4 y 7 inclusive."
   ]
  },
  {
   "cell_type": "code",
   "execution_count": 11,
   "metadata": {},
   "outputs": [
    {
     "data": {
      "text/plain": [
       "array([ 1,  2,  3,  4,  6,  7,  8,  9,  9, 10, 11, 12])"
      ]
     },
     "execution_count": 11,
     "metadata": {},
     "output_type": "execute_result"
    }
   ],
   "source": [
    "a1[4:8] += 1\n",
    "a1"
   ]
  },
  {
   "cell_type": "markdown",
   "metadata": {},
   "source": [
    "i) Cambie la forma de `a1` para que sea una matriz de 3x4."
   ]
  },
  {
   "cell_type": "code",
   "execution_count": 12,
   "metadata": {},
   "outputs": [
    {
     "data": {
      "text/plain": [
       "array([[ 1,  2,  3,  4],\n",
       "       [ 6,  7,  8,  9],\n",
       "       [ 9, 10, 11, 12]])"
      ]
     },
     "execution_count": 12,
     "metadata": {},
     "output_type": "execute_result"
    }
   ],
   "source": [
    "a1.shape = (3,4)\n",
    "a1"
   ]
  },
  {
   "cell_type": "markdown",
   "metadata": {},
   "source": [
    "j) Obtenga las columnas 0 y 3 de `a1`. ¿Qué forma tiene?"
   ]
  },
  {
   "cell_type": "code",
   "execution_count": 13,
   "metadata": {},
   "outputs": [
    {
     "data": {
      "text/plain": [
       "array([[ 1,  4],\n",
       "       [ 6,  9],\n",
       "       [ 9, 12]])"
      ]
     },
     "execution_count": 13,
     "metadata": {},
     "output_type": "execute_result"
    }
   ],
   "source": [
    "a1[:, [0, 3]]"
   ]
  },
  {
   "cell_type": "code",
   "execution_count": 14,
   "metadata": {},
   "outputs": [
    {
     "data": {
      "text/plain": [
       "(3, 2)"
      ]
     },
     "execution_count": 14,
     "metadata": {},
     "output_type": "execute_result"
    }
   ],
   "source": [
    "a1[:, [0, 3]].shape"
   ]
  },
  {
   "cell_type": "markdown",
   "metadata": {},
   "source": [
    "k) Súmele 1 a los elementos ubicados en la submatriz de a1 ubicada a partir de la fila 1, columna 1."
   ]
  },
  {
   "cell_type": "code",
   "execution_count": 15,
   "metadata": {},
   "outputs": [
    {
     "data": {
      "text/plain": [
       "array([[ 1,  2,  3,  4],\n",
       "       [ 6,  8,  9, 10],\n",
       "       [ 9, 11, 12, 13]])"
      ]
     },
     "execution_count": 15,
     "metadata": {},
     "output_type": "execute_result"
    }
   ],
   "source": [
    "a1[1:, 1:] += 1\n",
    "a1"
   ]
  },
  {
   "cell_type": "markdown",
   "metadata": {},
   "source": [
    "l) Obtenga la matriz transpuesta de `a1`."
   ]
  },
  {
   "cell_type": "code",
   "execution_count": 16,
   "metadata": {},
   "outputs": [
    {
     "data": {
      "text/plain": [
       "array([[ 1,  6,  9],\n",
       "       [ 2,  8, 11],\n",
       "       [ 3,  9, 12],\n",
       "       [ 4, 10, 13]])"
      ]
     },
     "execution_count": 16,
     "metadata": {},
     "output_type": "execute_result"
    }
   ],
   "source": [
    "a1.T"
   ]
  },
  {
   "cell_type": "markdown",
   "metadata": {},
   "source": [
    "m) Calcule el producto matricial entre `a1` y su matriz transpuesta."
   ]
  },
  {
   "cell_type": "code",
   "execution_count": 17,
   "metadata": {},
   "outputs": [
    {
     "data": {
      "text/plain": [
       "array([[ 30,  89, 119],\n",
       "       [ 89, 281, 380],\n",
       "       [119, 380, 515]])"
      ]
     },
     "execution_count": 17,
     "metadata": {},
     "output_type": "execute_result"
    }
   ],
   "source": [
    "np.dot(a1, a1.T)"
   ]
  },
  {
   "cell_type": "markdown",
   "metadata": {},
   "source": [
    "n) Genere el arreglo `a3` con los valores de `a1` convertidos a una representación en punto flotante de 32 bits (simple precisión del estándar IEEE 754)."
   ]
  },
  {
   "cell_type": "code",
   "execution_count": 18,
   "metadata": {},
   "outputs": [
    {
     "data": {
      "text/plain": [
       "array([[  1.,   2.,   3.,   4.],\n",
       "       [  6.,   8.,   9.,  10.],\n",
       "       [  9.,  11.,  12.,  13.]], dtype=float32)"
      ]
     },
     "execution_count": 18,
     "metadata": {},
     "output_type": "execute_result"
    }
   ],
   "source": [
    "a3 = a1.astype(np.float32)\n",
    "a3"
   ]
  },
  {
   "cell_type": "markdown",
   "metadata": {},
   "source": [
    "o) Genere el arreglo `a4` con los valores de `a1` convertidos a una representación entera sin signo restringida a 8 bits."
   ]
  },
  {
   "cell_type": "code",
   "execution_count": 19,
   "metadata": {},
   "outputs": [
    {
     "data": {
      "text/plain": [
       "array([[ 1,  2,  3,  4],\n",
       "       [ 6,  8,  9, 10],\n",
       "       [ 9, 11, 12, 13]], dtype=uint8)"
      ]
     },
     "execution_count": 19,
     "metadata": {},
     "output_type": "execute_result"
    }
   ],
   "source": [
    "a4 = a1.astype(np.uint8)\n",
    "a4"
   ]
  },
  {
   "cell_type": "markdown",
   "metadata": {},
   "source": [
    "p) Multiplique por 100 los valores de `a3` y de `a4`. ¿Qué observa en los resultados obtenidos?"
   ]
  },
  {
   "cell_type": "code",
   "execution_count": 20,
   "metadata": {},
   "outputs": [
    {
     "data": {
      "text/plain": [
       "array([[  100.,   200.,   300.,   400.],\n",
       "       [  600.,   800.,   900.,  1000.],\n",
       "       [  900.,  1100.,  1200.,  1300.]], dtype=float32)"
      ]
     },
     "execution_count": 20,
     "metadata": {},
     "output_type": "execute_result"
    }
   ],
   "source": [
    "a3 * 100"
   ]
  },
  {
   "cell_type": "code",
   "execution_count": 21,
   "metadata": {},
   "outputs": [
    {
     "data": {
      "text/plain": [
       "array([[100, 200,  44, 144],\n",
       "       [ 88,  32, 132, 232],\n",
       "       [132,  76, 176,  20]], dtype=uint8)"
      ]
     },
     "execution_count": 21,
     "metadata": {},
     "output_type": "execute_result"
    }
   ],
   "source": [
    "a4 * 100"
   ]
  },
  {
   "cell_type": "markdown",
   "metadata": {},
   "source": [
    "Se observa que ciertos valores de `a4 * 100` están fuera del rango de representación de un `uint8` (ya que con 8 bits, sólo es posible representar valores entre 0 y 255 inclusive).\n",
    "\n",
    "Dado que se representarán los 8 bits más significativos de esos valores, la mayoría de los resultados obtenidos **son incorrectos**."
   ]
  },
  {
   "cell_type": "markdown",
   "metadata": {},
   "source": [
    "## Ejercicio 2"
   ]
  },
  {
   "cell_type": "markdown",
   "metadata": {},
   "source": [
    "a) Genere dos arreglos `b1` y `b2` conteniendo números enteros al azar entre 10 y 50 cuyas formas son de `50x5` y de `25x2`."
   ]
  },
  {
   "cell_type": "code",
   "execution_count": 22,
   "metadata": {
    "collapsed": true
   },
   "outputs": [],
   "source": [
    "b1 = np.random.randint(10, 51, size=(50, 5))\n",
    "b2 = np.random.randint(10, 51, size=(25, 2))"
   ]
  },
  {
   "cell_type": "markdown",
   "metadata": {},
   "source": [
    "b) Obtenga las últimas 15 filas de `b1`."
   ]
  },
  {
   "cell_type": "code",
   "execution_count": 23,
   "metadata": {},
   "outputs": [
    {
     "data": {
      "text/plain": [
       "array([[46, 41, 28, 49, 38],\n",
       "       [13, 36, 32, 28, 20],\n",
       "       [11, 15, 17, 41, 34],\n",
       "       [36, 13, 17, 35, 29],\n",
       "       [36, 14, 42, 26, 15],\n",
       "       [12, 27, 28, 26, 32],\n",
       "       [12, 41, 34, 48, 46],\n",
       "       [21, 32, 29, 36, 33],\n",
       "       [21, 45, 10, 40, 22],\n",
       "       [18, 21, 30, 10, 35],\n",
       "       [11, 38, 26, 18, 23],\n",
       "       [18, 33, 19, 11, 29],\n",
       "       [33, 50, 11, 20, 36],\n",
       "       [37, 28, 46, 18, 19],\n",
       "       [48, 29, 29, 45, 38]])"
      ]
     },
     "execution_count": 23,
     "metadata": {},
     "output_type": "execute_result"
    }
   ],
   "source": [
    "b1[50-15:]"
   ]
  },
  {
   "cell_type": "code",
   "execution_count": 24,
   "metadata": {},
   "outputs": [
    {
     "data": {
      "text/plain": [
       "array([[46, 41, 28, 49, 38],\n",
       "       [13, 36, 32, 28, 20],\n",
       "       [11, 15, 17, 41, 34],\n",
       "       [36, 13, 17, 35, 29],\n",
       "       [36, 14, 42, 26, 15],\n",
       "       [12, 27, 28, 26, 32],\n",
       "       [12, 41, 34, 48, 46],\n",
       "       [21, 32, 29, 36, 33],\n",
       "       [21, 45, 10, 40, 22],\n",
       "       [18, 21, 30, 10, 35],\n",
       "       [11, 38, 26, 18, 23],\n",
       "       [18, 33, 19, 11, 29],\n",
       "       [33, 50, 11, 20, 36],\n",
       "       [37, 28, 46, 18, 19],\n",
       "       [48, 29, 29, 45, 38]])"
      ]
     },
     "execution_count": 24,
     "metadata": {},
     "output_type": "execute_result"
    }
   ],
   "source": [
    "b1[35:]"
   ]
  },
  {
   "cell_type": "code",
   "execution_count": 25,
   "metadata": {
    "scrolled": true
   },
   "outputs": [
    {
     "data": {
      "text/plain": [
       "array([[46, 41, 28, 49, 38],\n",
       "       [13, 36, 32, 28, 20],\n",
       "       [11, 15, 17, 41, 34],\n",
       "       [36, 13, 17, 35, 29],\n",
       "       [36, 14, 42, 26, 15],\n",
       "       [12, 27, 28, 26, 32],\n",
       "       [12, 41, 34, 48, 46],\n",
       "       [21, 32, 29, 36, 33],\n",
       "       [21, 45, 10, 40, 22],\n",
       "       [18, 21, 30, 10, 35],\n",
       "       [11, 38, 26, 18, 23],\n",
       "       [18, 33, 19, 11, 29],\n",
       "       [33, 50, 11, 20, 36],\n",
       "       [37, 28, 46, 18, 19],\n",
       "       [48, 29, 29, 45, 38]])"
      ]
     },
     "execution_count": 25,
     "metadata": {},
     "output_type": "execute_result"
    }
   ],
   "source": [
    "b1[-15:]"
   ]
  },
  {
   "cell_type": "code",
   "execution_count": 26,
   "metadata": {},
   "outputs": [
    {
     "data": {
      "text/plain": [
       "array([[46, 41, 28, 49, 38],\n",
       "       [13, 36, 32, 28, 20],\n",
       "       [11, 15, 17, 41, 34],\n",
       "       [36, 13, 17, 35, 29],\n",
       "       [36, 14, 42, 26, 15],\n",
       "       [12, 27, 28, 26, 32],\n",
       "       [12, 41, 34, 48, 46],\n",
       "       [21, 32, 29, 36, 33],\n",
       "       [21, 45, 10, 40, 22],\n",
       "       [18, 21, 30, 10, 35],\n",
       "       [11, 38, 26, 18, 23],\n",
       "       [18, 33, 19, 11, 29],\n",
       "       [33, 50, 11, 20, 36],\n",
       "       [37, 28, 46, 18, 19],\n",
       "       [48, 29, 29, 45, 38]])"
      ]
     },
     "execution_count": 26,
     "metadata": {},
     "output_type": "execute_result"
    }
   ],
   "source": [
    "b1[-15:, :]"
   ]
  },
  {
   "cell_type": "markdown",
   "metadata": {},
   "source": [
    "c) Obtenga la primer columna de `b2`."
   ]
  },
  {
   "cell_type": "code",
   "execution_count": 27,
   "metadata": {},
   "outputs": [
    {
     "data": {
      "text/plain": [
       "array([45, 40, 14, 20, 44, 39, 22, 39, 23, 25, 19, 14, 21, 34, 15, 36, 27,\n",
       "       31, 32, 18, 40, 24, 16, 10, 45])"
      ]
     },
     "execution_count": 27,
     "metadata": {},
     "output_type": "execute_result"
    }
   ],
   "source": [
    "b2[:, 0]"
   ]
  },
  {
   "cell_type": "markdown",
   "metadata": {},
   "source": [
    "d) Genere un nuevo arreglo conteniendo las últimas 10 filas de `b1` a las que debe concatenarse las primeras 10 filas `b2`, es decir, la matriz resultante contendrá 7 elementos por fila: 5 elementos de cada fila de `b1` seguidos de 2 elementos de cada fila de `b2`."
   ]
  },
  {
   "cell_type": "code",
   "execution_count": 28,
   "metadata": {},
   "outputs": [
    {
     "data": {
      "text/plain": [
       "array([[12, 27, 28, 26, 32, 45, 29],\n",
       "       [12, 41, 34, 48, 46, 40, 17],\n",
       "       [21, 32, 29, 36, 33, 14, 12],\n",
       "       [21, 45, 10, 40, 22, 20, 40],\n",
       "       [18, 21, 30, 10, 35, 44, 11],\n",
       "       [11, 38, 26, 18, 23, 39, 39],\n",
       "       [18, 33, 19, 11, 29, 22, 29],\n",
       "       [33, 50, 11, 20, 36, 39, 28],\n",
       "       [37, 28, 46, 18, 19, 23, 31],\n",
       "       [48, 29, 29, 45, 38, 25, 17]])"
      ]
     },
     "execution_count": 28,
     "metadata": {},
     "output_type": "execute_result"
    }
   ],
   "source": [
    "b3 = np.append(b1[-10:], b2[:10], axis=1)\n",
    "b3"
   ]
  },
  {
   "cell_type": "code",
   "execution_count": 29,
   "metadata": {},
   "outputs": [
    {
     "data": {
      "text/plain": [
       "array([[12, 27, 28, 26, 32, 45, 29],\n",
       "       [12, 41, 34, 48, 46, 40, 17],\n",
       "       [21, 32, 29, 36, 33, 14, 12],\n",
       "       [21, 45, 10, 40, 22, 20, 40],\n",
       "       [18, 21, 30, 10, 35, 44, 11],\n",
       "       [11, 38, 26, 18, 23, 39, 39],\n",
       "       [18, 33, 19, 11, 29, 22, 29],\n",
       "       [33, 50, 11, 20, 36, 39, 28],\n",
       "       [37, 28, 46, 18, 19, 23, 31],\n",
       "       [48, 29, 29, 45, 38, 25, 17]])"
      ]
     },
     "execution_count": 29,
     "metadata": {},
     "output_type": "execute_result"
    }
   ],
   "source": [
    "b3 = np.hstack((b1[-10:], b2[:10]))\n",
    "b3"
   ]
  },
  {
   "cell_type": "markdown",
   "metadata": {},
   "source": [
    "e) Genere una matriz de `30x3` en la cual sus primeras 7 filas deberán contener los valores\n",
    "`[0, 0, 1]`, las siguientes 15 filas los valores `[0, 1, 0]` y las restantes, los valores\n",
    "`[1, 0, 0]`."
   ]
  },
  {
   "cell_type": "code",
   "execution_count": 30,
   "metadata": {},
   "outputs": [
    {
     "data": {
      "text/plain": [
       "array([[ 0.,  0.,  1.],\n",
       "       [ 0.,  0.,  1.],\n",
       "       [ 0.,  0.,  1.],\n",
       "       [ 0.,  0.,  1.],\n",
       "       [ 0.,  0.,  1.],\n",
       "       [ 0.,  0.,  1.],\n",
       "       [ 0.,  0.,  1.],\n",
       "       [ 0.,  1.,  0.],\n",
       "       [ 0.,  1.,  0.],\n",
       "       [ 0.,  1.,  0.],\n",
       "       [ 0.,  1.,  0.],\n",
       "       [ 0.,  1.,  0.],\n",
       "       [ 0.,  1.,  0.],\n",
       "       [ 0.,  1.,  0.],\n",
       "       [ 0.,  1.,  0.],\n",
       "       [ 0.,  1.,  0.],\n",
       "       [ 0.,  1.,  0.],\n",
       "       [ 0.,  1.,  0.],\n",
       "       [ 0.,  1.,  0.],\n",
       "       [ 0.,  1.,  0.],\n",
       "       [ 0.,  1.,  0.],\n",
       "       [ 0.,  1.,  0.],\n",
       "       [ 1.,  0.,  0.],\n",
       "       [ 1.,  0.,  0.],\n",
       "       [ 1.,  0.,  0.],\n",
       "       [ 1.,  0.,  0.],\n",
       "       [ 1.,  0.,  0.],\n",
       "       [ 1.,  0.,  0.],\n",
       "       [ 1.,  0.,  0.],\n",
       "       [ 1.,  0.,  0.]])"
      ]
     },
     "execution_count": 30,
     "metadata": {},
     "output_type": "execute_result"
    }
   ],
   "source": [
    "np.concatenate((\n",
    "        (0, 0, 1) + np.zeros((7, 3)),\n",
    "        [0, 1, 0] + np.zeros((15, 3)), \n",
    "        [1, 0, 0] + np.zeros((8, 3)),\n",
    "))"
   ]
  },
  {
   "cell_type": "code",
   "execution_count": 31,
   "metadata": {},
   "outputs": [
    {
     "data": {
      "text/plain": [
       "array([[ 0.,  0.,  1.],\n",
       "       [ 0.,  0.,  1.],\n",
       "       [ 0.,  0.,  1.],\n",
       "       [ 0.,  0.,  1.],\n",
       "       [ 0.,  0.,  1.],\n",
       "       [ 0.,  0.,  1.],\n",
       "       [ 0.,  0.,  1.],\n",
       "       [ 0.,  1.,  0.],\n",
       "       [ 0.,  1.,  0.],\n",
       "       [ 0.,  1.,  0.],\n",
       "       [ 0.,  1.,  0.],\n",
       "       [ 0.,  1.,  0.],\n",
       "       [ 0.,  1.,  0.],\n",
       "       [ 0.,  1.,  0.],\n",
       "       [ 0.,  1.,  0.],\n",
       "       [ 0.,  1.,  0.],\n",
       "       [ 0.,  1.,  0.],\n",
       "       [ 0.,  1.,  0.],\n",
       "       [ 0.,  1.,  0.],\n",
       "       [ 0.,  1.,  0.],\n",
       "       [ 0.,  1.,  0.],\n",
       "       [ 0.,  1.,  0.],\n",
       "       [ 1.,  0.,  0.],\n",
       "       [ 1.,  0.,  0.],\n",
       "       [ 1.,  0.,  0.],\n",
       "       [ 1.,  0.,  0.],\n",
       "       [ 1.,  0.,  0.],\n",
       "       [ 1.,  0.,  0.],\n",
       "       [ 1.,  0.,  0.],\n",
       "       [ 1.,  0.,  0.]])"
      ]
     },
     "execution_count": 31,
     "metadata": {},
     "output_type": "execute_result"
    }
   ],
   "source": [
    "a = np.empty((30, 3))\n",
    "a[:7] = 0, 0, 1\n",
    "a[7:22] = 0, 1, 0\n",
    "a[22:] = 1, 0, 0\n",
    "a"
   ]
  },
  {
   "cell_type": "code",
   "execution_count": 32,
   "metadata": {},
   "outputs": [
    {
     "data": {
      "text/plain": [
       "array([[ 0.,  0.,  1.],\n",
       "       [ 0.,  0.,  1.],\n",
       "       [ 0.,  0.,  1.],\n",
       "       [ 0.,  0.,  1.],\n",
       "       [ 0.,  0.,  1.],\n",
       "       [ 0.,  0.,  1.],\n",
       "       [ 0.,  0.,  1.],\n",
       "       [ 0.,  1.,  0.],\n",
       "       [ 0.,  1.,  0.],\n",
       "       [ 0.,  1.,  0.],\n",
       "       [ 0.,  1.,  0.],\n",
       "       [ 0.,  1.,  0.],\n",
       "       [ 0.,  1.,  0.],\n",
       "       [ 0.,  1.,  0.],\n",
       "       [ 0.,  1.,  0.],\n",
       "       [ 0.,  1.,  0.],\n",
       "       [ 0.,  1.,  0.],\n",
       "       [ 0.,  1.,  0.],\n",
       "       [ 0.,  1.,  0.],\n",
       "       [ 0.,  1.,  0.],\n",
       "       [ 0.,  1.,  0.],\n",
       "       [ 0.,  1.,  0.],\n",
       "       [ 1.,  0.,  0.],\n",
       "       [ 1.,  0.,  0.],\n",
       "       [ 1.,  0.,  0.],\n",
       "       [ 1.,  0.,  0.],\n",
       "       [ 1.,  0.,  0.],\n",
       "       [ 1.,  0.,  0.],\n",
       "       [ 1.,  0.,  0.],\n",
       "       [ 1.,  0.,  0.]])"
      ]
     },
     "execution_count": 32,
     "metadata": {},
     "output_type": "execute_result"
    }
   ],
   "source": [
    "a = np.zeros((30, 3))\n",
    "a[:7, 2] = 1\n",
    "a[7:22, 1] = 1\n",
    "a[22:, 0] = 1\n",
    "a"
   ]
  },
  {
   "cell_type": "markdown",
   "metadata": {},
   "source": [
    "f) Obtenga todos los elementos de `b2` que se encuentran dentro del rango $[20, 30]$."
   ]
  },
  {
   "cell_type": "code",
   "execution_count": 33,
   "metadata": {},
   "outputs": [
    {
     "data": {
      "text/plain": [
       "array([[False,  True],\n",
       "       [False, False],\n",
       "       [False, False],\n",
       "       [ True, False],\n",
       "       [False, False],\n",
       "       [False, False],\n",
       "       [ True,  True],\n",
       "       [False,  True],\n",
       "       [ True, False],\n",
       "       [ True, False],\n",
       "       [False,  True],\n",
       "       [False, False],\n",
       "       [ True, False],\n",
       "       [False,  True],\n",
       "       [False, False],\n",
       "       [False, False],\n",
       "       [ True, False],\n",
       "       [False, False],\n",
       "       [False, False],\n",
       "       [False, False],\n",
       "       [False, False],\n",
       "       [ True, False],\n",
       "       [False, False],\n",
       "       [False, False],\n",
       "       [False,  True]], dtype=bool)"
      ]
     },
     "execution_count": 33,
     "metadata": {},
     "output_type": "execute_result"
    }
   ],
   "source": [
    "np.logical_and((b2 >= 20), (b2 <= 30))"
   ]
  },
  {
   "cell_type": "code",
   "execution_count": 34,
   "metadata": {},
   "outputs": [
    {
     "data": {
      "text/plain": [
       "array([[False,  True],\n",
       "       [False, False],\n",
       "       [False, False],\n",
       "       [ True, False],\n",
       "       [False, False],\n",
       "       [False, False],\n",
       "       [ True,  True],\n",
       "       [False,  True],\n",
       "       [ True, False],\n",
       "       [ True, False],\n",
       "       [False,  True],\n",
       "       [False, False],\n",
       "       [ True, False],\n",
       "       [False,  True],\n",
       "       [False, False],\n",
       "       [False, False],\n",
       "       [ True, False],\n",
       "       [False, False],\n",
       "       [False, False],\n",
       "       [False, False],\n",
       "       [False, False],\n",
       "       [ True, False],\n",
       "       [False, False],\n",
       "       [False, False],\n",
       "       [False,  True]], dtype=bool)"
      ]
     },
     "execution_count": 34,
     "metadata": {},
     "output_type": "execute_result"
    }
   ],
   "source": [
    "(b2 >= 20) & (b2 <= 30)"
   ]
  },
  {
   "cell_type": "code",
   "execution_count": 35,
   "metadata": {},
   "outputs": [
    {
     "data": {
      "text/plain": [
       "array([29, 20, 22, 29, 28, 23, 25, 27, 21, 29, 27, 24, 22])"
      ]
     },
     "execution_count": 35,
     "metadata": {},
     "output_type": "execute_result"
    }
   ],
   "source": [
    "b2[(b2 >= 20) & (b2 <= 30)]"
   ]
  },
  {
   "cell_type": "markdown",
   "metadata": {},
   "source": [
    "g) Obtenga los elementos de `b2` ubicados en las posiciones `(0, 0)`, `(1, 1)`, `(4, 0)` y `(3, 1)`. Los elementos resultantes deberán tener forma de una matriz de `2x2`."
   ]
  },
  {
   "cell_type": "code",
   "execution_count": 36,
   "metadata": {},
   "outputs": [
    {
     "data": {
      "text/plain": [
       "array([[45, 17],\n",
       "       [44, 40]])"
      ]
     },
     "execution_count": 36,
     "metadata": {},
     "output_type": "execute_result"
    }
   ],
   "source": [
    "np.array([\n",
    "    [b2[0, 0], b2[1, 1]], \n",
    "    [b2[4, 0], b2[3, 1]]\n",
    "])"
   ]
  },
  {
   "cell_type": "code",
   "execution_count": 37,
   "metadata": {},
   "outputs": [
    {
     "data": {
      "text/plain": [
       "array([[45, 17],\n",
       "       [44, 40]])"
      ]
     },
     "execution_count": 37,
     "metadata": {},
     "output_type": "execute_result"
    }
   ],
   "source": [
    "i = np.array([\n",
    "        [0, 1],\n",
    "        [4, 3],\n",
    "    ])\n",
    "\n",
    "j = np.array([\n",
    "        [0, 1],\n",
    "        [0, 1],\n",
    "    ])\n",
    "\n",
    "b2[i, j]"
   ]
  },
  {
   "cell_type": "markdown",
   "metadata": {},
   "source": [
    "h) Obtenga las filas de `b1` donde la suma de sus valores sea menor que 140. El arreglo resultante deberá contener los valores de las 5 columnas."
   ]
  },
  {
   "cell_type": "code",
   "execution_count": 38,
   "metadata": {},
   "outputs": [
    {
     "data": {
      "text/plain": [
       "(50, 5)"
      ]
     },
     "execution_count": 38,
     "metadata": {},
     "output_type": "execute_result"
    }
   ],
   "source": [
    "b1.shape"
   ]
  },
  {
   "cell_type": "code",
   "execution_count": 39,
   "metadata": {},
   "outputs": [
    {
     "data": {
      "text/plain": [
       "50"
      ]
     },
     "execution_count": 39,
     "metadata": {},
     "output_type": "execute_result"
    }
   ],
   "source": [
    "b1.shape[0]"
   ]
  },
  {
   "cell_type": "code",
   "execution_count": 40,
   "metadata": {},
   "outputs": [
    {
     "data": {
      "text/plain": [
       "5"
      ]
     },
     "execution_count": 40,
     "metadata": {},
     "output_type": "execute_result"
    }
   ],
   "source": [
    "b1.shape[1]"
   ]
  },
  {
   "cell_type": "code",
   "execution_count": 41,
   "metadata": {},
   "outputs": [
    {
     "data": {
      "text/plain": [
       "7449"
      ]
     },
     "execution_count": 41,
     "metadata": {},
     "output_type": "execute_result"
    }
   ],
   "source": [
    "np.sum(b1)"
   ]
  },
  {
   "cell_type": "code",
   "execution_count": 42,
   "metadata": {},
   "outputs": [
    {
     "data": {
      "text/plain": [
       "array([167, 135, 122, 133, 163, 190, 173, 181, 142,  89, 158, 115, 183,\n",
       "       181, 133, 149, 129, 148, 131, 129, 159, 108, 125, 139, 164, 126,\n",
       "       152, 171, 173, 150, 156, 180, 191, 185, 185, 202, 129, 118, 130,\n",
       "       133, 125, 181, 151, 138, 114, 116, 110, 150, 148, 189])"
      ]
     },
     "execution_count": 42,
     "metadata": {},
     "output_type": "execute_result"
    }
   ],
   "source": [
    "np.sum(b1, axis=1)"
   ]
  },
  {
   "cell_type": "code",
   "execution_count": 43,
   "metadata": {},
   "outputs": [
    {
     "data": {
      "text/plain": [
       "array([False,  True,  True,  True, False, False, False, False, False,\n",
       "        True, False,  True, False, False,  True, False,  True, False,\n",
       "        True,  True, False,  True,  True,  True, False,  True, False,\n",
       "       False, False, False, False, False, False, False, False, False,\n",
       "        True,  True,  True,  True,  True, False, False,  True,  True,\n",
       "        True,  True, False, False, False], dtype=bool)"
      ]
     },
     "execution_count": 43,
     "metadata": {},
     "output_type": "execute_result"
    }
   ],
   "source": [
    "np.sum(b1, axis=1) < 140"
   ]
  },
  {
   "cell_type": "code",
   "execution_count": 44,
   "metadata": {},
   "outputs": [
    {
     "data": {
      "text/plain": [
       "array([[11, 23, 15, 50, 36],\n",
       "       [12, 31, 17, 38, 24],\n",
       "       [43, 22, 31, 22, 15],\n",
       "       [22, 13, 15, 12, 27],\n",
       "       [24, 23, 30, 11, 27],\n",
       "       [33, 34, 26, 22, 18],\n",
       "       [36, 14, 10, 46, 23],\n",
       "       [20, 48, 15, 27, 21],\n",
       "       [24, 14, 26, 45, 20],\n",
       "       [19, 31, 25, 18, 15],\n",
       "       [36, 10, 21, 39, 19],\n",
       "       [24, 34, 28, 25, 28],\n",
       "       [18, 11, 46, 26, 25],\n",
       "       [13, 36, 32, 28, 20],\n",
       "       [11, 15, 17, 41, 34],\n",
       "       [36, 13, 17, 35, 29],\n",
       "       [36, 14, 42, 26, 15],\n",
       "       [12, 27, 28, 26, 32],\n",
       "       [21, 45, 10, 40, 22],\n",
       "       [18, 21, 30, 10, 35],\n",
       "       [11, 38, 26, 18, 23],\n",
       "       [18, 33, 19, 11, 29]])"
      ]
     },
     "execution_count": 44,
     "metadata": {},
     "output_type": "execute_result"
    }
   ],
   "source": [
    "b1[np.sum(b1, axis=1) < 140]"
   ]
  },
  {
   "cell_type": "markdown",
   "metadata": {},
   "source": [
    "i) Dado el arreglo `b3 = np.random.randint(-5, 5, size=(3, 4))`, calcule el máximo valor de cada fila de `b3` y el mínimo valor de cada columna de `b3`."
   ]
  },
  {
   "cell_type": "code",
   "execution_count": 45,
   "metadata": {},
   "outputs": [],
   "source": [
    "b3 = np.random.randint(-5, 5, size=(3, 4))"
   ]
  },
  {
   "cell_type": "code",
   "execution_count": 46,
   "metadata": {},
   "outputs": [
    {
     "data": {
      "text/plain": [
       "array([3, 1, 3])"
      ]
     },
     "execution_count": 46,
     "metadata": {},
     "output_type": "execute_result"
    }
   ],
   "source": [
    "np.max(b3, axis=1)"
   ]
  },
  {
   "cell_type": "code",
   "execution_count": 47,
   "metadata": {},
   "outputs": [
    {
     "data": {
      "text/plain": [
       "array([ 0,  0, -2, -3])"
      ]
     },
     "execution_count": 47,
     "metadata": {},
     "output_type": "execute_result"
    }
   ],
   "source": [
    "np.min(b3, axis=0)"
   ]
  },
  {
   "cell_type": "markdown",
   "metadata": {},
   "source": [
    "j) Dados los arreglos `b4 = np.array([[1, 2], [3, 4]])` y `b5 = b4 + 4`, explique los resultados obtenidos con:"
   ]
  },
  {
   "cell_type": "code",
   "execution_count": 48,
   "metadata": {},
   "outputs": [],
   "source": [
    "b4 = np.array([[1, 2], [3, 4]])\n",
    "b5 = b4 + 4"
   ]
  },
  {
   "cell_type": "code",
   "execution_count": 49,
   "metadata": {},
   "outputs": [
    {
     "data": {
      "text/plain": [
       "array([[1, 2, 5, 6, 1, 2, 5, 7],\n",
       "       [3, 4, 7, 8, 3, 4, 6, 8]])"
      ]
     },
     "execution_count": 49,
     "metadata": {},
     "output_type": "execute_result"
    }
   ],
   "source": [
    "np.hstack((b4, b5, b4, b5.T))"
   ]
  },
  {
   "cell_type": "markdown",
   "metadata": {},
   "source": [
    "Construye un nuevo arreglo concatenando en forma horizontal (es decir, a lo largo del eje 0) las columnas de `b4`, de `b5`, de `b4` nuevamente y de `b5` transpuesta."
   ]
  },
  {
   "cell_type": "code",
   "execution_count": 50,
   "metadata": {},
   "outputs": [
    {
     "data": {
      "text/plain": [
       "array([[1, 2],\n",
       "       [3, 4],\n",
       "       [5, 6],\n",
       "       [7, 8],\n",
       "       [1, 2],\n",
       "       [3, 4],\n",
       "       [5, 7],\n",
       "       [6, 8]])"
      ]
     },
     "execution_count": 50,
     "metadata": {},
     "output_type": "execute_result"
    }
   ],
   "source": [
    "np.vstack((b4, b5, b4, b5.T))"
   ]
  },
  {
   "cell_type": "markdown",
   "metadata": {},
   "source": [
    "Construye un nuevo arreglo concatenando en forma vertical (es decir, a lo largo del eje 1) las filas de `b4`, de `b5`, de `b4` nuevamente y de `b5` transpuesta."
   ]
  },
  {
   "cell_type": "code",
   "execution_count": 51,
   "metadata": {},
   "outputs": [
    {
     "data": {
      "text/plain": [
       "array([[[1, 5, 1, 5],\n",
       "        [2, 6, 2, 7]],\n",
       "\n",
       "       [[3, 7, 3, 6],\n",
       "        [4, 8, 4, 8]]])"
      ]
     },
     "execution_count": 51,
     "metadata": {},
     "output_type": "execute_result"
    }
   ],
   "source": [
    "np.dstack((b4, b5, b4, b5.T))"
   ]
  },
  {
   "cell_type": "code",
   "execution_count": 52,
   "metadata": {},
   "outputs": [
    {
     "data": {
      "text/plain": [
       "array([[[1, 5, 1, 5],\n",
       "        [2, 6, 2, 7]],\n",
       "\n",
       "       [[3, 7, 3, 6],\n",
       "        [4, 8, 4, 8]]])"
      ]
     },
     "execution_count": 52,
     "metadata": {},
     "output_type": "execute_result"
    }
   ],
   "source": [
    "np.dstack((b4, b5, b4, b5.T))"
   ]
  },
  {
   "cell_type": "markdown",
   "metadata": {},
   "source": [
    "Construye un nuevo arreglo concatenando a lo largo del eje 2 de un arreglo de 3 ejes las matrices `b4`, `b5`, `b4` nuevamente y `b5` transpuesta. De esa forma, cada elemento del último eje será cada una de las matrices:"
   ]
  },
  {
   "cell_type": "code",
   "execution_count": 53,
   "metadata": {
    "collapsed": true
   },
   "outputs": [],
   "source": [
    "x = np.dstack((b4, b5, b4, b5.T))"
   ]
  },
  {
   "cell_type": "code",
   "execution_count": 54,
   "metadata": {},
   "outputs": [
    {
     "data": {
      "text/plain": [
       "array([[1, 2],\n",
       "       [3, 4]])"
      ]
     },
     "execution_count": 54,
     "metadata": {},
     "output_type": "execute_result"
    }
   ],
   "source": [
    "x[..., 0]"
   ]
  },
  {
   "cell_type": "code",
   "execution_count": 55,
   "metadata": {},
   "outputs": [
    {
     "data": {
      "text/plain": [
       "array([[5, 6],\n",
       "       [7, 8]])"
      ]
     },
     "execution_count": 55,
     "metadata": {},
     "output_type": "execute_result"
    }
   ],
   "source": [
    "x[..., 1]"
   ]
  },
  {
   "cell_type": "code",
   "execution_count": 56,
   "metadata": {},
   "outputs": [
    {
     "data": {
      "text/plain": [
       "array([[1, 2],\n",
       "       [3, 4]])"
      ]
     },
     "execution_count": 56,
     "metadata": {},
     "output_type": "execute_result"
    }
   ],
   "source": [
    "x[..., 2]"
   ]
  },
  {
   "cell_type": "code",
   "execution_count": 57,
   "metadata": {},
   "outputs": [
    {
     "data": {
      "text/plain": [
       "array([[5, 7],\n",
       "       [6, 8]])"
      ]
     },
     "execution_count": 57,
     "metadata": {},
     "output_type": "execute_result"
    }
   ],
   "source": [
    "x[..., 3]"
   ]
  },
  {
   "cell_type": "code",
   "execution_count": 58,
   "metadata": {},
   "outputs": [
    {
     "data": {
      "text/plain": [
       "array([[1, 2],\n",
       "       [3, 4],\n",
       "       [5, 6],\n",
       "       [7, 8],\n",
       "       [1, 2],\n",
       "       [3, 4],\n",
       "       [5, 7],\n",
       "       [6, 8]])"
      ]
     },
     "execution_count": 58,
     "metadata": {},
     "output_type": "execute_result"
    }
   ],
   "source": [
    "np.concatenate((b4, b5, b4, b5.T), axis=0)"
   ]
  },
  {
   "cell_type": "markdown",
   "metadata": {},
   "source": [
    "Realiza lo mismo que `np.vstack()`, ya que `axis=0` es el eje de las filas."
   ]
  },
  {
   "cell_type": "code",
   "execution_count": 59,
   "metadata": {},
   "outputs": [
    {
     "data": {
      "text/plain": [
       "array([[1, 2, 5, 6, 1, 2, 5, 7],\n",
       "       [3, 4, 7, 8, 3, 4, 6, 8]])"
      ]
     },
     "execution_count": 59,
     "metadata": {},
     "output_type": "execute_result"
    }
   ],
   "source": [
    "np.concatenate((b4, b5, b4, b5.T), axis=1)"
   ]
  },
  {
   "cell_type": "markdown",
   "metadata": {},
   "source": [
    "Realiza lo mismo que `np.hstack()`, ya que `axis=` es el eje de las columnas."
   ]
  },
  {
   "cell_type": "markdown",
   "metadata": {},
   "source": [
    "k) Dados los arreglos `b6 = np.arange(12)` y `b7 = np.reshape(np.arange(32), (2, 4, 4))`, explique los resultados obtenidos con:"
   ]
  },
  {
   "cell_type": "code",
   "execution_count": 60,
   "metadata": {
    "collapsed": true
   },
   "outputs": [],
   "source": [
    "b6 = np.arange(12)"
   ]
  },
  {
   "cell_type": "code",
   "execution_count": 61,
   "metadata": {
    "collapsed": true
   },
   "outputs": [],
   "source": [
    "b7 = np.reshape(np.arange(32), (2, 4, 4))"
   ]
  },
  {
   "cell_type": "code",
   "execution_count": 62,
   "metadata": {},
   "outputs": [
    {
     "data": {
      "text/plain": [
       "[array([0, 1, 2, 3, 4, 5]), array([ 6,  7,  8,  9, 10, 11])]"
      ]
     },
     "execution_count": 62,
     "metadata": {},
     "output_type": "execute_result"
    }
   ],
   "source": [
    "np.split(b6, 2)"
   ]
  },
  {
   "cell_type": "markdown",
   "metadata": {},
   "source": [
    "Divide el arreglo `b6` en 2 partes de igual tamaño y devuelve una lista conteniendo dos arreglos con cada una de las partes generadas."
   ]
  },
  {
   "cell_type": "code",
   "execution_count": 63,
   "metadata": {},
   "outputs": [
    {
     "data": {
      "text/plain": [
       "[array([0, 1, 2, 3]), array([4, 5, 6, 7]), array([ 8,  9, 10, 11])]"
      ]
     },
     "execution_count": 63,
     "metadata": {},
     "output_type": "execute_result"
    }
   ],
   "source": [
    "np.split(b6, 3)"
   ]
  },
  {
   "cell_type": "markdown",
   "metadata": {},
   "source": [
    "Divide el arreglo `b6` en 3 partes de igual tamaño y devuelve una lista conteniendo los tres arreglos con cada una de las partes generadas."
   ]
  },
  {
   "cell_type": "code",
   "execution_count": 64,
   "metadata": {},
   "outputs": [
    {
     "data": {
      "text/plain": [
       "[array([0, 1]), array([2, 3, 4]), array([5, 6, 7, 8]), array([ 9, 10, 11])]"
      ]
     },
     "execution_count": 64,
     "metadata": {},
     "output_type": "execute_result"
    }
   ],
   "source": [
    "np.split(b6, [2, 5, 9])"
   ]
  },
  {
   "cell_type": "markdown",
   "metadata": {},
   "source": [
    "Divide el arreglo `b6` en 4 partes:\n",
    "    - La primera con los elementos desde la posición 0 hasta la 2 (sin incluirla).\n",
    "    - La segunda con los elementos desde la posición 2 hasta la 5 (sin incluirla).\n",
    "    - La tercera con los elementos desde la posición 5 hasta la 9 (sin incluirla).\n",
    "    - La última con los elementos desde la posición 9 hasta el final de b6.\n",
    "\n",
    "Devuelve una lista conteniendo los cuatro arreglos."
   ]
  },
  {
   "cell_type": "code",
   "execution_count": 65,
   "metadata": {},
   "outputs": [
    {
     "data": {
      "text/plain": [
       "[array([[ 0,  1],\n",
       "        [ 4,  5],\n",
       "        [ 8,  9],\n",
       "        [12, 13]]), array([[ 2,  3],\n",
       "        [ 6,  7],\n",
       "        [10, 11],\n",
       "        [14, 15]])]"
      ]
     },
     "execution_count": 65,
     "metadata": {},
     "output_type": "execute_result"
    }
   ],
   "source": [
    "np.hsplit(b7[0], 2)"
   ]
  },
  {
   "cell_type": "markdown",
   "metadata": {},
   "source": [
    "Dado que `b7[0]` es un arreglo de 4x4:"
   ]
  },
  {
   "cell_type": "code",
   "execution_count": 66,
   "metadata": {},
   "outputs": [
    {
     "data": {
      "text/plain": [
       "array([[ 0,  1,  2,  3],\n",
       "       [ 4,  5,  6,  7],\n",
       "       [ 8,  9, 10, 11],\n",
       "       [12, 13, 14, 15]])"
      ]
     },
     "execution_count": 66,
     "metadata": {},
     "output_type": "execute_result"
    }
   ],
   "source": [
    "b7[0]"
   ]
  },
  {
   "cell_type": "markdown",
   "metadata": {},
   "source": [
    "`np.hsplit()` divide `b7[0]` en 2 partes iguales a lo largo de las columnas (es decir, en forma horizontal). Devuelve una lista con dos arreglos de `4x2` elementos cada una."
   ]
  },
  {
   "cell_type": "code",
   "execution_count": 67,
   "metadata": {},
   "outputs": [
    {
     "data": {
      "text/plain": [
       "[array([[16, 17, 18, 19]]), array([[20, 21, 22, 23],\n",
       "        [24, 25, 26, 27]]), array([[28, 29, 30, 31]])]"
      ]
     },
     "execution_count": 67,
     "metadata": {},
     "output_type": "execute_result"
    }
   ],
   "source": [
    "np.vsplit(b7[1], [1, 3])"
   ]
  },
  {
   "cell_type": "markdown",
   "metadata": {},
   "source": [
    "Dado que `b7[1]` es un arreglo de 4x4:"
   ]
  },
  {
   "cell_type": "code",
   "execution_count": 68,
   "metadata": {},
   "outputs": [
    {
     "data": {
      "text/plain": [
       "array([[16, 17, 18, 19],\n",
       "       [20, 21, 22, 23],\n",
       "       [24, 25, 26, 27],\n",
       "       [28, 29, 30, 31]])"
      ]
     },
     "execution_count": 68,
     "metadata": {},
     "output_type": "execute_result"
    }
   ],
   "source": [
    "b7[1]"
   ]
  },
  {
   "cell_type": "markdown",
   "metadata": {},
   "source": [
    "`np.vsplit()` divide `b7[1]` en 3 partes a lo largo de las filas (es decir, en forma vertical). Las partes estarán definidas así:\n",
    "  - La primera será la fila 0 de `b7[1]` (desde el comienzo hasta la fila 1, sin incluirla).\n",
    "  - La segunda serán las filas 1 y 2 de `b7[1]` (desde la fila 1 hasta la 3, sin incluirla).\n",
    "  - La tercera será la fila 3 de `b7[1]`.\n",
    "  \n",
    "Devuelve una lista con los tres arreglos."
   ]
  },
  {
   "cell_type": "code",
   "execution_count": 69,
   "metadata": {},
   "outputs": [
    {
     "data": {
      "text/plain": [
       "[array([[[ 0,  1],\n",
       "         [ 4,  5],\n",
       "         [ 8,  9],\n",
       "         [12, 13]],\n",
       " \n",
       "        [[16, 17],\n",
       "         [20, 21],\n",
       "         [24, 25],\n",
       "         [28, 29]]]), array([[[ 2,  3],\n",
       "         [ 6,  7],\n",
       "         [10, 11],\n",
       "         [14, 15]],\n",
       " \n",
       "        [[18, 19],\n",
       "         [22, 23],\n",
       "         [26, 27],\n",
       "         [30, 31]]])]"
      ]
     },
     "execution_count": 69,
     "metadata": {},
     "output_type": "execute_result"
    }
   ],
   "source": [
    "np.dsplit(b7, 2)"
   ]
  },
  {
   "cell_type": "markdown",
   "metadata": {},
   "source": [
    " Divide el arreglo `b7` de `2x4x4` en dos partes iguales a lo largo del tercer eje (en profundidad)."
   ]
  },
  {
   "cell_type": "code",
   "execution_count": 70,
   "metadata": {},
   "outputs": [
    {
     "data": {
      "text/plain": [
       "(2, 4, 4)"
      ]
     },
     "execution_count": 70,
     "metadata": {},
     "output_type": "execute_result"
    }
   ],
   "source": [
    "b7.shape"
   ]
  },
  {
   "cell_type": "code",
   "execution_count": 71,
   "metadata": {},
   "outputs": [
    {
     "data": {
      "text/plain": [
       "array([[[ 0,  1],\n",
       "        [ 4,  5],\n",
       "        [ 8,  9],\n",
       "        [12, 13]],\n",
       "\n",
       "       [[16, 17],\n",
       "        [20, 21],\n",
       "        [24, 25],\n",
       "        [28, 29]]])"
      ]
     },
     "execution_count": 71,
     "metadata": {},
     "output_type": "execute_result"
    }
   ],
   "source": [
    "b7[..., :2]"
   ]
  },
  {
   "cell_type": "code",
   "execution_count": 72,
   "metadata": {},
   "outputs": [
    {
     "data": {
      "text/plain": [
       "array([[[ 2,  3],\n",
       "        [ 6,  7],\n",
       "        [10, 11],\n",
       "        [14, 15]],\n",
       "\n",
       "       [[18, 19],\n",
       "        [22, 23],\n",
       "        [26, 27],\n",
       "        [30, 31]]])"
      ]
     },
     "execution_count": 72,
     "metadata": {},
     "output_type": "execute_result"
    }
   ],
   "source": [
    "b7[..., 2:]"
   ]
  },
  {
   "cell_type": "markdown",
   "metadata": {},
   "source": [
    "## Ejercicio 3"
   ]
  },
  {
   "cell_type": "markdown",
   "metadata": {},
   "source": [
    "a) Genere las tablas de multiplicación del 1 al 10. Use la mínima cantidad posible de arreglos. Ayuda: Recuerde que es posible aplicar broadcasting de arreglos.\n"
   ]
  },
  {
   "cell_type": "code",
   "execution_count": 73,
   "metadata": {},
   "outputs": [
    {
     "data": {
      "text/plain": [
       "array([[  1,   2,   3,   4,   5,   6,   7,   8,   9,  10],\n",
       "       [  2,   4,   6,   8,  10,  12,  14,  16,  18,  20],\n",
       "       [  3,   6,   9,  12,  15,  18,  21,  24,  27,  30],\n",
       "       [  4,   8,  12,  16,  20,  24,  28,  32,  36,  40],\n",
       "       [  5,  10,  15,  20,  25,  30,  35,  40,  45,  50],\n",
       "       [  6,  12,  18,  24,  30,  36,  42,  48,  54,  60],\n",
       "       [  7,  14,  21,  28,  35,  42,  49,  56,  63,  70],\n",
       "       [  8,  16,  24,  32,  40,  48,  56,  64,  72,  80],\n",
       "       [  9,  18,  27,  36,  45,  54,  63,  72,  81,  90],\n",
       "       [ 10,  20,  30,  40,  50,  60,  70,  80,  90, 100]])"
      ]
     },
     "execution_count": 73,
     "metadata": {},
     "output_type": "execute_result"
    }
   ],
   "source": [
    "n = 1 + np.arange(10)\n",
    "n * n[:, np.newaxis]"
   ]
  },
  {
   "cell_type": "markdown",
   "metadata": {},
   "source": [
    "b) Obtenga la distancia euclídea al punto `p0 = [x0, y0]` de los puntos ubicados en el plano\n",
    "cartesiano dentro del intervalo $[-4, 5]$ para las abscisas y $[-3, 7]$ para las ordenadas,\n",
    "sabiendo que dichos puntos están uniformemente distribuidos sobre coordenadas enteras."
   ]
  },
  {
   "cell_type": "code",
   "execution_count": 74,
   "metadata": {},
   "outputs": [],
   "source": [
    "xs = np.arange(-4, 6)\n",
    "ys = np.arange(-3, 8).reshape(-1, 1)"
   ]
  },
  {
   "cell_type": "code",
   "execution_count": 75,
   "metadata": {
    "collapsed": true
   },
   "outputs": [],
   "source": [
    "x0, y0 = 0, 0"
   ]
  },
  {
   "cell_type": "code",
   "execution_count": 76,
   "metadata": {},
   "outputs": [],
   "source": [
    "d = np.sqrt((xs - x0) ** 2 + (ys -y0) ** 2)"
   ]
  },
  {
   "cell_type": "markdown",
   "metadata": {},
   "source": [
    "c) A partir del punto b), calcule la distancia al punto `p0 = [x0, y0, z0]` ahora en el espacio\n",
    "euclídeo, sabiendo que los puntos se ubicarán uniformemente sobre el eje Z dentro del\n",
    "intervalo $[2, 5]$."
   ]
  },
  {
   "cell_type": "code",
   "execution_count": 77,
   "metadata": {},
   "outputs": [],
   "source": [
    "xs = np.arange(-4, 6)\n",
    "ys = np.arange(-3, 8).reshape(-1, 1)\n",
    "zs = np.arange(2, 6).reshape(-1, 1, 1)"
   ]
  },
  {
   "cell_type": "code",
   "execution_count": 78,
   "metadata": {
    "collapsed": true
   },
   "outputs": [],
   "source": [
    "x0, y0, z0 = 0, 0, 0"
   ]
  },
  {
   "cell_type": "code",
   "execution_count": 79,
   "metadata": {},
   "outputs": [],
   "source": [
    "d = np.sqrt((xs - x0) ** 2 + (ys -y0) ** 2 + (zs -z0) ** 2)"
   ]
  },
  {
   "cell_type": "code",
   "execution_count": 80,
   "metadata": {},
   "outputs": [
    {
     "data": {
      "text/plain": [
       "(4, 11, 10)"
      ]
     },
     "execution_count": 80,
     "metadata": {},
     "output_type": "execute_result"
    }
   ],
   "source": [
    "d.shape"
   ]
  },
  {
   "cell_type": "markdown",
   "metadata": {},
   "source": [
    "d) Dado el arreglo `c = np.arange(5)`, indique cuales son las diferencias entre:"
   ]
  },
  {
   "cell_type": "code",
   "execution_count": 81,
   "metadata": {
    "collapsed": true
   },
   "outputs": [],
   "source": [
    "c = np.arange(5)"
   ]
  },
  {
   "cell_type": "code",
   "execution_count": 82,
   "metadata": {},
   "outputs": [
    {
     "data": {
      "text/plain": [
       "array([0, 1, 2, 3, 4])"
      ]
     },
     "execution_count": 82,
     "metadata": {},
     "output_type": "execute_result"
    }
   ],
   "source": [
    "c"
   ]
  },
  {
   "cell_type": "markdown",
   "metadata": {},
   "source": [
    "`c` es el arreglo."
   ]
  },
  {
   "cell_type": "code",
   "execution_count": 83,
   "metadata": {},
   "outputs": [
    {
     "data": {
      "text/plain": [
       "array([0, 1, 2, 3, 4])"
      ]
     },
     "execution_count": 83,
     "metadata": {},
     "output_type": "execute_result"
    }
   ],
   "source": [
    "c[:]"
   ]
  },
  {
   "cell_type": "markdown",
   "metadata": {},
   "source": [
    "`c[:]` devuelve una vista sobre el arreglo `c` con todos los elementos del primer eje, por lo que se observa el mismo resultado. Sin embargo:"
   ]
  },
  {
   "cell_type": "code",
   "execution_count": 84,
   "metadata": {},
   "outputs": [
    {
     "data": {
      "text/plain": [
       "False"
      ]
     },
     "execution_count": 84,
     "metadata": {},
     "output_type": "execute_result"
    }
   ],
   "source": [
    "c is c[:]"
   ]
  },
  {
   "cell_type": "code",
   "execution_count": 85,
   "metadata": {},
   "outputs": [
    {
     "data": {
      "text/plain": [
       "  C_CONTIGUOUS : True\n",
       "  F_CONTIGUOUS : True\n",
       "  OWNDATA : False\n",
       "  WRITEABLE : True\n",
       "  ALIGNED : True\n",
       "  UPDATEIFCOPY : False"
      ]
     },
     "execution_count": 85,
     "metadata": {},
     "output_type": "execute_result"
    }
   ],
   "source": [
    "c[:].flags"
   ]
  },
  {
   "cell_type": "code",
   "execution_count": 86,
   "metadata": {},
   "outputs": [
    {
     "data": {
      "text/plain": [
       "  C_CONTIGUOUS : True\n",
       "  F_CONTIGUOUS : True\n",
       "  OWNDATA : True\n",
       "  WRITEABLE : True\n",
       "  ALIGNED : True\n",
       "  UPDATEIFCOPY : False"
      ]
     },
     "execution_count": 86,
     "metadata": {},
     "output_type": "execute_result"
    }
   ],
   "source": [
    "c.flags"
   ]
  },
  {
   "cell_type": "markdown",
   "metadata": {},
   "source": [
    "Puede verse que `c[:]` no es `c` y que `c[:]` no es el dueño de los datos, `c` lo es."
   ]
  },
  {
   "cell_type": "code",
   "execution_count": 87,
   "metadata": {},
   "outputs": [
    {
     "data": {
      "text/plain": [
       "array([[0],\n",
       "       [1],\n",
       "       [2],\n",
       "       [3],\n",
       "       [4]])"
      ]
     },
     "execution_count": 87,
     "metadata": {},
     "output_type": "execute_result"
    }
   ],
   "source": [
    "c[:, np.newaxis]"
   ]
  },
  {
   "cell_type": "markdown",
   "metadata": {},
   "source": [
    "Esta expresión devuelve una nueva vista sobre c con una nueva forma. `np.newaxis` sirve para introducir un nuevo eje usando la sintaxis para índices. La expresión debería leerse como \"todos los elementos de `c` (por `:`) en cada fila formando una columna (por el `newaxis` como segundo eje). También puede observarse en la forma de la expresión:"
   ]
  },
  {
   "cell_type": "code",
   "execution_count": 88,
   "metadata": {},
   "outputs": [
    {
     "data": {
      "text/plain": [
       "(5,)"
      ]
     },
     "execution_count": 88,
     "metadata": {},
     "output_type": "execute_result"
    }
   ],
   "source": [
    "c.shape"
   ]
  },
  {
   "cell_type": "code",
   "execution_count": 89,
   "metadata": {},
   "outputs": [
    {
     "data": {
      "text/plain": [
       "(5, 1)"
      ]
     },
     "execution_count": 89,
     "metadata": {},
     "output_type": "execute_result"
    }
   ],
   "source": [
    "c[:, np.newaxis].shape"
   ]
  },
  {
   "cell_type": "code",
   "execution_count": 90,
   "metadata": {},
   "outputs": [
    {
     "data": {
      "text/plain": [
       "array([[0, 1, 2, 3, 4]])"
      ]
     },
     "execution_count": 90,
     "metadata": {},
     "output_type": "execute_result"
    }
   ],
   "source": [
    "c[np.newaxis, :]"
   ]
  },
  {
   "cell_type": "markdown",
   "metadata": {},
   "source": [
    "Similar a la anterior, excepto que cada elemento de `c` será ubicada como una nueva columna, agregando un nuevo eje que será el de las filas. Viendo la forma:"
   ]
  },
  {
   "cell_type": "code",
   "execution_count": 91,
   "metadata": {},
   "outputs": [
    {
     "data": {
      "text/plain": [
       "(1, 5)"
      ]
     },
     "execution_count": 91,
     "metadata": {},
     "output_type": "execute_result"
    }
   ],
   "source": [
    "c[np.newaxis, :].shape"
   ]
  },
  {
   "cell_type": "code",
   "execution_count": 92,
   "metadata": {},
   "outputs": [
    {
     "data": {
      "text/plain": [
       "array([[4, 3, 2, 1, 0]])"
      ]
     },
     "execution_count": 92,
     "metadata": {},
     "output_type": "execute_result"
    }
   ],
   "source": [
    "c[np.newaxis, ::-1]"
   ]
  },
  {
   "cell_type": "markdown",
   "metadata": {},
   "source": [
    "Similar al anterior pero los elementos están ubicados de atrás para adelante, cada uno en su propia columna. Puede verse que la forma es la misma que la anterior:"
   ]
  },
  {
   "cell_type": "code",
   "execution_count": 93,
   "metadata": {},
   "outputs": [
    {
     "data": {
      "text/plain": [
       "(1, 5)"
      ]
     },
     "execution_count": 93,
     "metadata": {},
     "output_type": "execute_result"
    }
   ],
   "source": [
    "c[np.newaxis, ::-1].shape"
   ]
  },
  {
   "cell_type": "code",
   "execution_count": 94,
   "metadata": {},
   "outputs": [
    {
     "data": {
      "text/plain": [
       "array([[[0]],\n",
       "\n",
       "       [[1]],\n",
       "\n",
       "       [[2]],\n",
       "\n",
       "       [[3]],\n",
       "\n",
       "       [[4]]])"
      ]
     },
     "execution_count": 94,
     "metadata": {},
     "output_type": "execute_result"
    }
   ],
   "source": [
    "c[:, np.newaxis, np.newaxis]"
   ]
  },
  {
   "cell_type": "markdown",
   "metadata": {},
   "source": [
    "En este caso, se está viendo a `c` como un arreglo de forma `5x1x1` al dejar el primer eje como el de las filas y agregar dos ejes nuevos (columnas y profundidad)."
   ]
  },
  {
   "cell_type": "code",
   "execution_count": 95,
   "metadata": {},
   "outputs": [
    {
     "data": {
      "text/plain": [
       "(5, 1, 1)"
      ]
     },
     "execution_count": 95,
     "metadata": {},
     "output_type": "execute_result"
    }
   ],
   "source": [
    "c[:, np.newaxis, np.newaxis].shape"
   ]
  },
  {
   "cell_type": "markdown",
   "metadata": {},
   "source": [
    "e) Generar una arreglo de `8x8` conteniendo `0`s y `1`s ubicados como en un tablero de ajedrez."
   ]
  },
  {
   "cell_type": "code",
   "execution_count": 96,
   "metadata": {},
   "outputs": [
    {
     "data": {
      "text/plain": [
       "array([[ 1.,  0.,  1.,  0.,  1.,  0.,  1.,  0.],\n",
       "       [ 0.,  1.,  0.,  1.,  0.,  1.,  0.,  1.],\n",
       "       [ 1.,  0.,  1.,  0.,  1.,  0.,  1.,  0.],\n",
       "       [ 0.,  1.,  0.,  1.,  0.,  1.,  0.,  1.],\n",
       "       [ 1.,  0.,  1.,  0.,  1.,  0.,  1.,  0.],\n",
       "       [ 0.,  1.,  0.,  1.,  0.,  1.,  0.,  1.],\n",
       "       [ 1.,  0.,  1.,  0.,  1.,  0.,  1.,  0.],\n",
       "       [ 0.,  1.,  0.,  1.,  0.,  1.,  0.,  1.]])"
      ]
     },
     "execution_count": 96,
     "metadata": {},
     "output_type": "execute_result"
    }
   ],
   "source": [
    "tablero = np.zeros((8, 8))\n",
    "tablero[::2, ::2] = 1\n",
    "tablero[1::2, 1::2] = 1\n",
    "tablero"
   ]
  },
  {
   "cell_type": "markdown",
   "metadata": {},
   "source": [
    "f) Generar el mismo arreglo anterior usando la función `np.tile()`."
   ]
  },
  {
   "cell_type": "code",
   "execution_count": 97,
   "metadata": {},
   "outputs": [
    {
     "data": {
      "text/plain": [
       "array([[ 1.,  0.,  1.,  0.,  1.,  0.,  1.,  0.],\n",
       "       [ 0.,  1.,  0.,  1.,  0.,  1.,  0.,  1.],\n",
       "       [ 1.,  0.,  1.,  0.,  1.,  0.,  1.,  0.],\n",
       "       [ 0.,  1.,  0.,  1.,  0.,  1.,  0.,  1.],\n",
       "       [ 1.,  0.,  1.,  0.,  1.,  0.,  1.,  0.],\n",
       "       [ 0.,  1.,  0.,  1.,  0.,  1.,  0.,  1.],\n",
       "       [ 1.,  0.,  1.,  0.,  1.,  0.,  1.,  0.],\n",
       "       [ 0.,  1.,  0.,  1.,  0.,  1.,  0.,  1.]])"
      ]
     },
     "execution_count": 97,
     "metadata": {},
     "output_type": "execute_result"
    }
   ],
   "source": [
    "np.tile(np.eye(2), (4, 4))"
   ]
  },
  {
   "cell_type": "markdown",
   "metadata": {},
   "source": [
    "g) Generar un arreglo con 80 números enteros al azar entre 1 y 100 para luego reemplazar el máximo valor con -1."
   ]
  },
  {
   "cell_type": "code",
   "execution_count": 98,
   "metadata": {},
   "outputs": [
    {
     "name": "stdout",
     "output_type": "stream",
     "text": [
      "Antes:   [74 19 69 83  3 37 31 99 87 24 10 29 32 65 40 42 57 65 67 36 55 48 33 90 57\n",
      " 79 98 64 64 40 77 31 12 44 22 11 90 31 34 44  2 92 25 61 39 48 37 59 49 17\n",
      " 77 43 47 75 16 13 31 19  1 24 61 80 33 47 37 94 84 52 16 88 87 73 74 73 21\n",
      " 71 46 54 50 88]\n",
      "Después: [74 19 69 83  3 37 31 -1 87 24 10 29 32 65 40 42 57 65 67 36 55 48 33 90 57\n",
      " 79 98 64 64 40 77 31 12 44 22 11 90 31 34 44  2 92 25 61 39 48 37 59 49 17\n",
      " 77 43 47 75 16 13 31 19  1 24 61 80 33 47 37 94 84 52 16 88 87 73 74 73 21\n",
      " 71 46 54 50 88]\n"
     ]
    }
   ],
   "source": [
    "arreglo = np.random.randint(1, 101, size=80)\n",
    "print(\"Antes:  \", arreglo)\n",
    "\n",
    "p = np.argmax(arreglo)\n",
    "arreglo[p] = -1\n",
    "print(\"Después:\", arreglo)"
   ]
  },
  {
   "cell_type": "markdown",
   "metadata": {},
   "source": [
    "h) Dado un arreglo `c2` con los valores `[1, 2, 3, 4, 5]`, ¿cómo puede generarse un nuevo arreglo que contenga los valores de `c2` intercalados con tres ceros entre cada uno de ellos?"
   ]
  },
  {
   "cell_type": "code",
   "execution_count": 99,
   "metadata": {
    "collapsed": true
   },
   "outputs": [],
   "source": [
    "c2 = np.array([1, 2, 3, 4, 5])"
   ]
  },
  {
   "cell_type": "code",
   "execution_count": 100,
   "metadata": {},
   "outputs": [
    {
     "data": {
      "text/plain": [
       "array([ 1.,  0.,  0.,  0.,  2.,  0.,  0.,  0.,  3.,  0.,  0.,  0.,  4.,\n",
       "        0.,  0.,  0.,  5.])"
      ]
     },
     "execution_count": 100,
     "metadata": {},
     "output_type": "execute_result"
    }
   ],
   "source": [
    "c3 = np.zeros(len(c2) + 3 * (len(c2) -1))\n",
    "c3[::4] = c2\n",
    "c3"
   ]
  },
  {
   "cell_type": "markdown",
   "metadata": {},
   "source": [
    "##  Ejercicio 4"
   ]
  },
  {
   "cell_type": "markdown",
   "metadata": {},
   "source": [
    "Antes de comenzar, es conveniente activar la forma de visualizar las figuras. Primero, utilizo `%matplotlib inline` para ver las figuras directamente en el notebook."
   ]
  },
  {
   "cell_type": "code",
   "execution_count": 101,
   "metadata": {
    "collapsed": true
   },
   "outputs": [],
   "source": [
    "%matplotlib inline"
   ]
  },
  {
   "cell_type": "markdown",
   "metadata": {},
   "source": [
    "Para tener una mejor experiencia, el módulo `mpld3` permite tener una interacción dinámica con las figuras generas dentro del notebook.\n",
    "\n",
    "Para instalarlo por primera vez, es necesario ejecutar desde una consola con los permisos adecuados el siguiente comando:\n",
    "\n",
    "`> pip install mpld3`\n",
    "\n",
    "Luego, activamos el módulo dentro del notebook:"
   ]
  },
  {
   "cell_type": "code",
   "execution_count": 102,
   "metadata": {
    "collapsed": true
   },
   "outputs": [],
   "source": [
    "import mpld3\n",
    "mpld3.enable_notebook()"
   ]
  },
  {
   "cell_type": "markdown",
   "metadata": {},
   "source": [
    "a) Grafique la función coseno en el intervalo $[-2 \\pi,  2 \\pi]$. Utilice primero un paso de `0.1`, luego un paso de `0.01` y finalmente un paso de `1`. Finalmente, grafique la función usando 50 puntos uniformemente distribuidos dentro del intervalo indicado."
   ]
  },
  {
   "cell_type": "code",
   "execution_count": 103,
   "metadata": {
    "collapsed": true
   },
   "outputs": [],
   "source": [
    "x1 = np.arange(-2*np.pi, 2*np.pi, 0.1)"
   ]
  },
  {
   "cell_type": "code",
   "execution_count": 104,
   "metadata": {},
   "outputs": [],
   "source": [
    "x2 = np.arange(-2*np.pi, 2*np.pi, 0.01)"
   ]
  },
  {
   "cell_type": "code",
   "execution_count": 105,
   "metadata": {
    "collapsed": true
   },
   "outputs": [],
   "source": [
    "x3 = np.arange(-2*np.pi, 2*np.pi, 1)"
   ]
  },
  {
   "cell_type": "code",
   "execution_count": 106,
   "metadata": {
    "collapsed": true
   },
   "outputs": [],
   "source": [
    "x4 = np.linspace(-2*np.pi, 2*np.pi, 50)"
   ]
  },
  {
   "cell_type": "code",
   "execution_count": 107,
   "metadata": {},
   "outputs": [
    {
     "data": {
      "text/plain": [
       "[<matplotlib.lines.Line2D at 0xaeb7bfac>,\n",
       " <matplotlib.lines.Line2D at 0xaeb7f9ac>,\n",
       " <matplotlib.lines.Line2D at 0xaeb7fdec>,\n",
       " <matplotlib.lines.Line2D at 0xaeb86c2c>]"
      ]
     },
     "execution_count": 107,
     "metadata": {},
     "output_type": "execute_result"
    },
    {
     "data": {
      "image/png": "[encoded data removed]",
      "text/html": [
       "\n",
       "\n",
       "<style>\n",
       "\n",
       "</style>\n",
       "\n",
       "<div id=\"fig_el140202931495692131857823\"></div>\n",
       "<script>\n",
       "function mpld3_load_lib(url, callback){\n",
       "  var s = document.createElement('script');\n",
       "  s.src = url;\n",
       "  s.async = true;\n",
       "  s.onreadystatechange = s.onload = callback;\n",
       "  s.onerror = function(){console.warn(\"failed to load library \" + url);};\n",
       "  document.getElementsByTagName(\"head\")[0].appendChild(s);\n",
       "}\n",
       "\n",
       "if(typeof(mpld3) !== \"undefined\" && mpld3._mpld3IsLoaded){\n",
       "   // already loaded: just create the figure\n",
       "   !function(mpld3){\n",
       "       \n",
       "       mpld3.draw_figure(\"fig_el140202931495692131857823\", {\"axes\": [{\"axes\": [{\"tickformat\": null, \"grid\": {\"gridOn\": false}, \"position\": \"bottom\", \"scale\": \"linear\", \"fontsize\": 10.0, \"nticks\": 9, \"tickvalues\": null}, {\"tickformat\": null, \"grid\": {\"gridOn\": false}, \"position\": \"left\", \"scale\": \"linear\", \"fontsize\": 10.0, \"nticks\": 5, \"tickvalues\": null}], \"sharey\": [], \"collections\": [], \"xlim\": [-8.0, 8.0], \"images\": [], \"ylim\": [-1.0, 1.0], \"axesbg\": \"#FFFFFF\", \"paths\": [], \"id\": \"el140202931550412\", \"xscale\": \"linear\", \"yscale\": \"linear\", \"markers\": [], \"bbox\": [0.125, 0.125, 0.775, 0.775], \"sharex\": [], \"axesbgalpha\": null, \"zoomable\": true, \"texts\": [], \"ydomain\": [-1.0, 1.0], \"xdomain\": [-8.0, 8.0], \"lines\": [{\"alpha\": 1, \"data\": \"data01\", \"xindex\": 0, \"dasharray\": \"10,0\", \"color\": \"#0000FF\", \"coordinates\": \"data\", \"zorder\": 2, \"linewidth\": 1.0, \"yindex\": 1, \"id\": \"el140202931277740\"}, {\"alpha\": 1, \"data\": \"data02\", \"xindex\": 0, \"dasharray\": \"10,0\", \"color\": \"#007F00\", \"coordinates\": \"data\", \"zorder\": 2, \"linewidth\": 1.0, \"yindex\": 1, \"id\": \"el140202931292588\"}, {\"alpha\": 1, \"data\": \"data03\", \"xindex\": 0, \"dasharray\": \"10,0\", \"color\": \"#FF0000\", \"coordinates\": \"data\", \"zorder\": 2, \"linewidth\": 1.0, \"yindex\": 1, \"id\": \"el140202931293676\"}, {\"alpha\": 1, \"data\": \"data04\", \"xindex\": 0, \"dasharray\": \"10,0\", \"color\": \"#00BFBF\", \"coordinates\": \"data\", \"zorder\": 2, \"linewidth\": 1.0, \"yindex\": 1, \"id\": \"el140202931321900\"}]}], \"data\": {\"data04\": [[-6.283185307179586, 1.0], [-6.026728764029399, 0.9672948630390293], [-5.770272220879212, 0.8713187041233894], [-5.513815677729025, 0.7183493500977277], [-5.257359134578838, 0.5183925683105253], [-5.00090259142865, 0.284527586631032], [-4.744446048278463, 0.03205157757165486], [-4.487989505128276, -0.2225209339563146], [-4.231532961978089, -0.4625382902408353], [-3.9750764188279017, -0.6723008902613167], [-3.7186198756777147, -0.8380881048918405], [-3.462163332527527, -0.9490557470106686], [-3.20570678937734, -0.9979453927503363], [-2.949250246227153, -0.9815591569910654], [-2.6927937030769655, -0.900968867902419], [-2.4363371599267785, -0.7614459583691344], [-2.1798806167765914, -0.5721166601221698], [-1.9234240736264043, -0.34536505442130794], [-1.6669675304762173, -0.0960230259076822], [-1.4105109873260302, 0.15959989503337865], [-1.1540544441758431, 0.40478334312239317], [-0.8975979010256552, 0.6234898018587336], [-0.6411413578754681, 0.8014136218679566], [-0.38468481472528104, 0.9269167573460216], [-0.12822827157509398, 0.991790013823246], [0.1282282715750931, 0.9917900138232462], [0.38468481472528016, 0.926916757346022], [0.6411413578754672, 0.8014136218679572], [0.8975979010256552, 0.6234898018587336], [1.1540544441758422, 0.404783343122394], [1.4105109873260293, 0.15959989503337954], [1.6669675304762164, -0.09602302590768132], [1.9234240736264034, -0.3453650544213071], [2.1798806167765914, -0.5721166601221698], [2.4363371599267776, -0.7614459583691339], [2.6927937030769655, -0.900968867902419], [2.9492502462271517, -0.9815591569910651], [3.2057067893773397, -0.9979453927503363], [3.462163332527526, -0.9490557470106691], [3.718619875677714, -0.838088104891841], [3.9750764188279, -0.672300890261318], [4.231532961978088, -0.4625382902408361], [4.487989505128276, -0.2225209339563146], [4.744446048278462, 0.03205157757165397], [5.00090259142865, 0.284527586631032], [5.257359134578836, 0.5183925683105237], [5.513815677729024, 0.718349350097727], [5.77027222087921, 0.8713187041233885], [6.026728764029398, 0.9672948630390291], [6.283185307179586, 1.0]], \"data02\": [[-6.283185307179586, 1.0], [-6.2731853071795864, 0.9999500004166653], [-6.263185307179587, 0.9998000066665778], [-6.253185307179587, 0.9995500337489875], [-6.243185307179587, 0.9992001066609779], [-6.233185307179587, 0.9987502603949663], [-6.2231853071795875, 0.9982005399352042], [-6.213185307179588, 0.9975510002532797], [-6.203185307179588, 0.9968017063026196], [-6.193185307179588, 0.9959527330119944], [-6.183185307179588, 0.9950041652780259], [-6.173185307179589, 0.993956097956697], [-6.163185307179589, 0.9928086358538666], [-6.153185307179589, 0.9915618937147883], [-6.143185307179589, 0.9902159962126376], [-6.133185307179589, 0.9887710779360427], [-6.12318530717959, 0.9872272833756275], [-6.11318530717959, 0.9855847669095613], [-6.10318530717959, 0.983843692788122], [-6.09318530717959, 0.9820042351172711], [-6.0831853071795905, 0.9800665778412424], [-6.073185307179591, 0.9780309147241492], [-6.063185307179591, 0.9758974493306065], [-6.053185307179591, 0.9736663950053759], [-6.043185307179591, 0.9713379748520308], [-6.033185307179592, 0.9689124217106461], [-6.023185307179592, 0.9663899781345145], [-6.013185307179592, 0.963770896365892], [-6.003185307179592, 0.9610554383107726], [-5.993185307179592, 0.9582438755126989], [-5.983185307179593, 0.9553364891256079], [-5.973185307179593, 0.9523335698857154], [-5.963185307179593, 0.9492354180824429], [-5.953185307179593, 0.9460423435283891], [-5.9431853071795935, 0.9427546655283485], [-5.933185307179594, 0.9393727128473814], [-5.923185307179594, 0.9358968236779375], [-5.913185307179594, 0.9323273456060371], [-5.903185307179594, 0.9286646355765131], [-5.8931853071795945, 0.9249090598573161], [-5.883185307179595, 0.9210609940028883], [-5.873185307179595, 0.9171208228166084], [-5.863185307179595, 0.9130889403123118], [-5.853185307179595, 0.9089657496748889], [-5.843185307179596, 0.9047516632199674], [-5.833185307179596, 0.900447102352681], [-5.823185307179596, 0.8960524975255295], [-5.813185307179596, 0.8915682881953334], [-5.8031853071795965, 0.8869949227792888], [-5.793185307179597, 0.8823328586101263], [-5.783185307179597, 0.8775825618903778], [-5.773185307179597, 0.8727445076457564], [-5.763185307179597, 0.8678191796776553], [-5.7531853071795975, 0.8628070705147666], [-5.743185307179598, 0.8577086813638299], [-5.733185307179598, 0.8525245220595118], [-5.723185307179598, 0.8472551110134223], [-5.713185307179598, 0.8419009751622751], [-5.703185307179599, 0.8364626499151936], [-5.693185307179599, 0.8309406791001703], [-5.683185307179599, 0.8253356149096854], [-5.673185307179599, 0.8196480178454868], [-5.6631853071795994, 0.8138784566625414], [-5.6531853071796, 0.8080275083121596], [-5.6431853071796, 0.8020957578843007], [-5.6331853071796, 0.7960837985490641], [-5.6231853071796, 0.7899922314973735], [-5.6131853071796005, 0.783821665880858], [-5.603185307179601, 0.7775727187509369], [-5.593185307179601, 0.7712460149971158], [-5.583185307179601, 0.7648421872844979], [-5.573185307179601, 0.7583618759905179], [-5.563185307179602, 0.7518057291409049], [-5.553185307179602, 0.7451744023448806], [-5.543185307179602, 0.7384685587295984], [-5.533185307179602, 0.7316888688738317], [-5.523185307179602, 0.7248360107409162], [-5.513185307179603, 0.7179106696109546], [-5.503185307179603, 0.7109135380122888], [-5.493185307179603, 0.7038453156522478], [-5.483185307179603, 0.6967067093471775], [-5.4731853071796035, 0.6894984329517594], [-5.463185307179604, 0.6822212072876261], [-5.453185307179604, 0.67487576007128], [-5.443185307179604, 0.6674628258413212], [-5.433185307179604, 0.6599831458849956], [-5.423185307179605, 0.6524374681640656], [-5.413185307179605, 0.6448265472400152], [-5.403185307179605, 0.6371511441985945], [-5.393185307179605, 0.6294120265737114], [-5.383185307179605, 0.6216099682706793], [-5.373185307179606, 0.6137457494888267], [-5.363185307179606, 0.6058201566434782], [-5.353185307179606, 0.5978339822873139], [-5.343185307179606, 0.5897880250311142], [-5.3331853071796065, 0.5816830894638998], [-5.323185307179607, 0.5735199860724732], [-5.313185307179607, 0.5652995311603711], [-5.303185307179607, 0.5570225467662344], [-5.293185307179607, 0.548689860581605], [-5.2831853071796075, 0.5403023058681574], [-5.273185307179608, 0.5318607213743735], [-5.263185307179608, 0.5233659512516678], [-5.253185307179608, 0.514818844969974], [-5.243185307179608, 0.5062202572327973], [-5.233185307179609, 0.49757104789174617], [-5.223185307179609, 0.48887208186054704], [-5.213185307179609, 0.4801242290285539], [-5.203185307179609, 0.4713283641737601], [-5.1931853071796095, 0.46248536687532127], [-5.18318530717961, 0.4535961214255981], [-5.17318530717961, 0.4446615167417278], [-5.16318530717961, 0.4356824462767334], [-5.15318530717961, 0.4266598079301789], [-5.1431853071796105, 0.41759450395837994], [-5.133185307179611, 0.40848744088417943], [-5.123185307179611, 0.3993395294062956], [-5.113185307179611, 0.390151684308253], [-5.103185307179611, 0.3809248243669048], [-5.093185307179612, 0.37165987226055625], [-5.083185307179612, 0.3623577544766972], [-5.073185307179612, 0.35301940121935427], [-5.063185307179612, 0.3436457463160712], [-5.0531853071796125, 0.3342377271245271], [-5.043185307179613, 0.324796284438801], [-5.033185307179613, 0.3153223623952937], [-5.023185307179613, 0.30581690837831466], [-5.013185307179613, 0.29628087292534433], [-5.0031853071796135, 0.28671520963198144], [-4.993185307179614, 0.27712087505658384], [-4.983185307179614, 0.2674988286246139], [-4.973185307179614, 0.2578500325326964], [-4.963185307179614, 0.2481754516524], [-4.953185307179615, 0.2384760534337505], [-4.943185307179615, 0.22875280780848703], [-4.933185307179615, 0.21900668709306942], [-4.923185307179615, 0.20923866589144746], [-4.913185307179615, 0.19944972099760133], [-4.903185307179616, 0.189640831297863], [-4.893185307179616, 0.1798129776730284], [-4.883185307179616, 0.1699671429002701], [-4.873185307179616, 0.16010431155486063], [-4.8631853071796165, 0.15022546991171545], [-4.853185307179617, 0.1403316058467666], [-4.843185307179617, 0.1304237087381757], [-4.833185307179617, 0.12050276936739701], [-4.823185307179617, 0.11056977982010024], [-4.813185307179618, 0.10062573338696264], [-4.803185307179618, 0.09067162446434084], [-4.793185307179618, 0.08070844845483204], [-4.783185307179618, 0.07073720166773456], [-4.773185307179618, 0.06075888121941779], [-4.763185307179619, 0.05077448493361131], [-4.753185307179619, 0.0407850112416234], [-4.743185307179619, 0.030791459082498723], [-4.733185307179619, 0.020794827803125263], [-4.7231853071796195, 0.010796117058300452], [-4.71318530717962, 0.0007963267107665472], [-4.70318530717962, -0.009203543268774832], [-4.69318530717962, -0.019202492901658926], [-4.68318530717962, -0.02919952230125488], [-4.6731853071796206, -0.03919363177295356], [-4.663185307179621, -0.0491838219141362], [-4.653185307179621, -0.0591690937141138], [-4.643185307179621, -0.06914844865402742], [-4.633185307179621, -0.07912088880669914], [-4.623185307179622, -0.08908541693642404], [-4.613185307179622, -0.0990410365986929], [-4.603185307179622, -0.10898675223983582], [-4.593185307179622, -0.11892156929657674], [-4.5831853071796225, -0.128844494295489], [-4.573185307179623, -0.13875453495234175], [-4.563185307179623, -0.14865070027132765], [-4.553185307179623, -0.1585320006441616], [-4.543185307179623, -0.16839744794904069], [-4.5331853071796235, -0.17824605564945561], [-4.523185307179624, -0.1880768388928435], [-4.513185307179624, -0.19788881460907226], [-4.503185307179624, -0.20768100160874692], [-4.493185307179624, -0.2174524206813276], [-4.483185307179625, -0.22720209469304992], [-4.473185307179625, -0.23692904868463738], [-4.463185307179625, -0.2466323099687966], [-4.453185307179625, -0.2563109082274852], [-4.4431853071796255, -0.2659638756089427], [-4.433185307179626, -0.2755902468244752], [-4.423185307179626, -0.285189059244983], [-4.413185307179626, -0.29475935299722306], [-4.403185307179626, -0.30430017105979534], [-4.3931853071796265, -0.31381055935884433], [-4.383185307179627, -0.3232895668634653], [-4.373185307179627, -0.33273624568080706], [-4.363185307179627, -0.34214965115086], [-4.353185307179627, -0.3515288419409216], [-4.343185307179628, -0.36087288013972885], [-4.333185307179628, -0.3701808313512485], [-4.323185307179628, -0.3794517647881161], [-4.313185307179628, -0.3886847533647136], [-4.303185307179628, -0.39787887378987746], [-4.293185307179629, -0.40703320665922704], [-4.283185307179629, -0.4161468365471038], [-4.273185307179629, -0.42521885209811383], [-4.263185307179629, -0.43424834611826185], [-4.2531853071796295, -0.4432344156656705], [-4.24318530717963, -0.45217616214087336], [-4.23318530717963, -0.46107269137667434], [-4.22318530717963, -0.4699231137275636], [-4.21318530717963, -0.47872654415868143], [-4.203185307179631, -0.4874821023343208], [-4.193185307179631, -0.49618891270596055], [-4.183185307179631, -0.504846104599819], [-4.173185307179631, -0.5134528123039213], [-4.163185307179631, -0.5220081751546689], [-4.153185307179632, -0.5305113376229066], [-4.143185307179632, -0.5389614493994732], [-4.133185307179632, -0.5473576654802329], [-4.123185307179632, -0.5556991462505745], [-4.1131853071796325, -0.5639850575693721], [-4.103185307179633, -0.5722145708523988], [-4.093185307179633, -0.5803868631551841], [-4.083185307179633, -0.588501117255308], [-4.073185307179633, -0.5965565217341223], [-4.0631853071796336, -0.604552271057892], [-4.053185307179634, -0.6124875656583478], [-4.043185307179634, -0.6203616120126424], [-4.033185307179634, -0.6281736227227019], [-4.023185307179634, -0.6359228165939655], [-4.013185307179635, -0.6436084187135037], [-4.003185307179635, -0.651229660527509], [-3.993185307179635, -0.6587857799181511], [-3.9831853071796353, -0.6662760212797878], [-3.9731853071796355, -0.6736996355945246], [-3.9631853071796357, -0.6810558805071165], [-3.953185307179636, -0.6883440203992024], [-3.943185307179636, -0.6955633264628664], [-3.9331853071796363, -0.7027130767735185], [-3.9231853071796365, -0.7097925563620853], [-3.9131853071796368, -0.7168010572865078], [-3.903185307179637, -0.7237378787025338], [-3.893185307179637, -0.7306023269338026], [-3.8831853071796374, -0.7373937155412111], [-3.8731853071796376, -0.7441113653915583], [-3.863185307179638, -0.7507546047254571], [-3.853185307179638, -0.75732276922451], [-3.8431853071796382, -0.7638152020777407], [-3.8331853071796385, -0.7702312540472742], [-3.8231853071796387, -0.7765702835332602], [-3.813185307179639, -0.7828316566380327], [-3.803185307179639, -0.7890147472294988], [-3.7931853071796393, -0.7951189370037521], [-3.7831853071796395, -0.8011436155469019], [-3.7731853071796397, -0.8070881803961146], [-3.76318530717964, -0.8129520370998589], [-3.75318530717964, -0.8187345992773509], [-3.7431853071796404, -0.8244352886771917], [-3.7331853071796406, -0.830053535235192], [-3.723185307179641, -0.8355887771313778], [-3.713185307179641, -0.841040460846172], [-3.7031853071796412, -0.8464080412157464], [-3.6931853071796414, -0.8516909814865369], [-3.6831853071796417, -0.8568887533689188], [-3.673185307179642, -0.8620008370900354], [-3.663185307179642, -0.8670267214457746], [-3.6531853071796423, -0.8719659038518892], [-3.6431853071796425, -0.8768178903942544], [-3.6331853071796427, -0.8815821958782594], [-3.623185307179643, -0.8862583438773258], [-3.613185307179643, -0.8908458667805508], [-3.6031853071796434, -0.8953443058394667], [-3.5931853071796436, -0.8997532112139165], [-3.583185307179644, -0.9040721420170367], [-3.573185307179644, -0.9083006663593461], [-3.563185307179644, -0.9124383613919343], [-3.5531853071796444, -0.9164848133487461], [-3.5431853071796446, -0.9204396175879579], [-3.533185307179645, -0.9243023786324412], [-3.523185307179645, -0.9280727102093108], [-3.5131853071796453, -0.9317502352885508], [-3.5031853071796455, -0.935334586120718], [-3.4931853071796457, -0.9388254042737159], [-3.483185307179646, -0.9422223406686382], [-3.473185307179646, -0.9455250556146765], [-3.4631853071796463, -0.9487332188430881], [-3.4531853071796466, -0.951846509540224], [-3.4431853071796468, -0.9548646163796085], [-3.433185307179647, -0.9577872375530729], [-3.423185307179647, -0.9606140808009355], [-3.4131853071796474, -0.9633448634412269], [-3.4031853071796476, -0.965979312397959], [-3.393185307179648, -0.9685171642284314], [-3.383185307179648, -0.9709581651495758], [-3.3731853071796483, -0.9733020710633344], [-3.3631853071796485, -0.9755486475810691], [-3.3531853071796487, -0.9776976700470001], [-3.343185307179649, -0.9797489235606718], [-3.333185307179649, -0.9817022029984421], [-3.3231853071796493, -0.9835573130339951], [-3.3131853071796495, -0.9853140681578729], [-3.3031853071796498, -0.9869722926960274], [-3.29318530717965, -0.9885318208273864], [-3.28318530717965, -0.9899924966004364], [-3.2731853071796504, -0.9913541739488175], [-3.2631853071796506, -0.9926167167059293], [-3.253185307179651, -0.9937799986185485], [-3.243185307179651, -0.9948439033594529], [-3.2331853071796512, -0.9958083245390553], [-3.2231853071796515, -0.9966731657160413], [-3.2131853071796517, -0.9974383404070138], [-3.203185307179652, -0.9981037720951416], [-3.193185307179652, -0.9986693942378102], [-3.1831853071796523, -0.9991351502732767], [-3.1731853071796525, -0.9995009936263258], [-3.1631853071796527, -0.999766887712927], [-3.153185307179653, -0.9999328059438931], [-3.143185307179653, -0.9999987317275394], [-3.1331853071796534, -0.9999646584713425], [-3.1231853071796536, -0.9998305895825996], [-3.113185307179654, -0.9995965384680877], [-3.103185307179654, -0.9992625285327235], [-3.0931853071796542, -0.998828593177222], [-3.0831853071796544, -0.998294775794757], [-3.0731853071796547, -0.9976611297666222], [-3.063185307179655, -0.9969277184568923], [-3.053185307179655, -0.996094615206087], [-3.0431853071796553, -0.9951619033238371], [-3.0331853071796555, -0.9941296760805537], [-3.0231853071796557, -0.9929980366981008], [-3.013185307179656, -0.9917670983394739], [-3.003185307179656, -0.9904369840974827], [-2.9931853071796564, -0.9890078269824433], [-2.9831853071796566, -0.987479769908876], [-2.973185307179657, -0.9858529656812148], [-2.963185307179657, -0.984127576978527], [-2.953185307179657, -0.982303776338245], [-2.9431853071796574, -0.9803817461389128], [-2.9331853071796576, -0.9783616785819488], [-2.923185307179658, -0.9762437756724254], [-2.913185307179658, -0.9740282491988684], [-2.9031853071796583, -0.971715320712079], [-2.8931853071796585, -0.9693052215029786], [-2.8831853071796587, -0.9667981925794795], [-2.873185307179659, -0.9641944846423849], [-2.863185307179659, -0.9614943580603188], [-2.8531853071796593, -0.9586980828436893], [-2.8431853071796596, -0.9558059386176879], [-2.8331853071796598, -0.952818214594327], [-2.82318530717966, -0.9497352095435192], [-2.81318530717966, -0.9465572317632004], [-2.8031853071796604, -0.9432845990485004], [-2.7931853071796606, -0.9399176386599634], [-2.783185307179661, -0.9364566872908224], [-2.773185307179661, -0.9329020910333304], [-2.7631853071796613, -0.9292542053441509], [-2.7531853071796615, -0.9255133950088129], [-2.7431853071796617, -0.9216800341052326], [-2.733185307179662, -0.9177545059663059], [-2.723185307179662, -0.9137372031415755], [-2.7131853071796623, -0.909628527357976], [-2.7031853071796625, -0.9054288894796619], [-2.6931853071796628, -0.9011387094669215], [-2.683185307179663, -0.8967584163341809], [-2.673185307179663, -0.892288448107103], [-2.6631853071796634, -0.8877292517787856], [-2.6531853071796636, -0.8830812832650622], [-2.643185307179664, -0.878345007358911], [-2.633185307179664, -0.8735208976839756], [-2.6231853071796642, -0.8686094366472035], [-2.6131853071796645, -0.8636111153906054], [-2.6031853071796647, -0.8585264337421418], [-2.593185307179665, -0.8533559001657404], [-2.583185307179665, -0.8481000317104498], [-2.5731853071796653, -0.8427593539587359], [-2.5631853071796655, -0.8373344009739233], [-2.5531853071796657, -0.8318257152467896], [-2.543185307179666, -0.826233847641317], [-2.533185307179666, -0.8205593573396063], [-2.5231853071796664, -0.8148028117859587], [-2.5131853071796666, -0.8089647866301326], [-2.503185307179667, -0.8030458656697786], [-2.493185307179667, -0.7970466407920603], [-2.4831853071796672, -0.7909677119144661], [-2.4731853071796674, -0.784809686924818], [-2.4631853071796677, -0.7785731816204834], [-2.453185307179668, -0.7722588196467954], [-2.443185307179668, -0.7658672324346898], [-2.4331853071796683, -0.7593990591375611], [-2.4231853071796685, -0.7528549465673493], [-2.4131853071796687, -0.7462355491298577], [-2.403185307179669, -0.7395415287593139], [-2.393185307179669, -0.7327735548521769], [-2.3831853071796694, -0.7259323042001972], [-2.3731853071796696, -0.719018460922739], [-2.36318530717967, -0.7120327163983686], [-2.35318530717967, -0.704975769195717], [-2.34318530717967, -0.6978483250036237], [-2.3331853071796704, -0.6906510965605684], [-2.3231853071796706, -0.6833848035833977], [-2.313185307179671, -0.6760501726953541], [-2.303185307179671, -0.6686479373534142], [-2.2931853071796713, -0.6611788377749437], [-2.2831853071796715, -0.6536436208636762], [-2.2731853071796717, -0.6460430401350237], [-2.263185307179672, -0.638377855640725], [-2.253185307179672, -0.630648833892842], [-2.2431853071796723, -0.6228567477871086], [-2.2331853071796726, -0.6150023765256422], [-2.2231853071796728, -0.6070865055390234], [-2.213185307179673, -0.5991099264077545], [-2.203185307179673, -0.5910734367831014], [-2.1931853071796734, -0.5829778403073296], [-2.1831853071796736, -0.5748239465333402], [-2.173185307179674, -0.566612570843716], [-2.163185307179674, -0.5583445343691829], [-2.1531853071796743, -0.5500206639064984], [-2.1431853071796745, -0.5416417918357723], [-2.1331853071796747, -0.5332087560372293], [-2.123185307179675, -0.5247223998074217], [-2.113185307179675, -0.5161835717749006], [-2.1031853071796753, -0.5075931258153535], [-2.0931853071796755, -0.4989519209662179], [-2.0831853071796758, -0.4902608213407774], [-2.073185307179676, -0.4815206960417522], [-2.063185307179676, -0.47273241907438873], [-2.0531853071796764, -0.46389686925906015], [-2.0431853071796766, -0.4550149301433852], [-2.033185307179677, -0.44608748991387365], [-2.023185307179677, -0.4371154413071091], [-2.0131853071796773, -0.4280996815204755], [-2.0031853071796775, -0.4190411121224384], [-1.9931853071796777, -0.4099406389623888], [-1.983185307179678, -0.40079917208005905], [-1.973185307179678, -0.39161762561451946], [-1.9631853071796783, -0.3823969177127654], [-1.9531853071796785, -0.3731379704379031], [-1.9431853071796787, -0.36384170967694424], [-1.933185307179679, -0.3545090650482181], [-1.9231853071796792, -0.3451409698084104], [-1.9131853071796794, -0.33573836075923835], [-1.9031853071796796, -0.32630217815377144], [-1.8931853071796798, -0.3168333656024067], [-1.88318530717968, -0.3073328699785087], [-1.8731853071796802, -0.29780164132372267], [-1.8631853071796804, -0.2882406327529715], [-1.8531853071796807, -0.2786508003591448], [-1.8431853071796809, -0.26903310311749035], [-1.833185307179681, -0.25938850278971765], [-1.8231853071796813, -0.24971796382782238], [-1.8131853071796815, -0.24002245327764193], [-1.8031853071796817, -0.23030294068215176], [-1.793185307179682, -0.22056039798451188], [-1.7831853071796822, -0.21079579943087323], [-1.7731853071796824, -0.20101012147295408], [-1.7631853071796826, -0.19120434267039554], [-1.7531853071796828, -0.18137944359290636], [-1.743185307179683, -0.1715364067222069], [-1.7331853071796832, -0.1616762163537818], [-1.7231853071796834, -0.151799858498451], [-1.7131853071796836, -0.14190832078376986], [-1.7031853071796839, -0.13200259235526687], [-1.693185307179684, -0.12208366377753015], [-1.6831853071796843, -0.11215252693515171], [-1.6731853071796845, -0.10221017493353989], [-1.6631853071796847, -0.09225760199960958], [-1.653185307179685, -0.0822958033823604], [-1.6431853071796851, -0.07232577525335257], [-1.6331853071796854, -0.06234851460709069], [-1.6231853071796856, -0.05236501916132503], [-1.6131853071796858, -0.042376287257280605], [-1.603185307179686, -0.03238331775982391], [-1.5931853071796862, -0.02238710995757724], [-1.5831853071796864, -0.012388663462990671], [-1.5731853071796866, -0.0023889781123816573], [-1.5631853071796868, 0.007610946134047786], [-1.553185307179687, 0.017610109292206258], [-1.5431853071796873, 0.027607511454110552], [-1.5331853071796875, 0.03760215288787562], [-1.5231853071796877, 0.047593034137686924], [-1.513185307179688, 0.05757915612374518], [-1.5031853071796881, 0.06755952024217354], [-1.4931853071796883, 0.0775331284648771], [-1.4831853071796886, 0.08749898343934488], [-1.4731853071796888, 0.09745608858838432], [-1.463185307179689, 0.10740344820977805], [-1.4531853071796892, 0.11734006757585339], [-1.4431853071796894, 0.12726495303295418], [-1.4331853071796896, 0.1371771121008055], [-1.4231853071796898, 0.14707555357176058], [-1.41318530717969, 0.15695928760992103], [-1.4031853071796903, 0.16682732585011947], [-1.3931853071796905, 0.17667868149675522], [-1.3831853071796907, 0.18651236942247304], [-1.373185307179691, 0.19632740626667505], [-1.363185307179691, 0.20612281053385603], [-1.3531853071796913, 0.21589760269175207], [-1.3431853071796915, 0.225650805269293], [-1.3331853071796917, 0.23538144295434868], [-1.323185307179692, 0.24508854269125951], [-1.3131853071796922, 0.254771133778141], [-1.3031853071796924, 0.2644282479639532], [-1.2931853071796926, 0.2740589195453252], [-1.2831853071796928, 0.2836621854631243], [-1.273185307179693, 0.2932370853987615], [-1.2631853071796932, 0.3027826618702222], [-1.2531853071796935, 0.31229796032781393], [-1.2431853071796937, 0.3217820292496203], [-1.2331853071796939, 0.33123392023665255], [-1.223185307179694, 0.34065268810768845], [-1.2131853071796943, 0.3500373909937899], [-1.2031853071796945, 0.3593870904324888], [-1.1931853071796947, 0.36870085146163273], [-1.183185307179695, 0.37797774271288015], [-1.1731853071796952, 0.3872168365048367], [-1.1631853071796954, 0.3964172089358224], [-1.1531853071796956, 0.40557793997626107], [-1.1431853071796958, 0.4146981135606826], [-1.133185307179696, 0.4237768176793287], [-1.1231853071796962, 0.43281314446935304], [-1.1131853071796964, 0.44180619030560686], [-1.1031853071796967, 0.4507550558910007], [-1.0931853071796969, 0.4596588463464334], [-1.083185307179697, 0.46851667130027924], [-1.0731853071796973, 0.4773276449774243], [-1.0631853071796975, 0.48609088628784336], [-1.0531853071796977, 0.49480551891470803], [-1.043185307179698, 0.5034706714020177], [-1.0331853071796981, 0.5120854772417448], [-1.0231853071796984, 0.5206490749604841], [-1.0131853071796986, 0.5291606082056002], [-1.0031853071796988, 0.5376192258308614], [-0.993185307179699, 0.546024081981554], [-0.9831853071796992, 0.5543743361790671], [-0.9731853071796994, 0.5626691534049393], [-0.9631853071796996, 0.5709077041843604], [-0.9531853071796998, 0.579089164669118], [-0.9431853071797001, 0.5872127167199813], [-0.9331853071797003, 0.595277547988515], [-0.9231853071797005, 0.6032828519983127], [-0.9131853071797007, 0.6112278282256447], [-0.9031853071797009, 0.6191116821795088], [-0.8931853071797011, 0.6269336254810798], [-0.8831853071797013, 0.6346928759425456], [-0.8731853071797016, 0.6423886576453262], [-0.8631853071797018, 0.6500202010176642], [-0.853185307179702, 0.6575867429115821], [-0.8431853071797022, 0.6650875266791961], [-0.8331853071797024, 0.67252180224838], [-0.8231853071797026, 0.6798888261977719], [-0.8131853071797028, 0.6871878618311162], [-0.803185307179703, 0.6944181792509321], [-0.7931853071797033, 0.7015790554315027], [-0.7831853071797035, 0.7086697742911775], [-0.7731853071797037, 0.7156896267639793], [-0.7631853071797039, 0.7226379108705108], [-0.7531853071797041, 0.7295139317881514], [-0.7431853071797043, 0.7363170019205395], [-0.7331853071797045, 0.743046440966331], [-0.7231853071797048, 0.7497015759872292], [-0.713185307179705, 0.7562817414752778], [-0.7031853071797052, 0.7627862794194117], [-0.6931853071797054, 0.7692145393712567], [-0.6831853071797056, 0.7755658785101746], [-0.6731853071797058, 0.7818396617075442], [-0.663185307179706, 0.7880352615902739], [-0.6531853071797062, 0.7941520586035385], [-0.6431853071797065, 0.8001894410727339], [-0.6331853071797067, 0.8061468052646443], [-0.6231853071797069, 0.8120235554478151], [-0.6131853071797071, 0.8178191039521251], [-0.6031853071797073, 0.8235328712275536], [-0.5931853071797075, 0.8291642859021344], [-0.5831853071797077, 0.834712784839093], [-0.573185307179708, 0.8401778131931592], [-0.5631853071797082, 0.845558824466052], [-0.5531853071797084, 0.8508552805611282], [-0.5431853071797086, 0.8560666518371921], [-0.5331853071797088, 0.8611924171614587], [-0.523185307179709, 0.8662320639616671], [-0.5131853071797092, 0.871185088277337], [-0.5031853071797094, 0.8760509948101644], [-0.49318530717970965, 0.8808292969735507], [-0.48318530717970987, 0.8855195169412616], [-0.4731853071797101, 0.890121185695209], [-0.4631853071797103, 0.894633843072352], [-0.4531853071797105, 0.8990570378107136], [-0.4431853071797107, 0.9033903275945057], [-0.43318530717971093, 0.9076332790983611], [-0.42318530717971115, 0.9117854680306652], [-0.41318530717971136, 0.915846479175985], [-0.40318530717971157, 0.9198159064365901], [-0.3931853071797118, 0.9236933528730621], [-0.383185307179712, 0.9274784307439888], [-0.3731853071797122, 0.9311707615447372], [-0.3631853071797124, 0.9347699760453042], [-0.35318530717971264, 0.938275714327239], [-0.34318530717971285, 0.9416876258196349], [-0.33318530717971306, 0.945005369334186], [-0.3231853071797133, 0.9482286130993055], [-0.3131853071797135, 0.9513570347933029], [-0.3031853071797137, 0.954390321576616], [-0.2931853071797139, 0.9573281701230939], [-0.28318530717971413, 0.9601702866503303], [-0.27318530717971434, 0.962916386949041], [-0.26318530717971456, 0.9655661964114844], [-0.25318530717971477, 0.9681194500589225], [-0.24318530717971498, 0.9705758925681183], [-0.2331853071797152, 0.9729352782968678], [-0.2231853071797154, 0.9751973713085642], [-0.21318530717971562, 0.9773619453957916], [-0.20318530717971583, 0.979428784102945], [-0.19318530717971605, 0.981397680747876], [-0.18318530717971626, 0.983268438442561], [-0.17318530717971647, 0.9850408701127893], [-0.1631853071797167, 0.9867147985168709], [-0.1531853071797169, 0.9882900562633605], [-0.14318530717971711, 0.9897664858277961], [-0.13318530717971733, 0.9911439395684516], [-0.12318530717971754, 0.9924222797411006], [-0.11318530717971775, 0.9936013785127915], [-0.10318530717971797, 0.9946811179746294], [-0.09318530717971818, 0.9956613901535681], [-0.08318530717971839, 0.9965420970232065], [-0.0731853071797186, 0.9973231505135915], [-0.06318530717971882, 0.9980044725200251], [-0.05318530717971903, 0.9985859949108742], [-0.043185307179719246, 0.9990676595343845], [-0.03318530717971946, 0.999449418224495], [-0.023185307179719672, 0.9997312328056548], [-0.013185307179719885, 0.9999130750966405], [-0.0031853071797200982, 0.9999949269133748], [0.006814692820279689, 0.999976780070744], [0.016814692820279475, 0.9998586363834174], [0.026814692820279262, 0.9996405076656651], [0.03681469282027905, 0.9993224157301774], [0.046814692820278836, 0.9989043923858825], [0.05681469282027862, 0.9983864794347665], [0.06681469282027841, 0.9977687286676931], [0.0768146928202782, 0.997051201859224], [0.08681469282027798, 0.9962339707614424], [0.09681469282027777, 0.9953171170967766], [0.10681469282027756, 0.9943007325498295], [0.11681469282027734, 0.9931849187582086], [0.12681469282027713, 0.9919697873023631], [0.13681469282027692, 0.9906554596944261], [0.1468146928202767, 0.9892420673660632], [0.1568146928202765, 0.9877297516553294], [0.16681469282027628, 0.9861186637925353], [0.17681469282027606, 0.9844089648851249], [0.18681469282027585, 0.982600825901564], [0.19681469282027564, 0.9806944276542442], [0.20681469282027543, 0.9786899607814017], [0.2168146928202752, 0.9765876257280532], [0.226814692820275, 0.9743876327259523], [0.23681469282027479, 0.9720902017725658], [0.24681469282027457, 0.9696955626090745], [0.25681469282027436, 0.9672039546973992], [0.26681469282027415, 0.9646156271962548], [0.27681469282027393, 0.9619308389362344], [0.2868146928202737, 0.9591498583939269], [0.2968146928202735, 0.9562729636650688], [0.3068146928202733, 0.9533004424367356], [0.3168146928202731, 0.9502325919585732], [0.32681469282027287, 0.9470697190130728], [0.33681469282027265, 0.9438121398848932], [0.34681469282027244, 0.9404601803292326], [0.35681469282027223, 0.9370141755392534], [0.366814692820272, 0.9334744701125627], [0.3768146928202718, 0.9298414180167536], [0.3868146928202716, 0.926115382554008], [0.3968146928202714, 0.9222967363247674], [0.40681469282027116, 0.9183858611904723], [0.41681469282027095, 0.9143831482353771], [0.42681469282027074, 0.9102889977274419], [0.4368146928202705, 0.9061038190783055], [0.4468146928202703, 0.9018280308023454], [0.4568146928202701, 0.8974620604748258], [0.4668146928202699, 0.8930063446891413], [0.47681469282026967, 0.8884613290131574], [0.48681469282026946, 0.8838274679446542], [0.49681469282026924, 0.8791052248658768], [0.506814692820269, 0.8742950719971982], [0.5168146928202688, 0.8693974903498967], [0.5268146928202686, 0.8644129696780556], [0.5368146928202684, 0.8593420084295885], [0.5468146928202682, 0.8541851136963945], [0.556814692820268, 0.8489428011636493], [0.5668146928202678, 0.8436155950582377], [0.5768146928202675, 0.838204028096331], [0.5868146928202673, 0.8327086414301156], [0.5968146928202671, 0.8271299845936788], [0.6068146928202669, 0.8214686154480554], [0.6168146928202667, 0.815725100125442], [0.6268146928202665, 0.8099000129725847], [0.6368146928202663, 0.8039939364933447], [0.646814692820266, 0.798007461290448], [0.6568146928202658, 0.7919411860064263], [0.6668146928202656, 0.7857957172637526], [0.6768146928202654, 0.7795716696041802], [0.6868146928202652, 0.7732696654272884], [0.696814692820265, 0.766890334928243], [0.7068146928202648, 0.7604343160347778], [0.7168146928202646, 0.7539022543434025], [0.7268146928202643, 0.7472948030548425], [0.7368146928202641, 0.7406126229087208], [0.7468146928202639, 0.7338563821174832], [0.7568146928202637, 0.7270267562995788], [0.7668146928202635, 0.720124428411898], [0.7768146928202633, 0.7131500886814779], [0.7868146928202631, 0.7061044345364793], [0.7968146928202628, 0.6989881705364455], [0.8068146928202626, 0.6918020083018462], [0.8168146928202624, 0.6845466664429165], [0.8268146928202622, 0.6772228704877962], [0.836814692820262, 0.6698313528099775], [0.8468146928202618, 0.6623728525550688], [0.8568146928202616, 0.6548481155668803], [0.8668146928202614, 0.6472578943128399], [0.8768146928202611, 0.6396029478087479], [0.8868146928202609, 0.6318840415428759], [0.8968146928202607, 0.6241019473994178], [0.9068146928202605, 0.6162574435813031], [0.9168146928202603, 0.6083513145323763], [0.9268146928202601, 0.600384350858954], [0.9368146928202599, 0.5923573492507646], [0.9468146928202597, 0.5842711124012794], [0.9568146928202594, 0.5761264489274451], [0.9668146928202592, 0.5679241732888218], [0.976814692820259, 0.5596651057061383], [0.9868146928202588, 0.5513500720792702], [0.9968146928202586, 0.542979903904651], [1.0068146928202584, 0.534555438192123], [1.0168146928202582, 0.5260775173812373], [1.026814692820258, 0.5175469892570099], [1.0368146928202577, 0.5089647068651445], [1.0468146928202575, 0.5003315284267285], [1.0568146928202573, 0.4916483172524113], [1.066814692820257, 0.4829159416560745], [1.0768146928202569, 0.47413527486800067], [1.0868146928202567, 0.46530719494755146], [1.0968146928202565, 0.4564325846953622], [1.1068146928202562, 0.4475123315650626], [1.116814692820256, 0.4385473275745322], [1.1268146928202558, 0.42953846921669925], [1.1368146928202556, 0.42048665736989216], [1.1468146928202554, 0.41139279720775246], [1.1568146928202552, 0.40225779810871815], [1.166814692820255, 0.39308257356508675], [1.1768146928202547, 0.3838680410916665], [1.1868146928202545, 0.3746151221340261], [1.1968146928202543, 0.3653247419763505], [1.206814692820254, 0.3559978296489135], [1.216814692820254, 0.34663531783517554], [1.2268146928202537, 0.3372381427785158], [1.2368146928202535, 0.3278072441886091], [1.2468146928202533, 0.3183435651474554], [1.256814692820253, 0.3088480520150723], [1.2668146928202528, 0.29932165433486024], [1.2768146928202526, 0.2897653247386485], [1.2868146928202524, 0.2801800188514333], [1.2968146928202522, 0.2705666951958155], [1.306814692820252, 0.2609263150961496], [1.3168146928202518, 0.25125984258241196], [1.3268146928202516, 0.24156824429379858], [1.3368146928202513, 0.23185248938206202], [1.3468146928202511, 0.22211354941459702], [1.356814692820251, 0.21235239827728455], [1.3668146928202507, 0.20257001207710412], [1.3768146928202505, 0.19276736904452377], [1.3868146928202503, 0.1829454494356779], [1.39681469282025, 0.17310523543434247], [1.4068146928202498, 0.1632477110537175], [1.4168146928202496, 0.15337386203802647], [1.4268146928202494, 0.14348467576394278], [1.4368146928202492, 0.13358114114185285], [1.446814692820249, 0.12366424851696596], [1.4568146928202488, 0.1137349895702806], [1.4668146928202486, 0.10379435721941703], [1.4768146928202484, 0.09384334551932655], [1.4868146928202481, 0.08388294956288665], [1.496814692820248, 0.0739141653813927], [1.5068146928202477, 0.06393798984495554], [1.5168146928202475, 0.053955420562815354], [1.5268146928202473, 0.04396745578358159], [1.536814692820247, 0.0339750942954089], [1.5468146928202469, 0.02397933532611915], [1.5568146928202466, 0.013981178443279504], [1.5668146928202464, 0.00398162345424647], [1.5768146928202462, -0.006018329693813979], [1.586814692820246, -0.016017681013920305], [1.5968146928202458, -0.02601543057927326], [1.6068146928202456, -0.036010578623247746], [1.6168146928202454, -0.04600212563936862], [1.6268146928202452, -0.05598907248126053], [1.636814692820245, -0.06597042046256173], [1.6468146928202447, -0.07594517145679183], [1.6568146928202445, -0.08591232799716368], [1.6668146928202443, -0.0958708933763292], [1.676814692820244, -0.10581987174604922], [1.6868146928202439, -0.11575826821677757], [1.6968146928202437, -0.12568508895714914], [1.7068146928202435, -0.13559934129336224], [1.7168146928202432, -0.14550003380844506], [1.726814692820243, -0.15538617644139666], [1.7368146928202428, -0.16525678058619217], [1.7468146928202426, -0.1751108591906426], [1.7568146928202424, -0.18494742685509918], [1.7668146928202422, -0.1947654999309926], [1.776814692820242, -0.20456409661919697], [1.7868146928202417, -0.2143422370682089], [1.7968146928202415, -0.224098943472132], [1.8068146928202413, -0.23383324016845633], [1.816814692820241, -0.24354415373562424], [1.826814692820241, -0.2532307130903714], [1.8368146928202407, -0.2628919495848343], [1.8468146928202405, -0.2725268971034147], [1.8568146928202403, -0.28213459215938974], [1.86681469282024, -0.2917140739912602], [1.8768146928202398, -0.3012643846588258], [1.8868146928202396, -0.3107845691389784], [1.8968146928202394, -0.3202736754212033], [1.9068146928202392, -0.32973075460277995], [1.916814692820239, -0.339154860983671], [1.9268146928202388, -0.34854505216109183], [1.9368146928202385, -0.3579003891237498], [1.9468146928202383, -0.3672199363457447], [1.9568146928202381, -0.3765027618801206], [1.966814692820238, -0.3857479374520598], [1.9768146928202377, -0.3949545385517093], [1.9868146928202375, -0.40412164452663135], [1.9968146928202373, -0.4132483386738676], [2.006814692820237, -0.422333708331609], [2.016814692820237, -0.4313768449704608], [2.0268146928202366, -0.440376844284295], [2.0368146928202364, -0.44933280628068034], [2.046814692820236, -0.4582438353708803], [2.056814692820236, -0.4671090404594118], [2.0668146928202358, -0.4759275350331536], [2.0768146928202356, -0.48469843724999706], [2.0868146928202354, -0.49342087002702956], [2.096814692820235, -0.502093961128242], [2.106814692820235, -0.5107168432517518], [2.1168146928202347, -0.5192886541165325], [2.1268146928202345, -0.5278085365486406], [2.1368146928202343, -0.5362756385669328], [2.146814692820234, -0.5446891134682632], [2.156814692820234, -0.5530481199121529], [2.1668146928202336, -0.5613518220049232], [2.1768146928202334, -0.5695993893832847], [2.186814692820233, -0.5777899972973723], [2.196814692820233, -0.5859228266932205], [2.206814692820233, -0.5939970642946666], [2.2168146928202326, -0.6020119026846791], [2.2268146928202324, -0.6099665403860981], [2.236814692820232, -0.6178601819417823], [2.246814692820232, -0.6256920379941541], [2.2568146928202317, -0.6334613253641347], [2.2668146928202315, -0.6411672671294616], [2.2768146928202313, -0.6488090927023799], [2.286814692820231, -0.6563860379067002], [2.296814692820231, -0.6638973450542166], [2.3068146928202307, -0.6713422630204734], [2.3168146928202304, -0.6787200473198782], [2.3268146928202302, -0.6860299601801493], [2.33681469282023, -0.693271270616092], [2.34681469282023, -0.7004432545026972], [2.3568146928202296, -0.7075451946475529], [2.3668146928202294, -0.7145763808625629], [2.376814692820229, -0.721536110034965], [2.386814692820229, -0.7284236861976416], [2.3968146928202287, -0.7352384205987162], [2.4068146928202285, -0.7419796317704277], [2.4168146928202283, -0.7486466455972763], [2.426814692820228, -0.7552387953834354], [2.436814692820228, -0.7617554219194197], [2.4468146928202277, -0.7681958735480061], [2.4568146928202275, -0.7745595062293988], [2.4668146928202273, -0.7808456836056328], [2.476814692820227, -0.7870537770642086], [2.486814692820227, -0.793183165800954], [2.4968146928202266, -0.7992332368821032], [2.5068146928202264, -0.8052033853055895], [2.516814692820226, -0.811093014061546], [2.526814692820226, -0.8169015341920048], [2.5368146928202258, -0.8226283648497935], [2.5468146928202255, -0.8282729333566186], [2.5568146928202253, -0.8338346752603331], [2.566814692820225, -0.8393130343913815], [2.576814692820225, -0.8447074629184159], [2.5868146928202247, -0.8500174214030791], [2.5968146928202245, -0.8552423788539475], [2.6068146928202243, -0.8603818127796301], [2.616814692820224, -0.8654352092410171], [2.626814692820224, -0.8704020629026737], [2.6368146928202236, -0.8752818770833727], [2.6468146928202234, -0.8800741638057624], [2.656814692820223, -0.8847784438451642], [2.666814692820223, -0.8893942467774946], [2.6768146928202228, -0.8939211110263064], [2.6868146928202226, -0.8983585839089475], [2.6968146928202223, -0.9027062216818273], [2.706814692820222, -0.9069635895847917], [2.716814692820222, -0.911130261884598], [2.7268146928202217, -0.9152058219174886], [2.7368146928202215, -0.9191898621308564], [2.7468146928202213, -0.9230819841240001], [2.756814692820221, -0.9268817986879638], [2.766814692820221, -0.9305889258444577], [2.7768146928202206, -0.9342029948838553], [2.7868146928202204, -0.9377236444022644], [2.79681469282022, -0.9411505223376672], [2.80681469282022, -0.9444832860051255], [2.81681469282022, -0.9477216021310502], [2.8268146928202196, -0.9508651468865271], [2.8368146928202194, -0.9539136059197004], [2.846814692820219, -0.9568666743872071], [2.856814692820219, -0.9597240569846612], [2.8668146928202187, -0.9624854679761844], [2.8768146928202185, -0.9651506312229784], [2.8868146928202183, -0.9677192802109397], [2.896814692820218, -0.9701911580773099], [2.906814692820218, -0.9725660176363623], [2.9168146928202177, -0.9748436214041201], [2.9268146928202174, -0.9770237416221045], [2.9368146928202172, -0.9791061602801103], [2.946814692820217, -0.9810906691380072], [2.956814692820217, -0.9829770697465632], [2.9668146928202166, -0.9847651734672894], [2.9768146928202164, -0.9864548014913037], [2.986814692820216, -0.9880457848572118], [2.996814692820216, -0.989537964468003], [3.0068146928202157, -0.9909311911069596], [3.0168146928202155, -0.9922253254525788], [3.0268146928202153, -0.9934202380925043], [3.036814692820215, -0.9945158095364681], [3.046814692820215, -0.9955119302282386], [3.0568146928202147, -0.9964085005565768], [3.0668146928202145, -0.9972054308651971], [3.0768146928202142, -0.9979026414617326], [3.086814692820214, -0.9985000626257046], [3.096814692820214, -0.9989976346154947], [3.1068146928202136, -0.9993953076743185], [3.1168146928202134, -0.9996930420352015], [3.126814692820213, -0.9998908079249558], [3.136814692820213, -0.9999885855671571], [3.1468146928202128, -0.9999863651841228], [3.1568146928202125, -0.9998841469978893], [3.1668146928202123, -0.9996819412301899], [3.176814692820212, -0.9993797681014331], [3.186814692820212, -0.9989776578286799], [3.1968146928202117, -0.9984756506226223], [3.2068146928202115, -0.9978737966835628], [3.2168146928202113, -0.9971721561963937], [3.226814692820211, -0.996370799324579], [3.236814692820211, -0.995469806203138], [3.2468146928202106, -0.9944692669306321], [3.2568146928202104, -0.9933692815601548], [3.26681469282021, -0.9921699600893265], [3.27681469282021, -0.9908714224492947], [3.2868146928202098, -0.9894737984927415], [3.2968146928202096, -0.9879772279808978], [3.3068146928202093, -0.9863818605695676], [3.316814692820209, -0.9846878557941625], [3.326814692820209, -0.9828953830537486], [3.3368146928202087, -0.9810046215941061], [3.3468146928202085, -0.9790157604898052], [3.3568146928202083, -0.9769289986252991], [3.366814692820208, -0.9747445446750352], [3.376814692820208, -0.9724626170825884], [3.3868146928202076, -0.9700834440388161], [3.3968146928202074, -0.96760726345904], [3.406814692820207, -0.9650343229592547], [3.416814692820207, -0.9623648798313662], [3.426814692820207, -0.9595992010174625], [3.4368146928202066, -0.9567375630831204], [3.4468146928202064, -0.9537802521897487], [3.456814692820206, -0.9507275640659723], [3.466814692820206, -0.9475798039780595], [3.4768146928202057, -0.9443372866993962], [3.4868146928202055, -0.941000336479008], [3.4968146928202053, -0.9375692870091363], [3.506814692820205, -0.9340444813918688], [3.516814692820205, -0.93042627210483], [3.5268146928202047, -0.9267150209659333], [3.5368146928202044, -0.9229110990971999], [3.5468146928202042, -0.9190148868876469], [3.556814692820204, -0.9150267739552482], [3.566814692820204, -0.9109471591079739], [3.5768146928202036, -0.9067764503039089], [3.5868146928202034, -0.9025150646104579], [3.596814692820203, -0.8981634281626394], [3.606814692820203, -0.8937219761204716], [3.6168146928202027, -0.8891911526254574], [3.6268146928202025, -0.8845714107561711], [3.6368146928202023, -0.8798632124829494], [3.646814692820202, -0.8750670286216964], [3.656814692820202, -0.8701833387868013], [3.6668146928202017, -0.8652126313431778], [3.6768146928202015, -0.8601554033574282], [3.6868146928202012, -0.8550121605481367], [3.696814692820201, -0.849783417235298], [3.706814692820201, -0.8444696962888865], [3.7168146928202006, -0.8390715290765682], [3.7268146928202004, -0.8335894554105664], [3.7368146928202, -0.8280240234936791], [3.7468146928202, -0.8223757898644601], [3.7568146928201998, -0.8166453193415656], [3.7668146928201995, -0.8108331849672723], [3.7768146928201993, -0.8049399679501745], [3.786814692820199, -0.7989662576070626], [3.796814692820199, -0.7929126513039931], [3.8068146928201987, -0.7867797543965516], [3.8168146928201985, -0.780568180169318], [3.8268146928201983, -0.7742785497745387], [3.836814692820198, -0.767911492170012], [3.846814692820198, -0.7614676440561925], [3.8568146928201976, -0.7549476498125215], [3.8668146928201974, -0.7483521614329902], [3.876814692820197, -0.7416818384609404], [3.886814692820197, -0.7349373479231106], [3.8968146928201968, -0.7281193642629342], [3.9068146928201966, -0.7212285692730958], [3.9168146928201963, -0.7142656520273517], [3.926814692820196, -0.7072313088116243], [3.936814692820196, -0.7001262430543733], [3.9468146928201957, -0.6929511652562534], [3.9568146928201955, -0.6857067929190652], [3.9668146928201953, -0.6783938504740057], [3.976814692820195, -0.671013069209225], [3.986814692820195, -0.663565187196699], [3.9968146928201946, -0.6560509492184226], [4.006814692820194, -0.6484711066919315], [4.016814692820194, -0.6408264175951622], [4.026814692820194, -0.6331176463906535], [4.036814692820194, -0.6253455639491021], [4.046814692820194, -0.6175109474722753], [4.056814692820193, -0.609614580415292], [4.066814692820193, -0.6016572524082777], [4.076814692820193, -0.5936397591774019], [4.086814692820193, -0.5855629024653065], [4.0968146928201925, -0.5774274899509321], [4.106814692820192, -0.5692343351687504], [4.116814692820192, -0.5609842574274124], [4.126814692820192, -0.5526780817278169], [4.136814692820192, -0.5443166386806122], [4.146814692820191, -0.5359007644231351], [4.156814692820191, -0.5274313005357981], [4.166814692820191, -0.5189090939579322], [4.176814692820191, -0.5103349969030933], [4.186814692820191, -0.5017098667738419], [4.19681469282019, -0.49303456607600316], [4.20681469282019, -0.4843099623324177], [4.21681469282019, -0.47553692799618924], [4.22681469282019, -0.4667163403634406], [4.2368146928201895, -0.4578490814855846], [4.246814692820189, -0.44893603808111976], [4.256814692820189, -0.43997810144695887], [4.266814692820189, -0.43097616736930044], [4.276814692820189, -0.42193113603405075], [4.2868146928201885, -0.41284391193680575], [4.296814692820188, -0.4037154037924025], [4.306814692820188, -0.3945465244440484], [4.316814692820188, -0.3853381907720376], [4.326814692820188, -0.37609132360206365], [4.336814692820187, -0.3668068476131379], [4.346814692820187, -0.3574856912451222], [4.356814692820187, -0.34812878660588575], [4.366814692820187, -0.33873706937809506], [4.3768146928201865, -0.3293114787256465], [4.386814692820186, -0.3198529571997507], [4.396814692820186, -0.31036245064467816], [4.406814692820186, -0.30084090810317565], [4.416814692820186, -0.2912892817215628], [4.4268146928201855, -0.281708526654518], [4.436814692820185, -0.2720996009695641], [4.446814692820185, -0.26246346555126215], [4.456814692820185, -0.2528010840051239], [4.466814692820185, -0.24311342256125204], [4.476814692820184, -0.23340144997771786], [4.486814692820184, -0.22366613744368646], [4.496814692820184, -0.21390845848229856], [4.506814692820184, -0.20412938885331885], [4.5168146928201836, -0.19432990645556109], [4.526814692820183, -0.1845109912290988], [4.536814692820183, -0.17467362505727227], [4.546814692820183, -0.16481879166850086], [4.556814692820183, -0.15494747653791116], [4.5668146928201825, -0.14506066678879012], [4.576814692820182, -0.1351593510938737], [4.586814692820182, -0.12524451957648028], [4.596814692820182, -0.11531716371149933], [4.606814692820182, -0.10537827622624453], [4.616814692820181, -0.09542885100118205], [4.626814692820181, -0.08546988297054324], [4.636814692820181, -0.07550236802283203], [4.646814692820181, -0.06552730290123696], [4.656814692820181, -0.05554568510395768], [4.66681469282018, -0.04555851278445592], [4.67681469282018, -0.035566784651641016], [4.68681469282018, -0.025571499869999834], [4.69681469282018, -0.015573657959681164], [4.7068146928201795, -0.0055742586965445325], [4.716814692820179, 0.0044256979878165535], [4.726814692820179, 0.014425212106066928], [4.736814692820179, 0.024423283715127666], [4.746814692820179, 0.03441891301616956], [4.756814692820178, 0.044411100454592164], [4.766814692820178, 0.05439884681997844], [4.776814692820178, 0.06438115334601494], [4.786814692820178, 0.07435702181036762], [4.796814692820178, 0.08432545463450325], [4.806814692820177, 0.0942854549834464], [4.816814692820177, 0.10423602686546216], [4.826814692820177, 0.11417617523165444], [4.836814692820177, 0.12410490607547003], [4.8468146928201765, 0.1340212265320985], [4.856814692820176, 0.14392414497775777], [4.866814692820176, 0.1538126711288556], [4.876814692820176, 0.16368581614101738], [4.886814692820176, 0.17354259270796946], [4.8968146928201755, 0.18338201516026906], [4.906814692820175, 0.1932030995638705], [4.916814692820175, 0.20300486381851757], [4.926814692820175, 0.21278632775595296], [4.936814692820175, 0.2225465132379341], [4.946814692820174, 0.23228444425404626], [4.956814692820174, 0.24199914701930272], [4.966814692820174, 0.25168965007152255], [4.976814692820174, 0.26135498436847593], [4.9868146928201735, 0.27099418338478753], [4.996814692820173, 0.2806062832085884], [5.006814692820173, 0.2901903226379062], [5.016814692820173, 0.29974534327678465], [5.026814692820173, 0.3092703896311224], [5.0368146928201725, 0.3187645092042215], [5.046814692820172, 0.3282267525920364], [5.056814692820172, 0.33765617357811345], [5.066814692820172, 0.3470518292282119], [5.076814692820172, 0.3564127799845965], [5.086814692820171, 0.36573808975999217], [5.096814692820171, 0.37502682603119264], [5.106814692820171, 0.3842780599323113], [5.116814692820171, 0.3934908663476674], [5.1268146928201705, 0.4026643240042967], [5.13681469282017, 0.411797515564078], [5.14681469282017, 0.4208895277154664], [5.15681469282017, 0.4299394512648233], [5.16681469282017, 0.4389463812273355], [5.1768146928201695, 0.4479094169175123], [5.186814692820169, 0.456827662039254], [5.196814692820169, 0.46570022477548023], [5.206814692820169, 0.47452621787731114], [5.216814692820169, 0.4833047587527915], [5.226814692820168, 0.4920349695551492], [5.236814692820168, 0.5007159772705791], [5.246814692820168, 0.5093469138055441], [5.256814692820168, 0.5179269160735827], [5.266814692820168, 0.5264551260816183], [5.276814692820167, 0.5349306910157569], [5.286814692820167, 0.543352763326568], [5.296814692820167, 0.5517205008138389], [5.306814692820167, 0.560033066710794], [5.3168146928201665, 0.5682896297677706], [5.326814692820166, 0.5764893643353437], [5.336814692820166, 0.5846314504468894], [5.346814692820166, 0.5927150739005815], [5.356814692820166, 0.6007394263408113], [5.366814692820165, 0.6087037053390216], [5.376814692820165, 0.6166071144739493], [5.386814692820165, 0.6244488634112672], [5.396814692820165, 0.6322281679826163], [5.406814692820165, 0.639944250264022], [5.416814692820164, 0.6475963386536866], [5.426814692820164, 0.6551836679491476], [5.436814692820164, 0.6627054794237983], [5.446814692820164, 0.6701610209027593], [5.4568146928201635, 0.6775495468380957], [5.466814692820163, 0.684870318383371], [5.476814692820163, 0.6921226034675314], [5.486814692820163, 0.6993056768681118], [5.496814692820163, 0.7064188202837584], [5.5068146928201624, 0.7134613224060569], [5.516814692820162, 0.720432478990664], [5.526814692820162, 0.7273315929277303], [5.536814692820162, 0.7341579743116116], [5.546814692820162, 0.7409109405098578], [5.556814692820161, 0.747589816231477], [5.566814692820161, 0.7541939335944624], [5.576814692820161, 0.7607226321925812], [5.586814692820161, 0.7671752591614142], [5.5968146928201605, 0.7735511692436415], [5.60681469282016, 0.7798497248535684], [5.61681469282016, 0.7860702961408825], [5.62681469282016, 0.792212261053639], [5.63681469282016, 0.7982750054004647], [5.6468146928201595, 0.8042579229119773], [5.656814692820159, 0.8101604153014115], [5.666814692820159, 0.815981892324447], [5.676814692820159, 0.8217217718382326], [5.686814692820159, 0.8273794798596003], [5.696814692820158, 0.8329544506224626], [5.706814692820158, 0.8384461266343891], [5.716814692820158, 0.843853958732355], [5.726814692820158, 0.8491774061376569], [5.7368146928201575, 0.8544159365099905], [5.746814692820157, 0.859569026000684], [5.756814692820157, 0.8646361593050826], [5.766814692820157, 0.8696168297140784], [5.776814692820157, 0.8745105391647812], [5.7868146928201565, 0.8793167982903237], [5.796814692820156, 0.8840351264687988], [5.806814692820156, 0.8886650518713205], [5.816814692820156, 0.8932061115092068], [5.826814692820156, 0.8976578512802782], [5.836814692820155, 0.9020198260142672], [5.846814692820155, 0.9062915995173355], [5.856814692820155, 0.9104727446156926], [5.866814692820155, 0.9145628431983128], [5.876814692820155, 0.9185614862587463], [5.886814692820154, 0.9224682739360195], [5.896814692820154, 0.9262828155546199], [5.906814692820154, 0.9300047296635647], [5.916814692820154, 0.9336336440745445], [5.9268146928201535, 0.9371691958991423], [5.936814692820153, 0.9406110315851218], [5.946814692820153, 0.9439588069517828], [5.956814692820153, 0.9472121872243784], [5.966814692820153, 0.9503708470675923], [5.976814692820152, 0.9534344706180726], [5.986814692820152, 0.9564027515160172], [5.996814692820152, 0.9592753929358098], [6.006814692820152, 0.9620521076157023], [6.016814692820152, 0.9647326178865406], [6.026814692820151, 0.9673166556995315], [6.036814692820151, 0.969803962653047], [6.046814692820151, 0.9721942900184644], [6.056814692820151, 0.9744873987650392], [6.0668146928201505, 0.9766830595838076], [6.07681469282015, 0.9787810529105175], [6.08681469282015, 0.9807811689475845], [6.09681469282015, 0.9826832076850717], [6.10681469282015, 0.9844869789206903], [6.1168146928201494, 0.9861923022788198], [6.126814692820149, 0.9877990072285457], [6.136814692820149, 0.9893069331007119], [6.146814692820149, 0.9907159291039878], [6.156814692820149, 0.9920258543399469], [6.166814692820148, 0.9932365778171577], [6.176814692820148, 0.994347978464281], [6.186814692820148, 0.9953599451421786], [6.196814692820148, 0.9962723766550258], [6.2068146928201475, 0.9970851817604316], [6.216814692820147, 0.997798279178563], [6.226814692820147, 0.9984115976002723], [6.236814692820147, 0.9989250756942285], [6.246814692820147, 0.9993386621130501], [6.2568146928201465, 0.9996523154984398], [6.266814692820146, 0.9998660044853205], [6.276814692820146, 0.9999797077049716]], \"data01\": [[-6.283185307179586, 1.0], [-6.183185307179587, 0.9950041652780258], [-6.083185307179587, 0.9800665778412417], [-5.983185307179587, 0.9553364891256063], [-5.883185307179588, 0.9210609940028855], [-5.783185307179588, 0.8775825618903734], [-5.683185307179588, 0.8253356149096793], [-5.583185307179589, 0.7648421872844898], [-5.483185307179589, 0.6967067093471673], [-5.383185307179589, 0.6216099682706667], [-5.28318530717959, 0.5403023058681425], [-5.18318530717959, 0.45359612142558065], [-5.0831853071795905, 0.36235775447667734], [-4.983185307179591, 0.2674988286245916], [-4.883185307179591, 0.1699671429002456], [-4.783185307179592, 0.07073720166770799], [-4.683185307179592, -0.02919952230128329], [-4.583185307179592, -0.12884449429551895], [-4.483185307179593, -0.22720209469308106], [-4.383185307179593, -0.32328956686349725], [-4.283185307179593, -0.41614683654713613], [-4.183185307179594, -0.5048461045998512], [-4.083185307179594, -0.5885011172553396], [-3.9831853071795944, -0.6662760212798183], [-3.8831853071795948, -0.7373937155412399], [-3.783185307179595, -0.8011436155469286], [-3.6831853071795955, -0.8568887533689425], [-3.583185307179596, -0.9040721420170571], [-3.483185307179596, -0.942222340668655], [-3.3831853071795965, -0.9709581651495881], [-3.283185307179597, -0.989992496600444], [-3.1831853071795972, -0.999135150273279], [-3.0831853071795976, -0.9982947757947538], [-2.983185307179598, -0.9874797699088667], [-2.8831853071795983, -0.9667981925794641], [-2.7831853071795987, -0.9364566872908006], [-2.683185307179599, -0.8967584163341525], [-2.5831853071795994, -0.848100031710415], [-2.4831853071795997, -0.7909677119144248], [-2.3831853071796, -0.7259323042001495], [-2.2831853071796004, -0.6536436208636225], [-2.183185307179601, -0.5748239465332806], [-2.083185307179601, -0.49026082134071236], [-1.9831853071796015, -0.40079917207998905], [-1.8831853071796019, -0.30733286997843434], [-1.7831853071796022, -0.2107957994307951], [-1.6831853071796026, -0.11215252693507051], [-1.583185307179603, -0.01238866346290719], [-1.4831853071796033, 0.08749898343942983], [-1.3831853071796036, 0.18651236942255855], [-1.283185307179604, 0.2836621854632095], [-1.1831853071796044, 0.377977742712964], [-1.0831853071796047, 0.46851667130036084], [-0.9831853071796051, 0.5543743361791454], [-0.8831853071796054, 0.6346928759426197], [-0.7831853071796058, 0.7086697742912463], [-0.6831853071796061, 0.7755658785102374], [-0.5831853071796065, 0.8347127848391487], [-0.48318530717960684, 0.8855195169413096], [-0.3831853071796072, 0.927478430744028], [-0.28318530717960755, 0.9601702866503601], [-0.1831853071796079, 0.9832684384425807], [-0.08318530717960826, 0.9965420970232156], [0.016814692820391386, 0.9998586363834155], [0.11681469282039103, 0.9931849187581953], [0.21681469282039068, 0.9765876257280284], [0.3168146928203903, 0.9502325919585367], [0.41681469282038996, 0.914383148235329], [0.5168146928203896, 0.869397490349837], [0.6168146928203893, 0.8157251001253711], [0.7168146928203889, 0.7539022543433208], [0.8168146928203885, 0.6845466664428246], [0.9168146928203882, 0.6083513145322748], [1.0168146928203878, 0.5260775173811271], [1.1168146928203875, 0.43854732757441406], [1.2168146928203871, 0.3466353178350506], [1.3168146928203868, 0.2512598425822813], [1.4168146928203864, 0.15337386203789133], [1.516814692820386, 0.053955420562677], [1.6168146928203857, -0.046002125639508805], [1.7168146928203853, -0.14550003380858564], [1.816814692820385, -0.2435441537357638], [1.9168146928203846, -0.33915486098380804], [2.0168146928203843, -0.4313768449705938], [2.116814692820384, -0.51928865411666], [2.2168146928203836, -0.6020119026847996], [2.316814692820383, -0.6787200473199905], [2.416814692820383, -0.7486466455973788], [2.5168146928203825, -0.8110930140616375], [2.616814692820382, -0.8654352092410963], [2.716814692820382, -0.911130261884664], [2.8168146928203814, -0.9477216021311018], [2.916814692820381, -0.9748436214041565], [3.0168146928203807, -0.9922253254525993], [3.1168146928203804, -0.9996930420352057], [3.21681469282038, -0.997172156196381], [3.3168146928203797, -0.9846878557941328], [3.4168146928203793, -0.9623648798313194], [3.516814692820379, -0.9304262721047661], [3.6168146928203786, -0.8891911526253771], [3.7168146928203782, -0.8390715290764716], [3.816814692820378, -0.7805681801692058], [3.9168146928203775, -0.7142656520272249], [4.016814692820377, -0.6408264175950218], [4.116814692820377, -0.5609842574272594], [4.2168146928203765, -0.47553692799602515], [4.316814692820376, -0.3853381907718638], [4.416814692820376, -0.29128928172138097], [4.516814692820375, -0.1943299064553729], [4.616814692820375, -0.09542885100098931], [4.716814692820375, 0.004425697988011951], [4.816814692820374, 0.10423602686565825], [4.916814692820374, 0.20300486381871238], [5.016814692820374, 0.29974534327697616], [5.116814692820373, 0.3934908663478536], [5.216814692820373, 0.48330475875297035], [5.316814692820373, 0.5682896297679402], [5.416814692820372, 0.647596338653845], [5.516814692820372, 0.7204324789908093], [5.6168146928203715, 0.7860702961410131], [5.716814692820371, 0.8438539587324694], [5.816814692820371, 0.8932061115093035], [5.91681469282037, 0.9336336440746221], [6.01681469282037, 0.9647326178865981], [6.11681469282037, 0.9861923022788563], [6.216814692820369, 0.9977982791785778]], \"data03\": [[-6.283185307179586, 1.0], [-5.283185307179586, 0.5403023058681395], [-4.283185307179586, -0.41614683654714263], [-3.2831853071795862, -0.9899924966004455], [-2.2831853071795862, -0.6536436208636117], [-1.2831853071795862, 0.2836621854632265], [-0.28318530717958623, 0.9601702866503661], [0.7168146928204138, 0.7539022543433045], [1.7168146928204138, -0.14550003380861376], [2.7168146928204138, -0.911130261884677], [3.7168146928204138, -0.8390715290764523], [4.716814692820414, 0.004425697988051031], [5.716814692820414, 0.8438539587324922]]}, \"width\": 480.0, \"height\": 320.0, \"plugins\": [{\"type\": \"reset\"}, {\"button\": true, \"type\": \"zoom\", \"enabled\": false}, {\"button\": true, \"type\": \"boxzoom\", \"enabled\": false}], \"id\": \"el140202931495692\"});\n",
       "   }(mpld3);\n",
       "}else if(typeof define === \"function\" && define.amd){\n",
       "   // require.js is available: use it to load d3/mpld3\n",
       "   require.config({paths: {d3: \"https://mpld3.github.io/js/d3.v3.min\"}});\n",
       "   require([\"d3\"], function(d3){\n",
       "      window.d3 = d3;\n",
       "      mpld3_load_lib(\"https://mpld3.github.io/js/mpld3.v0.2.js\", function(){\n",
       "         \n",
       "         mpld3.draw_figure(\"fig_el140202931495692131857823\", {\"axes\": [{\"axes\": [{\"tickformat\": null, \"grid\": {\"gridOn\": false}, \"position\": \"bottom\", \"scale\": \"linear\", \"fontsize\": 10.0, \"nticks\": 9, \"tickvalues\": null}, {\"tickformat\": null, \"grid\": {\"gridOn\": false}, \"position\": \"left\", \"scale\": \"linear\", \"fontsize\": 10.0, \"nticks\": 5, \"tickvalues\": null}], \"sharey\": [], \"collections\": [], \"xlim\": [-8.0, 8.0], \"images\": [], \"ylim\": [-1.0, 1.0], \"axesbg\": \"#FFFFFF\", \"paths\": [], \"id\": \"el140202931550412\", \"xscale\": \"linear\", \"yscale\": \"linear\", \"markers\": [], \"bbox\": [0.125, 0.125, 0.775, 0.775], \"sharex\": [], \"axesbgalpha\": null, \"zoomable\": true, \"texts\": [], \"ydomain\": [-1.0, 1.0], \"xdomain\": [-8.0, 8.0], \"lines\": [{\"alpha\": 1, \"data\": \"data01\", \"xindex\": 0, \"dasharray\": \"10,0\", \"color\": \"#0000FF\", \"coordinates\": \"data\", \"zorder\": 2, \"linewidth\": 1.0, \"yindex\": 1, \"id\": \"el140202931277740\"}, {\"alpha\": 1, \"data\": \"data02\", \"xindex\": 0, \"dasharray\": \"10,0\", \"color\": \"#007F00\", \"coordinates\": \"data\", \"zorder\": 2, \"linewidth\": 1.0, \"yindex\": 1, \"id\": \"el140202931292588\"}, {\"alpha\": 1, \"data\": \"data03\", \"xindex\": 0, \"dasharray\": \"10,0\", \"color\": \"#FF0000\", \"coordinates\": \"data\", \"zorder\": 2, \"linewidth\": 1.0, \"yindex\": 1, \"id\": \"el140202931293676\"}, {\"alpha\": 1, \"data\": \"data04\", \"xindex\": 0, \"dasharray\": \"10,0\", \"color\": \"#00BFBF\", \"coordinates\": \"data\", \"zorder\": 2, \"linewidth\": 1.0, \"yindex\": 1, \"id\": \"el140202931321900\"}]}], \"data\": {\"data04\": [[-6.283185307179586, 1.0], [-6.026728764029399, 0.9672948630390293], [-5.770272220879212, 0.8713187041233894], [-5.513815677729025, 0.7183493500977277], [-5.257359134578838, 0.5183925683105253], [-5.00090259142865, 0.284527586631032], [-4.744446048278463, 0.03205157757165486], [-4.487989505128276, -0.2225209339563146], [-4.231532961978089, -0.4625382902408353], [-3.9750764188279017, -0.6723008902613167], [-3.7186198756777147, -0.8380881048918405], [-3.462163332527527, -0.9490557470106686], [-3.20570678937734, -0.9979453927503363], [-2.949250246227153, -0.9815591569910654], [-2.6927937030769655, -0.900968867902419], [-2.4363371599267785, -0.7614459583691344], [-2.1798806167765914, -0.5721166601221698], [-1.9234240736264043, -0.34536505442130794], [-1.6669675304762173, -0.0960230259076822], [-1.4105109873260302, 0.15959989503337865], [-1.1540544441758431, 0.40478334312239317], [-0.8975979010256552, 0.6234898018587336], [-0.6411413578754681, 0.8014136218679566], [-0.38468481472528104, 0.9269167573460216], [-0.12822827157509398, 0.991790013823246], [0.1282282715750931, 0.9917900138232462], [0.38468481472528016, 0.926916757346022], [0.6411413578754672, 0.8014136218679572], [0.8975979010256552, 0.6234898018587336], [1.1540544441758422, 0.404783343122394], [1.4105109873260293, 0.15959989503337954], [1.6669675304762164, -0.09602302590768132], [1.9234240736264034, -0.3453650544213071], [2.1798806167765914, -0.5721166601221698], [2.4363371599267776, -0.7614459583691339], [2.6927937030769655, -0.900968867902419], [2.9492502462271517, -0.9815591569910651], [3.2057067893773397, -0.9979453927503363], [3.462163332527526, -0.9490557470106691], [3.718619875677714, -0.838088104891841], [3.9750764188279, -0.672300890261318], [4.231532961978088, -0.4625382902408361], [4.487989505128276, -0.2225209339563146], [4.744446048278462, 0.03205157757165397], [5.00090259142865, 0.284527586631032], [5.257359134578836, 0.5183925683105237], [5.513815677729024, 0.718349350097727], [5.77027222087921, 0.8713187041233885], [6.026728764029398, 0.9672948630390291], [6.283185307179586, 1.0]], \"data02\": [[-6.283185307179586, 1.0], [-6.2731853071795864, 0.9999500004166653], [-6.263185307179587, 0.9998000066665778], [-6.253185307179587, 0.9995500337489875], [-6.243185307179587, 0.9992001066609779], [-6.233185307179587, 0.9987502603949663], [-6.2231853071795875, 0.9982005399352042], [-6.213185307179588, 0.9975510002532797], [-6.203185307179588, 0.9968017063026196], [-6.193185307179588, 0.9959527330119944], [-6.183185307179588, 0.9950041652780259], [-6.173185307179589, 0.993956097956697], [-6.163185307179589, 0.9928086358538666], [-6.153185307179589, 0.9915618937147883], [-6.143185307179589, 0.9902159962126376], [-6.133185307179589, 0.9887710779360427], [-6.12318530717959, 0.9872272833756275], [-6.11318530717959, 0.9855847669095613], [-6.10318530717959, 0.983843692788122], [-6.09318530717959, 0.9820042351172711], [-6.0831853071795905, 0.9800665778412424], [-6.073185307179591, 0.9780309147241492], [-6.063185307179591, 0.9758974493306065], [-6.053185307179591, 0.9736663950053759], [-6.043185307179591, 0.9713379748520308], [-6.033185307179592, 0.9689124217106461], [-6.023185307179592, 0.9663899781345145], [-6.013185307179592, 0.963770896365892], [-6.003185307179592, 0.9610554383107726], [-5.993185307179592, 0.9582438755126989], [-5.983185307179593, 0.9553364891256079], [-5.973185307179593, 0.9523335698857154], [-5.963185307179593, 0.9492354180824429], [-5.953185307179593, 0.9460423435283891], [-5.9431853071795935, 0.9427546655283485], [-5.933185307179594, 0.9393727128473814], [-5.923185307179594, 0.9358968236779375], [-5.913185307179594, 0.9323273456060371], [-5.903185307179594, 0.9286646355765131], [-5.8931853071795945, 0.9249090598573161], [-5.883185307179595, 0.9210609940028883], [-5.873185307179595, 0.9171208228166084], [-5.863185307179595, 0.9130889403123118], [-5.853185307179595, 0.9089657496748889], [-5.843185307179596, 0.9047516632199674], [-5.833185307179596, 0.900447102352681], [-5.823185307179596, 0.8960524975255295], [-5.813185307179596, 0.8915682881953334], [-5.8031853071795965, 0.8869949227792888], [-5.793185307179597, 0.8823328586101263], [-5.783185307179597, 0.8775825618903778], [-5.773185307179597, 0.8727445076457564], [-5.763185307179597, 0.8678191796776553], [-5.7531853071795975, 0.8628070705147666], [-5.743185307179598, 0.8577086813638299], [-5.733185307179598, 0.8525245220595118], [-5.723185307179598, 0.8472551110134223], [-5.713185307179598, 0.8419009751622751], [-5.703185307179599, 0.8364626499151936], [-5.693185307179599, 0.8309406791001703], [-5.683185307179599, 0.8253356149096854], [-5.673185307179599, 0.8196480178454868], [-5.6631853071795994, 0.8138784566625414], [-5.6531853071796, 0.8080275083121596], [-5.6431853071796, 0.8020957578843007], [-5.6331853071796, 0.7960837985490641], [-5.6231853071796, 0.7899922314973735], [-5.6131853071796005, 0.783821665880858], [-5.603185307179601, 0.7775727187509369], [-5.593185307179601, 0.7712460149971158], [-5.583185307179601, 0.7648421872844979], [-5.573185307179601, 0.7583618759905179], [-5.563185307179602, 0.7518057291409049], [-5.553185307179602, 0.7451744023448806], [-5.543185307179602, 0.7384685587295984], [-5.533185307179602, 0.7316888688738317], [-5.523185307179602, 0.7248360107409162], [-5.513185307179603, 0.7179106696109546], [-5.503185307179603, 0.7109135380122888], [-5.493185307179603, 0.7038453156522478], [-5.483185307179603, 0.6967067093471775], [-5.4731853071796035, 0.6894984329517594], [-5.463185307179604, 0.6822212072876261], [-5.453185307179604, 0.67487576007128], [-5.443185307179604, 0.6674628258413212], [-5.433185307179604, 0.6599831458849956], [-5.423185307179605, 0.6524374681640656], [-5.413185307179605, 0.6448265472400152], [-5.403185307179605, 0.6371511441985945], [-5.393185307179605, 0.6294120265737114], [-5.383185307179605, 0.6216099682706793], [-5.373185307179606, 0.6137457494888267], [-5.363185307179606, 0.6058201566434782], [-5.353185307179606, 0.5978339822873139], [-5.343185307179606, 0.5897880250311142], [-5.3331853071796065, 0.5816830894638998], [-5.323185307179607, 0.5735199860724732], [-5.313185307179607, 0.5652995311603711], [-5.303185307179607, 0.5570225467662344], [-5.293185307179607, 0.548689860581605], [-5.2831853071796075, 0.5403023058681574], [-5.273185307179608, 0.5318607213743735], [-5.263185307179608, 0.5233659512516678], [-5.253185307179608, 0.514818844969974], [-5.243185307179608, 0.5062202572327973], [-5.233185307179609, 0.49757104789174617], [-5.223185307179609, 0.48887208186054704], [-5.213185307179609, 0.4801242290285539], [-5.203185307179609, 0.4713283641737601], [-5.1931853071796095, 0.46248536687532127], [-5.18318530717961, 0.4535961214255981], [-5.17318530717961, 0.4446615167417278], [-5.16318530717961, 0.4356824462767334], [-5.15318530717961, 0.4266598079301789], [-5.1431853071796105, 0.41759450395837994], [-5.133185307179611, 0.40848744088417943], [-5.123185307179611, 0.3993395294062956], [-5.113185307179611, 0.390151684308253], [-5.103185307179611, 0.3809248243669048], [-5.093185307179612, 0.37165987226055625], [-5.083185307179612, 0.3623577544766972], [-5.073185307179612, 0.35301940121935427], [-5.063185307179612, 0.3436457463160712], [-5.0531853071796125, 0.3342377271245271], [-5.043185307179613, 0.324796284438801], [-5.033185307179613, 0.3153223623952937], [-5.023185307179613, 0.30581690837831466], [-5.013185307179613, 0.29628087292534433], [-5.0031853071796135, 0.28671520963198144], [-4.993185307179614, 0.27712087505658384], [-4.983185307179614, 0.2674988286246139], [-4.973185307179614, 0.2578500325326964], [-4.963185307179614, 0.2481754516524], [-4.953185307179615, 0.2384760534337505], [-4.943185307179615, 0.22875280780848703], [-4.933185307179615, 0.21900668709306942], [-4.923185307179615, 0.20923866589144746], [-4.913185307179615, 0.19944972099760133], [-4.903185307179616, 0.189640831297863], [-4.893185307179616, 0.1798129776730284], [-4.883185307179616, 0.1699671429002701], [-4.873185307179616, 0.16010431155486063], [-4.8631853071796165, 0.15022546991171545], [-4.853185307179617, 0.1403316058467666], [-4.843185307179617, 0.1304237087381757], [-4.833185307179617, 0.12050276936739701], [-4.823185307179617, 0.11056977982010024], [-4.813185307179618, 0.10062573338696264], [-4.803185307179618, 0.09067162446434084], [-4.793185307179618, 0.08070844845483204], [-4.783185307179618, 0.07073720166773456], [-4.773185307179618, 0.06075888121941779], [-4.763185307179619, 0.05077448493361131], [-4.753185307179619, 0.0407850112416234], [-4.743185307179619, 0.030791459082498723], [-4.733185307179619, 0.020794827803125263], [-4.7231853071796195, 0.010796117058300452], [-4.71318530717962, 0.0007963267107665472], [-4.70318530717962, -0.009203543268774832], [-4.69318530717962, -0.019202492901658926], [-4.68318530717962, -0.02919952230125488], [-4.6731853071796206, -0.03919363177295356], [-4.663185307179621, -0.0491838219141362], [-4.653185307179621, -0.0591690937141138], [-4.643185307179621, -0.06914844865402742], [-4.633185307179621, -0.07912088880669914], [-4.623185307179622, -0.08908541693642404], [-4.613185307179622, -0.0990410365986929], [-4.603185307179622, -0.10898675223983582], [-4.593185307179622, -0.11892156929657674], [-4.5831853071796225, -0.128844494295489], [-4.573185307179623, -0.13875453495234175], [-4.563185307179623, -0.14865070027132765], [-4.553185307179623, -0.1585320006441616], [-4.543185307179623, -0.16839744794904069], [-4.5331853071796235, -0.17824605564945561], [-4.523185307179624, -0.1880768388928435], [-4.513185307179624, -0.19788881460907226], [-4.503185307179624, -0.20768100160874692], [-4.493185307179624, -0.2174524206813276], [-4.483185307179625, -0.22720209469304992], [-4.473185307179625, -0.23692904868463738], [-4.463185307179625, -0.2466323099687966], [-4.453185307179625, -0.2563109082274852], [-4.4431853071796255, -0.2659638756089427], [-4.433185307179626, -0.2755902468244752], [-4.423185307179626, -0.285189059244983], [-4.413185307179626, -0.29475935299722306], [-4.403185307179626, -0.30430017105979534], [-4.3931853071796265, -0.31381055935884433], [-4.383185307179627, -0.3232895668634653], [-4.373185307179627, -0.33273624568080706], [-4.363185307179627, -0.34214965115086], [-4.353185307179627, -0.3515288419409216], [-4.343185307179628, -0.36087288013972885], [-4.333185307179628, -0.3701808313512485], [-4.323185307179628, -0.3794517647881161], [-4.313185307179628, -0.3886847533647136], [-4.303185307179628, -0.39787887378987746], [-4.293185307179629, -0.40703320665922704], [-4.283185307179629, -0.4161468365471038], [-4.273185307179629, -0.42521885209811383], [-4.263185307179629, -0.43424834611826185], [-4.2531853071796295, -0.4432344156656705], [-4.24318530717963, -0.45217616214087336], [-4.23318530717963, -0.46107269137667434], [-4.22318530717963, -0.4699231137275636], [-4.21318530717963, -0.47872654415868143], [-4.203185307179631, -0.4874821023343208], [-4.193185307179631, -0.49618891270596055], [-4.183185307179631, -0.504846104599819], [-4.173185307179631, -0.5134528123039213], [-4.163185307179631, -0.5220081751546689], [-4.153185307179632, -0.5305113376229066], [-4.143185307179632, -0.5389614493994732], [-4.133185307179632, -0.5473576654802329], [-4.123185307179632, -0.5556991462505745], [-4.1131853071796325, -0.5639850575693721], [-4.103185307179633, -0.5722145708523988], [-4.093185307179633, -0.5803868631551841], [-4.083185307179633, -0.588501117255308], [-4.073185307179633, -0.5965565217341223], [-4.0631853071796336, -0.604552271057892], [-4.053185307179634, -0.6124875656583478], [-4.043185307179634, -0.6203616120126424], [-4.033185307179634, -0.6281736227227019], [-4.023185307179634, -0.6359228165939655], [-4.013185307179635, -0.6436084187135037], [-4.003185307179635, -0.651229660527509], [-3.993185307179635, -0.6587857799181511], [-3.9831853071796353, -0.6662760212797878], [-3.9731853071796355, -0.6736996355945246], [-3.9631853071796357, -0.6810558805071165], [-3.953185307179636, -0.6883440203992024], [-3.943185307179636, -0.6955633264628664], [-3.9331853071796363, -0.7027130767735185], [-3.9231853071796365, -0.7097925563620853], [-3.9131853071796368, -0.7168010572865078], [-3.903185307179637, -0.7237378787025338], [-3.893185307179637, -0.7306023269338026], [-3.8831853071796374, -0.7373937155412111], [-3.8731853071796376, -0.7441113653915583], [-3.863185307179638, -0.7507546047254571], [-3.853185307179638, -0.75732276922451], [-3.8431853071796382, -0.7638152020777407], [-3.8331853071796385, -0.7702312540472742], [-3.8231853071796387, -0.7765702835332602], [-3.813185307179639, -0.7828316566380327], [-3.803185307179639, -0.7890147472294988], [-3.7931853071796393, -0.7951189370037521], [-3.7831853071796395, -0.8011436155469019], [-3.7731853071796397, -0.8070881803961146], [-3.76318530717964, -0.8129520370998589], [-3.75318530717964, -0.8187345992773509], [-3.7431853071796404, -0.8244352886771917], [-3.7331853071796406, -0.830053535235192], [-3.723185307179641, -0.8355887771313778], [-3.713185307179641, -0.841040460846172], [-3.7031853071796412, -0.8464080412157464], [-3.6931853071796414, -0.8516909814865369], [-3.6831853071796417, -0.8568887533689188], [-3.673185307179642, -0.8620008370900354], [-3.663185307179642, -0.8670267214457746], [-3.6531853071796423, -0.8719659038518892], [-3.6431853071796425, -0.8768178903942544], [-3.6331853071796427, -0.8815821958782594], [-3.623185307179643, -0.8862583438773258], [-3.613185307179643, -0.8908458667805508], [-3.6031853071796434, -0.8953443058394667], [-3.5931853071796436, -0.8997532112139165], [-3.583185307179644, -0.9040721420170367], [-3.573185307179644, -0.9083006663593461], [-3.563185307179644, -0.9124383613919343], [-3.5531853071796444, -0.9164848133487461], [-3.5431853071796446, -0.9204396175879579], [-3.533185307179645, -0.9243023786324412], [-3.523185307179645, -0.9280727102093108], [-3.5131853071796453, -0.9317502352885508], [-3.5031853071796455, -0.935334586120718], [-3.4931853071796457, -0.9388254042737159], [-3.483185307179646, -0.9422223406686382], [-3.473185307179646, -0.9455250556146765], [-3.4631853071796463, -0.9487332188430881], [-3.4531853071796466, -0.951846509540224], [-3.4431853071796468, -0.9548646163796085], [-3.433185307179647, -0.9577872375530729], [-3.423185307179647, -0.9606140808009355], [-3.4131853071796474, -0.9633448634412269], [-3.4031853071796476, -0.965979312397959], [-3.393185307179648, -0.9685171642284314], [-3.383185307179648, -0.9709581651495758], [-3.3731853071796483, -0.9733020710633344], [-3.3631853071796485, -0.9755486475810691], [-3.3531853071796487, -0.9776976700470001], [-3.343185307179649, -0.9797489235606718], [-3.333185307179649, -0.9817022029984421], [-3.3231853071796493, -0.9835573130339951], [-3.3131853071796495, -0.9853140681578729], [-3.3031853071796498, -0.9869722926960274], [-3.29318530717965, -0.9885318208273864], [-3.28318530717965, -0.9899924966004364], [-3.2731853071796504, -0.9913541739488175], [-3.2631853071796506, -0.9926167167059293], [-3.253185307179651, -0.9937799986185485], [-3.243185307179651, -0.9948439033594529], [-3.2331853071796512, -0.9958083245390553], [-3.2231853071796515, -0.9966731657160413], [-3.2131853071796517, -0.9974383404070138], [-3.203185307179652, -0.9981037720951416], [-3.193185307179652, -0.9986693942378102], [-3.1831853071796523, -0.9991351502732767], [-3.1731853071796525, -0.9995009936263258], [-3.1631853071796527, -0.999766887712927], [-3.153185307179653, -0.9999328059438931], [-3.143185307179653, -0.9999987317275394], [-3.1331853071796534, -0.9999646584713425], [-3.1231853071796536, -0.9998305895825996], [-3.113185307179654, -0.9995965384680877], [-3.103185307179654, -0.9992625285327235], [-3.0931853071796542, -0.998828593177222], [-3.0831853071796544, -0.998294775794757], [-3.0731853071796547, -0.9976611297666222], [-3.063185307179655, -0.9969277184568923], [-3.053185307179655, -0.996094615206087], [-3.0431853071796553, -0.9951619033238371], [-3.0331853071796555, -0.9941296760805537], [-3.0231853071796557, -0.9929980366981008], [-3.013185307179656, -0.9917670983394739], [-3.003185307179656, -0.9904369840974827], [-2.9931853071796564, -0.9890078269824433], [-2.9831853071796566, -0.987479769908876], [-2.973185307179657, -0.9858529656812148], [-2.963185307179657, -0.984127576978527], [-2.953185307179657, -0.982303776338245], [-2.9431853071796574, -0.9803817461389128], [-2.9331853071796576, -0.9783616785819488], [-2.923185307179658, -0.9762437756724254], [-2.913185307179658, -0.9740282491988684], [-2.9031853071796583, -0.971715320712079], [-2.8931853071796585, -0.9693052215029786], [-2.8831853071796587, -0.9667981925794795], [-2.873185307179659, -0.9641944846423849], [-2.863185307179659, -0.9614943580603188], [-2.8531853071796593, -0.9586980828436893], [-2.8431853071796596, -0.9558059386176879], [-2.8331853071796598, -0.952818214594327], [-2.82318530717966, -0.9497352095435192], [-2.81318530717966, -0.9465572317632004], [-2.8031853071796604, -0.9432845990485004], [-2.7931853071796606, -0.9399176386599634], [-2.783185307179661, -0.9364566872908224], [-2.773185307179661, -0.9329020910333304], [-2.7631853071796613, -0.9292542053441509], [-2.7531853071796615, -0.9255133950088129], [-2.7431853071796617, -0.9216800341052326], [-2.733185307179662, -0.9177545059663059], [-2.723185307179662, -0.9137372031415755], [-2.7131853071796623, -0.909628527357976], [-2.7031853071796625, -0.9054288894796619], [-2.6931853071796628, -0.9011387094669215], [-2.683185307179663, -0.8967584163341809], [-2.673185307179663, -0.892288448107103], [-2.6631853071796634, -0.8877292517787856], [-2.6531853071796636, -0.8830812832650622], [-2.643185307179664, -0.878345007358911], [-2.633185307179664, -0.8735208976839756], [-2.6231853071796642, -0.8686094366472035], [-2.6131853071796645, -0.8636111153906054], [-2.6031853071796647, -0.8585264337421418], [-2.593185307179665, -0.8533559001657404], [-2.583185307179665, -0.8481000317104498], [-2.5731853071796653, -0.8427593539587359], [-2.5631853071796655, -0.8373344009739233], [-2.5531853071796657, -0.8318257152467896], [-2.543185307179666, -0.826233847641317], [-2.533185307179666, -0.8205593573396063], [-2.5231853071796664, -0.8148028117859587], [-2.5131853071796666, -0.8089647866301326], [-2.503185307179667, -0.8030458656697786], [-2.493185307179667, -0.7970466407920603], [-2.4831853071796672, -0.7909677119144661], [-2.4731853071796674, -0.784809686924818], [-2.4631853071796677, -0.7785731816204834], [-2.453185307179668, -0.7722588196467954], [-2.443185307179668, -0.7658672324346898], [-2.4331853071796683, -0.7593990591375611], [-2.4231853071796685, -0.7528549465673493], [-2.4131853071796687, -0.7462355491298577], [-2.403185307179669, -0.7395415287593139], [-2.393185307179669, -0.7327735548521769], [-2.3831853071796694, -0.7259323042001972], [-2.3731853071796696, -0.719018460922739], [-2.36318530717967, -0.7120327163983686], [-2.35318530717967, -0.704975769195717], [-2.34318530717967, -0.6978483250036237], [-2.3331853071796704, -0.6906510965605684], [-2.3231853071796706, -0.6833848035833977], [-2.313185307179671, -0.6760501726953541], [-2.303185307179671, -0.6686479373534142], [-2.2931853071796713, -0.6611788377749437], [-2.2831853071796715, -0.6536436208636762], [-2.2731853071796717, -0.6460430401350237], [-2.263185307179672, -0.638377855640725], [-2.253185307179672, -0.630648833892842], [-2.2431853071796723, -0.6228567477871086], [-2.2331853071796726, -0.6150023765256422], [-2.2231853071796728, -0.6070865055390234], [-2.213185307179673, -0.5991099264077545], [-2.203185307179673, -0.5910734367831014], [-2.1931853071796734, -0.5829778403073296], [-2.1831853071796736, -0.5748239465333402], [-2.173185307179674, -0.566612570843716], [-2.163185307179674, -0.5583445343691829], [-2.1531853071796743, -0.5500206639064984], [-2.1431853071796745, -0.5416417918357723], [-2.1331853071796747, -0.5332087560372293], [-2.123185307179675, -0.5247223998074217], [-2.113185307179675, -0.5161835717749006], [-2.1031853071796753, -0.5075931258153535], [-2.0931853071796755, -0.4989519209662179], [-2.0831853071796758, -0.4902608213407774], [-2.073185307179676, -0.4815206960417522], [-2.063185307179676, -0.47273241907438873], [-2.0531853071796764, -0.46389686925906015], [-2.0431853071796766, -0.4550149301433852], [-2.033185307179677, -0.44608748991387365], [-2.023185307179677, -0.4371154413071091], [-2.0131853071796773, -0.4280996815204755], [-2.0031853071796775, -0.4190411121224384], [-1.9931853071796777, -0.4099406389623888], [-1.983185307179678, -0.40079917208005905], [-1.973185307179678, -0.39161762561451946], [-1.9631853071796783, -0.3823969177127654], [-1.9531853071796785, -0.3731379704379031], [-1.9431853071796787, -0.36384170967694424], [-1.933185307179679, -0.3545090650482181], [-1.9231853071796792, -0.3451409698084104], [-1.9131853071796794, -0.33573836075923835], [-1.9031853071796796, -0.32630217815377144], [-1.8931853071796798, -0.3168333656024067], [-1.88318530717968, -0.3073328699785087], [-1.8731853071796802, -0.29780164132372267], [-1.8631853071796804, -0.2882406327529715], [-1.8531853071796807, -0.2786508003591448], [-1.8431853071796809, -0.26903310311749035], [-1.833185307179681, -0.25938850278971765], [-1.8231853071796813, -0.24971796382782238], [-1.8131853071796815, -0.24002245327764193], [-1.8031853071796817, -0.23030294068215176], [-1.793185307179682, -0.22056039798451188], [-1.7831853071796822, -0.21079579943087323], [-1.7731853071796824, -0.20101012147295408], [-1.7631853071796826, -0.19120434267039554], [-1.7531853071796828, -0.18137944359290636], [-1.743185307179683, -0.1715364067222069], [-1.7331853071796832, -0.1616762163537818], [-1.7231853071796834, -0.151799858498451], [-1.7131853071796836, -0.14190832078376986], [-1.7031853071796839, -0.13200259235526687], [-1.693185307179684, -0.12208366377753015], [-1.6831853071796843, -0.11215252693515171], [-1.6731853071796845, -0.10221017493353989], [-1.6631853071796847, -0.09225760199960958], [-1.653185307179685, -0.0822958033823604], [-1.6431853071796851, -0.07232577525335257], [-1.6331853071796854, -0.06234851460709069], [-1.6231853071796856, -0.05236501916132503], [-1.6131853071796858, -0.042376287257280605], [-1.603185307179686, -0.03238331775982391], [-1.5931853071796862, -0.02238710995757724], [-1.5831853071796864, -0.012388663462990671], [-1.5731853071796866, -0.0023889781123816573], [-1.5631853071796868, 0.007610946134047786], [-1.553185307179687, 0.017610109292206258], [-1.5431853071796873, 0.027607511454110552], [-1.5331853071796875, 0.03760215288787562], [-1.5231853071796877, 0.047593034137686924], [-1.513185307179688, 0.05757915612374518], [-1.5031853071796881, 0.06755952024217354], [-1.4931853071796883, 0.0775331284648771], [-1.4831853071796886, 0.08749898343934488], [-1.4731853071796888, 0.09745608858838432], [-1.463185307179689, 0.10740344820977805], [-1.4531853071796892, 0.11734006757585339], [-1.4431853071796894, 0.12726495303295418], [-1.4331853071796896, 0.1371771121008055], [-1.4231853071796898, 0.14707555357176058], [-1.41318530717969, 0.15695928760992103], [-1.4031853071796903, 0.16682732585011947], [-1.3931853071796905, 0.17667868149675522], [-1.3831853071796907, 0.18651236942247304], [-1.373185307179691, 0.19632740626667505], [-1.363185307179691, 0.20612281053385603], [-1.3531853071796913, 0.21589760269175207], [-1.3431853071796915, 0.225650805269293], [-1.3331853071796917, 0.23538144295434868], [-1.323185307179692, 0.24508854269125951], [-1.3131853071796922, 0.254771133778141], [-1.3031853071796924, 0.2644282479639532], [-1.2931853071796926, 0.2740589195453252], [-1.2831853071796928, 0.2836621854631243], [-1.273185307179693, 0.2932370853987615], [-1.2631853071796932, 0.3027826618702222], [-1.2531853071796935, 0.31229796032781393], [-1.2431853071796937, 0.3217820292496203], [-1.2331853071796939, 0.33123392023665255], [-1.223185307179694, 0.34065268810768845], [-1.2131853071796943, 0.3500373909937899], [-1.2031853071796945, 0.3593870904324888], [-1.1931853071796947, 0.36870085146163273], [-1.183185307179695, 0.37797774271288015], [-1.1731853071796952, 0.3872168365048367], [-1.1631853071796954, 0.3964172089358224], [-1.1531853071796956, 0.40557793997626107], [-1.1431853071796958, 0.4146981135606826], [-1.133185307179696, 0.4237768176793287], [-1.1231853071796962, 0.43281314446935304], [-1.1131853071796964, 0.44180619030560686], [-1.1031853071796967, 0.4507550558910007], [-1.0931853071796969, 0.4596588463464334], [-1.083185307179697, 0.46851667130027924], [-1.0731853071796973, 0.4773276449774243], [-1.0631853071796975, 0.48609088628784336], [-1.0531853071796977, 0.49480551891470803], [-1.043185307179698, 0.5034706714020177], [-1.0331853071796981, 0.5120854772417448], [-1.0231853071796984, 0.5206490749604841], [-1.0131853071796986, 0.5291606082056002], [-1.0031853071796988, 0.5376192258308614], [-0.993185307179699, 0.546024081981554], [-0.9831853071796992, 0.5543743361790671], [-0.9731853071796994, 0.5626691534049393], [-0.9631853071796996, 0.5709077041843604], [-0.9531853071796998, 0.579089164669118], [-0.9431853071797001, 0.5872127167199813], [-0.9331853071797003, 0.595277547988515], [-0.9231853071797005, 0.6032828519983127], [-0.9131853071797007, 0.6112278282256447], [-0.9031853071797009, 0.6191116821795088], [-0.8931853071797011, 0.6269336254810798], [-0.8831853071797013, 0.6346928759425456], [-0.8731853071797016, 0.6423886576453262], [-0.8631853071797018, 0.6500202010176642], [-0.853185307179702, 0.6575867429115821], [-0.8431853071797022, 0.6650875266791961], [-0.8331853071797024, 0.67252180224838], [-0.8231853071797026, 0.6798888261977719], [-0.8131853071797028, 0.6871878618311162], [-0.803185307179703, 0.6944181792509321], [-0.7931853071797033, 0.7015790554315027], [-0.7831853071797035, 0.7086697742911775], [-0.7731853071797037, 0.7156896267639793], [-0.7631853071797039, 0.7226379108705108], [-0.7531853071797041, 0.7295139317881514], [-0.7431853071797043, 0.7363170019205395], [-0.7331853071797045, 0.743046440966331], [-0.7231853071797048, 0.7497015759872292], [-0.713185307179705, 0.7562817414752778], [-0.7031853071797052, 0.7627862794194117], [-0.6931853071797054, 0.7692145393712567], [-0.6831853071797056, 0.7755658785101746], [-0.6731853071797058, 0.7818396617075442], [-0.663185307179706, 0.7880352615902739], [-0.6531853071797062, 0.7941520586035385], [-0.6431853071797065, 0.8001894410727339], [-0.6331853071797067, 0.8061468052646443], [-0.6231853071797069, 0.8120235554478151], [-0.6131853071797071, 0.8178191039521251], [-0.6031853071797073, 0.8235328712275536], [-0.5931853071797075, 0.8291642859021344], [-0.5831853071797077, 0.834712784839093], [-0.573185307179708, 0.8401778131931592], [-0.5631853071797082, 0.845558824466052], [-0.5531853071797084, 0.8508552805611282], [-0.5431853071797086, 0.8560666518371921], [-0.5331853071797088, 0.8611924171614587], [-0.523185307179709, 0.8662320639616671], [-0.5131853071797092, 0.871185088277337], [-0.5031853071797094, 0.8760509948101644], [-0.49318530717970965, 0.8808292969735507], [-0.48318530717970987, 0.8855195169412616], [-0.4731853071797101, 0.890121185695209], [-0.4631853071797103, 0.894633843072352], [-0.4531853071797105, 0.8990570378107136], [-0.4431853071797107, 0.9033903275945057], [-0.43318530717971093, 0.9076332790983611], [-0.42318530717971115, 0.9117854680306652], [-0.41318530717971136, 0.915846479175985], [-0.40318530717971157, 0.9198159064365901], [-0.3931853071797118, 0.9236933528730621], [-0.383185307179712, 0.9274784307439888], [-0.3731853071797122, 0.9311707615447372], [-0.3631853071797124, 0.9347699760453042], [-0.35318530717971264, 0.938275714327239], [-0.34318530717971285, 0.9416876258196349], [-0.33318530717971306, 0.945005369334186], [-0.3231853071797133, 0.9482286130993055], [-0.3131853071797135, 0.9513570347933029], [-0.3031853071797137, 0.954390321576616], [-0.2931853071797139, 0.9573281701230939], [-0.28318530717971413, 0.9601702866503303], [-0.27318530717971434, 0.962916386949041], [-0.26318530717971456, 0.9655661964114844], [-0.25318530717971477, 0.9681194500589225], [-0.24318530717971498, 0.9705758925681183], [-0.2331853071797152, 0.9729352782968678], [-0.2231853071797154, 0.9751973713085642], [-0.21318530717971562, 0.9773619453957916], [-0.20318530717971583, 0.979428784102945], [-0.19318530717971605, 0.981397680747876], [-0.18318530717971626, 0.983268438442561], [-0.17318530717971647, 0.9850408701127893], [-0.1631853071797167, 0.9867147985168709], [-0.1531853071797169, 0.9882900562633605], [-0.14318530717971711, 0.9897664858277961], [-0.13318530717971733, 0.9911439395684516], [-0.12318530717971754, 0.9924222797411006], [-0.11318530717971775, 0.9936013785127915], [-0.10318530717971797, 0.9946811179746294], [-0.09318530717971818, 0.9956613901535681], [-0.08318530717971839, 0.9965420970232065], [-0.0731853071797186, 0.9973231505135915], [-0.06318530717971882, 0.9980044725200251], [-0.05318530717971903, 0.9985859949108742], [-0.043185307179719246, 0.9990676595343845], [-0.03318530717971946, 0.999449418224495], [-0.023185307179719672, 0.9997312328056548], [-0.013185307179719885, 0.9999130750966405], [-0.0031853071797200982, 0.9999949269133748], [0.006814692820279689, 0.999976780070744], [0.016814692820279475, 0.9998586363834174], [0.026814692820279262, 0.9996405076656651], [0.03681469282027905, 0.9993224157301774], [0.046814692820278836, 0.9989043923858825], [0.05681469282027862, 0.9983864794347665], [0.06681469282027841, 0.9977687286676931], [0.0768146928202782, 0.997051201859224], [0.08681469282027798, 0.9962339707614424], [0.09681469282027777, 0.9953171170967766], [0.10681469282027756, 0.9943007325498295], [0.11681469282027734, 0.9931849187582086], [0.12681469282027713, 0.9919697873023631], [0.13681469282027692, 0.9906554596944261], [0.1468146928202767, 0.9892420673660632], [0.1568146928202765, 0.9877297516553294], [0.16681469282027628, 0.9861186637925353], [0.17681469282027606, 0.9844089648851249], [0.18681469282027585, 0.982600825901564], [0.19681469282027564, 0.9806944276542442], [0.20681469282027543, 0.9786899607814017], [0.2168146928202752, 0.9765876257280532], [0.226814692820275, 0.9743876327259523], [0.23681469282027479, 0.9720902017725658], [0.24681469282027457, 0.9696955626090745], [0.25681469282027436, 0.9672039546973992], [0.26681469282027415, 0.9646156271962548], [0.27681469282027393, 0.9619308389362344], [0.2868146928202737, 0.9591498583939269], [0.2968146928202735, 0.9562729636650688], [0.3068146928202733, 0.9533004424367356], [0.3168146928202731, 0.9502325919585732], [0.32681469282027287, 0.9470697190130728], [0.33681469282027265, 0.9438121398848932], [0.34681469282027244, 0.9404601803292326], [0.35681469282027223, 0.9370141755392534], [0.366814692820272, 0.9334744701125627], [0.3768146928202718, 0.9298414180167536], [0.3868146928202716, 0.926115382554008], [0.3968146928202714, 0.9222967363247674], [0.40681469282027116, 0.9183858611904723], [0.41681469282027095, 0.9143831482353771], [0.42681469282027074, 0.9102889977274419], [0.4368146928202705, 0.9061038190783055], [0.4468146928202703, 0.9018280308023454], [0.4568146928202701, 0.8974620604748258], [0.4668146928202699, 0.8930063446891413], [0.47681469282026967, 0.8884613290131574], [0.48681469282026946, 0.8838274679446542], [0.49681469282026924, 0.8791052248658768], [0.506814692820269, 0.8742950719971982], [0.5168146928202688, 0.8693974903498967], [0.5268146928202686, 0.8644129696780556], [0.5368146928202684, 0.8593420084295885], [0.5468146928202682, 0.8541851136963945], [0.556814692820268, 0.8489428011636493], [0.5668146928202678, 0.8436155950582377], [0.5768146928202675, 0.838204028096331], [0.5868146928202673, 0.8327086414301156], [0.5968146928202671, 0.8271299845936788], [0.6068146928202669, 0.8214686154480554], [0.6168146928202667, 0.815725100125442], [0.6268146928202665, 0.8099000129725847], [0.6368146928202663, 0.8039939364933447], [0.646814692820266, 0.798007461290448], [0.6568146928202658, 0.7919411860064263], [0.6668146928202656, 0.7857957172637526], [0.6768146928202654, 0.7795716696041802], [0.6868146928202652, 0.7732696654272884], [0.696814692820265, 0.766890334928243], [0.7068146928202648, 0.7604343160347778], [0.7168146928202646, 0.7539022543434025], [0.7268146928202643, 0.7472948030548425], [0.7368146928202641, 0.7406126229087208], [0.7468146928202639, 0.7338563821174832], [0.7568146928202637, 0.7270267562995788], [0.7668146928202635, 0.720124428411898], [0.7768146928202633, 0.7131500886814779], [0.7868146928202631, 0.7061044345364793], [0.7968146928202628, 0.6989881705364455], [0.8068146928202626, 0.6918020083018462], [0.8168146928202624, 0.6845466664429165], [0.8268146928202622, 0.6772228704877962], [0.836814692820262, 0.6698313528099775], [0.8468146928202618, 0.6623728525550688], [0.8568146928202616, 0.6548481155668803], [0.8668146928202614, 0.6472578943128399], [0.8768146928202611, 0.6396029478087479], [0.8868146928202609, 0.6318840415428759], [0.8968146928202607, 0.6241019473994178], [0.9068146928202605, 0.6162574435813031], [0.9168146928202603, 0.6083513145323763], [0.9268146928202601, 0.600384350858954], [0.9368146928202599, 0.5923573492507646], [0.9468146928202597, 0.5842711124012794], [0.9568146928202594, 0.5761264489274451], [0.9668146928202592, 0.5679241732888218], [0.976814692820259, 0.5596651057061383], [0.9868146928202588, 0.5513500720792702], [0.9968146928202586, 0.542979903904651], [1.0068146928202584, 0.534555438192123], [1.0168146928202582, 0.5260775173812373], [1.026814692820258, 0.5175469892570099], [1.0368146928202577, 0.5089647068651445], [1.0468146928202575, 0.5003315284267285], [1.0568146928202573, 0.4916483172524113], [1.066814692820257, 0.4829159416560745], [1.0768146928202569, 0.47413527486800067], [1.0868146928202567, 0.46530719494755146], [1.0968146928202565, 0.4564325846953622], [1.1068146928202562, 0.4475123315650626], [1.116814692820256, 0.4385473275745322], [1.1268146928202558, 0.42953846921669925], [1.1368146928202556, 0.42048665736989216], [1.1468146928202554, 0.41139279720775246], [1.1568146928202552, 0.40225779810871815], [1.166814692820255, 0.39308257356508675], [1.1768146928202547, 0.3838680410916665], [1.1868146928202545, 0.3746151221340261], [1.1968146928202543, 0.3653247419763505], [1.206814692820254, 0.3559978296489135], [1.216814692820254, 0.34663531783517554], [1.2268146928202537, 0.3372381427785158], [1.2368146928202535, 0.3278072441886091], [1.2468146928202533, 0.3183435651474554], [1.256814692820253, 0.3088480520150723], [1.2668146928202528, 0.29932165433486024], [1.2768146928202526, 0.2897653247386485], [1.2868146928202524, 0.2801800188514333], [1.2968146928202522, 0.2705666951958155], [1.306814692820252, 0.2609263150961496], [1.3168146928202518, 0.25125984258241196], [1.3268146928202516, 0.24156824429379858], [1.3368146928202513, 0.23185248938206202], [1.3468146928202511, 0.22211354941459702], [1.356814692820251, 0.21235239827728455], [1.3668146928202507, 0.20257001207710412], [1.3768146928202505, 0.19276736904452377], [1.3868146928202503, 0.1829454494356779], [1.39681469282025, 0.17310523543434247], [1.4068146928202498, 0.1632477110537175], [1.4168146928202496, 0.15337386203802647], [1.4268146928202494, 0.14348467576394278], [1.4368146928202492, 0.13358114114185285], [1.446814692820249, 0.12366424851696596], [1.4568146928202488, 0.1137349895702806], [1.4668146928202486, 0.10379435721941703], [1.4768146928202484, 0.09384334551932655], [1.4868146928202481, 0.08388294956288665], [1.496814692820248, 0.0739141653813927], [1.5068146928202477, 0.06393798984495554], [1.5168146928202475, 0.053955420562815354], [1.5268146928202473, 0.04396745578358159], [1.536814692820247, 0.0339750942954089], [1.5468146928202469, 0.02397933532611915], [1.5568146928202466, 0.013981178443279504], [1.5668146928202464, 0.00398162345424647], [1.5768146928202462, -0.006018329693813979], [1.586814692820246, -0.016017681013920305], [1.5968146928202458, -0.02601543057927326], [1.6068146928202456, -0.036010578623247746], [1.6168146928202454, -0.04600212563936862], [1.6268146928202452, -0.05598907248126053], [1.636814692820245, -0.06597042046256173], [1.6468146928202447, -0.07594517145679183], [1.6568146928202445, -0.08591232799716368], [1.6668146928202443, -0.0958708933763292], [1.676814692820244, -0.10581987174604922], [1.6868146928202439, -0.11575826821677757], [1.6968146928202437, -0.12568508895714914], [1.7068146928202435, -0.13559934129336224], [1.7168146928202432, -0.14550003380844506], [1.726814692820243, -0.15538617644139666], [1.7368146928202428, -0.16525678058619217], [1.7468146928202426, -0.1751108591906426], [1.7568146928202424, -0.18494742685509918], [1.7668146928202422, -0.1947654999309926], [1.776814692820242, -0.20456409661919697], [1.7868146928202417, -0.2143422370682089], [1.7968146928202415, -0.224098943472132], [1.8068146928202413, -0.23383324016845633], [1.816814692820241, -0.24354415373562424], [1.826814692820241, -0.2532307130903714], [1.8368146928202407, -0.2628919495848343], [1.8468146928202405, -0.2725268971034147], [1.8568146928202403, -0.28213459215938974], [1.86681469282024, -0.2917140739912602], [1.8768146928202398, -0.3012643846588258], [1.8868146928202396, -0.3107845691389784], [1.8968146928202394, -0.3202736754212033], [1.9068146928202392, -0.32973075460277995], [1.916814692820239, -0.339154860983671], [1.9268146928202388, -0.34854505216109183], [1.9368146928202385, -0.3579003891237498], [1.9468146928202383, -0.3672199363457447], [1.9568146928202381, -0.3765027618801206], [1.966814692820238, -0.3857479374520598], [1.9768146928202377, -0.3949545385517093], [1.9868146928202375, -0.40412164452663135], [1.9968146928202373, -0.4132483386738676], [2.006814692820237, -0.422333708331609], [2.016814692820237, -0.4313768449704608], [2.0268146928202366, -0.440376844284295], [2.0368146928202364, -0.44933280628068034], [2.046814692820236, -0.4582438353708803], [2.056814692820236, -0.4671090404594118], [2.0668146928202358, -0.4759275350331536], [2.0768146928202356, -0.48469843724999706], [2.0868146928202354, -0.49342087002702956], [2.096814692820235, -0.502093961128242], [2.106814692820235, -0.5107168432517518], [2.1168146928202347, -0.5192886541165325], [2.1268146928202345, -0.5278085365486406], [2.1368146928202343, -0.5362756385669328], [2.146814692820234, -0.5446891134682632], [2.156814692820234, -0.5530481199121529], [2.1668146928202336, -0.5613518220049232], [2.1768146928202334, -0.5695993893832847], [2.186814692820233, -0.5777899972973723], [2.196814692820233, -0.5859228266932205], [2.206814692820233, -0.5939970642946666], [2.2168146928202326, -0.6020119026846791], [2.2268146928202324, -0.6099665403860981], [2.236814692820232, -0.6178601819417823], [2.246814692820232, -0.6256920379941541], [2.2568146928202317, -0.6334613253641347], [2.2668146928202315, -0.6411672671294616], [2.2768146928202313, -0.6488090927023799], [2.286814692820231, -0.6563860379067002], [2.296814692820231, -0.6638973450542166], [2.3068146928202307, -0.6713422630204734], [2.3168146928202304, -0.6787200473198782], [2.3268146928202302, -0.6860299601801493], [2.33681469282023, -0.693271270616092], [2.34681469282023, -0.7004432545026972], [2.3568146928202296, -0.7075451946475529], [2.3668146928202294, -0.7145763808625629], [2.376814692820229, -0.721536110034965], [2.386814692820229, -0.7284236861976416], [2.3968146928202287, -0.7352384205987162], [2.4068146928202285, -0.7419796317704277], [2.4168146928202283, -0.7486466455972763], [2.426814692820228, -0.7552387953834354], [2.436814692820228, -0.7617554219194197], [2.4468146928202277, -0.7681958735480061], [2.4568146928202275, -0.7745595062293988], [2.4668146928202273, -0.7808456836056328], [2.476814692820227, -0.7870537770642086], [2.486814692820227, -0.793183165800954], [2.4968146928202266, -0.7992332368821032], [2.5068146928202264, -0.8052033853055895], [2.516814692820226, -0.811093014061546], [2.526814692820226, -0.8169015341920048], [2.5368146928202258, -0.8226283648497935], [2.5468146928202255, -0.8282729333566186], [2.5568146928202253, -0.8338346752603331], [2.566814692820225, -0.8393130343913815], [2.576814692820225, -0.8447074629184159], [2.5868146928202247, -0.8500174214030791], [2.5968146928202245, -0.8552423788539475], [2.6068146928202243, -0.8603818127796301], [2.616814692820224, -0.8654352092410171], [2.626814692820224, -0.8704020629026737], [2.6368146928202236, -0.8752818770833727], [2.6468146928202234, -0.8800741638057624], [2.656814692820223, -0.8847784438451642], [2.666814692820223, -0.8893942467774946], [2.6768146928202228, -0.8939211110263064], [2.6868146928202226, -0.8983585839089475], [2.6968146928202223, -0.9027062216818273], [2.706814692820222, -0.9069635895847917], [2.716814692820222, -0.911130261884598], [2.7268146928202217, -0.9152058219174886], [2.7368146928202215, -0.9191898621308564], [2.7468146928202213, -0.9230819841240001], [2.756814692820221, -0.9268817986879638], [2.766814692820221, -0.9305889258444577], [2.7768146928202206, -0.9342029948838553], [2.7868146928202204, -0.9377236444022644], [2.79681469282022, -0.9411505223376672], [2.80681469282022, -0.9444832860051255], [2.81681469282022, -0.9477216021310502], [2.8268146928202196, -0.9508651468865271], [2.8368146928202194, -0.9539136059197004], [2.846814692820219, -0.9568666743872071], [2.856814692820219, -0.9597240569846612], [2.8668146928202187, -0.9624854679761844], [2.8768146928202185, -0.9651506312229784], [2.8868146928202183, -0.9677192802109397], [2.896814692820218, -0.9701911580773099], [2.906814692820218, -0.9725660176363623], [2.9168146928202177, -0.9748436214041201], [2.9268146928202174, -0.9770237416221045], [2.9368146928202172, -0.9791061602801103], [2.946814692820217, -0.9810906691380072], [2.956814692820217, -0.9829770697465632], [2.9668146928202166, -0.9847651734672894], [2.9768146928202164, -0.9864548014913037], [2.986814692820216, -0.9880457848572118], [2.996814692820216, -0.989537964468003], [3.0068146928202157, -0.9909311911069596], [3.0168146928202155, -0.9922253254525788], [3.0268146928202153, -0.9934202380925043], [3.036814692820215, -0.9945158095364681], [3.046814692820215, -0.9955119302282386], [3.0568146928202147, -0.9964085005565768], [3.0668146928202145, -0.9972054308651971], [3.0768146928202142, -0.9979026414617326], [3.086814692820214, -0.9985000626257046], [3.096814692820214, -0.9989976346154947], [3.1068146928202136, -0.9993953076743185], [3.1168146928202134, -0.9996930420352015], [3.126814692820213, -0.9998908079249558], [3.136814692820213, -0.9999885855671571], [3.1468146928202128, -0.9999863651841228], [3.1568146928202125, -0.9998841469978893], [3.1668146928202123, -0.9996819412301899], [3.176814692820212, -0.9993797681014331], [3.186814692820212, -0.9989776578286799], [3.1968146928202117, -0.9984756506226223], [3.2068146928202115, -0.9978737966835628], [3.2168146928202113, -0.9971721561963937], [3.226814692820211, -0.996370799324579], [3.236814692820211, -0.995469806203138], [3.2468146928202106, -0.9944692669306321], [3.2568146928202104, -0.9933692815601548], [3.26681469282021, -0.9921699600893265], [3.27681469282021, -0.9908714224492947], [3.2868146928202098, -0.9894737984927415], [3.2968146928202096, -0.9879772279808978], [3.3068146928202093, -0.9863818605695676], [3.316814692820209, -0.9846878557941625], [3.326814692820209, -0.9828953830537486], [3.3368146928202087, -0.9810046215941061], [3.3468146928202085, -0.9790157604898052], [3.3568146928202083, -0.9769289986252991], [3.366814692820208, -0.9747445446750352], [3.376814692820208, -0.9724626170825884], [3.3868146928202076, -0.9700834440388161], [3.3968146928202074, -0.96760726345904], [3.406814692820207, -0.9650343229592547], [3.416814692820207, -0.9623648798313662], [3.426814692820207, -0.9595992010174625], [3.4368146928202066, -0.9567375630831204], [3.4468146928202064, -0.9537802521897487], [3.456814692820206, -0.9507275640659723], [3.466814692820206, -0.9475798039780595], [3.4768146928202057, -0.9443372866993962], [3.4868146928202055, -0.941000336479008], [3.4968146928202053, -0.9375692870091363], [3.506814692820205, -0.9340444813918688], [3.516814692820205, -0.93042627210483], [3.5268146928202047, -0.9267150209659333], [3.5368146928202044, -0.9229110990971999], [3.5468146928202042, -0.9190148868876469], [3.556814692820204, -0.9150267739552482], [3.566814692820204, -0.9109471591079739], [3.5768146928202036, -0.9067764503039089], [3.5868146928202034, -0.9025150646104579], [3.596814692820203, -0.8981634281626394], [3.606814692820203, -0.8937219761204716], [3.6168146928202027, -0.8891911526254574], [3.6268146928202025, -0.8845714107561711], [3.6368146928202023, -0.8798632124829494], [3.646814692820202, -0.8750670286216964], [3.656814692820202, -0.8701833387868013], [3.6668146928202017, -0.8652126313431778], [3.6768146928202015, -0.8601554033574282], [3.6868146928202012, -0.8550121605481367], [3.696814692820201, -0.849783417235298], [3.706814692820201, -0.8444696962888865], [3.7168146928202006, -0.8390715290765682], [3.7268146928202004, -0.8335894554105664], [3.7368146928202, -0.8280240234936791], [3.7468146928202, -0.8223757898644601], [3.7568146928201998, -0.8166453193415656], [3.7668146928201995, -0.8108331849672723], [3.7768146928201993, -0.8049399679501745], [3.786814692820199, -0.7989662576070626], [3.796814692820199, -0.7929126513039931], [3.8068146928201987, -0.7867797543965516], [3.8168146928201985, -0.780568180169318], [3.8268146928201983, -0.7742785497745387], [3.836814692820198, -0.767911492170012], [3.846814692820198, -0.7614676440561925], [3.8568146928201976, -0.7549476498125215], [3.8668146928201974, -0.7483521614329902], [3.876814692820197, -0.7416818384609404], [3.886814692820197, -0.7349373479231106], [3.8968146928201968, -0.7281193642629342], [3.9068146928201966, -0.7212285692730958], [3.9168146928201963, -0.7142656520273517], [3.926814692820196, -0.7072313088116243], [3.936814692820196, -0.7001262430543733], [3.9468146928201957, -0.6929511652562534], [3.9568146928201955, -0.6857067929190652], [3.9668146928201953, -0.6783938504740057], [3.976814692820195, -0.671013069209225], [3.986814692820195, -0.663565187196699], [3.9968146928201946, -0.6560509492184226], [4.006814692820194, -0.6484711066919315], [4.016814692820194, -0.6408264175951622], [4.026814692820194, -0.6331176463906535], [4.036814692820194, -0.6253455639491021], [4.046814692820194, -0.6175109474722753], [4.056814692820193, -0.609614580415292], [4.066814692820193, -0.6016572524082777], [4.076814692820193, -0.5936397591774019], [4.086814692820193, -0.5855629024653065], [4.0968146928201925, -0.5774274899509321], [4.106814692820192, -0.5692343351687504], [4.116814692820192, -0.5609842574274124], [4.126814692820192, -0.5526780817278169], [4.136814692820192, -0.5443166386806122], [4.146814692820191, -0.5359007644231351], [4.156814692820191, -0.5274313005357981], [4.166814692820191, -0.5189090939579322], [4.176814692820191, -0.5103349969030933], [4.186814692820191, -0.5017098667738419], [4.19681469282019, -0.49303456607600316], [4.20681469282019, -0.4843099623324177], [4.21681469282019, -0.47553692799618924], [4.22681469282019, -0.4667163403634406], [4.2368146928201895, -0.4578490814855846], [4.246814692820189, -0.44893603808111976], [4.256814692820189, -0.43997810144695887], [4.266814692820189, -0.43097616736930044], [4.276814692820189, -0.42193113603405075], [4.2868146928201885, -0.41284391193680575], [4.296814692820188, -0.4037154037924025], [4.306814692820188, -0.3945465244440484], [4.316814692820188, -0.3853381907720376], [4.326814692820188, -0.37609132360206365], [4.336814692820187, -0.3668068476131379], [4.346814692820187, -0.3574856912451222], [4.356814692820187, -0.34812878660588575], [4.366814692820187, -0.33873706937809506], [4.3768146928201865, -0.3293114787256465], [4.386814692820186, -0.3198529571997507], [4.396814692820186, -0.31036245064467816], [4.406814692820186, -0.30084090810317565], [4.416814692820186, -0.2912892817215628], [4.4268146928201855, -0.281708526654518], [4.436814692820185, -0.2720996009695641], [4.446814692820185, -0.26246346555126215], [4.456814692820185, -0.2528010840051239], [4.466814692820185, -0.24311342256125204], [4.476814692820184, -0.23340144997771786], [4.486814692820184, -0.22366613744368646], [4.496814692820184, -0.21390845848229856], [4.506814692820184, -0.20412938885331885], [4.5168146928201836, -0.19432990645556109], [4.526814692820183, -0.1845109912290988], [4.536814692820183, -0.17467362505727227], [4.546814692820183, -0.16481879166850086], [4.556814692820183, -0.15494747653791116], [4.5668146928201825, -0.14506066678879012], [4.576814692820182, -0.1351593510938737], [4.586814692820182, -0.12524451957648028], [4.596814692820182, -0.11531716371149933], [4.606814692820182, -0.10537827622624453], [4.616814692820181, -0.09542885100118205], [4.626814692820181, -0.08546988297054324], [4.636814692820181, -0.07550236802283203], [4.646814692820181, -0.06552730290123696], [4.656814692820181, -0.05554568510395768], [4.66681469282018, -0.04555851278445592], [4.67681469282018, -0.035566784651641016], [4.68681469282018, -0.025571499869999834], [4.69681469282018, -0.015573657959681164], [4.7068146928201795, -0.0055742586965445325], [4.716814692820179, 0.0044256979878165535], [4.726814692820179, 0.014425212106066928], [4.736814692820179, 0.024423283715127666], [4.746814692820179, 0.03441891301616956], [4.756814692820178, 0.044411100454592164], [4.766814692820178, 0.05439884681997844], [4.776814692820178, 0.06438115334601494], [4.786814692820178, 0.07435702181036762], [4.796814692820178, 0.08432545463450325], [4.806814692820177, 0.0942854549834464], [4.816814692820177, 0.10423602686546216], [4.826814692820177, 0.11417617523165444], [4.836814692820177, 0.12410490607547003], [4.8468146928201765, 0.1340212265320985], [4.856814692820176, 0.14392414497775777], [4.866814692820176, 0.1538126711288556], [4.876814692820176, 0.16368581614101738], [4.886814692820176, 0.17354259270796946], [4.8968146928201755, 0.18338201516026906], [4.906814692820175, 0.1932030995638705], [4.916814692820175, 0.20300486381851757], [4.926814692820175, 0.21278632775595296], [4.936814692820175, 0.2225465132379341], [4.946814692820174, 0.23228444425404626], [4.956814692820174, 0.24199914701930272], [4.966814692820174, 0.25168965007152255], [4.976814692820174, 0.26135498436847593], [4.9868146928201735, 0.27099418338478753], [4.996814692820173, 0.2806062832085884], [5.006814692820173, 0.2901903226379062], [5.016814692820173, 0.29974534327678465], [5.026814692820173, 0.3092703896311224], [5.0368146928201725, 0.3187645092042215], [5.046814692820172, 0.3282267525920364], [5.056814692820172, 0.33765617357811345], [5.066814692820172, 0.3470518292282119], [5.076814692820172, 0.3564127799845965], [5.086814692820171, 0.36573808975999217], [5.096814692820171, 0.37502682603119264], [5.106814692820171, 0.3842780599323113], [5.116814692820171, 0.3934908663476674], [5.1268146928201705, 0.4026643240042967], [5.13681469282017, 0.411797515564078], [5.14681469282017, 0.4208895277154664], [5.15681469282017, 0.4299394512648233], [5.16681469282017, 0.4389463812273355], [5.1768146928201695, 0.4479094169175123], [5.186814692820169, 0.456827662039254], [5.196814692820169, 0.46570022477548023], [5.206814692820169, 0.47452621787731114], [5.216814692820169, 0.4833047587527915], [5.226814692820168, 0.4920349695551492], [5.236814692820168, 0.5007159772705791], [5.246814692820168, 0.5093469138055441], [5.256814692820168, 0.5179269160735827], [5.266814692820168, 0.5264551260816183], [5.276814692820167, 0.5349306910157569], [5.286814692820167, 0.543352763326568], [5.296814692820167, 0.5517205008138389], [5.306814692820167, 0.560033066710794], [5.3168146928201665, 0.5682896297677706], [5.326814692820166, 0.5764893643353437], [5.336814692820166, 0.5846314504468894], [5.346814692820166, 0.5927150739005815], [5.356814692820166, 0.6007394263408113], [5.366814692820165, 0.6087037053390216], [5.376814692820165, 0.6166071144739493], [5.386814692820165, 0.6244488634112672], [5.396814692820165, 0.6322281679826163], [5.406814692820165, 0.639944250264022], [5.416814692820164, 0.6475963386536866], [5.426814692820164, 0.6551836679491476], [5.436814692820164, 0.6627054794237983], [5.446814692820164, 0.6701610209027593], [5.4568146928201635, 0.6775495468380957], [5.466814692820163, 0.684870318383371], [5.476814692820163, 0.6921226034675314], [5.486814692820163, 0.6993056768681118], [5.496814692820163, 0.7064188202837584], [5.5068146928201624, 0.7134613224060569], [5.516814692820162, 0.720432478990664], [5.526814692820162, 0.7273315929277303], [5.536814692820162, 0.7341579743116116], [5.546814692820162, 0.7409109405098578], [5.556814692820161, 0.747589816231477], [5.566814692820161, 0.7541939335944624], [5.576814692820161, 0.7607226321925812], [5.586814692820161, 0.7671752591614142], [5.5968146928201605, 0.7735511692436415], [5.60681469282016, 0.7798497248535684], [5.61681469282016, 0.7860702961408825], [5.62681469282016, 0.792212261053639], [5.63681469282016, 0.7982750054004647], [5.6468146928201595, 0.8042579229119773], [5.656814692820159, 0.8101604153014115], [5.666814692820159, 0.815981892324447], [5.676814692820159, 0.8217217718382326], [5.686814692820159, 0.8273794798596003], [5.696814692820158, 0.8329544506224626], [5.706814692820158, 0.8384461266343891], [5.716814692820158, 0.843853958732355], [5.726814692820158, 0.8491774061376569], [5.7368146928201575, 0.8544159365099905], [5.746814692820157, 0.859569026000684], [5.756814692820157, 0.8646361593050826], [5.766814692820157, 0.8696168297140784], [5.776814692820157, 0.8745105391647812], [5.7868146928201565, 0.8793167982903237], [5.796814692820156, 0.8840351264687988], [5.806814692820156, 0.8886650518713205], [5.816814692820156, 0.8932061115092068], [5.826814692820156, 0.8976578512802782], [5.836814692820155, 0.9020198260142672], [5.846814692820155, 0.9062915995173355], [5.856814692820155, 0.9104727446156926], [5.866814692820155, 0.9145628431983128], [5.876814692820155, 0.9185614862587463], [5.886814692820154, 0.9224682739360195], [5.896814692820154, 0.9262828155546199], [5.906814692820154, 0.9300047296635647], [5.916814692820154, 0.9336336440745445], [5.9268146928201535, 0.9371691958991423], [5.936814692820153, 0.9406110315851218], [5.946814692820153, 0.9439588069517828], [5.956814692820153, 0.9472121872243784], [5.966814692820153, 0.9503708470675923], [5.976814692820152, 0.9534344706180726], [5.986814692820152, 0.9564027515160172], [5.996814692820152, 0.9592753929358098], [6.006814692820152, 0.9620521076157023], [6.016814692820152, 0.9647326178865406], [6.026814692820151, 0.9673166556995315], [6.036814692820151, 0.969803962653047], [6.046814692820151, 0.9721942900184644], [6.056814692820151, 0.9744873987650392], [6.0668146928201505, 0.9766830595838076], [6.07681469282015, 0.9787810529105175], [6.08681469282015, 0.9807811689475845], [6.09681469282015, 0.9826832076850717], [6.10681469282015, 0.9844869789206903], [6.1168146928201494, 0.9861923022788198], [6.126814692820149, 0.9877990072285457], [6.136814692820149, 0.9893069331007119], [6.146814692820149, 0.9907159291039878], [6.156814692820149, 0.9920258543399469], [6.166814692820148, 0.9932365778171577], [6.176814692820148, 0.994347978464281], [6.186814692820148, 0.9953599451421786], [6.196814692820148, 0.9962723766550258], [6.2068146928201475, 0.9970851817604316], [6.216814692820147, 0.997798279178563], [6.226814692820147, 0.9984115976002723], [6.236814692820147, 0.9989250756942285], [6.246814692820147, 0.9993386621130501], [6.2568146928201465, 0.9996523154984398], [6.266814692820146, 0.9998660044853205], [6.276814692820146, 0.9999797077049716]], \"data01\": [[-6.283185307179586, 1.0], [-6.183185307179587, 0.9950041652780258], [-6.083185307179587, 0.9800665778412417], [-5.983185307179587, 0.9553364891256063], [-5.883185307179588, 0.9210609940028855], [-5.783185307179588, 0.8775825618903734], [-5.683185307179588, 0.8253356149096793], [-5.583185307179589, 0.7648421872844898], [-5.483185307179589, 0.6967067093471673], [-5.383185307179589, 0.6216099682706667], [-5.28318530717959, 0.5403023058681425], [-5.18318530717959, 0.45359612142558065], [-5.0831853071795905, 0.36235775447667734], [-4.983185307179591, 0.2674988286245916], [-4.883185307179591, 0.1699671429002456], [-4.783185307179592, 0.07073720166770799], [-4.683185307179592, -0.02919952230128329], [-4.583185307179592, -0.12884449429551895], [-4.483185307179593, -0.22720209469308106], [-4.383185307179593, -0.32328956686349725], [-4.283185307179593, -0.41614683654713613], [-4.183185307179594, -0.5048461045998512], [-4.083185307179594, -0.5885011172553396], [-3.9831853071795944, -0.6662760212798183], [-3.8831853071795948, -0.7373937155412399], [-3.783185307179595, -0.8011436155469286], [-3.6831853071795955, -0.8568887533689425], [-3.583185307179596, -0.9040721420170571], [-3.483185307179596, -0.942222340668655], [-3.3831853071795965, -0.9709581651495881], [-3.283185307179597, -0.989992496600444], [-3.1831853071795972, -0.999135150273279], [-3.0831853071795976, -0.9982947757947538], [-2.983185307179598, -0.9874797699088667], [-2.8831853071795983, -0.9667981925794641], [-2.7831853071795987, -0.9364566872908006], [-2.683185307179599, -0.8967584163341525], [-2.5831853071795994, -0.848100031710415], [-2.4831853071795997, -0.7909677119144248], [-2.3831853071796, -0.7259323042001495], [-2.2831853071796004, -0.6536436208636225], [-2.183185307179601, -0.5748239465332806], [-2.083185307179601, -0.49026082134071236], [-1.9831853071796015, -0.40079917207998905], [-1.8831853071796019, -0.30733286997843434], [-1.7831853071796022, -0.2107957994307951], [-1.6831853071796026, -0.11215252693507051], [-1.583185307179603, -0.01238866346290719], [-1.4831853071796033, 0.08749898343942983], [-1.3831853071796036, 0.18651236942255855], [-1.283185307179604, 0.2836621854632095], [-1.1831853071796044, 0.377977742712964], [-1.0831853071796047, 0.46851667130036084], [-0.9831853071796051, 0.5543743361791454], [-0.8831853071796054, 0.6346928759426197], [-0.7831853071796058, 0.7086697742912463], [-0.6831853071796061, 0.7755658785102374], [-0.5831853071796065, 0.8347127848391487], [-0.48318530717960684, 0.8855195169413096], [-0.3831853071796072, 0.927478430744028], [-0.28318530717960755, 0.9601702866503601], [-0.1831853071796079, 0.9832684384425807], [-0.08318530717960826, 0.9965420970232156], [0.016814692820391386, 0.9998586363834155], [0.11681469282039103, 0.9931849187581953], [0.21681469282039068, 0.9765876257280284], [0.3168146928203903, 0.9502325919585367], [0.41681469282038996, 0.914383148235329], [0.5168146928203896, 0.869397490349837], [0.6168146928203893, 0.8157251001253711], [0.7168146928203889, 0.7539022543433208], [0.8168146928203885, 0.6845466664428246], [0.9168146928203882, 0.6083513145322748], [1.0168146928203878, 0.5260775173811271], [1.1168146928203875, 0.43854732757441406], [1.2168146928203871, 0.3466353178350506], [1.3168146928203868, 0.2512598425822813], [1.4168146928203864, 0.15337386203789133], [1.516814692820386, 0.053955420562677], [1.6168146928203857, -0.046002125639508805], [1.7168146928203853, -0.14550003380858564], [1.816814692820385, -0.2435441537357638], [1.9168146928203846, -0.33915486098380804], [2.0168146928203843, -0.4313768449705938], [2.116814692820384, -0.51928865411666], [2.2168146928203836, -0.6020119026847996], [2.316814692820383, -0.6787200473199905], [2.416814692820383, -0.7486466455973788], [2.5168146928203825, -0.8110930140616375], [2.616814692820382, -0.8654352092410963], [2.716814692820382, -0.911130261884664], [2.8168146928203814, -0.9477216021311018], [2.916814692820381, -0.9748436214041565], [3.0168146928203807, -0.9922253254525993], [3.1168146928203804, -0.9996930420352057], [3.21681469282038, -0.997172156196381], [3.3168146928203797, -0.9846878557941328], [3.4168146928203793, -0.9623648798313194], [3.516814692820379, -0.9304262721047661], [3.6168146928203786, -0.8891911526253771], [3.7168146928203782, -0.8390715290764716], [3.816814692820378, -0.7805681801692058], [3.9168146928203775, -0.7142656520272249], [4.016814692820377, -0.6408264175950218], [4.116814692820377, -0.5609842574272594], [4.2168146928203765, -0.47553692799602515], [4.316814692820376, -0.3853381907718638], [4.416814692820376, -0.29128928172138097], [4.516814692820375, -0.1943299064553729], [4.616814692820375, -0.09542885100098931], [4.716814692820375, 0.004425697988011951], [4.816814692820374, 0.10423602686565825], [4.916814692820374, 0.20300486381871238], [5.016814692820374, 0.29974534327697616], [5.116814692820373, 0.3934908663478536], [5.216814692820373, 0.48330475875297035], [5.316814692820373, 0.5682896297679402], [5.416814692820372, 0.647596338653845], [5.516814692820372, 0.7204324789908093], [5.6168146928203715, 0.7860702961410131], [5.716814692820371, 0.8438539587324694], [5.816814692820371, 0.8932061115093035], [5.91681469282037, 0.9336336440746221], [6.01681469282037, 0.9647326178865981], [6.11681469282037, 0.9861923022788563], [6.216814692820369, 0.9977982791785778]], \"data03\": [[-6.283185307179586, 1.0], [-5.283185307179586, 0.5403023058681395], [-4.283185307179586, -0.41614683654714263], [-3.2831853071795862, -0.9899924966004455], [-2.2831853071795862, -0.6536436208636117], [-1.2831853071795862, 0.2836621854632265], [-0.28318530717958623, 0.9601702866503661], [0.7168146928204138, 0.7539022543433045], [1.7168146928204138, -0.14550003380861376], [2.7168146928204138, -0.911130261884677], [3.7168146928204138, -0.8390715290764523], [4.716814692820414, 0.004425697988051031], [5.716814692820414, 0.8438539587324922]]}, \"width\": 480.0, \"height\": 320.0, \"plugins\": [{\"type\": \"reset\"}, {\"button\": true, \"type\": \"zoom\", \"enabled\": false}, {\"button\": true, \"type\": \"boxzoom\", \"enabled\": false}], \"id\": \"el140202931495692\"});\n",
       "      });\n",
       "    });\n",
       "}else{\n",
       "    // require.js not available: dynamically load d3 & mpld3\n",
       "    mpld3_load_lib(\"https://mpld3.github.io/js/d3.v3.min.js\", function(){\n",
       "         mpld3_load_lib(\"https://mpld3.github.io/js/mpld3.v0.2.js\", function(){\n",
       "                 \n",
       "                 mpld3.draw_figure(\"fig_el140202931495692131857823\", {\"axes\": [{\"axes\": [{\"tickformat\": null, \"grid\": {\"gridOn\": false}, \"position\": \"bottom\", \"scale\": \"linear\", \"fontsize\": 10.0, \"nticks\": 9, \"tickvalues\": null}, {\"tickformat\": null, \"grid\": {\"gridOn\": false}, \"position\": \"left\", \"scale\": \"linear\", \"fontsize\": 10.0, \"nticks\": 5, \"tickvalues\": null}], \"sharey\": [], \"collections\": [], \"xlim\": [-8.0, 8.0], \"images\": [], \"ylim\": [-1.0, 1.0], \"axesbg\": \"#FFFFFF\", \"paths\": [], \"id\": \"el140202931550412\", \"xscale\": \"linear\", \"yscale\": \"linear\", \"markers\": [], \"bbox\": [0.125, 0.125, 0.775, 0.775], \"sharex\": [], \"axesbgalpha\": null, \"zoomable\": true, \"texts\": [], \"ydomain\": [-1.0, 1.0], \"xdomain\": [-8.0, 8.0], \"lines\": [{\"alpha\": 1, \"data\": \"data01\", \"xindex\": 0, \"dasharray\": \"10,0\", \"color\": \"#0000FF\", \"coordinates\": \"data\", \"zorder\": 2, \"linewidth\": 1.0, \"yindex\": 1, \"id\": \"el140202931277740\"}, {\"alpha\": 1, \"data\": \"data02\", \"xindex\": 0, \"dasharray\": \"10,0\", \"color\": \"#007F00\", \"coordinates\": \"data\", \"zorder\": 2, \"linewidth\": 1.0, \"yindex\": 1, \"id\": \"el140202931292588\"}, {\"alpha\": 1, \"data\": \"data03\", \"xindex\": 0, \"dasharray\": \"10,0\", \"color\": \"#FF0000\", \"coordinates\": \"data\", \"zorder\": 2, \"linewidth\": 1.0, \"yindex\": 1, \"id\": \"el140202931293676\"}, {\"alpha\": 1, \"data\": \"data04\", \"xindex\": 0, \"dasharray\": \"10,0\", \"color\": \"#00BFBF\", \"coordinates\": \"data\", \"zorder\": 2, \"linewidth\": 1.0, \"yindex\": 1, \"id\": \"el140202931321900\"}]}], \"data\": {\"data04\": [[-6.283185307179586, 1.0], [-6.026728764029399, 0.9672948630390293], [-5.770272220879212, 0.8713187041233894], [-5.513815677729025, 0.7183493500977277], [-5.257359134578838, 0.5183925683105253], [-5.00090259142865, 0.284527586631032], [-4.744446048278463, 0.03205157757165486], [-4.487989505128276, -0.2225209339563146], [-4.231532961978089, -0.4625382902408353], [-3.9750764188279017, -0.6723008902613167], [-3.7186198756777147, -0.8380881048918405], [-3.462163332527527, -0.9490557470106686], [-3.20570678937734, -0.9979453927503363], [-2.949250246227153, -0.9815591569910654], [-2.6927937030769655, -0.900968867902419], [-2.4363371599267785, -0.7614459583691344], [-2.1798806167765914, -0.5721166601221698], [-1.9234240736264043, -0.34536505442130794], [-1.6669675304762173, -0.0960230259076822], [-1.4105109873260302, 0.15959989503337865], [-1.1540544441758431, 0.40478334312239317], [-0.8975979010256552, 0.6234898018587336], [-0.6411413578754681, 0.8014136218679566], [-0.38468481472528104, 0.9269167573460216], [-0.12822827157509398, 0.991790013823246], [0.1282282715750931, 0.9917900138232462], [0.38468481472528016, 0.926916757346022], [0.6411413578754672, 0.8014136218679572], [0.8975979010256552, 0.6234898018587336], [1.1540544441758422, 0.404783343122394], [1.4105109873260293, 0.15959989503337954], [1.6669675304762164, -0.09602302590768132], [1.9234240736264034, -0.3453650544213071], [2.1798806167765914, -0.5721166601221698], [2.4363371599267776, -0.7614459583691339], [2.6927937030769655, -0.900968867902419], [2.9492502462271517, -0.9815591569910651], [3.2057067893773397, -0.9979453927503363], [3.462163332527526, -0.9490557470106691], [3.718619875677714, -0.838088104891841], [3.9750764188279, -0.672300890261318], [4.231532961978088, -0.4625382902408361], [4.487989505128276, -0.2225209339563146], [4.744446048278462, 0.03205157757165397], [5.00090259142865, 0.284527586631032], [5.257359134578836, 0.5183925683105237], [5.513815677729024, 0.718349350097727], [5.77027222087921, 0.8713187041233885], [6.026728764029398, 0.9672948630390291], [6.283185307179586, 1.0]], \"data02\": [[-6.283185307179586, 1.0], [-6.2731853071795864, 0.9999500004166653], [-6.263185307179587, 0.9998000066665778], [-6.253185307179587, 0.9995500337489875], [-6.243185307179587, 0.9992001066609779], [-6.233185307179587, 0.9987502603949663], [-6.2231853071795875, 0.9982005399352042], [-6.213185307179588, 0.9975510002532797], [-6.203185307179588, 0.9968017063026196], [-6.193185307179588, 0.9959527330119944], [-6.183185307179588, 0.9950041652780259], [-6.173185307179589, 0.993956097956697], [-6.163185307179589, 0.9928086358538666], [-6.153185307179589, 0.9915618937147883], [-6.143185307179589, 0.9902159962126376], [-6.133185307179589, 0.9887710779360427], [-6.12318530717959, 0.9872272833756275], [-6.11318530717959, 0.9855847669095613], [-6.10318530717959, 0.983843692788122], [-6.09318530717959, 0.9820042351172711], [-6.0831853071795905, 0.9800665778412424], [-6.073185307179591, 0.9780309147241492], [-6.063185307179591, 0.9758974493306065], [-6.053185307179591, 0.9736663950053759], [-6.043185307179591, 0.9713379748520308], [-6.033185307179592, 0.9689124217106461], [-6.023185307179592, 0.9663899781345145], [-6.013185307179592, 0.963770896365892], [-6.003185307179592, 0.9610554383107726], [-5.993185307179592, 0.9582438755126989], [-5.983185307179593, 0.9553364891256079], [-5.973185307179593, 0.9523335698857154], [-5.963185307179593, 0.9492354180824429], [-5.953185307179593, 0.9460423435283891], [-5.9431853071795935, 0.9427546655283485], [-5.933185307179594, 0.9393727128473814], [-5.923185307179594, 0.9358968236779375], [-5.913185307179594, 0.9323273456060371], [-5.903185307179594, 0.9286646355765131], [-5.8931853071795945, 0.9249090598573161], [-5.883185307179595, 0.9210609940028883], [-5.873185307179595, 0.9171208228166084], [-5.863185307179595, 0.9130889403123118], [-5.853185307179595, 0.9089657496748889], [-5.843185307179596, 0.9047516632199674], [-5.833185307179596, 0.900447102352681], [-5.823185307179596, 0.8960524975255295], [-5.813185307179596, 0.8915682881953334], [-5.8031853071795965, 0.8869949227792888], [-5.793185307179597, 0.8823328586101263], [-5.783185307179597, 0.8775825618903778], [-5.773185307179597, 0.8727445076457564], [-5.763185307179597, 0.8678191796776553], [-5.7531853071795975, 0.8628070705147666], [-5.743185307179598, 0.8577086813638299], [-5.733185307179598, 0.8525245220595118], [-5.723185307179598, 0.8472551110134223], [-5.713185307179598, 0.8419009751622751], [-5.703185307179599, 0.8364626499151936], [-5.693185307179599, 0.8309406791001703], [-5.683185307179599, 0.8253356149096854], [-5.673185307179599, 0.8196480178454868], [-5.6631853071795994, 0.8138784566625414], [-5.6531853071796, 0.8080275083121596], [-5.6431853071796, 0.8020957578843007], [-5.6331853071796, 0.7960837985490641], [-5.6231853071796, 0.7899922314973735], [-5.6131853071796005, 0.783821665880858], [-5.603185307179601, 0.7775727187509369], [-5.593185307179601, 0.7712460149971158], [-5.583185307179601, 0.7648421872844979], [-5.573185307179601, 0.7583618759905179], [-5.563185307179602, 0.7518057291409049], [-5.553185307179602, 0.7451744023448806], [-5.543185307179602, 0.7384685587295984], [-5.533185307179602, 0.7316888688738317], [-5.523185307179602, 0.7248360107409162], [-5.513185307179603, 0.7179106696109546], [-5.503185307179603, 0.7109135380122888], [-5.493185307179603, 0.7038453156522478], [-5.483185307179603, 0.6967067093471775], [-5.4731853071796035, 0.6894984329517594], [-5.463185307179604, 0.6822212072876261], [-5.453185307179604, 0.67487576007128], [-5.443185307179604, 0.6674628258413212], [-5.433185307179604, 0.6599831458849956], [-5.423185307179605, 0.6524374681640656], [-5.413185307179605, 0.6448265472400152], [-5.403185307179605, 0.6371511441985945], [-5.393185307179605, 0.6294120265737114], [-5.383185307179605, 0.6216099682706793], [-5.373185307179606, 0.6137457494888267], [-5.363185307179606, 0.6058201566434782], [-5.353185307179606, 0.5978339822873139], [-5.343185307179606, 0.5897880250311142], [-5.3331853071796065, 0.5816830894638998], [-5.323185307179607, 0.5735199860724732], [-5.313185307179607, 0.5652995311603711], [-5.303185307179607, 0.5570225467662344], [-5.293185307179607, 0.548689860581605], [-5.2831853071796075, 0.5403023058681574], [-5.273185307179608, 0.5318607213743735], [-5.263185307179608, 0.5233659512516678], [-5.253185307179608, 0.514818844969974], [-5.243185307179608, 0.5062202572327973], [-5.233185307179609, 0.49757104789174617], [-5.223185307179609, 0.48887208186054704], [-5.213185307179609, 0.4801242290285539], [-5.203185307179609, 0.4713283641737601], [-5.1931853071796095, 0.46248536687532127], [-5.18318530717961, 0.4535961214255981], [-5.17318530717961, 0.4446615167417278], [-5.16318530717961, 0.4356824462767334], [-5.15318530717961, 0.4266598079301789], [-5.1431853071796105, 0.41759450395837994], [-5.133185307179611, 0.40848744088417943], [-5.123185307179611, 0.3993395294062956], [-5.113185307179611, 0.390151684308253], [-5.103185307179611, 0.3809248243669048], [-5.093185307179612, 0.37165987226055625], [-5.083185307179612, 0.3623577544766972], [-5.073185307179612, 0.35301940121935427], [-5.063185307179612, 0.3436457463160712], [-5.0531853071796125, 0.3342377271245271], [-5.043185307179613, 0.324796284438801], [-5.033185307179613, 0.3153223623952937], [-5.023185307179613, 0.30581690837831466], [-5.013185307179613, 0.29628087292534433], [-5.0031853071796135, 0.28671520963198144], [-4.993185307179614, 0.27712087505658384], [-4.983185307179614, 0.2674988286246139], [-4.973185307179614, 0.2578500325326964], [-4.963185307179614, 0.2481754516524], [-4.953185307179615, 0.2384760534337505], [-4.943185307179615, 0.22875280780848703], [-4.933185307179615, 0.21900668709306942], [-4.923185307179615, 0.20923866589144746], [-4.913185307179615, 0.19944972099760133], [-4.903185307179616, 0.189640831297863], [-4.893185307179616, 0.1798129776730284], [-4.883185307179616, 0.1699671429002701], [-4.873185307179616, 0.16010431155486063], [-4.8631853071796165, 0.15022546991171545], [-4.853185307179617, 0.1403316058467666], [-4.843185307179617, 0.1304237087381757], [-4.833185307179617, 0.12050276936739701], [-4.823185307179617, 0.11056977982010024], [-4.813185307179618, 0.10062573338696264], [-4.803185307179618, 0.09067162446434084], [-4.793185307179618, 0.08070844845483204], [-4.783185307179618, 0.07073720166773456], [-4.773185307179618, 0.06075888121941779], [-4.763185307179619, 0.05077448493361131], [-4.753185307179619, 0.0407850112416234], [-4.743185307179619, 0.030791459082498723], [-4.733185307179619, 0.020794827803125263], [-4.7231853071796195, 0.010796117058300452], [-4.71318530717962, 0.0007963267107665472], [-4.70318530717962, -0.009203543268774832], [-4.69318530717962, -0.019202492901658926], [-4.68318530717962, -0.02919952230125488], [-4.6731853071796206, -0.03919363177295356], [-4.663185307179621, -0.0491838219141362], [-4.653185307179621, -0.0591690937141138], [-4.643185307179621, -0.06914844865402742], [-4.633185307179621, -0.07912088880669914], [-4.623185307179622, -0.08908541693642404], [-4.613185307179622, -0.0990410365986929], [-4.603185307179622, -0.10898675223983582], [-4.593185307179622, -0.11892156929657674], [-4.5831853071796225, -0.128844494295489], [-4.573185307179623, -0.13875453495234175], [-4.563185307179623, -0.14865070027132765], [-4.553185307179623, -0.1585320006441616], [-4.543185307179623, -0.16839744794904069], [-4.5331853071796235, -0.17824605564945561], [-4.523185307179624, -0.1880768388928435], [-4.513185307179624, -0.19788881460907226], [-4.503185307179624, -0.20768100160874692], [-4.493185307179624, -0.2174524206813276], [-4.483185307179625, -0.22720209469304992], [-4.473185307179625, -0.23692904868463738], [-4.463185307179625, -0.2466323099687966], [-4.453185307179625, -0.2563109082274852], [-4.4431853071796255, -0.2659638756089427], [-4.433185307179626, -0.2755902468244752], [-4.423185307179626, -0.285189059244983], [-4.413185307179626, -0.29475935299722306], [-4.403185307179626, -0.30430017105979534], [-4.3931853071796265, -0.31381055935884433], [-4.383185307179627, -0.3232895668634653], [-4.373185307179627, -0.33273624568080706], [-4.363185307179627, -0.34214965115086], [-4.353185307179627, -0.3515288419409216], [-4.343185307179628, -0.36087288013972885], [-4.333185307179628, -0.3701808313512485], [-4.323185307179628, -0.3794517647881161], [-4.313185307179628, -0.3886847533647136], [-4.303185307179628, -0.39787887378987746], [-4.293185307179629, -0.40703320665922704], [-4.283185307179629, -0.4161468365471038], [-4.273185307179629, -0.42521885209811383], [-4.263185307179629, -0.43424834611826185], [-4.2531853071796295, -0.4432344156656705], [-4.24318530717963, -0.45217616214087336], [-4.23318530717963, -0.46107269137667434], [-4.22318530717963, -0.4699231137275636], [-4.21318530717963, -0.47872654415868143], [-4.203185307179631, -0.4874821023343208], [-4.193185307179631, -0.49618891270596055], [-4.183185307179631, -0.504846104599819], [-4.173185307179631, -0.5134528123039213], [-4.163185307179631, -0.5220081751546689], [-4.153185307179632, -0.5305113376229066], [-4.143185307179632, -0.5389614493994732], [-4.133185307179632, -0.5473576654802329], [-4.123185307179632, -0.5556991462505745], [-4.1131853071796325, -0.5639850575693721], [-4.103185307179633, -0.5722145708523988], [-4.093185307179633, -0.5803868631551841], [-4.083185307179633, -0.588501117255308], [-4.073185307179633, -0.5965565217341223], [-4.0631853071796336, -0.604552271057892], [-4.053185307179634, -0.6124875656583478], [-4.043185307179634, -0.6203616120126424], [-4.033185307179634, -0.6281736227227019], [-4.023185307179634, -0.6359228165939655], [-4.013185307179635, -0.6436084187135037], [-4.003185307179635, -0.651229660527509], [-3.993185307179635, -0.6587857799181511], [-3.9831853071796353, -0.6662760212797878], [-3.9731853071796355, -0.6736996355945246], [-3.9631853071796357, -0.6810558805071165], [-3.953185307179636, -0.6883440203992024], [-3.943185307179636, -0.6955633264628664], [-3.9331853071796363, -0.7027130767735185], [-3.9231853071796365, -0.7097925563620853], [-3.9131853071796368, -0.7168010572865078], [-3.903185307179637, -0.7237378787025338], [-3.893185307179637, -0.7306023269338026], [-3.8831853071796374, -0.7373937155412111], [-3.8731853071796376, -0.7441113653915583], [-3.863185307179638, -0.7507546047254571], [-3.853185307179638, -0.75732276922451], [-3.8431853071796382, -0.7638152020777407], [-3.8331853071796385, -0.7702312540472742], [-3.8231853071796387, -0.7765702835332602], [-3.813185307179639, -0.7828316566380327], [-3.803185307179639, -0.7890147472294988], [-3.7931853071796393, -0.7951189370037521], [-3.7831853071796395, -0.8011436155469019], [-3.7731853071796397, -0.8070881803961146], [-3.76318530717964, -0.8129520370998589], [-3.75318530717964, -0.8187345992773509], [-3.7431853071796404, -0.8244352886771917], [-3.7331853071796406, -0.830053535235192], [-3.723185307179641, -0.8355887771313778], [-3.713185307179641, -0.841040460846172], [-3.7031853071796412, -0.8464080412157464], [-3.6931853071796414, -0.8516909814865369], [-3.6831853071796417, -0.8568887533689188], [-3.673185307179642, -0.8620008370900354], [-3.663185307179642, -0.8670267214457746], [-3.6531853071796423, -0.8719659038518892], [-3.6431853071796425, -0.8768178903942544], [-3.6331853071796427, -0.8815821958782594], [-3.623185307179643, -0.8862583438773258], [-3.613185307179643, -0.8908458667805508], [-3.6031853071796434, -0.8953443058394667], [-3.5931853071796436, -0.8997532112139165], [-3.583185307179644, -0.9040721420170367], [-3.573185307179644, -0.9083006663593461], [-3.563185307179644, -0.9124383613919343], [-3.5531853071796444, -0.9164848133487461], [-3.5431853071796446, -0.9204396175879579], [-3.533185307179645, -0.9243023786324412], [-3.523185307179645, -0.9280727102093108], [-3.5131853071796453, -0.9317502352885508], [-3.5031853071796455, -0.935334586120718], [-3.4931853071796457, -0.9388254042737159], [-3.483185307179646, -0.9422223406686382], [-3.473185307179646, -0.9455250556146765], [-3.4631853071796463, -0.9487332188430881], [-3.4531853071796466, -0.951846509540224], [-3.4431853071796468, -0.9548646163796085], [-3.433185307179647, -0.9577872375530729], [-3.423185307179647, -0.9606140808009355], [-3.4131853071796474, -0.9633448634412269], [-3.4031853071796476, -0.965979312397959], [-3.393185307179648, -0.9685171642284314], [-3.383185307179648, -0.9709581651495758], [-3.3731853071796483, -0.9733020710633344], [-3.3631853071796485, -0.9755486475810691], [-3.3531853071796487, -0.9776976700470001], [-3.343185307179649, -0.9797489235606718], [-3.333185307179649, -0.9817022029984421], [-3.3231853071796493, -0.9835573130339951], [-3.3131853071796495, -0.9853140681578729], [-3.3031853071796498, -0.9869722926960274], [-3.29318530717965, -0.9885318208273864], [-3.28318530717965, -0.9899924966004364], [-3.2731853071796504, -0.9913541739488175], [-3.2631853071796506, -0.9926167167059293], [-3.253185307179651, -0.9937799986185485], [-3.243185307179651, -0.9948439033594529], [-3.2331853071796512, -0.9958083245390553], [-3.2231853071796515, -0.9966731657160413], [-3.2131853071796517, -0.9974383404070138], [-3.203185307179652, -0.9981037720951416], [-3.193185307179652, -0.9986693942378102], [-3.1831853071796523, -0.9991351502732767], [-3.1731853071796525, -0.9995009936263258], [-3.1631853071796527, -0.999766887712927], [-3.153185307179653, -0.9999328059438931], [-3.143185307179653, -0.9999987317275394], [-3.1331853071796534, -0.9999646584713425], [-3.1231853071796536, -0.9998305895825996], [-3.113185307179654, -0.9995965384680877], [-3.103185307179654, -0.9992625285327235], [-3.0931853071796542, -0.998828593177222], [-3.0831853071796544, -0.998294775794757], [-3.0731853071796547, -0.9976611297666222], [-3.063185307179655, -0.9969277184568923], [-3.053185307179655, -0.996094615206087], [-3.0431853071796553, -0.9951619033238371], [-3.0331853071796555, -0.9941296760805537], [-3.0231853071796557, -0.9929980366981008], [-3.013185307179656, -0.9917670983394739], [-3.003185307179656, -0.9904369840974827], [-2.9931853071796564, -0.9890078269824433], [-2.9831853071796566, -0.987479769908876], [-2.973185307179657, -0.9858529656812148], [-2.963185307179657, -0.984127576978527], [-2.953185307179657, -0.982303776338245], [-2.9431853071796574, -0.9803817461389128], [-2.9331853071796576, -0.9783616785819488], [-2.923185307179658, -0.9762437756724254], [-2.913185307179658, -0.9740282491988684], [-2.9031853071796583, -0.971715320712079], [-2.8931853071796585, -0.9693052215029786], [-2.8831853071796587, -0.9667981925794795], [-2.873185307179659, -0.9641944846423849], [-2.863185307179659, -0.9614943580603188], [-2.8531853071796593, -0.9586980828436893], [-2.8431853071796596, -0.9558059386176879], [-2.8331853071796598, -0.952818214594327], [-2.82318530717966, -0.9497352095435192], [-2.81318530717966, -0.9465572317632004], [-2.8031853071796604, -0.9432845990485004], [-2.7931853071796606, -0.9399176386599634], [-2.783185307179661, -0.9364566872908224], [-2.773185307179661, -0.9329020910333304], [-2.7631853071796613, -0.9292542053441509], [-2.7531853071796615, -0.9255133950088129], [-2.7431853071796617, -0.9216800341052326], [-2.733185307179662, -0.9177545059663059], [-2.723185307179662, -0.9137372031415755], [-2.7131853071796623, -0.909628527357976], [-2.7031853071796625, -0.9054288894796619], [-2.6931853071796628, -0.9011387094669215], [-2.683185307179663, -0.8967584163341809], [-2.673185307179663, -0.892288448107103], [-2.6631853071796634, -0.8877292517787856], [-2.6531853071796636, -0.8830812832650622], [-2.643185307179664, -0.878345007358911], [-2.633185307179664, -0.8735208976839756], [-2.6231853071796642, -0.8686094366472035], [-2.6131853071796645, -0.8636111153906054], [-2.6031853071796647, -0.8585264337421418], [-2.593185307179665, -0.8533559001657404], [-2.583185307179665, -0.8481000317104498], [-2.5731853071796653, -0.8427593539587359], [-2.5631853071796655, -0.8373344009739233], [-2.5531853071796657, -0.8318257152467896], [-2.543185307179666, -0.826233847641317], [-2.533185307179666, -0.8205593573396063], [-2.5231853071796664, -0.8148028117859587], [-2.5131853071796666, -0.8089647866301326], [-2.503185307179667, -0.8030458656697786], [-2.493185307179667, -0.7970466407920603], [-2.4831853071796672, -0.7909677119144661], [-2.4731853071796674, -0.784809686924818], [-2.4631853071796677, -0.7785731816204834], [-2.453185307179668, -0.7722588196467954], [-2.443185307179668, -0.7658672324346898], [-2.4331853071796683, -0.7593990591375611], [-2.4231853071796685, -0.7528549465673493], [-2.4131853071796687, -0.7462355491298577], [-2.403185307179669, -0.7395415287593139], [-2.393185307179669, -0.7327735548521769], [-2.3831853071796694, -0.7259323042001972], [-2.3731853071796696, -0.719018460922739], [-2.36318530717967, -0.7120327163983686], [-2.35318530717967, -0.704975769195717], [-2.34318530717967, -0.6978483250036237], [-2.3331853071796704, -0.6906510965605684], [-2.3231853071796706, -0.6833848035833977], [-2.313185307179671, -0.6760501726953541], [-2.303185307179671, -0.6686479373534142], [-2.2931853071796713, -0.6611788377749437], [-2.2831853071796715, -0.6536436208636762], [-2.2731853071796717, -0.6460430401350237], [-2.263185307179672, -0.638377855640725], [-2.253185307179672, -0.630648833892842], [-2.2431853071796723, -0.6228567477871086], [-2.2331853071796726, -0.6150023765256422], [-2.2231853071796728, -0.6070865055390234], [-2.213185307179673, -0.5991099264077545], [-2.203185307179673, -0.5910734367831014], [-2.1931853071796734, -0.5829778403073296], [-2.1831853071796736, -0.5748239465333402], [-2.173185307179674, -0.566612570843716], [-2.163185307179674, -0.5583445343691829], [-2.1531853071796743, -0.5500206639064984], [-2.1431853071796745, -0.5416417918357723], [-2.1331853071796747, -0.5332087560372293], [-2.123185307179675, -0.5247223998074217], [-2.113185307179675, -0.5161835717749006], [-2.1031853071796753, -0.5075931258153535], [-2.0931853071796755, -0.4989519209662179], [-2.0831853071796758, -0.4902608213407774], [-2.073185307179676, -0.4815206960417522], [-2.063185307179676, -0.47273241907438873], [-2.0531853071796764, -0.46389686925906015], [-2.0431853071796766, -0.4550149301433852], [-2.033185307179677, -0.44608748991387365], [-2.023185307179677, -0.4371154413071091], [-2.0131853071796773, -0.4280996815204755], [-2.0031853071796775, -0.4190411121224384], [-1.9931853071796777, -0.4099406389623888], [-1.983185307179678, -0.40079917208005905], [-1.973185307179678, -0.39161762561451946], [-1.9631853071796783, -0.3823969177127654], [-1.9531853071796785, -0.3731379704379031], [-1.9431853071796787, -0.36384170967694424], [-1.933185307179679, -0.3545090650482181], [-1.9231853071796792, -0.3451409698084104], [-1.9131853071796794, -0.33573836075923835], [-1.9031853071796796, -0.32630217815377144], [-1.8931853071796798, -0.3168333656024067], [-1.88318530717968, -0.3073328699785087], [-1.8731853071796802, -0.29780164132372267], [-1.8631853071796804, -0.2882406327529715], [-1.8531853071796807, -0.2786508003591448], [-1.8431853071796809, -0.26903310311749035], [-1.833185307179681, -0.25938850278971765], [-1.8231853071796813, -0.24971796382782238], [-1.8131853071796815, -0.24002245327764193], [-1.8031853071796817, -0.23030294068215176], [-1.793185307179682, -0.22056039798451188], [-1.7831853071796822, -0.21079579943087323], [-1.7731853071796824, -0.20101012147295408], [-1.7631853071796826, -0.19120434267039554], [-1.7531853071796828, -0.18137944359290636], [-1.743185307179683, -0.1715364067222069], [-1.7331853071796832, -0.1616762163537818], [-1.7231853071796834, -0.151799858498451], [-1.7131853071796836, -0.14190832078376986], [-1.7031853071796839, -0.13200259235526687], [-1.693185307179684, -0.12208366377753015], [-1.6831853071796843, -0.11215252693515171], [-1.6731853071796845, -0.10221017493353989], [-1.6631853071796847, -0.09225760199960958], [-1.653185307179685, -0.0822958033823604], [-1.6431853071796851, -0.07232577525335257], [-1.6331853071796854, -0.06234851460709069], [-1.6231853071796856, -0.05236501916132503], [-1.6131853071796858, -0.042376287257280605], [-1.603185307179686, -0.03238331775982391], [-1.5931853071796862, -0.02238710995757724], [-1.5831853071796864, -0.012388663462990671], [-1.5731853071796866, -0.0023889781123816573], [-1.5631853071796868, 0.007610946134047786], [-1.553185307179687, 0.017610109292206258], [-1.5431853071796873, 0.027607511454110552], [-1.5331853071796875, 0.03760215288787562], [-1.5231853071796877, 0.047593034137686924], [-1.513185307179688, 0.05757915612374518], [-1.5031853071796881, 0.06755952024217354], [-1.4931853071796883, 0.0775331284648771], [-1.4831853071796886, 0.08749898343934488], [-1.4731853071796888, 0.09745608858838432], [-1.463185307179689, 0.10740344820977805], [-1.4531853071796892, 0.11734006757585339], [-1.4431853071796894, 0.12726495303295418], [-1.4331853071796896, 0.1371771121008055], [-1.4231853071796898, 0.14707555357176058], [-1.41318530717969, 0.15695928760992103], [-1.4031853071796903, 0.16682732585011947], [-1.3931853071796905, 0.17667868149675522], [-1.3831853071796907, 0.18651236942247304], [-1.373185307179691, 0.19632740626667505], [-1.363185307179691, 0.20612281053385603], [-1.3531853071796913, 0.21589760269175207], [-1.3431853071796915, 0.225650805269293], [-1.3331853071796917, 0.23538144295434868], [-1.323185307179692, 0.24508854269125951], [-1.3131853071796922, 0.254771133778141], [-1.3031853071796924, 0.2644282479639532], [-1.2931853071796926, 0.2740589195453252], [-1.2831853071796928, 0.2836621854631243], [-1.273185307179693, 0.2932370853987615], [-1.2631853071796932, 0.3027826618702222], [-1.2531853071796935, 0.31229796032781393], [-1.2431853071796937, 0.3217820292496203], [-1.2331853071796939, 0.33123392023665255], [-1.223185307179694, 0.34065268810768845], [-1.2131853071796943, 0.3500373909937899], [-1.2031853071796945, 0.3593870904324888], [-1.1931853071796947, 0.36870085146163273], [-1.183185307179695, 0.37797774271288015], [-1.1731853071796952, 0.3872168365048367], [-1.1631853071796954, 0.3964172089358224], [-1.1531853071796956, 0.40557793997626107], [-1.1431853071796958, 0.4146981135606826], [-1.133185307179696, 0.4237768176793287], [-1.1231853071796962, 0.43281314446935304], [-1.1131853071796964, 0.44180619030560686], [-1.1031853071796967, 0.4507550558910007], [-1.0931853071796969, 0.4596588463464334], [-1.083185307179697, 0.46851667130027924], [-1.0731853071796973, 0.4773276449774243], [-1.0631853071796975, 0.48609088628784336], [-1.0531853071796977, 0.49480551891470803], [-1.043185307179698, 0.5034706714020177], [-1.0331853071796981, 0.5120854772417448], [-1.0231853071796984, 0.5206490749604841], [-1.0131853071796986, 0.5291606082056002], [-1.0031853071796988, 0.5376192258308614], [-0.993185307179699, 0.546024081981554], [-0.9831853071796992, 0.5543743361790671], [-0.9731853071796994, 0.5626691534049393], [-0.9631853071796996, 0.5709077041843604], [-0.9531853071796998, 0.579089164669118], [-0.9431853071797001, 0.5872127167199813], [-0.9331853071797003, 0.595277547988515], [-0.9231853071797005, 0.6032828519983127], [-0.9131853071797007, 0.6112278282256447], [-0.9031853071797009, 0.6191116821795088], [-0.8931853071797011, 0.6269336254810798], [-0.8831853071797013, 0.6346928759425456], [-0.8731853071797016, 0.6423886576453262], [-0.8631853071797018, 0.6500202010176642], [-0.853185307179702, 0.6575867429115821], [-0.8431853071797022, 0.6650875266791961], [-0.8331853071797024, 0.67252180224838], [-0.8231853071797026, 0.6798888261977719], [-0.8131853071797028, 0.6871878618311162], [-0.803185307179703, 0.6944181792509321], [-0.7931853071797033, 0.7015790554315027], [-0.7831853071797035, 0.7086697742911775], [-0.7731853071797037, 0.7156896267639793], [-0.7631853071797039, 0.7226379108705108], [-0.7531853071797041, 0.7295139317881514], [-0.7431853071797043, 0.7363170019205395], [-0.7331853071797045, 0.743046440966331], [-0.7231853071797048, 0.7497015759872292], [-0.713185307179705, 0.7562817414752778], [-0.7031853071797052, 0.7627862794194117], [-0.6931853071797054, 0.7692145393712567], [-0.6831853071797056, 0.7755658785101746], [-0.6731853071797058, 0.7818396617075442], [-0.663185307179706, 0.7880352615902739], [-0.6531853071797062, 0.7941520586035385], [-0.6431853071797065, 0.8001894410727339], [-0.6331853071797067, 0.8061468052646443], [-0.6231853071797069, 0.8120235554478151], [-0.6131853071797071, 0.8178191039521251], [-0.6031853071797073, 0.8235328712275536], [-0.5931853071797075, 0.8291642859021344], [-0.5831853071797077, 0.834712784839093], [-0.573185307179708, 0.8401778131931592], [-0.5631853071797082, 0.845558824466052], [-0.5531853071797084, 0.8508552805611282], [-0.5431853071797086, 0.8560666518371921], [-0.5331853071797088, 0.8611924171614587], [-0.523185307179709, 0.8662320639616671], [-0.5131853071797092, 0.871185088277337], [-0.5031853071797094, 0.8760509948101644], [-0.49318530717970965, 0.8808292969735507], [-0.48318530717970987, 0.8855195169412616], [-0.4731853071797101, 0.890121185695209], [-0.4631853071797103, 0.894633843072352], [-0.4531853071797105, 0.8990570378107136], [-0.4431853071797107, 0.9033903275945057], [-0.43318530717971093, 0.9076332790983611], [-0.42318530717971115, 0.9117854680306652], [-0.41318530717971136, 0.915846479175985], [-0.40318530717971157, 0.9198159064365901], [-0.3931853071797118, 0.9236933528730621], [-0.383185307179712, 0.9274784307439888], [-0.3731853071797122, 0.9311707615447372], [-0.3631853071797124, 0.9347699760453042], [-0.35318530717971264, 0.938275714327239], [-0.34318530717971285, 0.9416876258196349], [-0.33318530717971306, 0.945005369334186], [-0.3231853071797133, 0.9482286130993055], [-0.3131853071797135, 0.9513570347933029], [-0.3031853071797137, 0.954390321576616], [-0.2931853071797139, 0.9573281701230939], [-0.28318530717971413, 0.9601702866503303], [-0.27318530717971434, 0.962916386949041], [-0.26318530717971456, 0.9655661964114844], [-0.25318530717971477, 0.9681194500589225], [-0.24318530717971498, 0.9705758925681183], [-0.2331853071797152, 0.9729352782968678], [-0.2231853071797154, 0.9751973713085642], [-0.21318530717971562, 0.9773619453957916], [-0.20318530717971583, 0.979428784102945], [-0.19318530717971605, 0.981397680747876], [-0.18318530717971626, 0.983268438442561], [-0.17318530717971647, 0.9850408701127893], [-0.1631853071797167, 0.9867147985168709], [-0.1531853071797169, 0.9882900562633605], [-0.14318530717971711, 0.9897664858277961], [-0.13318530717971733, 0.9911439395684516], [-0.12318530717971754, 0.9924222797411006], [-0.11318530717971775, 0.9936013785127915], [-0.10318530717971797, 0.9946811179746294], [-0.09318530717971818, 0.9956613901535681], [-0.08318530717971839, 0.9965420970232065], [-0.0731853071797186, 0.9973231505135915], [-0.06318530717971882, 0.9980044725200251], [-0.05318530717971903, 0.9985859949108742], [-0.043185307179719246, 0.9990676595343845], [-0.03318530717971946, 0.999449418224495], [-0.023185307179719672, 0.9997312328056548], [-0.013185307179719885, 0.9999130750966405], [-0.0031853071797200982, 0.9999949269133748], [0.006814692820279689, 0.999976780070744], [0.016814692820279475, 0.9998586363834174], [0.026814692820279262, 0.9996405076656651], [0.03681469282027905, 0.9993224157301774], [0.046814692820278836, 0.9989043923858825], [0.05681469282027862, 0.9983864794347665], [0.06681469282027841, 0.9977687286676931], [0.0768146928202782, 0.997051201859224], [0.08681469282027798, 0.9962339707614424], [0.09681469282027777, 0.9953171170967766], [0.10681469282027756, 0.9943007325498295], [0.11681469282027734, 0.9931849187582086], [0.12681469282027713, 0.9919697873023631], [0.13681469282027692, 0.9906554596944261], [0.1468146928202767, 0.9892420673660632], [0.1568146928202765, 0.9877297516553294], [0.16681469282027628, 0.9861186637925353], [0.17681469282027606, 0.9844089648851249], [0.18681469282027585, 0.982600825901564], [0.19681469282027564, 0.9806944276542442], [0.20681469282027543, 0.9786899607814017], [0.2168146928202752, 0.9765876257280532], [0.226814692820275, 0.9743876327259523], [0.23681469282027479, 0.9720902017725658], [0.24681469282027457, 0.9696955626090745], [0.25681469282027436, 0.9672039546973992], [0.26681469282027415, 0.9646156271962548], [0.27681469282027393, 0.9619308389362344], [0.2868146928202737, 0.9591498583939269], [0.2968146928202735, 0.9562729636650688], [0.3068146928202733, 0.9533004424367356], [0.3168146928202731, 0.9502325919585732], [0.32681469282027287, 0.9470697190130728], [0.33681469282027265, 0.9438121398848932], [0.34681469282027244, 0.9404601803292326], [0.35681469282027223, 0.9370141755392534], [0.366814692820272, 0.9334744701125627], [0.3768146928202718, 0.9298414180167536], [0.3868146928202716, 0.926115382554008], [0.3968146928202714, 0.9222967363247674], [0.40681469282027116, 0.9183858611904723], [0.41681469282027095, 0.9143831482353771], [0.42681469282027074, 0.9102889977274419], [0.4368146928202705, 0.9061038190783055], [0.4468146928202703, 0.9018280308023454], [0.4568146928202701, 0.8974620604748258], [0.4668146928202699, 0.8930063446891413], [0.47681469282026967, 0.8884613290131574], [0.48681469282026946, 0.8838274679446542], [0.49681469282026924, 0.8791052248658768], [0.506814692820269, 0.8742950719971982], [0.5168146928202688, 0.8693974903498967], [0.5268146928202686, 0.8644129696780556], [0.5368146928202684, 0.8593420084295885], [0.5468146928202682, 0.8541851136963945], [0.556814692820268, 0.8489428011636493], [0.5668146928202678, 0.8436155950582377], [0.5768146928202675, 0.838204028096331], [0.5868146928202673, 0.8327086414301156], [0.5968146928202671, 0.8271299845936788], [0.6068146928202669, 0.8214686154480554], [0.6168146928202667, 0.815725100125442], [0.6268146928202665, 0.8099000129725847], [0.6368146928202663, 0.8039939364933447], [0.646814692820266, 0.798007461290448], [0.6568146928202658, 0.7919411860064263], [0.6668146928202656, 0.7857957172637526], [0.6768146928202654, 0.7795716696041802], [0.6868146928202652, 0.7732696654272884], [0.696814692820265, 0.766890334928243], [0.7068146928202648, 0.7604343160347778], [0.7168146928202646, 0.7539022543434025], [0.7268146928202643, 0.7472948030548425], [0.7368146928202641, 0.7406126229087208], [0.7468146928202639, 0.7338563821174832], [0.7568146928202637, 0.7270267562995788], [0.7668146928202635, 0.720124428411898], [0.7768146928202633, 0.7131500886814779], [0.7868146928202631, 0.7061044345364793], [0.7968146928202628, 0.6989881705364455], [0.8068146928202626, 0.6918020083018462], [0.8168146928202624, 0.6845466664429165], [0.8268146928202622, 0.6772228704877962], [0.836814692820262, 0.6698313528099775], [0.8468146928202618, 0.6623728525550688], [0.8568146928202616, 0.6548481155668803], [0.8668146928202614, 0.6472578943128399], [0.8768146928202611, 0.6396029478087479], [0.8868146928202609, 0.6318840415428759], [0.8968146928202607, 0.6241019473994178], [0.9068146928202605, 0.6162574435813031], [0.9168146928202603, 0.6083513145323763], [0.9268146928202601, 0.600384350858954], [0.9368146928202599, 0.5923573492507646], [0.9468146928202597, 0.5842711124012794], [0.9568146928202594, 0.5761264489274451], [0.9668146928202592, 0.5679241732888218], [0.976814692820259, 0.5596651057061383], [0.9868146928202588, 0.5513500720792702], [0.9968146928202586, 0.542979903904651], [1.0068146928202584, 0.534555438192123], [1.0168146928202582, 0.5260775173812373], [1.026814692820258, 0.5175469892570099], [1.0368146928202577, 0.5089647068651445], [1.0468146928202575, 0.5003315284267285], [1.0568146928202573, 0.4916483172524113], [1.066814692820257, 0.4829159416560745], [1.0768146928202569, 0.47413527486800067], [1.0868146928202567, 0.46530719494755146], [1.0968146928202565, 0.4564325846953622], [1.1068146928202562, 0.4475123315650626], [1.116814692820256, 0.4385473275745322], [1.1268146928202558, 0.42953846921669925], [1.1368146928202556, 0.42048665736989216], [1.1468146928202554, 0.41139279720775246], [1.1568146928202552, 0.40225779810871815], [1.166814692820255, 0.39308257356508675], [1.1768146928202547, 0.3838680410916665], [1.1868146928202545, 0.3746151221340261], [1.1968146928202543, 0.3653247419763505], [1.206814692820254, 0.3559978296489135], [1.216814692820254, 0.34663531783517554], [1.2268146928202537, 0.3372381427785158], [1.2368146928202535, 0.3278072441886091], [1.2468146928202533, 0.3183435651474554], [1.256814692820253, 0.3088480520150723], [1.2668146928202528, 0.29932165433486024], [1.2768146928202526, 0.2897653247386485], [1.2868146928202524, 0.2801800188514333], [1.2968146928202522, 0.2705666951958155], [1.306814692820252, 0.2609263150961496], [1.3168146928202518, 0.25125984258241196], [1.3268146928202516, 0.24156824429379858], [1.3368146928202513, 0.23185248938206202], [1.3468146928202511, 0.22211354941459702], [1.356814692820251, 0.21235239827728455], [1.3668146928202507, 0.20257001207710412], [1.3768146928202505, 0.19276736904452377], [1.3868146928202503, 0.1829454494356779], [1.39681469282025, 0.17310523543434247], [1.4068146928202498, 0.1632477110537175], [1.4168146928202496, 0.15337386203802647], [1.4268146928202494, 0.14348467576394278], [1.4368146928202492, 0.13358114114185285], [1.446814692820249, 0.12366424851696596], [1.4568146928202488, 0.1137349895702806], [1.4668146928202486, 0.10379435721941703], [1.4768146928202484, 0.09384334551932655], [1.4868146928202481, 0.08388294956288665], [1.496814692820248, 0.0739141653813927], [1.5068146928202477, 0.06393798984495554], [1.5168146928202475, 0.053955420562815354], [1.5268146928202473, 0.04396745578358159], [1.536814692820247, 0.0339750942954089], [1.5468146928202469, 0.02397933532611915], [1.5568146928202466, 0.013981178443279504], [1.5668146928202464, 0.00398162345424647], [1.5768146928202462, -0.006018329693813979], [1.586814692820246, -0.016017681013920305], [1.5968146928202458, -0.02601543057927326], [1.6068146928202456, -0.036010578623247746], [1.6168146928202454, -0.04600212563936862], [1.6268146928202452, -0.05598907248126053], [1.636814692820245, -0.06597042046256173], [1.6468146928202447, -0.07594517145679183], [1.6568146928202445, -0.08591232799716368], [1.6668146928202443, -0.0958708933763292], [1.676814692820244, -0.10581987174604922], [1.6868146928202439, -0.11575826821677757], [1.6968146928202437, -0.12568508895714914], [1.7068146928202435, -0.13559934129336224], [1.7168146928202432, -0.14550003380844506], [1.726814692820243, -0.15538617644139666], [1.7368146928202428, -0.16525678058619217], [1.7468146928202426, -0.1751108591906426], [1.7568146928202424, -0.18494742685509918], [1.7668146928202422, -0.1947654999309926], [1.776814692820242, -0.20456409661919697], [1.7868146928202417, -0.2143422370682089], [1.7968146928202415, -0.224098943472132], [1.8068146928202413, -0.23383324016845633], [1.816814692820241, -0.24354415373562424], [1.826814692820241, -0.2532307130903714], [1.8368146928202407, -0.2628919495848343], [1.8468146928202405, -0.2725268971034147], [1.8568146928202403, -0.28213459215938974], [1.86681469282024, -0.2917140739912602], [1.8768146928202398, -0.3012643846588258], [1.8868146928202396, -0.3107845691389784], [1.8968146928202394, -0.3202736754212033], [1.9068146928202392, -0.32973075460277995], [1.916814692820239, -0.339154860983671], [1.9268146928202388, -0.34854505216109183], [1.9368146928202385, -0.3579003891237498], [1.9468146928202383, -0.3672199363457447], [1.9568146928202381, -0.3765027618801206], [1.966814692820238, -0.3857479374520598], [1.9768146928202377, -0.3949545385517093], [1.9868146928202375, -0.40412164452663135], [1.9968146928202373, -0.4132483386738676], [2.006814692820237, -0.422333708331609], [2.016814692820237, -0.4313768449704608], [2.0268146928202366, -0.440376844284295], [2.0368146928202364, -0.44933280628068034], [2.046814692820236, -0.4582438353708803], [2.056814692820236, -0.4671090404594118], [2.0668146928202358, -0.4759275350331536], [2.0768146928202356, -0.48469843724999706], [2.0868146928202354, -0.49342087002702956], [2.096814692820235, -0.502093961128242], [2.106814692820235, -0.5107168432517518], [2.1168146928202347, -0.5192886541165325], [2.1268146928202345, -0.5278085365486406], [2.1368146928202343, -0.5362756385669328], [2.146814692820234, -0.5446891134682632], [2.156814692820234, -0.5530481199121529], [2.1668146928202336, -0.5613518220049232], [2.1768146928202334, -0.5695993893832847], [2.186814692820233, -0.5777899972973723], [2.196814692820233, -0.5859228266932205], [2.206814692820233, -0.5939970642946666], [2.2168146928202326, -0.6020119026846791], [2.2268146928202324, -0.6099665403860981], [2.236814692820232, -0.6178601819417823], [2.246814692820232, -0.6256920379941541], [2.2568146928202317, -0.6334613253641347], [2.2668146928202315, -0.6411672671294616], [2.2768146928202313, -0.6488090927023799], [2.286814692820231, -0.6563860379067002], [2.296814692820231, -0.6638973450542166], [2.3068146928202307, -0.6713422630204734], [2.3168146928202304, -0.6787200473198782], [2.3268146928202302, -0.6860299601801493], [2.33681469282023, -0.693271270616092], [2.34681469282023, -0.7004432545026972], [2.3568146928202296, -0.7075451946475529], [2.3668146928202294, -0.7145763808625629], [2.376814692820229, -0.721536110034965], [2.386814692820229, -0.7284236861976416], [2.3968146928202287, -0.7352384205987162], [2.4068146928202285, -0.7419796317704277], [2.4168146928202283, -0.7486466455972763], [2.426814692820228, -0.7552387953834354], [2.436814692820228, -0.7617554219194197], [2.4468146928202277, -0.7681958735480061], [2.4568146928202275, -0.7745595062293988], [2.4668146928202273, -0.7808456836056328], [2.476814692820227, -0.7870537770642086], [2.486814692820227, -0.793183165800954], [2.4968146928202266, -0.7992332368821032], [2.5068146928202264, -0.8052033853055895], [2.516814692820226, -0.811093014061546], [2.526814692820226, -0.8169015341920048], [2.5368146928202258, -0.8226283648497935], [2.5468146928202255, -0.8282729333566186], [2.5568146928202253, -0.8338346752603331], [2.566814692820225, -0.8393130343913815], [2.576814692820225, -0.8447074629184159], [2.5868146928202247, -0.8500174214030791], [2.5968146928202245, -0.8552423788539475], [2.6068146928202243, -0.8603818127796301], [2.616814692820224, -0.8654352092410171], [2.626814692820224, -0.8704020629026737], [2.6368146928202236, -0.8752818770833727], [2.6468146928202234, -0.8800741638057624], [2.656814692820223, -0.8847784438451642], [2.666814692820223, -0.8893942467774946], [2.6768146928202228, -0.8939211110263064], [2.6868146928202226, -0.8983585839089475], [2.6968146928202223, -0.9027062216818273], [2.706814692820222, -0.9069635895847917], [2.716814692820222, -0.911130261884598], [2.7268146928202217, -0.9152058219174886], [2.7368146928202215, -0.9191898621308564], [2.7468146928202213, -0.9230819841240001], [2.756814692820221, -0.9268817986879638], [2.766814692820221, -0.9305889258444577], [2.7768146928202206, -0.9342029948838553], [2.7868146928202204, -0.9377236444022644], [2.79681469282022, -0.9411505223376672], [2.80681469282022, -0.9444832860051255], [2.81681469282022, -0.9477216021310502], [2.8268146928202196, -0.9508651468865271], [2.8368146928202194, -0.9539136059197004], [2.846814692820219, -0.9568666743872071], [2.856814692820219, -0.9597240569846612], [2.8668146928202187, -0.9624854679761844], [2.8768146928202185, -0.9651506312229784], [2.8868146928202183, -0.9677192802109397], [2.896814692820218, -0.9701911580773099], [2.906814692820218, -0.9725660176363623], [2.9168146928202177, -0.9748436214041201], [2.9268146928202174, -0.9770237416221045], [2.9368146928202172, -0.9791061602801103], [2.946814692820217, -0.9810906691380072], [2.956814692820217, -0.9829770697465632], [2.9668146928202166, -0.9847651734672894], [2.9768146928202164, -0.9864548014913037], [2.986814692820216, -0.9880457848572118], [2.996814692820216, -0.989537964468003], [3.0068146928202157, -0.9909311911069596], [3.0168146928202155, -0.9922253254525788], [3.0268146928202153, -0.9934202380925043], [3.036814692820215, -0.9945158095364681], [3.046814692820215, -0.9955119302282386], [3.0568146928202147, -0.9964085005565768], [3.0668146928202145, -0.9972054308651971], [3.0768146928202142, -0.9979026414617326], [3.086814692820214, -0.9985000626257046], [3.096814692820214, -0.9989976346154947], [3.1068146928202136, -0.9993953076743185], [3.1168146928202134, -0.9996930420352015], [3.126814692820213, -0.9998908079249558], [3.136814692820213, -0.9999885855671571], [3.1468146928202128, -0.9999863651841228], [3.1568146928202125, -0.9998841469978893], [3.1668146928202123, -0.9996819412301899], [3.176814692820212, -0.9993797681014331], [3.186814692820212, -0.9989776578286799], [3.1968146928202117, -0.9984756506226223], [3.2068146928202115, -0.9978737966835628], [3.2168146928202113, -0.9971721561963937], [3.226814692820211, -0.996370799324579], [3.236814692820211, -0.995469806203138], [3.2468146928202106, -0.9944692669306321], [3.2568146928202104, -0.9933692815601548], [3.26681469282021, -0.9921699600893265], [3.27681469282021, -0.9908714224492947], [3.2868146928202098, -0.9894737984927415], [3.2968146928202096, -0.9879772279808978], [3.3068146928202093, -0.9863818605695676], [3.316814692820209, -0.9846878557941625], [3.326814692820209, -0.9828953830537486], [3.3368146928202087, -0.9810046215941061], [3.3468146928202085, -0.9790157604898052], [3.3568146928202083, -0.9769289986252991], [3.366814692820208, -0.9747445446750352], [3.376814692820208, -0.9724626170825884], [3.3868146928202076, -0.9700834440388161], [3.3968146928202074, -0.96760726345904], [3.406814692820207, -0.9650343229592547], [3.416814692820207, -0.9623648798313662], [3.426814692820207, -0.9595992010174625], [3.4368146928202066, -0.9567375630831204], [3.4468146928202064, -0.9537802521897487], [3.456814692820206, -0.9507275640659723], [3.466814692820206, -0.9475798039780595], [3.4768146928202057, -0.9443372866993962], [3.4868146928202055, -0.941000336479008], [3.4968146928202053, -0.9375692870091363], [3.506814692820205, -0.9340444813918688], [3.516814692820205, -0.93042627210483], [3.5268146928202047, -0.9267150209659333], [3.5368146928202044, -0.9229110990971999], [3.5468146928202042, -0.9190148868876469], [3.556814692820204, -0.9150267739552482], [3.566814692820204, -0.9109471591079739], [3.5768146928202036, -0.9067764503039089], [3.5868146928202034, -0.9025150646104579], [3.596814692820203, -0.8981634281626394], [3.606814692820203, -0.8937219761204716], [3.6168146928202027, -0.8891911526254574], [3.6268146928202025, -0.8845714107561711], [3.6368146928202023, -0.8798632124829494], [3.646814692820202, -0.8750670286216964], [3.656814692820202, -0.8701833387868013], [3.6668146928202017, -0.8652126313431778], [3.6768146928202015, -0.8601554033574282], [3.6868146928202012, -0.8550121605481367], [3.696814692820201, -0.849783417235298], [3.706814692820201, -0.8444696962888865], [3.7168146928202006, -0.8390715290765682], [3.7268146928202004, -0.8335894554105664], [3.7368146928202, -0.8280240234936791], [3.7468146928202, -0.8223757898644601], [3.7568146928201998, -0.8166453193415656], [3.7668146928201995, -0.8108331849672723], [3.7768146928201993, -0.8049399679501745], [3.786814692820199, -0.7989662576070626], [3.796814692820199, -0.7929126513039931], [3.8068146928201987, -0.7867797543965516], [3.8168146928201985, -0.780568180169318], [3.8268146928201983, -0.7742785497745387], [3.836814692820198, -0.767911492170012], [3.846814692820198, -0.7614676440561925], [3.8568146928201976, -0.7549476498125215], [3.8668146928201974, -0.7483521614329902], [3.876814692820197, -0.7416818384609404], [3.886814692820197, -0.7349373479231106], [3.8968146928201968, -0.7281193642629342], [3.9068146928201966, -0.7212285692730958], [3.9168146928201963, -0.7142656520273517], [3.926814692820196, -0.7072313088116243], [3.936814692820196, -0.7001262430543733], [3.9468146928201957, -0.6929511652562534], [3.9568146928201955, -0.6857067929190652], [3.9668146928201953, -0.6783938504740057], [3.976814692820195, -0.671013069209225], [3.986814692820195, -0.663565187196699], [3.9968146928201946, -0.6560509492184226], [4.006814692820194, -0.6484711066919315], [4.016814692820194, -0.6408264175951622], [4.026814692820194, -0.6331176463906535], [4.036814692820194, -0.6253455639491021], [4.046814692820194, -0.6175109474722753], [4.056814692820193, -0.609614580415292], [4.066814692820193, -0.6016572524082777], [4.076814692820193, -0.5936397591774019], [4.086814692820193, -0.5855629024653065], [4.0968146928201925, -0.5774274899509321], [4.106814692820192, -0.5692343351687504], [4.116814692820192, -0.5609842574274124], [4.126814692820192, -0.5526780817278169], [4.136814692820192, -0.5443166386806122], [4.146814692820191, -0.5359007644231351], [4.156814692820191, -0.5274313005357981], [4.166814692820191, -0.5189090939579322], [4.176814692820191, -0.5103349969030933], [4.186814692820191, -0.5017098667738419], [4.19681469282019, -0.49303456607600316], [4.20681469282019, -0.4843099623324177], [4.21681469282019, -0.47553692799618924], [4.22681469282019, -0.4667163403634406], [4.2368146928201895, -0.4578490814855846], [4.246814692820189, -0.44893603808111976], [4.256814692820189, -0.43997810144695887], [4.266814692820189, -0.43097616736930044], [4.276814692820189, -0.42193113603405075], [4.2868146928201885, -0.41284391193680575], [4.296814692820188, -0.4037154037924025], [4.306814692820188, -0.3945465244440484], [4.316814692820188, -0.3853381907720376], [4.326814692820188, -0.37609132360206365], [4.336814692820187, -0.3668068476131379], [4.346814692820187, -0.3574856912451222], [4.356814692820187, -0.34812878660588575], [4.366814692820187, -0.33873706937809506], [4.3768146928201865, -0.3293114787256465], [4.386814692820186, -0.3198529571997507], [4.396814692820186, -0.31036245064467816], [4.406814692820186, -0.30084090810317565], [4.416814692820186, -0.2912892817215628], [4.4268146928201855, -0.281708526654518], [4.436814692820185, -0.2720996009695641], [4.446814692820185, -0.26246346555126215], [4.456814692820185, -0.2528010840051239], [4.466814692820185, -0.24311342256125204], [4.476814692820184, -0.23340144997771786], [4.486814692820184, -0.22366613744368646], [4.496814692820184, -0.21390845848229856], [4.506814692820184, -0.20412938885331885], [4.5168146928201836, -0.19432990645556109], [4.526814692820183, -0.1845109912290988], [4.536814692820183, -0.17467362505727227], [4.546814692820183, -0.16481879166850086], [4.556814692820183, -0.15494747653791116], [4.5668146928201825, -0.14506066678879012], [4.576814692820182, -0.1351593510938737], [4.586814692820182, -0.12524451957648028], [4.596814692820182, -0.11531716371149933], [4.606814692820182, -0.10537827622624453], [4.616814692820181, -0.09542885100118205], [4.626814692820181, -0.08546988297054324], [4.636814692820181, -0.07550236802283203], [4.646814692820181, -0.06552730290123696], [4.656814692820181, -0.05554568510395768], [4.66681469282018, -0.04555851278445592], [4.67681469282018, -0.035566784651641016], [4.68681469282018, -0.025571499869999834], [4.69681469282018, -0.015573657959681164], [4.7068146928201795, -0.0055742586965445325], [4.716814692820179, 0.0044256979878165535], [4.726814692820179, 0.014425212106066928], [4.736814692820179, 0.024423283715127666], [4.746814692820179, 0.03441891301616956], [4.756814692820178, 0.044411100454592164], [4.766814692820178, 0.05439884681997844], [4.776814692820178, 0.06438115334601494], [4.786814692820178, 0.07435702181036762], [4.796814692820178, 0.08432545463450325], [4.806814692820177, 0.0942854549834464], [4.816814692820177, 0.10423602686546216], [4.826814692820177, 0.11417617523165444], [4.836814692820177, 0.12410490607547003], [4.8468146928201765, 0.1340212265320985], [4.856814692820176, 0.14392414497775777], [4.866814692820176, 0.1538126711288556], [4.876814692820176, 0.16368581614101738], [4.886814692820176, 0.17354259270796946], [4.8968146928201755, 0.18338201516026906], [4.906814692820175, 0.1932030995638705], [4.916814692820175, 0.20300486381851757], [4.926814692820175, 0.21278632775595296], [4.936814692820175, 0.2225465132379341], [4.946814692820174, 0.23228444425404626], [4.956814692820174, 0.24199914701930272], [4.966814692820174, 0.25168965007152255], [4.976814692820174, 0.26135498436847593], [4.9868146928201735, 0.27099418338478753], [4.996814692820173, 0.2806062832085884], [5.006814692820173, 0.2901903226379062], [5.016814692820173, 0.29974534327678465], [5.026814692820173, 0.3092703896311224], [5.0368146928201725, 0.3187645092042215], [5.046814692820172, 0.3282267525920364], [5.056814692820172, 0.33765617357811345], [5.066814692820172, 0.3470518292282119], [5.076814692820172, 0.3564127799845965], [5.086814692820171, 0.36573808975999217], [5.096814692820171, 0.37502682603119264], [5.106814692820171, 0.3842780599323113], [5.116814692820171, 0.3934908663476674], [5.1268146928201705, 0.4026643240042967], [5.13681469282017, 0.411797515564078], [5.14681469282017, 0.4208895277154664], [5.15681469282017, 0.4299394512648233], [5.16681469282017, 0.4389463812273355], [5.1768146928201695, 0.4479094169175123], [5.186814692820169, 0.456827662039254], [5.196814692820169, 0.46570022477548023], [5.206814692820169, 0.47452621787731114], [5.216814692820169, 0.4833047587527915], [5.226814692820168, 0.4920349695551492], [5.236814692820168, 0.5007159772705791], [5.246814692820168, 0.5093469138055441], [5.256814692820168, 0.5179269160735827], [5.266814692820168, 0.5264551260816183], [5.276814692820167, 0.5349306910157569], [5.286814692820167, 0.543352763326568], [5.296814692820167, 0.5517205008138389], [5.306814692820167, 0.560033066710794], [5.3168146928201665, 0.5682896297677706], [5.326814692820166, 0.5764893643353437], [5.336814692820166, 0.5846314504468894], [5.346814692820166, 0.5927150739005815], [5.356814692820166, 0.6007394263408113], [5.366814692820165, 0.6087037053390216], [5.376814692820165, 0.6166071144739493], [5.386814692820165, 0.6244488634112672], [5.396814692820165, 0.6322281679826163], [5.406814692820165, 0.639944250264022], [5.416814692820164, 0.6475963386536866], [5.426814692820164, 0.6551836679491476], [5.436814692820164, 0.6627054794237983], [5.446814692820164, 0.6701610209027593], [5.4568146928201635, 0.6775495468380957], [5.466814692820163, 0.684870318383371], [5.476814692820163, 0.6921226034675314], [5.486814692820163, 0.6993056768681118], [5.496814692820163, 0.7064188202837584], [5.5068146928201624, 0.7134613224060569], [5.516814692820162, 0.720432478990664], [5.526814692820162, 0.7273315929277303], [5.536814692820162, 0.7341579743116116], [5.546814692820162, 0.7409109405098578], [5.556814692820161, 0.747589816231477], [5.566814692820161, 0.7541939335944624], [5.576814692820161, 0.7607226321925812], [5.586814692820161, 0.7671752591614142], [5.5968146928201605, 0.7735511692436415], [5.60681469282016, 0.7798497248535684], [5.61681469282016, 0.7860702961408825], [5.62681469282016, 0.792212261053639], [5.63681469282016, 0.7982750054004647], [5.6468146928201595, 0.8042579229119773], [5.656814692820159, 0.8101604153014115], [5.666814692820159, 0.815981892324447], [5.676814692820159, 0.8217217718382326], [5.686814692820159, 0.8273794798596003], [5.696814692820158, 0.8329544506224626], [5.706814692820158, 0.8384461266343891], [5.716814692820158, 0.843853958732355], [5.726814692820158, 0.8491774061376569], [5.7368146928201575, 0.8544159365099905], [5.746814692820157, 0.859569026000684], [5.756814692820157, 0.8646361593050826], [5.766814692820157, 0.8696168297140784], [5.776814692820157, 0.8745105391647812], [5.7868146928201565, 0.8793167982903237], [5.796814692820156, 0.8840351264687988], [5.806814692820156, 0.8886650518713205], [5.816814692820156, 0.8932061115092068], [5.826814692820156, 0.8976578512802782], [5.836814692820155, 0.9020198260142672], [5.846814692820155, 0.9062915995173355], [5.856814692820155, 0.9104727446156926], [5.866814692820155, 0.9145628431983128], [5.876814692820155, 0.9185614862587463], [5.886814692820154, 0.9224682739360195], [5.896814692820154, 0.9262828155546199], [5.906814692820154, 0.9300047296635647], [5.916814692820154, 0.9336336440745445], [5.9268146928201535, 0.9371691958991423], [5.936814692820153, 0.9406110315851218], [5.946814692820153, 0.9439588069517828], [5.956814692820153, 0.9472121872243784], [5.966814692820153, 0.9503708470675923], [5.976814692820152, 0.9534344706180726], [5.986814692820152, 0.9564027515160172], [5.996814692820152, 0.9592753929358098], [6.006814692820152, 0.9620521076157023], [6.016814692820152, 0.9647326178865406], [6.026814692820151, 0.9673166556995315], [6.036814692820151, 0.969803962653047], [6.046814692820151, 0.9721942900184644], [6.056814692820151, 0.9744873987650392], [6.0668146928201505, 0.9766830595838076], [6.07681469282015, 0.9787810529105175], [6.08681469282015, 0.9807811689475845], [6.09681469282015, 0.9826832076850717], [6.10681469282015, 0.9844869789206903], [6.1168146928201494, 0.9861923022788198], [6.126814692820149, 0.9877990072285457], [6.136814692820149, 0.9893069331007119], [6.146814692820149, 0.9907159291039878], [6.156814692820149, 0.9920258543399469], [6.166814692820148, 0.9932365778171577], [6.176814692820148, 0.994347978464281], [6.186814692820148, 0.9953599451421786], [6.196814692820148, 0.9962723766550258], [6.2068146928201475, 0.9970851817604316], [6.216814692820147, 0.997798279178563], [6.226814692820147, 0.9984115976002723], [6.236814692820147, 0.9989250756942285], [6.246814692820147, 0.9993386621130501], [6.2568146928201465, 0.9996523154984398], [6.266814692820146, 0.9998660044853205], [6.276814692820146, 0.9999797077049716]], \"data01\": [[-6.283185307179586, 1.0], [-6.183185307179587, 0.9950041652780258], [-6.083185307179587, 0.9800665778412417], [-5.983185307179587, 0.9553364891256063], [-5.883185307179588, 0.9210609940028855], [-5.783185307179588, 0.8775825618903734], [-5.683185307179588, 0.8253356149096793], [-5.583185307179589, 0.7648421872844898], [-5.483185307179589, 0.6967067093471673], [-5.383185307179589, 0.6216099682706667], [-5.28318530717959, 0.5403023058681425], [-5.18318530717959, 0.45359612142558065], [-5.0831853071795905, 0.36235775447667734], [-4.983185307179591, 0.2674988286245916], [-4.883185307179591, 0.1699671429002456], [-4.783185307179592, 0.07073720166770799], [-4.683185307179592, -0.02919952230128329], [-4.583185307179592, -0.12884449429551895], [-4.483185307179593, -0.22720209469308106], [-4.383185307179593, -0.32328956686349725], [-4.283185307179593, -0.41614683654713613], [-4.183185307179594, -0.5048461045998512], [-4.083185307179594, -0.5885011172553396], [-3.9831853071795944, -0.6662760212798183], [-3.8831853071795948, -0.7373937155412399], [-3.783185307179595, -0.8011436155469286], [-3.6831853071795955, -0.8568887533689425], [-3.583185307179596, -0.9040721420170571], [-3.483185307179596, -0.942222340668655], [-3.3831853071795965, -0.9709581651495881], [-3.283185307179597, -0.989992496600444], [-3.1831853071795972, -0.999135150273279], [-3.0831853071795976, -0.9982947757947538], [-2.983185307179598, -0.9874797699088667], [-2.8831853071795983, -0.9667981925794641], [-2.7831853071795987, -0.9364566872908006], [-2.683185307179599, -0.8967584163341525], [-2.5831853071795994, -0.848100031710415], [-2.4831853071795997, -0.7909677119144248], [-2.3831853071796, -0.7259323042001495], [-2.2831853071796004, -0.6536436208636225], [-2.183185307179601, -0.5748239465332806], [-2.083185307179601, -0.49026082134071236], [-1.9831853071796015, -0.40079917207998905], [-1.8831853071796019, -0.30733286997843434], [-1.7831853071796022, -0.2107957994307951], [-1.6831853071796026, -0.11215252693507051], [-1.583185307179603, -0.01238866346290719], [-1.4831853071796033, 0.08749898343942983], [-1.3831853071796036, 0.18651236942255855], [-1.283185307179604, 0.2836621854632095], [-1.1831853071796044, 0.377977742712964], [-1.0831853071796047, 0.46851667130036084], [-0.9831853071796051, 0.5543743361791454], [-0.8831853071796054, 0.6346928759426197], [-0.7831853071796058, 0.7086697742912463], [-0.6831853071796061, 0.7755658785102374], [-0.5831853071796065, 0.8347127848391487], [-0.48318530717960684, 0.8855195169413096], [-0.3831853071796072, 0.927478430744028], [-0.28318530717960755, 0.9601702866503601], [-0.1831853071796079, 0.9832684384425807], [-0.08318530717960826, 0.9965420970232156], [0.016814692820391386, 0.9998586363834155], [0.11681469282039103, 0.9931849187581953], [0.21681469282039068, 0.9765876257280284], [0.3168146928203903, 0.9502325919585367], [0.41681469282038996, 0.914383148235329], [0.5168146928203896, 0.869397490349837], [0.6168146928203893, 0.8157251001253711], [0.7168146928203889, 0.7539022543433208], [0.8168146928203885, 0.6845466664428246], [0.9168146928203882, 0.6083513145322748], [1.0168146928203878, 0.5260775173811271], [1.1168146928203875, 0.43854732757441406], [1.2168146928203871, 0.3466353178350506], [1.3168146928203868, 0.2512598425822813], [1.4168146928203864, 0.15337386203789133], [1.516814692820386, 0.053955420562677], [1.6168146928203857, -0.046002125639508805], [1.7168146928203853, -0.14550003380858564], [1.816814692820385, -0.2435441537357638], [1.9168146928203846, -0.33915486098380804], [2.0168146928203843, -0.4313768449705938], [2.116814692820384, -0.51928865411666], [2.2168146928203836, -0.6020119026847996], [2.316814692820383, -0.6787200473199905], [2.416814692820383, -0.7486466455973788], [2.5168146928203825, -0.8110930140616375], [2.616814692820382, -0.8654352092410963], [2.716814692820382, -0.911130261884664], [2.8168146928203814, -0.9477216021311018], [2.916814692820381, -0.9748436214041565], [3.0168146928203807, -0.9922253254525993], [3.1168146928203804, -0.9996930420352057], [3.21681469282038, -0.997172156196381], [3.3168146928203797, -0.9846878557941328], [3.4168146928203793, -0.9623648798313194], [3.516814692820379, -0.9304262721047661], [3.6168146928203786, -0.8891911526253771], [3.7168146928203782, -0.8390715290764716], [3.816814692820378, -0.7805681801692058], [3.9168146928203775, -0.7142656520272249], [4.016814692820377, -0.6408264175950218], [4.116814692820377, -0.5609842574272594], [4.2168146928203765, -0.47553692799602515], [4.316814692820376, -0.3853381907718638], [4.416814692820376, -0.29128928172138097], [4.516814692820375, -0.1943299064553729], [4.616814692820375, -0.09542885100098931], [4.716814692820375, 0.004425697988011951], [4.816814692820374, 0.10423602686565825], [4.916814692820374, 0.20300486381871238], [5.016814692820374, 0.29974534327697616], [5.116814692820373, 0.3934908663478536], [5.216814692820373, 0.48330475875297035], [5.316814692820373, 0.5682896297679402], [5.416814692820372, 0.647596338653845], [5.516814692820372, 0.7204324789908093], [5.6168146928203715, 0.7860702961410131], [5.716814692820371, 0.8438539587324694], [5.816814692820371, 0.8932061115093035], [5.91681469282037, 0.9336336440746221], [6.01681469282037, 0.9647326178865981], [6.11681469282037, 0.9861923022788563], [6.216814692820369, 0.9977982791785778]], \"data03\": [[-6.283185307179586, 1.0], [-5.283185307179586, 0.5403023058681395], [-4.283185307179586, -0.41614683654714263], [-3.2831853071795862, -0.9899924966004455], [-2.2831853071795862, -0.6536436208636117], [-1.2831853071795862, 0.2836621854632265], [-0.28318530717958623, 0.9601702866503661], [0.7168146928204138, 0.7539022543433045], [1.7168146928204138, -0.14550003380861376], [2.7168146928204138, -0.911130261884677], [3.7168146928204138, -0.8390715290764523], [4.716814692820414, 0.004425697988051031], [5.716814692820414, 0.8438539587324922]]}, \"width\": 480.0, \"height\": 320.0, \"plugins\": [{\"type\": \"reset\"}, {\"button\": true, \"type\": \"zoom\", \"enabled\": false}, {\"button\": true, \"type\": \"boxzoom\", \"enabled\": false}], \"id\": \"el140202931495692\"});\n",
       "            })\n",
       "         });\n",
       "}\n",
       "</script>"
      ],
      "text/plain": [
       "<matplotlib.figure.Figure at 0xaebb130c>"
      ]
     },
     "metadata": {},
     "output_type": "display_data"
    }
   ],
   "source": [
    "plt.figure()\n",
    "plt.plot(x1, np.cos(x1), x2, np.cos(x2), x3, np.cos(x3), x4, np.cos(x4))"
   ]
  },
  {
   "cell_type": "markdown",
   "metadata": {},
   "source": [
    "b) Grafique la función seno sobre las figuras generadas en en punto anterior, usando el mismo intervalo con los pasos correspondientes."
   ]
  },
  {
   "cell_type": "code",
   "execution_count": 108,
   "metadata": {},
   "outputs": [
    {
     "data": {
      "text/plain": [
       "[<matplotlib.lines.Line2D at 0xaeb3362c>,\n",
       " <matplotlib.lines.Line2D at 0xaeb33a2c>,\n",
       " <matplotlib.lines.Line2D at 0xaeb3694c>,\n",
       " <matplotlib.lines.Line2D at 0xaeb36dac>]"
      ]
     },
     "execution_count": 108,
     "metadata": {},
     "output_type": "execute_result"
    },
    {
     "data": {
      "image/png": "[encoded data removed]",
      "text/html": [
       "\n",
       "\n",
       "<style>\n",
       "\n",
       "</style>\n",
       "\n",
       "<div id=\"fig_el1402030082354689518720116\"></div>\n",
       "<script>\n",
       "function mpld3_load_lib(url, callback){\n",
       "  var s = document.createElement('script');\n",
       "  s.src = url;\n",
       "  s.async = true;\n",
       "  s.onreadystatechange = s.onload = callback;\n",
       "  s.onerror = function(){console.warn(\"failed to load library \" + url);};\n",
       "  document.getElementsByTagName(\"head\")[0].appendChild(s);\n",
       "}\n",
       "\n",
       "if(typeof(mpld3) !== \"undefined\" && mpld3._mpld3IsLoaded){\n",
       "   // already loaded: just create the figure\n",
       "   !function(mpld3){\n",
       "       \n",
       "       mpld3.draw_figure(\"fig_el1402030082354689518720116\", {\"axes\": [{\"axes\": [{\"tickformat\": null, \"grid\": {\"gridOn\": false}, \"position\": \"bottom\", \"scale\": \"linear\", \"fontsize\": 10.0, \"nticks\": 9, \"tickvalues\": null}, {\"tickformat\": null, \"grid\": {\"gridOn\": false}, \"position\": \"left\", \"scale\": \"linear\", \"fontsize\": 10.0, \"nticks\": 5, \"tickvalues\": null}], \"sharey\": [], \"collections\": [], \"xlim\": [-8.0, 8.0], \"images\": [], \"ylim\": [-1.0, 1.0], \"axesbg\": \"#FFFFFF\", \"paths\": [], \"id\": \"el140202930390924\", \"xscale\": \"linear\", \"yscale\": \"linear\", \"markers\": [], \"bbox\": [0.125, 0.125, 0.775, 0.775], \"sharex\": [], \"axesbgalpha\": null, \"zoomable\": true, \"texts\": [], \"ydomain\": [-1.0, 1.0], \"xdomain\": [-8.0, 8.0], \"lines\": [{\"alpha\": 1, \"data\": \"data01\", \"xindex\": 0, \"dasharray\": \"10,0\", \"color\": \"#0000FF\", \"coordinates\": \"data\", \"zorder\": 2, \"linewidth\": 1.0, \"yindex\": 1, \"id\": \"el140202930980396\"}, {\"alpha\": 1, \"data\": \"data02\", \"xindex\": 0, \"dasharray\": \"10,0\", \"color\": \"#007F00\", \"coordinates\": \"data\", \"zorder\": 2, \"linewidth\": 1.0, \"yindex\": 1, \"id\": \"el140202930981420\"}, {\"alpha\": 1, \"data\": \"data03\", \"xindex\": 0, \"dasharray\": \"10,0\", \"color\": \"#FF0000\", \"coordinates\": \"data\", \"zorder\": 2, \"linewidth\": 1.0, \"yindex\": 1, \"id\": \"el140202930993484\"}, {\"alpha\": 1, \"data\": \"data04\", \"xindex\": 0, \"dasharray\": \"10,0\", \"color\": \"#00BFBF\", \"coordinates\": \"data\", \"zorder\": 2, \"linewidth\": 1.0, \"yindex\": 1, \"id\": \"el140202930994604\"}]}], \"data\": {\"data04\": [[-6.283185307179586, 2.4492935982947064e-16], [-6.026728764029399, 0.2536545839095075], [-5.770272220879212, 0.49071755200393785], [-5.513815677729025, 0.6956825506034863], [-5.257359134578838, 0.855142763005346], [-5.00090259142865, 0.9586678530366608], [-4.744446048278463, 0.9994862162006879], [-4.487989505128276, 0.9749279121818236], [-4.231532961978089, 0.886599306373], [-3.9750764188279017, 0.7402779970753156], [-3.7186198756777147, 0.5455349012105488], [-3.462163332527527, 0.3151082180236206], [-3.20570678937734, 0.064070219980713], [-2.949250246227153, -0.1911586287013721], [-2.6927937030769655, -0.43388373911755823], [-2.4363371599267785, -0.6482283953077884], [-2.1798806167765914, -0.8201722545969558], [-1.9234240736264043, -0.9384684220497603], [-1.6669675304762173, -0.9953791129491981], [-1.4105109873260302, -0.9871817834144502], [-1.1540544441758431, -0.9144126230158127], [-0.8975979010256552, -0.7818314824680298], [-0.6411413578754681, -0.5981105304912161], [-0.38468481472528104, -0.37526700487937437], [-0.12822827157509398, -0.12787716168450639], [0.1282282715750931, 0.1278771616845055], [0.38468481472528016, 0.37526700487937353], [0.6411413578754672, 0.5981105304912153], [0.8975979010256552, 0.7818314824680298], [1.1540544441758422, 0.9144126230158124], [1.4105109873260293, 0.9871817834144501], [1.6669675304762164, 0.9953791129491982], [1.9234240736264034, 0.9384684220497606], [2.1798806167765914, 0.8201722545969558], [2.4363371599267776, 0.6482283953077891], [2.6927937030769655, 0.43388373911755823], [2.9492502462271517, 0.1911586287013734], [3.2057067893773397, -0.06407021998071255], [3.462163332527526, -0.3151082180236194], [3.718619875677714, -0.5455349012105482], [3.9750764188279, -0.7402779970753144], [4.231532961978088, -0.8865993063729997], [4.487989505128276, -0.9749279121818236], [4.744446048278462, -0.9994862162006879], [5.00090259142865, -0.9586678530366608], [5.257359134578836, -0.855142763005347], [5.513815677729024, -0.6956825506034869], [5.77027222087921, -0.4907175520039394], [6.026728764029398, -0.25365458390950835], [6.283185307179586, -2.4492935982947064e-16]], \"data02\": [[-6.283185307179586, 2.4492935982947064e-16], [-6.2731853071795864, 0.009999833334166696], [-6.263185307179587, 0.019998666693332896], [-6.253185307179587, 0.029995500202495265], [-6.243185307179587, 0.03998933418663355], [-6.233185307179587, 0.04997916927067751], [-6.2231853071795875, 0.05996400647944357], [-6.213185307179588, 0.06994284733753152], [-6.203185307179588, 0.07991469396917124], [-6.193185307179588, 0.08987854919800939], [-6.183185307179588, 0.09983341664682628], [-6.173185307179589, 0.10977830083717272], [-6.163185307179589, 0.11971220728891706], [-6.153185307179589, 0.12963414261969236], [-6.143185307179589, 0.13954311464423377], [-6.133185307179589, 0.1494381324735963], [-6.12318530717959, 0.15931820661424284], [-6.11318530717959, 0.16918234906699267], [-6.10318530717959, 0.17902957342582065], [-6.09318530717959, 0.18885889497649685], [-6.0831853071795905, 0.19866933079505728], [-6.073185307179591, 0.20845989984609542], [-6.063185307179591, 0.218229623080865], [-6.053185307179591, 0.22797752353518386], [-6.043185307179591, 0.23770262642712986], [-6.033185307179592, 0.247403959254518], [-6.023185307179592, 0.25708055189214996], [-6.013185307179592, 0.2667314366888258], [-6.003185307179592, 0.2763556485641082], [-5.993185307179592, 0.28595222510482987], [-5.983185307179593, 0.2955202066613337], [-5.973185307179593, 0.30505863644343745], [-5.963185307179593, 0.31456656061611155], [-5.953185307179593, 0.32404302839486193], [-5.9431853071795935, 0.3334870921408078], [-5.933185307179594, 0.34289780745544457], [-5.923185307179594, 0.352274233275083], [-5.913185307179594, 0.3616154319649548], [-5.903185307179594, 0.37092046941297535], [-5.8931853071795945, 0.380188415123154], [-5.883185307179595, 0.38941834230864286], [-5.873185307179595, 0.3986093279844151], [-5.863185307179595, 0.4077604530595622], [-5.853185307179595, 0.41687080242920266], [-5.843185307179596, 0.42593946506599134], [-5.833185307179596, 0.4349655341112218], [-5.823185307179596, 0.4439481069655112], [-5.813185307179596, 0.45288628537905956], [-5.8031853071795965, 0.461779175541474], [-5.793185307179597, 0.47062588817114903], [-5.783185307179597, 0.47942553860419385], [-5.773185307179597, 0.4881772468828982], [-5.763185307179597, 0.4968801378437273], [-5.7531853071795975, 0.5055333412048374], [-5.743185307179598, 0.5141359916531034], [-5.733185307179598, 0.5226872289306493], [-5.723185307179598, 0.5311861979208735], [-5.713185307179598, 0.5396320487339592], [-5.703185307179599, 0.5480239367918635], [-5.693185307179599, 0.5563610229127736], [-5.683185307179599, 0.564642473395025], [-5.673185307179599, 0.5728674601004708], [-5.6631853071795994, 0.5810351605372945], [-5.6531853071796, 0.5891447579422588], [-5.6431853071796, 0.5971954413623813], [-5.6331853071796, 0.6051864057360288], [-5.6231853071796, 0.6131168519734229], [-5.6131853071796005, 0.6209859870365487], [-5.603185307179601, 0.6287930240184574], [-5.593185307179601, 0.6365371822219568], [-5.583185307179601, 0.6442176872376798], [-5.573185307179601, 0.6518337710215254], [-5.563185307179602, 0.6593846719714618], [-5.553185307179602, 0.6668696350036865], [-5.543185307179602, 0.6742879116281336], [-5.533185307179602, 0.6816387600233227], [-5.523185307179602, 0.6889214451105398], [-5.513185307179603, 0.6961352386273452], [-5.503185307179603, 0.7032794192003985], [-5.493185307179603, 0.7103532724175962], [-5.483185307179603, 0.717356090899511], [-5.4731853071796035, 0.7242871743701308], [-5.463185307179604, 0.7311458297268841], [-5.453185307179604, 0.737931371109951], [-5.443185307179604, 0.7446431199708475], [-5.433185307179604, 0.7512804051402809], [-5.423185307179605, 0.7578425628952652], [-5.413185307179605, 0.7643289370254933], [-5.403185307179605, 0.7707388788989575], [-5.393185307179605, 0.7770717475268121], [-5.383185307179605, 0.7833269096274716], [-5.373185307179606, 0.7895037396899387], [-5.363185307179606, 0.7956016200363543], [-5.353185307179606, 0.8016199408837654], [-5.343185307179606, 0.8075581004051026], [-5.3331853071796065, 0.8134155047893621], [-5.323185307179607, 0.8191915683009867], [-5.313185307179607, 0.8248857133384385], [-5.303185307179607, 0.8304973704919589], [-5.293185307179607, 0.8360259786005091], [-5.2831853071796075, 0.8414709848078851], [-5.273185307179608, 0.8468318446180039], [-5.263185307179608, 0.8521080219493516], [-5.253185307179608, 0.8572989891885922], [-5.243185307179608, 0.8624042272433273], [-5.233185307179609, 0.8674232255940059], [-5.223185307179609, 0.8723554823449753], [-5.213185307179609, 0.8772005042746708], [-5.203185307179609, 0.8819578068849367], [-5.1931853071796095, 0.8866269144494766], [-5.18318530717961, 0.8912073600614249], [-5.17318530717961, 0.8956986856800372], [-5.16318530717961, 0.9001004421764947], [-5.15318530717961, 0.9044121893788157], [-5.1431853071796105, 0.9086334961158732], [-5.133185307179611, 0.9127639402605112], [-5.123185307179611, 0.9168031087717572], [-5.113185307179611, 0.920750597736126], [-5.103185307179611, 0.9246060124080109], [-5.093185307179612, 0.9283689672491574], [-5.083185307179612, 0.9320390859672172], [-5.073185307179612, 0.9356160015533769], [-5.063185307179612, 0.9390993563190587], [-5.0531853071796125, 0.9424888019316888], [-5.043185307179613, 0.9457839994495305], [-5.033185307179613, 0.9489846193555779], [-5.023185307179613, 0.9520903415905076], [-5.013185307179613, 0.9551008555846843], [-5.0031853071796135, 0.9580158602892173], [-4.993185307179614, 0.9608350642060651], [-4.983185307179614, 0.9635581854171856], [-4.973185307179614, 0.9661849516127269], [-4.963185307179614, 0.9687151001182583], [-4.953185307179615, 0.9711483779210378], [-4.943185307179615, 0.9734845416953128], [-4.933185307179615, 0.9757233578266529], [-4.923185307179615, 0.9778646024353101], [-4.913185307179615, 0.9799080613986084], [-4.903185307179616, 0.9818535303723542], [-4.893185307179616, 0.9837008148112713], [-4.883185307179616, 0.9854497299884551], [-4.873185307179616, 0.9871001010138456], [-4.8631853071796165, 0.9886517628517153], [-4.853185307179617, 0.9901045603371735], [-4.843185307179617, 0.9914583481916824], [-4.833185307179617, 0.9927129910375848], [-4.823185307179617, 0.9938683634116414], [-4.813185307179618, 0.9949243497775778], [-4.803185307179618, 0.9958808445376373], [-4.793185307179618, 0.9967377520431409], [-4.783185307179618, 0.9974949866040522], [-4.773185307179618, 0.9981524724975461], [-4.763185307179619, 0.9987101439755813], [-4.753185307179619, 0.9991679452714747], [-4.743185307179619, 0.9995258306054781], [-4.733185307179619, 0.9997837641893563], [-4.7231853071796195, 0.999941720229966], [-4.71318530717962, 0.9999996829318346], [-4.70318530717962, 0.9999576464987404], [-4.69318530717962, 0.9998156151342915], [-4.68318530717962, 0.9995736030415061], [-4.6731853071796206, 0.9992316344213918], [-4.663185307179621, 0.9987897434705257], [-4.653185307179621, 0.9982479743776345], [-4.643185307179621, 0.9976063813191761], [-4.633185307179621, 0.9968650284539217], [-4.623185307179622, 0.9960239899165398], [-4.613185307179622, 0.9950833498101836], [-4.603185307179622, 0.9940432021980798], [-4.593185307179622, 0.9929036510941228], [-4.5831853071796225, 0.9916648104524732], [-4.573185307179623, 0.990326804156163], [-4.563185307179623, 0.9888897660047069], [-4.553185307179623, 0.9873538397007222], [-4.543185307179623, 0.9857191788355597], [-4.5331853071796235, 0.9839859468739435], [-4.523185307179624, 0.9821543171376255], [-4.513185307179624, 0.9802244727880529], [-4.503185307179624, 0.9781966068080525], [-4.493185307179624, 0.9760709219825324], [-4.483185307179625, 0.9738476308782038], [-4.473185307179625, 0.9715269558223244], [-4.463185307179625, 0.9691091288804659], [-4.453185307179625, 0.9665943918333075], [-4.4431853071796255, 0.9639829961524585], [-4.433185307179626, 0.9612752029753108], [-4.423185307179626, 0.9584712830789254], [-4.413185307179626, 0.9555715168529556], [-4.403185307179626, 0.9525761942716074], [-4.3931853071796265, 0.949485614864643], [-4.383185307179627, 0.9463000876874275], [-4.373185307179627, 0.943019931290024], [-4.363185307179627, 0.9396454736853388], [-4.353185307179627, 0.9361770523163204], [-4.343185307179628, 0.9326150140222154], [-4.333185307179628, 0.9289597150038846], [-4.323185307179628, 0.925211520788184], [-4.313185307179628, 0.9213708061914117], [-4.303185307179628, 0.9174379552818266], [-4.293185307179629, 0.9134133613412424], [-4.283185307179629, 0.9092974268256994], [-4.273185307179629, 0.9050905633252191], [-4.263185307179629, 0.9007931915226459], [-4.2531853071796295, 0.896405741151579], [-4.24318530717963, 0.8919286509533992], [-4.23318530717963, 0.8873623686333955], [-4.22318530717963, 0.8827073508159946], [-4.21318530717963, 0.8779640629990991], [-4.203185307179631, 0.873132979507538], [-4.193185307179631, 0.8682145834456345], [-4.183185307179631, 0.8632093666488962], [-4.173185307179631, 0.8581178296348319], [-4.163185307179631, 0.8529404815528997], [-4.153185307179632, 0.8476778401335937], [-4.143185307179632, 0.8423304316366702], [-4.133185307179632, 0.8368987907985227], [-4.123185307179632, 0.8313834607787086], [-4.1131853071796325, 0.825784993105634], [-4.103185307179633, 0.8201039476214007], [-4.093185307179633, 0.8143408924258229], [-4.083185307179633, 0.8084964038196176], [-4.073185307179633, 0.8025710662467752], [-4.0631853071796336, 0.7965654722361151], [-4.053185307179634, 0.7904802223420337], [-4.043185307179634, 0.7843159250844495], [-4.033185307179634, 0.7780731968879512], [-4.023185307179634, 0.7717526620201564], [-4.013185307179635, 0.7653549525292845], [-4.003185307179635, 0.7588807081809534], [-3.993185307179635, 0.7523305763942028], [-3.9831853071796353, 0.7457052121767527], [-3.9731853071796355, 0.7390052780595039], [-3.9631853071796357, 0.7322314440302848], [-3.953185307179636, 0.7253843874668536], [-3.943185307179636, 0.7184647930691607], [-3.9331853071796363, 0.7114733527908794], [-3.9231853071796365, 0.7044107657702117], [-3.9131853071796368, 0.6972777382599739], [-3.903185307179637, 0.6900749835569729], [-3.893185307179637, 0.6828032219306768], [-3.8831853071796374, 0.6754631805511885], [-3.8731853071796376, 0.6680555934165291], [-3.863185307179638, 0.6605812012792392], [-3.853185307179638, 0.6530407515723039], [-3.8431853071796382, 0.6454349983344102], [-3.8331853071796385, 0.6377647021345438], [-3.8231853071796387, 0.6300306299959327], [-3.813185307179639, 0.6222335553193458], [-3.803185307179639, 0.6143742578057533], [-3.7931853071796393, 0.6064535233783569], [-3.7831853071796395, 0.598472144103999], [-3.7731853071796397, 0.5904309181139558], [-3.76318530717964, 0.5823306495241254], [-3.75318530717964, 0.5741721483546164], [-3.7431853071796404, 0.5659562304487472], [-3.7331853071796406, 0.5576837173914618], [-3.723185307179641, 0.5493554364271721], [-3.713185307179641, 0.5409722203770343], [-3.7031853071796412, 0.5325349075556676], [-3.6931853071796414, 0.5240443416873228], [-3.6831853071796417, 0.5155013718215116], [-3.673185307179642, 0.5069068522481012], [-3.663185307179642, 0.49826164241188686], [-3.6531853071796423, 0.4895666068266481], [-3.6431853071796425, 0.4808226149886975], [-3.6331853071796427, 0.47203054128993216], [-3.623185307179643, 0.4631912649303953], [-3.613185307179643, 0.45430566983035686], [-3.6031853071796434, 0.4453746445419222], [-3.5931853071796436, 0.43639908216017764], [-3.583185307179644, 0.42737988023388174], [-3.573185307179644, 0.41831794067571115], [-3.563185307179644, 0.4092141696720702], [-3.5531853071796444, 0.40006947759247263], [-3.5431853071796446, 0.3908847788985059], [-3.533185307179645, 0.38166099205238563], [-3.523185307179645, 0.3723990394251099], [-3.5131853071796453, 0.3630998472042231], [-3.5031853071796455, 0.3537643453011981], [-3.4931853071796457, 0.34439346725844566], [-3.483185307179646, 0.33498815015596095], [-3.473185307179646, 0.3255493345176165], [-3.4631853071796463, 0.3160779642171105], [-3.4531853071796466, 0.30657498638358016], [-3.4431853071796468, 0.29704135130688986], [-3.433185307179647, 0.28747801234260245], [-3.423185307179647, 0.277885925816645], [-3.4131853071796474, 0.2682660509296767], [-3.4031853071796476, 0.2586193496611698], [-3.393185307179648, 0.24894678667321213], [-3.383185307179648, 0.2392493292140421], [-3.3731853071796483, 0.22952794702132448], [-3.3631853071796485, 0.21978361222517737], [-3.3531853071796487, 0.21001729925096013], [-3.343185307179649, 0.20022998472183162], [-3.333185307179649, 0.19042264736108871], [-3.3231853071796493, 0.1805962678942947], [-3.3131853071796495, 0.17075182895120766], [-3.3031853071796498, 0.1608903149675182], [-3.29318530717965, 0.15101271208640682], [-3.28318530717965, 0.1411200080599303], [-3.2731853071796504, 0.13121319215024738], [-3.2631853071796506, 0.12129325503069342], [-3.253185307179651, 0.11136118868671377], [-3.243185307179651, 0.10141798631666613], [-3.2331853071796512, 0.09146464223250152], [-3.2231853071796515, 0.08150215176033394], [-3.2131853071796517, 0.07153151114090857], [-3.203185307179652, 0.061553717429978505], [-3.193185307179652, 0.05156976839860003], [-3.1831853071796523, 0.041580662433356355], [-3.1731853071796525, 0.03158739843651979], [-3.1631853071796527, 0.021590975726162313], [-3.153185307179653, 0.011592393936224639], [-3.143185307179653, 0.0015926529165536407], [-3.1331853071796534, -0.008407247367081807], [-3.1231853071796536, -0.018406306932986564], [-3.113185307179654, -0.02840352588353656], [-3.103185307179654, -0.038397904505167724], [-3.0931853071796542, -0.04838844336834652], [-3.0831853071796544, -0.05837414342751206], [-3.0731853071796547, -0.06835400612097979], [-3.063185307179655, -0.07832703347079692], [-3.053185307179655, -0.08829222818253928], [-3.0431853071796553, -0.09824859374503998], [-3.0331853071796555, -0.10819513453003975], [-3.0231853071796557, -0.11813085589174882], [-3.013185307179656, -0.12805476426631077], [-3.003185307179656, -0.13796586727115803], [-2.9931853071796564, -0.14786317380424935], [-2.9831853071796566, -0.15774569414317915], [-2.973185307179657, -0.16761244004414896], [-2.963185307179657, -0.1774624248407909], [-2.953185307179657, -0.1872946635428336], [-2.9431853071796574, -0.19710817293460042], [-2.9331853071796576, -0.20690197167333005], [-2.923185307179658, -0.21667508038731007], [-2.913185307179658, -0.2264265217738133], [-2.9031853071796583, -0.23615532069682732], [-2.8931853071796585, -0.2458605042845671], [-2.8831853071796587, -0.2555411020267615], [-2.873185307179659, -0.2651961458717034], [-2.863185307179659, -0.2748246703230542], [-2.8531853071796593, -0.2844257125363925], [-2.8431853071796596, -0.2939983124154978], [-2.8331853071796598, -0.30354151270835933], [-2.82318530717966, -0.3130543591029004], [-2.81318530717966, -0.32253590032240903], [-2.8031853071796604, -0.33198518822066436], [-2.7931853071796606, -0.34140127787675106], [-2.783185307179661, -0.3507832276895502], [-2.773185307179661, -0.3601300994718988], [-2.7631853071796613, -0.36944095854440756], [-2.7531853071796615, -0.3787148738289284], [-2.7431853071796617, -0.387950917941661], [-2.733185307179662, -0.39714816728589075], [-2.723185307179662, -0.40630570214434764], [-2.7131853071796623, -0.41542260677117704], [-2.7031853071796625, -0.42449796948351365], [-2.6931853071796628, -0.4335308827526491], [-2.683185307179663, -0.4425204432947838], [-2.673185307179663, -0.4514657521613548], [-2.6631853071796634, -0.4603659148289299], [-2.6531853071796636, -0.4692200412886591], [-2.643185307179664, -0.4780272461352748], [-2.633185307179664, -0.4867866486556317], [-2.6231853071796642, -0.49549737291677726], [-2.6131853071796645, -0.5041585478535442], [-2.6031853071796647, -0.5127693073556565], [-2.593185307179665, -0.5213287903543397], [-2.583185307179665, -0.5298361409084266], [-2.5731853071796653, -0.5382905082899512], [-2.5631853071796655, -0.5466910470692208], [-2.5531853071796657, -0.5550369171993579], [-2.543185307179666, -0.5633272841003042], [-2.533185307179666, -0.5715613187422783], [-2.5231853071796664, -0.5797381977286779], [-2.5131853071796666, -0.5878571033784179], [-2.503185307179667, -0.5959172238076995], [-2.493185307179667, -0.6039177530111963], [-2.4831853071796672, -0.6118578909426552], [-2.4731853071796674, -0.6197368435948997], [-2.4631853071796677, -0.6275538230792302], [-2.453185307179668, -0.6353080477042128], [-2.443185307179668, -0.6429987420538464], [-2.4331853071796683, -0.6506251370651052], [-2.4231853071796685, -0.6581864701048432], [-2.4131853071796687, -0.6656819850460577], [-2.403185307179669, -0.6731109323435007], [-2.393185307179669, -0.6804725691086333], [-2.3831853071796694, -0.6877661591839136], [-2.3731853071796696, -0.6949909732164121], [-2.36318530717967, -0.7021462887307461], [-2.35318530717967, -0.7092313902013271], [-2.34318530717967, -0.7162455691239121], [-2.3331853071796704, -0.723188124086454], [-2.3231853071796706, -0.730058360839242], [-2.313185307179671, -0.7368555923643262], [-2.303185307179671, -0.743579138944218], [-2.2931853071796713, -0.7502283282298627], [-2.2831853071796715, -0.7568024953078727], [-2.2731853071796717, -0.7633009827670184], [-2.263185307179672, -0.7697231407639695], [-2.253185307179672, -0.7760683270882781], [-2.2431853071796723, -0.7823359072265993], [-2.2331853071796726, -0.7885252544261422], [-2.2231853071796728, -0.7946357497573446], [-2.213185307179673, -0.8006667821757657], [-2.203185307179673, -0.8066177485831892], [-2.1931853071796734, -0.8124880538879337], [-2.1831853071796736, -0.8182771110643604], [-2.173185307179674, -0.823984341211576], [-2.163185307179674, -0.8296091736113219], [-2.1531853071796743, -0.8351510457850453], [-2.1431853071796745, -0.840609403550147], [-2.1331853071796747, -0.8459837010753992], [-2.123185307179675, -0.8512734009355281], [-2.113185307179675, -0.8564779741649554], [-2.1031853071796753, -0.8615969003106956], [-2.0931853071796755, -0.8666296674843996], [-2.0831853071796758, -0.8715757724135443], [-2.073185307179676, -0.8764347204917583], [-2.063185307179676, -0.881206025828283], [-2.0531853071796764, -0.8858892112965607], [-2.0431853071796766, -0.8904838085819474], [-2.033185307179677, -0.8949893582285432], [-2.023185307179677, -0.8994054096851382], [-2.0131853071796773, -0.9037315213502667], [-2.0031853071796775, -0.9079672606163671], [-1.9931853071796777, -0.9121122039130429], [-1.983185307179678, -0.9161659367494184], [-1.973185307179678, -0.9201280537555879], [-1.9631853071796783, -0.9239981587231527], [-1.9531853071796785, -0.9277758646448412], [-1.9431853071796787, -0.931460793753209], [-1.933185307179679, -0.9350525775584164], [-1.9231853071796792, -0.9385508568850758], [-1.9131853071796794, -0.9419552819081697], [-1.9031853071796796, -0.945265512188033], [-1.8931853071796798, -0.9484812167043961], [-1.88318530717968, -0.9516020738894873], [-1.8731853071796802, -0.9546277716601884], [-1.8631853071796804, -0.9575580074492441], [-1.8531853071796807, -0.9603924882355171], [-1.8431853071796809, -0.9631309305732911], [-1.833185307179681, -0.9657730606206142], [-1.8231853071796813, -0.9683186141666834], [-1.8131853071796815, -0.9707673366582655], [-1.8031853071796817, -0.9731189832251518], [-1.793185307179682, -0.9753733187046454], [-1.7831853071796822, -0.9775301176650769], [-1.7731853071796824, -0.9795891644283476], [-1.7631853071796826, -0.9815502530914971], [-1.7531853071796828, -0.9834131875472932], [-1.743185307179683, -0.9851777815038429], [-1.7331853071796832, -0.986843858503221], [-1.7231853071796834, -0.9884112519391158], [-1.7131853071796836, -0.98987980507349], [-1.7031853071796839, -0.9912493710522541], [-1.693185307179684, -0.9925198129199512], [-1.6831853071796843, -0.9936910036334535], [-1.6731853071796845, -0.9947628260746655], [-1.6631853071796847, -0.9957351730622362], [-1.653185307179685, -0.9966079473622774], [-1.6431853071796851, -0.9973810616980862], [-1.6331853071796854, -0.9980544387588732], [-1.6231853071796856, -0.9986280112074937], [-1.6131853071796858, -0.9991017216871806], [-1.603185307179686, -0.9994755228272808], [-1.5931853071796862, -0.9997493772479917], [-1.5831853071796864, -0.9999232575640996], [-1.5731853071796866, -0.9999971463877178], [-1.5631853071796868, -0.9999710363300253], [-1.553185307179687, -0.9998449300020061], [-1.5431853071796873, -0.9996188400141882], [-1.5331853071796875, -0.9992927889753818], [-1.5231853071796877, -0.998866809490419], [-1.513185307179688, -0.9983409441568935], [-1.5031853071796881, -0.9977152455609002], [-1.4931853071796883, -0.9969897762717774], [-1.4831853071796886, -0.9961646088358496], [-1.4731853071796888, -0.9952398257691726], [-1.463185307179689, -0.9942155195492824], [-1.4531853071796892, -0.9930917926059475], [-1.4431853071796894, -0.9918687573109257], [-1.4331853071796896, -0.9905465359667274], [-1.4231853071796898, -0.989125260794385], [-1.41318530717969, -0.9876050739202316], [-1.4031853071796903, -0.9859861273616876], [-1.3931853071796905, -0.9842685830120599], [-1.3831853071796907, -0.9824526126243519], [-1.373185307179691, -0.9805383977940894], [-1.363185307179691, -0.9785261299411601], [-1.3531853071796913, -0.9764160102906724], [-1.3431853071796915, -0.9742082498528328], [-1.3331853071796917, -0.9719030694018456], [-1.323185307179692, -0.9695006994538347], [-1.3131853071796922, -0.9670013802437929], [-1.3031853071796924, -0.9644053617015586], [-1.2931853071796926, -0.9617129034268226], [-1.2831853071796928, -0.9589242746631687], [-1.273185307179693, -0.9560397542711493], [-1.2631853071796932, -0.9530596307003999], [-1.2531853071796935, -0.9499842019607943], [-1.2431853071796937, -0.9468137755926433], [-1.2331853071796939, -0.9435486686359421], [-1.223185307179694, -0.9401892075986652], [-1.2131853071796943, -0.9367357284241168], [-1.2031853071796945, -0.9331885764573364], [-1.1931853071796947, -0.929548106410565], [-1.183185307179695, -0.9258146823277733], [-1.1731853071796952, -0.9219886775482585], [-1.1631853071796954, -0.9180704746693102], [-1.1531853071796956, -0.9140604655079512], [-1.1431853071796958, -0.9099590510617559], [-1.133185307179696, -0.9057666414687511], [-1.1231853071796962, -0.9014836559664023], [-1.1131853071796964, -0.897110522849691], [-1.1031853071796967, -0.8926476794282842], [-1.0931853071796969, -0.8880955719828052], [-1.083185307179697, -0.8834546557202051], [-1.0731853071796973, -0.8787253947282427], [-1.0631853071796975, -0.8739082619290762], [-1.0531853071796977, -0.8690037390319714], [-1.043185307179698, -0.8640123164851305], [-1.0331853071796981, -0.8589344934266492], [-1.0231853071796984, -0.8537707776346015], [-1.0131853071796986, -0.8485216854762636], [-1.0031853071796988, -0.8431877418564773], [-0.993185307179699, -0.8377694801651593], [-0.9831853071796992, -0.8322674422239636], [-0.9731853071796994, -0.8266821782320996], [-0.9631853071796996, -0.8210142467113118], [-0.9531853071796998, -0.8152642144500292], [-0.9431853071797001, -0.809432656446686], [-0.9331853071797003, -0.8035201558522234], [-0.9231853071797005, -0.7975273039117733], [-0.9131853071797007, -0.7914546999055359], [-0.9031853071797009, -0.7853029510888513], [-0.8931853071797011, -0.7790726726314748], [-0.8831853071797013, -0.7727644875560603], [-0.8731853071797016, -0.7663790266758583], [-0.8631853071797018, -0.759916928531636], [-0.853185307179702, -0.7533788393278223], [-0.8431853071797022, -0.7467654128678896], [-0.8331853071797024, -0.7400773104889724], [-0.8231853071797026, -0.7333152009957354], [-0.8131853071797028, -0.7264797605934928], [-0.803185307179703, -0.7195716728205888], [-0.7931853071797033, -0.7125916284800435], [-0.7831853071797035, -0.7055403255704749], [-0.7731853071797037, -0.6984184692162974], [-0.7631853071797039, -0.6912267715972117], [-0.7531853071797041, -0.6839659518769866], [-0.7431853071797043, -0.6766367361315436], [-0.7331853071797045, -0.6692398572763496], [-0.7231853071797048, -0.661776054993126], [-0.713185307179705, -0.6542460756558812], [-0.7031853071797052, -0.646650672256274], [-0.6931853071797054, -0.6389906043283151], [-0.6831853071797056, -0.6312666378724137], [-0.6731853071797058, -0.6234795452787788], [-0.663185307179706, -0.6156301052501807], [-0.6531853071797062, -0.6077191027240808], [-0.6431853071797065, -0.5997473287941395], [-0.6331853071797067, -0.5917155806311065], [-0.6231853071797069, -0.5836246614031051], [-0.6131853071797071, -0.5754753801953157], [-0.6031853071797073, -0.567268551929068], [-0.5931853071797075, -0.5590049972803495], [-0.5831853071797077, -0.5506855425977389], [-0.573185307179708, -0.5423110198197718], [-0.5631853071797082, -0.533882266391747], [-0.5531853071797084, -0.5254001251819833], [-0.5431853071797086, -0.5168654443975335], [-0.5331853071797088, -0.5082790774993636], [-0.523185307179709, -0.4996418831170084], [-0.5131853071797092, -0.4909547249627083], [-0.5031853071797094, -0.4822184717450395], [-0.49318530717970965, -0.4734339970820436], [-0.48318530717970987, -0.4646021794138665], [-0.4731853071797101, -0.4557239019149152], [-0.4631853071797103, -0.44680005240554105], [-0.4531853071797105, -0.43783152326325847], [-0.4431853071797107, -0.428819211333508], [-0.43318530717971093, -0.4197640178399723], [-0.42318530717971115, -0.4106668482944548], [-0.41318530717971136, -0.4015286124063291], [-0.40318530717971157, -0.3923502239915688], [-0.3931853071797118, -0.3831326008813668], [-0.383185307179712, -0.37387666483035276], [-0.3731853071797122, -0.36458334142441856], [-0.3631853071797124, -0.35525355998816033], [-0.35318530717971264, -0.34588825349194696], [-0.34318530717971285, -0.3364883584586236], [-0.33318530717971306, -0.32705481486986043], [-0.3231853071797133, -0.3175885660721551], [-0.3131853071797135, -0.30809055868249874], [-0.3031853071797137, -0.2985617424937154], [-0.2931853071797139, -0.28900307037948336], [-0.28318530717971413, -0.27941549819904843], [-0.27318530717971434, -0.2697999847016391], [-0.26318530717971456, -0.26015749143059214], [-0.25318530717971477, -0.2504889826271994], [-0.24318530717971498, -0.24079542513428395], [-0.2331853071797152, -0.2310777882995173], [-0.2231853071797154, -0.22133704387848488], [-0.21318530717971562, -0.21157416593751155], [-0.20318530717971583, -0.20179013075625565], [-0.19318530717971605, -0.19198591673008206], [-0.18318530717971626, -0.18216250427222316], [-0.17318530717971647, -0.17232087571573862], [-0.1631853071797167, -0.16246201521528275], [-0.1531853071797169, -0.15258690864868993], [-0.14318530717971711, -0.1426965435183876], [-0.13318530717971733, -0.13279190885264677], [-0.12318530717971754, -0.12287399510668026], [-0.11318530717971775, -0.11294379406359772], [-0.10318530717971797, -0.10300229873522836], [-0.09318530717971818, -0.09305050326282042], [-0.08318530717971839, -0.08308940281762804], [-0.0731853071797186, -0.07311999350139482], [-0.06318530717971882, -0.0631432722467446], [-0.05318530717971903, -0.05316023671748892], [-0.043185307179719246, -0.04317188520886154], [-0.03318530717971946, -0.033179216547689724], [-0.023185307179719672, -0.023183229992512395], [-0.013185307179719885, -0.01318492513365511], [-0.0031853071797200982, -0.00318530179327186], [0.006814692820279689, 0.006814640074636309], [0.016814692820279475, 0.01681390048421586], [0.026814692820279262, 0.02681147951775853], [0.03681469282027905, 0.03680637742569225], [0.046814692820278836, 0.04679759472655527], [0.05681469282027862, 0.05678413230694351], [0.06681469282027841, 0.06676499152142101], [0.0768146928202782, 0.07673917429238367], [0.08681469282027798, 0.0867056832098662], [0.09681469282027777, 0.09666352163128222], [0.10681469282027756, 0.1066116937810878], [0.11681469282027734, 0.11654920485035804], [0.12681469282027713, 0.12647506109626727], [0.13681469282027692, 0.1363882699414624], [0.1468146928202767, 0.14628784007331988], [0.1568146928202765, 0.15617278154307618], [0.16681469282027628, 0.1660421058648217], [0.17681469282027606, 0.17589482611434873], [0.18681469282027585, 0.18572995702784284], [0.19681469282027564, 0.19554651510040863], [0.20681469282027543, 0.20534351868441925], [0.2168146928202752, 0.21511998808768046], [0.226814692820275, 0.22487494567139896], [0.23681469282027479, 0.23460741594794549], [0.24681469282027457, 0.24431642567840275], [0.25681469282027436, 0.2540010039698885], [0.26681469282027415, 0.2636601823726441], [0.27681469282027393, 0.2732929949768785], [0.2868146928202737, 0.2828984785093586], [0.2968146928202735, 0.2924756724297357], [0.3068146928202733, 0.3020236190265988], [0.3168146928202731, 0.31154136351324474], [0.32681469282027287, 0.32102795412315627], [0.33681469282027265, 0.33048244220517786], [0.34681469282027244, 0.3399038823183801], [0.35681469282027223, 0.3492913323266028], [0.366814692820272, 0.358643853492668], [0.3768146928202718, 0.3679605105722527], [0.3868146928202716, 0.377240371907413], [0.3968146928202714, 0.3864825095197485], [0.40681469282027116, 0.3956859992031997], [0.41681469282027095, 0.4048499206164678], [0.42681469282027074, 0.4139733573750481], [0.4368146928202705, 0.4230553971428675], [0.4468146928202703, 0.4320951317235176], [0.4568146928202701, 0.44109165715107346], [0.4668146928202699, 0.45004407378048933], [0.47681469282026967, 0.45895148637756267], [0.48681469282026946, 0.46781300420845656], [0.49681469282026924, 0.47662774112877243], [0.506814692820269, 0.4853948156721639], [0.5168146928202688, 0.49411335113848254], [0.5268146928202686, 0.5027824756814471], [0.5368146928202684, 0.5114013223958274], [0.5468146928202682, 0.5199690294041345], [0.556814692820268, 0.5284847399428073], [0.5668146928202678, 0.5369476024478883], [0.5768146928202675, 0.5453567706401794], [0.5868146928202673, 0.5537114036098689], [0.5968146928202671, 0.562010665900622], [0.6068146928202669, 0.5702537275931258], [0.6168146928202667, 0.5784397643880801], [0.6268146928202665, 0.5865679576886271], [0.6368146928202663, 0.5946374946822103], [0.646814692820266, 0.6026475684218549], [0.6568146928202658, 0.6105973779068619], [0.6668146928202656, 0.6184861281629076], [0.6768146928202654, 0.6263130303215404], [0.6868146928202652, 0.634077301699067], [0.696814692820265, 0.6417781658748195], [0.7068146928202648, 0.649414852768798], [0.7168146928202646, 0.6569865987186768], [0.7268146928202643, 0.6644926465561708], [0.7368146928202641, 0.6719322456827511], [0.7468146928202639, 0.6793046521447049], [0.7568146928202637, 0.6866091287075295], [0.7668146928202635, 0.6938449449296558], [0.7768146928202633, 0.7010113772354912], [0.7868146928202631, 0.7081077089877774], [0.7968146928202628, 0.7151332305592525], [0.8068146928202626, 0.7220872394036141], [0.8168146928202624, 0.7289690401257727], [0.8268146928202622, 0.7357779445513909], [0.836814692820262, 0.7425132717957003], [0.8468146928202618, 0.7491743483315889], [0.8568146928202616, 0.7557605080569544], [0.8668146928202614, 0.7622710923613125], [0.8768146928202611, 0.7687054501916583], [0.8868146928202609, 0.7750629381175705], [0.8968146928202607, 0.7813429203955548], [0.9068146928202605, 0.7875447690326164], [0.9168146928202603, 0.7936678638490599], [0.9268146928202601, 0.799711592540506], [0.9368146928202599, 0.8056753507391223], [0.9468146928202597, 0.8115585420740586], [0.9568146928202594, 0.817360578231084], [0.9668146928202592, 0.8230808790114178], [0.976814692820259, 0.828718872389749], [0.9868146928202588, 0.8342739945714379], [0.9968146928202586, 0.8397456900488957], [1.0068146928202584, 0.8451334116571343], [1.0168146928202582, 0.8504366206284828], [1.026814692820258, 0.8556547866464632], [1.0368146928202577, 0.8607873878988223], [1.0468146928202575, 0.8658339111297119], [1.0568146928202573, 0.8707938516910143], [1.066814692820257, 0.8756667135928069], [1.0768146928202569, 0.88045200955296], [1.0868146928202567, 0.8851492610458653], [1.0968146928202565, 0.889757998350288], [1.1068146928202562, 0.8942777605963381], [1.116814692820256, 0.8987080958115576], [1.1268146928202558, 0.903048560966117], [1.1368146928202556, 0.9072987220171177], [1.1468146928202554, 0.9114581539519964], [1.1568146928202552, 0.9155264408310257], [1.166814692820255, 0.9195031758289083], [1.1768146928202547, 0.923387961275458], [1.1868146928202545, 0.9271804086953676], [1.1968146928202543, 0.9308801388470553], [1.206814692820254, 0.9344867817605892], [1.216814692820254, 0.9379999767746835], [1.2268146928202537, 0.9414193725727644], [1.2368146928202535, 0.9447446272181015], [1.2468146928202533, 0.9479754081880014], [1.256814692820253, 0.9511113924070593], [1.2668146928202528, 0.9541522662794668], [1.2768146928202526, 0.9570977257203706], [1.2868146928202524, 0.959947476186281], [1.2968146928202522, 0.9627012327045263], [1.306814692820252, 0.9653587199017497], [1.3168146928202518, 0.9679196720314458], [1.3268146928202516, 0.9703838330005358], [1.3368146928202513, 0.9727509563949762], [1.3468146928202511, 0.9750208055044002], [1.356814692820251, 0.9771931533457884], [1.3668146928202507, 0.979267782686167], [1.3768146928202505, 0.9812444860643307], [1.3868146928202503, 0.9831230658115889], [1.39681469282025, 0.9849033340715325], [1.4068146928202498, 0.9865851128188191], [1.4168146928202496, 0.9881682338769753], [1.4268146928202494, 0.9896525389352144], [1.4368146928202492, 0.9910378795642679], [1.446814692820249, 0.992324117231227], [1.4568146928202488, 0.9935111233133971], [1.4668146928202486, 0.994598779111159], [1.4768146928202484, 0.9955869758598394], [1.4868146928202481, 0.9964756147405868], [1.496814692820248, 0.9972646068902536], [1.5068146928202477, 0.9979538734102826], [1.5168146928202475, 0.998543345374596], [1.5268146928202473, 0.9990329638364887], [1.536814692820247, 0.9994226798345223], [1.5468146928202469, 0.999712454397422], [1.5568146928202466, 0.9999022585479729], [1.5668146928202464, 0.9999920733059181], [1.5768146928202462, 0.9999818896898566], [1.586814692820246, 0.9998717087181417], [1.5968146928202458, 0.9996615414087785], [1.6068146928202456, 0.9993514087783231], [1.6168146928202454, 0.9989413418397798], [1.6268146928202452, 0.9984313815995008], [1.636814692820245, 0.9978215790530854], [1.6468146928202447, 0.9971119951802799], [1.6568146928202445, 0.9963027009388802], [1.6668146928202443, 0.9953937772576361], [1.676814692820244, 0.9943853150281583], [1.6868146928202439, 0.9932774150958295], [1.6968146928202437, 0.9920701882497193], [1.7068146928202435, 0.9907637552115066], [1.7168146928202432, 0.9893582466234065], [1.726814692820243, 0.9878538030351066], [1.7368146928202428, 0.9862505748897119], [1.7468146928202426, 0.984548722508701], [1.7568146928202424, 0.9827484160758936], [1.7668146928202422, 0.980849835620433], [1.776814692820242, 0.9788531709987826], [1.7868146928202417, 0.9767586218757405], [1.7968146928202415, 0.9745663977044736], [1.8068146928202413, 0.9722767177055722], [1.816814692820241, 0.9698898108451283], [1.826814692820241, 0.9674059158118385], [1.8368146928202407, 0.9648252809931366], [1.8468146928202405, 0.9621481644503537], [1.8568146928202403, 0.9593748338929132], [1.86681469282024, 0.9565055666515598], [1.8768146928202398, 0.9535406496506266], [1.8868146928202396, 0.9504803793793429], [1.8968146928202394, 0.9473250618621856], [1.9068146928202392, 0.944075012628277], [1.916814692820239, 0.9407305566798321], [1.9268146928202388, 0.9372920284596588], [1.9368146928202385, 0.9337597718177135], [1.9468146928202383, 0.9301341399767171], [1.9568146928202381, 0.9264154954968322], [1.966814692820238, 0.922604210239408], [1.9768146928202377, 0.9187006653297941], [1.9868146928202375, 0.9147052511192286], [1.9968146928202373, 0.910618367145803], [2.006814692820237, 0.9064404220945089], [2.016814692820237, 0.9021718337563699], [2.0268146928202366, 0.8978130289866626], [2.0368146928202364, 0.8933644436622317], [2.046814692820236, 0.8888265226379023], [2.056814692820236, 0.8841997197019956], [2.0668146928202358, 0.8794844975309493], [2.0768146928202356, 0.8746813276430512], [2.0868146928202354, 0.8697906903512874], [2.096814692820235, 0.8648130747153118], [2.106814692820235, 0.8597489784925397], [2.1168146928202347, 0.8545989080883735], [2.1268146928202345, 0.8493633785055619], [2.1368146928202343, 0.8440429132927001], [2.146814692820234, 0.8386380444918758], [2.156814692820234, 0.8331493125854651], [2.1668146928202336, 0.8275772664420845], [2.1768146928202334, 0.8219224632617053], [2.186814692820233, 0.8161854685199329], [2.196814692820233, 0.8103668559114608], [2.206814692820233, 0.8044672072927012], [2.2168146928202326, 0.7984871126235992], [2.2268146928202324, 0.7924271699086387], [2.236814692820232, 0.786287985137041], [2.246814692820232, 0.7800701722221675], [2.2568146928202317, 0.7737743529401281], [2.2668146928202315, 0.7674011568676045], [2.2768146928202313, 0.7609512213188929], [2.286814692820231, 0.7544251912821733], [2.296814692820231, 0.7478237193550111], [2.3068146928202307, 0.7411474656790978], [2.3168146928202304, 0.7343970978742373], [2.3268146928202302, 0.7275732909715851], [2.33681469282023, 0.7206767273461447], [2.34681469282023, 0.7137080966485316], [2.3568146928202296, 0.7066680957360085], [2.3668146928202294, 0.6995574286027999], [2.376814692820229, 0.6923768063096936], [2.386814692820229, 0.685126946912935], [2.3968146928202287, 0.6778085753924223], [2.4068146928202285, 0.6704224235792091], [2.4168146928202283, 0.6629692300823214], [2.426814692820228, 0.6554497402148981], [2.436814692820228, 0.6478647059196595], [2.4468146928202277, 0.6402148856937143], [2.4568146928202275, 0.6325010445127105], [2.4668146928202273, 0.6247239537543379], [2.476814692820227, 0.6168843911211913], [2.486814692820227, 0.6089831405630013], [2.4968146928202266, 0.6010209921982392], [2.5068146928202264, 0.5929987422351065], [2.516814692820226, 0.5849171928919142], [2.526814692820226, 0.5767771523168621], [2.5368146928202258, 0.5685794345072244], [2.5468146928202255, 0.5603248592279505], [2.5568146928202253, 0.5520142519296897], [2.566814692820225, 0.5436484436662462], [2.576814692820225, 0.535228271011475], [2.5868146928202247, 0.5267545759756247], [2.5968146928202245, 0.5182282059211376], [2.6068146928202243, 0.5096500134779137], [2.616814692820224, 0.501020856458049], [2.626814692820224, 0.49234159777005443], [2.6368146928202236, 0.48361310533256613], [2.6468146928202234, 0.47483625198755425], [2.656814692820223, 0.4660119154130391], [2.666814692820223, 0.45714097803532466], [2.6768146928202228, 0.4482243269407562], [2.6868146928202226, 0.4392628537870127], [2.6968146928202223, 0.43025745471394167], [2.706814692820222, 0.4212090302539459], [2.716814692820222, 0.4121184852419311], [2.7268146928202217, 0.4029867287248231], [2.7368146928202215, 0.3938146738706637], [2.7468146928202213, 0.3846032378772951], [2.756814692820221, 0.37535334188064035], [2.766814692820221, 0.366065910862591], [2.7768146928202206, 0.3567418735585092], [2.7868146928202204, 0.34738216236435554], [2.79681469282022, 0.3379877132434496], [2.80681469282022, 0.3285594656328748], [2.81681469282022, 0.31909836234953537], [2.8268146928202196, 0.30960534949587537], [2.8368146928202194, 0.30008137636526944], [2.846814692820219, 0.29052739534709393], [2.856814692820219, 0.2809443618314891], [2.8668146928202187, 0.27133323411382054], [2.8768146928202185, 0.26169497329885094], [2.8868146928202183, 0.2520305432046299], [2.896814692820218, 0.24234091026611312], [2.906814692820218, 0.2326270434385198], [2.9168146928202177, 0.2228899141004379], [2.9268146928202174, 0.2131304959566869], [2.9368146928202172, 0.2033497649409484], [2.946814692820217, 0.19354869911817338], [2.956814692820217, 0.18372827858677657], [2.9668146928202166, 0.17388948538062748], [2.9768146928202164, 0.16403330337084776], [2.986814692820216, 0.1541607181674249], [2.996814692820216, 0.14427271702065214], [3.0068146928202157, 0.1343702887224042], [3.0168146928202155, 0.12445442350725887], [3.0268146928202153, 0.11452611295347448], [3.036814692820215, 0.10458634988383286], [3.046814692820215, 0.09463612826635787], [3.0568146928202147, 0.08467644311491941], [3.0668146928202145, 0.07470829038973294], [3.0768146928202142, 0.06473266689776418], [3.086814692820214, 0.05475057019304936], [3.096814692820214, 0.04476299847694056], [3.1068146928202136, 0.03477095049828644], [3.1168146928202134, 0.024775425453558188], [3.126814692820213, 0.014777422886930697], [3.136814692820213, 0.004777942590328993], [3.1468146928202128, -0.0052220154965501395], [3.1568146928202125, -0.015221451386231282], [3.1668146928202123, -0.0252193651434583], [3.176814692820212, -0.03521475698518704], [3.186814692820212, -0.0452066273805628], [3.1968146928202117, -0.05519397715087256], [3.2068146928202115, -0.06517580756946206], [3.2168146928202113, -0.07515112046160762], [3.226814692820211, -0.08511891830433274], [3.236814692820211, -0.09507820432615961], [3.2468146928202106, -0.10502798260678545], [3.2568146928202104, -0.11496725817667364], [3.26681469282021, -0.12489503711654988], [3.27681469282021, -0.13481032665679332], [3.2868146928202098, -0.14471213527671264], [3.2968146928202096, -0.15459947280369735], [3.3068146928202093, -0.16447135051223416], [3.316814692820209, -0.17432678122277873], [3.326814692820209, -0.18416477940047285], [3.3368146928202087, -0.19398436125369709], [3.3468146928202085, -0.20378454483244904], [3.3568146928202083, -0.21356435012653763], [3.366814692820208, -0.22332279916358327], [3.376814692820208, -0.23305891610681426], [3.3868146928202076, -0.24277172735264968], [3.3968146928202074, -0.25246026162805896], [3.406814692820207, -0.2621235500876883], [3.416814692820207, -0.2717606264107444], [3.426814692820207, -0.2813705268976258], [3.4368146928202066, -0.2909522905662922], [3.4468146928202064, -0.30050495924836135], [3.456814692820206, -0.31002757768492567], [3.466814692820206, -0.3195191936220769], [3.4768146928202057, -0.3289788579061311], [3.4868146928202055, -0.3384056245785428], [3.4968146928202053, -0.34779855097050033], [3.506814692820205, -0.35715669779719206], [3.516814692820205, -0.3664791292517336], [3.5268146928202047, -0.37576491309874827], [3.5368146928202044, -0.3850131207675894], [3.5468146928202042, -0.394222827445197], [3.556814692820204, -0.40339311216857804], [3.566814692820204, -0.41252305791690197], [3.5768146928202036, -0.4216117517032023], [3.5868146928202034, -0.4306582846656743], [3.596814692820203, -0.4396617521585604], [3.606814692820203, -0.44862125384261425], [3.6168146928202027, -0.4575358937751336], [3.6268146928202025, -0.46640478049955414], [3.6368146928202023, -0.475227027134594], [3.646814692820202, -0.48400175146294167], [3.656814692820202, -0.4927280760194765], [3.6668146928202017, -0.5014051281790147], [3.6768146928202015, -0.5100320402435712], [3.6868146928202012, -0.5186079495291287], [3.696814692820201, -0.5271319984519051], [3.706814692820201, -0.5356033346141116], [3.7168146928202006, -0.5440211108891911], [3.7268146928202004, -0.5523844855065313], [3.7368146928202, -0.5606926221356396], [3.7468146928202, -0.5689446899697768], [3.7568146928201998, -0.5771398638090358], [3.7668146928201995, -0.5852773241428623], [3.7768146928201993, -0.593356257232004], [3.786814692820199, -0.6013758551898843], [3.796814692820199, -0.6093353160633906], [3.8068146928201987, -0.6172338439130683], [3.8168146928201985, -0.6250706488927145], [3.8268146928201983, -0.6328449473283619], [3.836814692820198, -0.6405559617966455], [3.846814692820198, -0.6482029212025443], [3.8568146928201976, -0.6557850608564901], [3.8668146928201974, -0.663301622550836], [3.876814692820197, -0.6707518546356763], [3.886814692820197, -0.6781350120940112], [3.8968146928201968, -0.6854503566162472], [3.9068146928201966, -0.6926971566740283], [3.9168146928201963, -0.6998746875933878], [3.926814692820196, -0.7069822316272149], [3.936814692820196, -0.714019078027029], [3.9468146928201957, -0.7209845231140545], [3.9568146928201955, -0.727877870349587], [3.9668146928201953, -0.7346984304046473], [3.976814692820195, -0.7414455212289139], [3.986814692820195, -0.7481184681189269], [3.9968146928201946, -0.7547166037855578], [4.006814692820194, -0.7612392684207387], [4.016814692820194, -0.7676858097634415], [4.026814692820194, -0.7740555831649039], [4.036814692820194, -0.780347951653094], [4.046814692820194, -0.7865622859964065], [4.056814692820193, -0.7926979647665859], [4.066814692820193, -0.798754374400868], [4.076814692820193, -0.8047309092633365], [4.086814692820193, -0.8106269717054855], [4.0968146928201925, -0.8164419721259841], [4.106814692820192, -0.8221753290296363], [4.116814692820192, -0.8278264690855293], [4.126814692820192, -0.8333948271843667], [4.136814692820192, -0.8388798464949793], [4.146814692820191, -0.8442809785200064], [4.156814692820191, -0.8495976831507467], [4.166814692820191, -0.8548294287211677], [4.176814692820191, -0.859975692061072], [4.186814692820191, -0.8650359585484143], [4.19681469282019, -0.8700097221607626], [4.20681469282019, -0.8748964855259005], [4.21681469282019, -0.8796957599715638], [4.22681469282019, -0.8844070655743073], [4.2368146928201895, -0.8890299312074968], [4.246814692820189, -0.8935638945884213], [4.256814692820189, -0.8980085023245212], [4.266814692820189, -0.9023633099587265], [4.276814692820189, -0.9066278820139029], [4.2868146928201885, -0.9108017920363985], [4.296814692820188, -0.9148846226386895], [4.306814692820188, -0.9188759655411181], [4.316814692820188, -0.9227754216127197], [4.326814692820188, -0.9265826009111372], [4.336814692820187, -0.9302971227216131], [4.346814692820187, -0.933918615595062], [4.356814692820187, -0.9374467173852142], [4.366814692820187, -0.9408810752848309], [4.3768146928201865, -0.944221345860984], [4.386814692820186, -0.9474671950893996], [4.396814692820186, -0.9506182983878596], [4.406814692820186, -0.9536743406486601], [4.416814692820186, -0.9566350162701217], [4.4268146928201855, -0.9595000291871495], [4.436814692820185, -0.9622690929008393], [4.446814692820185, -0.9649419305071272], [4.456814692820185, -0.9675182747244799], [4.466814692820185, -0.9699978679206228], [4.476814692820184, -0.9723804621383025], [4.486814692820184, -0.9746658191200828], [4.496814692820184, -0.9768537103321698], [4.506814692820184, -0.9789439169872657], [4.5168146928201836, -0.9809362300664467], [4.526814692820183, -0.9828304503400652], [4.536814692820183, -0.9846263883876724], [4.546814692820183, -0.9863238646169601], [4.556814692820183, -0.9879227092817198], [4.5668146928201825, -0.9894227624988176], [4.576814692820182, -0.9908238742641817], [4.586814692820182, -0.9921259044678032], [4.596814692820182, -0.9933287229077469], [4.606814692820182, -0.9944322093031708], [4.616814692820181, -0.9954362533063552], [4.626814692820181, -0.9963407545137365], [4.636814692820181, -0.9971456224759475], [4.646814692820181, -0.9978507767068628], [4.656814692820181, -0.9984561466916472], [4.66681469282018, -0.9989616718938062], [4.67681469282018, -0.9993673017612412], [4.68681469282018, -0.9996729957313034], [4.69681469282018, -0.9998787232348505], [4.7068146928201795, -0.9999844636993037], [4.716814692820179, -0.9999902065507045], [4.726814692820179, -0.9998959512147726], [4.736814692820179, -0.9997017071169632], [4.746814692820179, -0.9994074936815239], [4.756814692820178, -0.9990133403295535], [4.766814692820178, -0.9985192864760583], [4.776814692820178, -0.9979253815260122], [4.786814692820178, -0.9972316848694152], [4.796814692820178, -0.9964382658753549], [4.806814692820177, -0.9955452038850694], [4.816814692820177, -0.9945525882040138], [4.826814692820177, -0.9934605180929288], [4.836814692820177, -0.9922691027579156], [4.8468146928201765, -0.9909784613395146], [4.856814692820176, -0.9895887229007925], [4.866814692820176, -0.9881000264144347], [4.876814692820176, -0.9865125207488494], [4.886814692820176, -0.9848263646532803], [4.8968146928201755, -0.9830417267419318], [4.906814692820175, -0.9811587854771078], [4.916814692820175, -0.9791777291513656], [4.926814692820175, -0.9770987558686871], [4.936814692820175, -0.974922073524668], [4.946814692820174, -0.9726478997857286], [4.956814692820174, -0.9702764620673481], [4.966814692820174, -0.9678079975113217], [4.976814692820174, -0.9652427529620482], [4.9868146928201735, -0.9625809849418449], [4.996814692820173, -0.9598229596252954], [5.006814692820173, -0.9569689528126333], [5.016814692820173, -0.9540192499021614], [5.026814692820173, -0.9509741458617126], [5.0368146928201725, -0.9478339451991534], [5.046814692820172, -0.9445989619319334], [5.056814692820172, -0.9412695195556833], [5.066814692820172, -0.9378459510118664], [5.076814692820172, -0.9343285986544839], [5.086814692820171, -0.9307178142158405], [5.096814692820171, -0.9270139587713713], [5.106814692820171, -0.9232174027035338], [5.116814692820171, -0.9193285256647713], [5.1268146928201705, -0.9153477165395469], [5.13681469282017, -0.9112753734054558], [5.14681469282017, -0.9071119034934177], [5.15681469282017, -0.9028577231469544], [5.16681469282017, -0.8985132577805554], [5.1768146928201695, -0.8940789418371368], [5.186814692820169, -0.8895552187445978], [5.196814692820169, -0.8849425408714778], [5.206814692820169, -0.8802413694817204], [5.216814692820169, -0.8754521746885469], [5.226814692820168, -0.8705754354074455], [5.236814692820168, -0.8656116393082806], [5.246814692820168, -0.8605612827665254], [5.256814692820168, -0.8554248708136256], [5.266814692820168, -0.8502029170864961], [5.276814692820167, -0.8448959437761581], [5.286814692820167, -0.83950448157552], [5.296814692820167, -0.8340290696263091], [5.306814692820167, -0.8284702554651575], [5.3168146928201665, -0.822828594968849], [5.326814692820166, -0.8171046522987317], [5.336814692820166, -0.811298999844303], [5.346814692820166, -0.8054122181659701], [5.356814692820166, -0.7994448959369951], [5.366814692820165, -0.7933976298846283], [5.376814692820165, -0.7872710247304355], [5.386814692820165, -0.7810656931298267], [5.396814692820165, -0.7747822556107908], [5.406814692820165, -0.7684213405118436], [5.416814692820164, -0.7619835839191942], [5.426814692820164, -0.755469629603137], [5.436814692820164, -0.7488801289536755], [5.446814692820164, -0.7422157409153833], [5.4568146928201635, -0.7354771319215107], [5.466814692820163, -0.7286649758273414], [5.476814692820163, -0.7217799538428082], [5.486814692820163, -0.714822754464372], [5.496814692820163, -0.7077940734061731], [5.5068146928201624, -0.7006946135304599], [5.516814692820162, -0.6935250847773039], [5.526814692820162, -0.6862862040936059], [5.536814692820162, -0.6789786953614017], [5.546814692820162, -0.6716032893254751], [5.556814692820161, -0.6641607235202835], [5.566814692820161, -0.6566517421962054], [5.576814692820161, -0.6490770962451154], [5.586814692820161, -0.6414375431252969], [5.5968146928201605, -0.6337338467856953], [5.60681469282016, -0.6259667775895249], [5.61681469282016, -0.6181371122372328], [5.62681469282016, -0.6102456336888296], [5.63681469282016, -0.6022931310855937], [5.6468146928201595, -0.5942803996711585], [5.656814692820159, -0.5862082407119884], [5.666814692820159, -0.5780774614172521], [5.676814692820159, -0.5698888748581039], [5.686814692820159, -0.5616432998863756], [5.696814692820158, -0.5533415610526933], [5.706814692820158, -0.544984488524022], [5.716814692820158, -0.5365729180006507], [5.726814692820158, -0.5281076906326218], [5.7368146928201575, -0.519589652935618], [5.746814692820157, -0.5110196567063104], [5.756814692820157, -0.5023985589371807], [5.766814692820157, -0.49372722173082123], [5.776814692820157, -0.4850065122137267], [5.7868146928201565, -0.4762373024495815], [5.796814692820156, -0.4674204693520545], [5.806814692820156, -0.458556894597108], [5.816814692820156, -0.4496474645348313], [5.826814692820156, -0.4406930701008061], [5.836814692820155, -0.4316946067270138], [5.846814692820155, -0.4226529742522931], [5.856814692820155, -0.41356907683235683], [5.866814692820155, -0.4044438228493771], [5.876814692820155, -0.39527812482114777], [5.886814692820154, -0.3860728993098337], [5.896814692820154, -0.376829066830315], [5.906814692820154, -0.3675475517581364], [5.916814692820154, -0.3582292822370706], [5.9268146928201535, -0.3488751900863046], [5.936814692820153, -0.3394862107072582], [5.946814692820153, -0.33006328299004534], [5.956814692820153, -0.32060734921958534], [5.966814692820153, -0.3111193549813753], [5.976814692820152, -0.3016002490669323], [5.986814692820152, -0.2920509833789154], [5.996814692820152, -0.28247251283593555], [6.006814692820152, -0.2728657952770651], [6.016814692820152, -0.26323179136605435], [6.026814692820151, -0.25357146449526613], [6.036814692820151, -0.2438857806893372], [6.046814692820151, -0.2341757085085768], [6.056814692820151, -0.22444221895211133], [6.0668146928201505, -0.2146862853607852], [6.07681469282015, -0.20490888331982765], [6.08681469282015, -0.19511099056129494], [6.09681469282015, -0.18529358686629807], [6.10681469282015, -0.17545765396702537], [6.1168146928201494, -0.16560417544857017], [6.126814692820149, -0.15573413665057317], [6.136814692820149, -0.1458485245686891], [6.146814692820149, -0.1359483277558882], [6.156814692820149, -0.1260345362236016], [6.166814692820148, -0.1161081413427211], [6.176814692820148, -0.10617013574446277], [6.186814692820148, -0.09622151322110481], [6.196814692820148, -0.08626326862660907], [6.2068146928201475, -0.07629639777713648], [6.216814692820147, -0.0663218973514663], [6.226814692820147, -0.05634076479132905], [6.236814692820147, -0.046353998201663145], [6.246814692820147, -0.03636259625080527], [6.2568146928201465, -0.026367558070624377], [6.266814692820146, -0.016369883156609314], [6.276814692820146, -0.006370571267920115]], \"data01\": [[-6.283185307179586, 2.4492935982947064e-16], [-6.183185307179587, 0.09983341664682804], [-6.083185307179587, 0.19866933079506077], [-5.983185307179587, 0.29552020666133877], [-5.883185307179588, 0.3894183423086494], [-5.783185307179588, 0.4794255386042017], [-5.683185307179588, 0.5646424733950338], [-5.583185307179589, 0.6442176872376894], [-5.483185307179589, 0.7173560908995209], [-5.383185307179589, 0.7833269096274815], [-5.28318530717959, 0.8414709848078947], [-5.18318530717959, 0.8912073600614336], [-5.0831853071795905, 0.9320390859672248], [-4.983185307179591, 0.9635581854171918], [-4.883185307179591, 0.9854497299884594], [-4.783185307179592, 0.9974949866040541], [-4.683185307179592, 0.9995736030415053], [-4.583185307179592, 0.9916648104524693], [-4.483185307179593, 0.9738476308781966], [-4.383185307179593, 0.9463000876874166], [-4.283185307179593, 0.9092974268256846], [-4.183185307179594, 0.8632093666488774], [-4.083185307179594, 0.8084964038195946], [-3.9831853071795944, 0.7457052121767255], [-3.8831853071795948, 0.6754631805511571], [-3.783185307179595, 0.5984721441039634], [-3.6831853071795955, 0.5155013718214719], [-3.583185307179596, 0.4273798802338384], [-3.483185307179596, 0.33498815015591404], [-3.3831853071795965, 0.23924932921399208], [-3.283185307179597, 0.14112000805987754], [-3.1831853071795972, 0.04158066243330134], [-3.0831853071795976, -0.0583741434275688], [-2.983185307179598, -0.15774569414323705], [-2.8831853071795983, -0.2555411020268199], [-2.7831853071795987, -0.35078322768960846], [-2.683185307179599, -0.44252044329484114], [-2.5831853071795994, -0.5298361409084823], [-2.4831853071795997, -0.6118578909427086], [-2.3831853071796, -0.6877661591839639], [-2.2831853071796004, -0.7568024953079191], [-2.183185307179601, -0.8182771110644023], [-2.083185307179601, -0.8715757724135809], [-1.9831853071796015, -0.9161659367494489], [-1.8831853071796019, -0.9516020738895112], [-1.7831853071796022, -0.9775301176650938], [-1.6831853071796026, -0.9936910036334626], [-1.583185307179603, -0.9999232575641007], [-1.4831853071796033, -0.9961646088358421], [-1.3831853071796036, -0.9824526126243357], [-1.283185307179604, -0.9589242746631434], [-1.1831853071796044, -0.925814682327739], [-1.0831853071796047, -0.8834546557201618], [-0.9831853071796051, -0.8322674422239115], [-0.8831853071796054, -0.7727644875559994], [-0.7831853071796058, -0.7055403255704056], [-0.6831853071796061, -0.6312666378723365], [-0.5831853071796065, -0.5506855425976545], [-0.48318530717960684, -0.46460217941377524], [-0.3831853071796072, -0.37387666483025556], [-0.28318530717960755, -0.2794154981989461], [-0.1831853071796079, -0.1821625042721166], [-0.08318530717960826, -0.08308940281751828], [0.016814692820391386, 0.016813900484327755], [0.11681469282039103, 0.11654920485047095], [0.21681469282039068, 0.2151199880877932], [0.3168146928203903, 0.31154136351335615], [0.41681469282038996, 0.4048499206165766], [0.5168146928203896, 0.4941133511385875], [0.6168146928203893, 0.5784397643881801], [0.7168146928203889, 0.6569865987187705], [0.8168146928203885, 0.7289690401258591], [0.9168146928203882, 0.7936678638491377], [1.0168146928203878, 0.850436620628551], [1.1168146928203875, 0.8987080958116154], [1.2168146928203871, 0.9379999767747297], [1.3168146928203868, 0.9679196720314797], [1.4168146928203864, 0.9881682338769963], [1.516814692820386, 0.9985433453746034], [1.6168146928203857, 0.9989413418397733], [1.7168146928203853, 0.9893582466233859], [1.816814692820385, 0.9698898108450932], [1.9168146928203846, 0.9407305566797827], [2.0168146928203843, 0.9021718337563063], [2.116814692820384, 0.8545989080882961], [2.2168146928203836, 0.7984871126235084], [2.316814692820383, 0.7343970978741338], [2.416814692820383, 0.6629692300822058], [2.5168146928203825, 0.5849171928917875], [2.616814692820382, 0.5010208564579122], [2.716814692820382, 0.41211848524178546], [2.8168146928203814, 0.31909836234938216], [2.916814692820381, 0.22288991410027859], [3.0168146928203807, 0.12445442350709494], [3.1168146928203804, 0.024775425453391262], [3.21681469282038, -0.0751511204617759], [3.3168146928203797, -0.17432678122294665], [3.4168146928203793, -0.2717606264109102], [3.516814692820379, -0.3664791292518956], [3.6168146928203786, -0.45753589377528997], [3.7168146928203782, -0.5440211108893402], [3.816814692820378, -0.6250706488928546], [3.9168146928203775, -0.6998746875935171], [4.016814692820377, -0.7676858097635587], [4.116814692820377, -0.8278264690856328], [4.2168146928203765, -0.8796957599716525], [4.316814692820376, -0.9227754216127924], [4.416814692820376, -0.9566350162701771], [4.516814692820375, -0.980936230066484], [4.616814692820375, -0.9954362533063738], [4.716814692820375, -0.9999902065507036], [4.816814692820374, -0.9945525882039933], [4.916814692820374, -0.9791777291513253], [5.016814692820374, -0.9540192499021012], [5.116814692820373, -0.9193285256646917], [5.216814692820373, -0.8754521746884482], [5.316814692820373, -0.822828594968732], [5.416814692820372, -0.7619835839190596], [5.516814692820372, -0.6935250847771529], [5.6168146928203715, -0.6181371122370666], [5.716814692820371, -0.5365729180004707], [5.816814692820371, -0.44964746453463933], [5.91681469282037, -0.3582292822368683], [6.01681469282037, -0.26323179136584357], [6.11681469282037, -0.16560417544835296], [6.216814692820369, -0.06632189735124476]], \"data03\": [[-6.283185307179586, 2.4492935982947064e-16], [-5.283185307179586, 0.8414709848078966], [-4.283185307179586, 0.9092974268256816], [-3.2831853071795862, 0.141120008059867], [-2.2831853071795862, -0.7568024953079284], [-1.2831853071795862, -0.9589242746631385], [-0.28318530717958623, -0.27941549819892564], [0.7168146928204138, 0.6569865987187893], [1.7168146928204138, 0.9893582466233818], [2.7168146928204138, 0.41211848524175637], [3.7168146928204138, -0.54402111088937], [4.716814692820414, -0.9999902065507035], [5.716814692820414, -0.5365729180004347]]}, \"width\": 480.0, \"height\": 320.0, \"plugins\": [{\"type\": \"reset\"}, {\"button\": true, \"type\": \"zoom\", \"enabled\": false}, {\"button\": true, \"type\": \"boxzoom\", \"enabled\": false}], \"id\": \"el140203008235468\"});\n",
       "   }(mpld3);\n",
       "}else if(typeof define === \"function\" && define.amd){\n",
       "   // require.js is available: use it to load d3/mpld3\n",
       "   require.config({paths: {d3: \"https://mpld3.github.io/js/d3.v3.min\"}});\n",
       "   require([\"d3\"], function(d3){\n",
       "      window.d3 = d3;\n",
       "      mpld3_load_lib(\"https://mpld3.github.io/js/mpld3.v0.2.js\", function(){\n",
       "         \n",
       "         mpld3.draw_figure(\"fig_el1402030082354689518720116\", {\"axes\": [{\"axes\": [{\"tickformat\": null, \"grid\": {\"gridOn\": false}, \"position\": \"bottom\", \"scale\": \"linear\", \"fontsize\": 10.0, \"nticks\": 9, \"tickvalues\": null}, {\"tickformat\": null, \"grid\": {\"gridOn\": false}, \"position\": \"left\", \"scale\": \"linear\", \"fontsize\": 10.0, \"nticks\": 5, \"tickvalues\": null}], \"sharey\": [], \"collections\": [], \"xlim\": [-8.0, 8.0], \"images\": [], \"ylim\": [-1.0, 1.0], \"axesbg\": \"#FFFFFF\", \"paths\": [], \"id\": \"el140202930390924\", \"xscale\": \"linear\", \"yscale\": \"linear\", \"markers\": [], \"bbox\": [0.125, 0.125, 0.775, 0.775], \"sharex\": [], \"axesbgalpha\": null, \"zoomable\": true, \"texts\": [], \"ydomain\": [-1.0, 1.0], \"xdomain\": [-8.0, 8.0], \"lines\": [{\"alpha\": 1, \"data\": \"data01\", \"xindex\": 0, \"dasharray\": \"10,0\", \"color\": \"#0000FF\", \"coordinates\": \"data\", \"zorder\": 2, \"linewidth\": 1.0, \"yindex\": 1, \"id\": \"el140202930980396\"}, {\"alpha\": 1, \"data\": \"data02\", \"xindex\": 0, \"dasharray\": \"10,0\", \"color\": \"#007F00\", \"coordinates\": \"data\", \"zorder\": 2, \"linewidth\": 1.0, \"yindex\": 1, \"id\": \"el140202930981420\"}, {\"alpha\": 1, \"data\": \"data03\", \"xindex\": 0, \"dasharray\": \"10,0\", \"color\": \"#FF0000\", \"coordinates\": \"data\", \"zorder\": 2, \"linewidth\": 1.0, \"yindex\": 1, \"id\": \"el140202930993484\"}, {\"alpha\": 1, \"data\": \"data04\", \"xindex\": 0, \"dasharray\": \"10,0\", \"color\": \"#00BFBF\", \"coordinates\": \"data\", \"zorder\": 2, \"linewidth\": 1.0, \"yindex\": 1, \"id\": \"el140202930994604\"}]}], \"data\": {\"data04\": [[-6.283185307179586, 2.4492935982947064e-16], [-6.026728764029399, 0.2536545839095075], [-5.770272220879212, 0.49071755200393785], [-5.513815677729025, 0.6956825506034863], [-5.257359134578838, 0.855142763005346], [-5.00090259142865, 0.9586678530366608], [-4.744446048278463, 0.9994862162006879], [-4.487989505128276, 0.9749279121818236], [-4.231532961978089, 0.886599306373], [-3.9750764188279017, 0.7402779970753156], [-3.7186198756777147, 0.5455349012105488], [-3.462163332527527, 0.3151082180236206], [-3.20570678937734, 0.064070219980713], [-2.949250246227153, -0.1911586287013721], [-2.6927937030769655, -0.43388373911755823], [-2.4363371599267785, -0.6482283953077884], [-2.1798806167765914, -0.8201722545969558], [-1.9234240736264043, -0.9384684220497603], [-1.6669675304762173, -0.9953791129491981], [-1.4105109873260302, -0.9871817834144502], [-1.1540544441758431, -0.9144126230158127], [-0.8975979010256552, -0.7818314824680298], [-0.6411413578754681, -0.5981105304912161], [-0.38468481472528104, -0.37526700487937437], [-0.12822827157509398, -0.12787716168450639], [0.1282282715750931, 0.1278771616845055], [0.38468481472528016, 0.37526700487937353], [0.6411413578754672, 0.5981105304912153], [0.8975979010256552, 0.7818314824680298], [1.1540544441758422, 0.9144126230158124], [1.4105109873260293, 0.9871817834144501], [1.6669675304762164, 0.9953791129491982], [1.9234240736264034, 0.9384684220497606], [2.1798806167765914, 0.8201722545969558], [2.4363371599267776, 0.6482283953077891], [2.6927937030769655, 0.43388373911755823], [2.9492502462271517, 0.1911586287013734], [3.2057067893773397, -0.06407021998071255], [3.462163332527526, -0.3151082180236194], [3.718619875677714, -0.5455349012105482], [3.9750764188279, -0.7402779970753144], [4.231532961978088, -0.8865993063729997], [4.487989505128276, -0.9749279121818236], [4.744446048278462, -0.9994862162006879], [5.00090259142865, -0.9586678530366608], [5.257359134578836, -0.855142763005347], [5.513815677729024, -0.6956825506034869], [5.77027222087921, -0.4907175520039394], [6.026728764029398, -0.25365458390950835], [6.283185307179586, -2.4492935982947064e-16]], \"data02\": [[-6.283185307179586, 2.4492935982947064e-16], [-6.2731853071795864, 0.009999833334166696], [-6.263185307179587, 0.019998666693332896], [-6.253185307179587, 0.029995500202495265], [-6.243185307179587, 0.03998933418663355], [-6.233185307179587, 0.04997916927067751], [-6.2231853071795875, 0.05996400647944357], [-6.213185307179588, 0.06994284733753152], [-6.203185307179588, 0.07991469396917124], [-6.193185307179588, 0.08987854919800939], [-6.183185307179588, 0.09983341664682628], [-6.173185307179589, 0.10977830083717272], [-6.163185307179589, 0.11971220728891706], [-6.153185307179589, 0.12963414261969236], [-6.143185307179589, 0.13954311464423377], [-6.133185307179589, 0.1494381324735963], [-6.12318530717959, 0.15931820661424284], [-6.11318530717959, 0.16918234906699267], [-6.10318530717959, 0.17902957342582065], [-6.09318530717959, 0.18885889497649685], [-6.0831853071795905, 0.19866933079505728], [-6.073185307179591, 0.20845989984609542], [-6.063185307179591, 0.218229623080865], [-6.053185307179591, 0.22797752353518386], [-6.043185307179591, 0.23770262642712986], [-6.033185307179592, 0.247403959254518], [-6.023185307179592, 0.25708055189214996], [-6.013185307179592, 0.2667314366888258], [-6.003185307179592, 0.2763556485641082], [-5.993185307179592, 0.28595222510482987], [-5.983185307179593, 0.2955202066613337], [-5.973185307179593, 0.30505863644343745], [-5.963185307179593, 0.31456656061611155], [-5.953185307179593, 0.32404302839486193], [-5.9431853071795935, 0.3334870921408078], [-5.933185307179594, 0.34289780745544457], [-5.923185307179594, 0.352274233275083], [-5.913185307179594, 0.3616154319649548], [-5.903185307179594, 0.37092046941297535], [-5.8931853071795945, 0.380188415123154], [-5.883185307179595, 0.38941834230864286], [-5.873185307179595, 0.3986093279844151], [-5.863185307179595, 0.4077604530595622], [-5.853185307179595, 0.41687080242920266], [-5.843185307179596, 0.42593946506599134], [-5.833185307179596, 0.4349655341112218], [-5.823185307179596, 0.4439481069655112], [-5.813185307179596, 0.45288628537905956], [-5.8031853071795965, 0.461779175541474], [-5.793185307179597, 0.47062588817114903], [-5.783185307179597, 0.47942553860419385], [-5.773185307179597, 0.4881772468828982], [-5.763185307179597, 0.4968801378437273], [-5.7531853071795975, 0.5055333412048374], [-5.743185307179598, 0.5141359916531034], [-5.733185307179598, 0.5226872289306493], [-5.723185307179598, 0.5311861979208735], [-5.713185307179598, 0.5396320487339592], [-5.703185307179599, 0.5480239367918635], [-5.693185307179599, 0.5563610229127736], [-5.683185307179599, 0.564642473395025], [-5.673185307179599, 0.5728674601004708], [-5.6631853071795994, 0.5810351605372945], [-5.6531853071796, 0.5891447579422588], [-5.6431853071796, 0.5971954413623813], [-5.6331853071796, 0.6051864057360288], [-5.6231853071796, 0.6131168519734229], [-5.6131853071796005, 0.6209859870365487], [-5.603185307179601, 0.6287930240184574], [-5.593185307179601, 0.6365371822219568], [-5.583185307179601, 0.6442176872376798], [-5.573185307179601, 0.6518337710215254], [-5.563185307179602, 0.6593846719714618], [-5.553185307179602, 0.6668696350036865], [-5.543185307179602, 0.6742879116281336], [-5.533185307179602, 0.6816387600233227], [-5.523185307179602, 0.6889214451105398], [-5.513185307179603, 0.6961352386273452], [-5.503185307179603, 0.7032794192003985], [-5.493185307179603, 0.7103532724175962], [-5.483185307179603, 0.717356090899511], [-5.4731853071796035, 0.7242871743701308], [-5.463185307179604, 0.7311458297268841], [-5.453185307179604, 0.737931371109951], [-5.443185307179604, 0.7446431199708475], [-5.433185307179604, 0.7512804051402809], [-5.423185307179605, 0.7578425628952652], [-5.413185307179605, 0.7643289370254933], [-5.403185307179605, 0.7707388788989575], [-5.393185307179605, 0.7770717475268121], [-5.383185307179605, 0.7833269096274716], [-5.373185307179606, 0.7895037396899387], [-5.363185307179606, 0.7956016200363543], [-5.353185307179606, 0.8016199408837654], [-5.343185307179606, 0.8075581004051026], [-5.3331853071796065, 0.8134155047893621], [-5.323185307179607, 0.8191915683009867], [-5.313185307179607, 0.8248857133384385], [-5.303185307179607, 0.8304973704919589], [-5.293185307179607, 0.8360259786005091], [-5.2831853071796075, 0.8414709848078851], [-5.273185307179608, 0.8468318446180039], [-5.263185307179608, 0.8521080219493516], [-5.253185307179608, 0.8572989891885922], [-5.243185307179608, 0.8624042272433273], [-5.233185307179609, 0.8674232255940059], [-5.223185307179609, 0.8723554823449753], [-5.213185307179609, 0.8772005042746708], [-5.203185307179609, 0.8819578068849367], [-5.1931853071796095, 0.8866269144494766], [-5.18318530717961, 0.8912073600614249], [-5.17318530717961, 0.8956986856800372], [-5.16318530717961, 0.9001004421764947], [-5.15318530717961, 0.9044121893788157], [-5.1431853071796105, 0.9086334961158732], [-5.133185307179611, 0.9127639402605112], [-5.123185307179611, 0.9168031087717572], [-5.113185307179611, 0.920750597736126], [-5.103185307179611, 0.9246060124080109], [-5.093185307179612, 0.9283689672491574], [-5.083185307179612, 0.9320390859672172], [-5.073185307179612, 0.9356160015533769], [-5.063185307179612, 0.9390993563190587], [-5.0531853071796125, 0.9424888019316888], [-5.043185307179613, 0.9457839994495305], [-5.033185307179613, 0.9489846193555779], [-5.023185307179613, 0.9520903415905076], [-5.013185307179613, 0.9551008555846843], [-5.0031853071796135, 0.9580158602892173], [-4.993185307179614, 0.9608350642060651], [-4.983185307179614, 0.9635581854171856], [-4.973185307179614, 0.9661849516127269], [-4.963185307179614, 0.9687151001182583], [-4.953185307179615, 0.9711483779210378], [-4.943185307179615, 0.9734845416953128], [-4.933185307179615, 0.9757233578266529], [-4.923185307179615, 0.9778646024353101], [-4.913185307179615, 0.9799080613986084], [-4.903185307179616, 0.9818535303723542], [-4.893185307179616, 0.9837008148112713], [-4.883185307179616, 0.9854497299884551], [-4.873185307179616, 0.9871001010138456], [-4.8631853071796165, 0.9886517628517153], [-4.853185307179617, 0.9901045603371735], [-4.843185307179617, 0.9914583481916824], [-4.833185307179617, 0.9927129910375848], [-4.823185307179617, 0.9938683634116414], [-4.813185307179618, 0.9949243497775778], [-4.803185307179618, 0.9958808445376373], [-4.793185307179618, 0.9967377520431409], [-4.783185307179618, 0.9974949866040522], [-4.773185307179618, 0.9981524724975461], [-4.763185307179619, 0.9987101439755813], [-4.753185307179619, 0.9991679452714747], [-4.743185307179619, 0.9995258306054781], [-4.733185307179619, 0.9997837641893563], [-4.7231853071796195, 0.999941720229966], [-4.71318530717962, 0.9999996829318346], [-4.70318530717962, 0.9999576464987404], [-4.69318530717962, 0.9998156151342915], [-4.68318530717962, 0.9995736030415061], [-4.6731853071796206, 0.9992316344213918], [-4.663185307179621, 0.9987897434705257], [-4.653185307179621, 0.9982479743776345], [-4.643185307179621, 0.9976063813191761], [-4.633185307179621, 0.9968650284539217], [-4.623185307179622, 0.9960239899165398], [-4.613185307179622, 0.9950833498101836], [-4.603185307179622, 0.9940432021980798], [-4.593185307179622, 0.9929036510941228], [-4.5831853071796225, 0.9916648104524732], [-4.573185307179623, 0.990326804156163], [-4.563185307179623, 0.9888897660047069], [-4.553185307179623, 0.9873538397007222], [-4.543185307179623, 0.9857191788355597], [-4.5331853071796235, 0.9839859468739435], [-4.523185307179624, 0.9821543171376255], [-4.513185307179624, 0.9802244727880529], [-4.503185307179624, 0.9781966068080525], [-4.493185307179624, 0.9760709219825324], [-4.483185307179625, 0.9738476308782038], [-4.473185307179625, 0.9715269558223244], [-4.463185307179625, 0.9691091288804659], [-4.453185307179625, 0.9665943918333075], [-4.4431853071796255, 0.9639829961524585], [-4.433185307179626, 0.9612752029753108], [-4.423185307179626, 0.9584712830789254], [-4.413185307179626, 0.9555715168529556], [-4.403185307179626, 0.9525761942716074], [-4.3931853071796265, 0.949485614864643], [-4.383185307179627, 0.9463000876874275], [-4.373185307179627, 0.943019931290024], [-4.363185307179627, 0.9396454736853388], [-4.353185307179627, 0.9361770523163204], [-4.343185307179628, 0.9326150140222154], [-4.333185307179628, 0.9289597150038846], [-4.323185307179628, 0.925211520788184], [-4.313185307179628, 0.9213708061914117], [-4.303185307179628, 0.9174379552818266], [-4.293185307179629, 0.9134133613412424], [-4.283185307179629, 0.9092974268256994], [-4.273185307179629, 0.9050905633252191], [-4.263185307179629, 0.9007931915226459], [-4.2531853071796295, 0.896405741151579], [-4.24318530717963, 0.8919286509533992], [-4.23318530717963, 0.8873623686333955], [-4.22318530717963, 0.8827073508159946], [-4.21318530717963, 0.8779640629990991], [-4.203185307179631, 0.873132979507538], [-4.193185307179631, 0.8682145834456345], [-4.183185307179631, 0.8632093666488962], [-4.173185307179631, 0.8581178296348319], [-4.163185307179631, 0.8529404815528997], [-4.153185307179632, 0.8476778401335937], [-4.143185307179632, 0.8423304316366702], [-4.133185307179632, 0.8368987907985227], [-4.123185307179632, 0.8313834607787086], [-4.1131853071796325, 0.825784993105634], [-4.103185307179633, 0.8201039476214007], [-4.093185307179633, 0.8143408924258229], [-4.083185307179633, 0.8084964038196176], [-4.073185307179633, 0.8025710662467752], [-4.0631853071796336, 0.7965654722361151], [-4.053185307179634, 0.7904802223420337], [-4.043185307179634, 0.7843159250844495], [-4.033185307179634, 0.7780731968879512], [-4.023185307179634, 0.7717526620201564], [-4.013185307179635, 0.7653549525292845], [-4.003185307179635, 0.7588807081809534], [-3.993185307179635, 0.7523305763942028], [-3.9831853071796353, 0.7457052121767527], [-3.9731853071796355, 0.7390052780595039], [-3.9631853071796357, 0.7322314440302848], [-3.953185307179636, 0.7253843874668536], [-3.943185307179636, 0.7184647930691607], [-3.9331853071796363, 0.7114733527908794], [-3.9231853071796365, 0.7044107657702117], [-3.9131853071796368, 0.6972777382599739], [-3.903185307179637, 0.6900749835569729], [-3.893185307179637, 0.6828032219306768], [-3.8831853071796374, 0.6754631805511885], [-3.8731853071796376, 0.6680555934165291], [-3.863185307179638, 0.6605812012792392], [-3.853185307179638, 0.6530407515723039], [-3.8431853071796382, 0.6454349983344102], [-3.8331853071796385, 0.6377647021345438], [-3.8231853071796387, 0.6300306299959327], [-3.813185307179639, 0.6222335553193458], [-3.803185307179639, 0.6143742578057533], [-3.7931853071796393, 0.6064535233783569], [-3.7831853071796395, 0.598472144103999], [-3.7731853071796397, 0.5904309181139558], [-3.76318530717964, 0.5823306495241254], [-3.75318530717964, 0.5741721483546164], [-3.7431853071796404, 0.5659562304487472], [-3.7331853071796406, 0.5576837173914618], [-3.723185307179641, 0.5493554364271721], [-3.713185307179641, 0.5409722203770343], [-3.7031853071796412, 0.5325349075556676], [-3.6931853071796414, 0.5240443416873228], [-3.6831853071796417, 0.5155013718215116], [-3.673185307179642, 0.5069068522481012], [-3.663185307179642, 0.49826164241188686], [-3.6531853071796423, 0.4895666068266481], [-3.6431853071796425, 0.4808226149886975], [-3.6331853071796427, 0.47203054128993216], [-3.623185307179643, 0.4631912649303953], [-3.613185307179643, 0.45430566983035686], [-3.6031853071796434, 0.4453746445419222], [-3.5931853071796436, 0.43639908216017764], [-3.583185307179644, 0.42737988023388174], [-3.573185307179644, 0.41831794067571115], [-3.563185307179644, 0.4092141696720702], [-3.5531853071796444, 0.40006947759247263], [-3.5431853071796446, 0.3908847788985059], [-3.533185307179645, 0.38166099205238563], [-3.523185307179645, 0.3723990394251099], [-3.5131853071796453, 0.3630998472042231], [-3.5031853071796455, 0.3537643453011981], [-3.4931853071796457, 0.34439346725844566], [-3.483185307179646, 0.33498815015596095], [-3.473185307179646, 0.3255493345176165], [-3.4631853071796463, 0.3160779642171105], [-3.4531853071796466, 0.30657498638358016], [-3.4431853071796468, 0.29704135130688986], [-3.433185307179647, 0.28747801234260245], [-3.423185307179647, 0.277885925816645], [-3.4131853071796474, 0.2682660509296767], [-3.4031853071796476, 0.2586193496611698], [-3.393185307179648, 0.24894678667321213], [-3.383185307179648, 0.2392493292140421], [-3.3731853071796483, 0.22952794702132448], [-3.3631853071796485, 0.21978361222517737], [-3.3531853071796487, 0.21001729925096013], [-3.343185307179649, 0.20022998472183162], [-3.333185307179649, 0.19042264736108871], [-3.3231853071796493, 0.1805962678942947], [-3.3131853071796495, 0.17075182895120766], [-3.3031853071796498, 0.1608903149675182], [-3.29318530717965, 0.15101271208640682], [-3.28318530717965, 0.1411200080599303], [-3.2731853071796504, 0.13121319215024738], [-3.2631853071796506, 0.12129325503069342], [-3.253185307179651, 0.11136118868671377], [-3.243185307179651, 0.10141798631666613], [-3.2331853071796512, 0.09146464223250152], [-3.2231853071796515, 0.08150215176033394], [-3.2131853071796517, 0.07153151114090857], [-3.203185307179652, 0.061553717429978505], [-3.193185307179652, 0.05156976839860003], [-3.1831853071796523, 0.041580662433356355], [-3.1731853071796525, 0.03158739843651979], [-3.1631853071796527, 0.021590975726162313], [-3.153185307179653, 0.011592393936224639], [-3.143185307179653, 0.0015926529165536407], [-3.1331853071796534, -0.008407247367081807], [-3.1231853071796536, -0.018406306932986564], [-3.113185307179654, -0.02840352588353656], [-3.103185307179654, -0.038397904505167724], [-3.0931853071796542, -0.04838844336834652], [-3.0831853071796544, -0.05837414342751206], [-3.0731853071796547, -0.06835400612097979], [-3.063185307179655, -0.07832703347079692], [-3.053185307179655, -0.08829222818253928], [-3.0431853071796553, -0.09824859374503998], [-3.0331853071796555, -0.10819513453003975], [-3.0231853071796557, -0.11813085589174882], [-3.013185307179656, -0.12805476426631077], [-3.003185307179656, -0.13796586727115803], [-2.9931853071796564, -0.14786317380424935], [-2.9831853071796566, -0.15774569414317915], [-2.973185307179657, -0.16761244004414896], [-2.963185307179657, -0.1774624248407909], [-2.953185307179657, -0.1872946635428336], [-2.9431853071796574, -0.19710817293460042], [-2.9331853071796576, -0.20690197167333005], [-2.923185307179658, -0.21667508038731007], [-2.913185307179658, -0.2264265217738133], [-2.9031853071796583, -0.23615532069682732], [-2.8931853071796585, -0.2458605042845671], [-2.8831853071796587, -0.2555411020267615], [-2.873185307179659, -0.2651961458717034], [-2.863185307179659, -0.2748246703230542], [-2.8531853071796593, -0.2844257125363925], [-2.8431853071796596, -0.2939983124154978], [-2.8331853071796598, -0.30354151270835933], [-2.82318530717966, -0.3130543591029004], [-2.81318530717966, -0.32253590032240903], [-2.8031853071796604, -0.33198518822066436], [-2.7931853071796606, -0.34140127787675106], [-2.783185307179661, -0.3507832276895502], [-2.773185307179661, -0.3601300994718988], [-2.7631853071796613, -0.36944095854440756], [-2.7531853071796615, -0.3787148738289284], [-2.7431853071796617, -0.387950917941661], [-2.733185307179662, -0.39714816728589075], [-2.723185307179662, -0.40630570214434764], [-2.7131853071796623, -0.41542260677117704], [-2.7031853071796625, -0.42449796948351365], [-2.6931853071796628, -0.4335308827526491], [-2.683185307179663, -0.4425204432947838], [-2.673185307179663, -0.4514657521613548], [-2.6631853071796634, -0.4603659148289299], [-2.6531853071796636, -0.4692200412886591], [-2.643185307179664, -0.4780272461352748], [-2.633185307179664, -0.4867866486556317], [-2.6231853071796642, -0.49549737291677726], [-2.6131853071796645, -0.5041585478535442], [-2.6031853071796647, -0.5127693073556565], [-2.593185307179665, -0.5213287903543397], [-2.583185307179665, -0.5298361409084266], [-2.5731853071796653, -0.5382905082899512], [-2.5631853071796655, -0.5466910470692208], [-2.5531853071796657, -0.5550369171993579], [-2.543185307179666, -0.5633272841003042], [-2.533185307179666, -0.5715613187422783], [-2.5231853071796664, -0.5797381977286779], [-2.5131853071796666, -0.5878571033784179], [-2.503185307179667, -0.5959172238076995], [-2.493185307179667, -0.6039177530111963], [-2.4831853071796672, -0.6118578909426552], [-2.4731853071796674, -0.6197368435948997], [-2.4631853071796677, -0.6275538230792302], [-2.453185307179668, -0.6353080477042128], [-2.443185307179668, -0.6429987420538464], [-2.4331853071796683, -0.6506251370651052], [-2.4231853071796685, -0.6581864701048432], [-2.4131853071796687, -0.6656819850460577], [-2.403185307179669, -0.6731109323435007], [-2.393185307179669, -0.6804725691086333], [-2.3831853071796694, -0.6877661591839136], [-2.3731853071796696, -0.6949909732164121], [-2.36318530717967, -0.7021462887307461], [-2.35318530717967, -0.7092313902013271], [-2.34318530717967, -0.7162455691239121], [-2.3331853071796704, -0.723188124086454], [-2.3231853071796706, -0.730058360839242], [-2.313185307179671, -0.7368555923643262], [-2.303185307179671, -0.743579138944218], [-2.2931853071796713, -0.7502283282298627], [-2.2831853071796715, -0.7568024953078727], [-2.2731853071796717, -0.7633009827670184], [-2.263185307179672, -0.7697231407639695], [-2.253185307179672, -0.7760683270882781], [-2.2431853071796723, -0.7823359072265993], [-2.2331853071796726, -0.7885252544261422], [-2.2231853071796728, -0.7946357497573446], [-2.213185307179673, -0.8006667821757657], [-2.203185307179673, -0.8066177485831892], [-2.1931853071796734, -0.8124880538879337], [-2.1831853071796736, -0.8182771110643604], [-2.173185307179674, -0.823984341211576], [-2.163185307179674, -0.8296091736113219], [-2.1531853071796743, -0.8351510457850453], [-2.1431853071796745, -0.840609403550147], [-2.1331853071796747, -0.8459837010753992], [-2.123185307179675, -0.8512734009355281], [-2.113185307179675, -0.8564779741649554], [-2.1031853071796753, -0.8615969003106956], [-2.0931853071796755, -0.8666296674843996], [-2.0831853071796758, -0.8715757724135443], [-2.073185307179676, -0.8764347204917583], [-2.063185307179676, -0.881206025828283], [-2.0531853071796764, -0.8858892112965607], [-2.0431853071796766, -0.8904838085819474], [-2.033185307179677, -0.8949893582285432], [-2.023185307179677, -0.8994054096851382], [-2.0131853071796773, -0.9037315213502667], [-2.0031853071796775, -0.9079672606163671], [-1.9931853071796777, -0.9121122039130429], [-1.983185307179678, -0.9161659367494184], [-1.973185307179678, -0.9201280537555879], [-1.9631853071796783, -0.9239981587231527], [-1.9531853071796785, -0.9277758646448412], [-1.9431853071796787, -0.931460793753209], [-1.933185307179679, -0.9350525775584164], [-1.9231853071796792, -0.9385508568850758], [-1.9131853071796794, -0.9419552819081697], [-1.9031853071796796, -0.945265512188033], [-1.8931853071796798, -0.9484812167043961], [-1.88318530717968, -0.9516020738894873], [-1.8731853071796802, -0.9546277716601884], [-1.8631853071796804, -0.9575580074492441], [-1.8531853071796807, -0.9603924882355171], [-1.8431853071796809, -0.9631309305732911], [-1.833185307179681, -0.9657730606206142], [-1.8231853071796813, -0.9683186141666834], [-1.8131853071796815, -0.9707673366582655], [-1.8031853071796817, -0.9731189832251518], [-1.793185307179682, -0.9753733187046454], [-1.7831853071796822, -0.9775301176650769], [-1.7731853071796824, -0.9795891644283476], [-1.7631853071796826, -0.9815502530914971], [-1.7531853071796828, -0.9834131875472932], [-1.743185307179683, -0.9851777815038429], [-1.7331853071796832, -0.986843858503221], [-1.7231853071796834, -0.9884112519391158], [-1.7131853071796836, -0.98987980507349], [-1.7031853071796839, -0.9912493710522541], [-1.693185307179684, -0.9925198129199512], [-1.6831853071796843, -0.9936910036334535], [-1.6731853071796845, -0.9947628260746655], [-1.6631853071796847, -0.9957351730622362], [-1.653185307179685, -0.9966079473622774], [-1.6431853071796851, -0.9973810616980862], [-1.6331853071796854, -0.9980544387588732], [-1.6231853071796856, -0.9986280112074937], [-1.6131853071796858, -0.9991017216871806], [-1.603185307179686, -0.9994755228272808], [-1.5931853071796862, -0.9997493772479917], [-1.5831853071796864, -0.9999232575640996], [-1.5731853071796866, -0.9999971463877178], [-1.5631853071796868, -0.9999710363300253], [-1.553185307179687, -0.9998449300020061], [-1.5431853071796873, -0.9996188400141882], [-1.5331853071796875, -0.9992927889753818], [-1.5231853071796877, -0.998866809490419], [-1.513185307179688, -0.9983409441568935], [-1.5031853071796881, -0.9977152455609002], [-1.4931853071796883, -0.9969897762717774], [-1.4831853071796886, -0.9961646088358496], [-1.4731853071796888, -0.9952398257691726], [-1.463185307179689, -0.9942155195492824], [-1.4531853071796892, -0.9930917926059475], [-1.4431853071796894, -0.9918687573109257], [-1.4331853071796896, -0.9905465359667274], [-1.4231853071796898, -0.989125260794385], [-1.41318530717969, -0.9876050739202316], [-1.4031853071796903, -0.9859861273616876], [-1.3931853071796905, -0.9842685830120599], [-1.3831853071796907, -0.9824526126243519], [-1.373185307179691, -0.9805383977940894], [-1.363185307179691, -0.9785261299411601], [-1.3531853071796913, -0.9764160102906724], [-1.3431853071796915, -0.9742082498528328], [-1.3331853071796917, -0.9719030694018456], [-1.323185307179692, -0.9695006994538347], [-1.3131853071796922, -0.9670013802437929], [-1.3031853071796924, -0.9644053617015586], [-1.2931853071796926, -0.9617129034268226], [-1.2831853071796928, -0.9589242746631687], [-1.273185307179693, -0.9560397542711493], [-1.2631853071796932, -0.9530596307003999], [-1.2531853071796935, -0.9499842019607943], [-1.2431853071796937, -0.9468137755926433], [-1.2331853071796939, -0.9435486686359421], [-1.223185307179694, -0.9401892075986652], [-1.2131853071796943, -0.9367357284241168], [-1.2031853071796945, -0.9331885764573364], [-1.1931853071796947, -0.929548106410565], [-1.183185307179695, -0.9258146823277733], [-1.1731853071796952, -0.9219886775482585], [-1.1631853071796954, -0.9180704746693102], [-1.1531853071796956, -0.9140604655079512], [-1.1431853071796958, -0.9099590510617559], [-1.133185307179696, -0.9057666414687511], [-1.1231853071796962, -0.9014836559664023], [-1.1131853071796964, -0.897110522849691], [-1.1031853071796967, -0.8926476794282842], [-1.0931853071796969, -0.8880955719828052], [-1.083185307179697, -0.8834546557202051], [-1.0731853071796973, -0.8787253947282427], [-1.0631853071796975, -0.8739082619290762], [-1.0531853071796977, -0.8690037390319714], [-1.043185307179698, -0.8640123164851305], [-1.0331853071796981, -0.8589344934266492], [-1.0231853071796984, -0.8537707776346015], [-1.0131853071796986, -0.8485216854762636], [-1.0031853071796988, -0.8431877418564773], [-0.993185307179699, -0.8377694801651593], [-0.9831853071796992, -0.8322674422239636], [-0.9731853071796994, -0.8266821782320996], [-0.9631853071796996, -0.8210142467113118], [-0.9531853071796998, -0.8152642144500292], [-0.9431853071797001, -0.809432656446686], [-0.9331853071797003, -0.8035201558522234], [-0.9231853071797005, -0.7975273039117733], [-0.9131853071797007, -0.7914546999055359], [-0.9031853071797009, -0.7853029510888513], [-0.8931853071797011, -0.7790726726314748], [-0.8831853071797013, -0.7727644875560603], [-0.8731853071797016, -0.7663790266758583], [-0.8631853071797018, -0.759916928531636], [-0.853185307179702, -0.7533788393278223], [-0.8431853071797022, -0.7467654128678896], [-0.8331853071797024, -0.7400773104889724], [-0.8231853071797026, -0.7333152009957354], [-0.8131853071797028, -0.7264797605934928], [-0.803185307179703, -0.7195716728205888], [-0.7931853071797033, -0.7125916284800435], [-0.7831853071797035, -0.7055403255704749], [-0.7731853071797037, -0.6984184692162974], [-0.7631853071797039, -0.6912267715972117], [-0.7531853071797041, -0.6839659518769866], [-0.7431853071797043, -0.6766367361315436], [-0.7331853071797045, -0.6692398572763496], [-0.7231853071797048, -0.661776054993126], [-0.713185307179705, -0.6542460756558812], [-0.7031853071797052, -0.646650672256274], [-0.6931853071797054, -0.6389906043283151], [-0.6831853071797056, -0.6312666378724137], [-0.6731853071797058, -0.6234795452787788], [-0.663185307179706, -0.6156301052501807], [-0.6531853071797062, -0.6077191027240808], [-0.6431853071797065, -0.5997473287941395], [-0.6331853071797067, -0.5917155806311065], [-0.6231853071797069, -0.5836246614031051], [-0.6131853071797071, -0.5754753801953157], [-0.6031853071797073, -0.567268551929068], [-0.5931853071797075, -0.5590049972803495], [-0.5831853071797077, -0.5506855425977389], [-0.573185307179708, -0.5423110198197718], [-0.5631853071797082, -0.533882266391747], [-0.5531853071797084, -0.5254001251819833], [-0.5431853071797086, -0.5168654443975335], [-0.5331853071797088, -0.5082790774993636], [-0.523185307179709, -0.4996418831170084], [-0.5131853071797092, -0.4909547249627083], [-0.5031853071797094, -0.4822184717450395], [-0.49318530717970965, -0.4734339970820436], [-0.48318530717970987, -0.4646021794138665], [-0.4731853071797101, -0.4557239019149152], [-0.4631853071797103, -0.44680005240554105], [-0.4531853071797105, -0.43783152326325847], [-0.4431853071797107, -0.428819211333508], [-0.43318530717971093, -0.4197640178399723], [-0.42318530717971115, -0.4106668482944548], [-0.41318530717971136, -0.4015286124063291], [-0.40318530717971157, -0.3923502239915688], [-0.3931853071797118, -0.3831326008813668], [-0.383185307179712, -0.37387666483035276], [-0.3731853071797122, -0.36458334142441856], [-0.3631853071797124, -0.35525355998816033], [-0.35318530717971264, -0.34588825349194696], [-0.34318530717971285, -0.3364883584586236], [-0.33318530717971306, -0.32705481486986043], [-0.3231853071797133, -0.3175885660721551], [-0.3131853071797135, -0.30809055868249874], [-0.3031853071797137, -0.2985617424937154], [-0.2931853071797139, -0.28900307037948336], [-0.28318530717971413, -0.27941549819904843], [-0.27318530717971434, -0.2697999847016391], [-0.26318530717971456, -0.26015749143059214], [-0.25318530717971477, -0.2504889826271994], [-0.24318530717971498, -0.24079542513428395], [-0.2331853071797152, -0.2310777882995173], [-0.2231853071797154, -0.22133704387848488], [-0.21318530717971562, -0.21157416593751155], [-0.20318530717971583, -0.20179013075625565], [-0.19318530717971605, -0.19198591673008206], [-0.18318530717971626, -0.18216250427222316], [-0.17318530717971647, -0.17232087571573862], [-0.1631853071797167, -0.16246201521528275], [-0.1531853071797169, -0.15258690864868993], [-0.14318530717971711, -0.1426965435183876], [-0.13318530717971733, -0.13279190885264677], [-0.12318530717971754, -0.12287399510668026], [-0.11318530717971775, -0.11294379406359772], [-0.10318530717971797, -0.10300229873522836], [-0.09318530717971818, -0.09305050326282042], [-0.08318530717971839, -0.08308940281762804], [-0.0731853071797186, -0.07311999350139482], [-0.06318530717971882, -0.0631432722467446], [-0.05318530717971903, -0.05316023671748892], [-0.043185307179719246, -0.04317188520886154], [-0.03318530717971946, -0.033179216547689724], [-0.023185307179719672, -0.023183229992512395], [-0.013185307179719885, -0.01318492513365511], [-0.0031853071797200982, -0.00318530179327186], [0.006814692820279689, 0.006814640074636309], [0.016814692820279475, 0.01681390048421586], [0.026814692820279262, 0.02681147951775853], [0.03681469282027905, 0.03680637742569225], [0.046814692820278836, 0.04679759472655527], [0.05681469282027862, 0.05678413230694351], [0.06681469282027841, 0.06676499152142101], [0.0768146928202782, 0.07673917429238367], [0.08681469282027798, 0.0867056832098662], [0.09681469282027777, 0.09666352163128222], [0.10681469282027756, 0.1066116937810878], [0.11681469282027734, 0.11654920485035804], [0.12681469282027713, 0.12647506109626727], [0.13681469282027692, 0.1363882699414624], [0.1468146928202767, 0.14628784007331988], [0.1568146928202765, 0.15617278154307618], [0.16681469282027628, 0.1660421058648217], [0.17681469282027606, 0.17589482611434873], [0.18681469282027585, 0.18572995702784284], [0.19681469282027564, 0.19554651510040863], [0.20681469282027543, 0.20534351868441925], [0.2168146928202752, 0.21511998808768046], [0.226814692820275, 0.22487494567139896], [0.23681469282027479, 0.23460741594794549], [0.24681469282027457, 0.24431642567840275], [0.25681469282027436, 0.2540010039698885], [0.26681469282027415, 0.2636601823726441], [0.27681469282027393, 0.2732929949768785], [0.2868146928202737, 0.2828984785093586], [0.2968146928202735, 0.2924756724297357], [0.3068146928202733, 0.3020236190265988], [0.3168146928202731, 0.31154136351324474], [0.32681469282027287, 0.32102795412315627], [0.33681469282027265, 0.33048244220517786], [0.34681469282027244, 0.3399038823183801], [0.35681469282027223, 0.3492913323266028], [0.366814692820272, 0.358643853492668], [0.3768146928202718, 0.3679605105722527], [0.3868146928202716, 0.377240371907413], [0.3968146928202714, 0.3864825095197485], [0.40681469282027116, 0.3956859992031997], [0.41681469282027095, 0.4048499206164678], [0.42681469282027074, 0.4139733573750481], [0.4368146928202705, 0.4230553971428675], [0.4468146928202703, 0.4320951317235176], [0.4568146928202701, 0.44109165715107346], [0.4668146928202699, 0.45004407378048933], [0.47681469282026967, 0.45895148637756267], [0.48681469282026946, 0.46781300420845656], [0.49681469282026924, 0.47662774112877243], [0.506814692820269, 0.4853948156721639], [0.5168146928202688, 0.49411335113848254], [0.5268146928202686, 0.5027824756814471], [0.5368146928202684, 0.5114013223958274], [0.5468146928202682, 0.5199690294041345], [0.556814692820268, 0.5284847399428073], [0.5668146928202678, 0.5369476024478883], [0.5768146928202675, 0.5453567706401794], [0.5868146928202673, 0.5537114036098689], [0.5968146928202671, 0.562010665900622], [0.6068146928202669, 0.5702537275931258], [0.6168146928202667, 0.5784397643880801], [0.6268146928202665, 0.5865679576886271], [0.6368146928202663, 0.5946374946822103], [0.646814692820266, 0.6026475684218549], [0.6568146928202658, 0.6105973779068619], [0.6668146928202656, 0.6184861281629076], [0.6768146928202654, 0.6263130303215404], [0.6868146928202652, 0.634077301699067], [0.696814692820265, 0.6417781658748195], [0.7068146928202648, 0.649414852768798], [0.7168146928202646, 0.6569865987186768], [0.7268146928202643, 0.6644926465561708], [0.7368146928202641, 0.6719322456827511], [0.7468146928202639, 0.6793046521447049], [0.7568146928202637, 0.6866091287075295], [0.7668146928202635, 0.6938449449296558], [0.7768146928202633, 0.7010113772354912], [0.7868146928202631, 0.7081077089877774], [0.7968146928202628, 0.7151332305592525], [0.8068146928202626, 0.7220872394036141], [0.8168146928202624, 0.7289690401257727], [0.8268146928202622, 0.7357779445513909], [0.836814692820262, 0.7425132717957003], [0.8468146928202618, 0.7491743483315889], [0.8568146928202616, 0.7557605080569544], [0.8668146928202614, 0.7622710923613125], [0.8768146928202611, 0.7687054501916583], [0.8868146928202609, 0.7750629381175705], [0.8968146928202607, 0.7813429203955548], [0.9068146928202605, 0.7875447690326164], [0.9168146928202603, 0.7936678638490599], [0.9268146928202601, 0.799711592540506], [0.9368146928202599, 0.8056753507391223], [0.9468146928202597, 0.8115585420740586], [0.9568146928202594, 0.817360578231084], [0.9668146928202592, 0.8230808790114178], [0.976814692820259, 0.828718872389749], [0.9868146928202588, 0.8342739945714379], [0.9968146928202586, 0.8397456900488957], [1.0068146928202584, 0.8451334116571343], [1.0168146928202582, 0.8504366206284828], [1.026814692820258, 0.8556547866464632], [1.0368146928202577, 0.8607873878988223], [1.0468146928202575, 0.8658339111297119], [1.0568146928202573, 0.8707938516910143], [1.066814692820257, 0.8756667135928069], [1.0768146928202569, 0.88045200955296], [1.0868146928202567, 0.8851492610458653], [1.0968146928202565, 0.889757998350288], [1.1068146928202562, 0.8942777605963381], [1.116814692820256, 0.8987080958115576], [1.1268146928202558, 0.903048560966117], [1.1368146928202556, 0.9072987220171177], [1.1468146928202554, 0.9114581539519964], [1.1568146928202552, 0.9155264408310257], [1.166814692820255, 0.9195031758289083], [1.1768146928202547, 0.923387961275458], [1.1868146928202545, 0.9271804086953676], [1.1968146928202543, 0.9308801388470553], [1.206814692820254, 0.9344867817605892], [1.216814692820254, 0.9379999767746835], [1.2268146928202537, 0.9414193725727644], [1.2368146928202535, 0.9447446272181015], [1.2468146928202533, 0.9479754081880014], [1.256814692820253, 0.9511113924070593], [1.2668146928202528, 0.9541522662794668], [1.2768146928202526, 0.9570977257203706], [1.2868146928202524, 0.959947476186281], [1.2968146928202522, 0.9627012327045263], [1.306814692820252, 0.9653587199017497], [1.3168146928202518, 0.9679196720314458], [1.3268146928202516, 0.9703838330005358], [1.3368146928202513, 0.9727509563949762], [1.3468146928202511, 0.9750208055044002], [1.356814692820251, 0.9771931533457884], [1.3668146928202507, 0.979267782686167], [1.3768146928202505, 0.9812444860643307], [1.3868146928202503, 0.9831230658115889], [1.39681469282025, 0.9849033340715325], [1.4068146928202498, 0.9865851128188191], [1.4168146928202496, 0.9881682338769753], [1.4268146928202494, 0.9896525389352144], [1.4368146928202492, 0.9910378795642679], [1.446814692820249, 0.992324117231227], [1.4568146928202488, 0.9935111233133971], [1.4668146928202486, 0.994598779111159], [1.4768146928202484, 0.9955869758598394], [1.4868146928202481, 0.9964756147405868], [1.496814692820248, 0.9972646068902536], [1.5068146928202477, 0.9979538734102826], [1.5168146928202475, 0.998543345374596], [1.5268146928202473, 0.9990329638364887], [1.536814692820247, 0.9994226798345223], [1.5468146928202469, 0.999712454397422], [1.5568146928202466, 0.9999022585479729], [1.5668146928202464, 0.9999920733059181], [1.5768146928202462, 0.9999818896898566], [1.586814692820246, 0.9998717087181417], [1.5968146928202458, 0.9996615414087785], [1.6068146928202456, 0.9993514087783231], [1.6168146928202454, 0.9989413418397798], [1.6268146928202452, 0.9984313815995008], [1.636814692820245, 0.9978215790530854], [1.6468146928202447, 0.9971119951802799], [1.6568146928202445, 0.9963027009388802], [1.6668146928202443, 0.9953937772576361], [1.676814692820244, 0.9943853150281583], [1.6868146928202439, 0.9932774150958295], [1.6968146928202437, 0.9920701882497193], [1.7068146928202435, 0.9907637552115066], [1.7168146928202432, 0.9893582466234065], [1.726814692820243, 0.9878538030351066], [1.7368146928202428, 0.9862505748897119], [1.7468146928202426, 0.984548722508701], [1.7568146928202424, 0.9827484160758936], [1.7668146928202422, 0.980849835620433], [1.776814692820242, 0.9788531709987826], [1.7868146928202417, 0.9767586218757405], [1.7968146928202415, 0.9745663977044736], [1.8068146928202413, 0.9722767177055722], [1.816814692820241, 0.9698898108451283], [1.826814692820241, 0.9674059158118385], [1.8368146928202407, 0.9648252809931366], [1.8468146928202405, 0.9621481644503537], [1.8568146928202403, 0.9593748338929132], [1.86681469282024, 0.9565055666515598], [1.8768146928202398, 0.9535406496506266], [1.8868146928202396, 0.9504803793793429], [1.8968146928202394, 0.9473250618621856], [1.9068146928202392, 0.944075012628277], [1.916814692820239, 0.9407305566798321], [1.9268146928202388, 0.9372920284596588], [1.9368146928202385, 0.9337597718177135], [1.9468146928202383, 0.9301341399767171], [1.9568146928202381, 0.9264154954968322], [1.966814692820238, 0.922604210239408], [1.9768146928202377, 0.9187006653297941], [1.9868146928202375, 0.9147052511192286], [1.9968146928202373, 0.910618367145803], [2.006814692820237, 0.9064404220945089], [2.016814692820237, 0.9021718337563699], [2.0268146928202366, 0.8978130289866626], [2.0368146928202364, 0.8933644436622317], [2.046814692820236, 0.8888265226379023], [2.056814692820236, 0.8841997197019956], [2.0668146928202358, 0.8794844975309493], [2.0768146928202356, 0.8746813276430512], [2.0868146928202354, 0.8697906903512874], [2.096814692820235, 0.8648130747153118], [2.106814692820235, 0.8597489784925397], [2.1168146928202347, 0.8545989080883735], [2.1268146928202345, 0.8493633785055619], [2.1368146928202343, 0.8440429132927001], [2.146814692820234, 0.8386380444918758], [2.156814692820234, 0.8331493125854651], [2.1668146928202336, 0.8275772664420845], [2.1768146928202334, 0.8219224632617053], [2.186814692820233, 0.8161854685199329], [2.196814692820233, 0.8103668559114608], [2.206814692820233, 0.8044672072927012], [2.2168146928202326, 0.7984871126235992], [2.2268146928202324, 0.7924271699086387], [2.236814692820232, 0.786287985137041], [2.246814692820232, 0.7800701722221675], [2.2568146928202317, 0.7737743529401281], [2.2668146928202315, 0.7674011568676045], [2.2768146928202313, 0.7609512213188929], [2.286814692820231, 0.7544251912821733], [2.296814692820231, 0.7478237193550111], [2.3068146928202307, 0.7411474656790978], [2.3168146928202304, 0.7343970978742373], [2.3268146928202302, 0.7275732909715851], [2.33681469282023, 0.7206767273461447], [2.34681469282023, 0.7137080966485316], [2.3568146928202296, 0.7066680957360085], [2.3668146928202294, 0.6995574286027999], [2.376814692820229, 0.6923768063096936], [2.386814692820229, 0.685126946912935], [2.3968146928202287, 0.6778085753924223], [2.4068146928202285, 0.6704224235792091], [2.4168146928202283, 0.6629692300823214], [2.426814692820228, 0.6554497402148981], [2.436814692820228, 0.6478647059196595], [2.4468146928202277, 0.6402148856937143], [2.4568146928202275, 0.6325010445127105], [2.4668146928202273, 0.6247239537543379], [2.476814692820227, 0.6168843911211913], [2.486814692820227, 0.6089831405630013], [2.4968146928202266, 0.6010209921982392], [2.5068146928202264, 0.5929987422351065], [2.516814692820226, 0.5849171928919142], [2.526814692820226, 0.5767771523168621], [2.5368146928202258, 0.5685794345072244], [2.5468146928202255, 0.5603248592279505], [2.5568146928202253, 0.5520142519296897], [2.566814692820225, 0.5436484436662462], [2.576814692820225, 0.535228271011475], [2.5868146928202247, 0.5267545759756247], [2.5968146928202245, 0.5182282059211376], [2.6068146928202243, 0.5096500134779137], [2.616814692820224, 0.501020856458049], [2.626814692820224, 0.49234159777005443], [2.6368146928202236, 0.48361310533256613], [2.6468146928202234, 0.47483625198755425], [2.656814692820223, 0.4660119154130391], [2.666814692820223, 0.45714097803532466], [2.6768146928202228, 0.4482243269407562], [2.6868146928202226, 0.4392628537870127], [2.6968146928202223, 0.43025745471394167], [2.706814692820222, 0.4212090302539459], [2.716814692820222, 0.4121184852419311], [2.7268146928202217, 0.4029867287248231], [2.7368146928202215, 0.3938146738706637], [2.7468146928202213, 0.3846032378772951], [2.756814692820221, 0.37535334188064035], [2.766814692820221, 0.366065910862591], [2.7768146928202206, 0.3567418735585092], [2.7868146928202204, 0.34738216236435554], [2.79681469282022, 0.3379877132434496], [2.80681469282022, 0.3285594656328748], [2.81681469282022, 0.31909836234953537], [2.8268146928202196, 0.30960534949587537], [2.8368146928202194, 0.30008137636526944], [2.846814692820219, 0.29052739534709393], [2.856814692820219, 0.2809443618314891], [2.8668146928202187, 0.27133323411382054], [2.8768146928202185, 0.26169497329885094], [2.8868146928202183, 0.2520305432046299], [2.896814692820218, 0.24234091026611312], [2.906814692820218, 0.2326270434385198], [2.9168146928202177, 0.2228899141004379], [2.9268146928202174, 0.2131304959566869], [2.9368146928202172, 0.2033497649409484], [2.946814692820217, 0.19354869911817338], [2.956814692820217, 0.18372827858677657], [2.9668146928202166, 0.17388948538062748], [2.9768146928202164, 0.16403330337084776], [2.986814692820216, 0.1541607181674249], [2.996814692820216, 0.14427271702065214], [3.0068146928202157, 0.1343702887224042], [3.0168146928202155, 0.12445442350725887], [3.0268146928202153, 0.11452611295347448], [3.036814692820215, 0.10458634988383286], [3.046814692820215, 0.09463612826635787], [3.0568146928202147, 0.08467644311491941], [3.0668146928202145, 0.07470829038973294], [3.0768146928202142, 0.06473266689776418], [3.086814692820214, 0.05475057019304936], [3.096814692820214, 0.04476299847694056], [3.1068146928202136, 0.03477095049828644], [3.1168146928202134, 0.024775425453558188], [3.126814692820213, 0.014777422886930697], [3.136814692820213, 0.004777942590328993], [3.1468146928202128, -0.0052220154965501395], [3.1568146928202125, -0.015221451386231282], [3.1668146928202123, -0.0252193651434583], [3.176814692820212, -0.03521475698518704], [3.186814692820212, -0.0452066273805628], [3.1968146928202117, -0.05519397715087256], [3.2068146928202115, -0.06517580756946206], [3.2168146928202113, -0.07515112046160762], [3.226814692820211, -0.08511891830433274], [3.236814692820211, -0.09507820432615961], [3.2468146928202106, -0.10502798260678545], [3.2568146928202104, -0.11496725817667364], [3.26681469282021, -0.12489503711654988], [3.27681469282021, -0.13481032665679332], [3.2868146928202098, -0.14471213527671264], [3.2968146928202096, -0.15459947280369735], [3.3068146928202093, -0.16447135051223416], [3.316814692820209, -0.17432678122277873], [3.326814692820209, -0.18416477940047285], [3.3368146928202087, -0.19398436125369709], [3.3468146928202085, -0.20378454483244904], [3.3568146928202083, -0.21356435012653763], [3.366814692820208, -0.22332279916358327], [3.376814692820208, -0.23305891610681426], [3.3868146928202076, -0.24277172735264968], [3.3968146928202074, -0.25246026162805896], [3.406814692820207, -0.2621235500876883], [3.416814692820207, -0.2717606264107444], [3.426814692820207, -0.2813705268976258], [3.4368146928202066, -0.2909522905662922], [3.4468146928202064, -0.30050495924836135], [3.456814692820206, -0.31002757768492567], [3.466814692820206, -0.3195191936220769], [3.4768146928202057, -0.3289788579061311], [3.4868146928202055, -0.3384056245785428], [3.4968146928202053, -0.34779855097050033], [3.506814692820205, -0.35715669779719206], [3.516814692820205, -0.3664791292517336], [3.5268146928202047, -0.37576491309874827], [3.5368146928202044, -0.3850131207675894], [3.5468146928202042, -0.394222827445197], [3.556814692820204, -0.40339311216857804], [3.566814692820204, -0.41252305791690197], [3.5768146928202036, -0.4216117517032023], [3.5868146928202034, -0.4306582846656743], [3.596814692820203, -0.4396617521585604], [3.606814692820203, -0.44862125384261425], [3.6168146928202027, -0.4575358937751336], [3.6268146928202025, -0.46640478049955414], [3.6368146928202023, -0.475227027134594], [3.646814692820202, -0.48400175146294167], [3.656814692820202, -0.4927280760194765], [3.6668146928202017, -0.5014051281790147], [3.6768146928202015, -0.5100320402435712], [3.6868146928202012, -0.5186079495291287], [3.696814692820201, -0.5271319984519051], [3.706814692820201, -0.5356033346141116], [3.7168146928202006, -0.5440211108891911], [3.7268146928202004, -0.5523844855065313], [3.7368146928202, -0.5606926221356396], [3.7468146928202, -0.5689446899697768], [3.7568146928201998, -0.5771398638090358], [3.7668146928201995, -0.5852773241428623], [3.7768146928201993, -0.593356257232004], [3.786814692820199, -0.6013758551898843], [3.796814692820199, -0.6093353160633906], [3.8068146928201987, -0.6172338439130683], [3.8168146928201985, -0.6250706488927145], [3.8268146928201983, -0.6328449473283619], [3.836814692820198, -0.6405559617966455], [3.846814692820198, -0.6482029212025443], [3.8568146928201976, -0.6557850608564901], [3.8668146928201974, -0.663301622550836], [3.876814692820197, -0.6707518546356763], [3.886814692820197, -0.6781350120940112], [3.8968146928201968, -0.6854503566162472], [3.9068146928201966, -0.6926971566740283], [3.9168146928201963, -0.6998746875933878], [3.926814692820196, -0.7069822316272149], [3.936814692820196, -0.714019078027029], [3.9468146928201957, -0.7209845231140545], [3.9568146928201955, -0.727877870349587], [3.9668146928201953, -0.7346984304046473], [3.976814692820195, -0.7414455212289139], [3.986814692820195, -0.7481184681189269], [3.9968146928201946, -0.7547166037855578], [4.006814692820194, -0.7612392684207387], [4.016814692820194, -0.7676858097634415], [4.026814692820194, -0.7740555831649039], [4.036814692820194, -0.780347951653094], [4.046814692820194, -0.7865622859964065], [4.056814692820193, -0.7926979647665859], [4.066814692820193, -0.798754374400868], [4.076814692820193, -0.8047309092633365], [4.086814692820193, -0.8106269717054855], [4.0968146928201925, -0.8164419721259841], [4.106814692820192, -0.8221753290296363], [4.116814692820192, -0.8278264690855293], [4.126814692820192, -0.8333948271843667], [4.136814692820192, -0.8388798464949793], [4.146814692820191, -0.8442809785200064], [4.156814692820191, -0.8495976831507467], [4.166814692820191, -0.8548294287211677], [4.176814692820191, -0.859975692061072], [4.186814692820191, -0.8650359585484143], [4.19681469282019, -0.8700097221607626], [4.20681469282019, -0.8748964855259005], [4.21681469282019, -0.8796957599715638], [4.22681469282019, -0.8844070655743073], [4.2368146928201895, -0.8890299312074968], [4.246814692820189, -0.8935638945884213], [4.256814692820189, -0.8980085023245212], [4.266814692820189, -0.9023633099587265], [4.276814692820189, -0.9066278820139029], [4.2868146928201885, -0.9108017920363985], [4.296814692820188, -0.9148846226386895], [4.306814692820188, -0.9188759655411181], [4.316814692820188, -0.9227754216127197], [4.326814692820188, -0.9265826009111372], [4.336814692820187, -0.9302971227216131], [4.346814692820187, -0.933918615595062], [4.356814692820187, -0.9374467173852142], [4.366814692820187, -0.9408810752848309], [4.3768146928201865, -0.944221345860984], [4.386814692820186, -0.9474671950893996], [4.396814692820186, -0.9506182983878596], [4.406814692820186, -0.9536743406486601], [4.416814692820186, -0.9566350162701217], [4.4268146928201855, -0.9595000291871495], [4.436814692820185, -0.9622690929008393], [4.446814692820185, -0.9649419305071272], [4.456814692820185, -0.9675182747244799], [4.466814692820185, -0.9699978679206228], [4.476814692820184, -0.9723804621383025], [4.486814692820184, -0.9746658191200828], [4.496814692820184, -0.9768537103321698], [4.506814692820184, -0.9789439169872657], [4.5168146928201836, -0.9809362300664467], [4.526814692820183, -0.9828304503400652], [4.536814692820183, -0.9846263883876724], [4.546814692820183, -0.9863238646169601], [4.556814692820183, -0.9879227092817198], [4.5668146928201825, -0.9894227624988176], [4.576814692820182, -0.9908238742641817], [4.586814692820182, -0.9921259044678032], [4.596814692820182, -0.9933287229077469], [4.606814692820182, -0.9944322093031708], [4.616814692820181, -0.9954362533063552], [4.626814692820181, -0.9963407545137365], [4.636814692820181, -0.9971456224759475], [4.646814692820181, -0.9978507767068628], [4.656814692820181, -0.9984561466916472], [4.66681469282018, -0.9989616718938062], [4.67681469282018, -0.9993673017612412], [4.68681469282018, -0.9996729957313034], [4.69681469282018, -0.9998787232348505], [4.7068146928201795, -0.9999844636993037], [4.716814692820179, -0.9999902065507045], [4.726814692820179, -0.9998959512147726], [4.736814692820179, -0.9997017071169632], [4.746814692820179, -0.9994074936815239], [4.756814692820178, -0.9990133403295535], [4.766814692820178, -0.9985192864760583], [4.776814692820178, -0.9979253815260122], [4.786814692820178, -0.9972316848694152], [4.796814692820178, -0.9964382658753549], [4.806814692820177, -0.9955452038850694], [4.816814692820177, -0.9945525882040138], [4.826814692820177, -0.9934605180929288], [4.836814692820177, -0.9922691027579156], [4.8468146928201765, -0.9909784613395146], [4.856814692820176, -0.9895887229007925], [4.866814692820176, -0.9881000264144347], [4.876814692820176, -0.9865125207488494], [4.886814692820176, -0.9848263646532803], [4.8968146928201755, -0.9830417267419318], [4.906814692820175, -0.9811587854771078], [4.916814692820175, -0.9791777291513656], [4.926814692820175, -0.9770987558686871], [4.936814692820175, -0.974922073524668], [4.946814692820174, -0.9726478997857286], [4.956814692820174, -0.9702764620673481], [4.966814692820174, -0.9678079975113217], [4.976814692820174, -0.9652427529620482], [4.9868146928201735, -0.9625809849418449], [4.996814692820173, -0.9598229596252954], [5.006814692820173, -0.9569689528126333], [5.016814692820173, -0.9540192499021614], [5.026814692820173, -0.9509741458617126], [5.0368146928201725, -0.9478339451991534], [5.046814692820172, -0.9445989619319334], [5.056814692820172, -0.9412695195556833], [5.066814692820172, -0.9378459510118664], [5.076814692820172, -0.9343285986544839], [5.086814692820171, -0.9307178142158405], [5.096814692820171, -0.9270139587713713], [5.106814692820171, -0.9232174027035338], [5.116814692820171, -0.9193285256647713], [5.1268146928201705, -0.9153477165395469], [5.13681469282017, -0.9112753734054558], [5.14681469282017, -0.9071119034934177], [5.15681469282017, -0.9028577231469544], [5.16681469282017, -0.8985132577805554], [5.1768146928201695, -0.8940789418371368], [5.186814692820169, -0.8895552187445978], [5.196814692820169, -0.8849425408714778], [5.206814692820169, -0.8802413694817204], [5.216814692820169, -0.8754521746885469], [5.226814692820168, -0.8705754354074455], [5.236814692820168, -0.8656116393082806], [5.246814692820168, -0.8605612827665254], [5.256814692820168, -0.8554248708136256], [5.266814692820168, -0.8502029170864961], [5.276814692820167, -0.8448959437761581], [5.286814692820167, -0.83950448157552], [5.296814692820167, -0.8340290696263091], [5.306814692820167, -0.8284702554651575], [5.3168146928201665, -0.822828594968849], [5.326814692820166, -0.8171046522987317], [5.336814692820166, -0.811298999844303], [5.346814692820166, -0.8054122181659701], [5.356814692820166, -0.7994448959369951], [5.366814692820165, -0.7933976298846283], [5.376814692820165, -0.7872710247304355], [5.386814692820165, -0.7810656931298267], [5.396814692820165, -0.7747822556107908], [5.406814692820165, -0.7684213405118436], [5.416814692820164, -0.7619835839191942], [5.426814692820164, -0.755469629603137], [5.436814692820164, -0.7488801289536755], [5.446814692820164, -0.7422157409153833], [5.4568146928201635, -0.7354771319215107], [5.466814692820163, -0.7286649758273414], [5.476814692820163, -0.7217799538428082], [5.486814692820163, -0.714822754464372], [5.496814692820163, -0.7077940734061731], [5.5068146928201624, -0.7006946135304599], [5.516814692820162, -0.6935250847773039], [5.526814692820162, -0.6862862040936059], [5.536814692820162, -0.6789786953614017], [5.546814692820162, -0.6716032893254751], [5.556814692820161, -0.6641607235202835], [5.566814692820161, -0.6566517421962054], [5.576814692820161, -0.6490770962451154], [5.586814692820161, -0.6414375431252969], [5.5968146928201605, -0.6337338467856953], [5.60681469282016, -0.6259667775895249], [5.61681469282016, -0.6181371122372328], [5.62681469282016, -0.6102456336888296], [5.63681469282016, -0.6022931310855937], [5.6468146928201595, -0.5942803996711585], [5.656814692820159, -0.5862082407119884], [5.666814692820159, -0.5780774614172521], [5.676814692820159, -0.5698888748581039], [5.686814692820159, -0.5616432998863756], [5.696814692820158, -0.5533415610526933], [5.706814692820158, -0.544984488524022], [5.716814692820158, -0.5365729180006507], [5.726814692820158, -0.5281076906326218], [5.7368146928201575, -0.519589652935618], [5.746814692820157, -0.5110196567063104], [5.756814692820157, -0.5023985589371807], [5.766814692820157, -0.49372722173082123], [5.776814692820157, -0.4850065122137267], [5.7868146928201565, -0.4762373024495815], [5.796814692820156, -0.4674204693520545], [5.806814692820156, -0.458556894597108], [5.816814692820156, -0.4496474645348313], [5.826814692820156, -0.4406930701008061], [5.836814692820155, -0.4316946067270138], [5.846814692820155, -0.4226529742522931], [5.856814692820155, -0.41356907683235683], [5.866814692820155, -0.4044438228493771], [5.876814692820155, -0.39527812482114777], [5.886814692820154, -0.3860728993098337], [5.896814692820154, -0.376829066830315], [5.906814692820154, -0.3675475517581364], [5.916814692820154, -0.3582292822370706], [5.9268146928201535, -0.3488751900863046], [5.936814692820153, -0.3394862107072582], [5.946814692820153, -0.33006328299004534], [5.956814692820153, -0.32060734921958534], [5.966814692820153, -0.3111193549813753], [5.976814692820152, -0.3016002490669323], [5.986814692820152, -0.2920509833789154], [5.996814692820152, -0.28247251283593555], [6.006814692820152, -0.2728657952770651], [6.016814692820152, -0.26323179136605435], [6.026814692820151, -0.25357146449526613], [6.036814692820151, -0.2438857806893372], [6.046814692820151, -0.2341757085085768], [6.056814692820151, -0.22444221895211133], [6.0668146928201505, -0.2146862853607852], [6.07681469282015, -0.20490888331982765], [6.08681469282015, -0.19511099056129494], [6.09681469282015, -0.18529358686629807], [6.10681469282015, -0.17545765396702537], [6.1168146928201494, -0.16560417544857017], [6.126814692820149, -0.15573413665057317], [6.136814692820149, -0.1458485245686891], [6.146814692820149, -0.1359483277558882], [6.156814692820149, -0.1260345362236016], [6.166814692820148, -0.1161081413427211], [6.176814692820148, -0.10617013574446277], [6.186814692820148, -0.09622151322110481], [6.196814692820148, -0.08626326862660907], [6.2068146928201475, -0.07629639777713648], [6.216814692820147, -0.0663218973514663], [6.226814692820147, -0.05634076479132905], [6.236814692820147, -0.046353998201663145], [6.246814692820147, -0.03636259625080527], [6.2568146928201465, -0.026367558070624377], [6.266814692820146, -0.016369883156609314], [6.276814692820146, -0.006370571267920115]], \"data01\": [[-6.283185307179586, 2.4492935982947064e-16], [-6.183185307179587, 0.09983341664682804], [-6.083185307179587, 0.19866933079506077], [-5.983185307179587, 0.29552020666133877], [-5.883185307179588, 0.3894183423086494], [-5.783185307179588, 0.4794255386042017], [-5.683185307179588, 0.5646424733950338], [-5.583185307179589, 0.6442176872376894], [-5.483185307179589, 0.7173560908995209], [-5.383185307179589, 0.7833269096274815], [-5.28318530717959, 0.8414709848078947], [-5.18318530717959, 0.8912073600614336], [-5.0831853071795905, 0.9320390859672248], [-4.983185307179591, 0.9635581854171918], [-4.883185307179591, 0.9854497299884594], [-4.783185307179592, 0.9974949866040541], [-4.683185307179592, 0.9995736030415053], [-4.583185307179592, 0.9916648104524693], [-4.483185307179593, 0.9738476308781966], [-4.383185307179593, 0.9463000876874166], [-4.283185307179593, 0.9092974268256846], [-4.183185307179594, 0.8632093666488774], [-4.083185307179594, 0.8084964038195946], [-3.9831853071795944, 0.7457052121767255], [-3.8831853071795948, 0.6754631805511571], [-3.783185307179595, 0.5984721441039634], [-3.6831853071795955, 0.5155013718214719], [-3.583185307179596, 0.4273798802338384], [-3.483185307179596, 0.33498815015591404], [-3.3831853071795965, 0.23924932921399208], [-3.283185307179597, 0.14112000805987754], [-3.1831853071795972, 0.04158066243330134], [-3.0831853071795976, -0.0583741434275688], [-2.983185307179598, -0.15774569414323705], [-2.8831853071795983, -0.2555411020268199], [-2.7831853071795987, -0.35078322768960846], [-2.683185307179599, -0.44252044329484114], [-2.5831853071795994, -0.5298361409084823], [-2.4831853071795997, -0.6118578909427086], [-2.3831853071796, -0.6877661591839639], [-2.2831853071796004, -0.7568024953079191], [-2.183185307179601, -0.8182771110644023], [-2.083185307179601, -0.8715757724135809], [-1.9831853071796015, -0.9161659367494489], [-1.8831853071796019, -0.9516020738895112], [-1.7831853071796022, -0.9775301176650938], [-1.6831853071796026, -0.9936910036334626], [-1.583185307179603, -0.9999232575641007], [-1.4831853071796033, -0.9961646088358421], [-1.3831853071796036, -0.9824526126243357], [-1.283185307179604, -0.9589242746631434], [-1.1831853071796044, -0.925814682327739], [-1.0831853071796047, -0.8834546557201618], [-0.9831853071796051, -0.8322674422239115], [-0.8831853071796054, -0.7727644875559994], [-0.7831853071796058, -0.7055403255704056], [-0.6831853071796061, -0.6312666378723365], [-0.5831853071796065, -0.5506855425976545], [-0.48318530717960684, -0.46460217941377524], [-0.3831853071796072, -0.37387666483025556], [-0.28318530717960755, -0.2794154981989461], [-0.1831853071796079, -0.1821625042721166], [-0.08318530717960826, -0.08308940281751828], [0.016814692820391386, 0.016813900484327755], [0.11681469282039103, 0.11654920485047095], [0.21681469282039068, 0.2151199880877932], [0.3168146928203903, 0.31154136351335615], [0.41681469282038996, 0.4048499206165766], [0.5168146928203896, 0.4941133511385875], [0.6168146928203893, 0.5784397643881801], [0.7168146928203889, 0.6569865987187705], [0.8168146928203885, 0.7289690401258591], [0.9168146928203882, 0.7936678638491377], [1.0168146928203878, 0.850436620628551], [1.1168146928203875, 0.8987080958116154], [1.2168146928203871, 0.9379999767747297], [1.3168146928203868, 0.9679196720314797], [1.4168146928203864, 0.9881682338769963], [1.516814692820386, 0.9985433453746034], [1.6168146928203857, 0.9989413418397733], [1.7168146928203853, 0.9893582466233859], [1.816814692820385, 0.9698898108450932], [1.9168146928203846, 0.9407305566797827], [2.0168146928203843, 0.9021718337563063], [2.116814692820384, 0.8545989080882961], [2.2168146928203836, 0.7984871126235084], [2.316814692820383, 0.7343970978741338], [2.416814692820383, 0.6629692300822058], [2.5168146928203825, 0.5849171928917875], [2.616814692820382, 0.5010208564579122], [2.716814692820382, 0.41211848524178546], [2.8168146928203814, 0.31909836234938216], [2.916814692820381, 0.22288991410027859], [3.0168146928203807, 0.12445442350709494], [3.1168146928203804, 0.024775425453391262], [3.21681469282038, -0.0751511204617759], [3.3168146928203797, -0.17432678122294665], [3.4168146928203793, -0.2717606264109102], [3.516814692820379, -0.3664791292518956], [3.6168146928203786, -0.45753589377528997], [3.7168146928203782, -0.5440211108893402], [3.816814692820378, -0.6250706488928546], [3.9168146928203775, -0.6998746875935171], [4.016814692820377, -0.7676858097635587], [4.116814692820377, -0.8278264690856328], [4.2168146928203765, -0.8796957599716525], [4.316814692820376, -0.9227754216127924], [4.416814692820376, -0.9566350162701771], [4.516814692820375, -0.980936230066484], [4.616814692820375, -0.9954362533063738], [4.716814692820375, -0.9999902065507036], [4.816814692820374, -0.9945525882039933], [4.916814692820374, -0.9791777291513253], [5.016814692820374, -0.9540192499021012], [5.116814692820373, -0.9193285256646917], [5.216814692820373, -0.8754521746884482], [5.316814692820373, -0.822828594968732], [5.416814692820372, -0.7619835839190596], [5.516814692820372, -0.6935250847771529], [5.6168146928203715, -0.6181371122370666], [5.716814692820371, -0.5365729180004707], [5.816814692820371, -0.44964746453463933], [5.91681469282037, -0.3582292822368683], [6.01681469282037, -0.26323179136584357], [6.11681469282037, -0.16560417544835296], [6.216814692820369, -0.06632189735124476]], \"data03\": [[-6.283185307179586, 2.4492935982947064e-16], [-5.283185307179586, 0.8414709848078966], [-4.283185307179586, 0.9092974268256816], [-3.2831853071795862, 0.141120008059867], [-2.2831853071795862, -0.7568024953079284], [-1.2831853071795862, -0.9589242746631385], [-0.28318530717958623, -0.27941549819892564], [0.7168146928204138, 0.6569865987187893], [1.7168146928204138, 0.9893582466233818], [2.7168146928204138, 0.41211848524175637], [3.7168146928204138, -0.54402111088937], [4.716814692820414, -0.9999902065507035], [5.716814692820414, -0.5365729180004347]]}, \"width\": 480.0, \"height\": 320.0, \"plugins\": [{\"type\": \"reset\"}, {\"button\": true, \"type\": \"zoom\", \"enabled\": false}, {\"button\": true, \"type\": \"boxzoom\", \"enabled\": false}], \"id\": \"el140203008235468\"});\n",
       "      });\n",
       "    });\n",
       "}else{\n",
       "    // require.js not available: dynamically load d3 & mpld3\n",
       "    mpld3_load_lib(\"https://mpld3.github.io/js/d3.v3.min.js\", function(){\n",
       "         mpld3_load_lib(\"https://mpld3.github.io/js/mpld3.v0.2.js\", function(){\n",
       "                 \n",
       "                 mpld3.draw_figure(\"fig_el1402030082354689518720116\", {\"axes\": [{\"axes\": [{\"tickformat\": null, \"grid\": {\"gridOn\": false}, \"position\": \"bottom\", \"scale\": \"linear\", \"fontsize\": 10.0, \"nticks\": 9, \"tickvalues\": null}, {\"tickformat\": null, \"grid\": {\"gridOn\": false}, \"position\": \"left\", \"scale\": \"linear\", \"fontsize\": 10.0, \"nticks\": 5, \"tickvalues\": null}], \"sharey\": [], \"collections\": [], \"xlim\": [-8.0, 8.0], \"images\": [], \"ylim\": [-1.0, 1.0], \"axesbg\": \"#FFFFFF\", \"paths\": [], \"id\": \"el140202930390924\", \"xscale\": \"linear\", \"yscale\": \"linear\", \"markers\": [], \"bbox\": [0.125, 0.125, 0.775, 0.775], \"sharex\": [], \"axesbgalpha\": null, \"zoomable\": true, \"texts\": [], \"ydomain\": [-1.0, 1.0], \"xdomain\": [-8.0, 8.0], \"lines\": [{\"alpha\": 1, \"data\": \"data01\", \"xindex\": 0, \"dasharray\": \"10,0\", \"color\": \"#0000FF\", \"coordinates\": \"data\", \"zorder\": 2, \"linewidth\": 1.0, \"yindex\": 1, \"id\": \"el140202930980396\"}, {\"alpha\": 1, \"data\": \"data02\", \"xindex\": 0, \"dasharray\": \"10,0\", \"color\": \"#007F00\", \"coordinates\": \"data\", \"zorder\": 2, \"linewidth\": 1.0, \"yindex\": 1, \"id\": \"el140202930981420\"}, {\"alpha\": 1, \"data\": \"data03\", \"xindex\": 0, \"dasharray\": \"10,0\", \"color\": \"#FF0000\", \"coordinates\": \"data\", \"zorder\": 2, \"linewidth\": 1.0, \"yindex\": 1, \"id\": \"el140202930993484\"}, {\"alpha\": 1, \"data\": \"data04\", \"xindex\": 0, \"dasharray\": \"10,0\", \"color\": \"#00BFBF\", \"coordinates\": \"data\", \"zorder\": 2, \"linewidth\": 1.0, \"yindex\": 1, \"id\": \"el140202930994604\"}]}], \"data\": {\"data04\": [[-6.283185307179586, 2.4492935982947064e-16], [-6.026728764029399, 0.2536545839095075], [-5.770272220879212, 0.49071755200393785], [-5.513815677729025, 0.6956825506034863], [-5.257359134578838, 0.855142763005346], [-5.00090259142865, 0.9586678530366608], [-4.744446048278463, 0.9994862162006879], [-4.487989505128276, 0.9749279121818236], [-4.231532961978089, 0.886599306373], [-3.9750764188279017, 0.7402779970753156], [-3.7186198756777147, 0.5455349012105488], [-3.462163332527527, 0.3151082180236206], [-3.20570678937734, 0.064070219980713], [-2.949250246227153, -0.1911586287013721], [-2.6927937030769655, -0.43388373911755823], [-2.4363371599267785, -0.6482283953077884], [-2.1798806167765914, -0.8201722545969558], [-1.9234240736264043, -0.9384684220497603], [-1.6669675304762173, -0.9953791129491981], [-1.4105109873260302, -0.9871817834144502], [-1.1540544441758431, -0.9144126230158127], [-0.8975979010256552, -0.7818314824680298], [-0.6411413578754681, -0.5981105304912161], [-0.38468481472528104, -0.37526700487937437], [-0.12822827157509398, -0.12787716168450639], [0.1282282715750931, 0.1278771616845055], [0.38468481472528016, 0.37526700487937353], [0.6411413578754672, 0.5981105304912153], [0.8975979010256552, 0.7818314824680298], [1.1540544441758422, 0.9144126230158124], [1.4105109873260293, 0.9871817834144501], [1.6669675304762164, 0.9953791129491982], [1.9234240736264034, 0.9384684220497606], [2.1798806167765914, 0.8201722545969558], [2.4363371599267776, 0.6482283953077891], [2.6927937030769655, 0.43388373911755823], [2.9492502462271517, 0.1911586287013734], [3.2057067893773397, -0.06407021998071255], [3.462163332527526, -0.3151082180236194], [3.718619875677714, -0.5455349012105482], [3.9750764188279, -0.7402779970753144], [4.231532961978088, -0.8865993063729997], [4.487989505128276, -0.9749279121818236], [4.744446048278462, -0.9994862162006879], [5.00090259142865, -0.9586678530366608], [5.257359134578836, -0.855142763005347], [5.513815677729024, -0.6956825506034869], [5.77027222087921, -0.4907175520039394], [6.026728764029398, -0.25365458390950835], [6.283185307179586, -2.4492935982947064e-16]], \"data02\": [[-6.283185307179586, 2.4492935982947064e-16], [-6.2731853071795864, 0.009999833334166696], [-6.263185307179587, 0.019998666693332896], [-6.253185307179587, 0.029995500202495265], [-6.243185307179587, 0.03998933418663355], [-6.233185307179587, 0.04997916927067751], [-6.2231853071795875, 0.05996400647944357], [-6.213185307179588, 0.06994284733753152], [-6.203185307179588, 0.07991469396917124], [-6.193185307179588, 0.08987854919800939], [-6.183185307179588, 0.09983341664682628], [-6.173185307179589, 0.10977830083717272], [-6.163185307179589, 0.11971220728891706], [-6.153185307179589, 0.12963414261969236], [-6.143185307179589, 0.13954311464423377], [-6.133185307179589, 0.1494381324735963], [-6.12318530717959, 0.15931820661424284], [-6.11318530717959, 0.16918234906699267], [-6.10318530717959, 0.17902957342582065], [-6.09318530717959, 0.18885889497649685], [-6.0831853071795905, 0.19866933079505728], [-6.073185307179591, 0.20845989984609542], [-6.063185307179591, 0.218229623080865], [-6.053185307179591, 0.22797752353518386], [-6.043185307179591, 0.23770262642712986], [-6.033185307179592, 0.247403959254518], [-6.023185307179592, 0.25708055189214996], [-6.013185307179592, 0.2667314366888258], [-6.003185307179592, 0.2763556485641082], [-5.993185307179592, 0.28595222510482987], [-5.983185307179593, 0.2955202066613337], [-5.973185307179593, 0.30505863644343745], [-5.963185307179593, 0.31456656061611155], [-5.953185307179593, 0.32404302839486193], [-5.9431853071795935, 0.3334870921408078], [-5.933185307179594, 0.34289780745544457], [-5.923185307179594, 0.352274233275083], [-5.913185307179594, 0.3616154319649548], [-5.903185307179594, 0.37092046941297535], [-5.8931853071795945, 0.380188415123154], [-5.883185307179595, 0.38941834230864286], [-5.873185307179595, 0.3986093279844151], [-5.863185307179595, 0.4077604530595622], [-5.853185307179595, 0.41687080242920266], [-5.843185307179596, 0.42593946506599134], [-5.833185307179596, 0.4349655341112218], [-5.823185307179596, 0.4439481069655112], [-5.813185307179596, 0.45288628537905956], [-5.8031853071795965, 0.461779175541474], [-5.793185307179597, 0.47062588817114903], [-5.783185307179597, 0.47942553860419385], [-5.773185307179597, 0.4881772468828982], [-5.763185307179597, 0.4968801378437273], [-5.7531853071795975, 0.5055333412048374], [-5.743185307179598, 0.5141359916531034], [-5.733185307179598, 0.5226872289306493], [-5.723185307179598, 0.5311861979208735], [-5.713185307179598, 0.5396320487339592], [-5.703185307179599, 0.5480239367918635], [-5.693185307179599, 0.5563610229127736], [-5.683185307179599, 0.564642473395025], [-5.673185307179599, 0.5728674601004708], [-5.6631853071795994, 0.5810351605372945], [-5.6531853071796, 0.5891447579422588], [-5.6431853071796, 0.5971954413623813], [-5.6331853071796, 0.6051864057360288], [-5.6231853071796, 0.6131168519734229], [-5.6131853071796005, 0.6209859870365487], [-5.603185307179601, 0.6287930240184574], [-5.593185307179601, 0.6365371822219568], [-5.583185307179601, 0.6442176872376798], [-5.573185307179601, 0.6518337710215254], [-5.563185307179602, 0.6593846719714618], [-5.553185307179602, 0.6668696350036865], [-5.543185307179602, 0.6742879116281336], [-5.533185307179602, 0.6816387600233227], [-5.523185307179602, 0.6889214451105398], [-5.513185307179603, 0.6961352386273452], [-5.503185307179603, 0.7032794192003985], [-5.493185307179603, 0.7103532724175962], [-5.483185307179603, 0.717356090899511], [-5.4731853071796035, 0.7242871743701308], [-5.463185307179604, 0.7311458297268841], [-5.453185307179604, 0.737931371109951], [-5.443185307179604, 0.7446431199708475], [-5.433185307179604, 0.7512804051402809], [-5.423185307179605, 0.7578425628952652], [-5.413185307179605, 0.7643289370254933], [-5.403185307179605, 0.7707388788989575], [-5.393185307179605, 0.7770717475268121], [-5.383185307179605, 0.7833269096274716], [-5.373185307179606, 0.7895037396899387], [-5.363185307179606, 0.7956016200363543], [-5.353185307179606, 0.8016199408837654], [-5.343185307179606, 0.8075581004051026], [-5.3331853071796065, 0.8134155047893621], [-5.323185307179607, 0.8191915683009867], [-5.313185307179607, 0.8248857133384385], [-5.303185307179607, 0.8304973704919589], [-5.293185307179607, 0.8360259786005091], [-5.2831853071796075, 0.8414709848078851], [-5.273185307179608, 0.8468318446180039], [-5.263185307179608, 0.8521080219493516], [-5.253185307179608, 0.8572989891885922], [-5.243185307179608, 0.8624042272433273], [-5.233185307179609, 0.8674232255940059], [-5.223185307179609, 0.8723554823449753], [-5.213185307179609, 0.8772005042746708], [-5.203185307179609, 0.8819578068849367], [-5.1931853071796095, 0.8866269144494766], [-5.18318530717961, 0.8912073600614249], [-5.17318530717961, 0.8956986856800372], [-5.16318530717961, 0.9001004421764947], [-5.15318530717961, 0.9044121893788157], [-5.1431853071796105, 0.9086334961158732], [-5.133185307179611, 0.9127639402605112], [-5.123185307179611, 0.9168031087717572], [-5.113185307179611, 0.920750597736126], [-5.103185307179611, 0.9246060124080109], [-5.093185307179612, 0.9283689672491574], [-5.083185307179612, 0.9320390859672172], [-5.073185307179612, 0.9356160015533769], [-5.063185307179612, 0.9390993563190587], [-5.0531853071796125, 0.9424888019316888], [-5.043185307179613, 0.9457839994495305], [-5.033185307179613, 0.9489846193555779], [-5.023185307179613, 0.9520903415905076], [-5.013185307179613, 0.9551008555846843], [-5.0031853071796135, 0.9580158602892173], [-4.993185307179614, 0.9608350642060651], [-4.983185307179614, 0.9635581854171856], [-4.973185307179614, 0.9661849516127269], [-4.963185307179614, 0.9687151001182583], [-4.953185307179615, 0.9711483779210378], [-4.943185307179615, 0.9734845416953128], [-4.933185307179615, 0.9757233578266529], [-4.923185307179615, 0.9778646024353101], [-4.913185307179615, 0.9799080613986084], [-4.903185307179616, 0.9818535303723542], [-4.893185307179616, 0.9837008148112713], [-4.883185307179616, 0.9854497299884551], [-4.873185307179616, 0.9871001010138456], [-4.8631853071796165, 0.9886517628517153], [-4.853185307179617, 0.9901045603371735], [-4.843185307179617, 0.9914583481916824], [-4.833185307179617, 0.9927129910375848], [-4.823185307179617, 0.9938683634116414], [-4.813185307179618, 0.9949243497775778], [-4.803185307179618, 0.9958808445376373], [-4.793185307179618, 0.9967377520431409], [-4.783185307179618, 0.9974949866040522], [-4.773185307179618, 0.9981524724975461], [-4.763185307179619, 0.9987101439755813], [-4.753185307179619, 0.9991679452714747], [-4.743185307179619, 0.9995258306054781], [-4.733185307179619, 0.9997837641893563], [-4.7231853071796195, 0.999941720229966], [-4.71318530717962, 0.9999996829318346], [-4.70318530717962, 0.9999576464987404], [-4.69318530717962, 0.9998156151342915], [-4.68318530717962, 0.9995736030415061], [-4.6731853071796206, 0.9992316344213918], [-4.663185307179621, 0.9987897434705257], [-4.653185307179621, 0.9982479743776345], [-4.643185307179621, 0.9976063813191761], [-4.633185307179621, 0.9968650284539217], [-4.623185307179622, 0.9960239899165398], [-4.613185307179622, 0.9950833498101836], [-4.603185307179622, 0.9940432021980798], [-4.593185307179622, 0.9929036510941228], [-4.5831853071796225, 0.9916648104524732], [-4.573185307179623, 0.990326804156163], [-4.563185307179623, 0.9888897660047069], [-4.553185307179623, 0.9873538397007222], [-4.543185307179623, 0.9857191788355597], [-4.5331853071796235, 0.9839859468739435], [-4.523185307179624, 0.9821543171376255], [-4.513185307179624, 0.9802244727880529], [-4.503185307179624, 0.9781966068080525], [-4.493185307179624, 0.9760709219825324], [-4.483185307179625, 0.9738476308782038], [-4.473185307179625, 0.9715269558223244], [-4.463185307179625, 0.9691091288804659], [-4.453185307179625, 0.9665943918333075], [-4.4431853071796255, 0.9639829961524585], [-4.433185307179626, 0.9612752029753108], [-4.423185307179626, 0.9584712830789254], [-4.413185307179626, 0.9555715168529556], [-4.403185307179626, 0.9525761942716074], [-4.3931853071796265, 0.949485614864643], [-4.383185307179627, 0.9463000876874275], [-4.373185307179627, 0.943019931290024], [-4.363185307179627, 0.9396454736853388], [-4.353185307179627, 0.9361770523163204], [-4.343185307179628, 0.9326150140222154], [-4.333185307179628, 0.9289597150038846], [-4.323185307179628, 0.925211520788184], [-4.313185307179628, 0.9213708061914117], [-4.303185307179628, 0.9174379552818266], [-4.293185307179629, 0.9134133613412424], [-4.283185307179629, 0.9092974268256994], [-4.273185307179629, 0.9050905633252191], [-4.263185307179629, 0.9007931915226459], [-4.2531853071796295, 0.896405741151579], [-4.24318530717963, 0.8919286509533992], [-4.23318530717963, 0.8873623686333955], [-4.22318530717963, 0.8827073508159946], [-4.21318530717963, 0.8779640629990991], [-4.203185307179631, 0.873132979507538], [-4.193185307179631, 0.8682145834456345], [-4.183185307179631, 0.8632093666488962], [-4.173185307179631, 0.8581178296348319], [-4.163185307179631, 0.8529404815528997], [-4.153185307179632, 0.8476778401335937], [-4.143185307179632, 0.8423304316366702], [-4.133185307179632, 0.8368987907985227], [-4.123185307179632, 0.8313834607787086], [-4.1131853071796325, 0.825784993105634], [-4.103185307179633, 0.8201039476214007], [-4.093185307179633, 0.8143408924258229], [-4.083185307179633, 0.8084964038196176], [-4.073185307179633, 0.8025710662467752], [-4.0631853071796336, 0.7965654722361151], [-4.053185307179634, 0.7904802223420337], [-4.043185307179634, 0.7843159250844495], [-4.033185307179634, 0.7780731968879512], [-4.023185307179634, 0.7717526620201564], [-4.013185307179635, 0.7653549525292845], [-4.003185307179635, 0.7588807081809534], [-3.993185307179635, 0.7523305763942028], [-3.9831853071796353, 0.7457052121767527], [-3.9731853071796355, 0.7390052780595039], [-3.9631853071796357, 0.7322314440302848], [-3.953185307179636, 0.7253843874668536], [-3.943185307179636, 0.7184647930691607], [-3.9331853071796363, 0.7114733527908794], [-3.9231853071796365, 0.7044107657702117], [-3.9131853071796368, 0.6972777382599739], [-3.903185307179637, 0.6900749835569729], [-3.893185307179637, 0.6828032219306768], [-3.8831853071796374, 0.6754631805511885], [-3.8731853071796376, 0.6680555934165291], [-3.863185307179638, 0.6605812012792392], [-3.853185307179638, 0.6530407515723039], [-3.8431853071796382, 0.6454349983344102], [-3.8331853071796385, 0.6377647021345438], [-3.8231853071796387, 0.6300306299959327], [-3.813185307179639, 0.6222335553193458], [-3.803185307179639, 0.6143742578057533], [-3.7931853071796393, 0.6064535233783569], [-3.7831853071796395, 0.598472144103999], [-3.7731853071796397, 0.5904309181139558], [-3.76318530717964, 0.5823306495241254], [-3.75318530717964, 0.5741721483546164], [-3.7431853071796404, 0.5659562304487472], [-3.7331853071796406, 0.5576837173914618], [-3.723185307179641, 0.5493554364271721], [-3.713185307179641, 0.5409722203770343], [-3.7031853071796412, 0.5325349075556676], [-3.6931853071796414, 0.5240443416873228], [-3.6831853071796417, 0.5155013718215116], [-3.673185307179642, 0.5069068522481012], [-3.663185307179642, 0.49826164241188686], [-3.6531853071796423, 0.4895666068266481], [-3.6431853071796425, 0.4808226149886975], [-3.6331853071796427, 0.47203054128993216], [-3.623185307179643, 0.4631912649303953], [-3.613185307179643, 0.45430566983035686], [-3.6031853071796434, 0.4453746445419222], [-3.5931853071796436, 0.43639908216017764], [-3.583185307179644, 0.42737988023388174], [-3.573185307179644, 0.41831794067571115], [-3.563185307179644, 0.4092141696720702], [-3.5531853071796444, 0.40006947759247263], [-3.5431853071796446, 0.3908847788985059], [-3.533185307179645, 0.38166099205238563], [-3.523185307179645, 0.3723990394251099], [-3.5131853071796453, 0.3630998472042231], [-3.5031853071796455, 0.3537643453011981], [-3.4931853071796457, 0.34439346725844566], [-3.483185307179646, 0.33498815015596095], [-3.473185307179646, 0.3255493345176165], [-3.4631853071796463, 0.3160779642171105], [-3.4531853071796466, 0.30657498638358016], [-3.4431853071796468, 0.29704135130688986], [-3.433185307179647, 0.28747801234260245], [-3.423185307179647, 0.277885925816645], [-3.4131853071796474, 0.2682660509296767], [-3.4031853071796476, 0.2586193496611698], [-3.393185307179648, 0.24894678667321213], [-3.383185307179648, 0.2392493292140421], [-3.3731853071796483, 0.22952794702132448], [-3.3631853071796485, 0.21978361222517737], [-3.3531853071796487, 0.21001729925096013], [-3.343185307179649, 0.20022998472183162], [-3.333185307179649, 0.19042264736108871], [-3.3231853071796493, 0.1805962678942947], [-3.3131853071796495, 0.17075182895120766], [-3.3031853071796498, 0.1608903149675182], [-3.29318530717965, 0.15101271208640682], [-3.28318530717965, 0.1411200080599303], [-3.2731853071796504, 0.13121319215024738], [-3.2631853071796506, 0.12129325503069342], [-3.253185307179651, 0.11136118868671377], [-3.243185307179651, 0.10141798631666613], [-3.2331853071796512, 0.09146464223250152], [-3.2231853071796515, 0.08150215176033394], [-3.2131853071796517, 0.07153151114090857], [-3.203185307179652, 0.061553717429978505], [-3.193185307179652, 0.05156976839860003], [-3.1831853071796523, 0.041580662433356355], [-3.1731853071796525, 0.03158739843651979], [-3.1631853071796527, 0.021590975726162313], [-3.153185307179653, 0.011592393936224639], [-3.143185307179653, 0.0015926529165536407], [-3.1331853071796534, -0.008407247367081807], [-3.1231853071796536, -0.018406306932986564], [-3.113185307179654, -0.02840352588353656], [-3.103185307179654, -0.038397904505167724], [-3.0931853071796542, -0.04838844336834652], [-3.0831853071796544, -0.05837414342751206], [-3.0731853071796547, -0.06835400612097979], [-3.063185307179655, -0.07832703347079692], [-3.053185307179655, -0.08829222818253928], [-3.0431853071796553, -0.09824859374503998], [-3.0331853071796555, -0.10819513453003975], [-3.0231853071796557, -0.11813085589174882], [-3.013185307179656, -0.12805476426631077], [-3.003185307179656, -0.13796586727115803], [-2.9931853071796564, -0.14786317380424935], [-2.9831853071796566, -0.15774569414317915], [-2.973185307179657, -0.16761244004414896], [-2.963185307179657, -0.1774624248407909], [-2.953185307179657, -0.1872946635428336], [-2.9431853071796574, -0.19710817293460042], [-2.9331853071796576, -0.20690197167333005], [-2.923185307179658, -0.21667508038731007], [-2.913185307179658, -0.2264265217738133], [-2.9031853071796583, -0.23615532069682732], [-2.8931853071796585, -0.2458605042845671], [-2.8831853071796587, -0.2555411020267615], [-2.873185307179659, -0.2651961458717034], [-2.863185307179659, -0.2748246703230542], [-2.8531853071796593, -0.2844257125363925], [-2.8431853071796596, -0.2939983124154978], [-2.8331853071796598, -0.30354151270835933], [-2.82318530717966, -0.3130543591029004], [-2.81318530717966, -0.32253590032240903], [-2.8031853071796604, -0.33198518822066436], [-2.7931853071796606, -0.34140127787675106], [-2.783185307179661, -0.3507832276895502], [-2.773185307179661, -0.3601300994718988], [-2.7631853071796613, -0.36944095854440756], [-2.7531853071796615, -0.3787148738289284], [-2.7431853071796617, -0.387950917941661], [-2.733185307179662, -0.39714816728589075], [-2.723185307179662, -0.40630570214434764], [-2.7131853071796623, -0.41542260677117704], [-2.7031853071796625, -0.42449796948351365], [-2.6931853071796628, -0.4335308827526491], [-2.683185307179663, -0.4425204432947838], [-2.673185307179663, -0.4514657521613548], [-2.6631853071796634, -0.4603659148289299], [-2.6531853071796636, -0.4692200412886591], [-2.643185307179664, -0.4780272461352748], [-2.633185307179664, -0.4867866486556317], [-2.6231853071796642, -0.49549737291677726], [-2.6131853071796645, -0.5041585478535442], [-2.6031853071796647, -0.5127693073556565], [-2.593185307179665, -0.5213287903543397], [-2.583185307179665, -0.5298361409084266], [-2.5731853071796653, -0.5382905082899512], [-2.5631853071796655, -0.5466910470692208], [-2.5531853071796657, -0.5550369171993579], [-2.543185307179666, -0.5633272841003042], [-2.533185307179666, -0.5715613187422783], [-2.5231853071796664, -0.5797381977286779], [-2.5131853071796666, -0.5878571033784179], [-2.503185307179667, -0.5959172238076995], [-2.493185307179667, -0.6039177530111963], [-2.4831853071796672, -0.6118578909426552], [-2.4731853071796674, -0.6197368435948997], [-2.4631853071796677, -0.6275538230792302], [-2.453185307179668, -0.6353080477042128], [-2.443185307179668, -0.6429987420538464], [-2.4331853071796683, -0.6506251370651052], [-2.4231853071796685, -0.6581864701048432], [-2.4131853071796687, -0.6656819850460577], [-2.403185307179669, -0.6731109323435007], [-2.393185307179669, -0.6804725691086333], [-2.3831853071796694, -0.6877661591839136], [-2.3731853071796696, -0.6949909732164121], [-2.36318530717967, -0.7021462887307461], [-2.35318530717967, -0.7092313902013271], [-2.34318530717967, -0.7162455691239121], [-2.3331853071796704, -0.723188124086454], [-2.3231853071796706, -0.730058360839242], [-2.313185307179671, -0.7368555923643262], [-2.303185307179671, -0.743579138944218], [-2.2931853071796713, -0.7502283282298627], [-2.2831853071796715, -0.7568024953078727], [-2.2731853071796717, -0.7633009827670184], [-2.263185307179672, -0.7697231407639695], [-2.253185307179672, -0.7760683270882781], [-2.2431853071796723, -0.7823359072265993], [-2.2331853071796726, -0.7885252544261422], [-2.2231853071796728, -0.7946357497573446], [-2.213185307179673, -0.8006667821757657], [-2.203185307179673, -0.8066177485831892], [-2.1931853071796734, -0.8124880538879337], [-2.1831853071796736, -0.8182771110643604], [-2.173185307179674, -0.823984341211576], [-2.163185307179674, -0.8296091736113219], [-2.1531853071796743, -0.8351510457850453], [-2.1431853071796745, -0.840609403550147], [-2.1331853071796747, -0.8459837010753992], [-2.123185307179675, -0.8512734009355281], [-2.113185307179675, -0.8564779741649554], [-2.1031853071796753, -0.8615969003106956], [-2.0931853071796755, -0.8666296674843996], [-2.0831853071796758, -0.8715757724135443], [-2.073185307179676, -0.8764347204917583], [-2.063185307179676, -0.881206025828283], [-2.0531853071796764, -0.8858892112965607], [-2.0431853071796766, -0.8904838085819474], [-2.033185307179677, -0.8949893582285432], [-2.023185307179677, -0.8994054096851382], [-2.0131853071796773, -0.9037315213502667], [-2.0031853071796775, -0.9079672606163671], [-1.9931853071796777, -0.9121122039130429], [-1.983185307179678, -0.9161659367494184], [-1.973185307179678, -0.9201280537555879], [-1.9631853071796783, -0.9239981587231527], [-1.9531853071796785, -0.9277758646448412], [-1.9431853071796787, -0.931460793753209], [-1.933185307179679, -0.9350525775584164], [-1.9231853071796792, -0.9385508568850758], [-1.9131853071796794, -0.9419552819081697], [-1.9031853071796796, -0.945265512188033], [-1.8931853071796798, -0.9484812167043961], [-1.88318530717968, -0.9516020738894873], [-1.8731853071796802, -0.9546277716601884], [-1.8631853071796804, -0.9575580074492441], [-1.8531853071796807, -0.9603924882355171], [-1.8431853071796809, -0.9631309305732911], [-1.833185307179681, -0.9657730606206142], [-1.8231853071796813, -0.9683186141666834], [-1.8131853071796815, -0.9707673366582655], [-1.8031853071796817, -0.9731189832251518], [-1.793185307179682, -0.9753733187046454], [-1.7831853071796822, -0.9775301176650769], [-1.7731853071796824, -0.9795891644283476], [-1.7631853071796826, -0.9815502530914971], [-1.7531853071796828, -0.9834131875472932], [-1.743185307179683, -0.9851777815038429], [-1.7331853071796832, -0.986843858503221], [-1.7231853071796834, -0.9884112519391158], [-1.7131853071796836, -0.98987980507349], [-1.7031853071796839, -0.9912493710522541], [-1.693185307179684, -0.9925198129199512], [-1.6831853071796843, -0.9936910036334535], [-1.6731853071796845, -0.9947628260746655], [-1.6631853071796847, -0.9957351730622362], [-1.653185307179685, -0.9966079473622774], [-1.6431853071796851, -0.9973810616980862], [-1.6331853071796854, -0.9980544387588732], [-1.6231853071796856, -0.9986280112074937], [-1.6131853071796858, -0.9991017216871806], [-1.603185307179686, -0.9994755228272808], [-1.5931853071796862, -0.9997493772479917], [-1.5831853071796864, -0.9999232575640996], [-1.5731853071796866, -0.9999971463877178], [-1.5631853071796868, -0.9999710363300253], [-1.553185307179687, -0.9998449300020061], [-1.5431853071796873, -0.9996188400141882], [-1.5331853071796875, -0.9992927889753818], [-1.5231853071796877, -0.998866809490419], [-1.513185307179688, -0.9983409441568935], [-1.5031853071796881, -0.9977152455609002], [-1.4931853071796883, -0.9969897762717774], [-1.4831853071796886, -0.9961646088358496], [-1.4731853071796888, -0.9952398257691726], [-1.463185307179689, -0.9942155195492824], [-1.4531853071796892, -0.9930917926059475], [-1.4431853071796894, -0.9918687573109257], [-1.4331853071796896, -0.9905465359667274], [-1.4231853071796898, -0.989125260794385], [-1.41318530717969, -0.9876050739202316], [-1.4031853071796903, -0.9859861273616876], [-1.3931853071796905, -0.9842685830120599], [-1.3831853071796907, -0.9824526126243519], [-1.373185307179691, -0.9805383977940894], [-1.363185307179691, -0.9785261299411601], [-1.3531853071796913, -0.9764160102906724], [-1.3431853071796915, -0.9742082498528328], [-1.3331853071796917, -0.9719030694018456], [-1.323185307179692, -0.9695006994538347], [-1.3131853071796922, -0.9670013802437929], [-1.3031853071796924, -0.9644053617015586], [-1.2931853071796926, -0.9617129034268226], [-1.2831853071796928, -0.9589242746631687], [-1.273185307179693, -0.9560397542711493], [-1.2631853071796932, -0.9530596307003999], [-1.2531853071796935, -0.9499842019607943], [-1.2431853071796937, -0.9468137755926433], [-1.2331853071796939, -0.9435486686359421], [-1.223185307179694, -0.9401892075986652], [-1.2131853071796943, -0.9367357284241168], [-1.2031853071796945, -0.9331885764573364], [-1.1931853071796947, -0.929548106410565], [-1.183185307179695, -0.9258146823277733], [-1.1731853071796952, -0.9219886775482585], [-1.1631853071796954, -0.9180704746693102], [-1.1531853071796956, -0.9140604655079512], [-1.1431853071796958, -0.9099590510617559], [-1.133185307179696, -0.9057666414687511], [-1.1231853071796962, -0.9014836559664023], [-1.1131853071796964, -0.897110522849691], [-1.1031853071796967, -0.8926476794282842], [-1.0931853071796969, -0.8880955719828052], [-1.083185307179697, -0.8834546557202051], [-1.0731853071796973, -0.8787253947282427], [-1.0631853071796975, -0.8739082619290762], [-1.0531853071796977, -0.8690037390319714], [-1.043185307179698, -0.8640123164851305], [-1.0331853071796981, -0.8589344934266492], [-1.0231853071796984, -0.8537707776346015], [-1.0131853071796986, -0.8485216854762636], [-1.0031853071796988, -0.8431877418564773], [-0.993185307179699, -0.8377694801651593], [-0.9831853071796992, -0.8322674422239636], [-0.9731853071796994, -0.8266821782320996], [-0.9631853071796996, -0.8210142467113118], [-0.9531853071796998, -0.8152642144500292], [-0.9431853071797001, -0.809432656446686], [-0.9331853071797003, -0.8035201558522234], [-0.9231853071797005, -0.7975273039117733], [-0.9131853071797007, -0.7914546999055359], [-0.9031853071797009, -0.7853029510888513], [-0.8931853071797011, -0.7790726726314748], [-0.8831853071797013, -0.7727644875560603], [-0.8731853071797016, -0.7663790266758583], [-0.8631853071797018, -0.759916928531636], [-0.853185307179702, -0.7533788393278223], [-0.8431853071797022, -0.7467654128678896], [-0.8331853071797024, -0.7400773104889724], [-0.8231853071797026, -0.7333152009957354], [-0.8131853071797028, -0.7264797605934928], [-0.803185307179703, -0.7195716728205888], [-0.7931853071797033, -0.7125916284800435], [-0.7831853071797035, -0.7055403255704749], [-0.7731853071797037, -0.6984184692162974], [-0.7631853071797039, -0.6912267715972117], [-0.7531853071797041, -0.6839659518769866], [-0.7431853071797043, -0.6766367361315436], [-0.7331853071797045, -0.6692398572763496], [-0.7231853071797048, -0.661776054993126], [-0.713185307179705, -0.6542460756558812], [-0.7031853071797052, -0.646650672256274], [-0.6931853071797054, -0.6389906043283151], [-0.6831853071797056, -0.6312666378724137], [-0.6731853071797058, -0.6234795452787788], [-0.663185307179706, -0.6156301052501807], [-0.6531853071797062, -0.6077191027240808], [-0.6431853071797065, -0.5997473287941395], [-0.6331853071797067, -0.5917155806311065], [-0.6231853071797069, -0.5836246614031051], [-0.6131853071797071, -0.5754753801953157], [-0.6031853071797073, -0.567268551929068], [-0.5931853071797075, -0.5590049972803495], [-0.5831853071797077, -0.5506855425977389], [-0.573185307179708, -0.5423110198197718], [-0.5631853071797082, -0.533882266391747], [-0.5531853071797084, -0.5254001251819833], [-0.5431853071797086, -0.5168654443975335], [-0.5331853071797088, -0.5082790774993636], [-0.523185307179709, -0.4996418831170084], [-0.5131853071797092, -0.4909547249627083], [-0.5031853071797094, -0.4822184717450395], [-0.49318530717970965, -0.4734339970820436], [-0.48318530717970987, -0.4646021794138665], [-0.4731853071797101, -0.4557239019149152], [-0.4631853071797103, -0.44680005240554105], [-0.4531853071797105, -0.43783152326325847], [-0.4431853071797107, -0.428819211333508], [-0.43318530717971093, -0.4197640178399723], [-0.42318530717971115, -0.4106668482944548], [-0.41318530717971136, -0.4015286124063291], [-0.40318530717971157, -0.3923502239915688], [-0.3931853071797118, -0.3831326008813668], [-0.383185307179712, -0.37387666483035276], [-0.3731853071797122, -0.36458334142441856], [-0.3631853071797124, -0.35525355998816033], [-0.35318530717971264, -0.34588825349194696], [-0.34318530717971285, -0.3364883584586236], [-0.33318530717971306, -0.32705481486986043], [-0.3231853071797133, -0.3175885660721551], [-0.3131853071797135, -0.30809055868249874], [-0.3031853071797137, -0.2985617424937154], [-0.2931853071797139, -0.28900307037948336], [-0.28318530717971413, -0.27941549819904843], [-0.27318530717971434, -0.2697999847016391], [-0.26318530717971456, -0.26015749143059214], [-0.25318530717971477, -0.2504889826271994], [-0.24318530717971498, -0.24079542513428395], [-0.2331853071797152, -0.2310777882995173], [-0.2231853071797154, -0.22133704387848488], [-0.21318530717971562, -0.21157416593751155], [-0.20318530717971583, -0.20179013075625565], [-0.19318530717971605, -0.19198591673008206], [-0.18318530717971626, -0.18216250427222316], [-0.17318530717971647, -0.17232087571573862], [-0.1631853071797167, -0.16246201521528275], [-0.1531853071797169, -0.15258690864868993], [-0.14318530717971711, -0.1426965435183876], [-0.13318530717971733, -0.13279190885264677], [-0.12318530717971754, -0.12287399510668026], [-0.11318530717971775, -0.11294379406359772], [-0.10318530717971797, -0.10300229873522836], [-0.09318530717971818, -0.09305050326282042], [-0.08318530717971839, -0.08308940281762804], [-0.0731853071797186, -0.07311999350139482], [-0.06318530717971882, -0.0631432722467446], [-0.05318530717971903, -0.05316023671748892], [-0.043185307179719246, -0.04317188520886154], [-0.03318530717971946, -0.033179216547689724], [-0.023185307179719672, -0.023183229992512395], [-0.013185307179719885, -0.01318492513365511], [-0.0031853071797200982, -0.00318530179327186], [0.006814692820279689, 0.006814640074636309], [0.016814692820279475, 0.01681390048421586], [0.026814692820279262, 0.02681147951775853], [0.03681469282027905, 0.03680637742569225], [0.046814692820278836, 0.04679759472655527], [0.05681469282027862, 0.05678413230694351], [0.06681469282027841, 0.06676499152142101], [0.0768146928202782, 0.07673917429238367], [0.08681469282027798, 0.0867056832098662], [0.09681469282027777, 0.09666352163128222], [0.10681469282027756, 0.1066116937810878], [0.11681469282027734, 0.11654920485035804], [0.12681469282027713, 0.12647506109626727], [0.13681469282027692, 0.1363882699414624], [0.1468146928202767, 0.14628784007331988], [0.1568146928202765, 0.15617278154307618], [0.16681469282027628, 0.1660421058648217], [0.17681469282027606, 0.17589482611434873], [0.18681469282027585, 0.18572995702784284], [0.19681469282027564, 0.19554651510040863], [0.20681469282027543, 0.20534351868441925], [0.2168146928202752, 0.21511998808768046], [0.226814692820275, 0.22487494567139896], [0.23681469282027479, 0.23460741594794549], [0.24681469282027457, 0.24431642567840275], [0.25681469282027436, 0.2540010039698885], [0.26681469282027415, 0.2636601823726441], [0.27681469282027393, 0.2732929949768785], [0.2868146928202737, 0.2828984785093586], [0.2968146928202735, 0.2924756724297357], [0.3068146928202733, 0.3020236190265988], [0.3168146928202731, 0.31154136351324474], [0.32681469282027287, 0.32102795412315627], [0.33681469282027265, 0.33048244220517786], [0.34681469282027244, 0.3399038823183801], [0.35681469282027223, 0.3492913323266028], [0.366814692820272, 0.358643853492668], [0.3768146928202718, 0.3679605105722527], [0.3868146928202716, 0.377240371907413], [0.3968146928202714, 0.3864825095197485], [0.40681469282027116, 0.3956859992031997], [0.41681469282027095, 0.4048499206164678], [0.42681469282027074, 0.4139733573750481], [0.4368146928202705, 0.4230553971428675], [0.4468146928202703, 0.4320951317235176], [0.4568146928202701, 0.44109165715107346], [0.4668146928202699, 0.45004407378048933], [0.47681469282026967, 0.45895148637756267], [0.48681469282026946, 0.46781300420845656], [0.49681469282026924, 0.47662774112877243], [0.506814692820269, 0.4853948156721639], [0.5168146928202688, 0.49411335113848254], [0.5268146928202686, 0.5027824756814471], [0.5368146928202684, 0.5114013223958274], [0.5468146928202682, 0.5199690294041345], [0.556814692820268, 0.5284847399428073], [0.5668146928202678, 0.5369476024478883], [0.5768146928202675, 0.5453567706401794], [0.5868146928202673, 0.5537114036098689], [0.5968146928202671, 0.562010665900622], [0.6068146928202669, 0.5702537275931258], [0.6168146928202667, 0.5784397643880801], [0.6268146928202665, 0.5865679576886271], [0.6368146928202663, 0.5946374946822103], [0.646814692820266, 0.6026475684218549], [0.6568146928202658, 0.6105973779068619], [0.6668146928202656, 0.6184861281629076], [0.6768146928202654, 0.6263130303215404], [0.6868146928202652, 0.634077301699067], [0.696814692820265, 0.6417781658748195], [0.7068146928202648, 0.649414852768798], [0.7168146928202646, 0.6569865987186768], [0.7268146928202643, 0.6644926465561708], [0.7368146928202641, 0.6719322456827511], [0.7468146928202639, 0.6793046521447049], [0.7568146928202637, 0.6866091287075295], [0.7668146928202635, 0.6938449449296558], [0.7768146928202633, 0.7010113772354912], [0.7868146928202631, 0.7081077089877774], [0.7968146928202628, 0.7151332305592525], [0.8068146928202626, 0.7220872394036141], [0.8168146928202624, 0.7289690401257727], [0.8268146928202622, 0.7357779445513909], [0.836814692820262, 0.7425132717957003], [0.8468146928202618, 0.7491743483315889], [0.8568146928202616, 0.7557605080569544], [0.8668146928202614, 0.7622710923613125], [0.8768146928202611, 0.7687054501916583], [0.8868146928202609, 0.7750629381175705], [0.8968146928202607, 0.7813429203955548], [0.9068146928202605, 0.7875447690326164], [0.9168146928202603, 0.7936678638490599], [0.9268146928202601, 0.799711592540506], [0.9368146928202599, 0.8056753507391223], [0.9468146928202597, 0.8115585420740586], [0.9568146928202594, 0.817360578231084], [0.9668146928202592, 0.8230808790114178], [0.976814692820259, 0.828718872389749], [0.9868146928202588, 0.8342739945714379], [0.9968146928202586, 0.8397456900488957], [1.0068146928202584, 0.8451334116571343], [1.0168146928202582, 0.8504366206284828], [1.026814692820258, 0.8556547866464632], [1.0368146928202577, 0.8607873878988223], [1.0468146928202575, 0.8658339111297119], [1.0568146928202573, 0.8707938516910143], [1.066814692820257, 0.8756667135928069], [1.0768146928202569, 0.88045200955296], [1.0868146928202567, 0.8851492610458653], [1.0968146928202565, 0.889757998350288], [1.1068146928202562, 0.8942777605963381], [1.116814692820256, 0.8987080958115576], [1.1268146928202558, 0.903048560966117], [1.1368146928202556, 0.9072987220171177], [1.1468146928202554, 0.9114581539519964], [1.1568146928202552, 0.9155264408310257], [1.166814692820255, 0.9195031758289083], [1.1768146928202547, 0.923387961275458], [1.1868146928202545, 0.9271804086953676], [1.1968146928202543, 0.9308801388470553], [1.206814692820254, 0.9344867817605892], [1.216814692820254, 0.9379999767746835], [1.2268146928202537, 0.9414193725727644], [1.2368146928202535, 0.9447446272181015], [1.2468146928202533, 0.9479754081880014], [1.256814692820253, 0.9511113924070593], [1.2668146928202528, 0.9541522662794668], [1.2768146928202526, 0.9570977257203706], [1.2868146928202524, 0.959947476186281], [1.2968146928202522, 0.9627012327045263], [1.306814692820252, 0.9653587199017497], [1.3168146928202518, 0.9679196720314458], [1.3268146928202516, 0.9703838330005358], [1.3368146928202513, 0.9727509563949762], [1.3468146928202511, 0.9750208055044002], [1.356814692820251, 0.9771931533457884], [1.3668146928202507, 0.979267782686167], [1.3768146928202505, 0.9812444860643307], [1.3868146928202503, 0.9831230658115889], [1.39681469282025, 0.9849033340715325], [1.4068146928202498, 0.9865851128188191], [1.4168146928202496, 0.9881682338769753], [1.4268146928202494, 0.9896525389352144], [1.4368146928202492, 0.9910378795642679], [1.446814692820249, 0.992324117231227], [1.4568146928202488, 0.9935111233133971], [1.4668146928202486, 0.994598779111159], [1.4768146928202484, 0.9955869758598394], [1.4868146928202481, 0.9964756147405868], [1.496814692820248, 0.9972646068902536], [1.5068146928202477, 0.9979538734102826], [1.5168146928202475, 0.998543345374596], [1.5268146928202473, 0.9990329638364887], [1.536814692820247, 0.9994226798345223], [1.5468146928202469, 0.999712454397422], [1.5568146928202466, 0.9999022585479729], [1.5668146928202464, 0.9999920733059181], [1.5768146928202462, 0.9999818896898566], [1.586814692820246, 0.9998717087181417], [1.5968146928202458, 0.9996615414087785], [1.6068146928202456, 0.9993514087783231], [1.6168146928202454, 0.9989413418397798], [1.6268146928202452, 0.9984313815995008], [1.636814692820245, 0.9978215790530854], [1.6468146928202447, 0.9971119951802799], [1.6568146928202445, 0.9963027009388802], [1.6668146928202443, 0.9953937772576361], [1.676814692820244, 0.9943853150281583], [1.6868146928202439, 0.9932774150958295], [1.6968146928202437, 0.9920701882497193], [1.7068146928202435, 0.9907637552115066], [1.7168146928202432, 0.9893582466234065], [1.726814692820243, 0.9878538030351066], [1.7368146928202428, 0.9862505748897119], [1.7468146928202426, 0.984548722508701], [1.7568146928202424, 0.9827484160758936], [1.7668146928202422, 0.980849835620433], [1.776814692820242, 0.9788531709987826], [1.7868146928202417, 0.9767586218757405], [1.7968146928202415, 0.9745663977044736], [1.8068146928202413, 0.9722767177055722], [1.816814692820241, 0.9698898108451283], [1.826814692820241, 0.9674059158118385], [1.8368146928202407, 0.9648252809931366], [1.8468146928202405, 0.9621481644503537], [1.8568146928202403, 0.9593748338929132], [1.86681469282024, 0.9565055666515598], [1.8768146928202398, 0.9535406496506266], [1.8868146928202396, 0.9504803793793429], [1.8968146928202394, 0.9473250618621856], [1.9068146928202392, 0.944075012628277], [1.916814692820239, 0.9407305566798321], [1.9268146928202388, 0.9372920284596588], [1.9368146928202385, 0.9337597718177135], [1.9468146928202383, 0.9301341399767171], [1.9568146928202381, 0.9264154954968322], [1.966814692820238, 0.922604210239408], [1.9768146928202377, 0.9187006653297941], [1.9868146928202375, 0.9147052511192286], [1.9968146928202373, 0.910618367145803], [2.006814692820237, 0.9064404220945089], [2.016814692820237, 0.9021718337563699], [2.0268146928202366, 0.8978130289866626], [2.0368146928202364, 0.8933644436622317], [2.046814692820236, 0.8888265226379023], [2.056814692820236, 0.8841997197019956], [2.0668146928202358, 0.8794844975309493], [2.0768146928202356, 0.8746813276430512], [2.0868146928202354, 0.8697906903512874], [2.096814692820235, 0.8648130747153118], [2.106814692820235, 0.8597489784925397], [2.1168146928202347, 0.8545989080883735], [2.1268146928202345, 0.8493633785055619], [2.1368146928202343, 0.8440429132927001], [2.146814692820234, 0.8386380444918758], [2.156814692820234, 0.8331493125854651], [2.1668146928202336, 0.8275772664420845], [2.1768146928202334, 0.8219224632617053], [2.186814692820233, 0.8161854685199329], [2.196814692820233, 0.8103668559114608], [2.206814692820233, 0.8044672072927012], [2.2168146928202326, 0.7984871126235992], [2.2268146928202324, 0.7924271699086387], [2.236814692820232, 0.786287985137041], [2.246814692820232, 0.7800701722221675], [2.2568146928202317, 0.7737743529401281], [2.2668146928202315, 0.7674011568676045], [2.2768146928202313, 0.7609512213188929], [2.286814692820231, 0.7544251912821733], [2.296814692820231, 0.7478237193550111], [2.3068146928202307, 0.7411474656790978], [2.3168146928202304, 0.7343970978742373], [2.3268146928202302, 0.7275732909715851], [2.33681469282023, 0.7206767273461447], [2.34681469282023, 0.7137080966485316], [2.3568146928202296, 0.7066680957360085], [2.3668146928202294, 0.6995574286027999], [2.376814692820229, 0.6923768063096936], [2.386814692820229, 0.685126946912935], [2.3968146928202287, 0.6778085753924223], [2.4068146928202285, 0.6704224235792091], [2.4168146928202283, 0.6629692300823214], [2.426814692820228, 0.6554497402148981], [2.436814692820228, 0.6478647059196595], [2.4468146928202277, 0.6402148856937143], [2.4568146928202275, 0.6325010445127105], [2.4668146928202273, 0.6247239537543379], [2.476814692820227, 0.6168843911211913], [2.486814692820227, 0.6089831405630013], [2.4968146928202266, 0.6010209921982392], [2.5068146928202264, 0.5929987422351065], [2.516814692820226, 0.5849171928919142], [2.526814692820226, 0.5767771523168621], [2.5368146928202258, 0.5685794345072244], [2.5468146928202255, 0.5603248592279505], [2.5568146928202253, 0.5520142519296897], [2.566814692820225, 0.5436484436662462], [2.576814692820225, 0.535228271011475], [2.5868146928202247, 0.5267545759756247], [2.5968146928202245, 0.5182282059211376], [2.6068146928202243, 0.5096500134779137], [2.616814692820224, 0.501020856458049], [2.626814692820224, 0.49234159777005443], [2.6368146928202236, 0.48361310533256613], [2.6468146928202234, 0.47483625198755425], [2.656814692820223, 0.4660119154130391], [2.666814692820223, 0.45714097803532466], [2.6768146928202228, 0.4482243269407562], [2.6868146928202226, 0.4392628537870127], [2.6968146928202223, 0.43025745471394167], [2.706814692820222, 0.4212090302539459], [2.716814692820222, 0.4121184852419311], [2.7268146928202217, 0.4029867287248231], [2.7368146928202215, 0.3938146738706637], [2.7468146928202213, 0.3846032378772951], [2.756814692820221, 0.37535334188064035], [2.766814692820221, 0.366065910862591], [2.7768146928202206, 0.3567418735585092], [2.7868146928202204, 0.34738216236435554], [2.79681469282022, 0.3379877132434496], [2.80681469282022, 0.3285594656328748], [2.81681469282022, 0.31909836234953537], [2.8268146928202196, 0.30960534949587537], [2.8368146928202194, 0.30008137636526944], [2.846814692820219, 0.29052739534709393], [2.856814692820219, 0.2809443618314891], [2.8668146928202187, 0.27133323411382054], [2.8768146928202185, 0.26169497329885094], [2.8868146928202183, 0.2520305432046299], [2.896814692820218, 0.24234091026611312], [2.906814692820218, 0.2326270434385198], [2.9168146928202177, 0.2228899141004379], [2.9268146928202174, 0.2131304959566869], [2.9368146928202172, 0.2033497649409484], [2.946814692820217, 0.19354869911817338], [2.956814692820217, 0.18372827858677657], [2.9668146928202166, 0.17388948538062748], [2.9768146928202164, 0.16403330337084776], [2.986814692820216, 0.1541607181674249], [2.996814692820216, 0.14427271702065214], [3.0068146928202157, 0.1343702887224042], [3.0168146928202155, 0.12445442350725887], [3.0268146928202153, 0.11452611295347448], [3.036814692820215, 0.10458634988383286], [3.046814692820215, 0.09463612826635787], [3.0568146928202147, 0.08467644311491941], [3.0668146928202145, 0.07470829038973294], [3.0768146928202142, 0.06473266689776418], [3.086814692820214, 0.05475057019304936], [3.096814692820214, 0.04476299847694056], [3.1068146928202136, 0.03477095049828644], [3.1168146928202134, 0.024775425453558188], [3.126814692820213, 0.014777422886930697], [3.136814692820213, 0.004777942590328993], [3.1468146928202128, -0.0052220154965501395], [3.1568146928202125, -0.015221451386231282], [3.1668146928202123, -0.0252193651434583], [3.176814692820212, -0.03521475698518704], [3.186814692820212, -0.0452066273805628], [3.1968146928202117, -0.05519397715087256], [3.2068146928202115, -0.06517580756946206], [3.2168146928202113, -0.07515112046160762], [3.226814692820211, -0.08511891830433274], [3.236814692820211, -0.09507820432615961], [3.2468146928202106, -0.10502798260678545], [3.2568146928202104, -0.11496725817667364], [3.26681469282021, -0.12489503711654988], [3.27681469282021, -0.13481032665679332], [3.2868146928202098, -0.14471213527671264], [3.2968146928202096, -0.15459947280369735], [3.3068146928202093, -0.16447135051223416], [3.316814692820209, -0.17432678122277873], [3.326814692820209, -0.18416477940047285], [3.3368146928202087, -0.19398436125369709], [3.3468146928202085, -0.20378454483244904], [3.3568146928202083, -0.21356435012653763], [3.366814692820208, -0.22332279916358327], [3.376814692820208, -0.23305891610681426], [3.3868146928202076, -0.24277172735264968], [3.3968146928202074, -0.25246026162805896], [3.406814692820207, -0.2621235500876883], [3.416814692820207, -0.2717606264107444], [3.426814692820207, -0.2813705268976258], [3.4368146928202066, -0.2909522905662922], [3.4468146928202064, -0.30050495924836135], [3.456814692820206, -0.31002757768492567], [3.466814692820206, -0.3195191936220769], [3.4768146928202057, -0.3289788579061311], [3.4868146928202055, -0.3384056245785428], [3.4968146928202053, -0.34779855097050033], [3.506814692820205, -0.35715669779719206], [3.516814692820205, -0.3664791292517336], [3.5268146928202047, -0.37576491309874827], [3.5368146928202044, -0.3850131207675894], [3.5468146928202042, -0.394222827445197], [3.556814692820204, -0.40339311216857804], [3.566814692820204, -0.41252305791690197], [3.5768146928202036, -0.4216117517032023], [3.5868146928202034, -0.4306582846656743], [3.596814692820203, -0.4396617521585604], [3.606814692820203, -0.44862125384261425], [3.6168146928202027, -0.4575358937751336], [3.6268146928202025, -0.46640478049955414], [3.6368146928202023, -0.475227027134594], [3.646814692820202, -0.48400175146294167], [3.656814692820202, -0.4927280760194765], [3.6668146928202017, -0.5014051281790147], [3.6768146928202015, -0.5100320402435712], [3.6868146928202012, -0.5186079495291287], [3.696814692820201, -0.5271319984519051], [3.706814692820201, -0.5356033346141116], [3.7168146928202006, -0.5440211108891911], [3.7268146928202004, -0.5523844855065313], [3.7368146928202, -0.5606926221356396], [3.7468146928202, -0.5689446899697768], [3.7568146928201998, -0.5771398638090358], [3.7668146928201995, -0.5852773241428623], [3.7768146928201993, -0.593356257232004], [3.786814692820199, -0.6013758551898843], [3.796814692820199, -0.6093353160633906], [3.8068146928201987, -0.6172338439130683], [3.8168146928201985, -0.6250706488927145], [3.8268146928201983, -0.6328449473283619], [3.836814692820198, -0.6405559617966455], [3.846814692820198, -0.6482029212025443], [3.8568146928201976, -0.6557850608564901], [3.8668146928201974, -0.663301622550836], [3.876814692820197, -0.6707518546356763], [3.886814692820197, -0.6781350120940112], [3.8968146928201968, -0.6854503566162472], [3.9068146928201966, -0.6926971566740283], [3.9168146928201963, -0.6998746875933878], [3.926814692820196, -0.7069822316272149], [3.936814692820196, -0.714019078027029], [3.9468146928201957, -0.7209845231140545], [3.9568146928201955, -0.727877870349587], [3.9668146928201953, -0.7346984304046473], [3.976814692820195, -0.7414455212289139], [3.986814692820195, -0.7481184681189269], [3.9968146928201946, -0.7547166037855578], [4.006814692820194, -0.7612392684207387], [4.016814692820194, -0.7676858097634415], [4.026814692820194, -0.7740555831649039], [4.036814692820194, -0.780347951653094], [4.046814692820194, -0.7865622859964065], [4.056814692820193, -0.7926979647665859], [4.066814692820193, -0.798754374400868], [4.076814692820193, -0.8047309092633365], [4.086814692820193, -0.8106269717054855], [4.0968146928201925, -0.8164419721259841], [4.106814692820192, -0.8221753290296363], [4.116814692820192, -0.8278264690855293], [4.126814692820192, -0.8333948271843667], [4.136814692820192, -0.8388798464949793], [4.146814692820191, -0.8442809785200064], [4.156814692820191, -0.8495976831507467], [4.166814692820191, -0.8548294287211677], [4.176814692820191, -0.859975692061072], [4.186814692820191, -0.8650359585484143], [4.19681469282019, -0.8700097221607626], [4.20681469282019, -0.8748964855259005], [4.21681469282019, -0.8796957599715638], [4.22681469282019, -0.8844070655743073], [4.2368146928201895, -0.8890299312074968], [4.246814692820189, -0.8935638945884213], [4.256814692820189, -0.8980085023245212], [4.266814692820189, -0.9023633099587265], [4.276814692820189, -0.9066278820139029], [4.2868146928201885, -0.9108017920363985], [4.296814692820188, -0.9148846226386895], [4.306814692820188, -0.9188759655411181], [4.316814692820188, -0.9227754216127197], [4.326814692820188, -0.9265826009111372], [4.336814692820187, -0.9302971227216131], [4.346814692820187, -0.933918615595062], [4.356814692820187, -0.9374467173852142], [4.366814692820187, -0.9408810752848309], [4.3768146928201865, -0.944221345860984], [4.386814692820186, -0.9474671950893996], [4.396814692820186, -0.9506182983878596], [4.406814692820186, -0.9536743406486601], [4.416814692820186, -0.9566350162701217], [4.4268146928201855, -0.9595000291871495], [4.436814692820185, -0.9622690929008393], [4.446814692820185, -0.9649419305071272], [4.456814692820185, -0.9675182747244799], [4.466814692820185, -0.9699978679206228], [4.476814692820184, -0.9723804621383025], [4.486814692820184, -0.9746658191200828], [4.496814692820184, -0.9768537103321698], [4.506814692820184, -0.9789439169872657], [4.5168146928201836, -0.9809362300664467], [4.526814692820183, -0.9828304503400652], [4.536814692820183, -0.9846263883876724], [4.546814692820183, -0.9863238646169601], [4.556814692820183, -0.9879227092817198], [4.5668146928201825, -0.9894227624988176], [4.576814692820182, -0.9908238742641817], [4.586814692820182, -0.9921259044678032], [4.596814692820182, -0.9933287229077469], [4.606814692820182, -0.9944322093031708], [4.616814692820181, -0.9954362533063552], [4.626814692820181, -0.9963407545137365], [4.636814692820181, -0.9971456224759475], [4.646814692820181, -0.9978507767068628], [4.656814692820181, -0.9984561466916472], [4.66681469282018, -0.9989616718938062], [4.67681469282018, -0.9993673017612412], [4.68681469282018, -0.9996729957313034], [4.69681469282018, -0.9998787232348505], [4.7068146928201795, -0.9999844636993037], [4.716814692820179, -0.9999902065507045], [4.726814692820179, -0.9998959512147726], [4.736814692820179, -0.9997017071169632], [4.746814692820179, -0.9994074936815239], [4.756814692820178, -0.9990133403295535], [4.766814692820178, -0.9985192864760583], [4.776814692820178, -0.9979253815260122], [4.786814692820178, -0.9972316848694152], [4.796814692820178, -0.9964382658753549], [4.806814692820177, -0.9955452038850694], [4.816814692820177, -0.9945525882040138], [4.826814692820177, -0.9934605180929288], [4.836814692820177, -0.9922691027579156], [4.8468146928201765, -0.9909784613395146], [4.856814692820176, -0.9895887229007925], [4.866814692820176, -0.9881000264144347], [4.876814692820176, -0.9865125207488494], [4.886814692820176, -0.9848263646532803], [4.8968146928201755, -0.9830417267419318], [4.906814692820175, -0.9811587854771078], [4.916814692820175, -0.9791777291513656], [4.926814692820175, -0.9770987558686871], [4.936814692820175, -0.974922073524668], [4.946814692820174, -0.9726478997857286], [4.956814692820174, -0.9702764620673481], [4.966814692820174, -0.9678079975113217], [4.976814692820174, -0.9652427529620482], [4.9868146928201735, -0.9625809849418449], [4.996814692820173, -0.9598229596252954], [5.006814692820173, -0.9569689528126333], [5.016814692820173, -0.9540192499021614], [5.026814692820173, -0.9509741458617126], [5.0368146928201725, -0.9478339451991534], [5.046814692820172, -0.9445989619319334], [5.056814692820172, -0.9412695195556833], [5.066814692820172, -0.9378459510118664], [5.076814692820172, -0.9343285986544839], [5.086814692820171, -0.9307178142158405], [5.096814692820171, -0.9270139587713713], [5.106814692820171, -0.9232174027035338], [5.116814692820171, -0.9193285256647713], [5.1268146928201705, -0.9153477165395469], [5.13681469282017, -0.9112753734054558], [5.14681469282017, -0.9071119034934177], [5.15681469282017, -0.9028577231469544], [5.16681469282017, -0.8985132577805554], [5.1768146928201695, -0.8940789418371368], [5.186814692820169, -0.8895552187445978], [5.196814692820169, -0.8849425408714778], [5.206814692820169, -0.8802413694817204], [5.216814692820169, -0.8754521746885469], [5.226814692820168, -0.8705754354074455], [5.236814692820168, -0.8656116393082806], [5.246814692820168, -0.8605612827665254], [5.256814692820168, -0.8554248708136256], [5.266814692820168, -0.8502029170864961], [5.276814692820167, -0.8448959437761581], [5.286814692820167, -0.83950448157552], [5.296814692820167, -0.8340290696263091], [5.306814692820167, -0.8284702554651575], [5.3168146928201665, -0.822828594968849], [5.326814692820166, -0.8171046522987317], [5.336814692820166, -0.811298999844303], [5.346814692820166, -0.8054122181659701], [5.356814692820166, -0.7994448959369951], [5.366814692820165, -0.7933976298846283], [5.376814692820165, -0.7872710247304355], [5.386814692820165, -0.7810656931298267], [5.396814692820165, -0.7747822556107908], [5.406814692820165, -0.7684213405118436], [5.416814692820164, -0.7619835839191942], [5.426814692820164, -0.755469629603137], [5.436814692820164, -0.7488801289536755], [5.446814692820164, -0.7422157409153833], [5.4568146928201635, -0.7354771319215107], [5.466814692820163, -0.7286649758273414], [5.476814692820163, -0.7217799538428082], [5.486814692820163, -0.714822754464372], [5.496814692820163, -0.7077940734061731], [5.5068146928201624, -0.7006946135304599], [5.516814692820162, -0.6935250847773039], [5.526814692820162, -0.6862862040936059], [5.536814692820162, -0.6789786953614017], [5.546814692820162, -0.6716032893254751], [5.556814692820161, -0.6641607235202835], [5.566814692820161, -0.6566517421962054], [5.576814692820161, -0.6490770962451154], [5.586814692820161, -0.6414375431252969], [5.5968146928201605, -0.6337338467856953], [5.60681469282016, -0.6259667775895249], [5.61681469282016, -0.6181371122372328], [5.62681469282016, -0.6102456336888296], [5.63681469282016, -0.6022931310855937], [5.6468146928201595, -0.5942803996711585], [5.656814692820159, -0.5862082407119884], [5.666814692820159, -0.5780774614172521], [5.676814692820159, -0.5698888748581039], [5.686814692820159, -0.5616432998863756], [5.696814692820158, -0.5533415610526933], [5.706814692820158, -0.544984488524022], [5.716814692820158, -0.5365729180006507], [5.726814692820158, -0.5281076906326218], [5.7368146928201575, -0.519589652935618], [5.746814692820157, -0.5110196567063104], [5.756814692820157, -0.5023985589371807], [5.766814692820157, -0.49372722173082123], [5.776814692820157, -0.4850065122137267], [5.7868146928201565, -0.4762373024495815], [5.796814692820156, -0.4674204693520545], [5.806814692820156, -0.458556894597108], [5.816814692820156, -0.4496474645348313], [5.826814692820156, -0.4406930701008061], [5.836814692820155, -0.4316946067270138], [5.846814692820155, -0.4226529742522931], [5.856814692820155, -0.41356907683235683], [5.866814692820155, -0.4044438228493771], [5.876814692820155, -0.39527812482114777], [5.886814692820154, -0.3860728993098337], [5.896814692820154, -0.376829066830315], [5.906814692820154, -0.3675475517581364], [5.916814692820154, -0.3582292822370706], [5.9268146928201535, -0.3488751900863046], [5.936814692820153, -0.3394862107072582], [5.946814692820153, -0.33006328299004534], [5.956814692820153, -0.32060734921958534], [5.966814692820153, -0.3111193549813753], [5.976814692820152, -0.3016002490669323], [5.986814692820152, -0.2920509833789154], [5.996814692820152, -0.28247251283593555], [6.006814692820152, -0.2728657952770651], [6.016814692820152, -0.26323179136605435], [6.026814692820151, -0.25357146449526613], [6.036814692820151, -0.2438857806893372], [6.046814692820151, -0.2341757085085768], [6.056814692820151, -0.22444221895211133], [6.0668146928201505, -0.2146862853607852], [6.07681469282015, -0.20490888331982765], [6.08681469282015, -0.19511099056129494], [6.09681469282015, -0.18529358686629807], [6.10681469282015, -0.17545765396702537], [6.1168146928201494, -0.16560417544857017], [6.126814692820149, -0.15573413665057317], [6.136814692820149, -0.1458485245686891], [6.146814692820149, -0.1359483277558882], [6.156814692820149, -0.1260345362236016], [6.166814692820148, -0.1161081413427211], [6.176814692820148, -0.10617013574446277], [6.186814692820148, -0.09622151322110481], [6.196814692820148, -0.08626326862660907], [6.2068146928201475, -0.07629639777713648], [6.216814692820147, -0.0663218973514663], [6.226814692820147, -0.05634076479132905], [6.236814692820147, -0.046353998201663145], [6.246814692820147, -0.03636259625080527], [6.2568146928201465, -0.026367558070624377], [6.266814692820146, -0.016369883156609314], [6.276814692820146, -0.006370571267920115]], \"data01\": [[-6.283185307179586, 2.4492935982947064e-16], [-6.183185307179587, 0.09983341664682804], [-6.083185307179587, 0.19866933079506077], [-5.983185307179587, 0.29552020666133877], [-5.883185307179588, 0.3894183423086494], [-5.783185307179588, 0.4794255386042017], [-5.683185307179588, 0.5646424733950338], [-5.583185307179589, 0.6442176872376894], [-5.483185307179589, 0.7173560908995209], [-5.383185307179589, 0.7833269096274815], [-5.28318530717959, 0.8414709848078947], [-5.18318530717959, 0.8912073600614336], [-5.0831853071795905, 0.9320390859672248], [-4.983185307179591, 0.9635581854171918], [-4.883185307179591, 0.9854497299884594], [-4.783185307179592, 0.9974949866040541], [-4.683185307179592, 0.9995736030415053], [-4.583185307179592, 0.9916648104524693], [-4.483185307179593, 0.9738476308781966], [-4.383185307179593, 0.9463000876874166], [-4.283185307179593, 0.9092974268256846], [-4.183185307179594, 0.8632093666488774], [-4.083185307179594, 0.8084964038195946], [-3.9831853071795944, 0.7457052121767255], [-3.8831853071795948, 0.6754631805511571], [-3.783185307179595, 0.5984721441039634], [-3.6831853071795955, 0.5155013718214719], [-3.583185307179596, 0.4273798802338384], [-3.483185307179596, 0.33498815015591404], [-3.3831853071795965, 0.23924932921399208], [-3.283185307179597, 0.14112000805987754], [-3.1831853071795972, 0.04158066243330134], [-3.0831853071795976, -0.0583741434275688], [-2.983185307179598, -0.15774569414323705], [-2.8831853071795983, -0.2555411020268199], [-2.7831853071795987, -0.35078322768960846], [-2.683185307179599, -0.44252044329484114], [-2.5831853071795994, -0.5298361409084823], [-2.4831853071795997, -0.6118578909427086], [-2.3831853071796, -0.6877661591839639], [-2.2831853071796004, -0.7568024953079191], [-2.183185307179601, -0.8182771110644023], [-2.083185307179601, -0.8715757724135809], [-1.9831853071796015, -0.9161659367494489], [-1.8831853071796019, -0.9516020738895112], [-1.7831853071796022, -0.9775301176650938], [-1.6831853071796026, -0.9936910036334626], [-1.583185307179603, -0.9999232575641007], [-1.4831853071796033, -0.9961646088358421], [-1.3831853071796036, -0.9824526126243357], [-1.283185307179604, -0.9589242746631434], [-1.1831853071796044, -0.925814682327739], [-1.0831853071796047, -0.8834546557201618], [-0.9831853071796051, -0.8322674422239115], [-0.8831853071796054, -0.7727644875559994], [-0.7831853071796058, -0.7055403255704056], [-0.6831853071796061, -0.6312666378723365], [-0.5831853071796065, -0.5506855425976545], [-0.48318530717960684, -0.46460217941377524], [-0.3831853071796072, -0.37387666483025556], [-0.28318530717960755, -0.2794154981989461], [-0.1831853071796079, -0.1821625042721166], [-0.08318530717960826, -0.08308940281751828], [0.016814692820391386, 0.016813900484327755], [0.11681469282039103, 0.11654920485047095], [0.21681469282039068, 0.2151199880877932], [0.3168146928203903, 0.31154136351335615], [0.41681469282038996, 0.4048499206165766], [0.5168146928203896, 0.4941133511385875], [0.6168146928203893, 0.5784397643881801], [0.7168146928203889, 0.6569865987187705], [0.8168146928203885, 0.7289690401258591], [0.9168146928203882, 0.7936678638491377], [1.0168146928203878, 0.850436620628551], [1.1168146928203875, 0.8987080958116154], [1.2168146928203871, 0.9379999767747297], [1.3168146928203868, 0.9679196720314797], [1.4168146928203864, 0.9881682338769963], [1.516814692820386, 0.9985433453746034], [1.6168146928203857, 0.9989413418397733], [1.7168146928203853, 0.9893582466233859], [1.816814692820385, 0.9698898108450932], [1.9168146928203846, 0.9407305566797827], [2.0168146928203843, 0.9021718337563063], [2.116814692820384, 0.8545989080882961], [2.2168146928203836, 0.7984871126235084], [2.316814692820383, 0.7343970978741338], [2.416814692820383, 0.6629692300822058], [2.5168146928203825, 0.5849171928917875], [2.616814692820382, 0.5010208564579122], [2.716814692820382, 0.41211848524178546], [2.8168146928203814, 0.31909836234938216], [2.916814692820381, 0.22288991410027859], [3.0168146928203807, 0.12445442350709494], [3.1168146928203804, 0.024775425453391262], [3.21681469282038, -0.0751511204617759], [3.3168146928203797, -0.17432678122294665], [3.4168146928203793, -0.2717606264109102], [3.516814692820379, -0.3664791292518956], [3.6168146928203786, -0.45753589377528997], [3.7168146928203782, -0.5440211108893402], [3.816814692820378, -0.6250706488928546], [3.9168146928203775, -0.6998746875935171], [4.016814692820377, -0.7676858097635587], [4.116814692820377, -0.8278264690856328], [4.2168146928203765, -0.8796957599716525], [4.316814692820376, -0.9227754216127924], [4.416814692820376, -0.9566350162701771], [4.516814692820375, -0.980936230066484], [4.616814692820375, -0.9954362533063738], [4.716814692820375, -0.9999902065507036], [4.816814692820374, -0.9945525882039933], [4.916814692820374, -0.9791777291513253], [5.016814692820374, -0.9540192499021012], [5.116814692820373, -0.9193285256646917], [5.216814692820373, -0.8754521746884482], [5.316814692820373, -0.822828594968732], [5.416814692820372, -0.7619835839190596], [5.516814692820372, -0.6935250847771529], [5.6168146928203715, -0.6181371122370666], [5.716814692820371, -0.5365729180004707], [5.816814692820371, -0.44964746453463933], [5.91681469282037, -0.3582292822368683], [6.01681469282037, -0.26323179136584357], [6.11681469282037, -0.16560417544835296], [6.216814692820369, -0.06632189735124476]], \"data03\": [[-6.283185307179586, 2.4492935982947064e-16], [-5.283185307179586, 0.8414709848078966], [-4.283185307179586, 0.9092974268256816], [-3.2831853071795862, 0.141120008059867], [-2.2831853071795862, -0.7568024953079284], [-1.2831853071795862, -0.9589242746631385], [-0.28318530717958623, -0.27941549819892564], [0.7168146928204138, 0.6569865987187893], [1.7168146928204138, 0.9893582466233818], [2.7168146928204138, 0.41211848524175637], [3.7168146928204138, -0.54402111088937], [4.716814692820414, -0.9999902065507035], [5.716814692820414, -0.5365729180004347]]}, \"width\": 480.0, \"height\": 320.0, \"plugins\": [{\"type\": \"reset\"}, {\"button\": true, \"type\": \"zoom\", \"enabled\": false}, {\"button\": true, \"type\": \"boxzoom\", \"enabled\": false}], \"id\": \"el140203008235468\"});\n",
       "            })\n",
       "         });\n",
       "}\n",
       "</script>"
      ],
      "text/plain": [
       "<matplotlib.figure.Figure at 0xb34e07cc>"
      ]
     },
     "metadata": {},
     "output_type": "display_data"
    }
   ],
   "source": [
    "plt.figure()\n",
    "plt.plot(x1, np.sin(x1), x2, np.sin(x2), x3, np.sin(x3), x4, np.sin(x4))"
   ]
  },
  {
   "cell_type": "markdown",
   "metadata": {},
   "source": [
    "c) Experimente usando entre los distintos backends disponibles para Matplotlib. Pruebe utilizar el comando `%matplotlib` de Jupyter junto con las opciones `qt` e `inline`."
   ]
  },
  {
   "cell_type": "markdown",
   "metadata": {},
   "source": [
    "Para que funcione es backend `qt`, es necesario desactivar `mpld3` primero:"
   ]
  },
  {
   "cell_type": "code",
   "execution_count": 109,
   "metadata": {},
   "outputs": [],
   "source": [
    "mpld3.disable_notebook()"
   ]
  },
  {
   "cell_type": "code",
   "execution_count": 110,
   "metadata": {
    "collapsed": true
   },
   "outputs": [],
   "source": [
    "%matplotlib qt"
   ]
  },
  {
   "cell_type": "code",
   "execution_count": 111,
   "metadata": {},
   "outputs": [
    {
     "data": {
      "text/plain": [
       "[<matplotlib.lines.Line2D at 0xad15772c>,\n",
       " <matplotlib.lines.Line2D at 0xad157b2c>,\n",
       " <matplotlib.lines.Line2D at 0xad159a4c>,\n",
       " <matplotlib.lines.Line2D at 0xad159e8c>]"
      ]
     },
     "execution_count": 111,
     "metadata": {},
     "output_type": "execute_result"
    }
   ],
   "source": [
    "plt.figure()\n",
    "plt.plot(x1, np.sin(x1), x2, np.sin(x2), x3, np.sin(x3), x4, np.sin(x4))"
   ]
  },
  {
   "cell_type": "markdown",
   "metadata": {},
   "source": [
    "d) Genere un gráfico de barras mostrando el histograma de los elementos contenidos en un arreglo generado al azar con 100 valores enteros entre -5 y 5 inclusive."
   ]
  },
  {
   "cell_type": "code",
   "execution_count": 112,
   "metadata": {},
   "outputs": [],
   "source": [
    "x = np.random.randint(-5, 6, 100)"
   ]
  },
  {
   "cell_type": "markdown",
   "metadata": {},
   "source": [
    "La primer opción es hacerlo \"a mano\":"
   ]
  },
  {
   "cell_type": "code",
   "execution_count": 113,
   "metadata": {
    "collapsed": true
   },
   "outputs": [],
   "source": [
    "h, r = np.histogram(x, 11)"
   ]
  },
  {
   "cell_type": "code",
   "execution_count": 114,
   "metadata": {},
   "outputs": [
    {
     "data": {
      "text/plain": [
       "<Container object of 11 artists>"
      ]
     },
     "execution_count": 114,
     "metadata": {},
     "output_type": "execute_result"
    }
   ],
   "source": [
    "plt.figure()\n",
    "plt.bar(r[:-1], h)"
   ]
  },
  {
   "cell_type": "markdown",
   "metadata": {},
   "source": [
    "La otra manera es usando matplotib directamente:"
   ]
  },
  {
   "cell_type": "code",
   "execution_count": 115,
   "metadata": {},
   "outputs": [],
   "source": [
    "h, r, b = plt.hist(x, 11)"
   ]
  },
  {
   "cell_type": "markdown",
   "metadata": {},
   "source": [
    "e) Genere un gráfico de 30 puntos distribuidos al azar dentro de las coordenadas $[-10, 10]$ y $[10, 10]$ inclusive, en donde el diámetro de cada punto deberá ser 10 veces la distancia al cuadrado de ese punto al origen."
   ]
  },
  {
   "cell_type": "code",
   "execution_count": 116,
   "metadata": {
    "collapsed": true
   },
   "outputs": [],
   "source": [
    "x, y = 20 * np.random.random((2, 30)) - 10\n",
    "y.shape = (-1, 1)"
   ]
  },
  {
   "cell_type": "code",
   "execution_count": 117,
   "metadata": {
    "collapsed": true
   },
   "outputs": [],
   "source": [
    "s = np.sqrt( x ** 2 + y ** 2)"
   ]
  },
  {
   "cell_type": "code",
   "execution_count": 118,
   "metadata": {},
   "outputs": [
    {
     "data": {
      "text/plain": [
       "<matplotlib.collections.PathCollection at 0xa8882a0c>"
      ]
     },
     "execution_count": 118,
     "metadata": {},
     "output_type": "execute_result"
    }
   ],
   "source": [
    "xs, ys = np.meshgrid(x, y)\n",
    "plt.figure()\n",
    "plt.scatter(x, y, 10 * s ** 2)"
   ]
  },
  {
   "cell_type": "markdown",
   "metadata": {},
   "source": [
    "f) Dado el arreglo `z` calculado de la siguiente forma:"
   ]
  },
  {
   "cell_type": "code",
   "execution_count": 119,
   "metadata": {
    "collapsed": true
   },
   "outputs": [],
   "source": [
    "x = np.sin(np.linspace(-2 * np.pi, 2 * np.pi, 251))\n",
    "z = np.outer(x, x)"
   ]
  },
  {
   "cell_type": "markdown",
   "metadata": {},
   "source": [
    "Genere un gráfico mostrando z como si se tratara de una imagen 2D. Explore visualizarla usando distintos mapas de colores (por ejemplo, `gray()`, `jet()`, `spectral()`, `hot()`, etc)."
   ]
  },
  {
   "cell_type": "code",
   "execution_count": 120,
   "metadata": {},
   "outputs": [
    {
     "data": {
      "text/plain": [
       "<matplotlib.image.AxesImage at 0xa85c5f8c>"
      ]
     },
     "execution_count": 120,
     "metadata": {},
     "output_type": "execute_result"
    }
   ],
   "source": [
    "plt.figure()\n",
    "plt.imshow(z)"
   ]
  },
  {
   "cell_type": "code",
   "execution_count": 121,
   "metadata": {},
   "outputs": [
    {
     "data": {
      "text/plain": [
       "<matplotlib.image.AxesImage at 0xa81f7eec>"
      ]
     },
     "execution_count": 121,
     "metadata": {},
     "output_type": "execute_result"
    }
   ],
   "source": [
    "plt.figure()\n",
    "plt.gray()\n",
    "plt.imshow(z)"
   ]
  },
  {
   "cell_type": "markdown",
   "metadata": {},
   "source": [
    "Es posible cambiar el mapa de color para una imagen en particular sin afectar el mapa de color implícito:"
   ]
  },
  {
   "cell_type": "code",
   "execution_count": 122,
   "metadata": {},
   "outputs": [
    {
     "data": {
      "text/plain": [
       "<matplotlib.image.AxesImage at 0xa7f3c36c>"
      ]
     },
     "execution_count": 122,
     "metadata": {},
     "output_type": "execute_result"
    }
   ],
   "source": [
    "plt.figure()\n",
    "plt.imshow(z, cmap=mpl.cm.jet)"
   ]
  },
  {
   "cell_type": "code",
   "execution_count": 123,
   "metadata": {},
   "outputs": [
    {
     "data": {
      "text/plain": [
       "<matplotlib.image.AxesImage at 0xa7d2fe0c>"
      ]
     },
     "execution_count": 123,
     "metadata": {},
     "output_type": "execute_result"
    }
   ],
   "source": [
    "plt.figure()\n",
    "plt.imshow(z)"
   ]
  },
  {
   "cell_type": "code",
   "execution_count": null,
   "metadata": {},
   "outputs": [],
   "source": [
    "plt.figure()\n",
    "plt.imshow(z, cmap=mpl.cm.spectral)"
   ]
  },
  {
   "cell_type": "code",
   "execution_count": 124,
   "metadata": {},
   "outputs": [
    {
     "data": {
      "text/plain": [
       "<matplotlib.image.AxesImage at 0xa7d34f8c>"
      ]
     },
     "execution_count": 124,
     "metadata": {},
     "output_type": "execute_result"
    }
   ],
   "source": [
    "plt.figure()\n",
    "plt.imshow(z, cmap=mpl.cm.hot)"
   ]
  },
  {
   "cell_type": "code",
   "execution_count": 125,
   "metadata": {},
   "outputs": [],
   "source": [
    "f = plt.figure()\n",
    "plt.imshow(z, cmap=mpl.cm.spectral)\n",
    "f.savefig('imagen.png')\n",
    "f.savefig('imagen.jpg')"
   ]
  },
  {
   "cell_type": "code",
   "execution_count": null,
   "metadata": {
    "collapsed": true
   },
   "outputs": [],
   "source": []
  }
 ],
 "metadata": {
  "kernelspec": {
   "display_name": "Python 2",
   "language": "python",
   "name": "python2"
  },
  "language_info": {
   "codemirror_mode": {
    "name": "ipython",
    "version": 2
   },
   "file_extension": ".py",
   "mimetype": "text/x-python",
   "name": "python",
   "nbconvert_exporter": "python",
   "pygments_lexer": "ipython2",
   "version": "2.7.15rc1"
  }
 },
 "nbformat": 4,
 "nbformat_minor": 1
}
