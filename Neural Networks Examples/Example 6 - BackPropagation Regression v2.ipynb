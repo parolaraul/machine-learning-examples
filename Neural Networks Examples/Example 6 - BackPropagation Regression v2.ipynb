{
 "cells": [
  {
   "cell_type": "markdown",
   "metadata": {},
   "source": [
    "# EJERCICIO 6\n",
    "Con el fin de predecir la puntuación que un catador profesional le otorgará a un determinado vino, se tomaron resultados de análisis físico-químicos de rutina realizados durante la producción de los vinos para tratar de descubrir de que manera estos factores influyen en la puntuación obtenida.\n",
    "Construir un modelo de este tipo resulta beneficioso no solo para anticipar la puntuación que un enólogo otorgará al vino sino también para poder analizar como la variación de determinadas características afectará, tanto positiva como negativamente, la calidad percibida del vino antes de que éste sea producido.\n",
    "La bodega portuguesa “Vinho Verde” ha facilitado los resultados de analizar 1599 muestras de varios tipos de vino tinto producidos por esa bodega, junto con las calificaciones que cada uno de ellos obtuvo, las cuales van de 0 a 10, siendo 0 la peor puntuación posible y 10, la mejor. De cada vino se analizaron 11 atributos diferentes (pH, densidad y grado de alcohol, para nombrar sólo algunos), siendo todos estos atributos valores reales continuos.\n",
    "Entrene una red neuronal artificial mediante backpropagation para que sea capaz de predecir cual será la puntuación que un vino obtendrá a partir de los 11 atributos analizados. Detalle la arquitectura usada y los parámetros empleados en su entrenamiento. Reserve un subconjunto razonable de los patrones disponible para evaluar el desempeño de la red luego de ser entrenada, informando el error obtenido."
   ]
  },
  {
   "cell_type": "code",
   "execution_count": 1,
   "metadata": {},
   "outputs": [],
   "source": [
    "import pyximport; pyximport.install()\n",
    "import numpy as np\n",
    "import matplotlib.pyplot as plt\n",
    "import matplotlib as mpl\n",
    "import mpld3\n",
    "%matplotlib inline\n",
    "mpld3.enable_notebook()\n",
    "from utils.cperceptron import Perceptron\n",
    "from utils.cbackpropagation import ANN #, Identidad, Sigmoide\n",
    "import utils.patrones as magia\n",
    "\n",
    "def progreso(ann, X, T, y=None, n=-1, E=None):\n",
    "    if n % 20 == 0:\n",
    "        print(\"Pasos: {0} - Error: {1:.32f}\".format(n, E)) \n",
    "def progresoPerceptron(perceptron, X, T, n):\n",
    "    y = perceptron.evaluar(X)\n",
    "    incorrectas = (T != y).sum()\n",
    "    print(\"Pasos: {0}\\tIncorrectas: {1}\\n\".format(n, incorrectas))"
   ]
  },
  {
   "cell_type": "code",
   "execution_count": 2,
   "metadata": {},
   "outputs": [],
   "source": [
    "winequality = np.load('resources/winequality.npy')\n",
    "datos = magia.escalar(winequality[:, :-1].round(2))\n",
    "puntuacion = winequality[:, -1].reshape(-1, 1)"
   ]
  },
  {
   "cell_type": "code",
   "execution_count": 3,
   "metadata": {},
   "outputs": [],
   "source": [
    "# Armo patrones manualmente\n",
    "## De entrenamiento\n",
    "X = datos[:1400,:]\n",
    "T = puntuacion[:1400,:].astype(np.float64)\n",
    "## De prueba\n",
    "Xtest = datos[-199:,:]\n",
    "Ttest = puntuacion[-199:,:].astype(np.float64)"
   ]
  },
  {
   "cell_type": "code",
   "execution_count": 4,
   "metadata": {},
   "outputs": [
    {
     "data": {
      "text/plain": [
       "(199, 11)"
      ]
     },
     "execution_count": 4,
     "metadata": {},
     "output_type": "execute_result"
    }
   ],
   "source": [
    "Xtest.shape"
   ]
  },
  {
   "cell_type": "code",
   "execution_count": 5,
   "metadata": {},
   "outputs": [],
   "source": [
    "# Crea la red neuronal\n",
    "ocultas = 12 #2,5,15\n",
    "entradas = X.shape[1]\n",
    "salidas = T.shape[1]\n",
    "ann = ANN(entradas, ocultas, salidas)\n",
    "ann.reiniciar()"
   ]
  },
  {
   "cell_type": "code",
   "execution_count": 6,
   "metadata": {},
   "outputs": [
    {
     "name": "stdout",
     "output_type": "stream",
     "text": [
      "Pasos: 1000 - Error: 0.14530131234005239093676209449768\n",
      "Pasos: 2000 - Error: 0.13475291451265292153038899414241\n",
      "Pasos: 3000 - Error: 0.13195475081701801833844456268707\n",
      "Pasos: 4000 - Error: 0.13062818296939079920626625153091\n",
      "Pasos: 5000 - Error: 0.12924774898121824118213396559440\n",
      "\n",
      "Red entrenada en 5000 pasos con un error de 0.12924774898121824118213396559440\n"
     ]
    }
   ],
   "source": [
    "#Entreno\n",
    "E, n = ann.entrenar_rprop(X, T, min_error=0, max_pasos=5000, callback=progreso, frecuencia_callback=1000)\n",
    "print(\"\\nRed entrenada en {0} pasos con un error de {1:.32f}\".format(n, E))"
   ]
  },
  {
   "cell_type": "code",
   "execution_count": 7,
   "metadata": {},
   "outputs": [],
   "source": [
    "Y1 = ann.evaluar(Xtest)"
   ]
  },
  {
   "cell_type": "code",
   "execution_count": 10,
   "metadata": {},
   "outputs": [
    {
     "data": {
      "text/plain": [
       "array([[5., 5.],\n",
       "       [5., 5.],\n",
       "       [7., 6.],\n",
       "       [5., 8.],\n",
       "       [6., 6.],\n",
       "       [6., 7.],\n",
       "       [7., 6.],\n",
       "       [6., 6.],\n",
       "       [7., 7.],\n",
       "       [6., 6.],\n",
       "       [4., 6.],\n",
       "       [6., 6.],\n",
       "       [7., 6.],\n",
       "       [5., 5.],\n",
       "       [6., 5.],\n",
       "       [6., 5.],\n",
       "       [6., 5.],\n",
       "       [7., 7.],\n",
       "       [5., 5.],\n",
       "       [5., 5.],\n",
       "       [5., 5.],\n",
       "       [6., 5.],\n",
       "       [6., 6.],\n",
       "       [6., 4.],\n",
       "       [6., 6.],\n",
       "       [6., 6.],\n",
       "       [7., 6.],\n",
       "       [6., 5.],\n",
       "       [6., 5.],\n",
       "       [7., 5.],\n",
       "       [6., 5.],\n",
       "       [5., 6.],\n",
       "       [7., 6.],\n",
       "       [5., 7.],\n",
       "       [6., 6.],\n",
       "       [6., 6.],\n",
       "       [4., 5.],\n",
       "       [5., 5.],\n",
       "       [4., 5.],\n",
       "       [5., 6.],\n",
       "       [6., 7.],\n",
       "       [5., 6.],\n",
       "       [6., 5.],\n",
       "       [6., 5.],\n",
       "       [6., 6.],\n",
       "       [5., 6.],\n",
       "       [6., 5.],\n",
       "       [5., 5.],\n",
       "       [5., 5.],\n",
       "       [6., 8.],\n",
       "       [6., 7.],\n",
       "       [7., 7.],\n",
       "       [6., 7.],\n",
       "       [5., 5.],\n",
       "       [6., 6.],\n",
       "       [6., 6.],\n",
       "       [6., 6.],\n",
       "       [5., 5.],\n",
       "       [6., 5.],\n",
       "       [7., 7.],\n",
       "       [5., 6.],\n",
       "       [5., 4.],\n",
       "       [6., 6.],\n",
       "       [6., 6.],\n",
       "       [5., 5.],\n",
       "       [5., 5.],\n",
       "       [6., 7.],\n",
       "       [6., 4.],\n",
       "       [6., 7.],\n",
       "       [5., 3.],\n",
       "       [5., 5.],\n",
       "       [5., 5.],\n",
       "       [7., 6.],\n",
       "       [6., 5.],\n",
       "       [6., 5.],\n",
       "       [7., 7.],\n",
       "       [6., 5.],\n",
       "       [7., 7.],\n",
       "       [5., 3.],\n",
       "       [6., 5.],\n",
       "       [5., 4.],\n",
       "       [6., 5.],\n",
       "       [6., 4.],\n",
       "       [6., 5.],\n",
       "       [5., 4.],\n",
       "       [5., 5.],\n",
       "       [5., 5.],\n",
       "       [6., 5.],\n",
       "       [5., 5.],\n",
       "       [7., 6.],\n",
       "       [6., 6.],\n",
       "       [5., 5.],\n",
       "       [5., 5.],\n",
       "       [5., 5.],\n",
       "       [6., 7.],\n",
       "       [6., 6.],\n",
       "       [5., 5.],\n",
       "       [5., 6.],\n",
       "       [5., 6.],\n",
       "       [5., 6.],\n",
       "       [6., 5.],\n",
       "       [5., 5.],\n",
       "       [5., 5.],\n",
       "       [6., 6.],\n",
       "       [5., 6.],\n",
       "       [5., 3.],\n",
       "       [5., 6.],\n",
       "       [5., 6.],\n",
       "       [6., 6.],\n",
       "       [6., 5.],\n",
       "       [5., 6.],\n",
       "       [6., 5.],\n",
       "       [6., 6.],\n",
       "       [6., 6.],\n",
       "       [5., 6.],\n",
       "       [5., 6.],\n",
       "       [6., 5.],\n",
       "       [6., 6.],\n",
       "       [6., 5.],\n",
       "       [5., 5.],\n",
       "       [6., 6.],\n",
       "       [5., 4.],\n",
       "       [6., 5.],\n",
       "       [6., 5.],\n",
       "       [5., 6.],\n",
       "       [5., 5.],\n",
       "       [5., 6.],\n",
       "       [6., 6.],\n",
       "       [5., 6.],\n",
       "       [5., 6.],\n",
       "       [6., 6.],\n",
       "       [6., 5.],\n",
       "       [5., 6.],\n",
       "       [5., 5.],\n",
       "       [6., 7.],\n",
       "       [5., 6.],\n",
       "       [5., 6.],\n",
       "       [6., 6.],\n",
       "       [6., 5.],\n",
       "       [6., 5.],\n",
       "       [6., 6.],\n",
       "       [6., 7.],\n",
       "       [5., 6.],\n",
       "       [6., 6.],\n",
       "       [7., 7.],\n",
       "       [5., 6.],\n",
       "       [6., 5.],\n",
       "       [6., 5.],\n",
       "       [6., 5.],\n",
       "       [6., 8.],\n",
       "       [5., 5.],\n",
       "       [5., 5.],\n",
       "       [5., 6.],\n",
       "       [5., 5.],\n",
       "       [6., 6.],\n",
       "       [6., 7.],\n",
       "       [6., 5.],\n",
       "       [6., 6.],\n",
       "       [6., 5.],\n",
       "       [5., 5.],\n",
       "       [5., 5.],\n",
       "       [5., 5.],\n",
       "       [5., 5.],\n",
       "       [5., 5.],\n",
       "       [5., 5.],\n",
       "       [6., 6.],\n",
       "       [6., 6.],\n",
       "       [5., 5.],\n",
       "       [5., 5.],\n",
       "       [6., 6.],\n",
       "       [6., 6.],\n",
       "       [6., 6.],\n",
       "       [5., 5.],\n",
       "       [6., 6.],\n",
       "       [5., 6.],\n",
       "       [6., 6.],\n",
       "       [7., 6.],\n",
       "       [6., 6.],\n",
       "       [6., 6.],\n",
       "       [6., 5.],\n",
       "       [6., 6.],\n",
       "       [6., 5.],\n",
       "       [5., 5.],\n",
       "       [5., 5.],\n",
       "       [6., 7.],\n",
       "       [6., 6.],\n",
       "       [6., 6.],\n",
       "       [6., 6.],\n",
       "       [6., 6.],\n",
       "       [6., 5.],\n",
       "       [6., 6.],\n",
       "       [6., 6.],\n",
       "       [6., 6.],\n",
       "       [5., 6.],\n",
       "       [6., 5.],\n",
       "       [6., 6.],\n",
       "       [6., 6.],\n",
       "       [5., 5.],\n",
       "       [7., 6.]])"
      ]
     },
     "execution_count": 10,
     "metadata": {},
     "output_type": "execute_result"
    }
   ],
   "source": [
    "np.hstack((Y1.round(),Ttest))"
   ]
  },
  {
   "cell_type": "code",
   "execution_count": 11,
   "metadata": {},
   "outputs": [
    {
     "name": "stdout",
     "output_type": "stream",
     "text": [
      "Errores de la red: \n",
      "7 \n",
      "\n"
     ]
    }
   ],
   "source": [
    "#Evaluo\n",
    "Y = ((Y1.round() - Ttest ) > 1).sum()\n",
    "print(\"Errores de la red: \\n{0} \\n\".format(Y))"
   ]
  },
  {
   "cell_type": "code",
   "execution_count": 12,
   "metadata": {
    "scrolled": true
   },
   "outputs": [
    {
     "data": {
      "text/plain": [
       "(array([[0., 0.]]), [array([1])])"
      ]
     },
     "execution_count": 12,
     "metadata": {},
     "output_type": "execute_result"
    }
   ],
   "source": [
    "Y = ann.evaluar(Xtest)\n",
    "magia.matriz_de_confusion(Ttest,Y)"
   ]
  }
 ],
 "metadata": {
  "kernelspec": {
   "display_name": "Python 2",
   "language": "python",
   "name": "python2"
  },
  "language_info": {
   "codemirror_mode": {
    "name": "ipython",
    "version": 2
   },
   "file_extension": ".py",
   "mimetype": "text/x-python",
   "name": "python",
   "nbconvert_exporter": "python",
   "pygments_lexer": "ipython2",
   "version": "2.7.15rc1"
  }
 },
 "nbformat": 4,
 "nbformat_minor": 1
}
