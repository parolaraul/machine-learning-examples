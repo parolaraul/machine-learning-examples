{
 "cells": [
  {
   "cell_type": "code",
   "execution_count": 2,
   "metadata": {},
   "outputs": [],
   "source": [
    "import pyximport; pyximport.install()\n",
    "import numpy as np\n",
    "import matplotlib.pyplot as plt\n",
    "import matplotlib as mpl\n",
    "import mpld3\n",
    "%matplotlib inline\n",
    "mpld3.enable_notebook()\n",
    "from utils.cperceptron import Perceptron\n",
    "import utils.patrones as magia"
   ]
  },
  {
   "cell_type": "markdown",
   "metadata": {},
   "source": [
    "## Ejercicio 2"
   ]
  },
  {
   "cell_type": "markdown",
   "metadata": {},
   "source": [
    "Se ha realizado un análisis químico a tres tipos distintos de vinos producidos en una misma región de Italia. Se analizaron 59 muestras del Tipo 1, 71 muestras del Tipo 2 y 48 muestras del Tipo 3.\n",
    "\n",
    "El archivo `'vinos.npy'` permite observar los resultados de este análisis."
   ]
  },
  {
   "cell_type": "code",
   "execution_count": 4,
   "metadata": {},
   "outputs": [],
   "source": [
    "vinos = np.load('resources/vinos.npy')"
   ]
  },
  {
   "cell_type": "code",
   "execution_count": 6,
   "metadata": {},
   "outputs": [],
   "source": [
    "clases, patronesEnt, patronesTest = magia.generar_patrones(magia.escalar(vinos[:,1:]),vinos[:,:1])"
   ]
  },
  {
   "cell_type": "code",
   "execution_count": 7,
   "metadata": {},
   "outputs": [
    {
     "name": "stderr",
     "output_type": "stream",
     "text": [
      "utils/patrones.py:84: FutureWarning: arrays to stack must be passed as a \"sequence\" type such as list or tuple. Support for non-sequence iterables such as generators is deprecated as of NumPy 1.16 and will raise an error in the future.\n",
      "  X = np.vstack(patrones[c] for c in clases)\n"
     ]
    }
   ],
   "source": [
    "X, T = magia.armar_patrones_y_salida_esperada(clases,patronesEnt)\n",
    "T = T.astype(np.int8)"
   ]
  },
  {
   "cell_type": "code",
   "execution_count": 8,
   "metadata": {},
   "outputs": [],
   "source": [
    "Xtest, Ttest = magia.armar_patrones_y_salida_esperada(clases,patronesTest)"
   ]
  },
  {
   "cell_type": "code",
   "execution_count": 9,
   "metadata": {},
   "outputs": [
    {
     "name": "stdout",
     "output_type": "stream",
     "text": [
      "Entrenando P1:\n",
      "Pasos:56\n",
      "\n",
      "Entrenando P2:\n",
      "Pasos:128\n",
      "\n",
      "Entrenando P3:\n",
      "Pasos:20\n"
     ]
    }
   ],
   "source": [
    "print(\"Entrenando P1:\")\n",
    "p1 = Perceptron(X.shape[1])\n",
    "Vino1 = p1.entrenar_numpy(X, T[:,0], max_pasos=5000000)\n",
    "print(\"Pasos:{0}\".format(Vino1))\n",
    "print(\"\\nEntrenando P2:\")\n",
    "p2 = Perceptron(X.shape[1])\n",
    "Vino2 = p2.entrenar_numpy(X, T[:,1], max_pasos=5000000)\n",
    "print(\"Pasos:{0}\".format(Vino2))\n",
    "print(\"\\nEntrenando P3:\")\n",
    "p3 = Perceptron(X.shape[1])\n",
    "Vino3 = p3.entrenar_numpy(X, T[:,2], max_pasos=5000000)\n",
    "print(\"Pasos:{0}\".format(Vino3))"
   ]
  },
  {
   "cell_type": "markdown",
   "metadata": {},
   "source": [
    "Cada fila representa una muestra distinta y está formada, en primer lugar, por el número del tipo al cual pertenece el vino analizado seguido por los 13 atributos que lo caracterizan.\n",
    "\n",
    "Por ejemplo, la siguiente fila (vinos[80]):\n",
    "\n",
    "```python\n",
    "array([   2.  ,   12.  ,    0.92,    2.  ,   19.  ,   86.  ,    2.42,\n",
    "          2.26,    0.3 ,    1.43,    2.5 ,    1.38,    3.12,  278.  ])\n",
    "```\n",
    "\n",
    "es el resultado del análisis de un vino del Tipo 2 (1er. valor de la fila) seguido por 13 valores separados por comas que indican los niveles de las mediciones realizadas a dicho vino. \n",
    "\n",
    "\n",
    "Entrene un perceptrón para clasificar los vinos del Tipo 1 utilizando un porcentaje de las muestras existentes. Los patrones que no se utilicen en el entrenamiento serán empleados para probarlo. Realice el mismo procedimiento para los vinos del Tipo 2 y del Tipo 3.\n",
    "\n",
    "Detalle la cantidad de pasos que fueron necesarios para lograr la mejor clasificación. Pruebe variar el tamaño del conjunto de patrones de entrenado observando para cada caso la proporción de patrones correctamente clasificados por el perceptrón."
   ]
  },
  {
   "cell_type": "code",
   "execution_count": 10,
   "metadata": {},
   "outputs": [
    {
     "data": {
      "text/plain": [
       "0"
      ]
     },
     "execution_count": 10,
     "metadata": {},
     "output_type": "execute_result"
    }
   ],
   "source": [
    "(p1.evaluar(Xtest) != Ttest[:,0]).sum()"
   ]
  },
  {
   "cell_type": "code",
   "execution_count": 11,
   "metadata": {},
   "outputs": [
    {
     "data": {
      "text/plain": [
       "0"
      ]
     },
     "execution_count": 11,
     "metadata": {},
     "output_type": "execute_result"
    }
   ],
   "source": [
    "\n",
    "(p2.evaluar(Xtest) != Ttest[:,1]).sum()"
   ]
  },
  {
   "cell_type": "code",
   "execution_count": 12,
   "metadata": {},
   "outputs": [
    {
     "data": {
      "text/plain": [
       "1"
      ]
     },
     "execution_count": 12,
     "metadata": {},
     "output_type": "execute_result"
    }
   ],
   "source": [
    "(p3.evaluar(Xtest) != Ttest[:,2]).sum()"
   ]
  },
  {
   "cell_type": "code",
   "execution_count": 13,
   "metadata": {},
   "outputs": [
    {
     "data": {
      "text/plain": [
       "(178, 14)"
      ]
     },
     "execution_count": 13,
     "metadata": {},
     "output_type": "execute_result"
    }
   ],
   "source": [
    "vinos.shape"
   ]
  }
 ],
 "metadata": {
  "kernelspec": {
   "display_name": "Python 2",
   "language": "python",
   "name": "python2"
  },
  "language_info": {
   "codemirror_mode": {
    "name": "ipython",
    "version": 2
   },
   "file_extension": ".py",
   "mimetype": "text/x-python",
   "name": "python",
   "nbconvert_exporter": "python",
   "pygments_lexer": "ipython2",
   "version": "2.7.15rc1"
  }
 },
 "nbformat": 4,
 "nbformat_minor": 1
}
