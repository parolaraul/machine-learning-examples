{
 "cells": [
  {
   "cell_type": "markdown",
   "metadata": {},
   "source": [
    "# EJERCICIO 4\n",
    "\n",
    "El conjunto de datos “Iris” ha sido usado como caso de prueba para una gran cantidad de clasificadores y es, quizás, el conjunto de datos más conocido de la literatura específica. Iris es una variedad de planta que se la desea clasificar de acuerdo a su tipo. Se reconocen tres tipos distintos: 'Iris setosa', 'Iris versicolor' e 'Iris virgínica'. El objetivo es lograr clasificar una planta de la variedad Iris a partir del largo y del ancho del pétalo y del largo y del ancho del sépalo.\n",
    "El conjunto de datos Iris está formado en total por 150 muestras,\n",
    "siendo 50 de cada uno de los tres tipos de plantas. Cada muestra\n",
    "está compuesta por el tipo de planta, la longitud y ancho del\n",
    "pétalo y la longitud y ancho del sépalo. Todos son atributos numéricos continuos.\n"
   ]
  },
  {
   "cell_type": "markdown",
   "metadata": {},
   "source": [
    "$$\n",
    "\\begin{array}{|c|c|c|c|c|}\n",
    "\\hline X & Setosa & Versicolor & Virgínica & Inválidas \\\\\n",
    "\\hline Setosa & 50 & 0 & 0 & 0 \\\\\n",
    "\\hline Versicolor & 0 & 50 & 0 & 0 \\\\\n",
    "\\hline Virgínica & 0 & 0 & 50 & 0 \\\\\n",
    "\\hline \n",
    "\\end{array}\n",
    "$$\n"
   ]
  },
  {
   "cell_type": "code",
   "execution_count": 1,
   "metadata": {},
   "outputs": [],
   "source": [
    "import pyximport; pyximport.install()\n",
    "import numpy as np\n",
    "import matplotlib.pyplot as plt\n",
    "import matplotlib as mpl\n",
    "import mpld3\n",
    "%matplotlib inline\n",
    "mpld3.enable_notebook()\n",
    "from utils.cperceptron import Perceptron\n",
    "from utils.cbackpropagation import ANN #, Identidad, Sigmoide\n",
    "import utils.patrones as magia\n",
    "\n",
    "def progreso(ann, X, T, y=None, n=-1, E=None):\n",
    "    if n % 20 == 0:\n",
    "        print(\"Pasos: {0} - Error: {1:.32f}\".format(n, E)) \n",
    "def progresoPerceptron(perceptron, X, T, n):\n",
    "    y = perceptron.evaluar(X)\n",
    "    incorrectas = (T != y).sum()\n",
    "    print(\"Pasos: {0}\\tIncorrectas: {1}\\n\".format(n, incorrectas))"
   ]
  },
  {
   "cell_type": "code",
   "execution_count": 2,
   "metadata": {},
   "outputs": [],
   "source": [
    "iris = np.load('resources/iris.npy')"
   ]
  },
  {
   "cell_type": "code",
   "execution_count": 3,
   "metadata": {},
   "outputs": [
    {
     "name": "stderr",
     "output_type": "stream",
     "text": [
      "utils/patrones.py:84: FutureWarning: arrays to stack must be passed as a \"sequence\" type such as list or tuple. Support for non-sequence iterables such as generators is deprecated as of NumPy 1.16 and will raise an error in the future.\n",
      "  X = np.vstack(patrones[c] for c in clases)\n"
     ]
    }
   ],
   "source": [
    "#Armo Patrones\n",
    "clases, patronesEnt, patronesTest = magia.generar_patrones(\n",
    "    magia.escalar(iris[:,1:]).round(4),iris[:,:1],80)\n",
    "X, T = magia.armar_patrones_y_salida_esperada(clases,patronesEnt)\n",
    "clases, patronesEnt, noImporta = magia.generar_patrones(\n",
    "    magia.escalar(iris[:,1:]),iris[:,:1],100)\n",
    "Xtest, Ttest = magia.armar_patrones_y_salida_esperada(clases,patronesEnt)"
   ]
  },
  {
   "cell_type": "markdown",
   "metadata": {},
   "source": [
    "a) Entrene perceptrones para que cada uno aprenda a reconocer uno de los distintos tipos de plantas Iris. Informe los parámetros usados para el entrenamiento y el desempeño obtenido. Emplee todos los patrones para el entrenamiento. Muestre la matriz de confusión para la mejor clasificación obtenida luego del entrenamiento, informando los patrones clasificados correcta e incorrectamente."
   ]
  },
  {
   "cell_type": "code",
   "execution_count": 4,
   "metadata": {},
   "outputs": [
    {
     "name": "stdout",
     "output_type": "stream",
     "text": [
      "Entrenando P1:\n",
      "Pasos:5\n",
      "\n",
      "Entrenando P2:\n",
      "Pasos: 2500\tIncorrectas: 66\n",
      "\n",
      "Pasos: 5000\tIncorrectas: 57\n",
      "\n",
      "Pasos:5000\n",
      "\n",
      "Entrenando P3:\n",
      "Pasos: 2500\tIncorrectas: 1\n",
      "\n",
      "Pasos: 5000\tIncorrectas: 3\n",
      "\n",
      "Pasos:5000\n"
     ]
    }
   ],
   "source": [
    "print(\"Entrenando P1:\")\n",
    "p1 = Perceptron(X.shape[1])\n",
    "I1 = p1.entrenar_numpy(X, T[:,0], max_pasos=5000, callback=progresoPerceptron, frecuencia_callback=2500)\n",
    "print(\"Pasos:{0}\".format(I1))\n",
    "print(\"\\nEntrenando P2:\")\n",
    "p2 = Perceptron(X.shape[1])\n",
    "I2 = p2.entrenar_numpy(X, T[:,1], max_pasos=5000, callback=progresoPerceptron, frecuencia_callback=2500)\n",
    "print(\"Pasos:{0}\".format(I2))\n",
    "print(\"\\nEntrenando P3:\")\n",
    "p3 = Perceptron(X.shape[1])\n",
    "I3 = p3.entrenar_numpy(X, T[:,2], max_pasos=5000, callback=progresoPerceptron, frecuencia_callback=2500)\n",
    "print(\"Pasos:{0}\".format(I3))"
   ]
  },
  {
   "cell_type": "code",
   "execution_count": 5,
   "metadata": {},
   "outputs": [
    {
     "data": {
      "text/plain": [
       "(array([[26.,  0.,  0., 24.],\n",
       "        [ 0.,  3.,  4., 43.],\n",
       "        [ 0.,  0., 50.,  0.]]),\n",
       " [array([1, 0, 0]), array([0, 1, 0]), array([0, 0, 1])])"
      ]
     },
     "execution_count": 5,
     "metadata": {},
     "output_type": "execute_result"
    }
   ],
   "source": [
    "Y = np.vstack((p1.evaluar(Xtest),p2.evaluar(Xtest),p3.evaluar(Xtest))).T\n",
    "magia.matriz_de_confusion(Ttest,Y)"
   ]
  },
  {
   "cell_type": "markdown",
   "metadata": {},
   "source": [
    "b) Entrene una red neuronal artificial usando backpropagation como algoritmo de aprendizaje con el fin de lograr la clasificación pedida. Emplee todos los patrones para el entrenamiento. Detalle los parámetros usados para el entrenamiento así como la arquitectura de la red neuronal. Repita más de una vez el procedimiento para confirmar los resultados obtenidos e informe la matriz de confusión para la mejor clasificación obtenida."
   ]
  },
  {
   "cell_type": "code",
   "execution_count": 6,
   "metadata": {},
   "outputs": [],
   "source": [
    "# Crea la red neuronal\n",
    "ocultas = 10\n",
    "entradas = X.shape[1]\n",
    "salidas = T.shape[1]\n",
    "ann = ANN(entradas, ocultas, salidas)\n",
    "ann.reiniciar()"
   ]
  },
  {
   "cell_type": "code",
   "execution_count": 7,
   "metadata": {},
   "outputs": [
    {
     "name": "stdout",
     "output_type": "stream",
     "text": [
      "Pasos: 10000 - Error: 0.01105245350586019428829054334074\n",
      "Pasos: 20000 - Error: 0.00832837378286719644260305273065\n",
      "Pasos: 30000 - Error: 0.00714796471425109894437532886968\n",
      "Pasos: 40000 - Error: 0.00677008527980307080879063263978\n",
      "Pasos: 50000 - Error: 0.00622714990747834807455207695170\n",
      "Pasos: 60000 - Error: 0.00509038378233723706745017523190\n",
      "Pasos: 70000 - Error: 0.00339872099104934809535305539896\n",
      "Pasos: 80000 - Error: 0.00211107496510057465397003362284\n",
      "Pasos: 90000 - Error: 0.00120883407300922149189836840577\n",
      "Pasos: 100000 - Error: 0.00076479713683649461208879927199\n",
      "\n",
      "Red entrenada en 100000 pasos con un error de 0.00076479713683649461208879927199\n"
     ]
    }
   ],
   "source": [
    "#Entreno\n",
    "E, n = ann.entrenar_rprop(X, T, min_error=0, max_pasos=100000, callback=progreso, frecuencia_callback=10000)\n",
    "print(\"\\nRed entrenada en {0} pasos con un error de {1:.32f}\".format(n, E))"
   ]
  },
  {
   "cell_type": "code",
   "execution_count": 8,
   "metadata": {},
   "outputs": [
    {
     "data": {
      "text/plain": [
       "(array([[50.,  0.,  0.,  0.],\n",
       "        [ 0., 45.,  0.,  5.],\n",
       "        [ 0.,  2., 44.,  4.]]),\n",
       " [array([1, 0, 0]), array([0, 1, 0]), array([0, 0, 1])])"
      ]
     },
     "execution_count": 8,
     "metadata": {},
     "output_type": "execute_result"
    }
   ],
   "source": [
    "#Evaluo\n",
    "Y = (ann.evaluar(Xtest) >= 0.97)\n",
    "magia.matriz_de_confusion(Ttest,Y)"
   ]
  },
  {
   "cell_type": "code",
   "execution_count": 9,
   "metadata": {},
   "outputs": [
    {
     "data": {
      "text/plain": [
       "array([-0.00117736,  0.99995774,  0.00176515])"
      ]
     },
     "execution_count": 9,
     "metadata": {},
     "output_type": "execute_result"
    }
   ],
   "source": [
    "(ann.evaluar(Xtest)[90])"
   ]
  }
 ],
 "metadata": {
  "kernelspec": {
   "display_name": "Python 2",
   "language": "python",
   "name": "python2"
  },
  "language_info": {
   "codemirror_mode": {
    "name": "ipython",
    "version": 2
   },
   "file_extension": ".py",
   "mimetype": "text/x-python",
   "name": "python",
   "nbconvert_exporter": "python",
   "pygments_lexer": "ipython2",
   "version": "2.7.15rc1"
  }
 },
 "nbformat": 4,
 "nbformat_minor": 1
}
