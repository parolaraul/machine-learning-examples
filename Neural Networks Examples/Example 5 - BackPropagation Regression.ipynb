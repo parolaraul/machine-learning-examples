{
 "cells": [
  {
   "cell_type": "markdown",
   "metadata": {},
   "source": [
    "# EJERCICIO 5\n",
    "El hormigón es el material más importante en lo que a la ingeniería civil concierne. La resistencia a compresión del hormigón resulta de fundamental interés ya que permite asegurar cuanta carga podrá soportar una mezcla de hormigón particular. La resistencia a compresión depende de la edad del hormigón y de la mezcla de materiales usados para producirlo. La resistencia a compresión del hormigón se obtiene en ensayos de rotura a compresión de probetas cilíndricas normalizadas realizados a los 28 días de edad y fabricadas con las mismas amasadas puestas en obra.\n",
    "Para tratar de modelar la resistencia a compresión del hormigón a partir de la mezcla que lo constituye y la edad del mismo, se realizaron sucesivas pruebas en laboratorio con distintas proporciones y en diferentes estadías.\n",
    "En total se usaron 1030 muestras, sabiendo su edad (en días) y analizando que cantidad de siete componentes diferentes (cemento, agua, cenizas volante, etc.) las constituye, siendo todos estos atributos valores reales continuos. Para cada una de las muestras se obtuvo su resistencia a compresión.\n",
    "Entrene una red neuronal artificial para tratar de predecir cual será la resistencia a compresión de una muestra de hormigón a partir de su composición, conociendo su edad y que cantidad de cada uno de los siete materiales analizados la constituye. Utilice todas las muestras para el entrenamiento. Detalle la arquitectura empleada y los valores de los parámetros usados. Documente todos los intentos realizados. Informe los mejores resultados obtenidos."
   ]
  },
  {
   "cell_type": "code",
   "execution_count": 2,
   "metadata": {},
   "outputs": [],
   "source": [
    "import pyximport; pyximport.install()\n",
    "import numpy as np\n",
    "import matplotlib.pyplot as plt\n",
    "import matplotlib as mpl\n",
    "import mpld3\n",
    "%matplotlib inline\n",
    "mpld3.enable_notebook()\n",
    "from utils.cperceptron import Perceptron\n",
    "from utils.cbackpropagation import ANN #, Identidad, Sigmoide\n",
    "import utils.patrones as magia\n",
    "\n",
    "def progreso(ann, X, T, y=None, n=-1, E=None):\n",
    "    if n % 20 == 0:\n",
    "        print(\"Pasos: {0} - Error: {1:.32f}\".format(n, E)) \n",
    "def progresoPerceptron(perceptron, X, T, n):\n",
    "    y = perceptron.evaluar(X)\n",
    "    incorrectas = (T != y).sum()\n",
    "    print(\"Pasos: {0}\\tIncorrectas: {1}\\n\".format(n, incorrectas))"
   ]
  },
  {
   "cell_type": "code",
   "execution_count": 3,
   "metadata": {},
   "outputs": [],
   "source": [
    "hormigon = np.load('resources/hormigon.npy')\n",
    "datos = magia.escalar(hormigon[:, :-1])\n",
    "resistencia = hormigon[:, -1].reshape(-1, 1).astype(np.int8)"
   ]
  },
  {
   "cell_type": "code",
   "execution_count": null,
   "metadata": {},
   "outputs": [],
   "source": [
    "#Armo Patrones \n",
    "#clases, patronesEnt, patronesTest = magia.generar_patrones(magia.escalar(datos),resistencia,90)\n",
    "#X, T = magia.armar_patrones_y_salida_esperada(clases,patronesEnt)\n",
    "#T = T.astype(np.int8)\n",
    "#Xtest, Ttest = magia.armar_patrones_y_salida_esperada(clases,patronesTest)"
   ]
  },
  {
   "cell_type": "code",
   "execution_count": 4,
   "metadata": {},
   "outputs": [],
   "source": [
    "# Armo patrones manualmente\n",
    "## De entrenamiento\n",
    "X = datos[:900,:]\n",
    "T = resistencia[:900,:].astype(np.float64)\n",
    "\n",
    "## De prueba\n",
    "Xtest = datos[-130:,:]\n",
    "Ttest = resistencia[-130:,:].astype(np.float64)"
   ]
  },
  {
   "cell_type": "code",
   "execution_count": 5,
   "metadata": {},
   "outputs": [],
   "source": [
    "# Crea la red neuronal\n",
    "ocultas = 100 #3,4,10,80,50,20,150,200!,25,1000,100!!!\n",
    "entradas = X.shape[1]\n",
    "salidas = T.shape[1]\n",
    "ann = ANN(entradas, ocultas, salidas)\n",
    "ann.reiniciar()"
   ]
  },
  {
   "cell_type": "code",
   "execution_count": 6,
   "metadata": {
    "scrolled": true
   },
   "outputs": [
    {
     "name": "stdout",
     "output_type": "stream",
     "text": [
      "Pasos: 5000 - Error: 1.76746871893388823870907344826264\n",
      "Pasos: 10000 - Error: 1.30860497861363489491282052767929\n",
      "Pasos: 15000 - Error: 1.12145639931621898810476523067337\n",
      "Pasos: 20000 - Error: 1.03993577819436122666729716002010\n",
      "Pasos: 25000 - Error: 0.99310019023112972025302269685199\n",
      "Pasos: 30000 - Error: 0.95469398653405657118042881847941\n",
      "Pasos: 35000 - Error: 0.92414950590991540302354678715346\n",
      "Pasos: 40000 - Error: 0.89410672106319677432395565119805\n",
      "Pasos: 45000 - Error: 0.87372311386728429560832864808617\n",
      "Pasos: 50000 - Error: 0.85496690614320847156903937502648\n",
      "Pasos: 55000 - Error: 0.84098115060880385129848946235143\n",
      "Pasos: 60000 - Error: 0.82995277924311239292620712149073\n",
      "Pasos: 65000 - Error: 0.82012706620183606354146377270808\n",
      "Pasos: 70000 - Error: 0.81176837632761833507544224630692\n",
      "Pasos: 75000 - Error: 0.80353605276771256082923855501576\n",
      "Pasos: 80000 - Error: 0.79557265404367283334607918732218\n",
      "Pasos: 85000 - Error: 0.78803080099093647525876349391183\n",
      "Pasos: 90000 - Error: 0.78116443258962653395371944498038\n",
      "Pasos: 95000 - Error: 0.77499926017039155734522637430928\n",
      "Pasos: 100000 - Error: 0.76933477308309494713256526665646\n",
      "\n",
      "Red entrenada en 100000 pasos con un error de 0.76933477308309494713256526665646\n"
     ]
    }
   ],
   "source": [
    "#Entreno\n",
    "E, n = ann.entrenar_rprop(X, T, min_error=0.5, max_pasos=100000,\n",
    "                                callback=progreso, frecuencia_callback=5000)\n",
    "print(\"\\nRed entrenada en {0} pasos con un error de {1:.32f}\".format(n, E))"
   ]
  },
  {
   "cell_type": "code",
   "execution_count": 7,
   "metadata": {
    "scrolled": true
   },
   "outputs": [
    {
     "name": "stdout",
     "output_type": "stream",
     "text": [
      "Errores de la red: \n",
      "71\n",
      "\n"
     ]
    }
   ],
   "source": [
    "#Evaluo\n",
    "Y1 = ann.evaluar(Xtest)\n",
    "Y = ((Y1.round() != Ttest ).sum()*100)/130\n",
    "print(\"Errores de la red: \\n{0}\\n\".format(Y))"
   ]
  },
  {
   "cell_type": "code",
   "execution_count": 11,
   "metadata": {},
   "outputs": [
    {
     "data": {
      "text/plain": [
       "(array([ 15.]), array([ 11.57266434]))"
      ]
     },
     "execution_count": 11,
     "metadata": {},
     "output_type": "execute_result"
    }
   ],
   "source": [
    "nn = 99\n",
    "Ttest[nn],Y1[nn]"
   ]
  },
  {
   "cell_type": "code",
   "execution_count": 10,
   "metadata": {
    "collapsed": true
   },
   "outputs": [],
   "source": [
    "#ann.guardar('neuronaE0.7')"
   ]
  }
 ],
 "metadata": {
  "kernelspec": {
   "display_name": "Python 2",
   "language": "python",
   "name": "python2"
  },
  "language_info": {
   "codemirror_mode": {
    "name": "ipython",
    "version": 2
   },
   "file_extension": ".py",
   "mimetype": "text/x-python",
   "name": "python",
   "nbconvert_exporter": "python",
   "pygments_lexer": "ipython2",
   "version": "2.7.15rc1"
  }
 },
 "nbformat": 4,
 "nbformat_minor": 1
}
