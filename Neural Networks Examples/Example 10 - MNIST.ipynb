{
 "cells": [
  {
   "cell_type": "markdown",
   "metadata": {},
   "source": [
    "# MNIST\n",
    "La base de datos de dígitos manuscritos MNIST es un buen ejemplo de un conjunto de datos del mundo real que no requiere que uno se preocupe por el prepocesamiento de los mismos para comenzar a trabajar en su clasificación.\n",
    "Esta base de datos cuenta con un conjunto de dígitos manuscritos producidos por una gran cantidad de personas diferentes. Estos dígitos han sido escaneados a partir de documentos impresos, y los dígitos han sido centrados y escalados a un tamaño de 28x28 pixeles usando 256 tonos de grises, de forma de hacerlos comparables entre ellos. Para este ejercicio, se cuenta con un subconjunto de la base de datos original, compuesto por 5000 patrones de entrenamiento y 1000 patrones independientes para validar la clasificación.\n",
    "Ejemplos de dígitos a reconocer\n",
    "Entrene una red neuronal artificial mediante backpropagation para que sea capaz de identificar cada uno de los dígitos manuscritos. Detalle la arquitectura usada y los parámetros empleados en su entrenamiento. Informe la matriz de confusión una vez realizado el entrenamiento y muestre ejemplos de imágenes a las que no se pudo reconocer y ejemplos donde la identificación fue incorrecta, ya sea porque se identificó el dígito equivocado (era un 4 y se reconoció un 7) o la red respondió reconociendo más de un único dígito (por ejemplo, era un 3 y se reconoció tanto al un 3 como a un 8)."
   ]
  },
  {
   "cell_type": "code",
   "execution_count": 1,
   "metadata": {},
   "outputs": [],
   "source": [
    "import pyximport; pyximport.install()\n",
    "import numpy as np\n",
    "import matplotlib.pyplot as plt\n",
    "%matplotlib inline\n",
    "from utils.cbackpropagation import ANN #, Identidad, Sigmoide\n",
    "import utils.patrones as magia\n",
    "def progreso(ann, X, T, y=None, n=-1, E=None):\n",
    "    if n % 20 == 0:\n",
    "        print(\"Pasos: {0} - Error: {1:.32f}\".format(n, E)) "
   ]
  },
  {
   "cell_type": "code",
   "execution_count": 3,
   "metadata": {},
   "outputs": [],
   "source": [
    "datos = np.load('resources/mnistabridged.npz')\n",
    "train_data = datos['train_data']\n",
    "train_labels = datos['train_labels']\n",
    "test_data = datos['test_data']\n",
    "test_labels = datos['test_labels']\n",
    "\n",
    "# Escalado al intervalo [0, 1]\n",
    "X = train_data / 255.0  # Patrones de entrenamiento\n",
    "X2 = test_data / 255.0  # Patrones de prueba\n",
    "\n",
    "# Construcción de las respuestas esperadas a partir del valor del dígito\n",
    "clases = np.unique(train_labels)\n",
    "\n",
    "t = np.zeros((len(train_labels), len(clases))) \n",
    "t2 = np.zeros((len(test_labels), len(clases)))\n",
    "for n, clase in enumerate(clases):\n",
    "    t[train_labels.flat == clase, n] = 1\n",
    "    t2[test_labels.flat == clase, n] = 1\n",
    "\n",
    "# t tiene las respuestas esperadas para el entrenamiento\n",
    "# t2 tiene las respuestas esperadas para las pruebas"
   ]
  },
  {
   "cell_type": "code",
   "execution_count": 4,
   "metadata": {},
   "outputs": [],
   "source": [
    "# Crea la red neuronal\n",
    "ocultas = 50 #50(0.02),50a1000veces(0.005)\n",
    "entradas = X.shape[1]\n",
    "salidas = t.shape[1]\n",
    "ann = ANN(entradas, ocultas, salidas)\n",
    "ann.reiniciar()"
   ]
  },
  {
   "cell_type": "code",
   "execution_count": 5,
   "metadata": {},
   "outputs": [],
   "source": [
    "ann = ann.cargar('resources/neuronaEntrenada.npz')"
   ]
  },
  {
   "cell_type": "code",
   "execution_count": 6,
   "metadata": {},
   "outputs": [
    {
     "name": "stdout",
     "output_type": "stream",
     "text": [
      "Pasos: 100 - Error: 0.00966454825746984429180042042162\n",
      "Pasos: 200 - Error: 0.00796572890119440039924381125047\n",
      "Pasos: 300 - Error: 0.00727952458773277466530515766863\n",
      "Pasos: 400 - Error: 0.00692115870436485740996301885275\n",
      "Pasos: 500 - Error: 0.00656501255560176712883224681150\n",
      "Pasos: 600 - Error: 0.00613580939463234317776674231482\n",
      "Pasos: 700 - Error: 0.00600147992902979807161578662544\n",
      "Pasos: 800 - Error: 0.00585694555512931720048230843645\n",
      "Pasos: 900 - Error: 0.00549982581984035691358148056906\n",
      "Pasos: 1000 - Error: 0.00527229269171216978484562076801\n",
      "\n",
      "Red entrenada en 1000 pasos con un error de 0.00527229269171216978484562076801\n"
     ]
    }
   ],
   "source": [
    "#Entreno\n",
    "E, n = ann.entrenar_rprop(X, t, min_error=0, max_pasos=1000, callback=progreso, frecuencia_callback=100)\n",
    "print(\"\\nRed entrenada en {0} pasos con un error de {1:.32f}\".format(n, E))"
   ]
  },
  {
   "cell_type": "code",
   "execution_count": 8,
   "metadata": {},
   "outputs": [
    {
     "data": {
      "text/plain": [
       "array([[ 74.,   0.,   2.,   0.,   0.,   0.,   0.,   0.,   0.,   1.,   8.],\n",
       "       [  0., 115.,   3.,   1.,   1.,   0.,   0.,   0.,   0.,   1.,   5.],\n",
       "       [  1.,   1.,  72.,   2.,   0.,   0.,   1.,   2.,   4.,   4.,  29.],\n",
       "       [  1.,   0.,   0.,  79.,   1.,   2.,   0.,   0.,   1.,   2.,  21.],\n",
       "       [  0.,   0.,   0.,   0.,  89.,   0.,   1.,   0.,   0.,   9.,  11.],\n",
       "       [  0.,   0.,   0.,   1.,   0.,  49.,   0.,   0.,   5.,   0.,  32.],\n",
       "       [  3.,   0.,   1.,   0.,   0.,   4.,  63.,   1.,   1.,   2.,  12.],\n",
       "       [  0.,   0.,   1.,   0.,   1.,   0.,   0.,  72.,   0.,   5.,  20.],\n",
       "       [  0.,   0.,   1.,   1.,   2.,   0.,   0.,   0.,  55.,   4.,  26.],\n",
       "       [  0.,   0.,   0.,   0.,   2.,   1.,   0.,   2.,   2.,  74.,  13.]])"
      ]
     },
     "execution_count": 8,
     "metadata": {},
     "output_type": "execute_result"
    }
   ],
   "source": [
    "#Evaluo\n",
    "Y = (ann.evaluar(X2) >= 0.7).astype(np.float32)\n",
    "magia.matriz_de_confusion(t2,Y,1)[0]"
   ]
  },
  {
   "cell_type": "code",
   "execution_count": 9,
   "metadata": {},
   "outputs": [
    {
     "data": {
      "image/png": "[encoded data removed]",
      "text/plain": [
       "<Figure size 432x288 with 1 Axes>"
      ]
     },
     "metadata": {
      "needs_background": "light"
     },
     "output_type": "display_data"
    },
    {
     "data": {
      "image/png": "[encoded data removed]",
      "text/plain": [
       "<Figure size 432x288 with 1 Axes>"
      ]
     },
     "metadata": {
      "needs_background": "light"
     },
     "output_type": "display_data"
    }
   ],
   "source": [
    "# Nueva figura: Muestra el primer patrón de entrenamiento\n",
    "plt.figure()\n",
    "plt.gray() # Para ver las imágenes en escala de grises\n",
    "plt.imshow(train_data[0].reshape(28, 28))\n",
    "plt.title('Digito: {0}'.format(train_labels[0]))\n",
    "# Nueva figura: Muestra el primer patrón de pruebas\n",
    "plt.figure()\n",
    "plt.imshow(test_data[1].reshape(28, 28))\n",
    "plt.title('Digito: {0}'.format(test_labels[1]))\n",
    "# Muestra todas las figuras creadas y espera\n",
    "plt.show()"
   ]
  },
  {
   "cell_type": "code",
   "execution_count": 11,
   "metadata": {},
   "outputs": [],
   "source": [
    "ann.guardar('resources/neuronaEntrenada')"
   ]
  },
  {
   "cell_type": "markdown",
   "metadata": {
    "collapsed": true
   },
   "source": [
    "Errores encontrados"
   ]
  },
  {
   "cell_type": "code",
   "execution_count": 12,
   "metadata": {},
   "outputs": [
    {
     "data": {
      "image/png": "[encoded data removed]",
      "text/plain": [
       "<Figure size 432x288 with 1 Axes>"
      ]
     },
     "metadata": {
      "needs_background": "light"
     },
     "output_type": "display_data"
    }
   ],
   "source": [
    "# Nueva figura: Muestra el patrón de pruebas erroneo\n",
    "plt.figure()\n",
    "plt.imshow(X2[882].reshape(28, 28))\n",
    "plt.title('Digito: {0}'.format(test_labels[1]))\n",
    "# Muestra todas las figuras creadas y espera\n",
    "plt.show()"
   ]
  },
  {
   "cell_type": "code",
   "execution_count": 13,
   "metadata": {},
   "outputs": [
    {
     "data": {
      "text/plain": [
       "array([0., 0., 0., 0., 0., 0., 0., 0., 0., 1.], dtype=float32)"
      ]
     },
     "execution_count": 13,
     "metadata": {},
     "output_type": "execute_result"
    }
   ],
   "source": [
    "(magia.escalar(ann.evaluar(X2)[882]) >= 0.9).astype(np.float32)"
   ]
  }
 ],
 "metadata": {
  "kernelspec": {
   "display_name": "Python 2",
   "language": "python",
   "name": "python2"
  },
  "language_info": {
   "codemirror_mode": {
    "name": "ipython",
    "version": 2
   },
   "file_extension": ".py",
   "mimetype": "text/x-python",
   "name": "python",
   "nbconvert_exporter": "python",
   "pygments_lexer": "ipython2",
   "version": "2.7.15rc1"
  }
 },
 "nbformat": 4,
 "nbformat_minor": 1
}
