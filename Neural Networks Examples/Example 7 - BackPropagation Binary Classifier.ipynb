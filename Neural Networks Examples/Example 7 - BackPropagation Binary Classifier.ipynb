{
 "cells": [
  {
   "cell_type": "markdown",
   "metadata": {},
   "source": [
    "# EJERCICIO 7\n",
    "A partir de análisis clínicos y de la edad y el sexo de pacientes de una clínica ubicada en el noreste de Andhra Pradesh, India, se intentará obtener un clasificador automático que sirva para diagnosticar a pacientes con problemas de hígado.\n",
    "Para esto, se recabaron muestras de ocho análisis distintos realizados a 579 pacientes que, junto con su edad y sexo, se dividieron en dos grupos: 414 de ellos diagnosticados con problemas de hígado por expertos en el área mientras que los 165 restantes fueron señalados como exentos de ese problema.\n",
    "Los 11 atributos que constituyen una muestra son los\n",
    "indicados en la tabla de la derecha. Todos son atributos son\n",
    "valores numéricos continuos a excepción del atributo “Sexo”,\n",
    "en donde el valor 1 representa “HOMBRE” y el valor 2\n",
    "representa “MUJER”, y del atributo “Diagnóstico”, donde el valor 1 representa “CON PROBLEMA DE HÍGADO” mientras que el valor 2 representa “SIN PROBLEMA DE HÍGADO”.\n",
    "Utilice perceptrones o una red neuronal artificial (según resulte más conveniente). Informe el motivo por el que se eligió el tipo de clasificador. Detalle la arquitectura y los parámetros usados en su entrenamiento (según corresponda). Documente todos los intentos realizados.\n",
    "Para el entrenamiento emplee sólo el 90% de las muestras disponibles de cada tipo. Informe la matriz de confusión que produce el mejor clasificador obtenido al evaluarlo con las muestras de entrenamiento e indique la matriz que ese clasificador produce al usarlo sobre el resto de las muestras reservadas para prueba."
   ]
  },
  {
   "cell_type": "markdown",
   "metadata": {},
   "source": [
    "$$\n",
    "\\begin{array}{|c|c|}\n",
    "\\hline 1 & Edad \\\\\n",
    "\\hline 2 & Sexo \\\\\n",
    "\\hline 3 & Bilirrubina Total \\\\\n",
    "\\hline 4 & Bilirrubina Directa \\\\\n",
    "\\hline 5 & Fosfatasa Alcalina \\\\\n",
    "\\hline 6 & Alanina Aminotransferasa \\\\\n",
    "\\hline 7 & Aspartato Aminotransferasa \\\\\n",
    "\\hline 8 & Proteínas Total \\\\\n",
    "\\hline 9 & Albúmina \\\\\n",
    "\\hline 10 & Relación Albúmina/Globulina \\\\\n",
    "\\hline 11 & Diagnóstico (valor a predecir) \\\\\n",
    "\\hline \n",
    "\\end{array}\n",
    "$$"
   ]
  },
  {
   "cell_type": "code",
   "execution_count": 1,
   "metadata": {},
   "outputs": [],
   "source": [
    "import pyximport; pyximport.install()\n",
    "import numpy as np\n",
    "import matplotlib.pyplot as plt\n",
    "import matplotlib as mpl\n",
    "import mpld3\n",
    "%matplotlib inline\n",
    "mpld3.enable_notebook()\n",
    "from utils.cperceptron import Perceptron\n",
    "from utils.cbackpropagation import ANN #, Identidad, Sigmoide\n",
    "import utils.patrones as magia\n",
    "\n",
    "def progreso(ann, X, T, y=None, n=-1, E=None):\n",
    "    if n % 20 == 0:\n",
    "        print(\"Pasos: {0} - Error: {1:.32f}\".format(n, E)) \n",
    "def progresoPerceptron(perceptron, X, T, n):\n",
    "    y = perceptron.evaluar(X)\n",
    "    incorrectas = (T != y).sum()\n",
    "    print(\"Pasos: {0}\\tIncorrectas: {1}\\n\".format(n, incorrectas))"
   ]
  },
  {
   "cell_type": "code",
   "execution_count": 2,
   "metadata": {},
   "outputs": [],
   "source": [
    "#Cargo datos\n",
    "higado = np.load('resources/higado.npy')\n",
    "\n",
    "#muestras = higado[:, :-1]\n",
    "muestras = np.hstack((higado[:,0].reshape(-1,1), higado[:,2:-1]))\n",
    "# Atributo 'sexo':\n",
    "#     muestras[:, 1] == 1 --> HOMBRE\n",
    "#     muestras[:, 1] == 2 --> MUJER\n",
    "\n",
    "diagnostico = (higado[:, -1] != 2).astype(np.int8)\n",
    "# diagnostico == 1 --> CON PROBLEMA DE HÍGADO\n",
    "# diagnostico == 0 --> SIN PROBLEMA DE HÍGADO"
   ]
  },
  {
   "cell_type": "code",
   "execution_count": 3,
   "metadata": {},
   "outputs": [
    {
     "name": "stderr",
     "output_type": "stream",
     "text": [
      "utils/patrones.py:84: FutureWarning: arrays to stack must be passed as a \"sequence\" type such as list or tuple. Support for non-sequence iterables such as generators is deprecated as of NumPy 1.16 and will raise an error in the future.\n",
      "  X = np.vstack(patrones[c] for c in clases)\n"
     ]
    }
   ],
   "source": [
    "#Armo Patrones\n",
    "clases, patronesEnt, patronesTest = magia.generar_patrones(magia.escalar(muestras),diagnostico,90)\n",
    "X, T = magia.armar_patrones_y_salida_esperada(clases,patronesEnt)\n",
    "Xtest, Ttest = magia.armar_patrones_y_salida_esperada(clases,patronesTest)"
   ]
  },
  {
   "cell_type": "code",
   "execution_count": 8,
   "metadata": {},
   "outputs": [],
   "source": [
    "# Esto es para poder usar Cython y que sea mas rapido\n",
    "X = X.astype(np.float)\n",
    "Xtest = Xtest.astype(np.float)\n",
    "TT = T[:,0].copy(order='C')\n",
    "TT = TT.astype(np.int8)"
   ]
  },
  {
   "cell_type": "markdown",
   "metadata": {},
   "source": [
    "## Intento con Perceptrones, pero no funciona"
   ]
  },
  {
   "cell_type": "code",
   "execution_count": 9,
   "metadata": {},
   "outputs": [
    {
     "name": "stdout",
     "output_type": "stream",
     "text": [
      "Pasos: 50000\tIncorrectas: 148\n",
      "\n",
      "Pasos: 100000\tIncorrectas: 148\n",
      "\n",
      "Pasos:100000\n"
     ]
    }
   ],
   "source": [
    "#Entrenamiento\n",
    "p1 = Perceptron(X.shape[1])\n",
    "p1.reiniciar()\n",
    "I1 = p1.entrenar(X, TT, max_pasos=100000, callback=progresoPerceptron, frecuencia_callback=50000)\n",
    "print(\"Pasos:{0}\".format(I1))"
   ]
  },
  {
   "cell_type": "code",
   "execution_count": 10,
   "metadata": {},
   "outputs": [
    {
     "name": "stdout",
     "output_type": "stream",
     "text": [
      "Errores:17 de 59\n",
      "\n"
     ]
    }
   ],
   "source": [
    "#Evaluo\n",
    "print(\"Errores:{0} de {1}\\n\".format((p1.evaluar(Xtest) != Ttest[:,0]).sum(), Ttest.shape[0]))"
   ]
  },
  {
   "cell_type": "markdown",
   "metadata": {},
   "source": [
    "## Ahora intento con BackPropagation"
   ]
  },
  {
   "cell_type": "code",
   "execution_count": 11,
   "metadata": {},
   "outputs": [],
   "source": [
    "# Crea la red neuronal\n",
    "ocultas = 20 #2,3,5,10,20\n",
    "entradas = X.shape[1]\n",
    "salidas = T.shape[1]\n",
    "ann = ANN(entradas, ocultas, salidas)\n",
    "ann.reiniciar()"
   ]
  },
  {
   "cell_type": "code",
   "execution_count": 12,
   "metadata": {},
   "outputs": [
    {
     "name": "stdout",
     "output_type": "stream",
     "text": [
      "Pasos: 50000 - Error: 0.06005377856659139396144908573660\n",
      "Pasos: 100000 - Error: 0.05094376337264409221328165244813\n",
      "\n",
      "Red entrenada en 100000 pasos con un error de 0.05094376337264409221328165244813\n"
     ]
    }
   ],
   "source": [
    "#Entreno\n",
    "E, n = ann.entrenar_rprop(X, T, min_error=0, max_pasos=100000, callback=progreso, frecuencia_callback=50000)\n",
    "print(\"\\nRed entrenada en {0} pasos con un error de {1:.32f}\".format(n, E))"
   ]
  },
  {
   "cell_type": "code",
   "execution_count": 13,
   "metadata": {},
   "outputs": [],
   "source": [
    "Y = (ann.evaluar(Xtest) >= 0.5).astype(np.float32)"
   ]
  },
  {
   "cell_type": "code",
   "execution_count": 14,
   "metadata": {},
   "outputs": [
    {
     "data": {
      "text/plain": [
       "(array([[ 6., 11.,  0.],\n",
       "        [14., 28.,  0.]]), [array([1, 0]), array([0, 1])])"
      ]
     },
     "execution_count": 14,
     "metadata": {},
     "output_type": "execute_result"
    }
   ],
   "source": [
    "magia.matriz_de_confusion(Ttest,Y)"
   ]
  }
 ],
 "metadata": {
  "kernelspec": {
   "display_name": "Python 2",
   "language": "python",
   "name": "python2"
  },
  "language_info": {
   "codemirror_mode": {
    "name": "ipython",
    "version": 2
   },
   "file_extension": ".py",
   "mimetype": "text/x-python",
   "name": "python",
   "nbconvert_exporter": "python",
   "pygments_lexer": "ipython2",
   "version": "2.7.15rc1"
  }
 },
 "nbformat": 4,
 "nbformat_minor": 1
}
