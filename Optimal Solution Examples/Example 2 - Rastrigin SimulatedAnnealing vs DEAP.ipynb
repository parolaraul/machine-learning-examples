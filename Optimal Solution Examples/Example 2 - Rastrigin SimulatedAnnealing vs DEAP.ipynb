{
 "cells": [
  {
   "cell_type": "markdown",
   "metadata": {},
   "source": [
    "# Example 2\n",
    "Intente resolver un problema de optimización numérica usando Simulated Annealing y un Algoritmo Evolutivo. La función a minimizar es la llamada Rastrigin y su defnición es:\n",
    "\n",
    "a) Proponga una representación adecuada para las soluciones al problema cuando N=10, sabiendo que el rango de las variables va de -5 a 5 y se requiere trabajar al menos con 2 dígitos decimales de precisión.\n",
    "\n",
    "b) Proponga una función de evaluación que le permita calificar que tan buena es una solución.\n",
    "\n",
    "c) Para Simulated Annealing defina como y cuantas soluciones vecinas se van a generar en cada paso de la búsqueda mientras que para el Algoritmo Evolutivo de na que operadores van a usarse durante el proceso evolutivo.\n",
    "\n",
    "d) Implemente y pruebe lo de nido en los puntos anteriores. Evalúe los resultados obtenidos."
   ]
  },
  {
   "cell_type": "code",
   "execution_count": 2,
   "metadata": {},
   "outputs": [],
   "source": [
    "import numpy as np\n",
    "import matplotlib.pyplot as plt\n",
    "from matplotlib import pylab\n",
    "import mpld3\n",
    "\n",
    "%matplotlib inline\n",
    "mpld3.enable_notebook()\n",
    "\n",
    "from utils.busqueda_local import hill_climb\n",
    "from utils.busqueda_local import simulated_annealing\n",
    "from deap import base, creator, tools, algorithms"
   ]
  },
  {
   "cell_type": "code",
   "execution_count": 3,
   "metadata": {},
   "outputs": [],
   "source": [
    "# -*- coding: utf-8 -*-\n",
    "\"\"\"\n",
    "Example 2: Optimización numérica\n",
    "\"\"\"\n",
    "from math import cos, pi\n",
    "\n",
    "# Esta es la función Rastrigin\n",
    "def rastrigin(vect):\n",
    "    total = 0\n",
    "    for x in vect:\n",
    "        total += x ** 2 - 10 * cos(2 * pi * x)\n",
    "    return (10 * len(vect)) + total"
   ]
  },
  {
   "cell_type": "markdown",
   "metadata": {},
   "source": [
    "# Simulated Annealing\n",
    "## Nuevos"
   ]
  },
  {
   "cell_type": "code",
   "execution_count": 4,
   "metadata": {},
   "outputs": [],
   "source": [
    "def nuevos():\n",
    "    minimo = -5\n",
    "    maximo = 5\n",
    "    N = 10\n",
    "    x = []\n",
    "    for i in range(N):\n",
    "        x.append(round(minimo + np.random.random() * (maximo - minimo), 2))\n",
    "    return x"
   ]
  },
  {
   "cell_type": "markdown",
   "metadata": {},
   "source": [
    "## Evaluacion"
   ]
  },
  {
   "cell_type": "code",
   "execution_count": 5,
   "metadata": {},
   "outputs": [],
   "source": [
    "def evaluacion(x):\n",
    "    return rastrigin(x)"
   ]
  },
  {
   "cell_type": "markdown",
   "metadata": {},
   "source": [
    "## Vecinos"
   ]
  },
  {
   "cell_type": "code",
   "execution_count": 6,
   "metadata": {},
   "outputs": [],
   "source": [
    "def vecinos(x):\n",
    "    v = []\n",
    "    d = -0.03\n",
    "    minimo = -5\n",
    "    maximo = 5\n",
    "    for i in range(4):\n",
    "        pos = np.random.randint(0,9)\n",
    "        n = x[pos] + d\n",
    "        if n >= minimo and n <= maximo:\n",
    "            x[pos] = n\n",
    "        d += 0.02\n",
    "        v.append(x)\n",
    "    return v"
   ]
  },
  {
   "cell_type": "markdown",
   "metadata": {},
   "source": [
    "## Defino Temperaturas"
   ]
  },
  {
   "cell_type": "code",
   "execution_count": 7,
   "metadata": {},
   "outputs": [],
   "source": [
    "# Probabilidad prob de elejir soluciones peores con diferencia mayor a dif al inicio\n",
    "dif  = 0.5\n",
    "prob = 0.01\n",
    "T_max = -dif / np.log(prob)\n",
    "# Probabilidad prob de elejir soluciones peores con diferencia mayor a dif al final\n",
    "dif  = 0.01\n",
    "prob = 0.01\n",
    "T_min = -dif / np.log(prob)\n",
    "# Factor de reduccion de acuerdo a las iteraciones deseadas\n",
    "N = 30\n",
    "reduccion = np.exp(np.log(T_min / T_max) / N)"
   ]
  },
  {
   "cell_type": "markdown",
   "metadata": {},
   "source": [
    "## Busco"
   ]
  },
  {
   "cell_type": "code",
   "execution_count": 8,
   "metadata": {},
   "outputs": [],
   "source": [
    "def buscar(i):\n",
    "    mejor = nuevos()\n",
    "    e=0\n",
    "    for j in range(i):\n",
    "        mejor, evaluaciones = simulated_annealing(mejor, evaluacion, vecinos,\n",
    "                                          T_max=T_max, \n",
    "                                          T_min=T_min, \n",
    "                                          reduccion=reduccion)\n",
    "        e+=evaluaciones\n",
    "    print(\"Cantidad de soluciones evaluadas:\", e)\n",
    "    print(\"Valor de func para esa solución:\", evaluacion(mejor))\n",
    "    return"
   ]
  },
  {
   "cell_type": "code",
   "execution_count": 9,
   "metadata": {},
   "outputs": [
    {
     "name": "stdout",
     "output_type": "stream",
     "text": [
      "('Cantidad de soluciones evaluadas:', 625)\n",
      "('Valor de func para esa soluci\\xc3\\xb3n:', 179.3418044946892)\n"
     ]
    }
   ],
   "source": [
    "buscar(5)"
   ]
  },
  {
   "cell_type": "markdown",
   "metadata": {},
   "source": [
    "# Algoritmo Evolutivo"
   ]
  },
  {
   "cell_type": "markdown",
   "metadata": {},
   "source": [
    "## Defino Fitness Esperado"
   ]
  },
  {
   "cell_type": "code",
   "execution_count": 10,
   "metadata": {},
   "outputs": [],
   "source": [
    "creator.create(\"FitnessMax\", base.Fitness, weights=(-9999,))\n",
    "creator.create(\"Individual\", list, fitness=creator.FitnessMax)"
   ]
  },
  {
   "cell_type": "markdown",
   "metadata": {},
   "source": [
    "## Defino ADN del Individuo"
   ]
  },
  {
   "cell_type": "code",
   "execution_count": 11,
   "metadata": {},
   "outputs": [],
   "source": [
    "def gen():\n",
    "    return round(-5 + np.random.random() * (5 - -5), 2)"
   ]
  },
  {
   "cell_type": "code",
   "execution_count": 12,
   "metadata": {},
   "outputs": [],
   "source": [
    "toolbox = base.Toolbox()\n",
    "toolbox.register(\"individual\", tools.initRepeat, creator.Individual, gen, n=10)\n",
    "toolbox.register(\"population\", tools.initRepeat, list, toolbox.individual)"
   ]
  },
  {
   "cell_type": "code",
   "execution_count": 13,
   "metadata": {},
   "outputs": [
    {
     "data": {
      "text/plain": [
       "[-4.75, 0.31, -2.19, -0.34, -3.44, -3.2, 1.41, -4.9, -2.09, 3.78]"
      ]
     },
     "execution_count": 13,
     "metadata": {},
     "output_type": "execute_result"
    }
   ],
   "source": [
    "ind = toolbox.individual()\n",
    "ind"
   ]
  },
  {
   "cell_type": "markdown",
   "metadata": {},
   "source": [
    "## Defino Evaluacion, Seleccion y Mutacion"
   ]
  },
  {
   "cell_type": "code",
   "execution_count": 14,
   "metadata": {},
   "outputs": [],
   "source": [
    "def evaluarADN(x):\n",
    "        return [rastrigin(x)]"
   ]
  },
  {
   "cell_type": "code",
   "execution_count": 15,
   "metadata": {},
   "outputs": [],
   "source": [
    "toolbox.register(\"evaluate\", evaluarADN)\n",
    "toolbox.register(\"mate\", tools.cxTwoPoint)\n",
    "toolbox.register(\"mutate\", tools.mutFlipBit, indpb=0.20)\n",
    "toolbox.register(\"select\", tools.selTournament, tournsize=3)"
   ]
  },
  {
   "cell_type": "code",
   "execution_count": 16,
   "metadata": {},
   "outputs": [],
   "source": [
    "def main():    \n",
    "    pop = toolbox.population(n=50)\n",
    "    hof = tools.HallOfFame(1)\n",
    "    stats = tools.Statistics(lambda ind: ind.fitness.values)\n",
    "    stats.register(\"avg\", np.mean)\n",
    "    stats.register(\"min\", np.min)\n",
    "    stats.register(\"max\", np.max)\n",
    "    pop, logbook = algorithms.eaSimple(pop, toolbox, cxpb=0.5, mutpb=0.2, ngen=50, stats=stats, halloffame=hof, verbose=True)\n",
    "    return pop, logbook, hof"
   ]
  },
  {
   "cell_type": "code",
   "execution_count": 17,
   "metadata": {},
   "outputs": [
    {
     "name": "stdout",
     "output_type": "stream",
     "text": [
      "gen\tnevals\tavg    \tmin    \tmax    \n",
      "0  \t50    \t177.685\t62.0088\t265.049\n",
      "1  \t32    \t149.953\t93.022 \t189.766\n",
      "2  \t28    \t127.824\t66.2133\t166.781\n",
      "3  \t35    \t104.105\t60.5377\t156.731\n",
      "4  \t23    \t82.1042\t22.1905\t121.888\n",
      "5  \t26    \t55.8144\t15.5679\t93.022 \n",
      "6  \t38    \t41.0292\t13.4263\t74.8389\n",
      "7  \t34    \t29.4849\t8.64642\t61.9949\n",
      "8  \t31    \t21.144 \t6.94584\t43.1804\n",
      "9  \t30    \t14.327 \t1.31577\t24.3459\n",
      "10 \t35    \t8.95334\t0      \t22.1161\n",
      "11 \t35    \t5.46152\t0      \t11.0874\n",
      "12 \t37    \t3.15503\t0      \t9.64642\n",
      "13 \t28    \t1.45959\t0      \t4      \n",
      "14 \t22    \t0.917884\t0      \t4      \n",
      "15 \t34    \t0.578938\t0      \t3.31577\n",
      "16 \t24    \t0.268415\t0      \t3      \n",
      "17 \t25    \t0.278946\t0      \t3      \n",
      "18 \t26    \t0.62    \t0      \t5      \n",
      "19 \t43    \t0.46    \t0      \t4      \n",
      "20 \t30    \t0.46    \t0      \t5      \n",
      "21 \t26    \t0.3     \t0      \t3      \n",
      "22 \t25    \t0.66    \t0      \t5      \n",
      "23 \t36    \t0.76    \t0      \t4      \n",
      "24 \t26    \t0.52    \t0      \t4      \n",
      "25 \t26    \t0.6     \t0      \t5      \n",
      "26 \t25    \t0.38    \t0      \t4      \n",
      "27 \t25    \t0.32    \t0      \t3      \n",
      "28 \t34    \t0.42    \t0      \t4      \n",
      "29 \t30    \t0.54    \t0      \t4      \n",
      "30 \t29    \t0.4     \t0      \t3      \n",
      "31 \t33    \t0.46    \t0      \t4      \n",
      "32 \t27    \t0.44    \t0      \t5      \n",
      "33 \t38    \t0.64    \t0      \t5      \n",
      "34 \t39    \t0.84    \t0      \t6      \n",
      "35 \t27    \t0.52    \t0      \t6      \n",
      "36 \t35    \t0.44    \t0      \t4      \n",
      "37 \t35    \t0.4     \t0      \t4      \n",
      "38 \t29    \t0.36    \t0      \t4      \n",
      "39 \t39    \t0.14    \t0      \t3      \n",
      "40 \t25    \t0.38    \t0      \t3      \n",
      "41 \t36    \t0.18    \t0      \t4      \n",
      "42 \t27    \t0.3     \t0      \t4      \n",
      "43 \t25    \t0.34    \t0      \t3      \n",
      "44 \t34    \t0.58    \t0      \t4      \n",
      "45 \t32    \t0.74    \t0      \t5      \n",
      "46 \t33    \t0.36    \t0      \t3      \n",
      "47 \t31    \t0.62    \t0      \t4      \n",
      "48 \t35    \t0.46    \t0      \t4      \n",
      "49 \t27    \t0.34    \t0      \t4      \n",
      "50 \t33    \t0.26    \t0      \t4      \n",
      "Best individual is: [0.0, 0.0, 0.0, 0.0, 0.0, 0.0, 0.0, 0.0, 0.0, 0.0]\n",
      "with fitness: (0.0,)\n"
     ]
    },
    {
     "data": {
      "image/png": "[encoded data removed]",
      "text/html": [
       "\n",
       "\n",
       "<style>\n",
       "\n",
       "</style>\n",
       "\n",
       "<div id=\"fig_el125221402130404019364630097523\"></div>\n",
       "<script>\n",
       "function mpld3_load_lib(url, callback){\n",
       "  var s = document.createElement('script');\n",
       "  s.src = url;\n",
       "  s.async = true;\n",
       "  s.onreadystatechange = s.onload = callback;\n",
       "  s.onerror = function(){console.warn(\"failed to load library \" + url);};\n",
       "  document.getElementsByTagName(\"head\")[0].appendChild(s);\n",
       "}\n",
       "\n",
       "if(typeof(mpld3) !== \"undefined\" && mpld3._mpld3IsLoaded){\n",
       "   // already loaded: just create the figure\n",
       "   !function(mpld3){\n",
       "       \n",
       "       mpld3.draw_figure(\"fig_el125221402130404019364630097523\", {\"axes\": [{\"xlim\": [-2.5, 52.5], \"yscale\": \"linear\", \"axesbg\": \"#FFFFFF\", \"texts\": [{\"v_baseline\": \"hanging\", \"h_anchor\": \"middle\", \"color\": \"#000000\", \"text\": \"Generation\", \"coordinates\": \"axes\", \"zorder\": 3, \"alpha\": 1, \"fontsize\": 10.0, \"position\": [0.49999999999999994, -0.09657836644591611], \"rotation\": -0.0, \"id\": \"el12522140213040431824\"}, {\"v_baseline\": \"auto\", \"h_anchor\": \"middle\", \"color\": \"#000000\", \"text\": \"Fitness\", \"coordinates\": \"axes\", \"zorder\": 3, \"alpha\": 1, \"fontsize\": 10.0, \"position\": [-0.08960573476702509, 0.49999999999999994], \"rotation\": -90.0, \"id\": \"el12522140213040432784\"}, {\"v_baseline\": \"auto\", \"h_anchor\": \"start\", \"color\": \"#000000\", \"text\": \"average\", \"coordinates\": \"axes\", \"zorder\": 1000003.0, \"alpha\": 1, \"fontsize\": 10.0, \"position\": [0.8234020310633213, 0.18855776306107433], \"rotation\": -0.0, \"id\": \"el12522140213006259472\"}, {\"v_baseline\": \"auto\", \"h_anchor\": \"start\", \"color\": \"#000000\", \"text\": \"minimum\", \"coordinates\": \"axes\", \"zorder\": 1000003.0, \"alpha\": 1, \"fontsize\": 10.0, \"position\": [0.8234020310633213, 0.11957321559970566], \"rotation\": -0.0, \"id\": \"el12522140213006261136\"}, {\"v_baseline\": \"auto\", \"h_anchor\": \"start\", \"color\": \"#000000\", \"text\": \"maximum\", \"coordinates\": \"axes\", \"zorder\": 1000003.0, \"alpha\": 1, \"fontsize\": 10.0, \"position\": [0.8234020310633213, 0.05058866813833701], \"rotation\": -0.0, \"id\": \"el12522140213006320272\"}], \"zoomable\": true, \"images\": [], \"xdomain\": [-2.5, 52.5], \"ylim\": [-13.252471782397132, 278.3019074303398], \"paths\": [{\"edgecolor\": \"#CCCCCC\", \"facecolor\": \"#FFFFFF\", \"edgewidth\": 1.0, \"pathcodes\": [\"M\", \"L\", \"S\", \"L\", \"S\", \"L\", \"S\", \"L\", \"S\", \"Z\"], \"yindex\": 1, \"coordinates\": \"axes\", \"dasharray\": \"none\", \"zorder\": 1000000.0, \"alpha\": 0.8, \"xindex\": 0, \"data\": \"data03\", \"id\": \"el12522140213006259024\"}], \"sharey\": [], \"sharex\": [], \"axesbgalpha\": null, \"axes\": [{\"scale\": \"linear\", \"tickformat\": null, \"grid\": {\"gridOn\": false}, \"visible\": true, \"fontsize\": 10.0, \"position\": \"bottom\", \"nticks\": 8, \"tickvalues\": null}, {\"scale\": \"linear\", \"tickformat\": null, \"grid\": {\"gridOn\": false}, \"visible\": true, \"fontsize\": 10.0, \"position\": \"left\", \"nticks\": 8, \"tickvalues\": null}], \"lines\": [{\"drawstyle\": \"default\", \"color\": \"#1F77B4\", \"yindex\": 1, \"coordinates\": \"data\", \"dasharray\": \"none\", \"zorder\": 2, \"alpha\": 1, \"xindex\": 0, \"linewidth\": 1.5, \"data\": \"data01\", \"id\": \"el12522140213006186384\"}, {\"drawstyle\": \"default\", \"color\": \"#FF7F0E\", \"yindex\": 2, \"coordinates\": \"data\", \"dasharray\": \"none\", \"zorder\": 2, \"alpha\": 1, \"xindex\": 0, \"linewidth\": 1.5, \"data\": \"data01\", \"id\": \"el12522140213006186576\"}, {\"drawstyle\": \"default\", \"color\": \"#2CA02C\", \"yindex\": 3, \"coordinates\": \"data\", \"dasharray\": \"none\", \"zorder\": 2, \"alpha\": 1, \"xindex\": 0, \"linewidth\": 1.5, \"data\": \"data01\", \"id\": \"el12522140213006187536\"}, {\"drawstyle\": \"default\", \"color\": \"#1F77B4\", \"yindex\": 1, \"coordinates\": \"axes\", \"dasharray\": \"none\", \"zorder\": 1000002.0, \"alpha\": 1, \"xindex\": 0, \"linewidth\": 1.5, \"data\": \"data02\", \"id\": \"el12522140213006259920\"}, {\"drawstyle\": \"default\", \"color\": \"#FF7F0E\", \"yindex\": 2, \"coordinates\": \"axes\", \"dasharray\": \"none\", \"zorder\": 1000002.0, \"alpha\": 1, \"xindex\": 0, \"linewidth\": 1.5, \"data\": \"data02\", \"id\": \"el12522140213006261648\"}, {\"drawstyle\": \"default\", \"color\": \"#2CA02C\", \"yindex\": 3, \"coordinates\": \"axes\", \"dasharray\": \"none\", \"zorder\": 1000002.0, \"alpha\": 1, \"xindex\": 0, \"linewidth\": 1.5, \"data\": \"data02\", \"id\": \"el12522140213006320784\"}], \"markers\": [], \"id\": \"el12522140213040344144\", \"ydomain\": [-13.252471782397132, 278.3019074303398], \"collections\": [], \"xscale\": \"linear\", \"bbox\": [0.125, 0.125, 0.775, 0.755]}], \"height\": 288.0, \"width\": 432.0, \"plugins\": [{\"type\": \"reset\"}, {\"enabled\": false, \"button\": true, \"type\": \"zoom\"}, {\"enabled\": false, \"button\": true, \"type\": \"boxzoom\"}], \"data\": {\"data02\": [[0.7397700119474313, 0.204654157468727, 0.13566961000735833, 0.0666850625459897], [0.7995071684587813, 0.204654157468727, 0.13566961000735833, 0.0666850625459897]], \"data03\": [[0.7337962962962963, 0.02299484915378955], [0.9790919952210274, 0.02299484915378955], [0.9850657108721624, 0.02299484915378955], [0.9850657108721624, 0.03219278881530538], [0.9850657108721624, 0.23454746136865343], [0.9850657108721624, 0.24374540103016926], [0.9790919952210274, 0.24374540103016926], [0.7337962962962963, 0.24374540103016926], [0.7278225806451613, 0.24374540103016926], [0.7278225806451613, 0.23454746136865343], [0.7278225806451613, 0.03219278881530538], [0.7278225806451613, 0.02299484915378955], [0.7337962962962963, 0.02299484915378955]], \"data01\": [[0.0, 177.68457639981247, 62.00877682188799, 265.04943564794263], [1.0, 149.95254710060487, 93.0219543896133, 189.76635615054903], [2.0, 127.82375115866218, 66.21329374714654, 166.78086307534997], [3.0, 104.10496330221936, 60.53770144800001, 156.7309937748753], [4.0, 82.10415492317583, 22.190467562380007, 121.8879429762224], [5.0, 55.81435777772403, 15.567927809877858, 93.0219543896133], [6.0, 41.02918249688502, 13.426324280046684, 74.83892299727604], [7.0, 29.484947602422107, 8.646424274811025, 61.99486516295154], [8.0, 21.14397594938001, 6.945835141117484, 43.18035470827326], [9.0, 14.327011334193694, 1.3157683887136926, 24.34588518868081], [10.0, 8.953338753454167, 0.0, 22.116119079517887], [11.0, 5.461519090455288, 0.0, 11.087438670948657], [12.0, 3.1550316543548376, 0.0, 9.646424274811025], [13.0, 1.459592391930314, 0.0, 4.0], [14.0, 0.9178841943568463, 0.0, 4.0], [15.0, 0.5789380910340247, 0.0, 3.3157683887136926], [16.0, 0.2684151488398339, 0.0, 3.0], [17.0, 0.27894610332282155, 0.0, 3.0], [18.0, 0.62, 0.0, 5.0], [19.0, 0.46, 0.0, 4.0], [20.0, 0.46, 0.0, 5.0], [21.0, 0.3, 0.0, 3.0], [22.0, 0.66, 0.0, 5.0], [23.0, 0.76, 0.0, 4.0], [24.0, 0.52, 0.0, 4.0], [25.0, 0.6, 0.0, 5.0], [26.0, 0.38, 0.0, 4.0], [27.0, 0.32, 0.0, 3.0], [28.0, 0.42, 0.0, 4.0], [29.0, 0.54, 0.0, 4.0], [30.0, 0.4, 0.0, 3.0], [31.0, 0.46, 0.0, 4.0], [32.0, 0.44, 0.0, 5.0], [33.0, 0.64, 0.0, 5.0], [34.0, 0.84, 0.0, 6.0], [35.0, 0.52, 0.0, 6.0], [36.0, 0.44, 0.0, 4.0], [37.0, 0.4, 0.0, 4.0], [38.0, 0.36, 0.0, 4.0], [39.0, 0.14, 0.0, 3.0], [40.0, 0.38, 0.0, 3.0], [41.0, 0.18, 0.0, 4.0], [42.0, 0.3, 0.0, 4.0], [43.0, 0.34, 0.0, 3.0], [44.0, 0.58, 0.0, 4.0], [45.0, 0.74, 0.0, 5.0], [46.0, 0.36, 0.0, 3.0], [47.0, 0.62, 0.0, 4.0], [48.0, 0.46, 0.0, 4.0], [49.0, 0.34, 0.0, 4.0], [50.0, 0.26, 0.0, 4.0]]}, \"id\": \"el12522140213040401936\"});\n",
       "   }(mpld3);\n",
       "}else if(typeof define === \"function\" && define.amd){\n",
       "   // require.js is available: use it to load d3/mpld3\n",
       "   require.config({paths: {d3: \"https://mpld3.github.io/js/d3.v3.min\"}});\n",
       "   require([\"d3\"], function(d3){\n",
       "      window.d3 = d3;\n",
       "      mpld3_load_lib(\"https://mpld3.github.io/js/mpld3.v0.3.js\", function(){\n",
       "         \n",
       "         mpld3.draw_figure(\"fig_el125221402130404019364630097523\", {\"axes\": [{\"xlim\": [-2.5, 52.5], \"yscale\": \"linear\", \"axesbg\": \"#FFFFFF\", \"texts\": [{\"v_baseline\": \"hanging\", \"h_anchor\": \"middle\", \"color\": \"#000000\", \"text\": \"Generation\", \"coordinates\": \"axes\", \"zorder\": 3, \"alpha\": 1, \"fontsize\": 10.0, \"position\": [0.49999999999999994, -0.09657836644591611], \"rotation\": -0.0, \"id\": \"el12522140213040431824\"}, {\"v_baseline\": \"auto\", \"h_anchor\": \"middle\", \"color\": \"#000000\", \"text\": \"Fitness\", \"coordinates\": \"axes\", \"zorder\": 3, \"alpha\": 1, \"fontsize\": 10.0, \"position\": [-0.08960573476702509, 0.49999999999999994], \"rotation\": -90.0, \"id\": \"el12522140213040432784\"}, {\"v_baseline\": \"auto\", \"h_anchor\": \"start\", \"color\": \"#000000\", \"text\": \"average\", \"coordinates\": \"axes\", \"zorder\": 1000003.0, \"alpha\": 1, \"fontsize\": 10.0, \"position\": [0.8234020310633213, 0.18855776306107433], \"rotation\": -0.0, \"id\": \"el12522140213006259472\"}, {\"v_baseline\": \"auto\", \"h_anchor\": \"start\", \"color\": \"#000000\", \"text\": \"minimum\", \"coordinates\": \"axes\", \"zorder\": 1000003.0, \"alpha\": 1, \"fontsize\": 10.0, \"position\": [0.8234020310633213, 0.11957321559970566], \"rotation\": -0.0, \"id\": \"el12522140213006261136\"}, {\"v_baseline\": \"auto\", \"h_anchor\": \"start\", \"color\": \"#000000\", \"text\": \"maximum\", \"coordinates\": \"axes\", \"zorder\": 1000003.0, \"alpha\": 1, \"fontsize\": 10.0, \"position\": [0.8234020310633213, 0.05058866813833701], \"rotation\": -0.0, \"id\": \"el12522140213006320272\"}], \"zoomable\": true, \"images\": [], \"xdomain\": [-2.5, 52.5], \"ylim\": [-13.252471782397132, 278.3019074303398], \"paths\": [{\"edgecolor\": \"#CCCCCC\", \"facecolor\": \"#FFFFFF\", \"edgewidth\": 1.0, \"pathcodes\": [\"M\", \"L\", \"S\", \"L\", \"S\", \"L\", \"S\", \"L\", \"S\", \"Z\"], \"yindex\": 1, \"coordinates\": \"axes\", \"dasharray\": \"none\", \"zorder\": 1000000.0, \"alpha\": 0.8, \"xindex\": 0, \"data\": \"data03\", \"id\": \"el12522140213006259024\"}], \"sharey\": [], \"sharex\": [], \"axesbgalpha\": null, \"axes\": [{\"scale\": \"linear\", \"tickformat\": null, \"grid\": {\"gridOn\": false}, \"visible\": true, \"fontsize\": 10.0, \"position\": \"bottom\", \"nticks\": 8, \"tickvalues\": null}, {\"scale\": \"linear\", \"tickformat\": null, \"grid\": {\"gridOn\": false}, \"visible\": true, \"fontsize\": 10.0, \"position\": \"left\", \"nticks\": 8, \"tickvalues\": null}], \"lines\": [{\"drawstyle\": \"default\", \"color\": \"#1F77B4\", \"yindex\": 1, \"coordinates\": \"data\", \"dasharray\": \"none\", \"zorder\": 2, \"alpha\": 1, \"xindex\": 0, \"linewidth\": 1.5, \"data\": \"data01\", \"id\": \"el12522140213006186384\"}, {\"drawstyle\": \"default\", \"color\": \"#FF7F0E\", \"yindex\": 2, \"coordinates\": \"data\", \"dasharray\": \"none\", \"zorder\": 2, \"alpha\": 1, \"xindex\": 0, \"linewidth\": 1.5, \"data\": \"data01\", \"id\": \"el12522140213006186576\"}, {\"drawstyle\": \"default\", \"color\": \"#2CA02C\", \"yindex\": 3, \"coordinates\": \"data\", \"dasharray\": \"none\", \"zorder\": 2, \"alpha\": 1, \"xindex\": 0, \"linewidth\": 1.5, \"data\": \"data01\", \"id\": \"el12522140213006187536\"}, {\"drawstyle\": \"default\", \"color\": \"#1F77B4\", \"yindex\": 1, \"coordinates\": \"axes\", \"dasharray\": \"none\", \"zorder\": 1000002.0, \"alpha\": 1, \"xindex\": 0, \"linewidth\": 1.5, \"data\": \"data02\", \"id\": \"el12522140213006259920\"}, {\"drawstyle\": \"default\", \"color\": \"#FF7F0E\", \"yindex\": 2, \"coordinates\": \"axes\", \"dasharray\": \"none\", \"zorder\": 1000002.0, \"alpha\": 1, \"xindex\": 0, \"linewidth\": 1.5, \"data\": \"data02\", \"id\": \"el12522140213006261648\"}, {\"drawstyle\": \"default\", \"color\": \"#2CA02C\", \"yindex\": 3, \"coordinates\": \"axes\", \"dasharray\": \"none\", \"zorder\": 1000002.0, \"alpha\": 1, \"xindex\": 0, \"linewidth\": 1.5, \"data\": \"data02\", \"id\": \"el12522140213006320784\"}], \"markers\": [], \"id\": \"el12522140213040344144\", \"ydomain\": [-13.252471782397132, 278.3019074303398], \"collections\": [], \"xscale\": \"linear\", \"bbox\": [0.125, 0.125, 0.775, 0.755]}], \"height\": 288.0, \"width\": 432.0, \"plugins\": [{\"type\": \"reset\"}, {\"enabled\": false, \"button\": true, \"type\": \"zoom\"}, {\"enabled\": false, \"button\": true, \"type\": \"boxzoom\"}], \"data\": {\"data02\": [[0.7397700119474313, 0.204654157468727, 0.13566961000735833, 0.0666850625459897], [0.7995071684587813, 0.204654157468727, 0.13566961000735833, 0.0666850625459897]], \"data03\": [[0.7337962962962963, 0.02299484915378955], [0.9790919952210274, 0.02299484915378955], [0.9850657108721624, 0.02299484915378955], [0.9850657108721624, 0.03219278881530538], [0.9850657108721624, 0.23454746136865343], [0.9850657108721624, 0.24374540103016926], [0.9790919952210274, 0.24374540103016926], [0.7337962962962963, 0.24374540103016926], [0.7278225806451613, 0.24374540103016926], [0.7278225806451613, 0.23454746136865343], [0.7278225806451613, 0.03219278881530538], [0.7278225806451613, 0.02299484915378955], [0.7337962962962963, 0.02299484915378955]], \"data01\": [[0.0, 177.68457639981247, 62.00877682188799, 265.04943564794263], [1.0, 149.95254710060487, 93.0219543896133, 189.76635615054903], [2.0, 127.82375115866218, 66.21329374714654, 166.78086307534997], [3.0, 104.10496330221936, 60.53770144800001, 156.7309937748753], [4.0, 82.10415492317583, 22.190467562380007, 121.8879429762224], [5.0, 55.81435777772403, 15.567927809877858, 93.0219543896133], [6.0, 41.02918249688502, 13.426324280046684, 74.83892299727604], [7.0, 29.484947602422107, 8.646424274811025, 61.99486516295154], [8.0, 21.14397594938001, 6.945835141117484, 43.18035470827326], [9.0, 14.327011334193694, 1.3157683887136926, 24.34588518868081], [10.0, 8.953338753454167, 0.0, 22.116119079517887], [11.0, 5.461519090455288, 0.0, 11.087438670948657], [12.0, 3.1550316543548376, 0.0, 9.646424274811025], [13.0, 1.459592391930314, 0.0, 4.0], [14.0, 0.9178841943568463, 0.0, 4.0], [15.0, 0.5789380910340247, 0.0, 3.3157683887136926], [16.0, 0.2684151488398339, 0.0, 3.0], [17.0, 0.27894610332282155, 0.0, 3.0], [18.0, 0.62, 0.0, 5.0], [19.0, 0.46, 0.0, 4.0], [20.0, 0.46, 0.0, 5.0], [21.0, 0.3, 0.0, 3.0], [22.0, 0.66, 0.0, 5.0], [23.0, 0.76, 0.0, 4.0], [24.0, 0.52, 0.0, 4.0], [25.0, 0.6, 0.0, 5.0], [26.0, 0.38, 0.0, 4.0], [27.0, 0.32, 0.0, 3.0], [28.0, 0.42, 0.0, 4.0], [29.0, 0.54, 0.0, 4.0], [30.0, 0.4, 0.0, 3.0], [31.0, 0.46, 0.0, 4.0], [32.0, 0.44, 0.0, 5.0], [33.0, 0.64, 0.0, 5.0], [34.0, 0.84, 0.0, 6.0], [35.0, 0.52, 0.0, 6.0], [36.0, 0.44, 0.0, 4.0], [37.0, 0.4, 0.0, 4.0], [38.0, 0.36, 0.0, 4.0], [39.0, 0.14, 0.0, 3.0], [40.0, 0.38, 0.0, 3.0], [41.0, 0.18, 0.0, 4.0], [42.0, 0.3, 0.0, 4.0], [43.0, 0.34, 0.0, 3.0], [44.0, 0.58, 0.0, 4.0], [45.0, 0.74, 0.0, 5.0], [46.0, 0.36, 0.0, 3.0], [47.0, 0.62, 0.0, 4.0], [48.0, 0.46, 0.0, 4.0], [49.0, 0.34, 0.0, 4.0], [50.0, 0.26, 0.0, 4.0]]}, \"id\": \"el12522140213040401936\"});\n",
       "      });\n",
       "    });\n",
       "}else{\n",
       "    // require.js not available: dynamically load d3 & mpld3\n",
       "    mpld3_load_lib(\"https://mpld3.github.io/js/d3.v3.min.js\", function(){\n",
       "         mpld3_load_lib(\"https://mpld3.github.io/js/mpld3.v0.3.js\", function(){\n",
       "                 \n",
       "                 mpld3.draw_figure(\"fig_el125221402130404019364630097523\", {\"axes\": [{\"xlim\": [-2.5, 52.5], \"yscale\": \"linear\", \"axesbg\": \"#FFFFFF\", \"texts\": [{\"v_baseline\": \"hanging\", \"h_anchor\": \"middle\", \"color\": \"#000000\", \"text\": \"Generation\", \"coordinates\": \"axes\", \"zorder\": 3, \"alpha\": 1, \"fontsize\": 10.0, \"position\": [0.49999999999999994, -0.09657836644591611], \"rotation\": -0.0, \"id\": \"el12522140213040431824\"}, {\"v_baseline\": \"auto\", \"h_anchor\": \"middle\", \"color\": \"#000000\", \"text\": \"Fitness\", \"coordinates\": \"axes\", \"zorder\": 3, \"alpha\": 1, \"fontsize\": 10.0, \"position\": [-0.08960573476702509, 0.49999999999999994], \"rotation\": -90.0, \"id\": \"el12522140213040432784\"}, {\"v_baseline\": \"auto\", \"h_anchor\": \"start\", \"color\": \"#000000\", \"text\": \"average\", \"coordinates\": \"axes\", \"zorder\": 1000003.0, \"alpha\": 1, \"fontsize\": 10.0, \"position\": [0.8234020310633213, 0.18855776306107433], \"rotation\": -0.0, \"id\": \"el12522140213006259472\"}, {\"v_baseline\": \"auto\", \"h_anchor\": \"start\", \"color\": \"#000000\", \"text\": \"minimum\", \"coordinates\": \"axes\", \"zorder\": 1000003.0, \"alpha\": 1, \"fontsize\": 10.0, \"position\": [0.8234020310633213, 0.11957321559970566], \"rotation\": -0.0, \"id\": \"el12522140213006261136\"}, {\"v_baseline\": \"auto\", \"h_anchor\": \"start\", \"color\": \"#000000\", \"text\": \"maximum\", \"coordinates\": \"axes\", \"zorder\": 1000003.0, \"alpha\": 1, \"fontsize\": 10.0, \"position\": [0.8234020310633213, 0.05058866813833701], \"rotation\": -0.0, \"id\": \"el12522140213006320272\"}], \"zoomable\": true, \"images\": [], \"xdomain\": [-2.5, 52.5], \"ylim\": [-13.252471782397132, 278.3019074303398], \"paths\": [{\"edgecolor\": \"#CCCCCC\", \"facecolor\": \"#FFFFFF\", \"edgewidth\": 1.0, \"pathcodes\": [\"M\", \"L\", \"S\", \"L\", \"S\", \"L\", \"S\", \"L\", \"S\", \"Z\"], \"yindex\": 1, \"coordinates\": \"axes\", \"dasharray\": \"none\", \"zorder\": 1000000.0, \"alpha\": 0.8, \"xindex\": 0, \"data\": \"data03\", \"id\": \"el12522140213006259024\"}], \"sharey\": [], \"sharex\": [], \"axesbgalpha\": null, \"axes\": [{\"scale\": \"linear\", \"tickformat\": null, \"grid\": {\"gridOn\": false}, \"visible\": true, \"fontsize\": 10.0, \"position\": \"bottom\", \"nticks\": 8, \"tickvalues\": null}, {\"scale\": \"linear\", \"tickformat\": null, \"grid\": {\"gridOn\": false}, \"visible\": true, \"fontsize\": 10.0, \"position\": \"left\", \"nticks\": 8, \"tickvalues\": null}], \"lines\": [{\"drawstyle\": \"default\", \"color\": \"#1F77B4\", \"yindex\": 1, \"coordinates\": \"data\", \"dasharray\": \"none\", \"zorder\": 2, \"alpha\": 1, \"xindex\": 0, \"linewidth\": 1.5, \"data\": \"data01\", \"id\": \"el12522140213006186384\"}, {\"drawstyle\": \"default\", \"color\": \"#FF7F0E\", \"yindex\": 2, \"coordinates\": \"data\", \"dasharray\": \"none\", \"zorder\": 2, \"alpha\": 1, \"xindex\": 0, \"linewidth\": 1.5, \"data\": \"data01\", \"id\": \"el12522140213006186576\"}, {\"drawstyle\": \"default\", \"color\": \"#2CA02C\", \"yindex\": 3, \"coordinates\": \"data\", \"dasharray\": \"none\", \"zorder\": 2, \"alpha\": 1, \"xindex\": 0, \"linewidth\": 1.5, \"data\": \"data01\", \"id\": \"el12522140213006187536\"}, {\"drawstyle\": \"default\", \"color\": \"#1F77B4\", \"yindex\": 1, \"coordinates\": \"axes\", \"dasharray\": \"none\", \"zorder\": 1000002.0, \"alpha\": 1, \"xindex\": 0, \"linewidth\": 1.5, \"data\": \"data02\", \"id\": \"el12522140213006259920\"}, {\"drawstyle\": \"default\", \"color\": \"#FF7F0E\", \"yindex\": 2, \"coordinates\": \"axes\", \"dasharray\": \"none\", \"zorder\": 1000002.0, \"alpha\": 1, \"xindex\": 0, \"linewidth\": 1.5, \"data\": \"data02\", \"id\": \"el12522140213006261648\"}, {\"drawstyle\": \"default\", \"color\": \"#2CA02C\", \"yindex\": 3, \"coordinates\": \"axes\", \"dasharray\": \"none\", \"zorder\": 1000002.0, \"alpha\": 1, \"xindex\": 0, \"linewidth\": 1.5, \"data\": \"data02\", \"id\": \"el12522140213006320784\"}], \"markers\": [], \"id\": \"el12522140213040344144\", \"ydomain\": [-13.252471782397132, 278.3019074303398], \"collections\": [], \"xscale\": \"linear\", \"bbox\": [0.125, 0.125, 0.775, 0.755]}], \"height\": 288.0, \"width\": 432.0, \"plugins\": [{\"type\": \"reset\"}, {\"enabled\": false, \"button\": true, \"type\": \"zoom\"}, {\"enabled\": false, \"button\": true, \"type\": \"boxzoom\"}], \"data\": {\"data02\": [[0.7397700119474313, 0.204654157468727, 0.13566961000735833, 0.0666850625459897], [0.7995071684587813, 0.204654157468727, 0.13566961000735833, 0.0666850625459897]], \"data03\": [[0.7337962962962963, 0.02299484915378955], [0.9790919952210274, 0.02299484915378955], [0.9850657108721624, 0.02299484915378955], [0.9850657108721624, 0.03219278881530538], [0.9850657108721624, 0.23454746136865343], [0.9850657108721624, 0.24374540103016926], [0.9790919952210274, 0.24374540103016926], [0.7337962962962963, 0.24374540103016926], [0.7278225806451613, 0.24374540103016926], [0.7278225806451613, 0.23454746136865343], [0.7278225806451613, 0.03219278881530538], [0.7278225806451613, 0.02299484915378955], [0.7337962962962963, 0.02299484915378955]], \"data01\": [[0.0, 177.68457639981247, 62.00877682188799, 265.04943564794263], [1.0, 149.95254710060487, 93.0219543896133, 189.76635615054903], [2.0, 127.82375115866218, 66.21329374714654, 166.78086307534997], [3.0, 104.10496330221936, 60.53770144800001, 156.7309937748753], [4.0, 82.10415492317583, 22.190467562380007, 121.8879429762224], [5.0, 55.81435777772403, 15.567927809877858, 93.0219543896133], [6.0, 41.02918249688502, 13.426324280046684, 74.83892299727604], [7.0, 29.484947602422107, 8.646424274811025, 61.99486516295154], [8.0, 21.14397594938001, 6.945835141117484, 43.18035470827326], [9.0, 14.327011334193694, 1.3157683887136926, 24.34588518868081], [10.0, 8.953338753454167, 0.0, 22.116119079517887], [11.0, 5.461519090455288, 0.0, 11.087438670948657], [12.0, 3.1550316543548376, 0.0, 9.646424274811025], [13.0, 1.459592391930314, 0.0, 4.0], [14.0, 0.9178841943568463, 0.0, 4.0], [15.0, 0.5789380910340247, 0.0, 3.3157683887136926], [16.0, 0.2684151488398339, 0.0, 3.0], [17.0, 0.27894610332282155, 0.0, 3.0], [18.0, 0.62, 0.0, 5.0], [19.0, 0.46, 0.0, 4.0], [20.0, 0.46, 0.0, 5.0], [21.0, 0.3, 0.0, 3.0], [22.0, 0.66, 0.0, 5.0], [23.0, 0.76, 0.0, 4.0], [24.0, 0.52, 0.0, 4.0], [25.0, 0.6, 0.0, 5.0], [26.0, 0.38, 0.0, 4.0], [27.0, 0.32, 0.0, 3.0], [28.0, 0.42, 0.0, 4.0], [29.0, 0.54, 0.0, 4.0], [30.0, 0.4, 0.0, 3.0], [31.0, 0.46, 0.0, 4.0], [32.0, 0.44, 0.0, 5.0], [33.0, 0.64, 0.0, 5.0], [34.0, 0.84, 0.0, 6.0], [35.0, 0.52, 0.0, 6.0], [36.0, 0.44, 0.0, 4.0], [37.0, 0.4, 0.0, 4.0], [38.0, 0.36, 0.0, 4.0], [39.0, 0.14, 0.0, 3.0], [40.0, 0.38, 0.0, 3.0], [41.0, 0.18, 0.0, 4.0], [42.0, 0.3, 0.0, 4.0], [43.0, 0.34, 0.0, 3.0], [44.0, 0.58, 0.0, 4.0], [45.0, 0.74, 0.0, 5.0], [46.0, 0.36, 0.0, 3.0], [47.0, 0.62, 0.0, 4.0], [48.0, 0.46, 0.0, 4.0], [49.0, 0.34, 0.0, 4.0], [50.0, 0.26, 0.0, 4.0]]}, \"id\": \"el12522140213040401936\"});\n",
       "            })\n",
       "         });\n",
       "}\n",
       "</script>"
      ],
      "text/plain": [
       "<Figure size 432x288 with 1 Axes>"
      ]
     },
     "metadata": {
      "needs_background": "light"
     },
     "output_type": "display_data"
    }
   ],
   "source": [
    "if __name__ == \"__main__\":\n",
    "    pop, log, hof = main()\n",
    "    print(\"Best individual is: %s\\nwith fitness: %s\" % (hof[0], hof[0].fitness))\n",
    "    gen, avg, min_, max_ = log.select(\"gen\", \"avg\", \"min\", \"max\")\n",
    "    plt.plot(gen, avg, label=\"average\")\n",
    "    plt.plot(gen, min_, label=\"minimum\")\n",
    "    plt.plot(gen, max_, label=\"maximum\")\n",
    "    plt.xlabel(\"Generation\")\n",
    "    plt.ylabel(\"Fitness\")\n",
    "    plt.legend(loc=\"lower right\")"
   ]
  }
 ],
 "metadata": {
  "kernelspec": {
   "display_name": "Python 2",
   "language": "python",
   "name": "python2"
  },
  "language_info": {
   "codemirror_mode": {
    "name": "ipython",
    "version": 2
   },
   "file_extension": ".py",
   "mimetype": "text/x-python",
   "name": "python",
   "nbconvert_exporter": "python",
   "pygments_lexer": "ipython2",
   "version": "2.7.15rc1"
  }
 },
 "nbformat": 4,
 "nbformat_minor": 1
}
