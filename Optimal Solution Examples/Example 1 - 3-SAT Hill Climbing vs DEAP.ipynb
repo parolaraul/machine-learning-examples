{
 "cells": [
  {
   "cell_type": "markdown",
   "metadata": {},
   "source": [
    "# Example 1\n",
    "Considerando el problema 3-SAT para la expresión lógica contenida en el archivo 'uf20.py', definida con 20 variables y 91 cláusulas que se sabe que es satisfacible, se intenta resolverlo usando Hill Climbing. Se pide que:\n",
    "1. Proponga una representación para las posibles soluciones y determine el tamaño del espacio de búsqueda asociado a esa representación.\n",
    "2. Proponga una función de evaluación.\n",
    "3. De na la manera en que se obtienen las soluciones vecinas a la solución actual.\n",
    "Intente resolverlo ahora empleando un Algoritmo Evolutivo. Se pide que:\n",
    "4. Proponga una representación para las posibles soluciones y una función de evaluación. Describa las diferencias, si las hay, con las propuestas anteriormente.\n",
    "5. Defina que operadores van a usarse durante el proceso evolutivo.\n",
    "\n",
    "Implemente y pruebe lo de nido en los puntos anteriores. Evalúe los resultados obtenidos.\n",
    "Indique los valores de los parámetros usados durante la ejecución de ambos algoritmos."
   ]
  },
  {
   "cell_type": "code",
   "execution_count": 1,
   "metadata": {},
   "outputs": [],
   "source": [
    "import numpy as np\n",
    "import matplotlib.pyplot as plt\n",
    "from matplotlib import pylab\n",
    "import mpld3\n",
    "\n",
    "%matplotlib inline\n",
    "mpld3.enable_notebook()\n",
    "\n",
    "from resources.uf20 import f_1\n",
    "from utils.busqueda_local import hill_climb\n",
    "from deap import base, creator, tools, algorithms"
   ]
  },
  {
   "cell_type": "markdown",
   "metadata": {},
   "source": [
    "# Hill Climbing\n",
    "## Evaluacion"
   ]
  },
  {
   "cell_type": "code",
   "execution_count": 2,
   "metadata": {},
   "outputs": [],
   "source": [
    "def evaluacion(x):\n",
    "    return f_1(*x).count(True)"
   ]
  },
  {
   "cell_type": "markdown",
   "metadata": {},
   "source": [
    "## Vecinos"
   ]
  },
  {
   "cell_type": "code",
   "execution_count": 3,
   "metadata": {},
   "outputs": [],
   "source": [
    "def vecinos(x):\n",
    "    v = []\n",
    "    for i in range(5):\n",
    "        pos = np.random.randint(0,19)\n",
    "        x[pos] = not x[pos]\n",
    "        v.append(x)\n",
    "    return v"
   ]
  },
  {
   "cell_type": "markdown",
   "metadata": {},
   "source": [
    "## Nuevos"
   ]
  },
  {
   "cell_type": "code",
   "execution_count": 4,
   "metadata": {},
   "outputs": [],
   "source": [
    "def nuevos():\n",
    "    return np.random.random(20)<0.5"
   ]
  },
  {
   "cell_type": "markdown",
   "metadata": {},
   "source": [
    "## Busco"
   ]
  },
  {
   "cell_type": "code",
   "execution_count": 5,
   "metadata": {},
   "outputs": [],
   "source": [
    "def buscar(i):\n",
    "    mejor = nuevos()\n",
    "    for j in range(i):\n",
    "        print(\"\\nEvaluacion mejor\",evaluacion(mejor))\n",
    "        mejor, evaluaciones = hill_climb(mejor, evaluacion, vecinos)\n",
    "    return"
   ]
  },
  {
   "cell_type": "code",
   "execution_count": 6,
   "metadata": {},
   "outputs": [
    {
     "name": "stdout",
     "output_type": "stream",
     "text": [
      "('\\nEvaluacion mejor', 82)\n",
      "('\\nEvaluacion mejor', 82)\n",
      "('\\nEvaluacion mejor', 78)\n",
      "('\\nEvaluacion mejor', 78)\n",
      "('\\nEvaluacion mejor', 75)\n"
     ]
    }
   ],
   "source": [
    "buscar(5)"
   ]
  },
  {
   "cell_type": "markdown",
   "metadata": {},
   "source": [
    "# Algoritmo Evolutivo"
   ]
  },
  {
   "cell_type": "markdown",
   "metadata": {},
   "source": [
    "## Funcion para crear individuos"
   ]
  },
  {
   "cell_type": "code",
   "execution_count": 7,
   "metadata": {},
   "outputs": [],
   "source": [
    "def nuevoGEN():\n",
    "    return np.random.random()<0.5"
   ]
  },
  {
   "cell_type": "markdown",
   "metadata": {},
   "source": [
    "## Funcion Evaluacion"
   ]
  },
  {
   "cell_type": "code",
   "execution_count": 8,
   "metadata": {},
   "outputs": [],
   "source": [
    "def evaluarADN(x):\n",
    "        return [f_1(*x).count(True)]"
   ]
  },
  {
   "cell_type": "markdown",
   "metadata": {},
   "source": [
    "## Defino Fitness Esperado"
   ]
  },
  {
   "cell_type": "code",
   "execution_count": 9,
   "metadata": {},
   "outputs": [],
   "source": [
    "creator.create(\"FitnessMax\", base.Fitness, weights=(-9999,))\n",
    "creator.create(\"Individual\", list, fitness=creator.FitnessMax)"
   ]
  },
  {
   "cell_type": "markdown",
   "metadata": {},
   "source": [
    "## Defino ADN del Individuo"
   ]
  },
  {
   "cell_type": "code",
   "execution_count": 10,
   "metadata": {},
   "outputs": [],
   "source": [
    "toolbox = base.Toolbox()\n",
    "toolbox.register(\"individual\", tools.initRepeat, creator.Individual, nuevoGEN, n=20)\n",
    "toolbox.register(\"population\", tools.initRepeat, list, toolbox.individual)"
   ]
  },
  {
   "cell_type": "markdown",
   "metadata": {},
   "source": [
    "## Defino Evaluacion, Seleccion y Mutacion"
   ]
  },
  {
   "cell_type": "code",
   "execution_count": 11,
   "metadata": {},
   "outputs": [],
   "source": [
    "toolbox.register(\"evaluate\", evaluarADN)\n",
    "toolbox.register(\"mate\", tools.cxTwoPoint)\n",
    "toolbox.register(\"mutate\", tools.mutFlipBit, indpb=0.10)\n",
    "toolbox.register(\"select\", tools.selTournament, tournsize=3)"
   ]
  },
  {
   "cell_type": "code",
   "execution_count": 12,
   "metadata": {},
   "outputs": [],
   "source": [
    "def main():    \n",
    "    pop = toolbox.population(n=50)\n",
    "    hof = tools.HallOfFame(1)\n",
    "    stats = tools.Statistics(lambda ind: ind.fitness.values)\n",
    "    stats.register(\"avg\", np.mean)\n",
    "    stats.register(\"min\", np.min)\n",
    "    stats.register(\"max\", np.max)\n",
    "    pop, logbook = algorithms.eaSimple(pop, toolbox, cxpb=0.5, mutpb=0.2, ngen=10, stats=stats, halloffame=hof, verbose=True)\n",
    "    return pop, logbook, hof"
   ]
  },
  {
   "cell_type": "code",
   "execution_count": 13,
   "metadata": {},
   "outputs": [
    {
     "name": "stdout",
     "output_type": "stream",
     "text": [
      "gen\tnevals\tavg  \tmin\tmax\n",
      "0  \t50    \t80.12\t71 \t86 \n",
      "1  \t25    \t77.48\t71 \t86 \n",
      "2  \t26    \t75.6 \t70 \t85 \n",
      "3  \t30    \t73.68\t65 \t82 \n",
      "4  \t30    \t71.76\t65 \t79 \n",
      "5  \t24    \t70.24\t64 \t78 \n",
      "6  \t28    \t68.46\t64 \t75 \n",
      "7  \t35    \t67.32\t62 \t77 \n",
      "8  \t38    \t66.3 \t62 \t77 \n",
      "9  \t27    \t64.88\t62 \t72 \n",
      "10 \t28    \t64.66\t62 \t76 \n",
      "Best individual is: [True, True, True, False, True, True, False, True, False, True, False, False, True, False, True, True, False, True, False, False]\n",
      "with fitness: (62.0,)\n"
     ]
    },
    {
     "data": {
      "image/png": "[encoded data removed]",
      "text/html": [
       "\n",
       "\n",
       "<style>\n",
       "\n",
       "</style>\n",
       "\n",
       "<div id=\"fig_el295851401818168466727673644486\"></div>\n",
       "<script>\n",
       "function mpld3_load_lib(url, callback){\n",
       "  var s = document.createElement('script');\n",
       "  s.src = url;\n",
       "  s.async = true;\n",
       "  s.onreadystatechange = s.onload = callback;\n",
       "  s.onerror = function(){console.warn(\"failed to load library \" + url);};\n",
       "  document.getElementsByTagName(\"head\")[0].appendChild(s);\n",
       "}\n",
       "\n",
       "if(typeof(mpld3) !== \"undefined\" && mpld3._mpld3IsLoaded){\n",
       "   // already loaded: just create the figure\n",
       "   !function(mpld3){\n",
       "       \n",
       "       mpld3.draw_figure(\"fig_el295851401818168466727673644486\", {\"axes\": [{\"xlim\": [-0.5, 10.5], \"yscale\": \"linear\", \"axesbg\": \"#FFFFFF\", \"texts\": [{\"v_baseline\": \"hanging\", \"h_anchor\": \"middle\", \"color\": \"#000000\", \"text\": \"Generation\", \"coordinates\": \"axes\", \"zorder\": 3, \"alpha\": 1, \"fontsize\": 10.0, \"position\": [0.49999999999999994, -0.09657836644591611], \"rotation\": -0.0, \"id\": \"el29585140180988522704\"}, {\"v_baseline\": \"auto\", \"h_anchor\": \"middle\", \"color\": \"#000000\", \"text\": \"Fitness\", \"coordinates\": \"axes\", \"zorder\": 3, \"alpha\": 1, \"fontsize\": 10.0, \"position\": [-0.0709378733572282, 0.49999999999999994], \"rotation\": -90.0, \"id\": \"el29585140180988523728\"}, {\"v_baseline\": \"auto\", \"h_anchor\": \"start\", \"color\": \"#000000\", \"text\": \"average\", \"coordinates\": \"axes\", \"zorder\": 1000003.0, \"alpha\": 1, \"fontsize\": 10.0, \"position\": [0.8234020310633213, 0.18855776306107433], \"rotation\": -0.0, \"id\": \"el29585140180988338960\"}, {\"v_baseline\": \"auto\", \"h_anchor\": \"start\", \"color\": \"#000000\", \"text\": \"minimum\", \"coordinates\": \"axes\", \"zorder\": 1000003.0, \"alpha\": 1, \"fontsize\": 10.0, \"position\": [0.8234020310633213, 0.11957321559970566], \"rotation\": -0.0, \"id\": \"el29585140180988340624\"}, {\"v_baseline\": \"auto\", \"h_anchor\": \"start\", \"color\": \"#000000\", \"text\": \"maximum\", \"coordinates\": \"axes\", \"zorder\": 1000003.0, \"alpha\": 1, \"fontsize\": 10.0, \"position\": [0.8234020310633213, 0.05058866813833701], \"rotation\": -0.0, \"id\": \"el29585140180988399760\"}], \"zoomable\": true, \"images\": [], \"xdomain\": [-0.5, 10.5], \"ylim\": [60.8, 87.2], \"paths\": [{\"edgecolor\": \"#CCCCCC\", \"facecolor\": \"#FFFFFF\", \"edgewidth\": 1.0, \"pathcodes\": [\"M\", \"L\", \"S\", \"L\", \"S\", \"L\", \"S\", \"L\", \"S\", \"Z\"], \"yindex\": 1, \"coordinates\": \"axes\", \"dasharray\": \"none\", \"zorder\": 1000000.0, \"alpha\": 0.8, \"xindex\": 0, \"data\": \"data03\", \"id\": \"el29585140180988338512\"}], \"sharey\": [], \"sharex\": [], \"axesbgalpha\": null, \"axes\": [{\"scale\": \"linear\", \"tickformat\": null, \"grid\": {\"gridOn\": false}, \"visible\": true, \"fontsize\": 10.0, \"position\": \"bottom\", \"nticks\": 8, \"tickvalues\": null}, {\"scale\": \"linear\", \"tickformat\": null, \"grid\": {\"gridOn\": false}, \"visible\": true, \"fontsize\": 10.0, \"position\": \"left\", \"nticks\": 7, \"tickvalues\": null}], \"lines\": [{\"drawstyle\": \"default\", \"color\": \"#1F77B4\", \"yindex\": 1, \"coordinates\": \"data\", \"dasharray\": \"none\", \"zorder\": 2, \"alpha\": 1, \"xindex\": 0, \"linewidth\": 1.5, \"data\": \"data01\", \"id\": \"el29585140180988265872\"}, {\"drawstyle\": \"default\", \"color\": \"#FF7F0E\", \"yindex\": 2, \"coordinates\": \"data\", \"dasharray\": \"none\", \"zorder\": 2, \"alpha\": 1, \"xindex\": 0, \"linewidth\": 1.5, \"data\": \"data01\", \"id\": \"el29585140180988266064\"}, {\"drawstyle\": \"default\", \"color\": \"#2CA02C\", \"yindex\": 3, \"coordinates\": \"data\", \"dasharray\": \"none\", \"zorder\": 2, \"alpha\": 1, \"xindex\": 0, \"linewidth\": 1.5, \"data\": \"data01\", \"id\": \"el29585140180988267024\"}, {\"drawstyle\": \"default\", \"color\": \"#1F77B4\", \"yindex\": 1, \"coordinates\": \"axes\", \"dasharray\": \"none\", \"zorder\": 1000002.0, \"alpha\": 1, \"xindex\": 0, \"linewidth\": 1.5, \"data\": \"data02\", \"id\": \"el29585140180988339408\"}, {\"drawstyle\": \"default\", \"color\": \"#FF7F0E\", \"yindex\": 2, \"coordinates\": \"axes\", \"dasharray\": \"none\", \"zorder\": 1000002.0, \"alpha\": 1, \"xindex\": 0, \"linewidth\": 1.5, \"data\": \"data02\", \"id\": \"el29585140180988341136\"}, {\"drawstyle\": \"default\", \"color\": \"#2CA02C\", \"yindex\": 3, \"coordinates\": \"axes\", \"dasharray\": \"none\", \"zorder\": 1000002.0, \"alpha\": 1, \"xindex\": 0, \"linewidth\": 1.5, \"data\": \"data02\", \"id\": \"el29585140180988400272\"}], \"markers\": [], \"id\": \"el29585140181022471824\", \"ydomain\": [60.8, 87.2], \"collections\": [], \"xscale\": \"linear\", \"bbox\": [0.125, 0.125, 0.775, 0.755]}], \"height\": 288.0, \"width\": 432.0, \"plugins\": [{\"type\": \"reset\"}, {\"enabled\": false, \"button\": true, \"type\": \"zoom\"}, {\"enabled\": false, \"button\": true, \"type\": \"boxzoom\"}], \"data\": {\"data02\": [[0.7397700119474313, 0.204654157468727, 0.13566961000735833, 0.0666850625459897], [0.7995071684587813, 0.204654157468727, 0.13566961000735833, 0.0666850625459897]], \"data03\": [[0.7337962962962963, 0.02299484915378955], [0.9790919952210274, 0.02299484915378955], [0.9850657108721624, 0.02299484915378955], [0.9850657108721624, 0.03219278881530538], [0.9850657108721624, 0.23454746136865343], [0.9850657108721624, 0.24374540103016926], [0.9790919952210274, 0.24374540103016926], [0.7337962962962963, 0.24374540103016926], [0.7278225806451613, 0.24374540103016926], [0.7278225806451613, 0.23454746136865343], [0.7278225806451613, 0.03219278881530538], [0.7278225806451613, 0.02299484915378955], [0.7337962962962963, 0.02299484915378955]], \"data01\": [[0.0, 80.12, 71.0, 86.0], [1.0, 77.48, 71.0, 86.0], [2.0, 75.6, 70.0, 85.0], [3.0, 73.68, 65.0, 82.0], [4.0, 71.76, 65.0, 79.0], [5.0, 70.24, 64.0, 78.0], [6.0, 68.46, 64.0, 75.0], [7.0, 67.32, 62.0, 77.0], [8.0, 66.3, 62.0, 77.0], [9.0, 64.88, 62.0, 72.0], [10.0, 64.66, 62.0, 76.0]]}, \"id\": \"el29585140181816846672\"});\n",
       "   }(mpld3);\n",
       "}else if(typeof define === \"function\" && define.amd){\n",
       "   // require.js is available: use it to load d3/mpld3\n",
       "   require.config({paths: {d3: \"https://mpld3.github.io/js/d3.v3.min\"}});\n",
       "   require([\"d3\"], function(d3){\n",
       "      window.d3 = d3;\n",
       "      mpld3_load_lib(\"https://mpld3.github.io/js/mpld3.v0.3.js\", function(){\n",
       "         \n",
       "         mpld3.draw_figure(\"fig_el295851401818168466727673644486\", {\"axes\": [{\"xlim\": [-0.5, 10.5], \"yscale\": \"linear\", \"axesbg\": \"#FFFFFF\", \"texts\": [{\"v_baseline\": \"hanging\", \"h_anchor\": \"middle\", \"color\": \"#000000\", \"text\": \"Generation\", \"coordinates\": \"axes\", \"zorder\": 3, \"alpha\": 1, \"fontsize\": 10.0, \"position\": [0.49999999999999994, -0.09657836644591611], \"rotation\": -0.0, \"id\": \"el29585140180988522704\"}, {\"v_baseline\": \"auto\", \"h_anchor\": \"middle\", \"color\": \"#000000\", \"text\": \"Fitness\", \"coordinates\": \"axes\", \"zorder\": 3, \"alpha\": 1, \"fontsize\": 10.0, \"position\": [-0.0709378733572282, 0.49999999999999994], \"rotation\": -90.0, \"id\": \"el29585140180988523728\"}, {\"v_baseline\": \"auto\", \"h_anchor\": \"start\", \"color\": \"#000000\", \"text\": \"average\", \"coordinates\": \"axes\", \"zorder\": 1000003.0, \"alpha\": 1, \"fontsize\": 10.0, \"position\": [0.8234020310633213, 0.18855776306107433], \"rotation\": -0.0, \"id\": \"el29585140180988338960\"}, {\"v_baseline\": \"auto\", \"h_anchor\": \"start\", \"color\": \"#000000\", \"text\": \"minimum\", \"coordinates\": \"axes\", \"zorder\": 1000003.0, \"alpha\": 1, \"fontsize\": 10.0, \"position\": [0.8234020310633213, 0.11957321559970566], \"rotation\": -0.0, \"id\": \"el29585140180988340624\"}, {\"v_baseline\": \"auto\", \"h_anchor\": \"start\", \"color\": \"#000000\", \"text\": \"maximum\", \"coordinates\": \"axes\", \"zorder\": 1000003.0, \"alpha\": 1, \"fontsize\": 10.0, \"position\": [0.8234020310633213, 0.05058866813833701], \"rotation\": -0.0, \"id\": \"el29585140180988399760\"}], \"zoomable\": true, \"images\": [], \"xdomain\": [-0.5, 10.5], \"ylim\": [60.8, 87.2], \"paths\": [{\"edgecolor\": \"#CCCCCC\", \"facecolor\": \"#FFFFFF\", \"edgewidth\": 1.0, \"pathcodes\": [\"M\", \"L\", \"S\", \"L\", \"S\", \"L\", \"S\", \"L\", \"S\", \"Z\"], \"yindex\": 1, \"coordinates\": \"axes\", \"dasharray\": \"none\", \"zorder\": 1000000.0, \"alpha\": 0.8, \"xindex\": 0, \"data\": \"data03\", \"id\": \"el29585140180988338512\"}], \"sharey\": [], \"sharex\": [], \"axesbgalpha\": null, \"axes\": [{\"scale\": \"linear\", \"tickformat\": null, \"grid\": {\"gridOn\": false}, \"visible\": true, \"fontsize\": 10.0, \"position\": \"bottom\", \"nticks\": 8, \"tickvalues\": null}, {\"scale\": \"linear\", \"tickformat\": null, \"grid\": {\"gridOn\": false}, \"visible\": true, \"fontsize\": 10.0, \"position\": \"left\", \"nticks\": 7, \"tickvalues\": null}], \"lines\": [{\"drawstyle\": \"default\", \"color\": \"#1F77B4\", \"yindex\": 1, \"coordinates\": \"data\", \"dasharray\": \"none\", \"zorder\": 2, \"alpha\": 1, \"xindex\": 0, \"linewidth\": 1.5, \"data\": \"data01\", \"id\": \"el29585140180988265872\"}, {\"drawstyle\": \"default\", \"color\": \"#FF7F0E\", \"yindex\": 2, \"coordinates\": \"data\", \"dasharray\": \"none\", \"zorder\": 2, \"alpha\": 1, \"xindex\": 0, \"linewidth\": 1.5, \"data\": \"data01\", \"id\": \"el29585140180988266064\"}, {\"drawstyle\": \"default\", \"color\": \"#2CA02C\", \"yindex\": 3, \"coordinates\": \"data\", \"dasharray\": \"none\", \"zorder\": 2, \"alpha\": 1, \"xindex\": 0, \"linewidth\": 1.5, \"data\": \"data01\", \"id\": \"el29585140180988267024\"}, {\"drawstyle\": \"default\", \"color\": \"#1F77B4\", \"yindex\": 1, \"coordinates\": \"axes\", \"dasharray\": \"none\", \"zorder\": 1000002.0, \"alpha\": 1, \"xindex\": 0, \"linewidth\": 1.5, \"data\": \"data02\", \"id\": \"el29585140180988339408\"}, {\"drawstyle\": \"default\", \"color\": \"#FF7F0E\", \"yindex\": 2, \"coordinates\": \"axes\", \"dasharray\": \"none\", \"zorder\": 1000002.0, \"alpha\": 1, \"xindex\": 0, \"linewidth\": 1.5, \"data\": \"data02\", \"id\": \"el29585140180988341136\"}, {\"drawstyle\": \"default\", \"color\": \"#2CA02C\", \"yindex\": 3, \"coordinates\": \"axes\", \"dasharray\": \"none\", \"zorder\": 1000002.0, \"alpha\": 1, \"xindex\": 0, \"linewidth\": 1.5, \"data\": \"data02\", \"id\": \"el29585140180988400272\"}], \"markers\": [], \"id\": \"el29585140181022471824\", \"ydomain\": [60.8, 87.2], \"collections\": [], \"xscale\": \"linear\", \"bbox\": [0.125, 0.125, 0.775, 0.755]}], \"height\": 288.0, \"width\": 432.0, \"plugins\": [{\"type\": \"reset\"}, {\"enabled\": false, \"button\": true, \"type\": \"zoom\"}, {\"enabled\": false, \"button\": true, \"type\": \"boxzoom\"}], \"data\": {\"data02\": [[0.7397700119474313, 0.204654157468727, 0.13566961000735833, 0.0666850625459897], [0.7995071684587813, 0.204654157468727, 0.13566961000735833, 0.0666850625459897]], \"data03\": [[0.7337962962962963, 0.02299484915378955], [0.9790919952210274, 0.02299484915378955], [0.9850657108721624, 0.02299484915378955], [0.9850657108721624, 0.03219278881530538], [0.9850657108721624, 0.23454746136865343], [0.9850657108721624, 0.24374540103016926], [0.9790919952210274, 0.24374540103016926], [0.7337962962962963, 0.24374540103016926], [0.7278225806451613, 0.24374540103016926], [0.7278225806451613, 0.23454746136865343], [0.7278225806451613, 0.03219278881530538], [0.7278225806451613, 0.02299484915378955], [0.7337962962962963, 0.02299484915378955]], \"data01\": [[0.0, 80.12, 71.0, 86.0], [1.0, 77.48, 71.0, 86.0], [2.0, 75.6, 70.0, 85.0], [3.0, 73.68, 65.0, 82.0], [4.0, 71.76, 65.0, 79.0], [5.0, 70.24, 64.0, 78.0], [6.0, 68.46, 64.0, 75.0], [7.0, 67.32, 62.0, 77.0], [8.0, 66.3, 62.0, 77.0], [9.0, 64.88, 62.0, 72.0], [10.0, 64.66, 62.0, 76.0]]}, \"id\": \"el29585140181816846672\"});\n",
       "      });\n",
       "    });\n",
       "}else{\n",
       "    // require.js not available: dynamically load d3 & mpld3\n",
       "    mpld3_load_lib(\"https://mpld3.github.io/js/d3.v3.min.js\", function(){\n",
       "         mpld3_load_lib(\"https://mpld3.github.io/js/mpld3.v0.3.js\", function(){\n",
       "                 \n",
       "                 mpld3.draw_figure(\"fig_el295851401818168466727673644486\", {\"axes\": [{\"xlim\": [-0.5, 10.5], \"yscale\": \"linear\", \"axesbg\": \"#FFFFFF\", \"texts\": [{\"v_baseline\": \"hanging\", \"h_anchor\": \"middle\", \"color\": \"#000000\", \"text\": \"Generation\", \"coordinates\": \"axes\", \"zorder\": 3, \"alpha\": 1, \"fontsize\": 10.0, \"position\": [0.49999999999999994, -0.09657836644591611], \"rotation\": -0.0, \"id\": \"el29585140180988522704\"}, {\"v_baseline\": \"auto\", \"h_anchor\": \"middle\", \"color\": \"#000000\", \"text\": \"Fitness\", \"coordinates\": \"axes\", \"zorder\": 3, \"alpha\": 1, \"fontsize\": 10.0, \"position\": [-0.0709378733572282, 0.49999999999999994], \"rotation\": -90.0, \"id\": \"el29585140180988523728\"}, {\"v_baseline\": \"auto\", \"h_anchor\": \"start\", \"color\": \"#000000\", \"text\": \"average\", \"coordinates\": \"axes\", \"zorder\": 1000003.0, \"alpha\": 1, \"fontsize\": 10.0, \"position\": [0.8234020310633213, 0.18855776306107433], \"rotation\": -0.0, \"id\": \"el29585140180988338960\"}, {\"v_baseline\": \"auto\", \"h_anchor\": \"start\", \"color\": \"#000000\", \"text\": \"minimum\", \"coordinates\": \"axes\", \"zorder\": 1000003.0, \"alpha\": 1, \"fontsize\": 10.0, \"position\": [0.8234020310633213, 0.11957321559970566], \"rotation\": -0.0, \"id\": \"el29585140180988340624\"}, {\"v_baseline\": \"auto\", \"h_anchor\": \"start\", \"color\": \"#000000\", \"text\": \"maximum\", \"coordinates\": \"axes\", \"zorder\": 1000003.0, \"alpha\": 1, \"fontsize\": 10.0, \"position\": [0.8234020310633213, 0.05058866813833701], \"rotation\": -0.0, \"id\": \"el29585140180988399760\"}], \"zoomable\": true, \"images\": [], \"xdomain\": [-0.5, 10.5], \"ylim\": [60.8, 87.2], \"paths\": [{\"edgecolor\": \"#CCCCCC\", \"facecolor\": \"#FFFFFF\", \"edgewidth\": 1.0, \"pathcodes\": [\"M\", \"L\", \"S\", \"L\", \"S\", \"L\", \"S\", \"L\", \"S\", \"Z\"], \"yindex\": 1, \"coordinates\": \"axes\", \"dasharray\": \"none\", \"zorder\": 1000000.0, \"alpha\": 0.8, \"xindex\": 0, \"data\": \"data03\", \"id\": \"el29585140180988338512\"}], \"sharey\": [], \"sharex\": [], \"axesbgalpha\": null, \"axes\": [{\"scale\": \"linear\", \"tickformat\": null, \"grid\": {\"gridOn\": false}, \"visible\": true, \"fontsize\": 10.0, \"position\": \"bottom\", \"nticks\": 8, \"tickvalues\": null}, {\"scale\": \"linear\", \"tickformat\": null, \"grid\": {\"gridOn\": false}, \"visible\": true, \"fontsize\": 10.0, \"position\": \"left\", \"nticks\": 7, \"tickvalues\": null}], \"lines\": [{\"drawstyle\": \"default\", \"color\": \"#1F77B4\", \"yindex\": 1, \"coordinates\": \"data\", \"dasharray\": \"none\", \"zorder\": 2, \"alpha\": 1, \"xindex\": 0, \"linewidth\": 1.5, \"data\": \"data01\", \"id\": \"el29585140180988265872\"}, {\"drawstyle\": \"default\", \"color\": \"#FF7F0E\", \"yindex\": 2, \"coordinates\": \"data\", \"dasharray\": \"none\", \"zorder\": 2, \"alpha\": 1, \"xindex\": 0, \"linewidth\": 1.5, \"data\": \"data01\", \"id\": \"el29585140180988266064\"}, {\"drawstyle\": \"default\", \"color\": \"#2CA02C\", \"yindex\": 3, \"coordinates\": \"data\", \"dasharray\": \"none\", \"zorder\": 2, \"alpha\": 1, \"xindex\": 0, \"linewidth\": 1.5, \"data\": \"data01\", \"id\": \"el29585140180988267024\"}, {\"drawstyle\": \"default\", \"color\": \"#1F77B4\", \"yindex\": 1, \"coordinates\": \"axes\", \"dasharray\": \"none\", \"zorder\": 1000002.0, \"alpha\": 1, \"xindex\": 0, \"linewidth\": 1.5, \"data\": \"data02\", \"id\": \"el29585140180988339408\"}, {\"drawstyle\": \"default\", \"color\": \"#FF7F0E\", \"yindex\": 2, \"coordinates\": \"axes\", \"dasharray\": \"none\", \"zorder\": 1000002.0, \"alpha\": 1, \"xindex\": 0, \"linewidth\": 1.5, \"data\": \"data02\", \"id\": \"el29585140180988341136\"}, {\"drawstyle\": \"default\", \"color\": \"#2CA02C\", \"yindex\": 3, \"coordinates\": \"axes\", \"dasharray\": \"none\", \"zorder\": 1000002.0, \"alpha\": 1, \"xindex\": 0, \"linewidth\": 1.5, \"data\": \"data02\", \"id\": \"el29585140180988400272\"}], \"markers\": [], \"id\": \"el29585140181022471824\", \"ydomain\": [60.8, 87.2], \"collections\": [], \"xscale\": \"linear\", \"bbox\": [0.125, 0.125, 0.775, 0.755]}], \"height\": 288.0, \"width\": 432.0, \"plugins\": [{\"type\": \"reset\"}, {\"enabled\": false, \"button\": true, \"type\": \"zoom\"}, {\"enabled\": false, \"button\": true, \"type\": \"boxzoom\"}], \"data\": {\"data02\": [[0.7397700119474313, 0.204654157468727, 0.13566961000735833, 0.0666850625459897], [0.7995071684587813, 0.204654157468727, 0.13566961000735833, 0.0666850625459897]], \"data03\": [[0.7337962962962963, 0.02299484915378955], [0.9790919952210274, 0.02299484915378955], [0.9850657108721624, 0.02299484915378955], [0.9850657108721624, 0.03219278881530538], [0.9850657108721624, 0.23454746136865343], [0.9850657108721624, 0.24374540103016926], [0.9790919952210274, 0.24374540103016926], [0.7337962962962963, 0.24374540103016926], [0.7278225806451613, 0.24374540103016926], [0.7278225806451613, 0.23454746136865343], [0.7278225806451613, 0.03219278881530538], [0.7278225806451613, 0.02299484915378955], [0.7337962962962963, 0.02299484915378955]], \"data01\": [[0.0, 80.12, 71.0, 86.0], [1.0, 77.48, 71.0, 86.0], [2.0, 75.6, 70.0, 85.0], [3.0, 73.68, 65.0, 82.0], [4.0, 71.76, 65.0, 79.0], [5.0, 70.24, 64.0, 78.0], [6.0, 68.46, 64.0, 75.0], [7.0, 67.32, 62.0, 77.0], [8.0, 66.3, 62.0, 77.0], [9.0, 64.88, 62.0, 72.0], [10.0, 64.66, 62.0, 76.0]]}, \"id\": \"el29585140181816846672\"});\n",
       "            })\n",
       "         });\n",
       "}\n",
       "</script>"
      ],
      "text/plain": [
       "<Figure size 432x288 with 1 Axes>"
      ]
     },
     "metadata": {
      "needs_background": "light"
     },
     "output_type": "display_data"
    }
   ],
   "source": [
    "if __name__ == \"__main__\":\n",
    "    pop, log, hof = main()\n",
    "    print(\"Best individual is: %s\\nwith fitness: %s\" % (hof[0], hof[0].fitness))\n",
    "    gen, avg, min_, max_ = log.select(\"gen\", \"avg\", \"min\", \"max\")\n",
    "    plt.plot(gen, avg, label=\"average\")\n",
    "    plt.plot(gen, min_, label=\"minimum\")\n",
    "    plt.plot(gen, max_, label=\"maximum\")\n",
    "    plt.xlabel(\"Generation\")\n",
    "    plt.ylabel(\"Fitness\")\n",
    "    plt.legend(loc=\"lower right\")"
   ]
  }
 ],
 "metadata": {
  "kernelspec": {
   "display_name": "Python 2",
   "language": "python",
   "name": "python2"
  },
  "language_info": {
   "codemirror_mode": {
    "name": "ipython",
    "version": 2
   },
   "file_extension": ".py",
   "mimetype": "text/x-python",
   "name": "python",
   "nbconvert_exporter": "python",
   "pygments_lexer": "ipython2",
   "version": "2.7.15rc1"
  }
 },
 "nbformat": 4,
 "nbformat_minor": 1
}
