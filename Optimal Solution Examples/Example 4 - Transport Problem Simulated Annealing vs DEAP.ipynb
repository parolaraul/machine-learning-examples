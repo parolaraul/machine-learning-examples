{
 "cells": [
  {
   "cell_type": "markdown",
   "metadata": {},
   "source": [
    "# Example 4\n",
    "Intente resolver dos casos diferentes del problema TSP usando Simulated Annealing y un Algoritmo Evolutivo. El primer problema es de 29 ciudades y el segundo, de 101 ciudades.\n",
    "Las ubicaciones de las ciudades se encuentran dentro de una matriz contenida en el archivo con extensión 'cities.npy' mientras que los costos de ir de una ciudad a otra están contenidos en otra matriz almacenada en el archivo con extensión 'distances.npy'. Para ambos casos, se conocen las soluciones óptimas, las cuales se encuentran en los archivos con extensión 'opt.tour.npy'.\n",
    " \n",
    "Se pide que:\n",
    "\n",
    "a) Proponga una representación adecuada para las soluciones.\n",
    "\n",
    "b) Proponga una función de evaluación que le permita calcuar que tan buena es una solución.\n",
    "\n",
    "c) Defina como se generarán las soluciones vecinas al usar Simulated Annealing y cuales serán los operadores empleados en el Algoritmo Evolutivo.\n",
    "\n",
    "d) Implemente y pruebe lo de nido en los puntos anteriores. Evalúe los resultados obtenidos. Detalle todos los parámetros usados durante la ejecución de ambos algoritmos. Justifique."
   ]
  },
  {
   "cell_type": "code",
   "execution_count": 1,
   "metadata": {},
   "outputs": [],
   "source": [
    "import numpy as np\n",
    "import matplotlib.pyplot as plt\n",
    "\n",
    "\n",
    "#from matplotlib import pylab\n",
    "#import mpld3\n",
    "\n",
    "%matplotlib  inline\n",
    "#mpld3.enable_notebook()\n",
    "\n",
    "from utils.busqueda_local import hill_climb\n",
    "from utils.busqueda_local import simulated_annealing\n",
    "from deap import base, creator, tools, algorithms"
   ]
  },
  {
   "cell_type": "code",
   "execution_count": 2,
   "metadata": {},
   "outputs": [],
   "source": [
    "# -*- coding: utf-8 -*-\n",
    "\"\"\"\n",
    "Example 4: Problema del Viajante.\n",
    "\"\"\"\n",
    "\n",
    "CIUDADES = np.load('resources/bayg29.cities.npy')\n",
    "DISTANCIAS = np.load('resources/bayg29.distances.npy') # [29,29]\n",
    "RECORRIDO_OPTIMO = np.load('resources/bayg29.opt.tour.npy')  # Distancia mínima: 1610\n",
    "\n",
    "#CIUDADES = np.load('resources/eil101.cities.npy')\n",
    "#DISTANCIAS = np.load('resources/eil101.distances.npy')\n",
    "#RECORRIDO_OPTIMO = np.load('resources/eil101.opt.tour.npy')  # Distancia mínima: 629\n",
    "\n",
    "def distancia_recorrido(recorrido):\n",
    "    \"\"\" Devuelve el largo total del recorrido. \"\"\"\n",
    "    largo = 0\n",
    "    ciudad_anterior = recorrido[-1]\n",
    "    for ciudad in recorrido:\n",
    "        largo += DISTANCIAS[ciudad_anterior, ciudad]\n",
    "        ciudad_anterior = ciudad\n",
    "    return largo\n",
    "\n",
    "\n",
    "def mostrar_recorrido(recorrido):\n",
    "    r = recorrido + [recorrido[0]]\n",
    "    plt.figure(1)\n",
    "    plt.clf()\n",
    "    plt.plot(CIUDADES[0], CIUDADES[1], 'o')\n",
    "    plt.plot(CIUDADES[0, r], CIUDADES[1, r], 'r')\n",
    "    plt.show()\n",
    "\n"
   ]
  },
  {
   "cell_type": "markdown",
   "metadata": {},
   "source": [
    "# Simulated Annealing\n",
    "## Nuevos"
   ]
  },
  {
   "cell_type": "code",
   "execution_count": 3,
   "metadata": {},
   "outputs": [],
   "source": [
    "def nuevos():\n",
    "    a=np.arange(CIUDADES.shape[1])\n",
    "    np.random.shuffle(a)\n",
    "    return a"
   ]
  },
  {
   "cell_type": "markdown",
   "metadata": {},
   "source": [
    "## Evaluacion"
   ]
  },
  {
   "cell_type": "code",
   "execution_count": 4,
   "metadata": {},
   "outputs": [],
   "source": [
    "def evaluacion(x):\n",
    "    return -distancia_recorrido(x)"
   ]
  },
  {
   "cell_type": "markdown",
   "metadata": {},
   "source": [
    "## Vecinos"
   ]
  },
  {
   "cell_type": "code",
   "execution_count": 5,
   "metadata": {},
   "outputs": [],
   "source": [
    "def invertirPos(x,pos1,pos2):\n",
    "    aaa=x[pos1]\n",
    "    x[pos1]=x[pos2]\n",
    "    x[pos2]=aaa\n",
    "    return x\n",
    "\n",
    "def vecinos(x):\n",
    "    v = []\n",
    "    pos=np.random.randint(0,x.size,3)\n",
    "    while pos[0]==pos[1] & pos[1]==pos[2]:\n",
    "        pos=np.random.randint(0,x.size,3)\n",
    "    v.append(invertirPos(x,pos[0],pos[1]))\n",
    "#    v.append(invertirPos(x,pos[0],pos[2]))\n",
    "#    v.append(invertirPos(x,pos[1],pos[2]))\n",
    "    return v"
   ]
  },
  {
   "cell_type": "markdown",
   "metadata": {},
   "source": [
    "## Defino Temperaturas"
   ]
  },
  {
   "cell_type": "code",
   "execution_count": 6,
   "metadata": {},
   "outputs": [],
   "source": [
    "# Probabilidad prob de elejir soluciones peores con diferencia mayor a dif al inicio\n",
    "dif  = 0.5\n",
    "prob = 0.03\n",
    "T_max = -dif / np.log(prob)\n",
    "# Probabilidad prob de elejir soluciones peores con diferencia mayor a dif al final\n",
    "dif  = 0.05\n",
    "prob = 0.03\n",
    "T_min = -dif / np.log(prob)\n",
    "# Factor de reduccion de acuerdo a las iteraciones deseadas\n",
    "N = 30\n",
    "reduccion = np.exp(np.log(T_min / T_max) / N)"
   ]
  },
  {
   "cell_type": "markdown",
   "metadata": {},
   "source": [
    "## Busco"
   ]
  },
  {
   "cell_type": "code",
   "execution_count": 7,
   "metadata": {},
   "outputs": [],
   "source": [
    "def buscar(i):\n",
    "    mejor = nuevos()\n",
    "    e=0\n",
    "    for j in range(i):\n",
    "        mejor, evaluaciones = simulated_annealing(mejor, evaluacion, vecinos,\n",
    "                                          T_max=T_max, \n",
    "                                          T_min=T_min, \n",
    "                                          reduccion=reduccion)\n",
    "        e+=evaluaciones\n",
    "    print \"Cantidad de soluciones evaluadas:\", evaluaciones\n",
    "    print \"Valor de func para esa solución:\", evaluacion(RECORRIDO_OPTIMO)-evaluacion(mejor)\n",
    "    return mejor"
   ]
  },
  {
   "cell_type": "code",
   "execution_count": 8,
   "metadata": {},
   "outputs": [
    {
     "name": "stdout",
     "output_type": "stream",
     "text": [
      "Cantidad de soluciones evaluadas: 31\n",
      "Valor de func para esa solución: 2841\n"
     ]
    }
   ],
   "source": [
    "mejorEncontrado = buscar(50)"
   ]
  },
  {
   "cell_type": "markdown",
   "metadata": {},
   "source": [
    "# Algoritmo Evolutivo"
   ]
  },
  {
   "cell_type": "markdown",
   "metadata": {},
   "source": [
    "## Defino Fitness Esperado"
   ]
  },
  {
   "cell_type": "code",
   "execution_count": 9,
   "metadata": {},
   "outputs": [],
   "source": [
    "creator.create(\"Fitness\", base.Fitness, weights=(evaluacion(RECORRIDO_OPTIMO),))\n",
    "creator.create(\"Individual\", list, fitness=creator.Fitness)"
   ]
  },
  {
   "cell_type": "markdown",
   "metadata": {},
   "source": [
    "## Defino ADN del Individuo"
   ]
  },
  {
   "cell_type": "code",
   "execution_count": 10,
   "metadata": {},
   "outputs": [],
   "source": [
    "def nuevoCamino():\n",
    "    a=np.arange(CIUDADES.shape[1])\n",
    "    np.random.shuffle(a)\n",
    "    return a"
   ]
  },
  {
   "cell_type": "code",
   "execution_count": 11,
   "metadata": {},
   "outputs": [],
   "source": [
    "toolbox = base.Toolbox()\n",
    "toolbox.register(\"individual\", tools.initIterate, creator.Individual, nuevoCamino)\n",
    "toolbox.register(\"population\", tools.initRepeat, list, toolbox.individual)"
   ]
  },
  {
   "cell_type": "markdown",
   "metadata": {},
   "source": [
    "## Defino Evaluacion, Seleccion y Mutacion"
   ]
  },
  {
   "cell_type": "code",
   "execution_count": 12,
   "metadata": {},
   "outputs": [],
   "source": [
    "def evaluarADN(x):\n",
    "    return [distancia_recorrido(x)]"
   ]
  },
  {
   "cell_type": "code",
   "execution_count": 13,
   "metadata": {},
   "outputs": [],
   "source": [
    "toolbox.register(\"evaluate\", evaluarADN)\n",
    "toolbox.register(\"mate\", tools.cxOrdered)\n",
    "toolbox.register(\"mutate\", tools.mutShuffleIndexes, indpb=0.40)\n",
    "toolbox.register(\"select\", tools.selTournament, tournsize=5)"
   ]
  },
  {
   "cell_type": "code",
   "execution_count": 14,
   "metadata": {},
   "outputs": [],
   "source": [
    "def main():    \n",
    "    pop = toolbox.population(n=1000)\n",
    "    hof = tools.HallOfFame(1)\n",
    "    stats = tools.Statistics(lambda ind: ind.fitness.values)\n",
    "    stats.register(\"avg\", np.mean)\n",
    "    stats.register(\"min\", np.min)\n",
    "    stats.register(\"max\", np.max)\n",
    "    pop, logbook = algorithms.eaSimple(pop, toolbox, cxpb=0.5, mutpb=0.2, ngen=100, stats=stats, halloffame=hof, verbose=True)\n",
    "    return pop, logbook, hof"
   ]
  },
  {
   "cell_type": "code",
   "execution_count": 18,
   "metadata": {
    "scrolled": true
   },
   "outputs": [
    {
     "name": "stdout",
     "output_type": "stream",
     "text": [
      "gen\tnevals\tavg    \tmin \tmax \n",
      "0  \t1000  \t4751.01\t3304\t5693\n",
      "1  \t628   \t4464.74\t3304\t5543\n",
      "2  \t602   \t4238.67\t3304\t5465\n",
      "3  \t625   \t4057.84\t3100\t5587\n",
      "4  \t582   \t3859.18\t3100\t5456\n",
      "5  \t603   \t3717.02\t2887\t5419\n",
      "6  \t585   \t3586.14\t2887\t5413\n",
      "7  \t606   \t3516.3 \t2793\t5477\n",
      "8  \t646   \t3480.64\t2805\t5730\n",
      "9  \t589   \t3389.64\t2698\t5455\n",
      "10 \t620   \t3390.89\t2661\t5298\n",
      "11 \t628   \t3328.8 \t2626\t5334\n",
      "12 \t590   \t3216.39\t2584\t5529\n",
      "13 \t600   \t3195.63\t2426\t5660\n",
      "14 \t596   \t3133.37\t2426\t5621\n",
      "15 \t586   \t3057.3 \t2426\t5622\n",
      "16 \t598   \t3005.78\t2289\t5367\n",
      "17 \t621   \t2981.91\t2289\t5695\n",
      "18 \t611   \t2905.79\t2255\t5497\n",
      "19 \t585   \t2899.32\t2220\t5740\n",
      "20 \t628   \t2828.4 \t2166\t5435\n",
      "21 \t553   \t2702.85\t2084\t5327\n",
      "22 \t606   \t2782.76\t2084\t5511\n",
      "23 \t631   \t2724.82\t2012\t5261\n",
      "24 \t630   \t2679.84\t1976\t5331\n",
      "25 \t642   \t2678.94\t1976\t5606\n",
      "26 \t605   \t2561.23\t1974\t5381\n",
      "27 \t605   \t2565.42\t1881\t5721\n",
      "28 \t576   \t2489.18\t1881\t5488\n",
      "29 \t618   \t2485.91\t1865\t5168\n",
      "30 \t557   \t2435.31\t1865\t5647\n",
      "31 \t584   \t2423.2 \t1827\t5482\n",
      "32 \t613   \t2435.66\t1817\t5300\n",
      "33 \t573   \t2342.3 \t1786\t5370\n",
      "34 \t592   \t2355.67\t1786\t5320\n",
      "35 \t593   \t2355.9 \t1780\t5505\n",
      "36 \t598   \t2316.58\t1780\t5013\n",
      "37 \t568   \t2306.54\t1780\t5530\n",
      "38 \t625   \t2303.16\t1774\t5482\n",
      "39 \t576   \t2218.28\t1773\t5324\n",
      "40 \t610   \t2302.81\t1735\t5321\n",
      "41 \t611   \t2201.43\t1735\t5217\n",
      "42 \t588   \t2295.23\t1715\t5340\n",
      "43 \t618   \t2338.61\t1715\t5379\n",
      "44 \t588   \t2271.55\t1684\t5393\n",
      "45 \t615   \t2243.03\t1684\t5323\n",
      "46 \t623   \t2289.14\t1684\t5559\n",
      "47 \t581   \t2241.07\t1684\t5339\n",
      "48 \t629   \t2285.27\t1684\t5506\n",
      "49 \t628   \t2213.72\t1684\t5420\n",
      "50 \t578   \t2234.87\t1684\t5368\n",
      "51 \t589   \t2254.41\t1684\t5643\n",
      "52 \t606   \t2214.14\t1684\t5341\n",
      "53 \t605   \t2207.38\t1684\t5460\n",
      "54 \t576   \t2170.76\t1684\t5556\n",
      "55 \t603   \t2229.15\t1684\t5298\n",
      "56 \t611   \t2228.19\t1684\t5244\n",
      "57 \t580   \t2151.91\t1684\t5506\n",
      "58 \t592   \t2179.08\t1684\t5467\n",
      "59 \t623   \t2204.35\t1684\t5480\n",
      "60 \t594   \t2201.11\t1684\t5250\n",
      "61 \t609   \t2163.6 \t1684\t5302\n",
      "62 \t609   \t2149.48\t1684\t5480\n",
      "63 \t628   \t2260.81\t1684\t5364\n",
      "64 \t566   \t2189.78\t1684\t5441\n",
      "65 \t591   \t2184.47\t1684\t5297\n",
      "66 \t587   \t2213.81\t1684\t5352\n",
      "67 \t573   \t2163.8 \t1684\t5375\n",
      "68 \t605   \t2162.4 \t1684\t5587\n",
      "69 \t605   \t2147.64\t1684\t5509\n",
      "70 \t611   \t2204.03\t1684\t5345\n",
      "71 \t608   \t2235.99\t1684\t5329\n",
      "72 \t602   \t2210.76\t1684\t5289\n",
      "73 \t575   \t2194.51\t1684\t5385\n",
      "74 \t601   \t2228.07\t1684\t5556\n",
      "75 \t606   \t2225.33\t1684\t5329\n",
      "76 \t605   \t2182.27\t1684\t5563\n",
      "77 \t606   \t2214.81\t1684\t5318\n",
      "78 \t577   \t2150.02\t1684\t5360\n",
      "79 \t615   \t2182.72\t1684\t5270\n",
      "80 \t596   \t2230.98\t1684\t5261\n",
      "81 \t602   \t2234.38\t1684\t5366\n",
      "82 \t609   \t2202.45\t1684\t5459\n",
      "83 \t598   \t2237.25\t1684\t5506\n",
      "84 \t591   \t2204.46\t1684\t5449\n",
      "85 \t616   \t2238.87\t1684\t5480\n",
      "86 \t609   \t2269.8 \t1684\t5633\n",
      "87 \t630   \t2259.26\t1684\t5359\n",
      "88 \t585   \t2209.18\t1684\t5534\n",
      "89 \t636   \t2214.66\t1684\t5277\n",
      "90 \t566   \t2227.61\t1684\t5386\n",
      "91 \t591   \t2161.3 \t1684\t5303\n",
      "92 \t592   \t2226.24\t1684\t5387\n",
      "93 \t635   \t2260.57\t1684\t5514\n",
      "94 \t556   \t2243.25\t1684\t5349\n",
      "95 \t617   \t2262.17\t1684\t5312\n",
      "96 \t583   \t2211.28\t1684\t5583\n",
      "97 \t597   \t2214.02\t1684\t5339\n",
      "98 \t579   \t2200.08\t1684\t5302\n",
      "99 \t601   \t2240.38\t1684\t5565\n",
      "100\t620   \t2253.3 \t1684\t5504\n",
      "Best individual is: [18, 24, 6, 22, 26, 7, 23, 15, 12, 20, 0, 27, 5, 11, 8, 4, 25, 28, 2, 1, 19, 9, 17, 13, 16, 21, 10, 14, 3]\n",
      "with fitness: (1684.0,)\n"
     ]
    },
    {
     "data": {
      "image/png": "[encoded data removed]",
      "text/plain": [
       "<Figure size 432x288 with 1 Axes>"
      ]
     },
     "metadata": {
      "needs_background": "light"
     },
     "output_type": "display_data"
    }
   ],
   "source": [
    "if __name__ == \"__main__\":\n",
    "    pop, log, hof = main()\n",
    "    print(\"Best individual is: %s\\nwith fitness: %s\" % (hof[0], hof[0].fitness))\n",
    "    gen, avg, min_, max_ = log.select(\"gen\", \"avg\", \"min\", \"max\")\n",
    "    plt.plot(gen, avg, label=\"average\")\n",
    "    plt.plot(gen, min_, label=\"minimum\")\n",
    "    plt.plot(gen, max_, label=\"maximum\")\n",
    "    plt.xlabel(\"Generation\")\n",
    "    plt.ylabel(\"Fitness\")\n",
    "    plt.legend(loc=\"lower right\")"
   ]
  },
  {
   "cell_type": "code",
   "execution_count": 19,
   "metadata": {
    "scrolled": true
   },
   "outputs": [
    {
     "name": "stdout",
     "output_type": "stream",
     "text": [
      "Mejor Encontrado: 1684\n"
     ]
    },
    {
     "data": {
      "image/png": "[encoded data removed]",
      "text/plain": [
       "<Figure size 432x288 with 1 Axes>"
      ]
     },
     "metadata": {
      "needs_background": "light"
     },
     "output_type": "display_data"
    }
   ],
   "source": [
    "print \"Mejor Encontrado:\", -evaluacion(hof[0])\n",
    "mostrar_recorrido(hof[0])"
   ]
  },
  {
   "cell_type": "code",
   "execution_count": 20,
   "metadata": {
    "scrolled": true
   },
   "outputs": [
    {
     "name": "stdout",
     "output_type": "stream",
     "text": [
      "MEJOR RECORRIDO: 1610\n"
     ]
    },
    {
     "data": {
      "image/png": "[encoded data removed]",
      "text/plain": [
       "<Figure size 432x288 with 1 Axes>"
      ]
     },
     "metadata": {
      "needs_background": "light"
     },
     "output_type": "display_data"
    }
   ],
   "source": [
    "print \"MEJOR RECORRIDO:\", -evaluacion(RECORRIDO_OPTIMO)\n",
    "mostrar_recorrido(RECORRIDO_OPTIMO)"
   ]
  },
  {
   "cell_type": "code",
   "execution_count": null,
   "metadata": {},
   "outputs": [],
   "source": []
  }
 ],
 "metadata": {
  "kernelspec": {
   "display_name": "Python 2",
   "language": "python",
   "name": "python2"
  },
  "language_info": {
   "codemirror_mode": {
    "name": "ipython",
    "version": 2
   },
   "file_extension": ".py",
   "mimetype": "text/x-python",
   "name": "python",
   "nbconvert_exporter": "python",
   "pygments_lexer": "ipython2",
   "version": "2.7.15rc1"
  }
 },
 "nbformat": 4,
 "nbformat_minor": 1
}
