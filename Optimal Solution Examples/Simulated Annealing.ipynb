{
 "cells": [
  {
   "cell_type": "markdown",
   "metadata": {},
   "source": [
    "# Simulated Annealing"
   ]
  },
  {
   "cell_type": "code",
   "execution_count": 1,
   "metadata": {
    "collapsed": false
   },
   "outputs": [],
   "source": [
    "%matplotlib inline"
   ]
  },
  {
   "cell_type": "code",
   "execution_count": 2,
   "metadata": {
    "collapsed": false
   },
   "outputs": [],
   "source": [
    "import numpy as np\n",
    "import matplotlib.pyplot as plt\n",
    "import random"
   ]
  },
  {
   "cell_type": "markdown",
   "metadata": {},
   "source": [
    "# Definición del problema"
   ]
  },
  {
   "cell_type": "markdown",
   "metadata": {},
   "source": [
    "El objetivo de este ejemplo es encontrar el máximo de la función $f(x) = x \\, \\sin(4x \\, - \\, 2$), evaluada dentro del intervalo $[-2, 3]$. Supongamos que los números con los que vamos a trabajar los queremos representar con una presición de dos dígitos decimales (es decir, no habrán valores representables entre 0 y 0.01, por ejemplo).\n",
    "\n",
    "Para comenzar, definimos la función en cuestión:"
   ]
  },
  {
   "cell_type": "code",
   "execution_count": 3,
   "metadata": {
    "collapsed": false
   },
   "outputs": [],
   "source": [
    "maximo = 3\n",
    "minimo = -2\n",
    "prec = 0.01\n",
    "\n",
    "def func(x):\n",
    "    return x * np.sin(4 * x - 2)"
   ]
  },
  {
   "cell_type": "markdown",
   "metadata": {},
   "source": [
    "En este caso, que es un problema ficticio, podemos graficar la función y observar donde se encuentra el máximo.\n",
    "\n",
    "O mejor, aplicando análisis matemático, podemos calcular la derivada de la función y calcular sus ceros, para luego ver cual de ellos es el máximo global.\n",
    "\n",
    "$\\frac{df(x)}{dx} = \\frac{d \\left( x\\,\\sin(4x\\,-\\,2) \\right)}{dx} = 4x\\,\\cos(2\\,-\\,4x)\\,-\\,\\sin(2\\,-\\,4x) = 0$\n",
    "\n",
    "Esto permite estimar el máximo en $ x \\approx 2.48852668729269 $"
   ]
  },
  {
   "cell_type": "code",
   "execution_count": 4,
   "metadata": {
    "collapsed": false
   },
   "outputs": [
    {
     "data": {
      "text/plain": [
       "[<matplotlib.lines.Line2D at 0x105a50f98>]"
      ]
     },
     "execution_count": 4,
     "metadata": {},
     "output_type": "execute_result"
    },
    {
     "data": {
      "image/png": "[encoded data removed]",
      "text/plain": [
       "<matplotlib.figure.Figure at 0x1059ef630>"
      ]
     },
     "metadata": {},
     "output_type": "display_data"
    }
   ],
   "source": [
    "X = np.arange(minimo, maximo, prec)\n",
    "plt.plot(X, func(X))\n",
    "\n",
    "maximo_x = 2.48852668729269\n",
    "plt.plot(maximo_x, func(maximo_x), 'or')"
   ]
  },
  {
   "cell_type": "markdown",
   "metadata": {},
   "source": [
    "# Implementación del Algoritmo"
   ]
  },
  {
   "cell_type": "markdown",
   "metadata": {},
   "source": [
    "Al igual que con *Hill Climbing*, si se quiere utilizar a *Simulated Annealing* como heurística de búsqueda, debemos definir estas tres cuestiones:\n",
    "\n",
    "1. Cómo se van a representar las potenciales soluciones al problema y de que manera se podrán generar soluciones al azar.\n",
    "\n",
    "2. Cómo calificar una soluciones potencial, para comparar dos soluciones representadas y poder determinar cual de las dos es mejor que la otra intentando resolver el problema (aunque ninguna de las dos realmente lo resuelva).\n",
    "\n",
    "3. Cómo generar a partir de una solución dada un conjunto de nuevas soluciones vecinas a esta, lo que implica definir además una métrica de distancia entre soluciones.\n",
    " \n",
    "El algoritmo puede implementarse de la siguiente forma:"
   ]
  },
  {
   "cell_type": "code",
   "execution_count": 5,
   "metadata": {
    "collapsed": false
   },
   "outputs": [],
   "source": [
    "def simulated_annealing(solucion_inicial, evaluacion, obtener_vecinos,\n",
    "                        T_max, T_min, reduccion):\n",
    "    \"\"\"\n",
    "    Simulated Annealing.\n",
    "    \"\"\"\n",
    "    from random import random\n",
    "\n",
    "    solucion_mejor = solucion_actual = solucion_inicial\n",
    "    evaluacion_mejor = evaluacion_actual = evaluacion(solucion_actual)\n",
    "    soluciones_evaluadas = 1\n",
    "\n",
    "    T = T_max\n",
    "    while T >= T_min:\n",
    "        vecinos = obtener_vecinos(solucion_actual)\n",
    "        for vecino in vecinos:\n",
    "            evaluacion_vecino = evaluacion(vecino)\n",
    "            soluciones_evaluadas += 1\n",
    "            \n",
    "            if (evaluacion_vecino > evaluacion_actual or\n",
    "                random() < np.exp((evaluacion_vecino - evaluacion_actual) / T)):\n",
    "                solucion_actual = vecino\n",
    "                evaluacion_actual = evaluacion_vecino\n",
    "                if evaluacion_mejor < evaluacion_actual:\n",
    "                    solucion_mejor = solucion_actual\n",
    "                    evaluacion_mejor = evaluacion_actual\n",
    "\n",
    "        T = reduccion * T\n",
    "\n",
    "    return solucion_mejor, soluciones_evaluadas"
   ]
  },
  {
   "cell_type": "markdown",
   "metadata": {},
   "source": [
    "# Representación y generación de potenciales soluciones"
   ]
  },
  {
   "cell_type": "markdown",
   "metadata": {},
   "source": [
    "Si a las soluciones se las representan como valores en punto flotante, puede generarse una solución al azar usando la función `random()` y escalando el valor al intervalo de trabajo, redondeando con `round()` a la cantidad de decimales que define la precisión."
   ]
  },
  {
   "cell_type": "code",
   "execution_count": 6,
   "metadata": {
    "collapsed": false
   },
   "outputs": [],
   "source": [
    "def nueva():\n",
    "    return round(minimo + random.random() * (maximo - minimo), 2)"
   ]
  },
  {
   "cell_type": "code",
   "execution_count": 7,
   "metadata": {
    "collapsed": false
   },
   "outputs": [
    {
     "name": "stdout",
     "output_type": "stream",
     "text": [
      "2.6    1.99    0.03    0.0    1.88    1.14\n"
     ]
    }
   ],
   "source": [
    "print(nueva(), nueva(), nueva(), nueva(), nueva(), nueva(), sep='    ')"
   ]
  },
  {
   "cell_type": "markdown",
   "metadata": {},
   "source": [
    "# Evaluación de las soluciones"
   ]
  },
  {
   "cell_type": "markdown",
   "metadata": {},
   "source": [
    "Para evaluar una solución, podemos usar directamente la función que queremos maximizar ya que si la calificación de un punto será el valor de la función evaluada en ese punto, cuanto mayor sea mejor será resolviendo el problema."
   ]
  },
  {
   "cell_type": "code",
   "execution_count": 8,
   "metadata": {
    "collapsed": false
   },
   "outputs": [],
   "source": [
    "def evaluacion(x):\n",
    "    return func(x)"
   ]
  },
  {
   "cell_type": "markdown",
   "metadata": {},
   "source": [
    "# Generación de soluciones vecinas"
   ]
  },
  {
   "cell_type": "markdown",
   "metadata": {},
   "source": [
    "Para generar soluciones dentro de la vecindad de una solución dada, simplemente generamos 4 nuevas soluciones: $[ x-0.03, x-0.01, x+0.01, x+0.03]$. Estas cuatro soluciones tienen la particularidad que se encuentran dentro del entorno $(x \\pm 0.05)$ y son valores representados con la precisión deseada.\n",
    "\n",
    "Es importante tomar la precaución de no generar soluciones fuera del rango permitido. Por ejemplo, si $x=3$, no deberían generarse soluciones mayores que x pues se encontrarían fuera del rango fijado para el problema."
   ]
  },
  {
   "cell_type": "code",
   "execution_count": 9,
   "metadata": {
    "collapsed": false
   },
   "outputs": [],
   "source": [
    "def vecinos(x):\n",
    "    v = []\n",
    "    d = -0.03\n",
    "    for i in range(4):\n",
    "        n = x + d\n",
    "        if n >= minimo and n <= maximo:\n",
    "            v.append(n)\n",
    "        d += 0.02\n",
    "    return v"
   ]
  },
  {
   "cell_type": "code",
   "execution_count": 10,
   "metadata": {
    "collapsed": false
   },
   "outputs": [
    {
     "name": "stdout",
     "output_type": "stream",
     "text": [
      "[0.47, 0.49, 0.51, 0.53]\n",
      "[0.97, 0.99, 1.01, 1.03]\n",
      "[-1.99, -1.97]\n",
      "[2.97, 2.99]\n"
     ]
    }
   ],
   "source": [
    "print(vecinos(0.5), vecinos(1), vecinos(minimo), vecinos(maximo), sep=\"\\n\")"
   ]
  },
  {
   "cell_type": "markdown",
   "metadata": {},
   "source": [
    "# Parámetros del algoritmo"
   ]
  },
  {
   "cell_type": "markdown",
   "metadata": {},
   "source": [
    "Para determinar la temperatura inicial (`T_max`) o la temperatura final (`T_min`), debemos preguntarnos:\n",
    "\n",
    "¿Con qué probabilidad $prob$ quiero que se elijan soluciones peores que la actual en $E = eval(vecino) - eval(actual)$?\n",
    "\n",
    "Sabiendo que $prob = e^{\\frac{eval(vecino) - eval(actual)}{t}}$, obtenemos que $T = \\frac{eval(vecino) - eval(actual)}{ln(prob)}$.\n",
    "\n",
    "Así, si se quiere que inicialmente no se acepten soluciones peores que la actual en $0.5$, usando como $prob = 0.01$, se obtiene:"
   ]
  },
  {
   "cell_type": "code",
   "execution_count": 11,
   "metadata": {
    "collapsed": false
   },
   "outputs": [
    {
     "data": {
      "text/plain": [
       "0.10857362047581297"
      ]
     },
     "execution_count": 11,
     "metadata": {},
     "output_type": "execute_result"
    }
   ],
   "source": [
    "dif  = 0.5\n",
    "prob = 0.01\n",
    "\n",
    "T_max = -dif / np.log(prob)\n",
    "T_max"
   ]
  },
  {
   "cell_type": "markdown",
   "metadata": {},
   "source": [
    "Graficando la curva de probabilidad de aceptración para `T_max`:"
   ]
  },
  {
   "cell_type": "code",
   "execution_count": 12,
   "metadata": {
    "collapsed": false
   },
   "outputs": [
    {
     "data": {
      "image/png": "[encoded data removed]",
      "text/plain": [
       "<matplotlib.figure.Figure at 0x105a19cf8>"
      ]
     },
     "metadata": {},
     "output_type": "display_data"
    }
   ],
   "source": [
    "X = np.linspace(-2*dif, 0, 100)\n",
    "plt.plot(X, np.exp(X / T_max), -dif, prob, '+r');"
   ]
  },
  {
   "cell_type": "markdown",
   "metadata": {},
   "source": [
    "De la misma forma, si al final de la ejecución no se quieren soluciones peores que la actual en $0.01$, usando como $prob = 0.01$, se obtiene:"
   ]
  },
  {
   "cell_type": "code",
   "execution_count": 13,
   "metadata": {
    "collapsed": false
   },
   "outputs": [
    {
     "data": {
      "text/plain": [
       "0.0021714724095162593"
      ]
     },
     "execution_count": 13,
     "metadata": {},
     "output_type": "execute_result"
    }
   ],
   "source": [
    "dif  = 0.01\n",
    "prob = 0.01\n",
    "\n",
    "T_min = -dif / np.log(prob)\n",
    "T_min"
   ]
  },
  {
   "cell_type": "code",
   "execution_count": 14,
   "metadata": {
    "collapsed": false
   },
   "outputs": [
    {
     "data": {
      "image/png": "[encoded data removed]",
      "text/plain": [
       "<matplotlib.figure.Figure at 0x105adb860>"
      ]
     },
     "metadata": {},
     "output_type": "display_data"
    }
   ],
   "source": [
    "X = np.linspace(-2*dif, 0, 100)\n",
    "plt.plot(X, np.exp(X / T_min), -dif, prob, '+r');"
   ]
  },
  {
   "cell_type": "markdown",
   "metadata": {},
   "source": [
    "El factor de reducción estará asociado a la cantidad de pasos que queremos realizar para ir desde `T_max` hasta `T_min`. El algoritmo funcionará reduciendo la temperatura actual multiplicándola por el factor de reducción: $T_{(i)} = r \\cdot T_{(i-1)}$\n",
    "\n",
    "Partiendo con $T = T_{max}$ y reduciendo la temperatura de la forma indicada, $T < T_{min}$ cuando $T_{max} \\cdot  r \\cdot  r \\cdot \\, ... \\, \\cdot  r < T_{min}$, o sea,  $T_{max} \\cdot  r ^ N < T_{min}$.\n",
    "\n",
    "Así, para determinar el factor de reducción $r$ a partir de la cantidad de reducciones $N$ que se quiera hacer, simplemente puede calcularse:\n",
    "\n",
    "$T_{max} \\cdot  r ^ N = T_{min}\n",
    "\\quad \\Rightarrow \\quad\n",
    "r ^ N = \\frac{T_{min}}{T_{max}}\n",
    "\\quad \\Rightarrow \\quad\n",
    "\\log {r ^ N} = \\log {\\frac{T_{min}}{T_{max}}}\n",
    "\\quad \\Rightarrow \\quad\n",
    "N \\cdot \\log r = \\log {\\frac{T_{min}}{T_{max}}}\n",
    "\\quad \\Rightarrow \\quad\n",
    "\\log r = \\frac {\\log {\\frac{T_{min}}{T_{max}}}} {N}\n",
    "\\quad \\Rightarrow \\quad\n",
    "r = e ^ {\\left ( {\\frac {\\log {\\frac{T_{min}}{T_{max}}}} {N}} \\right ) }$\n",
    "\n",
    "Si $N = 30$, el factor de reducción $r$ a usar sería:"
   ]
  },
  {
   "cell_type": "code",
   "execution_count": 15,
   "metadata": {
    "collapsed": false
   },
   "outputs": [
    {
     "data": {
      "text/plain": [
       "0.8777435898906345"
      ]
     },
     "execution_count": 15,
     "metadata": {},
     "output_type": "execute_result"
    }
   ],
   "source": [
    "N = 30\n",
    "reduccion = np.exp(np.log(T_min / T_max) / N)\n",
    "reduccion"
   ]
  },
  {
   "cell_type": "markdown",
   "metadata": {},
   "source": [
    "Podemos comprobar que eso es efectivamente así:"
   ]
  },
  {
   "cell_type": "code",
   "execution_count": 16,
   "metadata": {
    "collapsed": false
   },
   "outputs": [
    {
     "name": "stdout",
     "output_type": "stream",
     "text": [
      "Iteración 0 - Temperatura: 0.108573620476\n",
      "Iteración 1 - Temperatura: 0.0952997994039\n",
      "Iteración 2 - Temperatura: 0.0836487880446\n",
      "Iteración 3 - Temperatura: 0.0734221875083\n",
      "Iteración 4 - Temperatura: 0.0644458544411\n",
      "Iteración 5 - Temperatura: 0.0565669356307\n",
      "Iteración 6 - Temperatura: 0.0496512651496\n",
      "Iteración 7 - Temperatura: 0.043581079715\n",
      "Iteración 8 - Temperatura: 0.0382530133604\n",
      "Iteración 9 - Temperatura: 0.0335763372711\n",
      "Iteración 10 - Temperatura: 0.0294714148117\n",
      "Iteración 11 - Temperatura: 0.025868345436\n",
      "Iteración 12 - Temperatura: 0.0227057743875\n",
      "Iteración 13 - Temperatura: 0.0199298479221\n",
      "Iteración 14 - Temperatura: 0.0174932962612\n",
      "Iteración 15 - Temperatura: 0.0153546286593\n",
      "Iteración 16 - Temperatura: 0.0134774268808\n",
      "Iteración 17 - Temperatura: 0.0118297250529\n",
      "Iteración 18 - Temperatura: 0.0103834653353\n",
      "Iteración 19 - Temperatura: 0.00911402013894\n",
      "Iteración 20 - Temperatura: 0.00799977275509\n",
      "Iteración 21 - Temperatura: 0.00702174925636\n",
      "Iteración 22 - Temperatura: 0.00616329539959\n",
      "Iteración 23 - Temperatura: 0.00540979302959\n",
      "Iteración 24 - Temperatura: 0.00474841115436\n",
      "Iteración 25 - Temperatura: 0.0041678874529\n",
      "Iteración 26 - Temperatura: 0.00365833649517\n",
      "Iteración 27 - Temperatura: 0.0032110814083\n",
      "Iteración 28 - Temperatura: 0.00281850612275\n",
      "Iteración 29 - Temperatura: 0.00247392568231\n",
      "Iteración 30 - Temperatura: 0.00217147240952\n"
     ]
    }
   ],
   "source": [
    "i = 0\n",
    "T = T_max\n",
    "while T >= T_min:\n",
    "    print(\"Iteración\", i, \"- Temperatura:\", T)\n",
    "    T = reduccion * T\n",
    "    i += 1"
   ]
  },
  {
   "cell_type": "markdown",
   "metadata": {},
   "source": [
    "# Obteniendo resultados"
   ]
  },
  {
   "cell_type": "markdown",
   "metadata": {},
   "source": [
    "Finalmente, podemos invocar al algoritmo generando una solución inicial al azar y pasando la función de evaluación y la función generadora de vecinos:"
   ]
  },
  {
   "cell_type": "code",
   "execution_count": 17,
   "metadata": {
    "collapsed": false
   },
   "outputs": [],
   "source": [
    "inicial = nueva()\n",
    "mejor, evaluaciones = simulated_annealing(inicial, evaluacion, vecinos,\n",
    "                                          T_max=T_max, \n",
    "                                          T_min=T_min, \n",
    "                                          reduccion=reduccion)"
   ]
  },
  {
   "cell_type": "markdown",
   "metadata": {},
   "source": [
    "Podemos ver el resultado de la ejecución junto con la cantidad de soluciones que tuvieron que evaluarse para conseguirla:"
   ]
  },
  {
   "cell_type": "code",
   "execution_count": 18,
   "metadata": {
    "collapsed": false
   },
   "outputs": [
    {
     "name": "stdout",
     "output_type": "stream",
     "text": [
      "Cantidad de soluciones evaluadas: 125\n",
      "Solución inicial: -1.95\n",
      "Solución obtenida: -1.4999999999999996\n",
      "Valor de func para esa solución: 1.48403736994\n"
     ]
    },
    {
     "data": {
      "image/png": "[encoded data removed]",
      "text/plain": [
       "<matplotlib.figure.Figure at 0x105ba4128>"
      ]
     },
     "metadata": {},
     "output_type": "display_data"
    }
   ],
   "source": [
    "X = np.arange(minimo, maximo, prec)\n",
    "\n",
    "plt.plot(X, func(X),\n",
    "         maximo_x, func(maximo_x), 'or',  # Punto rojo: Máximo de la función\n",
    "         inicial, func(inicial), 'oy',    # Punto amarillo: Solución inicial\n",
    "         mejor, func(mejor), 'ob')        # Punto azul: Mejor solución encontrada\n",
    "\n",
    "print(\"Cantidad de soluciones evaluadas:\", evaluaciones)\n",
    "print(\"Solución inicial:\", inicial)\n",
    "print(\"Solución obtenida:\", mejor)\n",
    "print(\"Valor de func para esa solución:\", func(mejor))"
   ]
  },
  {
   "cell_type": "markdown",
   "metadata": {},
   "source": [
    "Podemos interactuar con el algoritmo observando todas las soluciones que generó a lo largo de su ejecución. Para ello, modificamos el algoritmo para que las devuelva:"
   ]
  },
  {
   "cell_type": "code",
   "execution_count": 19,
   "metadata": {
    "collapsed": false
   },
   "outputs": [],
   "source": [
    "def simulated_annealing(solucion_inicial, evaluacion, obtener_vecinos,\n",
    "                        T_max, T_min, reduccion):\n",
    "    \"\"\"\n",
    "    Simulated Annealing.\n",
    "    \"\"\"\n",
    "    from random import random\n",
    "\n",
    "    soluciones = [solucion_inicial]\n",
    "    solucion_mejor = solucion_actual = solucion_inicial\n",
    "    evaluacion_mejor = evaluacion_actual = evaluacion(solucion_actual)\n",
    "    soluciones_evaluadas = 1\n",
    "\n",
    "    T = T_max\n",
    "    while T >= T_min:\n",
    "        vecinos = obtener_vecinos(solucion_actual)\n",
    "        for vecino in vecinos:\n",
    "            evaluacion_vecino = evaluacion(vecino)\n",
    "            soluciones_evaluadas += 1\n",
    "            \n",
    "            if (evaluacion_vecino > evaluacion_actual or\n",
    "                random() < np.exp((evaluacion_vecino - evaluacion_actual) / T)):\n",
    "                solucion_actual = vecino\n",
    "                evaluacion_actual = evaluacion_vecino\n",
    "                soluciones.append(vecino)\n",
    "                if evaluacion_mejor < evaluacion_actual:\n",
    "                    solucion_mejor = solucion_actual\n",
    "                    evaluacion_mejor = evaluacion_actual\n",
    "\n",
    "        T = reduccion * T\n",
    "\n",
    "    return solucion_mejor, soluciones_evaluadas, soluciones"
   ]
  },
  {
   "cell_type": "code",
   "execution_count": 20,
   "metadata": {
    "collapsed": false
   },
   "outputs": [
    {
     "name": "stderr",
     "output_type": "stream",
     "text": [
      "/Users/raulparola/anaconda/lib/python3.4/site-packages/IPython/html.py:14: ShimWarning: The `IPython.html` package has been deprecated. You should import from `notebook` instead. `IPython.html.widgets` has moved to `ipywidgets`.\n",
      "  \"`IPython.html.widgets` has moved to `ipywidgets`.\", ShimWarning)\n"
     ]
    },
    {
     "ename": "ImportError",
     "evalue": "No module named 'widgets'",
     "output_type": "error",
     "traceback": [
      "\u001b[0;31m---------------------------------------------------------------------------\u001b[0m",
      "\u001b[0;31mImportError\u001b[0m                               Traceback (most recent call last)",
      "\u001b[0;32m<ipython-input-20-8343ee161b83>\u001b[0m in \u001b[0;36m<module>\u001b[0;34m()\u001b[0m\n\u001b[0;32m----> 1\u001b[0;31m \u001b[0;32mfrom\u001b[0m \u001b[0mIPython\u001b[0m\u001b[0;34m.\u001b[0m\u001b[0mhtml\u001b[0m\u001b[0;34m.\u001b[0m\u001b[0mwidgets\u001b[0m \u001b[0;32mimport\u001b[0m \u001b[0minteract\u001b[0m\u001b[0;34m,\u001b[0m \u001b[0mIntSliderWidget\u001b[0m\u001b[0;34m\u001b[0m\u001b[0m\n\u001b[0m",
      "\u001b[0;31mImportError\u001b[0m: No module named 'widgets'"
     ]
    }
   ],
   "source": [
    "from IPython.html.widgets import interact, IntSliderWidget"
   ]
  },
  {
   "cell_type": "markdown",
   "metadata": {},
   "source": [
    "El siguiente código ejecuta el algorimo modificado y grafica en forma interactiva cada una de las soluciones elegidas (en color verde) comenzando a partir de la solución inicial (color amarillo). También indica el máximo de la función (color rojo) y la mejor solución encontrada durante la ejecución (color azul):"
   ]
  },
  {
   "cell_type": "code",
   "execution_count": 21,
   "metadata": {
    "collapsed": false
   },
   "outputs": [
    {
     "ename": "NameError",
     "evalue": "name 'interact' is not defined",
     "output_type": "error",
     "traceback": [
      "\u001b[0;31m---------------------------------------------------------------------------\u001b[0m",
      "\u001b[0;31mNameError\u001b[0m                                 Traceback (most recent call last)",
      "\u001b[0;32m<ipython-input-21-1505758fdc16>\u001b[0m in \u001b[0;36m<module>\u001b[0;34m()\u001b[0m\n\u001b[1;32m     16\u001b[0m     \u001b[0mplt\u001b[0m\u001b[0;34m.\u001b[0m\u001b[0mshow\u001b[0m\u001b[0;34m(\u001b[0m\u001b[0;34m)\u001b[0m\u001b[0;34m\u001b[0m\u001b[0m\n\u001b[1;32m     17\u001b[0m \u001b[0;34m\u001b[0m\u001b[0m\n\u001b[0;32m---> 18\u001b[0;31m \u001b[0mi\u001b[0m \u001b[0;34m=\u001b[0m \u001b[0minteract\u001b[0m\u001b[0;34m(\u001b[0m\u001b[0mp\u001b[0m\u001b[0;34m,\u001b[0m \u001b[0mt\u001b[0m\u001b[0;34m=\u001b[0m\u001b[0mIntSliderWidget\u001b[0m\u001b[0;34m(\u001b[0m\u001b[0mmin\u001b[0m\u001b[0;34m=\u001b[0m\u001b[0;36m0\u001b[0m\u001b[0;34m,\u001b[0m \u001b[0mmax\u001b[0m\u001b[0;34m=\u001b[0m\u001b[0mlen\u001b[0m\u001b[0;34m(\u001b[0m\u001b[0msoluciones\u001b[0m\u001b[0;34m)\u001b[0m\u001b[0;34m-\u001b[0m\u001b[0;36m1\u001b[0m\u001b[0;34m,\u001b[0m \u001b[0mstep\u001b[0m\u001b[0;34m=\u001b[0m\u001b[0;36m1\u001b[0m\u001b[0;34m,\u001b[0m \u001b[0mvalue\u001b[0m\u001b[0;34m=\u001b[0m\u001b[0;36m0\u001b[0m\u001b[0;34m)\u001b[0m\u001b[0;34m)\u001b[0m\u001b[0;34m\u001b[0m\u001b[0m\n\u001b[0m\u001b[1;32m     19\u001b[0m \u001b[0;34m\u001b[0m\u001b[0m\n\u001b[1;32m     20\u001b[0m \u001b[0mprint\u001b[0m\u001b[0;34m(\u001b[0m\u001b[0;34m\"Cantidad de soluciones evaluadas:\"\u001b[0m\u001b[0;34m,\u001b[0m \u001b[0mevaluaciones\u001b[0m\u001b[0;34m)\u001b[0m\u001b[0;34m\u001b[0m\u001b[0m\n",
      "\u001b[0;31mNameError\u001b[0m: name 'interact' is not defined"
     ]
    }
   ],
   "source": [
    "# Usando una solución inicial fija, puede verse como cambia el comportamiento del algoritmo.\n",
    "inicial = 1.6\n",
    "\n",
    "mejor, evaluaciones, soluciones = simulated_annealing(inicial, evaluacion, vecinos,\n",
    "                                          T_max=T_max, T_min=T_min, reduccion=reduccion)\n",
    "\n",
    "X = np.arange(minimo, maximo, prec)\n",
    "puntos = np.array(soluciones)\n",
    "\n",
    "def p(t):\n",
    "    plt.plot(X, func(X),\n",
    "         maximo_x, func(maximo_x), 'or',    # Punto rojo: Máximo de la función\n",
    "         inicial, func(inicial), 'oy',      # Punto amarillo: Solución inicial\n",
    "         puntos[t], func(puntos[t]), 'og',  # Punto verde: Solución intermedia\n",
    "         mejor, func(mejor), 'ob')          # Punto azul: Mejor solución hallada\n",
    "    plt.show()\n",
    "    \n",
    "i = interact(p, t=IntSliderWidget(min=0, max=len(soluciones)-1, step=1, value=0))\n",
    "\n",
    "print(\"Cantidad de soluciones evaluadas:\", evaluaciones)"
   ]
  },
  {
   "cell_type": "code",
   "execution_count": null,
   "metadata": {
    "collapsed": false
   },
   "outputs": [],
   "source": []
  },
  {
   "cell_type": "code",
   "execution_count": null,
   "metadata": {
    "collapsed": true
   },
   "outputs": [],
   "source": []
  },
  {
   "cell_type": "code",
   "execution_count": null,
   "metadata": {
    "collapsed": true
   },
   "outputs": [],
   "source": []
  }
 ],
 "metadata": {
  "kernelspec": {
   "display_name": "Python 3",
   "language": "python",
   "name": "python3"
  },
  "language_info": {
   "codemirror_mode": {
    "name": "ipython",
    "version": 3
   },
   "file_extension": ".py",
   "mimetype": "text/x-python",
   "name": "python",
   "nbconvert_exporter": "python",
   "pygments_lexer": "ipython3",
   "version": "3.4.3"
  }
 },
 "nbformat": 4,
 "nbformat_minor": 0
}
