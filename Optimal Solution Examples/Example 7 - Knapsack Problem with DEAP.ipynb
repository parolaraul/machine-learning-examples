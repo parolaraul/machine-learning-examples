{
 "cells": [
  {
   "cell_type": "markdown",
   "metadata": {},
   "source": [
    "# Example 7\n",
    "Un ladrón intenta decidir que cosas llevarse tras haber conseguido entrar a una tienda de electrodomésticos. El problema es que debe elegir entre 10 electrodomésticos, todos de distinto precio y peso, pero solo trajo 2 bolsas para llevarlos, con 51 y 78 kilogramos de capacidad. Como son productos que están en exposición, solo hay uno de cada tipo y, por lo tanto, no podría llevarse dos o más productos iguales.\n",
    "Describa un método que le ayude a este malhechor a elegir la combinación óptima de productos (o una que esté lo más cercano posible a la óptima), de forma de obtener la mayor ganancia y no excederse de la capacidad de sus bolsas.\n",
    "Detalle y justi que todas las decisiones tomadas con respecto al método, parámetros empleados, representación, etc. \n",
    "\n",
    "Implemente el método propuesto y úselo para encontrar e informar la mejor solución que pueda obtener.\n",
    "Para asegurarse de haber obtenido resultados consistentes, realice 10 ejecuciones independientes e informe el mejor resultado encontrado en cada ejecución junto con su evaluación y la cantidad de generaciones que se necesitaron para obtenerlo."
   ]
  },
  {
   "cell_type": "code",
   "execution_count": 1,
   "metadata": {},
   "outputs": [],
   "source": [
    "import numpy as np\n",
    "import matplotlib.pyplot as plt\n",
    "from matplotlib import pylab\n",
    "import mpld3\n",
    "\n",
    "%matplotlib inline\n",
    "mpld3.enable_notebook()\n",
    "\n",
    "from utils.busqueda_local import hill_climb\n",
    "from deap import base, creator, tools, algorithms"
   ]
  },
  {
   "cell_type": "code",
   "execution_count": 2,
   "metadata": {},
   "outputs": [],
   "source": [
    "# -*- coding: utf-8 -*-\n",
    "\"\"\"\n",
    "Example 7: Ayudando al ladrón\n",
    "\"\"\"\n",
    "from numpy import array\n",
    "import random\n",
    "\n",
    "# El peso en kilogramos de cada uno de los productos\n",
    "pesos   = array([ 9.0, 4.5, 11.5, 10.0, 29.5, 30.5, 35.0, 37.5, 38.0, 15.0 ])\n",
    "\n",
    "# El precio en pesos de cada uno de los productos\n",
    "precios = array([ 780, 350,  890,  360,  940,  750,  740,  790,  800,  160 ])\n",
    "\n",
    "# Las capacidades en kilogramos de cada una de las bolsas\n",
    "bolsas  = array([ 51, 78 ])\n",
    "\n",
    "MAX_ITEM = 10\n",
    "MAX_WEIGHT = [bolsas[0], bolsas[1]]"
   ]
  },
  {
   "cell_type": "markdown",
   "metadata": {},
   "source": [
    "### Build Dictionary"
   ]
  },
  {
   "cell_type": "code",
   "execution_count": 3,
   "metadata": {},
   "outputs": [
    {
     "data": {
      "text/plain": [
       "{0: (9.0, 780),\n",
       " 1: (4.5, 350),\n",
       " 2: (11.5, 890),\n",
       " 3: (10.0, 360),\n",
       " 4: (29.5, 940),\n",
       " 5: (30.5, 750),\n",
       " 6: (35.0, 740),\n",
       " 7: (37.5, 790),\n",
       " 8: (38.0, 800),\n",
       " 9: (15.0, 160)}"
      ]
     },
     "execution_count": 3,
     "metadata": {},
     "output_type": "execute_result"
    }
   ],
   "source": [
    "items = {}\n",
    "for i in range(pesos.shape[0]):\n",
    "    items[i] = (pesos[i],precios[i])\n",
    "items"
   ]
  },
  {
   "cell_type": "markdown",
   "metadata": {},
   "source": [
    "# Para N mochilas"
   ]
  },
  {
   "cell_type": "code",
   "execution_count": 4,
   "metadata": {},
   "outputs": [],
   "source": [
    "creator.create(\"Fitness\", base.Fitness, weights=(-1.0, 1.0))\n",
    "creator.create(\"Individual\", list, fitness=creator.Fitness)"
   ]
  },
  {
   "cell_type": "code",
   "execution_count": 5,
   "metadata": {},
   "outputs": [],
   "source": [
    "def crearMochila():\n",
    "    return {random.randrange(MAX_ITEM)}    "
   ]
  },
  {
   "cell_type": "code",
   "execution_count": 6,
   "metadata": {},
   "outputs": [],
   "source": [
    "toolbox = base.Toolbox()\n",
    "toolbox.register(\"individual\", tools.initRepeat, creator.Individual, crearMochila, len(bolsas))\n",
    "toolbox.register(\"population\", tools.initRepeat, list, toolbox.individual)"
   ]
  },
  {
   "cell_type": "code",
   "execution_count": 7,
   "metadata": {},
   "outputs": [],
   "source": [
    "import collections\n",
    "\n",
    "def evaluar1Mochila(individual):\n",
    "    peso = 0.0\n",
    "    valor = 0.0\n",
    "    for item in individual:\n",
    "        valor += items[item][1]\n",
    "        peso += items[item][0]\n",
    "    if len(individual) > MAX_ITEM or peso > MAX_WEIGHT[0]:\n",
    "        return 10000, -10000             \n",
    "    return peso, valor\n",
    "\n",
    "def appendAll(lista):\n",
    "    b = []\n",
    "    for asd in lista:\n",
    "        for j in list(asd):\n",
    "            b.append(j)\n",
    "    return b\n",
    "\n",
    "def intersection(lista):\n",
    "    b = appendAll(lista)\n",
    "    return [item for item, count in collections.Counter(b).items() if count > 1]\n",
    "\n",
    "def evalNKnapsack(individual):\n",
    "    peso, valor = 0.0, 0.0\n",
    "    for i in range(len(bolsas)):\n",
    "        for item in individual[i]:\n",
    "            valor += items[item][1]\n",
    "            peso += items[item][0]\n",
    "        if len(individual[i]) > MAX_ITEM or peso > MAX_WEIGHT[i]:\n",
    "            return 10000, -10000             # Asegurar que no haya sobrepeso\n",
    "    \n",
    "    if (ind != {} for ind in individual):\n",
    "        if intersection(individual) != []:\n",
    "            return 10000, -100000  # Asegurar items no repetidos\n",
    "    elif (len(appendAll(individual)) == 0):\n",
    "            return 10000, -100000  # No me queiro ir con las mochilas vacias\n",
    "    return peso, valor"
   ]
  },
  {
   "cell_type": "code",
   "execution_count": 8,
   "metadata": {},
   "outputs": [
    {
     "data": {
      "text/plain": [
       "(35.0, 2380.0)"
      ]
     },
     "execution_count": 8,
     "metadata": {},
     "output_type": "execute_result"
    }
   ],
   "source": [
    "a = [{0,2,3},{1},{4}]\n",
    "evalNKnapsack(a)"
   ]
  },
  {
   "cell_type": "code",
   "execution_count": 9,
   "metadata": {},
   "outputs": [],
   "source": [
    "def mutSetNBags(individual, intpb=0.5):\n",
    "    \"\"\"Mutation that pops or add an element.\"\"\"\n",
    "    for bolsa in range(len(bolsas)):\n",
    "        if random.random() < intpb:\n",
    "            if len(individual[bolsa]) > 0:     \n",
    "                individual[bolsa].remove(random.choice(sorted(tuple(individual[bolsa]))))\n",
    "        else:\n",
    "            individual[bolsa].add(random.randrange(MAX_ITEM))\n",
    "    return individual,"
   ]
  },
  {
   "cell_type": "code",
   "execution_count": 10,
   "metadata": {},
   "outputs": [],
   "source": [
    "def cxSetNBags(ind1, ind2):\n",
    "    \"\"\"Apply a crossover operation on input sets. The first child is the\n",
    "    intersection of the two sets, the second child is the difference of the\n",
    "    two sets.\n",
    "    \"\"\"\n",
    "    for bolsa in range(len(bolsas)):\n",
    "        temp = set(ind1[bolsa])                # Used in order to keep type\n",
    "        ind1[bolsa] &= ind2[bolsa]             # Intersection (inplace)\n",
    "        ind2[bolsa] ^= temp                    # Symmetric Difference (inplace)\n",
    "    return ind1, ind2"
   ]
  },
  {
   "cell_type": "code",
   "execution_count": 11,
   "metadata": {},
   "outputs": [],
   "source": [
    "toolbox.register(\"evaluate\", evalNKnapsack)\n",
    "toolbox.register(\"mate\", cxSetNBags)\n",
    "toolbox.register(\"mutate\", mutSetNBags)\n",
    "toolbox.register(\"select\", tools.selNSGA2)"
   ]
  },
  {
   "cell_type": "code",
   "execution_count": 12,
   "metadata": {},
   "outputs": [],
   "source": [
    "def main():\n",
    "    GENERACIONES = 20\n",
    "    POBLACION = 10\n",
    "    LAMBDA = 80\n",
    "    CXPB = 0.7\n",
    "    MUTPB = 0.3\n",
    "    \n",
    "    \n",
    "    # Save History\n",
    "    history = tools.History()\n",
    "    toolbox.decorate(\"mate\", history.decorator)\n",
    "    toolbox.decorate(\"mutate\", history.decorator)\n",
    "    \n",
    "    pop = toolbox.population(n=POBLACION)\n",
    "    history.update(pop)\n",
    "    hof = tools.ParetoFront()\n",
    "    stats = tools.Statistics(lambda ind: ind.fitness.values)\n",
    "    stats.register(\"avg\", np.mean, axis=0)\n",
    "    stats.register(\"max\", np.max, axis=0)    \n",
    "    algorithms.eaMuPlusLambda(pop, toolbox, POBLACION, LAMBDA, CXPB, MUTPB, GENERACIONES, stats,\n",
    "                              halloffame=hof)\n",
    "    \n",
    "    return history, pop, stats, hof"
   ]
  },
  {
   "cell_type": "code",
   "execution_count": 13,
   "metadata": {
    "scrolled": false
   },
   "outputs": [
    {
     "name": "stdout",
     "output_type": "stream",
     "text": [
      "gen\tnevals\tavg                \tmax            \n",
      "0  \t10    \t[  2035.5 -18897. ]\t[10000.  1720.]\n",
      "1  \t80    \t[ 13.65 720.  ]    \t[  61. 2780.]  \n",
      "2  \t80    \t[  21.2 1069. ]    \t[  61. 2780.]  \n",
      "3  \t80    \t[  21.9 1115. ]    \t[  61. 2780.]  \n",
      "4  \t80    \t[  33.2 1543. ]    \t[  76. 2940.]  \n",
      "5  \t80    \t[  32.3 1736. ]    \t[  76. 2940.]  \n",
      "6  \t80    \t[  34.75 1847.  ]  \t[  76. 2940.]  \n",
      "7  \t80    \t[  32.35 1815.  ]  \t[  65.5 3130. ]\n",
      "8  \t80    \t[  28.95 1686.  ]  \t[  65.5 3130. ]\n",
      "9  \t80    \t[  27.05 1572.  ]  \t[  65.5 3130. ]\n",
      "10 \t80    \t[  29.55 1774.  ]  \t[  65.5 3130. ]\n",
      "11 \t80    \t[  30.25 1820.  ]  \t[  65.5 3130. ]\n",
      "12 \t80    \t[  30.7 1855. ]    \t[  65.5 3130. ]\n",
      "13 \t80    \t[  35.65 2052.  ]  \t[  65.5 3130. ]\n",
      "14 \t80    \t[  27.05 1572.  ]  \t[  65.5 3130. ]\n",
      "15 \t80    \t[  32.4 1775. ]    \t[  72.5 3170. ]\n",
      "16 \t80    \t[  34.75 1924.  ]  \t[  72.5 3170. ]\n",
      "17 \t80    \t[  31.6 1883. ]    \t[  72.5 3170. ]\n",
      "18 \t80    \t[  29.8 1735. ]    \t[  72.5 3170. ]\n",
      "19 \t80    \t[  26.75 1532.  ]  \t[  72.5 3170. ]\n",
      "20 \t80    \t[  31.4 1859. ]    \t[  72.5 3170. ]\n",
      "Genealogy:  {416: (202,), 1: (), 1865: (820,), 202: (1, 77), 652: (416,), 77: (1,), 1971: (1865,), 820: (725,), 725: (568, 652), 568: (416,)}\n",
      "\n",
      "MEJOR:\n",
      "\n",
      "Mochila:  set([0, 1, 2, 3]) - Peso y Valor:  (35.0, 2380.0)\n",
      "\n",
      "Mochila:  set([7]) - Peso y Valor:  (37.5, 790.0)\n"
     ]
    }
   ],
   "source": [
    "history, pop, log, hof = main()\n",
    "bestCombination = hof[len(hof)-1]\n",
    "print \"Genealogy: \", history.getGenealogy(bestCombination, 50)\n",
    "print \"\\nMEJOR:\"\n",
    "for mochila in range(len(bolsas)):\n",
    "    print \"\\nMochila: \", bestCombination[mochila], \"- Peso y Valor: \", evaluar1Mochila(bestCombination[mochila])"
   ]
  }
 ],
 "metadata": {
  "kernelspec": {
   "display_name": "Python 2",
   "language": "python",
   "name": "python2"
  },
  "language_info": {
   "codemirror_mode": {
    "name": "ipython",
    "version": 2
   },
   "file_extension": ".py",
   "mimetype": "text/x-python",
   "name": "python",
   "nbconvert_exporter": "python",
   "pygments_lexer": "ipython2",
   "version": "2.7.15rc1"
  }
 },
 "nbformat": 4,
 "nbformat_minor": 1
}
