{
 "cells": [
  {
   "cell_type": "markdown",
   "metadata": {},
   "source": [
    "# Example 6\n",
    "\n",
    "Una manera de conseguir una búsqueda más efectiva cuando se emplea un Algoritmo\n",
    "Evolutivo es dotarlo de operadores con más “inteligencia” que los operadores sencillos de\n",
    "cruza y mutación.\n",
    "Resuelva nuevamente el ejemplo 5 incorporando ahora un nuevo operador de mutación a los\n",
    "operadores usados originalmente, que tome un cromosoma y lo someta a la ejecución de un\n",
    "algoritmo de Hill Climbing durante 25 iteraciones, devolviendo como resultado de la\n",
    "“mutación” el mejor valor encontrado.\n",
    "Informe los nuevos resultados obtenidos y compárelos con los del ejercicio 5, realizando la\n",
    "misma cantidad de ejecuciones independientes.\n",
    "\n",
    "´´´\n",
    "Implemente un Algoritmo Evolutivo que, dadas las siguientes funciones, busque cumplir con el objetivo propuesto para cada una de ellas.\n",
    "\n",
    "a) Para f 1(x , y)=0.5 x2+y2−x y−2 x−6 y , con −5⩽x⩽5, −10⩽y⩽10 , buscar donde se encuentra el mínimo de esta función.\n",
    "\n",
    "b) Para f 2(x)=∑|xi|(i+1) , con x=(x1, x2,..., xn) y n=4 , buscar x tal que f 2(x)=0 , i=1\n",
    "\n",
    "sabiendo que −1⩽x1⩽1 , −0,8⩽x2⩽1,2 , −0,5⩽x3⩽0,75 y −1,4⩽x4⩽0,5 .\n",
    "\n",
    "En cada uno de los puntos, detalle:\n",
    "\n",
    "i. El tipo y forma del cromosoma.\n",
    "\n",
    "ii. Los operadores genéticos usados.\n",
    "\n",
    "iii. Los parámetros empleados para la ejecución del algoritmo.\n",
    "\n",
    "Para asegurarse de haber obtenido resultados consistentes, realice 10 ejecuciones independientes e informe los mejores resultados encontrados en cada ejecución junto con su  tness y la cantidad de generaciones que se necesitaron para obtenerlos.\n",
    "´´´"
   ]
  },
  {
   "cell_type": "code",
   "execution_count": 1,
   "metadata": {},
   "outputs": [],
   "source": [
    "import numpy as np\n",
    "import matplotlib.pyplot as plt\n",
    "from matplotlib import pylab\n",
    "import mpld3\n",
    "\n",
    "%matplotlib inline\n",
    "mpld3.enable_notebook()\n",
    "\n",
    "from utils.busqueda_local import hill_climb\n",
    "from deap import base, creator, tools, algorithms"
   ]
  },
  {
   "cell_type": "code",
   "execution_count": 2,
   "metadata": {},
   "outputs": [],
   "source": [
    "# -*- coding: utf-8 -*-\n",
    "\"\"\"\n",
    "Example 6: Optimización numérica\n",
    "\"\"\"\n",
    "\n",
    "def F_1(x, y):\n",
    "    return 0.5 * x ** 2 + y ** 2 - x * y - 2 * x - 6 * y\n",
    "\n",
    "\n",
    "def F_2(x):\n",
    "##    return sum(abs(x) ** (2, 3, 4, 5))\n",
    "    tot=0\n",
    "    for i in range(len(x)):\n",
    "        aux = abs(x[i])\n",
    "        tot+= aux ** (i+1)\n",
    "    return tot\n"
   ]
  },
  {
   "cell_type": "markdown",
   "metadata": {},
   "source": [
    "# Parte a)"
   ]
  },
  {
   "cell_type": "markdown",
   "metadata": {},
   "source": [
    "## Fitness"
   ]
  },
  {
   "cell_type": "code",
   "execution_count": 3,
   "metadata": {},
   "outputs": [],
   "source": [
    "creator.create(\"Fitness\", base.Fitness, weights=(-9999,))\n",
    "creator.create(\"Individual\", list, fitness=creator.Fitness)"
   ]
  },
  {
   "cell_type": "markdown",
   "metadata": {},
   "source": [
    "## Individuo"
   ]
  },
  {
   "cell_type": "code",
   "execution_count": 4,
   "metadata": {},
   "outputs": [],
   "source": [
    "def nuevoPar():\n",
    "    x=round(-5 + np.random.random() * (5 - -5), 2)\n",
    "    y=round(-10 + np.random.random() * (10 - -10), 2)\n",
    "    return [x,y]"
   ]
  },
  {
   "cell_type": "code",
   "execution_count": 5,
   "metadata": {},
   "outputs": [],
   "source": [
    "toolbox = base.Toolbox()\n",
    "toolbox.register(\"individual\", tools.initIterate, creator.Individual, nuevoPar)\n",
    "toolbox.register(\"population\", tools.initRepeat, list, toolbox.individual)"
   ]
  },
  {
   "cell_type": "markdown",
   "metadata": {},
   "source": [
    "## Evaluacion, cruza, mutacion y seleccion"
   ]
  },
  {
   "cell_type": "code",
   "execution_count": 6,
   "metadata": {},
   "outputs": [],
   "source": [
    "def evaluarADN(x):\n",
    "    return [F_1(*x)]"
   ]
  },
  {
   "cell_type": "code",
   "execution_count": 7,
   "metadata": {},
   "outputs": [],
   "source": [
    "MAX_ITERATIONS = 25\n",
    "def vecinosMutantes(x):\n",
    "    v = []\n",
    "    nuevoX = x[0] + np.random.uniform(low=-0.1, high=0.1)\n",
    "    if abs(nuevoX) > abs(5):\n",
    "        nuevoX = x[0]\n",
    "    nuevoY = x[1] + np.random.uniform(low=-0.1, high=0.1)\n",
    "    if abs(nuevoY) > abs(10):\n",
    "        nuevoY = x[1]\n",
    "    v.append([nuevoX, x[1]])\n",
    "    v.append([x[0], nuevoY])\n",
    "    return v\n",
    "\n",
    "def mutateHillClimbing(x, indpb=0.5):\n",
    "    doit = np.random.uniform(0,1)\n",
    "    toolbox.individual()\n",
    "    if (doit < indpb):\n",
    "        for i in range(MAX_ITERATIONS):\n",
    "            x, evaluaciones = hill_climb(x, evaluarADN, vecinosMutantes)\n",
    "        return creator.Individual(x),\n",
    "    return x,"
   ]
  },
  {
   "cell_type": "code",
   "execution_count": 8,
   "metadata": {},
   "outputs": [],
   "source": [
    "toolbox.register(\"evaluate\", evaluarADN)\n",
    "toolbox.register(\"mate\", tools.cxOnePoint)\n",
    "#toolbox.register(\"mutate\", tools.mutShuffleIndexes, indpb=0.50)\n",
    "toolbox.register(\"mutate\", mutateHillClimbing, indpb=0.50)\n",
    "toolbox.register(\"select\", tools.selTournament, tournsize=5)"
   ]
  },
  {
   "cell_type": "markdown",
   "metadata": {},
   "source": [
    "## Find Best Solution"
   ]
  },
  {
   "cell_type": "code",
   "execution_count": 9,
   "metadata": {},
   "outputs": [],
   "source": [
    "def main():    \n",
    "    GENERACIONES=50\n",
    "    pop = toolbox.population(n=1000)\n",
    "    hof = tools.HallOfFame(1)\n",
    "    stats = tools.Statistics(lambda ind: ind.fitness.values)\n",
    "    stats.register(\"avg\", np.mean)\n",
    "    stats.register(\"min\", np.min)\n",
    "    stats.register(\"max\", np.max)\n",
    "    pop, logbook = algorithms.eaSimple(pop, toolbox, cxpb=0.5, mutpb=0.2, ngen=GENERACIONES, stats=stats, halloffame=hof, verbose=True)\n",
    "    return pop, logbook, hof"
   ]
  },
  {
   "cell_type": "code",
   "execution_count": 10,
   "metadata": {},
   "outputs": [
    {
     "name": "stdout",
     "output_type": "stream",
     "text": [
      "gen\tnevals\tavg    \tmin    \tmax    \n",
      "0  \t1000  \t38.9587\t-26.711\t206.619\n",
      "1  \t611   \t-2.13629\t-27.6061\t107.783\n",
      "2  \t597   \t-18.1206\t-27.6202\t55.3309\n",
      "3  \t588   \t-23.653 \t-27.714 \t30.6573\n",
      "4  \t602   \t-24.9152\t-27.723 \t9.13789\n",
      "5  \t596   \t-26.1929\t-27.723 \t2.95298\n",
      "6  \t585   \t-26.0648\t-27.723 \t11.8168\n",
      "7  \t662   \t-25.9594\t-27.723 \t10.5341\n",
      "8  \t582   \t-26.1592\t-27.723 \t7.53892\n",
      "9  \t597   \t-25.6963\t-27.723 \t10.7297\n",
      "10 \t648   \t-25.9336\t-27.723 \t10.6423\n",
      "11 \t593   \t-25.9894\t-27.723 \t15.4766\n",
      "12 \t636   \t-25.9672\t-27.723 \t12.2091\n",
      "13 \t571   \t-25.9859\t-27.723 \t8.76267\n",
      "14 \t596   \t-25.9593\t-27.723 \t12.6259\n",
      "15 \t610   \t-26.1735\t-27.723 \t11.8736\n",
      "16 \t578   \t-26.0456\t-27.723 \t17.3241\n",
      "17 \t587   \t-26.2004\t-27.723 \t7.29894\n",
      "18 \t608   \t-25.9559\t-27.723 \t7.20156\n",
      "19 \t582   \t-25.9841\t-27.723 \t24.9332\n",
      "20 \t570   \t-26.298 \t-27.723 \t8.45426\n",
      "21 \t583   \t-25.7038\t-27.723 \t20.5345\n",
      "22 \t560   \t-26.0994\t-27.723 \t13.1398\n",
      "23 \t579   \t-26.0087\t-27.723 \t6.22897\n",
      "24 \t582   \t-26.1582\t-27.723 \t12.2196\n",
      "25 \t622   \t-26.0968\t-27.723 \t20.5909\n",
      "26 \t580   \t-26.0337\t-27.723 \t10.6757\n",
      "27 \t581   \t-26.03  \t-27.723 \t17.1874\n",
      "28 \t586   \t-26.1314\t-27.723 \t7.95558\n",
      "29 \t601   \t-26.0651\t-27.723 \t23.9578\n",
      "30 \t618   \t-25.7677\t-27.723 \t17.9307\n",
      "31 \t596   \t-25.8047\t-27.723 \t6.83665\n",
      "32 \t583   \t-26.137 \t-27.723 \t5.41038\n",
      "33 \t584   \t-26.3399\t-27.723 \t8.06831\n",
      "34 \t620   \t-26.1245\t-27.723 \t16.3131\n",
      "35 \t593   \t-26.0693\t-27.723 \t1.79798\n",
      "36 \t594   \t-26.0585\t-27.723 \t8.59887\n",
      "37 \t601   \t-26.1149\t-27.723 \t5.73355\n",
      "38 \t589   \t-26.3291\t-27.723 \t8.51094\n",
      "39 \t583   \t-26.1372\t-27.723 \t8.83214\n",
      "40 \t616   \t-25.9837\t-27.723 \t8.51876\n",
      "41 \t599   \t-26.0691\t-27.723 \t24.2915\n",
      "42 \t567   \t-26.1877\t-27.723 \t10.0533\n",
      "43 \t568   \t-26.0429\t-27.723 \t4.28291\n",
      "44 \t607   \t-26.0706\t-27.723 \t12.3076\n",
      "45 \t635   \t-26.023 \t-27.723 \t7.0696 \n",
      "46 \t621   \t-26.0703\t-27.723 \t12.9206\n",
      "47 \t624   \t-25.8577\t-27.723 \t10.1631\n",
      "48 \t621   \t-25.7205\t-27.723 \t17.8759\n",
      "49 \t612   \t-26.0619\t-27.723 \t10.459 \n",
      "50 \t587   \t-26.3778\t-27.723 \t8.04017\n",
      "Best individual is: [4.99, 5.54]\n",
      "with fitness: (-27.722950000000004,)\n"
     ]
    },
    {
     "data": {
      "image/png": "[encoded data removed]",
      "text/html": [
       "\n",
       "\n",
       "<style>\n",
       "\n",
       "</style>\n",
       "\n",
       "<div id=\"fig_el297261401957127299364313491516\"></div>\n",
       "<script>\n",
       "function mpld3_load_lib(url, callback){\n",
       "  var s = document.createElement('script');\n",
       "  s.src = url;\n",
       "  s.async = true;\n",
       "  s.onreadystatechange = s.onload = callback;\n",
       "  s.onerror = function(){console.warn(\"failed to load library \" + url);};\n",
       "  document.getElementsByTagName(\"head\")[0].appendChild(s);\n",
       "}\n",
       "\n",
       "if(typeof(mpld3) !== \"undefined\" && mpld3._mpld3IsLoaded){\n",
       "   // already loaded: just create the figure\n",
       "   !function(mpld3){\n",
       "       \n",
       "       mpld3.draw_figure(\"fig_el297261401957127299364313491516\", {\"axes\": [{\"xlim\": [-2.5, 52.5], \"yscale\": \"linear\", \"axesbg\": \"#FFFFFF\", \"texts\": [{\"v_baseline\": \"hanging\", \"h_anchor\": \"middle\", \"color\": \"#000000\", \"text\": \"Generation\", \"coordinates\": \"axes\", \"zorder\": 3, \"alpha\": 1, \"fontsize\": 10.0, \"position\": [0.49999999999999994, -0.09657836644591611], \"rotation\": -0.0, \"id\": \"el29726140195711409808\"}, {\"v_baseline\": \"auto\", \"h_anchor\": \"middle\", \"color\": \"#000000\", \"text\": \"Fitness\", \"coordinates\": \"axes\", \"zorder\": 3, \"alpha\": 1, \"fontsize\": 10.0, \"position\": [-0.08960573476702509, 0.49999999999999994], \"rotation\": -90.0, \"id\": \"el29726140195711408464\"}, {\"v_baseline\": \"auto\", \"h_anchor\": \"start\", \"color\": \"#000000\", \"text\": \"average\", \"coordinates\": \"axes\", \"zorder\": 1000003.0, \"alpha\": 1, \"fontsize\": 10.0, \"position\": [0.8234020310633213, 0.18855776306107433], \"rotation\": -0.0, \"id\": \"el29726140195712883536\"}, {\"v_baseline\": \"auto\", \"h_anchor\": \"start\", \"color\": \"#000000\", \"text\": \"minimum\", \"coordinates\": \"axes\", \"zorder\": 1000003.0, \"alpha\": 1, \"fontsize\": 10.0, \"position\": [0.8234020310633213, 0.11957321559970566], \"rotation\": -0.0, \"id\": \"el29726140195712255504\"}, {\"v_baseline\": \"auto\", \"h_anchor\": \"start\", \"color\": \"#000000\", \"text\": \"maximum\", \"coordinates\": \"axes\", \"zorder\": 1000003.0, \"alpha\": 1, \"fontsize\": 10.0, \"position\": [0.8234020310633213, 0.05058866813833701], \"rotation\": -0.0, \"id\": \"el29726140195712476432\"}], \"zoomable\": true, \"images\": [], \"xdomain\": [-2.5, 52.5], \"ylim\": [-39.44003000000001, 218.33573], \"paths\": [{\"edgecolor\": \"#CCCCCC\", \"facecolor\": \"#FFFFFF\", \"edgewidth\": 1.0, \"pathcodes\": [\"M\", \"L\", \"S\", \"L\", \"S\", \"L\", \"S\", \"L\", \"S\", \"Z\"], \"yindex\": 1, \"coordinates\": \"axes\", \"dasharray\": \"none\", \"zorder\": 1000000.0, \"alpha\": 0.8, \"xindex\": 0, \"data\": \"data03\", \"id\": \"el29726140195712253840\"}], \"sharey\": [], \"sharex\": [], \"axesbgalpha\": null, \"axes\": [{\"scale\": \"linear\", \"tickformat\": null, \"grid\": {\"gridOn\": false}, \"visible\": true, \"fontsize\": 10.0, \"position\": \"bottom\", \"nticks\": 8, \"tickvalues\": null}, {\"scale\": \"linear\", \"tickformat\": null, \"grid\": {\"gridOn\": false}, \"visible\": true, \"fontsize\": 10.0, \"position\": \"left\", \"nticks\": 7, \"tickvalues\": null}], \"lines\": [{\"drawstyle\": \"default\", \"color\": \"#1F77B4\", \"yindex\": 1, \"coordinates\": \"data\", \"dasharray\": \"none\", \"zorder\": 2, \"alpha\": 1, \"xindex\": 0, \"linewidth\": 1.5, \"data\": \"data01\", \"id\": \"el29726140195712452880\"}, {\"drawstyle\": \"default\", \"color\": \"#FF7F0E\", \"yindex\": 2, \"coordinates\": \"data\", \"dasharray\": \"none\", \"zorder\": 2, \"alpha\": 1, \"xindex\": 0, \"linewidth\": 1.5, \"data\": \"data01\", \"id\": \"el29726140195712452048\"}, {\"drawstyle\": \"default\", \"color\": \"#2CA02C\", \"yindex\": 3, \"coordinates\": \"data\", \"dasharray\": \"none\", \"zorder\": 2, \"alpha\": 1, \"xindex\": 0, \"linewidth\": 1.5, \"data\": \"data01\", \"id\": \"el29726140195712454480\"}, {\"drawstyle\": \"default\", \"color\": \"#1F77B4\", \"yindex\": 1, \"coordinates\": \"axes\", \"dasharray\": \"none\", \"zorder\": 1000002.0, \"alpha\": 1, \"xindex\": 0, \"linewidth\": 1.5, \"data\": \"data02\", \"id\": \"el29726140195712884240\"}, {\"drawstyle\": \"default\", \"color\": \"#FF7F0E\", \"yindex\": 2, \"coordinates\": \"axes\", \"dasharray\": \"none\", \"zorder\": 1000002.0, \"alpha\": 1, \"xindex\": 0, \"linewidth\": 1.5, \"data\": \"data02\", \"id\": \"el29726140195712255056\"}, {\"drawstyle\": \"default\", \"color\": \"#2CA02C\", \"yindex\": 3, \"coordinates\": \"axes\", \"dasharray\": \"none\", \"zorder\": 1000002.0, \"alpha\": 1, \"xindex\": 0, \"linewidth\": 1.5, \"data\": \"data02\", \"id\": \"el29726140195712475216\"}], \"markers\": [], \"id\": \"el29726140195712731792\", \"ydomain\": [-39.44003000000001, 218.33573], \"collections\": [], \"xscale\": \"linear\", \"bbox\": [0.125, 0.125, 0.775, 0.755]}], \"height\": 288.0, \"width\": 432.0, \"plugins\": [{\"type\": \"reset\"}, {\"enabled\": false, \"button\": true, \"type\": \"zoom\"}, {\"enabled\": false, \"button\": true, \"type\": \"boxzoom\"}], \"data\": {\"data02\": [[0.7397700119474313, 0.204654157468727, 0.13566961000735833, 0.0666850625459897], [0.7995071684587813, 0.204654157468727, 0.13566961000735833, 0.0666850625459897]], \"data03\": [[0.7337962962962963, 0.02299484915378955], [0.9790919952210274, 0.02299484915378955], [0.9850657108721624, 0.02299484915378955], [0.9850657108721624, 0.03219278881530538], [0.9850657108721624, 0.23454746136865343], [0.9850657108721624, 0.24374540103016926], [0.9790919952210274, 0.24374540103016926], [0.7337962962962963, 0.24374540103016926], [0.7278225806451613, 0.24374540103016926], [0.7278225806451613, 0.23454746136865343], [0.7278225806451613, 0.03219278881530538], [0.7278225806451613, 0.02299484915378955], [0.7337962962962963, 0.02299484915378955]], \"data01\": [[0.0, 38.9587355, -26.711000000000006, 206.61865], [1.0, -2.1362905118453144, -27.60615, 107.7834371894327], [2.0, -18.120610398947836, -27.620150000000002, 55.33090411070109], [3.0, -23.65302410549811, -27.71395, 30.657272747672934], [4.0, -24.91522681666919, -27.722950000000004, 9.137893898723654], [5.0, -26.19287692158421, -27.722950000000004, 2.952980868247465], [6.0, -26.06482243689954, -27.722950000000004, 11.816754797844311], [7.0, -25.959402790691595, -27.722950000000004, 10.534057144988083], [8.0, -26.159246968388892, -27.722950000000004, 7.538918060916572], [9.0, -25.69634630155065, -27.722950000000004, 10.72965164580367], [10.0, -25.933555322828514, -27.722950000000004, 10.642274025393768], [11.0, -25.989419274724398, -27.722950000000004, 15.476584385544072], [12.0, -25.96723192012794, -27.722950000000004, 12.20912279803342], [13.0, -25.98585042349318, -27.722950000000004, 8.762672654205332], [14.0, -25.959264908276015, -27.722950000000004, 12.62586490822914], [15.0, -26.173516748840814, -27.722950000000004, 11.873572046725343], [16.0, -26.045624622643405, -27.722950000000004, 17.32411220175507], [17.0, -26.200433534960343, -27.722950000000004, 7.298942370541332], [18.0, -25.955882421111962, -27.722950000000004, 7.201556057661257], [19.0, -25.984084473034592, -27.722950000000004, 24.933240308819265], [20.0, -26.298045097100623, -27.722950000000004, 8.454255751689402], [21.0, -25.703765576234975, -27.722950000000004, 20.534520493681356], [22.0, -26.09943607278294, -27.722950000000004, 13.139809727618102], [23.0, -26.008711691034414, -27.722950000000004, 6.228968236411703], [24.0, -26.15822912526205, -27.722950000000004, 12.219631442236306], [25.0, -26.09679683201244, -27.722950000000004, 20.590937365226267], [26.0, -26.033706000988786, -27.722950000000004, 10.675720761491348], [27.0, -26.03003602277257, -27.722950000000004, 17.18736899688352], [28.0, -26.131374205865956, -27.722950000000004, 7.955584188552756], [29.0, -26.065138891301338, -27.722950000000004, 23.957752066812716], [30.0, -25.76769203439178, -27.722950000000004, 17.930676200390984], [31.0, -25.804724842325072, -27.722950000000004, 6.8366523601050915], [32.0, -26.137029668341302, -27.722950000000004, 5.410383199584466], [33.0, -26.33994194410786, -27.722950000000004, 8.068306131600124], [34.0, -26.124510454974963, -27.722950000000004, 16.313148086882784], [35.0, -26.069341197557247, -27.722950000000004, 1.7979801612333615], [36.0, -26.05851886111251, -27.722950000000004, 8.598871606386552], [37.0, -26.11488531333178, -27.722950000000004, 5.733554212180692], [38.0, -26.329111888844476, -27.722950000000004, 8.51093871138707], [39.0, -26.13721316106942, -27.722950000000004, 8.832139208276487], [40.0, -25.983682837321386, -27.722950000000004, 8.518756649183786], [41.0, -26.069102678918206, -27.722950000000004, 24.291466622117326], [42.0, -26.187720371678456, -27.722950000000004, 10.05329502654699], [43.0, -26.042942886699226, -27.722950000000004, 4.282907356621699], [44.0, -26.07059069933227, -27.722950000000004, 12.307630336689783], [45.0, -26.0229833079331, -27.722950000000004, 7.069604247823804], [46.0, -26.070289482357158, -27.722950000000004, 12.920625861976973], [47.0, -25.857656048368742, -27.722950000000004, 10.163124262434422], [48.0, -25.7204896398164, -27.722950000000004, 17.87588088488411], [49.0, -26.061878380895177, -27.722950000000004, 10.458963226493736], [50.0, -26.377768434174776, -27.722950000000004, 8.040166433911658]]}, \"id\": \"el29726140195712729936\"});\n",
       "   }(mpld3);\n",
       "}else if(typeof define === \"function\" && define.amd){\n",
       "   // require.js is available: use it to load d3/mpld3\n",
       "   require.config({paths: {d3: \"https://mpld3.github.io/js/d3.v3.min\"}});\n",
       "   require([\"d3\"], function(d3){\n",
       "      window.d3 = d3;\n",
       "      mpld3_load_lib(\"https://mpld3.github.io/js/mpld3.v0.3.js\", function(){\n",
       "         \n",
       "         mpld3.draw_figure(\"fig_el297261401957127299364313491516\", {\"axes\": [{\"xlim\": [-2.5, 52.5], \"yscale\": \"linear\", \"axesbg\": \"#FFFFFF\", \"texts\": [{\"v_baseline\": \"hanging\", \"h_anchor\": \"middle\", \"color\": \"#000000\", \"text\": \"Generation\", \"coordinates\": \"axes\", \"zorder\": 3, \"alpha\": 1, \"fontsize\": 10.0, \"position\": [0.49999999999999994, -0.09657836644591611], \"rotation\": -0.0, \"id\": \"el29726140195711409808\"}, {\"v_baseline\": \"auto\", \"h_anchor\": \"middle\", \"color\": \"#000000\", \"text\": \"Fitness\", \"coordinates\": \"axes\", \"zorder\": 3, \"alpha\": 1, \"fontsize\": 10.0, \"position\": [-0.08960573476702509, 0.49999999999999994], \"rotation\": -90.0, \"id\": \"el29726140195711408464\"}, {\"v_baseline\": \"auto\", \"h_anchor\": \"start\", \"color\": \"#000000\", \"text\": \"average\", \"coordinates\": \"axes\", \"zorder\": 1000003.0, \"alpha\": 1, \"fontsize\": 10.0, \"position\": [0.8234020310633213, 0.18855776306107433], \"rotation\": -0.0, \"id\": \"el29726140195712883536\"}, {\"v_baseline\": \"auto\", \"h_anchor\": \"start\", \"color\": \"#000000\", \"text\": \"minimum\", \"coordinates\": \"axes\", \"zorder\": 1000003.0, \"alpha\": 1, \"fontsize\": 10.0, \"position\": [0.8234020310633213, 0.11957321559970566], \"rotation\": -0.0, \"id\": \"el29726140195712255504\"}, {\"v_baseline\": \"auto\", \"h_anchor\": \"start\", \"color\": \"#000000\", \"text\": \"maximum\", \"coordinates\": \"axes\", \"zorder\": 1000003.0, \"alpha\": 1, \"fontsize\": 10.0, \"position\": [0.8234020310633213, 0.05058866813833701], \"rotation\": -0.0, \"id\": \"el29726140195712476432\"}], \"zoomable\": true, \"images\": [], \"xdomain\": [-2.5, 52.5], \"ylim\": [-39.44003000000001, 218.33573], \"paths\": [{\"edgecolor\": \"#CCCCCC\", \"facecolor\": \"#FFFFFF\", \"edgewidth\": 1.0, \"pathcodes\": [\"M\", \"L\", \"S\", \"L\", \"S\", \"L\", \"S\", \"L\", \"S\", \"Z\"], \"yindex\": 1, \"coordinates\": \"axes\", \"dasharray\": \"none\", \"zorder\": 1000000.0, \"alpha\": 0.8, \"xindex\": 0, \"data\": \"data03\", \"id\": \"el29726140195712253840\"}], \"sharey\": [], \"sharex\": [], \"axesbgalpha\": null, \"axes\": [{\"scale\": \"linear\", \"tickformat\": null, \"grid\": {\"gridOn\": false}, \"visible\": true, \"fontsize\": 10.0, \"position\": \"bottom\", \"nticks\": 8, \"tickvalues\": null}, {\"scale\": \"linear\", \"tickformat\": null, \"grid\": {\"gridOn\": false}, \"visible\": true, \"fontsize\": 10.0, \"position\": \"left\", \"nticks\": 7, \"tickvalues\": null}], \"lines\": [{\"drawstyle\": \"default\", \"color\": \"#1F77B4\", \"yindex\": 1, \"coordinates\": \"data\", \"dasharray\": \"none\", \"zorder\": 2, \"alpha\": 1, \"xindex\": 0, \"linewidth\": 1.5, \"data\": \"data01\", \"id\": \"el29726140195712452880\"}, {\"drawstyle\": \"default\", \"color\": \"#FF7F0E\", \"yindex\": 2, \"coordinates\": \"data\", \"dasharray\": \"none\", \"zorder\": 2, \"alpha\": 1, \"xindex\": 0, \"linewidth\": 1.5, \"data\": \"data01\", \"id\": \"el29726140195712452048\"}, {\"drawstyle\": \"default\", \"color\": \"#2CA02C\", \"yindex\": 3, \"coordinates\": \"data\", \"dasharray\": \"none\", \"zorder\": 2, \"alpha\": 1, \"xindex\": 0, \"linewidth\": 1.5, \"data\": \"data01\", \"id\": \"el29726140195712454480\"}, {\"drawstyle\": \"default\", \"color\": \"#1F77B4\", \"yindex\": 1, \"coordinates\": \"axes\", \"dasharray\": \"none\", \"zorder\": 1000002.0, \"alpha\": 1, \"xindex\": 0, \"linewidth\": 1.5, \"data\": \"data02\", \"id\": \"el29726140195712884240\"}, {\"drawstyle\": \"default\", \"color\": \"#FF7F0E\", \"yindex\": 2, \"coordinates\": \"axes\", \"dasharray\": \"none\", \"zorder\": 1000002.0, \"alpha\": 1, \"xindex\": 0, \"linewidth\": 1.5, \"data\": \"data02\", \"id\": \"el29726140195712255056\"}, {\"drawstyle\": \"default\", \"color\": \"#2CA02C\", \"yindex\": 3, \"coordinates\": \"axes\", \"dasharray\": \"none\", \"zorder\": 1000002.0, \"alpha\": 1, \"xindex\": 0, \"linewidth\": 1.5, \"data\": \"data02\", \"id\": \"el29726140195712475216\"}], \"markers\": [], \"id\": \"el29726140195712731792\", \"ydomain\": [-39.44003000000001, 218.33573], \"collections\": [], \"xscale\": \"linear\", \"bbox\": [0.125, 0.125, 0.775, 0.755]}], \"height\": 288.0, \"width\": 432.0, \"plugins\": [{\"type\": \"reset\"}, {\"enabled\": false, \"button\": true, \"type\": \"zoom\"}, {\"enabled\": false, \"button\": true, \"type\": \"boxzoom\"}], \"data\": {\"data02\": [[0.7397700119474313, 0.204654157468727, 0.13566961000735833, 0.0666850625459897], [0.7995071684587813, 0.204654157468727, 0.13566961000735833, 0.0666850625459897]], \"data03\": [[0.7337962962962963, 0.02299484915378955], [0.9790919952210274, 0.02299484915378955], [0.9850657108721624, 0.02299484915378955], [0.9850657108721624, 0.03219278881530538], [0.9850657108721624, 0.23454746136865343], [0.9850657108721624, 0.24374540103016926], [0.9790919952210274, 0.24374540103016926], [0.7337962962962963, 0.24374540103016926], [0.7278225806451613, 0.24374540103016926], [0.7278225806451613, 0.23454746136865343], [0.7278225806451613, 0.03219278881530538], [0.7278225806451613, 0.02299484915378955], [0.7337962962962963, 0.02299484915378955]], \"data01\": [[0.0, 38.9587355, -26.711000000000006, 206.61865], [1.0, -2.1362905118453144, -27.60615, 107.7834371894327], [2.0, -18.120610398947836, -27.620150000000002, 55.33090411070109], [3.0, -23.65302410549811, -27.71395, 30.657272747672934], [4.0, -24.91522681666919, -27.722950000000004, 9.137893898723654], [5.0, -26.19287692158421, -27.722950000000004, 2.952980868247465], [6.0, -26.06482243689954, -27.722950000000004, 11.816754797844311], [7.0, -25.959402790691595, -27.722950000000004, 10.534057144988083], [8.0, -26.159246968388892, -27.722950000000004, 7.538918060916572], [9.0, -25.69634630155065, -27.722950000000004, 10.72965164580367], [10.0, -25.933555322828514, -27.722950000000004, 10.642274025393768], [11.0, -25.989419274724398, -27.722950000000004, 15.476584385544072], [12.0, -25.96723192012794, -27.722950000000004, 12.20912279803342], [13.0, -25.98585042349318, -27.722950000000004, 8.762672654205332], [14.0, -25.959264908276015, -27.722950000000004, 12.62586490822914], [15.0, -26.173516748840814, -27.722950000000004, 11.873572046725343], [16.0, -26.045624622643405, -27.722950000000004, 17.32411220175507], [17.0, -26.200433534960343, -27.722950000000004, 7.298942370541332], [18.0, -25.955882421111962, -27.722950000000004, 7.201556057661257], [19.0, -25.984084473034592, -27.722950000000004, 24.933240308819265], [20.0, -26.298045097100623, -27.722950000000004, 8.454255751689402], [21.0, -25.703765576234975, -27.722950000000004, 20.534520493681356], [22.0, -26.09943607278294, -27.722950000000004, 13.139809727618102], [23.0, -26.008711691034414, -27.722950000000004, 6.228968236411703], [24.0, -26.15822912526205, -27.722950000000004, 12.219631442236306], [25.0, -26.09679683201244, -27.722950000000004, 20.590937365226267], [26.0, -26.033706000988786, -27.722950000000004, 10.675720761491348], [27.0, -26.03003602277257, -27.722950000000004, 17.18736899688352], [28.0, -26.131374205865956, -27.722950000000004, 7.955584188552756], [29.0, -26.065138891301338, -27.722950000000004, 23.957752066812716], [30.0, -25.76769203439178, -27.722950000000004, 17.930676200390984], [31.0, -25.804724842325072, -27.722950000000004, 6.8366523601050915], [32.0, -26.137029668341302, -27.722950000000004, 5.410383199584466], [33.0, -26.33994194410786, -27.722950000000004, 8.068306131600124], [34.0, -26.124510454974963, -27.722950000000004, 16.313148086882784], [35.0, -26.069341197557247, -27.722950000000004, 1.7979801612333615], [36.0, -26.05851886111251, -27.722950000000004, 8.598871606386552], [37.0, -26.11488531333178, -27.722950000000004, 5.733554212180692], [38.0, -26.329111888844476, -27.722950000000004, 8.51093871138707], [39.0, -26.13721316106942, -27.722950000000004, 8.832139208276487], [40.0, -25.983682837321386, -27.722950000000004, 8.518756649183786], [41.0, -26.069102678918206, -27.722950000000004, 24.291466622117326], [42.0, -26.187720371678456, -27.722950000000004, 10.05329502654699], [43.0, -26.042942886699226, -27.722950000000004, 4.282907356621699], [44.0, -26.07059069933227, -27.722950000000004, 12.307630336689783], [45.0, -26.0229833079331, -27.722950000000004, 7.069604247823804], [46.0, -26.070289482357158, -27.722950000000004, 12.920625861976973], [47.0, -25.857656048368742, -27.722950000000004, 10.163124262434422], [48.0, -25.7204896398164, -27.722950000000004, 17.87588088488411], [49.0, -26.061878380895177, -27.722950000000004, 10.458963226493736], [50.0, -26.377768434174776, -27.722950000000004, 8.040166433911658]]}, \"id\": \"el29726140195712729936\"});\n",
       "      });\n",
       "    });\n",
       "}else{\n",
       "    // require.js not available: dynamically load d3 & mpld3\n",
       "    mpld3_load_lib(\"https://mpld3.github.io/js/d3.v3.min.js\", function(){\n",
       "         mpld3_load_lib(\"https://mpld3.github.io/js/mpld3.v0.3.js\", function(){\n",
       "                 \n",
       "                 mpld3.draw_figure(\"fig_el297261401957127299364313491516\", {\"axes\": [{\"xlim\": [-2.5, 52.5], \"yscale\": \"linear\", \"axesbg\": \"#FFFFFF\", \"texts\": [{\"v_baseline\": \"hanging\", \"h_anchor\": \"middle\", \"color\": \"#000000\", \"text\": \"Generation\", \"coordinates\": \"axes\", \"zorder\": 3, \"alpha\": 1, \"fontsize\": 10.0, \"position\": [0.49999999999999994, -0.09657836644591611], \"rotation\": -0.0, \"id\": \"el29726140195711409808\"}, {\"v_baseline\": \"auto\", \"h_anchor\": \"middle\", \"color\": \"#000000\", \"text\": \"Fitness\", \"coordinates\": \"axes\", \"zorder\": 3, \"alpha\": 1, \"fontsize\": 10.0, \"position\": [-0.08960573476702509, 0.49999999999999994], \"rotation\": -90.0, \"id\": \"el29726140195711408464\"}, {\"v_baseline\": \"auto\", \"h_anchor\": \"start\", \"color\": \"#000000\", \"text\": \"average\", \"coordinates\": \"axes\", \"zorder\": 1000003.0, \"alpha\": 1, \"fontsize\": 10.0, \"position\": [0.8234020310633213, 0.18855776306107433], \"rotation\": -0.0, \"id\": \"el29726140195712883536\"}, {\"v_baseline\": \"auto\", \"h_anchor\": \"start\", \"color\": \"#000000\", \"text\": \"minimum\", \"coordinates\": \"axes\", \"zorder\": 1000003.0, \"alpha\": 1, \"fontsize\": 10.0, \"position\": [0.8234020310633213, 0.11957321559970566], \"rotation\": -0.0, \"id\": \"el29726140195712255504\"}, {\"v_baseline\": \"auto\", \"h_anchor\": \"start\", \"color\": \"#000000\", \"text\": \"maximum\", \"coordinates\": \"axes\", \"zorder\": 1000003.0, \"alpha\": 1, \"fontsize\": 10.0, \"position\": [0.8234020310633213, 0.05058866813833701], \"rotation\": -0.0, \"id\": \"el29726140195712476432\"}], \"zoomable\": true, \"images\": [], \"xdomain\": [-2.5, 52.5], \"ylim\": [-39.44003000000001, 218.33573], \"paths\": [{\"edgecolor\": \"#CCCCCC\", \"facecolor\": \"#FFFFFF\", \"edgewidth\": 1.0, \"pathcodes\": [\"M\", \"L\", \"S\", \"L\", \"S\", \"L\", \"S\", \"L\", \"S\", \"Z\"], \"yindex\": 1, \"coordinates\": \"axes\", \"dasharray\": \"none\", \"zorder\": 1000000.0, \"alpha\": 0.8, \"xindex\": 0, \"data\": \"data03\", \"id\": \"el29726140195712253840\"}], \"sharey\": [], \"sharex\": [], \"axesbgalpha\": null, \"axes\": [{\"scale\": \"linear\", \"tickformat\": null, \"grid\": {\"gridOn\": false}, \"visible\": true, \"fontsize\": 10.0, \"position\": \"bottom\", \"nticks\": 8, \"tickvalues\": null}, {\"scale\": \"linear\", \"tickformat\": null, \"grid\": {\"gridOn\": false}, \"visible\": true, \"fontsize\": 10.0, \"position\": \"left\", \"nticks\": 7, \"tickvalues\": null}], \"lines\": [{\"drawstyle\": \"default\", \"color\": \"#1F77B4\", \"yindex\": 1, \"coordinates\": \"data\", \"dasharray\": \"none\", \"zorder\": 2, \"alpha\": 1, \"xindex\": 0, \"linewidth\": 1.5, \"data\": \"data01\", \"id\": \"el29726140195712452880\"}, {\"drawstyle\": \"default\", \"color\": \"#FF7F0E\", \"yindex\": 2, \"coordinates\": \"data\", \"dasharray\": \"none\", \"zorder\": 2, \"alpha\": 1, \"xindex\": 0, \"linewidth\": 1.5, \"data\": \"data01\", \"id\": \"el29726140195712452048\"}, {\"drawstyle\": \"default\", \"color\": \"#2CA02C\", \"yindex\": 3, \"coordinates\": \"data\", \"dasharray\": \"none\", \"zorder\": 2, \"alpha\": 1, \"xindex\": 0, \"linewidth\": 1.5, \"data\": \"data01\", \"id\": \"el29726140195712454480\"}, {\"drawstyle\": \"default\", \"color\": \"#1F77B4\", \"yindex\": 1, \"coordinates\": \"axes\", \"dasharray\": \"none\", \"zorder\": 1000002.0, \"alpha\": 1, \"xindex\": 0, \"linewidth\": 1.5, \"data\": \"data02\", \"id\": \"el29726140195712884240\"}, {\"drawstyle\": \"default\", \"color\": \"#FF7F0E\", \"yindex\": 2, \"coordinates\": \"axes\", \"dasharray\": \"none\", \"zorder\": 1000002.0, \"alpha\": 1, \"xindex\": 0, \"linewidth\": 1.5, \"data\": \"data02\", \"id\": \"el29726140195712255056\"}, {\"drawstyle\": \"default\", \"color\": \"#2CA02C\", \"yindex\": 3, \"coordinates\": \"axes\", \"dasharray\": \"none\", \"zorder\": 1000002.0, \"alpha\": 1, \"xindex\": 0, \"linewidth\": 1.5, \"data\": \"data02\", \"id\": \"el29726140195712475216\"}], \"markers\": [], \"id\": \"el29726140195712731792\", \"ydomain\": [-39.44003000000001, 218.33573], \"collections\": [], \"xscale\": \"linear\", \"bbox\": [0.125, 0.125, 0.775, 0.755]}], \"height\": 288.0, \"width\": 432.0, \"plugins\": [{\"type\": \"reset\"}, {\"enabled\": false, \"button\": true, \"type\": \"zoom\"}, {\"enabled\": false, \"button\": true, \"type\": \"boxzoom\"}], \"data\": {\"data02\": [[0.7397700119474313, 0.204654157468727, 0.13566961000735833, 0.0666850625459897], [0.7995071684587813, 0.204654157468727, 0.13566961000735833, 0.0666850625459897]], \"data03\": [[0.7337962962962963, 0.02299484915378955], [0.9790919952210274, 0.02299484915378955], [0.9850657108721624, 0.02299484915378955], [0.9850657108721624, 0.03219278881530538], [0.9850657108721624, 0.23454746136865343], [0.9850657108721624, 0.24374540103016926], [0.9790919952210274, 0.24374540103016926], [0.7337962962962963, 0.24374540103016926], [0.7278225806451613, 0.24374540103016926], [0.7278225806451613, 0.23454746136865343], [0.7278225806451613, 0.03219278881530538], [0.7278225806451613, 0.02299484915378955], [0.7337962962962963, 0.02299484915378955]], \"data01\": [[0.0, 38.9587355, -26.711000000000006, 206.61865], [1.0, -2.1362905118453144, -27.60615, 107.7834371894327], [2.0, -18.120610398947836, -27.620150000000002, 55.33090411070109], [3.0, -23.65302410549811, -27.71395, 30.657272747672934], [4.0, -24.91522681666919, -27.722950000000004, 9.137893898723654], [5.0, -26.19287692158421, -27.722950000000004, 2.952980868247465], [6.0, -26.06482243689954, -27.722950000000004, 11.816754797844311], [7.0, -25.959402790691595, -27.722950000000004, 10.534057144988083], [8.0, -26.159246968388892, -27.722950000000004, 7.538918060916572], [9.0, -25.69634630155065, -27.722950000000004, 10.72965164580367], [10.0, -25.933555322828514, -27.722950000000004, 10.642274025393768], [11.0, -25.989419274724398, -27.722950000000004, 15.476584385544072], [12.0, -25.96723192012794, -27.722950000000004, 12.20912279803342], [13.0, -25.98585042349318, -27.722950000000004, 8.762672654205332], [14.0, -25.959264908276015, -27.722950000000004, 12.62586490822914], [15.0, -26.173516748840814, -27.722950000000004, 11.873572046725343], [16.0, -26.045624622643405, -27.722950000000004, 17.32411220175507], [17.0, -26.200433534960343, -27.722950000000004, 7.298942370541332], [18.0, -25.955882421111962, -27.722950000000004, 7.201556057661257], [19.0, -25.984084473034592, -27.722950000000004, 24.933240308819265], [20.0, -26.298045097100623, -27.722950000000004, 8.454255751689402], [21.0, -25.703765576234975, -27.722950000000004, 20.534520493681356], [22.0, -26.09943607278294, -27.722950000000004, 13.139809727618102], [23.0, -26.008711691034414, -27.722950000000004, 6.228968236411703], [24.0, -26.15822912526205, -27.722950000000004, 12.219631442236306], [25.0, -26.09679683201244, -27.722950000000004, 20.590937365226267], [26.0, -26.033706000988786, -27.722950000000004, 10.675720761491348], [27.0, -26.03003602277257, -27.722950000000004, 17.18736899688352], [28.0, -26.131374205865956, -27.722950000000004, 7.955584188552756], [29.0, -26.065138891301338, -27.722950000000004, 23.957752066812716], [30.0, -25.76769203439178, -27.722950000000004, 17.930676200390984], [31.0, -25.804724842325072, -27.722950000000004, 6.8366523601050915], [32.0, -26.137029668341302, -27.722950000000004, 5.410383199584466], [33.0, -26.33994194410786, -27.722950000000004, 8.068306131600124], [34.0, -26.124510454974963, -27.722950000000004, 16.313148086882784], [35.0, -26.069341197557247, -27.722950000000004, 1.7979801612333615], [36.0, -26.05851886111251, -27.722950000000004, 8.598871606386552], [37.0, -26.11488531333178, -27.722950000000004, 5.733554212180692], [38.0, -26.329111888844476, -27.722950000000004, 8.51093871138707], [39.0, -26.13721316106942, -27.722950000000004, 8.832139208276487], [40.0, -25.983682837321386, -27.722950000000004, 8.518756649183786], [41.0, -26.069102678918206, -27.722950000000004, 24.291466622117326], [42.0, -26.187720371678456, -27.722950000000004, 10.05329502654699], [43.0, -26.042942886699226, -27.722950000000004, 4.282907356621699], [44.0, -26.07059069933227, -27.722950000000004, 12.307630336689783], [45.0, -26.0229833079331, -27.722950000000004, 7.069604247823804], [46.0, -26.070289482357158, -27.722950000000004, 12.920625861976973], [47.0, -25.857656048368742, -27.722950000000004, 10.163124262434422], [48.0, -25.7204896398164, -27.722950000000004, 17.87588088488411], [49.0, -26.061878380895177, -27.722950000000004, 10.458963226493736], [50.0, -26.377768434174776, -27.722950000000004, 8.040166433911658]]}, \"id\": \"el29726140195712729936\"});\n",
       "            })\n",
       "         });\n",
       "}\n",
       "</script>"
      ],
      "text/plain": [
       "<Figure size 432x288 with 1 Axes>"
      ]
     },
     "metadata": {
      "needs_background": "light"
     },
     "output_type": "display_data"
    }
   ],
   "source": [
    "if __name__ == \"__main__\":\n",
    "    pop, log, hof = main()\n",
    "    print(\"Best individual is: %s\\nwith fitness: %s\" % (hof[0], hof[0].fitness))\n",
    "    gen, avg, min_, max_ = log.select(\"gen\", \"avg\", \"min\", \"max\")\n",
    "    plt.plot(gen, avg, label=\"average\")\n",
    "    plt.plot(gen, min_, label=\"minimum\")\n",
    "    plt.plot(gen, max_, label=\"maximum\")\n",
    "    plt.xlabel(\"Generation\")\n",
    "    plt.ylabel(\"Fitness\")\n",
    "    plt.legend(loc=\"lower right\")"
   ]
  },
  {
   "cell_type": "markdown",
   "metadata": {},
   "source": [
    "### From Example 5:\n",
    "Best individual is: [8.61, 6.74]\n",
    "with fitness: (-33.19774999999999,)"
   ]
  },
  {
   "cell_type": "markdown",
   "metadata": {},
   "source": [
    "# Parte B)"
   ]
  },
  {
   "cell_type": "markdown",
   "metadata": {},
   "source": [
    "## Fitness"
   ]
  },
  {
   "cell_type": "code",
   "execution_count": 16,
   "metadata": {},
   "outputs": [],
   "source": [
    "creator.create(\"Fitness2\", base.Fitness, weights=(-0.01,))\n",
    "creator.create(\"Individual2\", list, fitness=creator.Fitness)"
   ]
  },
  {
   "cell_type": "markdown",
   "metadata": {},
   "source": [
    "## Individuo"
   ]
  },
  {
   "cell_type": "code",
   "execution_count": 17,
   "metadata": {},
   "outputs": [],
   "source": [
    "def nuevoGEN():\n",
    "    v=[]\n",
    "    v.append(round(-1 + np.random.random() * (1 - -1), 3))\n",
    "    v.append(round(-0.8 + np.random.random() * (1.2 - -0.8), 3))\n",
    "    v.append(round(-0.5 + np.random.random() * (0.75 - -0.5), 3))\n",
    "    v.append(round(-1.4 + np.random.random() * (0.5 - -1.4), 3))\n",
    "    return v"
   ]
  },
  {
   "cell_type": "code",
   "execution_count": 19,
   "metadata": {},
   "outputs": [],
   "source": [
    "toolbox = base.Toolbox()\n",
    "toolbox.register(\"individual2\", tools.initIterate, creator.Individual, nuevoGEN)\n",
    "toolbox.register(\"population2\", tools.initRepeat, list, toolbox.individual2)"
   ]
  },
  {
   "cell_type": "markdown",
   "metadata": {},
   "source": [
    "## Evaluacion, cruza, mutacion y seleccion"
   ]
  },
  {
   "cell_type": "code",
   "execution_count": 20,
   "metadata": {},
   "outputs": [],
   "source": [
    "def evaluarADN2(x):\n",
    "    return [F_2(x)]"
   ]
  },
  {
   "cell_type": "code",
   "execution_count": 29,
   "metadata": {},
   "outputs": [],
   "source": [
    "MAX_ITERATIONS = 25\n",
    "def buildNeighbour(x, inf_limit, max_limit):\n",
    "    nuevoX = x + np.random.uniform(low=-0.1, high=0.1)\n",
    "    if nuevoX > max_limit or nuevoX < inf_limit:\n",
    "        nuevoX = x\n",
    "    return nuevoX\n",
    "\n",
    "def vecinosMutantes2(x):\n",
    "    v = []\n",
    "    v.append([buildNeighbour(x[0],-1,1), x[1], x[2], x[3]])\n",
    "    v.append([x[0], buildNeighbour(x[1],-0.8,1.2), x[2], x[3]])\n",
    "    v.append([x[0], x[1], buildNeighbour(x[2],-0.5,0.75), x[3]])\n",
    "    v.append([x[0], x[1], x[2], buildNeighbour(x[3],-1.4,0.5)])\n",
    "    return v\n",
    "\n",
    "def mutateHillClimbing2(x, indpb=0.5):\n",
    "    doit = np.random.uniform(0,1)\n",
    "    if (doit < indpb):\n",
    "        for i in range(MAX_ITERATIONS):\n",
    "            x, evaluaciones = hill_climb(x, evaluarADN2, vecinosMutantes2)\n",
    "        return creator.Individual2(x),\n",
    "    return x,"
   ]
  },
  {
   "cell_type": "code",
   "execution_count": 30,
   "metadata": {},
   "outputs": [],
   "source": [
    "toolbox.register(\"evaluate\", evaluarADN2)\n",
    "toolbox.register(\"mate\", tools.cxTwoPoint)\n",
    "#toolbox.register(\"mutate\", tools.mutGaussian, indpb=0.50, mu=0.01, sigma=0.3)\n",
    "toolbox.register(\"mutate\", mutateHillClimbing2, indpb=0.50)\n",
    "toolbox.register(\"select\", tools.selRoulette)"
   ]
  },
  {
   "cell_type": "code",
   "execution_count": 31,
   "metadata": {},
   "outputs": [],
   "source": [
    "def main():    \n",
    "    GENERACIONES=30\n",
    "    pop = toolbox.population2(n=1000)\n",
    "    hof = tools.HallOfFame(1)\n",
    "    stats = tools.Statistics(lambda ind: ind.fitness.values)\n",
    "    stats.register(\"avg\", np.mean)\n",
    "    stats.register(\"min\", np.min)\n",
    "    stats.register(\"max\", np.max)\n",
    "    pop, logbook = algorithms.eaSimple(pop, toolbox, cxpb=0.5, mutpb=0.2, ngen=GENERACIONES, stats=stats, halloffame=hof, verbose=True)\n",
    "    return pop, logbook, hof"
   ]
  },
  {
   "cell_type": "code",
   "execution_count": 32,
   "metadata": {},
   "outputs": [
    {
     "name": "stdout",
     "output_type": "stream",
     "text": [
      "gen\tnevals\tavg    \tmin      \tmax    \n",
      "0  \t1000  \t1.52918\t0.0339358\t5.82674\n",
      "1  \t577   \t2.56945\t0.0479303\t6.68486\n",
      "2  \t597   \t3.94525\t0.176977 \t6.68726\n",
      "3  \t578   \t4.90404\t0.653244 \t6.68726\n",
      "4  \t597   \t5.45312\t1.17543  \t6.69349\n",
      "5  \t607   \t5.80781\t1.78427  \t6.69192\n",
      "6  \t657   \t5.99623\t2.71011  \t6.69337\n",
      "7  \t549   \t6.14043\t3.43282  \t6.69337\n",
      "8  \t568   \t6.22101\t3.14266  \t6.69781\n",
      "9  \t610   \t6.30142\t4.00318  \t6.69722\n",
      "10 \t596   \t6.33866\t4.00318  \t6.69792\n",
      "11 \t628   \t6.37581\t2.98029  \t6.69926\n",
      "12 \t597   \t6.40112\t2.96974  \t6.70059\n",
      "13 \t598   \t6.43133\t4.50629  \t6.69866\n",
      "14 \t587   \t6.44747\t4.50629  \t6.6987 \n",
      "15 \t584   \t6.48083\t4.50629  \t6.69971\n",
      "16 \t590   \t6.48661\t4.83697  \t6.69981\n",
      "17 \t557   \t6.49402\t4.83637  \t6.69971\n",
      "18 \t641   \t6.52999\t3.88641  \t6.7018 \n",
      "19 \t613   \t6.55271\t5.00162  \t6.7018 \n",
      "20 \t630   \t6.57464\t5.49181  \t6.7018 \n",
      "21 \t551   \t6.58572\t5.49181  \t6.7018 \n",
      "22 \t561   \t6.5962 \t5.49181  \t6.70085\n",
      "23 \t574   \t6.60617\t5.49181  \t6.70085\n",
      "24 \t582   \t6.60973\t5.49181  \t6.70109\n",
      "25 \t579   \t6.61594\t5.78816  \t6.70054\n",
      "26 \t607   \t6.62369\t5.78816  \t6.7004 \n",
      "27 \t598   \t6.62158\t5.61083  \t6.702  \n",
      "28 \t554   \t6.63035\t5.82379  \t6.7004 \n",
      "29 \t618   \t6.62806\t5.82379  \t6.70032\n",
      "30 \t569   \t6.63323\t5.82519  \t6.70032\n",
      "Best individual is: [0.022, -0.102, 0.086, 0.173]\n",
      "with fitness: (0.033935801041,)\n"
     ]
    },
    {
     "data": {
      "image/png": "[encoded data removed]",
      "text/html": [
       "\n",
       "\n",
       "<style>\n",
       "\n",
       "</style>\n",
       "\n",
       "<div id=\"fig_el29726140196417147920806168541\"></div>\n",
       "<script>\n",
       "function mpld3_load_lib(url, callback){\n",
       "  var s = document.createElement('script');\n",
       "  s.src = url;\n",
       "  s.async = true;\n",
       "  s.onreadystatechange = s.onload = callback;\n",
       "  s.onerror = function(){console.warn(\"failed to load library \" + url);};\n",
       "  document.getElementsByTagName(\"head\")[0].appendChild(s);\n",
       "}\n",
       "\n",
       "if(typeof(mpld3) !== \"undefined\" && mpld3._mpld3IsLoaded){\n",
       "   // already loaded: just create the figure\n",
       "   !function(mpld3){\n",
       "       \n",
       "       mpld3.draw_figure(\"fig_el29726140196417147920806168541\", {\"axes\": [{\"xlim\": [-1.5, 31.5], \"yscale\": \"linear\", \"axesbg\": \"#FFFFFF\", \"texts\": [{\"v_baseline\": \"hanging\", \"h_anchor\": \"middle\", \"color\": \"#000000\", \"text\": \"Generation\", \"coordinates\": \"axes\", \"zorder\": 3, \"alpha\": 1, \"fontsize\": 10.0, \"position\": [0.49999999999999994, -0.09657836644591611], \"rotation\": -0.0, \"id\": \"el29726140195712429520\"}, {\"v_baseline\": \"auto\", \"h_anchor\": \"middle\", \"color\": \"#000000\", \"text\": \"Fitness\", \"coordinates\": \"axes\", \"zorder\": 3, \"alpha\": 1, \"fontsize\": 10.0, \"position\": [-0.051896654719235366, 0.49999999999999994], \"rotation\": -90.0, \"id\": \"el29726140195712885584\"}, {\"v_baseline\": \"auto\", \"h_anchor\": \"start\", \"color\": \"#000000\", \"text\": \"average\", \"coordinates\": \"axes\", \"zorder\": 1000003.0, \"alpha\": 1, \"fontsize\": 10.0, \"position\": [0.8234020310633213, 0.18855776306107433], \"rotation\": -0.0, \"id\": \"el29726140195712131536\"}, {\"v_baseline\": \"auto\", \"h_anchor\": \"start\", \"color\": \"#000000\", \"text\": \"minimum\", \"coordinates\": \"axes\", \"zorder\": 1000003.0, \"alpha\": 1, \"fontsize\": 10.0, \"position\": [0.8234020310633213, 0.11957321559970566], \"rotation\": -0.0, \"id\": \"el29726140195712132112\"}, {\"v_baseline\": \"auto\", \"h_anchor\": \"start\", \"color\": \"#000000\", \"text\": \"maximum\", \"coordinates\": \"axes\", \"zorder\": 1000003.0, \"alpha\": 1, \"fontsize\": 10.0, \"position\": [0.8234020310633213, 0.05058866813833701], \"rotation\": -0.0, \"id\": \"el29726140195712090064\"}], \"zoomable\": true, \"images\": [], \"xdomain\": [-1.5, 31.5], \"ylim\": [-0.29946738580072496, 7.0354027247172235], \"paths\": [{\"edgecolor\": \"#CCCCCC\", \"facecolor\": \"#FFFFFF\", \"edgewidth\": 1.0, \"pathcodes\": [\"M\", \"L\", \"S\", \"L\", \"S\", \"L\", \"S\", \"L\", \"S\", \"Z\"], \"yindex\": 1, \"coordinates\": \"axes\", \"dasharray\": \"none\", \"zorder\": 1000000.0, \"alpha\": 0.8, \"xindex\": 0, \"data\": \"data03\", \"id\": \"el29726140195711758160\"}], \"sharey\": [], \"sharex\": [], \"axesbgalpha\": null, \"axes\": [{\"scale\": \"linear\", \"tickformat\": null, \"grid\": {\"gridOn\": false}, \"visible\": true, \"fontsize\": 10.0, \"position\": \"bottom\", \"nticks\": 9, \"tickvalues\": null}, {\"scale\": \"linear\", \"tickformat\": null, \"grid\": {\"gridOn\": false}, \"visible\": true, \"fontsize\": 10.0, \"position\": \"left\", \"nticks\": 10, \"tickvalues\": null}], \"lines\": [{\"drawstyle\": \"default\", \"color\": \"#1F77B4\", \"yindex\": 1, \"coordinates\": \"data\", \"dasharray\": \"none\", \"zorder\": 2, \"alpha\": 1, \"xindex\": 0, \"linewidth\": 1.5, \"data\": \"data01\", \"id\": \"el29726140195711755408\"}, {\"drawstyle\": \"default\", \"color\": \"#FF7F0E\", \"yindex\": 2, \"coordinates\": \"data\", \"dasharray\": \"none\", \"zorder\": 2, \"alpha\": 1, \"xindex\": 0, \"linewidth\": 1.5, \"data\": \"data01\", \"id\": \"el29726140195711754896\"}, {\"drawstyle\": \"default\", \"color\": \"#2CA02C\", \"yindex\": 3, \"coordinates\": \"data\", \"dasharray\": \"none\", \"zorder\": 2, \"alpha\": 1, \"xindex\": 0, \"linewidth\": 1.5, \"data\": \"data01\", \"id\": \"el29726140195711756688\"}, {\"drawstyle\": \"default\", \"color\": \"#1F77B4\", \"yindex\": 1, \"coordinates\": \"axes\", \"dasharray\": \"none\", \"zorder\": 1000002.0, \"alpha\": 1, \"xindex\": 0, \"linewidth\": 1.5, \"data\": \"data02\", \"id\": \"el29726140195712134800\"}, {\"drawstyle\": \"default\", \"color\": \"#FF7F0E\", \"yindex\": 2, \"coordinates\": \"axes\", \"dasharray\": \"none\", \"zorder\": 1000002.0, \"alpha\": 1, \"xindex\": 0, \"linewidth\": 1.5, \"data\": \"data02\", \"id\": \"el29726140195712134736\"}, {\"drawstyle\": \"default\", \"color\": \"#2CA02C\", \"yindex\": 3, \"coordinates\": \"axes\", \"dasharray\": \"none\", \"zorder\": 1000002.0, \"alpha\": 1, \"xindex\": 0, \"linewidth\": 1.5, \"data\": \"data02\", \"id\": \"el29726140195712086736\"}], \"markers\": [], \"id\": \"el29726140195712427280\", \"ydomain\": [-0.29946738580072496, 7.0354027247172235], \"collections\": [], \"xscale\": \"linear\", \"bbox\": [0.125, 0.125, 0.775, 0.755]}], \"height\": 288.0, \"width\": 432.0, \"plugins\": [{\"type\": \"reset\"}, {\"enabled\": false, \"button\": true, \"type\": \"zoom\"}, {\"enabled\": false, \"button\": true, \"type\": \"boxzoom\"}], \"data\": {\"data02\": [[0.7397700119474313, 0.204654157468727, 0.13566961000735833, 0.0666850625459897], [0.7995071684587813, 0.204654157468727, 0.13566961000735833, 0.0666850625459897]], \"data03\": [[0.7337962962962963, 0.02299484915378955], [0.9790919952210274, 0.02299484915378955], [0.9850657108721624, 0.02299484915378955], [0.9850657108721624, 0.03219278881530538], [0.9850657108721624, 0.23454746136865343], [0.9850657108721624, 0.24374540103016926], [0.9790919952210274, 0.24374540103016926], [0.7337962962962963, 0.24374540103016926], [0.7278225806451613, 0.24374540103016926], [0.7278225806451613, 0.23454746136865343], [0.7278225806451613, 0.03219278881530538], [0.7278225806451613, 0.02299484915378955], [0.7337962962962963, 0.02299484915378955]], \"data01\": [[0.0, 1.529182062874795, 0.033935801041, 5.826738676855999], [1.0, 2.569451402114368, 0.047930337041, 6.684859797394403], [2.0, 3.9452530812573188, 0.176976745041, 6.687258116902125], [3.0, 4.904043359896438, 0.6532437343610001, 6.687258116902125], [4.0, 5.453115839202061, 1.175428773496, 6.693485216820241], [5.0, 5.807810171446929, 1.784268697387594, 6.691921122281276], [6.0, 5.9962292087097975, 2.7101106884774286, 6.693367879481028], [7.0, 6.140428703319456, 3.43281533608166, 6.693367879481028], [8.0, 6.221009990959714, 3.1426644172983282, 6.697807737844177], [9.0, 6.301424822902443, 4.003181744762966, 6.697223762965958], [10.0, 6.338657852070004, 4.003181744762966, 6.697919230013137], [11.0, 6.375805325108907, 2.9802910949657044, 6.6992597579125555], [12.0, 6.401116003658637, 2.969744116514722, 6.7005850909798585], [13.0, 6.431332640707618, 4.506292964149222, 6.698657770917922], [14.0, 6.447465768766351, 4.506292964149222, 6.698700326163659], [15.0, 6.480832772188003, 4.506292964149222, 6.699714575018831], [16.0, 6.486608322655975, 4.836969337767563, 6.699809538379825], [17.0, 6.494023703443105, 4.836372742824449, 6.699714575018831], [18.0, 6.5299912102003645, 3.886409637388876, 6.701801029957094], [19.0, 6.552712545989143, 5.001618982855845, 6.701801029957094], [20.0, 6.574642646625229, 5.491812758755784, 6.701801029957094], [21.0, 6.585724187176123, 5.491812758755784, 6.701801029957094], [22.0, 6.596204886213195, 5.491812758755784, 6.700852810251045], [23.0, 6.606170861222469, 5.491812758755784, 6.700852810251045], [24.0, 6.609727622276046, 5.491812758755784, 6.701090094934813], [25.0, 6.615943351635861, 5.788164110887757, 6.700541492465721], [26.0, 6.623694769609385, 5.788164110887757, 6.700398886604615], [27.0, 6.621583082956499, 5.610831406748799, 6.701999537875499], [28.0, 6.630351326085889, 5.823786270325481, 6.700398886604615], [29.0, 6.628059049682588, 5.823786270325481, 6.700319890220125], [30.0, 6.633233365657019, 5.825186197924609, 6.700319890220125]]}, \"id\": \"el29726140196417147920\"});\n",
       "   }(mpld3);\n",
       "}else if(typeof define === \"function\" && define.amd){\n",
       "   // require.js is available: use it to load d3/mpld3\n",
       "   require.config({paths: {d3: \"https://mpld3.github.io/js/d3.v3.min\"}});\n",
       "   require([\"d3\"], function(d3){\n",
       "      window.d3 = d3;\n",
       "      mpld3_load_lib(\"https://mpld3.github.io/js/mpld3.v0.3.js\", function(){\n",
       "         \n",
       "         mpld3.draw_figure(\"fig_el29726140196417147920806168541\", {\"axes\": [{\"xlim\": [-1.5, 31.5], \"yscale\": \"linear\", \"axesbg\": \"#FFFFFF\", \"texts\": [{\"v_baseline\": \"hanging\", \"h_anchor\": \"middle\", \"color\": \"#000000\", \"text\": \"Generation\", \"coordinates\": \"axes\", \"zorder\": 3, \"alpha\": 1, \"fontsize\": 10.0, \"position\": [0.49999999999999994, -0.09657836644591611], \"rotation\": -0.0, \"id\": \"el29726140195712429520\"}, {\"v_baseline\": \"auto\", \"h_anchor\": \"middle\", \"color\": \"#000000\", \"text\": \"Fitness\", \"coordinates\": \"axes\", \"zorder\": 3, \"alpha\": 1, \"fontsize\": 10.0, \"position\": [-0.051896654719235366, 0.49999999999999994], \"rotation\": -90.0, \"id\": \"el29726140195712885584\"}, {\"v_baseline\": \"auto\", \"h_anchor\": \"start\", \"color\": \"#000000\", \"text\": \"average\", \"coordinates\": \"axes\", \"zorder\": 1000003.0, \"alpha\": 1, \"fontsize\": 10.0, \"position\": [0.8234020310633213, 0.18855776306107433], \"rotation\": -0.0, \"id\": \"el29726140195712131536\"}, {\"v_baseline\": \"auto\", \"h_anchor\": \"start\", \"color\": \"#000000\", \"text\": \"minimum\", \"coordinates\": \"axes\", \"zorder\": 1000003.0, \"alpha\": 1, \"fontsize\": 10.0, \"position\": [0.8234020310633213, 0.11957321559970566], \"rotation\": -0.0, \"id\": \"el29726140195712132112\"}, {\"v_baseline\": \"auto\", \"h_anchor\": \"start\", \"color\": \"#000000\", \"text\": \"maximum\", \"coordinates\": \"axes\", \"zorder\": 1000003.0, \"alpha\": 1, \"fontsize\": 10.0, \"position\": [0.8234020310633213, 0.05058866813833701], \"rotation\": -0.0, \"id\": \"el29726140195712090064\"}], \"zoomable\": true, \"images\": [], \"xdomain\": [-1.5, 31.5], \"ylim\": [-0.29946738580072496, 7.0354027247172235], \"paths\": [{\"edgecolor\": \"#CCCCCC\", \"facecolor\": \"#FFFFFF\", \"edgewidth\": 1.0, \"pathcodes\": [\"M\", \"L\", \"S\", \"L\", \"S\", \"L\", \"S\", \"L\", \"S\", \"Z\"], \"yindex\": 1, \"coordinates\": \"axes\", \"dasharray\": \"none\", \"zorder\": 1000000.0, \"alpha\": 0.8, \"xindex\": 0, \"data\": \"data03\", \"id\": \"el29726140195711758160\"}], \"sharey\": [], \"sharex\": [], \"axesbgalpha\": null, \"axes\": [{\"scale\": \"linear\", \"tickformat\": null, \"grid\": {\"gridOn\": false}, \"visible\": true, \"fontsize\": 10.0, \"position\": \"bottom\", \"nticks\": 9, \"tickvalues\": null}, {\"scale\": \"linear\", \"tickformat\": null, \"grid\": {\"gridOn\": false}, \"visible\": true, \"fontsize\": 10.0, \"position\": \"left\", \"nticks\": 10, \"tickvalues\": null}], \"lines\": [{\"drawstyle\": \"default\", \"color\": \"#1F77B4\", \"yindex\": 1, \"coordinates\": \"data\", \"dasharray\": \"none\", \"zorder\": 2, \"alpha\": 1, \"xindex\": 0, \"linewidth\": 1.5, \"data\": \"data01\", \"id\": \"el29726140195711755408\"}, {\"drawstyle\": \"default\", \"color\": \"#FF7F0E\", \"yindex\": 2, \"coordinates\": \"data\", \"dasharray\": \"none\", \"zorder\": 2, \"alpha\": 1, \"xindex\": 0, \"linewidth\": 1.5, \"data\": \"data01\", \"id\": \"el29726140195711754896\"}, {\"drawstyle\": \"default\", \"color\": \"#2CA02C\", \"yindex\": 3, \"coordinates\": \"data\", \"dasharray\": \"none\", \"zorder\": 2, \"alpha\": 1, \"xindex\": 0, \"linewidth\": 1.5, \"data\": \"data01\", \"id\": \"el29726140195711756688\"}, {\"drawstyle\": \"default\", \"color\": \"#1F77B4\", \"yindex\": 1, \"coordinates\": \"axes\", \"dasharray\": \"none\", \"zorder\": 1000002.0, \"alpha\": 1, \"xindex\": 0, \"linewidth\": 1.5, \"data\": \"data02\", \"id\": \"el29726140195712134800\"}, {\"drawstyle\": \"default\", \"color\": \"#FF7F0E\", \"yindex\": 2, \"coordinates\": \"axes\", \"dasharray\": \"none\", \"zorder\": 1000002.0, \"alpha\": 1, \"xindex\": 0, \"linewidth\": 1.5, \"data\": \"data02\", \"id\": \"el29726140195712134736\"}, {\"drawstyle\": \"default\", \"color\": \"#2CA02C\", \"yindex\": 3, \"coordinates\": \"axes\", \"dasharray\": \"none\", \"zorder\": 1000002.0, \"alpha\": 1, \"xindex\": 0, \"linewidth\": 1.5, \"data\": \"data02\", \"id\": \"el29726140195712086736\"}], \"markers\": [], \"id\": \"el29726140195712427280\", \"ydomain\": [-0.29946738580072496, 7.0354027247172235], \"collections\": [], \"xscale\": \"linear\", \"bbox\": [0.125, 0.125, 0.775, 0.755]}], \"height\": 288.0, \"width\": 432.0, \"plugins\": [{\"type\": \"reset\"}, {\"enabled\": false, \"button\": true, \"type\": \"zoom\"}, {\"enabled\": false, \"button\": true, \"type\": \"boxzoom\"}], \"data\": {\"data02\": [[0.7397700119474313, 0.204654157468727, 0.13566961000735833, 0.0666850625459897], [0.7995071684587813, 0.204654157468727, 0.13566961000735833, 0.0666850625459897]], \"data03\": [[0.7337962962962963, 0.02299484915378955], [0.9790919952210274, 0.02299484915378955], [0.9850657108721624, 0.02299484915378955], [0.9850657108721624, 0.03219278881530538], [0.9850657108721624, 0.23454746136865343], [0.9850657108721624, 0.24374540103016926], [0.9790919952210274, 0.24374540103016926], [0.7337962962962963, 0.24374540103016926], [0.7278225806451613, 0.24374540103016926], [0.7278225806451613, 0.23454746136865343], [0.7278225806451613, 0.03219278881530538], [0.7278225806451613, 0.02299484915378955], [0.7337962962962963, 0.02299484915378955]], \"data01\": [[0.0, 1.529182062874795, 0.033935801041, 5.826738676855999], [1.0, 2.569451402114368, 0.047930337041, 6.684859797394403], [2.0, 3.9452530812573188, 0.176976745041, 6.687258116902125], [3.0, 4.904043359896438, 0.6532437343610001, 6.687258116902125], [4.0, 5.453115839202061, 1.175428773496, 6.693485216820241], [5.0, 5.807810171446929, 1.784268697387594, 6.691921122281276], [6.0, 5.9962292087097975, 2.7101106884774286, 6.693367879481028], [7.0, 6.140428703319456, 3.43281533608166, 6.693367879481028], [8.0, 6.221009990959714, 3.1426644172983282, 6.697807737844177], [9.0, 6.301424822902443, 4.003181744762966, 6.697223762965958], [10.0, 6.338657852070004, 4.003181744762966, 6.697919230013137], [11.0, 6.375805325108907, 2.9802910949657044, 6.6992597579125555], [12.0, 6.401116003658637, 2.969744116514722, 6.7005850909798585], [13.0, 6.431332640707618, 4.506292964149222, 6.698657770917922], [14.0, 6.447465768766351, 4.506292964149222, 6.698700326163659], [15.0, 6.480832772188003, 4.506292964149222, 6.699714575018831], [16.0, 6.486608322655975, 4.836969337767563, 6.699809538379825], [17.0, 6.494023703443105, 4.836372742824449, 6.699714575018831], [18.0, 6.5299912102003645, 3.886409637388876, 6.701801029957094], [19.0, 6.552712545989143, 5.001618982855845, 6.701801029957094], [20.0, 6.574642646625229, 5.491812758755784, 6.701801029957094], [21.0, 6.585724187176123, 5.491812758755784, 6.701801029957094], [22.0, 6.596204886213195, 5.491812758755784, 6.700852810251045], [23.0, 6.606170861222469, 5.491812758755784, 6.700852810251045], [24.0, 6.609727622276046, 5.491812758755784, 6.701090094934813], [25.0, 6.615943351635861, 5.788164110887757, 6.700541492465721], [26.0, 6.623694769609385, 5.788164110887757, 6.700398886604615], [27.0, 6.621583082956499, 5.610831406748799, 6.701999537875499], [28.0, 6.630351326085889, 5.823786270325481, 6.700398886604615], [29.0, 6.628059049682588, 5.823786270325481, 6.700319890220125], [30.0, 6.633233365657019, 5.825186197924609, 6.700319890220125]]}, \"id\": \"el29726140196417147920\"});\n",
       "      });\n",
       "    });\n",
       "}else{\n",
       "    // require.js not available: dynamically load d3 & mpld3\n",
       "    mpld3_load_lib(\"https://mpld3.github.io/js/d3.v3.min.js\", function(){\n",
       "         mpld3_load_lib(\"https://mpld3.github.io/js/mpld3.v0.3.js\", function(){\n",
       "                 \n",
       "                 mpld3.draw_figure(\"fig_el29726140196417147920806168541\", {\"axes\": [{\"xlim\": [-1.5, 31.5], \"yscale\": \"linear\", \"axesbg\": \"#FFFFFF\", \"texts\": [{\"v_baseline\": \"hanging\", \"h_anchor\": \"middle\", \"color\": \"#000000\", \"text\": \"Generation\", \"coordinates\": \"axes\", \"zorder\": 3, \"alpha\": 1, \"fontsize\": 10.0, \"position\": [0.49999999999999994, -0.09657836644591611], \"rotation\": -0.0, \"id\": \"el29726140195712429520\"}, {\"v_baseline\": \"auto\", \"h_anchor\": \"middle\", \"color\": \"#000000\", \"text\": \"Fitness\", \"coordinates\": \"axes\", \"zorder\": 3, \"alpha\": 1, \"fontsize\": 10.0, \"position\": [-0.051896654719235366, 0.49999999999999994], \"rotation\": -90.0, \"id\": \"el29726140195712885584\"}, {\"v_baseline\": \"auto\", \"h_anchor\": \"start\", \"color\": \"#000000\", \"text\": \"average\", \"coordinates\": \"axes\", \"zorder\": 1000003.0, \"alpha\": 1, \"fontsize\": 10.0, \"position\": [0.8234020310633213, 0.18855776306107433], \"rotation\": -0.0, \"id\": \"el29726140195712131536\"}, {\"v_baseline\": \"auto\", \"h_anchor\": \"start\", \"color\": \"#000000\", \"text\": \"minimum\", \"coordinates\": \"axes\", \"zorder\": 1000003.0, \"alpha\": 1, \"fontsize\": 10.0, \"position\": [0.8234020310633213, 0.11957321559970566], \"rotation\": -0.0, \"id\": \"el29726140195712132112\"}, {\"v_baseline\": \"auto\", \"h_anchor\": \"start\", \"color\": \"#000000\", \"text\": \"maximum\", \"coordinates\": \"axes\", \"zorder\": 1000003.0, \"alpha\": 1, \"fontsize\": 10.0, \"position\": [0.8234020310633213, 0.05058866813833701], \"rotation\": -0.0, \"id\": \"el29726140195712090064\"}], \"zoomable\": true, \"images\": [], \"xdomain\": [-1.5, 31.5], \"ylim\": [-0.29946738580072496, 7.0354027247172235], \"paths\": [{\"edgecolor\": \"#CCCCCC\", \"facecolor\": \"#FFFFFF\", \"edgewidth\": 1.0, \"pathcodes\": [\"M\", \"L\", \"S\", \"L\", \"S\", \"L\", \"S\", \"L\", \"S\", \"Z\"], \"yindex\": 1, \"coordinates\": \"axes\", \"dasharray\": \"none\", \"zorder\": 1000000.0, \"alpha\": 0.8, \"xindex\": 0, \"data\": \"data03\", \"id\": \"el29726140195711758160\"}], \"sharey\": [], \"sharex\": [], \"axesbgalpha\": null, \"axes\": [{\"scale\": \"linear\", \"tickformat\": null, \"grid\": {\"gridOn\": false}, \"visible\": true, \"fontsize\": 10.0, \"position\": \"bottom\", \"nticks\": 9, \"tickvalues\": null}, {\"scale\": \"linear\", \"tickformat\": null, \"grid\": {\"gridOn\": false}, \"visible\": true, \"fontsize\": 10.0, \"position\": \"left\", \"nticks\": 10, \"tickvalues\": null}], \"lines\": [{\"drawstyle\": \"default\", \"color\": \"#1F77B4\", \"yindex\": 1, \"coordinates\": \"data\", \"dasharray\": \"none\", \"zorder\": 2, \"alpha\": 1, \"xindex\": 0, \"linewidth\": 1.5, \"data\": \"data01\", \"id\": \"el29726140195711755408\"}, {\"drawstyle\": \"default\", \"color\": \"#FF7F0E\", \"yindex\": 2, \"coordinates\": \"data\", \"dasharray\": \"none\", \"zorder\": 2, \"alpha\": 1, \"xindex\": 0, \"linewidth\": 1.5, \"data\": \"data01\", \"id\": \"el29726140195711754896\"}, {\"drawstyle\": \"default\", \"color\": \"#2CA02C\", \"yindex\": 3, \"coordinates\": \"data\", \"dasharray\": \"none\", \"zorder\": 2, \"alpha\": 1, \"xindex\": 0, \"linewidth\": 1.5, \"data\": \"data01\", \"id\": \"el29726140195711756688\"}, {\"drawstyle\": \"default\", \"color\": \"#1F77B4\", \"yindex\": 1, \"coordinates\": \"axes\", \"dasharray\": \"none\", \"zorder\": 1000002.0, \"alpha\": 1, \"xindex\": 0, \"linewidth\": 1.5, \"data\": \"data02\", \"id\": \"el29726140195712134800\"}, {\"drawstyle\": \"default\", \"color\": \"#FF7F0E\", \"yindex\": 2, \"coordinates\": \"axes\", \"dasharray\": \"none\", \"zorder\": 1000002.0, \"alpha\": 1, \"xindex\": 0, \"linewidth\": 1.5, \"data\": \"data02\", \"id\": \"el29726140195712134736\"}, {\"drawstyle\": \"default\", \"color\": \"#2CA02C\", \"yindex\": 3, \"coordinates\": \"axes\", \"dasharray\": \"none\", \"zorder\": 1000002.0, \"alpha\": 1, \"xindex\": 0, \"linewidth\": 1.5, \"data\": \"data02\", \"id\": \"el29726140195712086736\"}], \"markers\": [], \"id\": \"el29726140195712427280\", \"ydomain\": [-0.29946738580072496, 7.0354027247172235], \"collections\": [], \"xscale\": \"linear\", \"bbox\": [0.125, 0.125, 0.775, 0.755]}], \"height\": 288.0, \"width\": 432.0, \"plugins\": [{\"type\": \"reset\"}, {\"enabled\": false, \"button\": true, \"type\": \"zoom\"}, {\"enabled\": false, \"button\": true, \"type\": \"boxzoom\"}], \"data\": {\"data02\": [[0.7397700119474313, 0.204654157468727, 0.13566961000735833, 0.0666850625459897], [0.7995071684587813, 0.204654157468727, 0.13566961000735833, 0.0666850625459897]], \"data03\": [[0.7337962962962963, 0.02299484915378955], [0.9790919952210274, 0.02299484915378955], [0.9850657108721624, 0.02299484915378955], [0.9850657108721624, 0.03219278881530538], [0.9850657108721624, 0.23454746136865343], [0.9850657108721624, 0.24374540103016926], [0.9790919952210274, 0.24374540103016926], [0.7337962962962963, 0.24374540103016926], [0.7278225806451613, 0.24374540103016926], [0.7278225806451613, 0.23454746136865343], [0.7278225806451613, 0.03219278881530538], [0.7278225806451613, 0.02299484915378955], [0.7337962962962963, 0.02299484915378955]], \"data01\": [[0.0, 1.529182062874795, 0.033935801041, 5.826738676855999], [1.0, 2.569451402114368, 0.047930337041, 6.684859797394403], [2.0, 3.9452530812573188, 0.176976745041, 6.687258116902125], [3.0, 4.904043359896438, 0.6532437343610001, 6.687258116902125], [4.0, 5.453115839202061, 1.175428773496, 6.693485216820241], [5.0, 5.807810171446929, 1.784268697387594, 6.691921122281276], [6.0, 5.9962292087097975, 2.7101106884774286, 6.693367879481028], [7.0, 6.140428703319456, 3.43281533608166, 6.693367879481028], [8.0, 6.221009990959714, 3.1426644172983282, 6.697807737844177], [9.0, 6.301424822902443, 4.003181744762966, 6.697223762965958], [10.0, 6.338657852070004, 4.003181744762966, 6.697919230013137], [11.0, 6.375805325108907, 2.9802910949657044, 6.6992597579125555], [12.0, 6.401116003658637, 2.969744116514722, 6.7005850909798585], [13.0, 6.431332640707618, 4.506292964149222, 6.698657770917922], [14.0, 6.447465768766351, 4.506292964149222, 6.698700326163659], [15.0, 6.480832772188003, 4.506292964149222, 6.699714575018831], [16.0, 6.486608322655975, 4.836969337767563, 6.699809538379825], [17.0, 6.494023703443105, 4.836372742824449, 6.699714575018831], [18.0, 6.5299912102003645, 3.886409637388876, 6.701801029957094], [19.0, 6.552712545989143, 5.001618982855845, 6.701801029957094], [20.0, 6.574642646625229, 5.491812758755784, 6.701801029957094], [21.0, 6.585724187176123, 5.491812758755784, 6.701801029957094], [22.0, 6.596204886213195, 5.491812758755784, 6.700852810251045], [23.0, 6.606170861222469, 5.491812758755784, 6.700852810251045], [24.0, 6.609727622276046, 5.491812758755784, 6.701090094934813], [25.0, 6.615943351635861, 5.788164110887757, 6.700541492465721], [26.0, 6.623694769609385, 5.788164110887757, 6.700398886604615], [27.0, 6.621583082956499, 5.610831406748799, 6.701999537875499], [28.0, 6.630351326085889, 5.823786270325481, 6.700398886604615], [29.0, 6.628059049682588, 5.823786270325481, 6.700319890220125], [30.0, 6.633233365657019, 5.825186197924609, 6.700319890220125]]}, \"id\": \"el29726140196417147920\"});\n",
       "            })\n",
       "         });\n",
       "}\n",
       "</script>"
      ],
      "text/plain": [
       "<Figure size 432x288 with 1 Axes>"
      ]
     },
     "metadata": {
      "needs_background": "light"
     },
     "output_type": "display_data"
    }
   ],
   "source": [
    "if __name__ == \"__main__\":\n",
    "    pop, log, hof = main()\n",
    "    print(\"Best individual is: %s\\nwith fitness: %s\" % (hof[0], hof[0].fitness))\n",
    "    gen, avg, min_, max_ = log.select(\"gen\", \"avg\", \"min\", \"max\")\n",
    "    plt.plot(gen, avg, label=\"average\")\n",
    "    plt.plot(gen, min_, label=\"minimum\")\n",
    "    plt.plot(gen, max_, label=\"maximum\")\n",
    "    plt.xlabel(\"Generation\")\n",
    "    plt.ylabel(\"Fitness\")\n",
    "    plt.legend(loc=\"lower right\")"
   ]
  },
  {
   "cell_type": "markdown",
   "metadata": {},
   "source": [
    "### From Example 5\n",
    "Best individual is: [-0.03, -0.18]\n",
    "with fitness: (0.0624,)"
   ]
  }
 ],
 "metadata": {
  "kernelspec": {
   "display_name": "Python 2",
   "language": "python",
   "name": "python2"
  },
  "language_info": {
   "codemirror_mode": {
    "name": "ipython",
    "version": 2
   },
   "file_extension": ".py",
   "mimetype": "text/x-python",
   "name": "python",
   "nbconvert_exporter": "python",
   "pygments_lexer": "ipython2",
   "version": "2.7.15rc1"
  }
 },
 "nbformat": 4,
 "nbformat_minor": 1
}
