{
 "cells": [
  {
   "cell_type": "markdown",
   "metadata": {},
   "source": [
    "# Example 5\n",
    "Implemente un Algoritmo Evolutivo que, dadas las siguientes funciones, busque cumplir con el objetivo propuesto para cada una de ellas.\n",
    "\n",
    "a) Para f 1(x , y)=0.5 x2+y2−x y−2 x−6 y , con −5⩽x⩽5, −10⩽y⩽10 , buscar donde se encuentra el mínimo de esta función.\n",
    "\n",
    "b) Para f 2(x)=∑|xi|(i+1) , con x=(x1, x2,..., xn) y n=4 , buscar x tal que f 2(x)=0 , i=1\n",
    "\n",
    "sabiendo que −1⩽x1⩽1 , −0,8⩽x2⩽1,2 , −0,5⩽x3⩽0,75 y −1,4⩽x4⩽0,5 .\n",
    "\n",
    "En cada uno de los puntos, detalle:\n",
    "\n",
    "i. El tipo y forma del cromosoma.\n",
    "\n",
    "ii. Los operadores genéticos usados.\n",
    "\n",
    "iii. Los parámetros empleados para la ejecución del algoritmo.\n",
    "\n",
    "Para asegurarse de haber obtenido resultados consistentes, realice 10 ejecuciones independientes e informe los mejores resultados encontrados en cada ejecución junto con su  tness y la cantidad de generaciones que se necesitaron para obtenerlos."
   ]
  },
  {
   "cell_type": "code",
   "execution_count": 1,
   "metadata": {},
   "outputs": [],
   "source": [
    "import numpy as np\n",
    "import matplotlib.pyplot as plt\n",
    "from matplotlib import pylab\n",
    "import mpld3\n",
    "\n",
    "%matplotlib inline\n",
    "mpld3.enable_notebook()\n",
    "\n",
    "from utils.busqueda_local import hill_climb\n",
    "from deap import base, creator, tools, algorithms"
   ]
  },
  {
   "cell_type": "code",
   "execution_count": 22,
   "metadata": {},
   "outputs": [],
   "source": [
    "# -*- coding: utf-8 -*-\n",
    "\"\"\"\n",
    "Example 5: Optimización numérica\n",
    "\"\"\"\n",
    "\n",
    "def F_1(x, y):\n",
    "    return 0.5 * x ** 2 + y ** 2 - x * y - 2 * x - 6 * y\n",
    "\n",
    "\n",
    "def F_2(x):\n",
    "##    return sum(abs(x) ** (2, 3, 4, 5))\n",
    "    tot=0\n",
    "    for i in range(len(x)):\n",
    "        aux = abs(x[i])\n",
    "        tot+= aux ** (i+1)\n",
    "    return tot\n"
   ]
  },
  {
   "cell_type": "markdown",
   "metadata": {},
   "source": [
    "# Parte a)"
   ]
  },
  {
   "cell_type": "markdown",
   "metadata": {},
   "source": [
    "## Fitness"
   ]
  },
  {
   "cell_type": "code",
   "execution_count": 4,
   "metadata": {},
   "outputs": [],
   "source": [
    "creator.create(\"Fitness\", base.Fitness, weights=(-9999,))\n",
    "creator.create(\"Individual\", list, fitness=creator.Fitness)"
   ]
  },
  {
   "cell_type": "markdown",
   "metadata": {},
   "source": [
    "## Individuo"
   ]
  },
  {
   "cell_type": "code",
   "execution_count": 5,
   "metadata": {},
   "outputs": [],
   "source": [
    "def nuevoPar():\n",
    "    x=round(-5 + np.random.random() * (5 - -5), 2)\n",
    "    y=round(-10 + np.random.random() * (10 - -10), 2)\n",
    "    return [x,y]"
   ]
  },
  {
   "cell_type": "code",
   "execution_count": 6,
   "metadata": {},
   "outputs": [],
   "source": [
    "toolbox = base.Toolbox()\n",
    "toolbox.register(\"individual\", tools.initIterate, creator.Individual, nuevoPar)\n",
    "toolbox.register(\"population\", tools.initRepeat, list, toolbox.individual)"
   ]
  },
  {
   "cell_type": "markdown",
   "metadata": {},
   "source": [
    "## Evaluacion, cruza, mutacion y seleccion"
   ]
  },
  {
   "cell_type": "code",
   "execution_count": 7,
   "metadata": {},
   "outputs": [],
   "source": [
    "def evaluarADN(x):\n",
    "    return [F_1(*x)]"
   ]
  },
  {
   "cell_type": "code",
   "execution_count": 8,
   "metadata": {},
   "outputs": [],
   "source": [
    "toolbox.register(\"evaluate\", evaluarADN)\n",
    "toolbox.register(\"mate\", tools.cxOnePoint)\n",
    "toolbox.register(\"mutate\", tools.mutShuffleIndexes, indpb=0.50)\n",
    "toolbox.register(\"select\", tools.selTournament, tournsize=5)"
   ]
  },
  {
   "cell_type": "markdown",
   "metadata": {},
   "source": [
    "## Find Best Solution"
   ]
  },
  {
   "cell_type": "code",
   "execution_count": 9,
   "metadata": {},
   "outputs": [],
   "source": [
    "def main():    \n",
    "    GENERACIONES=50\n",
    "    pop = toolbox.population(n=1000)\n",
    "    hof = tools.HallOfFame(1)\n",
    "    stats = tools.Statistics(lambda ind: ind.fitness.values)\n",
    "    stats.register(\"avg\", np.mean)\n",
    "    stats.register(\"min\", np.min)\n",
    "    stats.register(\"max\", np.max)\n",
    "    pop, logbook = algorithms.eaSimple(pop, toolbox, cxpb=0.5, mutpb=0.2, ngen=GENERACIONES, stats=stats, halloffame=hof, verbose=True)\n",
    "    return pop, logbook, hof"
   ]
  },
  {
   "cell_type": "code",
   "execution_count": 10,
   "metadata": {},
   "outputs": [
    {
     "name": "stdout",
     "output_type": "stream",
     "text": [
      "gen\tnevals\tavg    \tmin     \tmax    \n",
      "0  \t1000  \t41.9771\t-27.5396\t203.499\n",
      "1  \t591   \t-5.30526\t-28.7958\t112.766\n",
      "2  \t597   \t-21.1429\t-31.446 \t13.1049\n",
      "3  \t574   \t-26.1354\t-31.9947\t-15.6409\n",
      "4  \t617   \t-28.1043\t-32.5467\t-15.8139\n",
      "5  \t620   \t-29.7558\t-32.686 \t-19.6095\n",
      "6  \t595   \t-31.0454\t-32.726 \t-23.6439\n",
      "7  \t619   \t-31.6234\t-32.9914\t-23.7339\n",
      "8  \t623   \t-32.0991\t-33.1977\t-24.6119\n",
      "9  \t604   \t-32.2855\t-33.1977\t-25.6935\n",
      "10 \t610   \t-32.3808\t-33.1977\t-25.6935\n",
      "11 \t570   \t-32.4167\t-33.1977\t-25.6935\n",
      "12 \t641   \t-32.5524\t-33.1977\t-26.3255\n",
      "13 \t590   \t-32.4418\t-33.1977\t-26.3255\n",
      "14 \t585   \t-32.5311\t-33.1977\t-26.3255\n",
      "15 \t546   \t-32.6067\t-33.1977\t-26.3255\n",
      "16 \t583   \t-32.6205\t-33.1977\t-26.3255\n",
      "17 \t602   \t-32.4143\t-33.1977\t-26.3255\n",
      "18 \t579   \t-32.483 \t-33.1977\t-26.3255\n",
      "19 \t596   \t-32.5105\t-33.1977\t-26.3255\n",
      "20 \t616   \t-32.4899\t-33.1977\t-26.3255\n",
      "21 \t654   \t-32.4693\t-33.1977\t-26.3255\n",
      "22 \t616   \t-32.538 \t-33.1977\t-26.3255\n",
      "23 \t603   \t-32.538 \t-33.1977\t-26.3255\n",
      "24 \t611   \t-32.5174\t-33.1977\t-26.3255\n",
      "25 \t612   \t-32.3731\t-33.1977\t-26.3255\n",
      "26 \t583   \t-32.6342\t-33.1977\t-26.3255\n",
      "27 \t590   \t-32.6548\t-33.1977\t-26.3255\n",
      "28 \t602   \t-32.4212\t-33.1977\t-26.3255\n",
      "29 \t588   \t-32.4143\t-33.1977\t-26.3255\n",
      "30 \t598   \t-32.5105\t-33.1977\t-26.3255\n",
      "31 \t633   \t-32.5586\t-33.1977\t-26.3255\n",
      "32 \t609   \t-32.5999\t-33.1977\t-26.3255\n",
      "33 \t601   \t-32.5999\t-33.1977\t-26.3255\n",
      "34 \t606   \t-32.5449\t-33.1977\t-26.3255\n",
      "35 \t629   \t-32.5792\t-33.1977\t-26.3255\n",
      "36 \t631   \t-32.4349\t-33.1977\t-26.3255\n",
      "37 \t591   \t-32.4074\t-33.1977\t-26.3255\n",
      "38 \t587   \t-32.5037\t-33.1977\t-26.3255\n",
      "39 \t617   \t-32.4555\t-33.1977\t-26.3255\n",
      "40 \t575   \t-32.5724\t-33.1977\t-26.3255\n",
      "41 \t603   \t-32.5518\t-33.1977\t-26.3255\n",
      "42 \t594   \t-32.3525\t-33.1977\t-26.3255\n",
      "43 \t590   \t-32.4281\t-33.1977\t-26.3255\n",
      "44 \t598   \t-32.3525\t-33.1977\t-26.3255\n",
      "45 \t588   \t-32.4143\t-33.1977\t-26.3255\n",
      "46 \t546   \t-32.6411\t-33.1977\t-26.3255\n",
      "47 \t611   \t-32.4212\t-33.1977\t-26.3255\n",
      "48 \t607   \t-32.5518\t-33.1977\t-26.3255\n",
      "49 \t592   \t-32.5174\t-33.1977\t-26.3255\n",
      "50 \t602   \t-32.4624\t-33.1977\t-26.3255\n",
      "Best individual is: [8.61, 6.74]\n",
      "with fitness: (-33.19774999999999,)\n"
     ]
    },
    {
     "data": {
      "image/png": "[encoded data removed]",
      "text/html": [
       "\n",
       "\n",
       "<style>\n",
       "\n",
       "</style>\n",
       "\n",
       "<div id=\"fig_el139351399564948527528609523007\"></div>\n",
       "<script>\n",
       "function mpld3_load_lib(url, callback){\n",
       "  var s = document.createElement('script');\n",
       "  s.src = url;\n",
       "  s.async = true;\n",
       "  s.onreadystatechange = s.onload = callback;\n",
       "  s.onerror = function(){console.warn(\"failed to load library \" + url);};\n",
       "  document.getElementsByTagName(\"head\")[0].appendChild(s);\n",
       "}\n",
       "\n",
       "if(typeof(mpld3) !== \"undefined\" && mpld3._mpld3IsLoaded){\n",
       "   // already loaded: just create the figure\n",
       "   !function(mpld3){\n",
       "       \n",
       "       mpld3.draw_figure(\"fig_el139351399564948527528609523007\", {\"axes\": [{\"xlim\": [-2.5, 52.5], \"yscale\": \"linear\", \"axesbg\": \"#FFFFFF\", \"texts\": [{\"v_baseline\": \"hanging\", \"h_anchor\": \"middle\", \"color\": \"#000000\", \"text\": \"Generation\", \"coordinates\": \"axes\", \"zorder\": 3, \"alpha\": 1, \"fontsize\": 10.0, \"position\": [0.49999999999999994, -0.09657836644591611], \"rotation\": -0.0, \"id\": \"el13935139956495206672\"}, {\"v_baseline\": \"auto\", \"h_anchor\": \"middle\", \"color\": \"#000000\", \"text\": \"Fitness\", \"coordinates\": \"axes\", \"zorder\": 3, \"alpha\": 1, \"fontsize\": 10.0, \"position\": [-0.08960573476702509, 0.49999999999999994], \"rotation\": -90.0, \"id\": \"el13935139956495207632\"}, {\"v_baseline\": \"auto\", \"h_anchor\": \"start\", \"color\": \"#000000\", \"text\": \"average\", \"coordinates\": \"axes\", \"zorder\": 1000003.0, \"alpha\": 1, \"fontsize\": 10.0, \"position\": [0.8234020310633213, 0.18855776306107433], \"rotation\": -0.0, \"id\": \"el13935139956495918544\"}, {\"v_baseline\": \"auto\", \"h_anchor\": \"start\", \"color\": \"#000000\", \"text\": \"minimum\", \"coordinates\": \"axes\", \"zorder\": 1000003.0, \"alpha\": 1, \"fontsize\": 10.0, \"position\": [0.8234020310633213, 0.11957321559970566], \"rotation\": -0.0, \"id\": \"el13935139956495942800\"}, {\"v_baseline\": \"auto\", \"h_anchor\": \"start\", \"color\": \"#000000\", \"text\": \"maximum\", \"coordinates\": \"axes\", \"zorder\": 1000003.0, \"alpha\": 1, \"fontsize\": 10.0, \"position\": [0.8234020310633213, 0.05058866813833701], \"rotation\": -0.0, \"id\": \"el13935139956495828880\"}], \"zoomable\": true, \"images\": [], \"xdomain\": [-2.5, 52.5], \"ylim\": [-45.0325625, 215.33331250000003], \"paths\": [{\"edgecolor\": \"#CCCCCC\", \"facecolor\": \"#FFFFFF\", \"edgewidth\": 1.0, \"pathcodes\": [\"M\", \"L\", \"S\", \"L\", \"S\", \"L\", \"S\", \"L\", \"S\", \"Z\"], \"yindex\": 1, \"coordinates\": \"axes\", \"dasharray\": \"none\", \"zorder\": 1000000.0, \"alpha\": 0.8, \"xindex\": 0, \"data\": \"data03\", \"id\": \"el13935139956495920272\"}], \"sharey\": [], \"sharex\": [], \"axesbgalpha\": null, \"axes\": [{\"scale\": \"linear\", \"tickformat\": null, \"grid\": {\"gridOn\": false}, \"visible\": true, \"fontsize\": 10.0, \"position\": \"bottom\", \"nticks\": 8, \"tickvalues\": null}, {\"scale\": \"linear\", \"tickformat\": null, \"grid\": {\"gridOn\": false}, \"visible\": true, \"fontsize\": 10.0, \"position\": \"left\", \"nticks\": 7, \"tickvalues\": null}], \"lines\": [{\"drawstyle\": \"default\", \"color\": \"#1F77B4\", \"yindex\": 1, \"coordinates\": \"data\", \"dasharray\": \"none\", \"zorder\": 2, \"alpha\": 1, \"xindex\": 0, \"linewidth\": 1.5, \"data\": \"data01\", \"id\": \"el13935139956495672720\"}, {\"drawstyle\": \"default\", \"color\": \"#FF7F0E\", \"yindex\": 2, \"coordinates\": \"data\", \"dasharray\": \"none\", \"zorder\": 2, \"alpha\": 1, \"xindex\": 0, \"linewidth\": 1.5, \"data\": \"data01\", \"id\": \"el13935139956495673680\"}, {\"drawstyle\": \"default\", \"color\": \"#2CA02C\", \"yindex\": 3, \"coordinates\": \"data\", \"dasharray\": \"none\", \"zorder\": 2, \"alpha\": 1, \"xindex\": 0, \"linewidth\": 1.5, \"data\": \"data01\", \"id\": \"el13935139956495485968\"}, {\"drawstyle\": \"default\", \"color\": \"#1F77B4\", \"yindex\": 1, \"coordinates\": \"axes\", \"dasharray\": \"none\", \"zorder\": 1000002.0, \"alpha\": 1, \"xindex\": 0, \"linewidth\": 1.5, \"data\": \"data02\", \"id\": \"el13935139956495918096\"}, {\"drawstyle\": \"default\", \"color\": \"#FF7F0E\", \"yindex\": 2, \"coordinates\": \"axes\", \"dasharray\": \"none\", \"zorder\": 1000002.0, \"alpha\": 1, \"xindex\": 0, \"linewidth\": 1.5, \"data\": \"data02\", \"id\": \"el13935139956495942480\"}, {\"drawstyle\": \"default\", \"color\": \"#2CA02C\", \"yindex\": 3, \"coordinates\": \"axes\", \"dasharray\": \"none\", \"zorder\": 1000002.0, \"alpha\": 1, \"xindex\": 0, \"linewidth\": 1.5, \"data\": \"data02\", \"id\": \"el13935139956495827152\"}], \"markers\": [], \"id\": \"el13935139956494854864\", \"ydomain\": [-45.0325625, 215.33331250000003], \"collections\": [], \"xscale\": \"linear\", \"bbox\": [0.125, 0.125, 0.775, 0.755]}], \"height\": 288.0, \"width\": 432.0, \"plugins\": [{\"type\": \"reset\"}, {\"enabled\": false, \"button\": true, \"type\": \"zoom\"}, {\"enabled\": false, \"button\": true, \"type\": \"boxzoom\"}], \"data\": {\"data02\": [[0.7397700119474313, 0.204654157468727, 0.13566961000735833, 0.0666850625459897], [0.7995071684587813, 0.204654157468727, 0.13566961000735833, 0.0666850625459897]], \"data03\": [[0.7337962962962963, 0.02299484915378955], [0.9790919952210274, 0.02299484915378955], [0.9850657108721624, 0.02299484915378955], [0.9850657108721624, 0.03219278881530538], [0.9850657108721624, 0.23454746136865343], [0.9850657108721624, 0.24374540103016926], [0.9790919952210274, 0.24374540103016926], [0.7337962962962963, 0.24374540103016926], [0.7278225806451613, 0.24374540103016926], [0.7278225806451613, 0.23454746136865343], [0.7278225806451613, 0.03219278881530538], [0.7278225806451613, 0.02299484915378955], [0.7337962962962963, 0.02299484915378955]], \"data01\": [[0.0, 41.977121200000006, -27.539550000000002, 203.49850000000004], [1.0, -5.3052601500000005, -28.795799999999996, 112.76610000000004], [2.0, -21.1428717, -31.446, 13.1049], [3.0, -26.135424500000003, -31.994749999999986, -15.640949999999997], [4.0, -28.104259100000004, -32.54674999999999, -15.813949999999998], [5.0, -29.7557714, -32.686, -19.609500000000004], [6.0, -31.045429799999997, -32.726, -23.64389999999999], [7.0, -31.6234063, -32.991350000000004, -23.733900000000006], [8.0, -32.099102849999994, -33.19774999999999, -24.611900000000006], [9.0, -32.285543800000006, -33.19774999999999, -25.693499999999997], [10.0, -32.380812899999995, -33.19774999999999, -25.693499999999997], [11.0, -32.41671185, -33.19774999999999, -25.693499999999997], [12.0, -32.552438899999984, -33.19774999999999, -26.325499999999998], [13.0, -32.44180249999999, -33.19774999999999, -26.325499999999998], [14.0, -32.53114174999999, -33.19774999999999, -26.325499999999998], [15.0, -32.60673649999999, -33.19774999999999, -26.325499999999998], [16.0, -32.62048099999999, -33.19774999999999, -26.325499999999998], [17.0, -32.41431349999999, -33.19774999999999, -26.325499999999998], [18.0, -32.48303599999999, -33.19774999999999, -26.325499999999998], [19.0, -32.51052499999999, -33.19774999999999, -26.325499999999998], [20.0, -32.48990824999999, -33.19774999999999, -26.325499999999998], [21.0, -32.46929149999999, -33.19774999999999, -26.325499999999998], [22.0, -32.53801399999999, -33.19774999999999, -26.325499999999998], [23.0, -32.53801399999999, -33.19774999999999, -26.325499999999998], [24.0, -32.51739724999999, -33.19774999999999, -26.325499999999998], [25.0, -32.37307999999999, -33.19774999999999, -26.325499999999998], [26.0, -32.63422549999999, -33.19774999999999, -26.325499999999998], [27.0, -32.65484224999999, -33.19774999999999, -26.325499999999998], [28.0, -32.42118574999999, -33.19774999999999, -26.325499999999998], [29.0, -32.41431349999999, -33.19774999999999, -26.325499999999998], [30.0, -32.51052499999999, -33.19774999999999, -26.325499999999998], [31.0, -32.55863074999999, -33.19774999999999, -26.325499999999998], [32.0, -32.59986424999999, -33.19774999999999, -26.325499999999998], [33.0, -32.59986424999999, -33.19774999999999, -26.325499999999998], [34.0, -32.54488624999999, -33.19774999999999, -26.325499999999998], [35.0, -32.579247499999994, -33.19774999999999, -26.325499999999998], [36.0, -32.434930249999994, -33.19774999999999, -26.325499999999998], [37.0, -32.40744124999999, -33.19774999999999, -26.325499999999998], [38.0, -32.503652749999986, -33.19774999999999, -26.325499999999998], [39.0, -32.45554699999999, -33.19774999999999, -26.325499999999998], [40.0, -32.57237524999999, -33.19774999999999, -26.325499999999998], [41.0, -32.55175849999999, -33.19774999999999, -26.325499999999998], [42.0, -32.35246324999999, -33.19774999999999, -26.325499999999998], [43.0, -32.42805799999999, -33.19774999999999, -26.325499999999998], [44.0, -32.352463249999985, -33.19774999999999, -26.325499999999998], [45.0, -32.41431349999999, -33.19774999999999, -26.325499999999998], [46.0, -32.64109774999999, -33.19774999999999, -26.325499999999998], [47.0, -32.42118574999999, -33.19774999999999, -26.325499999999998], [48.0, -32.55175849999999, -33.19774999999999, -26.325499999999998], [49.0, -32.51739724999999, -33.19774999999999, -26.325499999999998], [50.0, -32.46241924999999, -33.19774999999999, -26.325499999999998]]}, \"id\": \"el13935139956494852752\"});\n",
       "   }(mpld3);\n",
       "}else if(typeof define === \"function\" && define.amd){\n",
       "   // require.js is available: use it to load d3/mpld3\n",
       "   require.config({paths: {d3: \"https://mpld3.github.io/js/d3.v3.min\"}});\n",
       "   require([\"d3\"], function(d3){\n",
       "      window.d3 = d3;\n",
       "      mpld3_load_lib(\"https://mpld3.github.io/js/mpld3.v0.3.js\", function(){\n",
       "         \n",
       "         mpld3.draw_figure(\"fig_el139351399564948527528609523007\", {\"axes\": [{\"xlim\": [-2.5, 52.5], \"yscale\": \"linear\", \"axesbg\": \"#FFFFFF\", \"texts\": [{\"v_baseline\": \"hanging\", \"h_anchor\": \"middle\", \"color\": \"#000000\", \"text\": \"Generation\", \"coordinates\": \"axes\", \"zorder\": 3, \"alpha\": 1, \"fontsize\": 10.0, \"position\": [0.49999999999999994, -0.09657836644591611], \"rotation\": -0.0, \"id\": \"el13935139956495206672\"}, {\"v_baseline\": \"auto\", \"h_anchor\": \"middle\", \"color\": \"#000000\", \"text\": \"Fitness\", \"coordinates\": \"axes\", \"zorder\": 3, \"alpha\": 1, \"fontsize\": 10.0, \"position\": [-0.08960573476702509, 0.49999999999999994], \"rotation\": -90.0, \"id\": \"el13935139956495207632\"}, {\"v_baseline\": \"auto\", \"h_anchor\": \"start\", \"color\": \"#000000\", \"text\": \"average\", \"coordinates\": \"axes\", \"zorder\": 1000003.0, \"alpha\": 1, \"fontsize\": 10.0, \"position\": [0.8234020310633213, 0.18855776306107433], \"rotation\": -0.0, \"id\": \"el13935139956495918544\"}, {\"v_baseline\": \"auto\", \"h_anchor\": \"start\", \"color\": \"#000000\", \"text\": \"minimum\", \"coordinates\": \"axes\", \"zorder\": 1000003.0, \"alpha\": 1, \"fontsize\": 10.0, \"position\": [0.8234020310633213, 0.11957321559970566], \"rotation\": -0.0, \"id\": \"el13935139956495942800\"}, {\"v_baseline\": \"auto\", \"h_anchor\": \"start\", \"color\": \"#000000\", \"text\": \"maximum\", \"coordinates\": \"axes\", \"zorder\": 1000003.0, \"alpha\": 1, \"fontsize\": 10.0, \"position\": [0.8234020310633213, 0.05058866813833701], \"rotation\": -0.0, \"id\": \"el13935139956495828880\"}], \"zoomable\": true, \"images\": [], \"xdomain\": [-2.5, 52.5], \"ylim\": [-45.0325625, 215.33331250000003], \"paths\": [{\"edgecolor\": \"#CCCCCC\", \"facecolor\": \"#FFFFFF\", \"edgewidth\": 1.0, \"pathcodes\": [\"M\", \"L\", \"S\", \"L\", \"S\", \"L\", \"S\", \"L\", \"S\", \"Z\"], \"yindex\": 1, \"coordinates\": \"axes\", \"dasharray\": \"none\", \"zorder\": 1000000.0, \"alpha\": 0.8, \"xindex\": 0, \"data\": \"data03\", \"id\": \"el13935139956495920272\"}], \"sharey\": [], \"sharex\": [], \"axesbgalpha\": null, \"axes\": [{\"scale\": \"linear\", \"tickformat\": null, \"grid\": {\"gridOn\": false}, \"visible\": true, \"fontsize\": 10.0, \"position\": \"bottom\", \"nticks\": 8, \"tickvalues\": null}, {\"scale\": \"linear\", \"tickformat\": null, \"grid\": {\"gridOn\": false}, \"visible\": true, \"fontsize\": 10.0, \"position\": \"left\", \"nticks\": 7, \"tickvalues\": null}], \"lines\": [{\"drawstyle\": \"default\", \"color\": \"#1F77B4\", \"yindex\": 1, \"coordinates\": \"data\", \"dasharray\": \"none\", \"zorder\": 2, \"alpha\": 1, \"xindex\": 0, \"linewidth\": 1.5, \"data\": \"data01\", \"id\": \"el13935139956495672720\"}, {\"drawstyle\": \"default\", \"color\": \"#FF7F0E\", \"yindex\": 2, \"coordinates\": \"data\", \"dasharray\": \"none\", \"zorder\": 2, \"alpha\": 1, \"xindex\": 0, \"linewidth\": 1.5, \"data\": \"data01\", \"id\": \"el13935139956495673680\"}, {\"drawstyle\": \"default\", \"color\": \"#2CA02C\", \"yindex\": 3, \"coordinates\": \"data\", \"dasharray\": \"none\", \"zorder\": 2, \"alpha\": 1, \"xindex\": 0, \"linewidth\": 1.5, \"data\": \"data01\", \"id\": \"el13935139956495485968\"}, {\"drawstyle\": \"default\", \"color\": \"#1F77B4\", \"yindex\": 1, \"coordinates\": \"axes\", \"dasharray\": \"none\", \"zorder\": 1000002.0, \"alpha\": 1, \"xindex\": 0, \"linewidth\": 1.5, \"data\": \"data02\", \"id\": \"el13935139956495918096\"}, {\"drawstyle\": \"default\", \"color\": \"#FF7F0E\", \"yindex\": 2, \"coordinates\": \"axes\", \"dasharray\": \"none\", \"zorder\": 1000002.0, \"alpha\": 1, \"xindex\": 0, \"linewidth\": 1.5, \"data\": \"data02\", \"id\": \"el13935139956495942480\"}, {\"drawstyle\": \"default\", \"color\": \"#2CA02C\", \"yindex\": 3, \"coordinates\": \"axes\", \"dasharray\": \"none\", \"zorder\": 1000002.0, \"alpha\": 1, \"xindex\": 0, \"linewidth\": 1.5, \"data\": \"data02\", \"id\": \"el13935139956495827152\"}], \"markers\": [], \"id\": \"el13935139956494854864\", \"ydomain\": [-45.0325625, 215.33331250000003], \"collections\": [], \"xscale\": \"linear\", \"bbox\": [0.125, 0.125, 0.775, 0.755]}], \"height\": 288.0, \"width\": 432.0, \"plugins\": [{\"type\": \"reset\"}, {\"enabled\": false, \"button\": true, \"type\": \"zoom\"}, {\"enabled\": false, \"button\": true, \"type\": \"boxzoom\"}], \"data\": {\"data02\": [[0.7397700119474313, 0.204654157468727, 0.13566961000735833, 0.0666850625459897], [0.7995071684587813, 0.204654157468727, 0.13566961000735833, 0.0666850625459897]], \"data03\": [[0.7337962962962963, 0.02299484915378955], [0.9790919952210274, 0.02299484915378955], [0.9850657108721624, 0.02299484915378955], [0.9850657108721624, 0.03219278881530538], [0.9850657108721624, 0.23454746136865343], [0.9850657108721624, 0.24374540103016926], [0.9790919952210274, 0.24374540103016926], [0.7337962962962963, 0.24374540103016926], [0.7278225806451613, 0.24374540103016926], [0.7278225806451613, 0.23454746136865343], [0.7278225806451613, 0.03219278881530538], [0.7278225806451613, 0.02299484915378955], [0.7337962962962963, 0.02299484915378955]], \"data01\": [[0.0, 41.977121200000006, -27.539550000000002, 203.49850000000004], [1.0, -5.3052601500000005, -28.795799999999996, 112.76610000000004], [2.0, -21.1428717, -31.446, 13.1049], [3.0, -26.135424500000003, -31.994749999999986, -15.640949999999997], [4.0, -28.104259100000004, -32.54674999999999, -15.813949999999998], [5.0, -29.7557714, -32.686, -19.609500000000004], [6.0, -31.045429799999997, -32.726, -23.64389999999999], [7.0, -31.6234063, -32.991350000000004, -23.733900000000006], [8.0, -32.099102849999994, -33.19774999999999, -24.611900000000006], [9.0, -32.285543800000006, -33.19774999999999, -25.693499999999997], [10.0, -32.380812899999995, -33.19774999999999, -25.693499999999997], [11.0, -32.41671185, -33.19774999999999, -25.693499999999997], [12.0, -32.552438899999984, -33.19774999999999, -26.325499999999998], [13.0, -32.44180249999999, -33.19774999999999, -26.325499999999998], [14.0, -32.53114174999999, -33.19774999999999, -26.325499999999998], [15.0, -32.60673649999999, -33.19774999999999, -26.325499999999998], [16.0, -32.62048099999999, -33.19774999999999, -26.325499999999998], [17.0, -32.41431349999999, -33.19774999999999, -26.325499999999998], [18.0, -32.48303599999999, -33.19774999999999, -26.325499999999998], [19.0, -32.51052499999999, -33.19774999999999, -26.325499999999998], [20.0, -32.48990824999999, -33.19774999999999, -26.325499999999998], [21.0, -32.46929149999999, -33.19774999999999, -26.325499999999998], [22.0, -32.53801399999999, -33.19774999999999, -26.325499999999998], [23.0, -32.53801399999999, -33.19774999999999, -26.325499999999998], [24.0, -32.51739724999999, -33.19774999999999, -26.325499999999998], [25.0, -32.37307999999999, -33.19774999999999, -26.325499999999998], [26.0, -32.63422549999999, -33.19774999999999, -26.325499999999998], [27.0, -32.65484224999999, -33.19774999999999, -26.325499999999998], [28.0, -32.42118574999999, -33.19774999999999, -26.325499999999998], [29.0, -32.41431349999999, -33.19774999999999, -26.325499999999998], [30.0, -32.51052499999999, -33.19774999999999, -26.325499999999998], [31.0, -32.55863074999999, -33.19774999999999, -26.325499999999998], [32.0, -32.59986424999999, -33.19774999999999, -26.325499999999998], [33.0, -32.59986424999999, -33.19774999999999, -26.325499999999998], [34.0, -32.54488624999999, -33.19774999999999, -26.325499999999998], [35.0, -32.579247499999994, -33.19774999999999, -26.325499999999998], [36.0, -32.434930249999994, -33.19774999999999, -26.325499999999998], [37.0, -32.40744124999999, -33.19774999999999, -26.325499999999998], [38.0, -32.503652749999986, -33.19774999999999, -26.325499999999998], [39.0, -32.45554699999999, -33.19774999999999, -26.325499999999998], [40.0, -32.57237524999999, -33.19774999999999, -26.325499999999998], [41.0, -32.55175849999999, -33.19774999999999, -26.325499999999998], [42.0, -32.35246324999999, -33.19774999999999, -26.325499999999998], [43.0, -32.42805799999999, -33.19774999999999, -26.325499999999998], [44.0, -32.352463249999985, -33.19774999999999, -26.325499999999998], [45.0, -32.41431349999999, -33.19774999999999, -26.325499999999998], [46.0, -32.64109774999999, -33.19774999999999, -26.325499999999998], [47.0, -32.42118574999999, -33.19774999999999, -26.325499999999998], [48.0, -32.55175849999999, -33.19774999999999, -26.325499999999998], [49.0, -32.51739724999999, -33.19774999999999, -26.325499999999998], [50.0, -32.46241924999999, -33.19774999999999, -26.325499999999998]]}, \"id\": \"el13935139956494852752\"});\n",
       "      });\n",
       "    });\n",
       "}else{\n",
       "    // require.js not available: dynamically load d3 & mpld3\n",
       "    mpld3_load_lib(\"https://mpld3.github.io/js/d3.v3.min.js\", function(){\n",
       "         mpld3_load_lib(\"https://mpld3.github.io/js/mpld3.v0.3.js\", function(){\n",
       "                 \n",
       "                 mpld3.draw_figure(\"fig_el139351399564948527528609523007\", {\"axes\": [{\"xlim\": [-2.5, 52.5], \"yscale\": \"linear\", \"axesbg\": \"#FFFFFF\", \"texts\": [{\"v_baseline\": \"hanging\", \"h_anchor\": \"middle\", \"color\": \"#000000\", \"text\": \"Generation\", \"coordinates\": \"axes\", \"zorder\": 3, \"alpha\": 1, \"fontsize\": 10.0, \"position\": [0.49999999999999994, -0.09657836644591611], \"rotation\": -0.0, \"id\": \"el13935139956495206672\"}, {\"v_baseline\": \"auto\", \"h_anchor\": \"middle\", \"color\": \"#000000\", \"text\": \"Fitness\", \"coordinates\": \"axes\", \"zorder\": 3, \"alpha\": 1, \"fontsize\": 10.0, \"position\": [-0.08960573476702509, 0.49999999999999994], \"rotation\": -90.0, \"id\": \"el13935139956495207632\"}, {\"v_baseline\": \"auto\", \"h_anchor\": \"start\", \"color\": \"#000000\", \"text\": \"average\", \"coordinates\": \"axes\", \"zorder\": 1000003.0, \"alpha\": 1, \"fontsize\": 10.0, \"position\": [0.8234020310633213, 0.18855776306107433], \"rotation\": -0.0, \"id\": \"el13935139956495918544\"}, {\"v_baseline\": \"auto\", \"h_anchor\": \"start\", \"color\": \"#000000\", \"text\": \"minimum\", \"coordinates\": \"axes\", \"zorder\": 1000003.0, \"alpha\": 1, \"fontsize\": 10.0, \"position\": [0.8234020310633213, 0.11957321559970566], \"rotation\": -0.0, \"id\": \"el13935139956495942800\"}, {\"v_baseline\": \"auto\", \"h_anchor\": \"start\", \"color\": \"#000000\", \"text\": \"maximum\", \"coordinates\": \"axes\", \"zorder\": 1000003.0, \"alpha\": 1, \"fontsize\": 10.0, \"position\": [0.8234020310633213, 0.05058866813833701], \"rotation\": -0.0, \"id\": \"el13935139956495828880\"}], \"zoomable\": true, \"images\": [], \"xdomain\": [-2.5, 52.5], \"ylim\": [-45.0325625, 215.33331250000003], \"paths\": [{\"edgecolor\": \"#CCCCCC\", \"facecolor\": \"#FFFFFF\", \"edgewidth\": 1.0, \"pathcodes\": [\"M\", \"L\", \"S\", \"L\", \"S\", \"L\", \"S\", \"L\", \"S\", \"Z\"], \"yindex\": 1, \"coordinates\": \"axes\", \"dasharray\": \"none\", \"zorder\": 1000000.0, \"alpha\": 0.8, \"xindex\": 0, \"data\": \"data03\", \"id\": \"el13935139956495920272\"}], \"sharey\": [], \"sharex\": [], \"axesbgalpha\": null, \"axes\": [{\"scale\": \"linear\", \"tickformat\": null, \"grid\": {\"gridOn\": false}, \"visible\": true, \"fontsize\": 10.0, \"position\": \"bottom\", \"nticks\": 8, \"tickvalues\": null}, {\"scale\": \"linear\", \"tickformat\": null, \"grid\": {\"gridOn\": false}, \"visible\": true, \"fontsize\": 10.0, \"position\": \"left\", \"nticks\": 7, \"tickvalues\": null}], \"lines\": [{\"drawstyle\": \"default\", \"color\": \"#1F77B4\", \"yindex\": 1, \"coordinates\": \"data\", \"dasharray\": \"none\", \"zorder\": 2, \"alpha\": 1, \"xindex\": 0, \"linewidth\": 1.5, \"data\": \"data01\", \"id\": \"el13935139956495672720\"}, {\"drawstyle\": \"default\", \"color\": \"#FF7F0E\", \"yindex\": 2, \"coordinates\": \"data\", \"dasharray\": \"none\", \"zorder\": 2, \"alpha\": 1, \"xindex\": 0, \"linewidth\": 1.5, \"data\": \"data01\", \"id\": \"el13935139956495673680\"}, {\"drawstyle\": \"default\", \"color\": \"#2CA02C\", \"yindex\": 3, \"coordinates\": \"data\", \"dasharray\": \"none\", \"zorder\": 2, \"alpha\": 1, \"xindex\": 0, \"linewidth\": 1.5, \"data\": \"data01\", \"id\": \"el13935139956495485968\"}, {\"drawstyle\": \"default\", \"color\": \"#1F77B4\", \"yindex\": 1, \"coordinates\": \"axes\", \"dasharray\": \"none\", \"zorder\": 1000002.0, \"alpha\": 1, \"xindex\": 0, \"linewidth\": 1.5, \"data\": \"data02\", \"id\": \"el13935139956495918096\"}, {\"drawstyle\": \"default\", \"color\": \"#FF7F0E\", \"yindex\": 2, \"coordinates\": \"axes\", \"dasharray\": \"none\", \"zorder\": 1000002.0, \"alpha\": 1, \"xindex\": 0, \"linewidth\": 1.5, \"data\": \"data02\", \"id\": \"el13935139956495942480\"}, {\"drawstyle\": \"default\", \"color\": \"#2CA02C\", \"yindex\": 3, \"coordinates\": \"axes\", \"dasharray\": \"none\", \"zorder\": 1000002.0, \"alpha\": 1, \"xindex\": 0, \"linewidth\": 1.5, \"data\": \"data02\", \"id\": \"el13935139956495827152\"}], \"markers\": [], \"id\": \"el13935139956494854864\", \"ydomain\": [-45.0325625, 215.33331250000003], \"collections\": [], \"xscale\": \"linear\", \"bbox\": [0.125, 0.125, 0.775, 0.755]}], \"height\": 288.0, \"width\": 432.0, \"plugins\": [{\"type\": \"reset\"}, {\"enabled\": false, \"button\": true, \"type\": \"zoom\"}, {\"enabled\": false, \"button\": true, \"type\": \"boxzoom\"}], \"data\": {\"data02\": [[0.7397700119474313, 0.204654157468727, 0.13566961000735833, 0.0666850625459897], [0.7995071684587813, 0.204654157468727, 0.13566961000735833, 0.0666850625459897]], \"data03\": [[0.7337962962962963, 0.02299484915378955], [0.9790919952210274, 0.02299484915378955], [0.9850657108721624, 0.02299484915378955], [0.9850657108721624, 0.03219278881530538], [0.9850657108721624, 0.23454746136865343], [0.9850657108721624, 0.24374540103016926], [0.9790919952210274, 0.24374540103016926], [0.7337962962962963, 0.24374540103016926], [0.7278225806451613, 0.24374540103016926], [0.7278225806451613, 0.23454746136865343], [0.7278225806451613, 0.03219278881530538], [0.7278225806451613, 0.02299484915378955], [0.7337962962962963, 0.02299484915378955]], \"data01\": [[0.0, 41.977121200000006, -27.539550000000002, 203.49850000000004], [1.0, -5.3052601500000005, -28.795799999999996, 112.76610000000004], [2.0, -21.1428717, -31.446, 13.1049], [3.0, -26.135424500000003, -31.994749999999986, -15.640949999999997], [4.0, -28.104259100000004, -32.54674999999999, -15.813949999999998], [5.0, -29.7557714, -32.686, -19.609500000000004], [6.0, -31.045429799999997, -32.726, -23.64389999999999], [7.0, -31.6234063, -32.991350000000004, -23.733900000000006], [8.0, -32.099102849999994, -33.19774999999999, -24.611900000000006], [9.0, -32.285543800000006, -33.19774999999999, -25.693499999999997], [10.0, -32.380812899999995, -33.19774999999999, -25.693499999999997], [11.0, -32.41671185, -33.19774999999999, -25.693499999999997], [12.0, -32.552438899999984, -33.19774999999999, -26.325499999999998], [13.0, -32.44180249999999, -33.19774999999999, -26.325499999999998], [14.0, -32.53114174999999, -33.19774999999999, -26.325499999999998], [15.0, -32.60673649999999, -33.19774999999999, -26.325499999999998], [16.0, -32.62048099999999, -33.19774999999999, -26.325499999999998], [17.0, -32.41431349999999, -33.19774999999999, -26.325499999999998], [18.0, -32.48303599999999, -33.19774999999999, -26.325499999999998], [19.0, -32.51052499999999, -33.19774999999999, -26.325499999999998], [20.0, -32.48990824999999, -33.19774999999999, -26.325499999999998], [21.0, -32.46929149999999, -33.19774999999999, -26.325499999999998], [22.0, -32.53801399999999, -33.19774999999999, -26.325499999999998], [23.0, -32.53801399999999, -33.19774999999999, -26.325499999999998], [24.0, -32.51739724999999, -33.19774999999999, -26.325499999999998], [25.0, -32.37307999999999, -33.19774999999999, -26.325499999999998], [26.0, -32.63422549999999, -33.19774999999999, -26.325499999999998], [27.0, -32.65484224999999, -33.19774999999999, -26.325499999999998], [28.0, -32.42118574999999, -33.19774999999999, -26.325499999999998], [29.0, -32.41431349999999, -33.19774999999999, -26.325499999999998], [30.0, -32.51052499999999, -33.19774999999999, -26.325499999999998], [31.0, -32.55863074999999, -33.19774999999999, -26.325499999999998], [32.0, -32.59986424999999, -33.19774999999999, -26.325499999999998], [33.0, -32.59986424999999, -33.19774999999999, -26.325499999999998], [34.0, -32.54488624999999, -33.19774999999999, -26.325499999999998], [35.0, -32.579247499999994, -33.19774999999999, -26.325499999999998], [36.0, -32.434930249999994, -33.19774999999999, -26.325499999999998], [37.0, -32.40744124999999, -33.19774999999999, -26.325499999999998], [38.0, -32.503652749999986, -33.19774999999999, -26.325499999999998], [39.0, -32.45554699999999, -33.19774999999999, -26.325499999999998], [40.0, -32.57237524999999, -33.19774999999999, -26.325499999999998], [41.0, -32.55175849999999, -33.19774999999999, -26.325499999999998], [42.0, -32.35246324999999, -33.19774999999999, -26.325499999999998], [43.0, -32.42805799999999, -33.19774999999999, -26.325499999999998], [44.0, -32.352463249999985, -33.19774999999999, -26.325499999999998], [45.0, -32.41431349999999, -33.19774999999999, -26.325499999999998], [46.0, -32.64109774999999, -33.19774999999999, -26.325499999999998], [47.0, -32.42118574999999, -33.19774999999999, -26.325499999999998], [48.0, -32.55175849999999, -33.19774999999999, -26.325499999999998], [49.0, -32.51739724999999, -33.19774999999999, -26.325499999999998], [50.0, -32.46241924999999, -33.19774999999999, -26.325499999999998]]}, \"id\": \"el13935139956494852752\"});\n",
       "            })\n",
       "         });\n",
       "}\n",
       "</script>"
      ],
      "text/plain": [
       "<Figure size 432x288 with 1 Axes>"
      ]
     },
     "metadata": {
      "needs_background": "light"
     },
     "output_type": "display_data"
    }
   ],
   "source": [
    "if __name__ == \"__main__\":\n",
    "    pop, log, hof = main()\n",
    "    print(\"Best individual is: %s\\nwith fitness: %s\" % (hof[0], hof[0].fitness))\n",
    "    gen, avg, min_, max_ = log.select(\"gen\", \"avg\", \"min\", \"max\")\n",
    "    plt.plot(gen, avg, label=\"average\")\n",
    "    plt.plot(gen, min_, label=\"minimum\")\n",
    "    plt.plot(gen, max_, label=\"maximum\")\n",
    "    plt.xlabel(\"Generation\")\n",
    "    plt.ylabel(\"Fitness\")\n",
    "    plt.legend(loc=\"lower right\")"
   ]
  },
  {
   "cell_type": "markdown",
   "metadata": {},
   "source": [
    "# Parte B)"
   ]
  },
  {
   "cell_type": "markdown",
   "metadata": {},
   "source": [
    "## Fitness"
   ]
  },
  {
   "cell_type": "code",
   "execution_count": 168,
   "metadata": {
    "collapsed": true
   },
   "outputs": [],
   "source": [
    "creator.create(\"Fitness\", base.Fitness, weights=(-0.01,))\n",
    "creator.create(\"Individual\", list, fitness=creator.Fitness)"
   ]
  },
  {
   "cell_type": "markdown",
   "metadata": {},
   "source": [
    "## Individuo"
   ]
  },
  {
   "cell_type": "code",
   "execution_count": 169,
   "metadata": {
    "collapsed": true
   },
   "outputs": [],
   "source": [
    "def nuevoGEN():\n",
    "    v=[]\n",
    "    v.append(round(-1 + np.random.random() * (1 - -1), 3))\n",
    "    v.append(round(-0.8 + np.random.random() * (1.2 - -0.8), 3))\n",
    "    v.append(round(-0.5 + np.random.random() * (0.75 - -0.5), 3))\n",
    "    v.append(round(-1.4 + np.random.random() * (0.5 - -1.4), 3))\n",
    "    return v"
   ]
  },
  {
   "cell_type": "code",
   "execution_count": 170,
   "metadata": {
    "collapsed": true
   },
   "outputs": [],
   "source": [
    "toolbox = base.Toolbox()\n",
    "toolbox.register(\"individual\", tools.initIterate, creator.Individual, nuevoGEN)\n",
    "toolbox.register(\"population\", tools.initRepeat, list, toolbox.individual)"
   ]
  },
  {
   "cell_type": "markdown",
   "metadata": {},
   "source": [
    "## Evaluacion, cruza, mutacion y seleccion"
   ]
  },
  {
   "cell_type": "code",
   "execution_count": 16,
   "metadata": {},
   "outputs": [],
   "source": [
    "def evaluarADN2(x):\n",
    "    return [F_2(x)]"
   ]
  },
  {
   "cell_type": "code",
   "execution_count": 24,
   "metadata": {},
   "outputs": [],
   "source": [
    "toolbox.register(\"evaluate\", evaluarADN2)\n",
    "toolbox.register(\"mate\", tools.cxTwoPoint)\n",
    "toolbox.register(\"mutate\", tools.mutGaussian, indpb=0.50, mu=0.01, sigma=0.3)\n",
    "toolbox.register(\"select\", tools.selRoulette)"
   ]
  },
  {
   "cell_type": "code",
   "execution_count": 25,
   "metadata": {},
   "outputs": [],
   "source": [
    "def main():    \n",
    "    GENERACIONES=30\n",
    "    pop = toolbox.population(n=1000)\n",
    "    hof = tools.HallOfFame(1)\n",
    "    stats = tools.Statistics(lambda ind: ind.fitness.values)\n",
    "    stats.register(\"avg\", np.mean)\n",
    "    stats.register(\"min\", np.min)\n",
    "    stats.register(\"max\", np.max)\n",
    "    pop, logbook = algorithms.eaSimple(pop, toolbox, cxpb=0.5, mutpb=0.2, ngen=GENERACIONES, stats=stats, halloffame=hof, verbose=True)\n",
    "    return pop, logbook, hof"
   ]
  },
  {
   "cell_type": "code",
   "execution_count": 26,
   "metadata": {},
   "outputs": [
    {
     "name": "stdout",
     "output_type": "stream",
     "text": [
      "gen\tnevals\tavg    \tmin   \tmax    \n",
      "0  \t1000  \t35.1161\t0.0624\t102.604\n",
      "1  \t580   \t58.9894\t0.8749\t108.367\n",
      "2  \t594   \t71.6068\t1.8381\t108.492\n",
      "3  \t630   \t79.6859\t5.4   \t110.254\n",
      "4  \t634   \t84.7472\t12.3391\t114.671\n",
      "5  \t618   \t88.1789\t29.6963\t114.174\n",
      "6  \t630   \t90.444 \t32.3924\t120.498\n",
      "7  \t567   \t92.0987\t31.3588\t122.336\n",
      "8  \t592   \t93.8418\t43.4237\t129.408\n",
      "9  \t606   \t95.3415\t55.8742\t130.211\n",
      "10 \t602   \t96.4983\t62.6208\t130.211\n",
      "11 \t575   \t97.5158\t59.1883\t130.211\n",
      "12 \t590   \t98.6309\t61.9926\t137.277\n",
      "13 \t586   \t99.3843\t61.9926\t142.651\n",
      "14 \t628   \t100.648\t63.7835\t142.651\n",
      "15 \t588   \t101.631\t70.2968\t142.651\n",
      "16 \t629   \t102.945\t73.2031\t145.268\n",
      "17 \t602   \t104.519\t71.4974\t146.955\n",
      "18 \t647   \t105.322\t72.984 \t143.178\n",
      "19 \t596   \t106.479\t73.1294\t143.809\n",
      "20 \t576   \t107.749\t73.1504\t146.968\n",
      "21 \t578   \t109.362\t71.5624\t151.278\n",
      "22 \t573   \t110.736\t71.5624\t151.278\n",
      "23 \t594   \t112.474\t71.8564\t159.183\n",
      "24 \t592   \t114.793\t71.3197\t165.486\n",
      "25 \t585   \t116.278\t70.459 \t165.486\n",
      "26 \t593   \t117.476\t65.4956\t165.486\n",
      "27 \t646   \t118.584\t65.4956\t168.105\n",
      "28 \t582   \t120.536\t83.5272\t165.387\n",
      "29 \t620   \t122.483\t82.3465\t169.907\n",
      "30 \t619   \t123.572\t82.3465\t171.849\n",
      "Best individual is: [-0.03, -0.18]\n",
      "with fitness: (0.0624,)\n"
     ]
    },
    {
     "data": {
      "image/png": "[encoded data removed]",
      "text/html": [
       "\n",
       "\n",
       "<style>\n",
       "\n",
       "</style>\n",
       "\n",
       "<div id=\"fig_el139351399564591323683964053753\"></div>\n",
       "<script>\n",
       "function mpld3_load_lib(url, callback){\n",
       "  var s = document.createElement('script');\n",
       "  s.src = url;\n",
       "  s.async = true;\n",
       "  s.onreadystatechange = s.onload = callback;\n",
       "  s.onerror = function(){console.warn(\"failed to load library \" + url);};\n",
       "  document.getElementsByTagName(\"head\")[0].appendChild(s);\n",
       "}\n",
       "\n",
       "if(typeof(mpld3) !== \"undefined\" && mpld3._mpld3IsLoaded){\n",
       "   // already loaded: just create the figure\n",
       "   !function(mpld3){\n",
       "       \n",
       "       mpld3.draw_figure(\"fig_el139351399564591323683964053753\", {\"axes\": [{\"xlim\": [-1.5, 31.5], \"yscale\": \"linear\", \"axesbg\": \"#FFFFFF\", \"texts\": [{\"v_baseline\": \"hanging\", \"h_anchor\": \"middle\", \"color\": \"#000000\", \"text\": \"Generation\", \"coordinates\": \"axes\", \"zorder\": 3, \"alpha\": 1, \"fontsize\": 10.0, \"position\": [0.49999999999999994, -0.09657836644591611], \"rotation\": -0.0, \"id\": \"el13935139956458614672\"}, {\"v_baseline\": \"auto\", \"h_anchor\": \"middle\", \"color\": \"#000000\", \"text\": \"Fitness\", \"coordinates\": \"axes\", \"zorder\": 3, \"alpha\": 1, \"fontsize\": 10.0, \"position\": [-0.08997909199522103, 0.49999999999999994], \"rotation\": -90.0, \"id\": \"el13935139956460672080\"}, {\"v_baseline\": \"auto\", \"h_anchor\": \"start\", \"color\": \"#000000\", \"text\": \"average\", \"coordinates\": \"axes\", \"zorder\": 1000003.0, \"alpha\": 1, \"fontsize\": 10.0, \"position\": [0.8234020310633213, 0.18855776306107433], \"rotation\": -0.0, \"id\": \"el13935139956458369104\"}, {\"v_baseline\": \"auto\", \"h_anchor\": \"start\", \"color\": \"#000000\", \"text\": \"minimum\", \"coordinates\": \"axes\", \"zorder\": 1000003.0, \"alpha\": 1, \"fontsize\": 10.0, \"position\": [0.8234020310633213, 0.11957321559970566], \"rotation\": -0.0, \"id\": \"el13935139956459828752\"}, {\"v_baseline\": \"auto\", \"h_anchor\": \"start\", \"color\": \"#000000\", \"text\": \"maximum\", \"coordinates\": \"axes\", \"zorder\": 1000003.0, \"alpha\": 1, \"fontsize\": 10.0, \"position\": [0.8234020310633213, 0.05058866813833701], \"rotation\": -0.0, \"id\": \"el13935139956459830480\"}], \"zoomable\": true, \"images\": [], \"xdomain\": [-1.5, 31.5], \"ylim\": [-8.526951301301288, 180.43877732732705], \"paths\": [{\"edgecolor\": \"#CCCCCC\", \"facecolor\": \"#FFFFFF\", \"edgewidth\": 1.0, \"pathcodes\": [\"M\", \"L\", \"S\", \"L\", \"S\", \"L\", \"S\", \"L\", \"S\", \"Z\"], \"yindex\": 1, \"coordinates\": \"axes\", \"dasharray\": \"none\", \"zorder\": 1000000.0, \"alpha\": 0.8, \"xindex\": 0, \"data\": \"data03\", \"id\": \"el13935139956458372688\"}], \"sharey\": [], \"sharex\": [], \"axesbgalpha\": null, \"axes\": [{\"scale\": \"linear\", \"tickformat\": null, \"grid\": {\"gridOn\": false}, \"visible\": true, \"fontsize\": 10.0, \"position\": \"bottom\", \"nticks\": 9, \"tickvalues\": null}, {\"scale\": \"linear\", \"tickformat\": null, \"grid\": {\"gridOn\": false}, \"visible\": true, \"fontsize\": 10.0, \"position\": \"left\", \"nticks\": 10, \"tickvalues\": null}], \"lines\": [{\"drawstyle\": \"default\", \"color\": \"#1F77B4\", \"yindex\": 1, \"coordinates\": \"data\", \"dasharray\": \"none\", \"zorder\": 2, \"alpha\": 1, \"xindex\": 0, \"linewidth\": 1.5, \"data\": \"data01\", \"id\": \"el13935139956458959696\"}, {\"drawstyle\": \"default\", \"color\": \"#FF7F0E\", \"yindex\": 2, \"coordinates\": \"data\", \"dasharray\": \"none\", \"zorder\": 2, \"alpha\": 1, \"xindex\": 0, \"linewidth\": 1.5, \"data\": \"data01\", \"id\": \"el13935139956458959888\"}, {\"drawstyle\": \"default\", \"color\": \"#2CA02C\", \"yindex\": 3, \"coordinates\": \"data\", \"dasharray\": \"none\", \"zorder\": 2, \"alpha\": 1, \"xindex\": 0, \"linewidth\": 1.5, \"data\": \"data01\", \"id\": \"el13935139956458960848\"}, {\"drawstyle\": \"default\", \"color\": \"#1F77B4\", \"yindex\": 1, \"coordinates\": \"axes\", \"dasharray\": \"none\", \"zorder\": 1000002.0, \"alpha\": 1, \"xindex\": 0, \"linewidth\": 1.5, \"data\": \"data02\", \"id\": \"el13935139956459827536\"}, {\"drawstyle\": \"default\", \"color\": \"#FF7F0E\", \"yindex\": 2, \"coordinates\": \"axes\", \"dasharray\": \"none\", \"zorder\": 1000002.0, \"alpha\": 1, \"xindex\": 0, \"linewidth\": 1.5, \"data\": \"data02\", \"id\": \"el13935139956459829264\"}, {\"drawstyle\": \"default\", \"color\": \"#2CA02C\", \"yindex\": 3, \"coordinates\": \"axes\", \"dasharray\": \"none\", \"zorder\": 1000002.0, \"alpha\": 1, \"xindex\": 0, \"linewidth\": 1.5, \"data\": \"data02\", \"id\": \"el13935139956494855504\"}], \"markers\": [], \"id\": \"el13935139956459427984\", \"ydomain\": [-8.526951301301288, 180.43877732732705], \"collections\": [], \"xscale\": \"linear\", \"bbox\": [0.125, 0.125, 0.775, 0.755]}], \"height\": 288.0, \"width\": 432.0, \"plugins\": [{\"type\": \"reset\"}, {\"enabled\": false, \"button\": true, \"type\": \"zoom\"}, {\"enabled\": false, \"button\": true, \"type\": \"boxzoom\"}], \"data\": {\"data02\": [[0.7397700119474313, 0.204654157468727, 0.13566961000735833, 0.0666850625459897], [0.7995071684587813, 0.204654157468727, 0.13566961000735833, 0.0666850625459897]], \"data03\": [[0.7337962962962963, 0.02299484915378955], [0.9790919952210274, 0.02299484915378955], [0.9850657108721624, 0.02299484915378955], [0.9850657108721624, 0.03219278881530538], [0.9850657108721624, 0.23454746136865343], [0.9850657108721624, 0.24374540103016926], [0.9790919952210274, 0.24374540103016926], [0.7337962962962963, 0.24374540103016926], [0.7278225806451613, 0.24374540103016926], [0.7278225806451613, 0.23454746136865343], [0.7278225806451613, 0.03219278881530538], [0.7278225806451613, 0.02299484915378955], [0.7337962962962963, 0.02299484915378955]], \"data01\": [[0.0, 35.11613320000001, 0.0624, 102.60359999999999], [1.0, 58.989403350951704, 0.8749000000000001, 108.36718068358583], [2.0, 71.60675143105165, 1.8380999999999998, 108.49195881333664], [3.0, 79.68588665532266, 5.4, 110.25417035609344], [4.0, 84.74716085710607, 12.33910662596783, 114.67091359786578], [5.0, 88.17887911656531, 29.696333323680907, 114.17430038991802], [6.0, 90.44397833073421, 32.3924, 120.49826269508333], [7.0, 92.09868335050479, 31.358751262378572, 122.33602782134514], [8.0, 93.84175692063349, 43.423742032198604, 129.40827636473824], [9.0, 95.34152012923373, 55.87417007432539, 130.21091381203178], [10.0, 96.49829144289583, 62.620837968153324, 130.21091381203178], [11.0, 97.51583555152936, 59.188275341199216, 130.21091381203178], [12.0, 98.63088324212332, 61.992595977914384, 137.2766530344558], [13.0, 99.38428158781079, 61.992595977914384, 142.65093948427355], [14.0, 100.64806490779203, 63.78354447870896, 142.65093948427355], [15.0, 101.63096402701501, 70.29677768234285, 142.65093948427355], [16.0, 102.94490513022095, 73.20307010746305, 145.2684306224647], [17.0, 104.51894579726083, 71.49744133411326, 146.95472653577457], [18.0, 105.3220712801523, 72.98398214267726, 143.17785446222965], [19.0, 106.4792783702222, 73.12938700985809, 143.8090484253158], [20.0, 107.74904765998924, 73.15042420130827, 146.96759110188492], [21.0, 109.36231528557197, 71.56236984970428, 151.2775248526104], [22.0, 110.73584483671581, 71.56236984970428, 151.2775248526104], [23.0, 112.47408285008413, 71.85635819680127, 159.18310571742157], [24.0, 114.7926772948907, 71.3196836552482, 165.48571240533016], [25.0, 116.27752540133507, 70.45899423554549, 165.48571240533016], [26.0, 117.47590428765953, 65.49564767348146, 165.48571240533016], [27.0, 118.58431611041698, 65.49564767348146, 168.10480013842422], [28.0, 120.5364340092955, 83.52720131004594, 165.38687318663986], [29.0, 122.48278002813558, 82.34652357113968, 169.90697417134035], [30.0, 123.5724219115602, 82.34652357113968, 171.84942602602575]]}, \"id\": \"el13935139956459132368\"});\n",
       "   }(mpld3);\n",
       "}else if(typeof define === \"function\" && define.amd){\n",
       "   // require.js is available: use it to load d3/mpld3\n",
       "   require.config({paths: {d3: \"https://mpld3.github.io/js/d3.v3.min\"}});\n",
       "   require([\"d3\"], function(d3){\n",
       "      window.d3 = d3;\n",
       "      mpld3_load_lib(\"https://mpld3.github.io/js/mpld3.v0.3.js\", function(){\n",
       "         \n",
       "         mpld3.draw_figure(\"fig_el139351399564591323683964053753\", {\"axes\": [{\"xlim\": [-1.5, 31.5], \"yscale\": \"linear\", \"axesbg\": \"#FFFFFF\", \"texts\": [{\"v_baseline\": \"hanging\", \"h_anchor\": \"middle\", \"color\": \"#000000\", \"text\": \"Generation\", \"coordinates\": \"axes\", \"zorder\": 3, \"alpha\": 1, \"fontsize\": 10.0, \"position\": [0.49999999999999994, -0.09657836644591611], \"rotation\": -0.0, \"id\": \"el13935139956458614672\"}, {\"v_baseline\": \"auto\", \"h_anchor\": \"middle\", \"color\": \"#000000\", \"text\": \"Fitness\", \"coordinates\": \"axes\", \"zorder\": 3, \"alpha\": 1, \"fontsize\": 10.0, \"position\": [-0.08997909199522103, 0.49999999999999994], \"rotation\": -90.0, \"id\": \"el13935139956460672080\"}, {\"v_baseline\": \"auto\", \"h_anchor\": \"start\", \"color\": \"#000000\", \"text\": \"average\", \"coordinates\": \"axes\", \"zorder\": 1000003.0, \"alpha\": 1, \"fontsize\": 10.0, \"position\": [0.8234020310633213, 0.18855776306107433], \"rotation\": -0.0, \"id\": \"el13935139956458369104\"}, {\"v_baseline\": \"auto\", \"h_anchor\": \"start\", \"color\": \"#000000\", \"text\": \"minimum\", \"coordinates\": \"axes\", \"zorder\": 1000003.0, \"alpha\": 1, \"fontsize\": 10.0, \"position\": [0.8234020310633213, 0.11957321559970566], \"rotation\": -0.0, \"id\": \"el13935139956459828752\"}, {\"v_baseline\": \"auto\", \"h_anchor\": \"start\", \"color\": \"#000000\", \"text\": \"maximum\", \"coordinates\": \"axes\", \"zorder\": 1000003.0, \"alpha\": 1, \"fontsize\": 10.0, \"position\": [0.8234020310633213, 0.05058866813833701], \"rotation\": -0.0, \"id\": \"el13935139956459830480\"}], \"zoomable\": true, \"images\": [], \"xdomain\": [-1.5, 31.5], \"ylim\": [-8.526951301301288, 180.43877732732705], \"paths\": [{\"edgecolor\": \"#CCCCCC\", \"facecolor\": \"#FFFFFF\", \"edgewidth\": 1.0, \"pathcodes\": [\"M\", \"L\", \"S\", \"L\", \"S\", \"L\", \"S\", \"L\", \"S\", \"Z\"], \"yindex\": 1, \"coordinates\": \"axes\", \"dasharray\": \"none\", \"zorder\": 1000000.0, \"alpha\": 0.8, \"xindex\": 0, \"data\": \"data03\", \"id\": \"el13935139956458372688\"}], \"sharey\": [], \"sharex\": [], \"axesbgalpha\": null, \"axes\": [{\"scale\": \"linear\", \"tickformat\": null, \"grid\": {\"gridOn\": false}, \"visible\": true, \"fontsize\": 10.0, \"position\": \"bottom\", \"nticks\": 9, \"tickvalues\": null}, {\"scale\": \"linear\", \"tickformat\": null, \"grid\": {\"gridOn\": false}, \"visible\": true, \"fontsize\": 10.0, \"position\": \"left\", \"nticks\": 10, \"tickvalues\": null}], \"lines\": [{\"drawstyle\": \"default\", \"color\": \"#1F77B4\", \"yindex\": 1, \"coordinates\": \"data\", \"dasharray\": \"none\", \"zorder\": 2, \"alpha\": 1, \"xindex\": 0, \"linewidth\": 1.5, \"data\": \"data01\", \"id\": \"el13935139956458959696\"}, {\"drawstyle\": \"default\", \"color\": \"#FF7F0E\", \"yindex\": 2, \"coordinates\": \"data\", \"dasharray\": \"none\", \"zorder\": 2, \"alpha\": 1, \"xindex\": 0, \"linewidth\": 1.5, \"data\": \"data01\", \"id\": \"el13935139956458959888\"}, {\"drawstyle\": \"default\", \"color\": \"#2CA02C\", \"yindex\": 3, \"coordinates\": \"data\", \"dasharray\": \"none\", \"zorder\": 2, \"alpha\": 1, \"xindex\": 0, \"linewidth\": 1.5, \"data\": \"data01\", \"id\": \"el13935139956458960848\"}, {\"drawstyle\": \"default\", \"color\": \"#1F77B4\", \"yindex\": 1, \"coordinates\": \"axes\", \"dasharray\": \"none\", \"zorder\": 1000002.0, \"alpha\": 1, \"xindex\": 0, \"linewidth\": 1.5, \"data\": \"data02\", \"id\": \"el13935139956459827536\"}, {\"drawstyle\": \"default\", \"color\": \"#FF7F0E\", \"yindex\": 2, \"coordinates\": \"axes\", \"dasharray\": \"none\", \"zorder\": 1000002.0, \"alpha\": 1, \"xindex\": 0, \"linewidth\": 1.5, \"data\": \"data02\", \"id\": \"el13935139956459829264\"}, {\"drawstyle\": \"default\", \"color\": \"#2CA02C\", \"yindex\": 3, \"coordinates\": \"axes\", \"dasharray\": \"none\", \"zorder\": 1000002.0, \"alpha\": 1, \"xindex\": 0, \"linewidth\": 1.5, \"data\": \"data02\", \"id\": \"el13935139956494855504\"}], \"markers\": [], \"id\": \"el13935139956459427984\", \"ydomain\": [-8.526951301301288, 180.43877732732705], \"collections\": [], \"xscale\": \"linear\", \"bbox\": [0.125, 0.125, 0.775, 0.755]}], \"height\": 288.0, \"width\": 432.0, \"plugins\": [{\"type\": \"reset\"}, {\"enabled\": false, \"button\": true, \"type\": \"zoom\"}, {\"enabled\": false, \"button\": true, \"type\": \"boxzoom\"}], \"data\": {\"data02\": [[0.7397700119474313, 0.204654157468727, 0.13566961000735833, 0.0666850625459897], [0.7995071684587813, 0.204654157468727, 0.13566961000735833, 0.0666850625459897]], \"data03\": [[0.7337962962962963, 0.02299484915378955], [0.9790919952210274, 0.02299484915378955], [0.9850657108721624, 0.02299484915378955], [0.9850657108721624, 0.03219278881530538], [0.9850657108721624, 0.23454746136865343], [0.9850657108721624, 0.24374540103016926], [0.9790919952210274, 0.24374540103016926], [0.7337962962962963, 0.24374540103016926], [0.7278225806451613, 0.24374540103016926], [0.7278225806451613, 0.23454746136865343], [0.7278225806451613, 0.03219278881530538], [0.7278225806451613, 0.02299484915378955], [0.7337962962962963, 0.02299484915378955]], \"data01\": [[0.0, 35.11613320000001, 0.0624, 102.60359999999999], [1.0, 58.989403350951704, 0.8749000000000001, 108.36718068358583], [2.0, 71.60675143105165, 1.8380999999999998, 108.49195881333664], [3.0, 79.68588665532266, 5.4, 110.25417035609344], [4.0, 84.74716085710607, 12.33910662596783, 114.67091359786578], [5.0, 88.17887911656531, 29.696333323680907, 114.17430038991802], [6.0, 90.44397833073421, 32.3924, 120.49826269508333], [7.0, 92.09868335050479, 31.358751262378572, 122.33602782134514], [8.0, 93.84175692063349, 43.423742032198604, 129.40827636473824], [9.0, 95.34152012923373, 55.87417007432539, 130.21091381203178], [10.0, 96.49829144289583, 62.620837968153324, 130.21091381203178], [11.0, 97.51583555152936, 59.188275341199216, 130.21091381203178], [12.0, 98.63088324212332, 61.992595977914384, 137.2766530344558], [13.0, 99.38428158781079, 61.992595977914384, 142.65093948427355], [14.0, 100.64806490779203, 63.78354447870896, 142.65093948427355], [15.0, 101.63096402701501, 70.29677768234285, 142.65093948427355], [16.0, 102.94490513022095, 73.20307010746305, 145.2684306224647], [17.0, 104.51894579726083, 71.49744133411326, 146.95472653577457], [18.0, 105.3220712801523, 72.98398214267726, 143.17785446222965], [19.0, 106.4792783702222, 73.12938700985809, 143.8090484253158], [20.0, 107.74904765998924, 73.15042420130827, 146.96759110188492], [21.0, 109.36231528557197, 71.56236984970428, 151.2775248526104], [22.0, 110.73584483671581, 71.56236984970428, 151.2775248526104], [23.0, 112.47408285008413, 71.85635819680127, 159.18310571742157], [24.0, 114.7926772948907, 71.3196836552482, 165.48571240533016], [25.0, 116.27752540133507, 70.45899423554549, 165.48571240533016], [26.0, 117.47590428765953, 65.49564767348146, 165.48571240533016], [27.0, 118.58431611041698, 65.49564767348146, 168.10480013842422], [28.0, 120.5364340092955, 83.52720131004594, 165.38687318663986], [29.0, 122.48278002813558, 82.34652357113968, 169.90697417134035], [30.0, 123.5724219115602, 82.34652357113968, 171.84942602602575]]}, \"id\": \"el13935139956459132368\"});\n",
       "      });\n",
       "    });\n",
       "}else{\n",
       "    // require.js not available: dynamically load d3 & mpld3\n",
       "    mpld3_load_lib(\"https://mpld3.github.io/js/d3.v3.min.js\", function(){\n",
       "         mpld3_load_lib(\"https://mpld3.github.io/js/mpld3.v0.3.js\", function(){\n",
       "                 \n",
       "                 mpld3.draw_figure(\"fig_el139351399564591323683964053753\", {\"axes\": [{\"xlim\": [-1.5, 31.5], \"yscale\": \"linear\", \"axesbg\": \"#FFFFFF\", \"texts\": [{\"v_baseline\": \"hanging\", \"h_anchor\": \"middle\", \"color\": \"#000000\", \"text\": \"Generation\", \"coordinates\": \"axes\", \"zorder\": 3, \"alpha\": 1, \"fontsize\": 10.0, \"position\": [0.49999999999999994, -0.09657836644591611], \"rotation\": -0.0, \"id\": \"el13935139956458614672\"}, {\"v_baseline\": \"auto\", \"h_anchor\": \"middle\", \"color\": \"#000000\", \"text\": \"Fitness\", \"coordinates\": \"axes\", \"zorder\": 3, \"alpha\": 1, \"fontsize\": 10.0, \"position\": [-0.08997909199522103, 0.49999999999999994], \"rotation\": -90.0, \"id\": \"el13935139956460672080\"}, {\"v_baseline\": \"auto\", \"h_anchor\": \"start\", \"color\": \"#000000\", \"text\": \"average\", \"coordinates\": \"axes\", \"zorder\": 1000003.0, \"alpha\": 1, \"fontsize\": 10.0, \"position\": [0.8234020310633213, 0.18855776306107433], \"rotation\": -0.0, \"id\": \"el13935139956458369104\"}, {\"v_baseline\": \"auto\", \"h_anchor\": \"start\", \"color\": \"#000000\", \"text\": \"minimum\", \"coordinates\": \"axes\", \"zorder\": 1000003.0, \"alpha\": 1, \"fontsize\": 10.0, \"position\": [0.8234020310633213, 0.11957321559970566], \"rotation\": -0.0, \"id\": \"el13935139956459828752\"}, {\"v_baseline\": \"auto\", \"h_anchor\": \"start\", \"color\": \"#000000\", \"text\": \"maximum\", \"coordinates\": \"axes\", \"zorder\": 1000003.0, \"alpha\": 1, \"fontsize\": 10.0, \"position\": [0.8234020310633213, 0.05058866813833701], \"rotation\": -0.0, \"id\": \"el13935139956459830480\"}], \"zoomable\": true, \"images\": [], \"xdomain\": [-1.5, 31.5], \"ylim\": [-8.526951301301288, 180.43877732732705], \"paths\": [{\"edgecolor\": \"#CCCCCC\", \"facecolor\": \"#FFFFFF\", \"edgewidth\": 1.0, \"pathcodes\": [\"M\", \"L\", \"S\", \"L\", \"S\", \"L\", \"S\", \"L\", \"S\", \"Z\"], \"yindex\": 1, \"coordinates\": \"axes\", \"dasharray\": \"none\", \"zorder\": 1000000.0, \"alpha\": 0.8, \"xindex\": 0, \"data\": \"data03\", \"id\": \"el13935139956458372688\"}], \"sharey\": [], \"sharex\": [], \"axesbgalpha\": null, \"axes\": [{\"scale\": \"linear\", \"tickformat\": null, \"grid\": {\"gridOn\": false}, \"visible\": true, \"fontsize\": 10.0, \"position\": \"bottom\", \"nticks\": 9, \"tickvalues\": null}, {\"scale\": \"linear\", \"tickformat\": null, \"grid\": {\"gridOn\": false}, \"visible\": true, \"fontsize\": 10.0, \"position\": \"left\", \"nticks\": 10, \"tickvalues\": null}], \"lines\": [{\"drawstyle\": \"default\", \"color\": \"#1F77B4\", \"yindex\": 1, \"coordinates\": \"data\", \"dasharray\": \"none\", \"zorder\": 2, \"alpha\": 1, \"xindex\": 0, \"linewidth\": 1.5, \"data\": \"data01\", \"id\": \"el13935139956458959696\"}, {\"drawstyle\": \"default\", \"color\": \"#FF7F0E\", \"yindex\": 2, \"coordinates\": \"data\", \"dasharray\": \"none\", \"zorder\": 2, \"alpha\": 1, \"xindex\": 0, \"linewidth\": 1.5, \"data\": \"data01\", \"id\": \"el13935139956458959888\"}, {\"drawstyle\": \"default\", \"color\": \"#2CA02C\", \"yindex\": 3, \"coordinates\": \"data\", \"dasharray\": \"none\", \"zorder\": 2, \"alpha\": 1, \"xindex\": 0, \"linewidth\": 1.5, \"data\": \"data01\", \"id\": \"el13935139956458960848\"}, {\"drawstyle\": \"default\", \"color\": \"#1F77B4\", \"yindex\": 1, \"coordinates\": \"axes\", \"dasharray\": \"none\", \"zorder\": 1000002.0, \"alpha\": 1, \"xindex\": 0, \"linewidth\": 1.5, \"data\": \"data02\", \"id\": \"el13935139956459827536\"}, {\"drawstyle\": \"default\", \"color\": \"#FF7F0E\", \"yindex\": 2, \"coordinates\": \"axes\", \"dasharray\": \"none\", \"zorder\": 1000002.0, \"alpha\": 1, \"xindex\": 0, \"linewidth\": 1.5, \"data\": \"data02\", \"id\": \"el13935139956459829264\"}, {\"drawstyle\": \"default\", \"color\": \"#2CA02C\", \"yindex\": 3, \"coordinates\": \"axes\", \"dasharray\": \"none\", \"zorder\": 1000002.0, \"alpha\": 1, \"xindex\": 0, \"linewidth\": 1.5, \"data\": \"data02\", \"id\": \"el13935139956494855504\"}], \"markers\": [], \"id\": \"el13935139956459427984\", \"ydomain\": [-8.526951301301288, 180.43877732732705], \"collections\": [], \"xscale\": \"linear\", \"bbox\": [0.125, 0.125, 0.775, 0.755]}], \"height\": 288.0, \"width\": 432.0, \"plugins\": [{\"type\": \"reset\"}, {\"enabled\": false, \"button\": true, \"type\": \"zoom\"}, {\"enabled\": false, \"button\": true, \"type\": \"boxzoom\"}], \"data\": {\"data02\": [[0.7397700119474313, 0.204654157468727, 0.13566961000735833, 0.0666850625459897], [0.7995071684587813, 0.204654157468727, 0.13566961000735833, 0.0666850625459897]], \"data03\": [[0.7337962962962963, 0.02299484915378955], [0.9790919952210274, 0.02299484915378955], [0.9850657108721624, 0.02299484915378955], [0.9850657108721624, 0.03219278881530538], [0.9850657108721624, 0.23454746136865343], [0.9850657108721624, 0.24374540103016926], [0.9790919952210274, 0.24374540103016926], [0.7337962962962963, 0.24374540103016926], [0.7278225806451613, 0.24374540103016926], [0.7278225806451613, 0.23454746136865343], [0.7278225806451613, 0.03219278881530538], [0.7278225806451613, 0.02299484915378955], [0.7337962962962963, 0.02299484915378955]], \"data01\": [[0.0, 35.11613320000001, 0.0624, 102.60359999999999], [1.0, 58.989403350951704, 0.8749000000000001, 108.36718068358583], [2.0, 71.60675143105165, 1.8380999999999998, 108.49195881333664], [3.0, 79.68588665532266, 5.4, 110.25417035609344], [4.0, 84.74716085710607, 12.33910662596783, 114.67091359786578], [5.0, 88.17887911656531, 29.696333323680907, 114.17430038991802], [6.0, 90.44397833073421, 32.3924, 120.49826269508333], [7.0, 92.09868335050479, 31.358751262378572, 122.33602782134514], [8.0, 93.84175692063349, 43.423742032198604, 129.40827636473824], [9.0, 95.34152012923373, 55.87417007432539, 130.21091381203178], [10.0, 96.49829144289583, 62.620837968153324, 130.21091381203178], [11.0, 97.51583555152936, 59.188275341199216, 130.21091381203178], [12.0, 98.63088324212332, 61.992595977914384, 137.2766530344558], [13.0, 99.38428158781079, 61.992595977914384, 142.65093948427355], [14.0, 100.64806490779203, 63.78354447870896, 142.65093948427355], [15.0, 101.63096402701501, 70.29677768234285, 142.65093948427355], [16.0, 102.94490513022095, 73.20307010746305, 145.2684306224647], [17.0, 104.51894579726083, 71.49744133411326, 146.95472653577457], [18.0, 105.3220712801523, 72.98398214267726, 143.17785446222965], [19.0, 106.4792783702222, 73.12938700985809, 143.8090484253158], [20.0, 107.74904765998924, 73.15042420130827, 146.96759110188492], [21.0, 109.36231528557197, 71.56236984970428, 151.2775248526104], [22.0, 110.73584483671581, 71.56236984970428, 151.2775248526104], [23.0, 112.47408285008413, 71.85635819680127, 159.18310571742157], [24.0, 114.7926772948907, 71.3196836552482, 165.48571240533016], [25.0, 116.27752540133507, 70.45899423554549, 165.48571240533016], [26.0, 117.47590428765953, 65.49564767348146, 165.48571240533016], [27.0, 118.58431611041698, 65.49564767348146, 168.10480013842422], [28.0, 120.5364340092955, 83.52720131004594, 165.38687318663986], [29.0, 122.48278002813558, 82.34652357113968, 169.90697417134035], [30.0, 123.5724219115602, 82.34652357113968, 171.84942602602575]]}, \"id\": \"el13935139956459132368\"});\n",
       "            })\n",
       "         });\n",
       "}\n",
       "</script>"
      ],
      "text/plain": [
       "<Figure size 432x288 with 1 Axes>"
      ]
     },
     "metadata": {
      "needs_background": "light"
     },
     "output_type": "display_data"
    }
   ],
   "source": [
    "if __name__ == \"__main__\":\n",
    "    pop, log, hof = main()\n",
    "    print(\"Best individual is: %s\\nwith fitness: %s\" % (hof[0], hof[0].fitness))\n",
    "    gen, avg, min_, max_ = log.select(\"gen\", \"avg\", \"min\", \"max\")\n",
    "    plt.plot(gen, avg, label=\"average\")\n",
    "    plt.plot(gen, min_, label=\"minimum\")\n",
    "    plt.plot(gen, max_, label=\"maximum\")\n",
    "    plt.xlabel(\"Generation\")\n",
    "    plt.ylabel(\"Fitness\")\n",
    "    plt.legend(loc=\"lower right\")"
   ]
  }
 ],
 "metadata": {
  "kernelspec": {
   "display_name": "Python 2",
   "language": "python",
   "name": "python2"
  },
  "language_info": {
   "codemirror_mode": {
    "name": "ipython",
    "version": 2
   },
   "file_extension": ".py",
   "mimetype": "text/x-python",
   "name": "python",
   "nbconvert_exporter": "python",
   "pygments_lexer": "ipython2",
   "version": "2.7.15rc1"
  }
 },
 "nbformat": 4,
 "nbformat_minor": 1
}
